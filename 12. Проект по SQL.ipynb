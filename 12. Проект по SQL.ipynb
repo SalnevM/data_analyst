{
 "cells": [
  {
   "cell_type": "markdown",
   "metadata": {},
   "source": [
    "# Проект по SQL"
   ]
  },
  {
   "cell_type": "markdown",
   "metadata": {},
   "source": [
    "**Описание работы:** Коронавирус застал мир врасплох, изменив привычный порядок вещей. В свободное время жители городов больше не выходят на улицу, не посещают кафе и торговые центры. Зато стало больше времени для книг. Это заметили стартаперы — и бросились создавать приложения для тех, кто любит читать.\n",
    "Ваша компания решила быть на волне и купила крупный сервис для чтения книг по подписке. Ваша первая задача как аналитика — проанализировать базу данных. В ней — информация о книгах, издательствах, авторах, а также пользовательские обзоры книг. Эти данные помогут сформулировать ценностное предложение для нового продукта.\n",
    "\n",
    "**Цель:** изучить базу даннных и сформулировать ценность нового продукта\n",
    "\n",
    "**Описание данных:** \n",
    "\n",
    "**Таблица `books`**\n",
    "\n",
    "Содержит данные о книгах:\n",
    "\n",
    "- `book_id` — идентификатор книги;\n",
    "- `author_id` — идентификатор автора;\n",
    "- `title` — название книги;\n",
    "- `num_pages` — количество страниц;\n",
    "- `publication_date` — дата публикации книги;\n",
    "- `publisher_id` — идентификатор издателя.\n",
    "\n",
    "**Таблица `authors`**\n",
    "\n",
    "Содержит данные об авторах:\n",
    "\n",
    "- `author_id` — идентификатор автора;\n",
    "- `author` — имя автора.\n",
    "\n",
    "**Таблица `publishers`**\n",
    "\n",
    "Содержит данные об издательствах:\n",
    "\n",
    "- `publisher_id` — идентификатор издательства;\n",
    "- `publisher` — название издательства;\n",
    "\n",
    "**Таблица `ratings`**\n",
    "\n",
    "Содержит данные о пользовательских оценках книг:\n",
    "\n",
    "- `rating_id` — идентификатор оценки;\n",
    "- `book_id` — идентификатор книги;\n",
    "- `username` — имя пользователя, оставившего оценку;\n",
    "- `rating` — оценка книги.\n",
    "\n",
    "**Таблица `reviews`**\n",
    "\n",
    "Содержит данные о пользовательских обзорах на книги:\n",
    "\n",
    "- `review_id` — идентификатор обзора;\n",
    "- `book_id` — идентификатор книги;\n",
    "- `username` — имя пользователя, написавшего обзор;\n",
    "- `text` — текст обзора.\n",
    "\n",
    "Содержание работы:\n",
    "1. Подключение к БД и просмотр имеющихся таблиц\n",
    "2. Исследование таблиц и вывод по требуемым вопросам:\n",
    "- Посчитайте, сколько книг вышло после 1 января 2000 года;\n",
    "- Для каждой книги посчитайте количество обзоров и среднюю оценку;\n",
    "- Определите издательство, которое выпустило наибольшее число книг толще 50 страниц — так вы исключите из анализа брошюры;\n",
    "- Определите автора с самой высокой средней оценкой книг — учитывайте только книги с 50 и более оценками;\n",
    "- Посчитайте среднее количество обзоров от пользователей, которые поставили больше 48 оценок.\n",
    "3. Вывод\n"
   ]
  },
  {
   "cell_type": "markdown",
   "metadata": {},
   "source": []
  },
  {
   "cell_type": "markdown",
   "metadata": {},
   "source": [
    "## Подключение к БД и просмотр таблиц"
   ]
  },
  {
   "cell_type": "code",
   "execution_count": 1,
   "metadata": {},
   "outputs": [],
   "source": [
    "# импортируем библиотеки\n",
    "import pandas as pd\n",
    "from sqlalchemy import text, create_engine\n",
    "# устанавливаем параметры\n",
    "db_config = {'user': 'praktikum_student', # имя пользователя\n",
    "'pwd': 'Sdf4$2;d-d30pp', # пароль\n",
    "'host': 'rc1b-wcoijxj3yxfsf3fs.mdb.yandexcloud.net',\n",
    "'port': 6432, # порт подключения\n",
    "'db': 'data-analyst-final-project-db'} # название базы данных\n",
    "connection_string = 'postgresql://{user}:{pwd}@{host}:{port}/{db}'.format(**db_config)\n",
    "# сохраняем коннектор\n",
    "engine = create_engine(connection_string, connect_args={'sslmode':'require'})\n",
    "# чтобы выполнить SQL-запрос, используем Pandas"
   ]
  },
  {
   "cell_type": "code",
   "execution_count": 2,
   "metadata": {
    "scrolled": false
   },
   "outputs": [
    {
     "name": "stdout",
     "output_type": "stream",
     "text": [
      "<class 'pandas.core.frame.DataFrame'>\n",
      "RangeIndex: 636 entries, 0 to 635\n",
      "Data columns (total 2 columns):\n",
      " #   Column     Non-Null Count  Dtype \n",
      "---  ------     --------------  ----- \n",
      " 0   author_id  636 non-null    int64 \n",
      " 1   author     636 non-null    object\n",
      "dtypes: int64(1), object(1)\n",
      "memory usage: 10.1+ KB\n"
     ]
    },
    {
     "data": {
      "text/plain": [
       "None"
      ]
     },
     "metadata": {},
     "output_type": "display_data"
    },
    {
     "data": {
      "text/html": [
       "<div>\n",
       "<style scoped>\n",
       "    .dataframe tbody tr th:only-of-type {\n",
       "        vertical-align: middle;\n",
       "    }\n",
       "\n",
       "    .dataframe tbody tr th {\n",
       "        vertical-align: top;\n",
       "    }\n",
       "\n",
       "    .dataframe thead th {\n",
       "        text-align: right;\n",
       "    }\n",
       "</style>\n",
       "<table border=\"1\" class=\"dataframe\">\n",
       "  <thead>\n",
       "    <tr style=\"text-align: right;\">\n",
       "      <th></th>\n",
       "      <th>author_id</th>\n",
       "      <th>author</th>\n",
       "    </tr>\n",
       "  </thead>\n",
       "  <tbody>\n",
       "    <tr>\n",
       "      <th>0</th>\n",
       "      <td>1</td>\n",
       "      <td>A.S. Byatt</td>\n",
       "    </tr>\n",
       "    <tr>\n",
       "      <th>1</th>\n",
       "      <td>2</td>\n",
       "      <td>Aesop/Laura Harris/Laura Gibbs</td>\n",
       "    </tr>\n",
       "    <tr>\n",
       "      <th>2</th>\n",
       "      <td>3</td>\n",
       "      <td>Agatha Christie</td>\n",
       "    </tr>\n",
       "    <tr>\n",
       "      <th>3</th>\n",
       "      <td>4</td>\n",
       "      <td>Alan Brennert</td>\n",
       "    </tr>\n",
       "    <tr>\n",
       "      <th>4</th>\n",
       "      <td>5</td>\n",
       "      <td>Alan Moore/David   Lloyd</td>\n",
       "    </tr>\n",
       "  </tbody>\n",
       "</table>\n",
       "</div>"
      ],
      "text/plain": [
       "   author_id                          author\n",
       "0          1                      A.S. Byatt\n",
       "1          2  Aesop/Laura Harris/Laura Gibbs\n",
       "2          3                 Agatha Christie\n",
       "3          4                   Alan Brennert\n",
       "4          5        Alan Moore/David   Lloyd"
      ]
     },
     "metadata": {},
     "output_type": "display_data"
    },
    {
     "data": {
      "text/plain": [
       "None"
      ]
     },
     "metadata": {},
     "output_type": "display_data"
    },
    {
     "name": "stdout",
     "output_type": "stream",
     "text": [
      "<class 'pandas.core.frame.DataFrame'>\n",
      "RangeIndex: 1000 entries, 0 to 999\n",
      "Data columns (total 6 columns):\n",
      " #   Column            Non-Null Count  Dtype \n",
      "---  ------            --------------  ----- \n",
      " 0   book_id           1000 non-null   int64 \n",
      " 1   author_id         1000 non-null   int64 \n",
      " 2   title             1000 non-null   object\n",
      " 3   num_pages         1000 non-null   int64 \n",
      " 4   publication_date  1000 non-null   object\n",
      " 5   publisher_id      1000 non-null   int64 \n",
      "dtypes: int64(4), object(2)\n",
      "memory usage: 47.0+ KB\n"
     ]
    },
    {
     "data": {
      "text/plain": [
       "None"
      ]
     },
     "metadata": {},
     "output_type": "display_data"
    },
    {
     "data": {
      "text/html": [
       "<div>\n",
       "<style scoped>\n",
       "    .dataframe tbody tr th:only-of-type {\n",
       "        vertical-align: middle;\n",
       "    }\n",
       "\n",
       "    .dataframe tbody tr th {\n",
       "        vertical-align: top;\n",
       "    }\n",
       "\n",
       "    .dataframe thead th {\n",
       "        text-align: right;\n",
       "    }\n",
       "</style>\n",
       "<table border=\"1\" class=\"dataframe\">\n",
       "  <thead>\n",
       "    <tr style=\"text-align: right;\">\n",
       "      <th></th>\n",
       "      <th>book_id</th>\n",
       "      <th>author_id</th>\n",
       "      <th>title</th>\n",
       "      <th>num_pages</th>\n",
       "      <th>publication_date</th>\n",
       "      <th>publisher_id</th>\n",
       "    </tr>\n",
       "  </thead>\n",
       "  <tbody>\n",
       "    <tr>\n",
       "      <th>0</th>\n",
       "      <td>1</td>\n",
       "      <td>546</td>\n",
       "      <td>'Salem's Lot</td>\n",
       "      <td>594</td>\n",
       "      <td>2005-11-01</td>\n",
       "      <td>93</td>\n",
       "    </tr>\n",
       "    <tr>\n",
       "      <th>1</th>\n",
       "      <td>2</td>\n",
       "      <td>465</td>\n",
       "      <td>1 000 Places to See Before You Die</td>\n",
       "      <td>992</td>\n",
       "      <td>2003-05-22</td>\n",
       "      <td>336</td>\n",
       "    </tr>\n",
       "    <tr>\n",
       "      <th>2</th>\n",
       "      <td>3</td>\n",
       "      <td>407</td>\n",
       "      <td>13 Little Blue Envelopes (Little Blue Envelope...</td>\n",
       "      <td>322</td>\n",
       "      <td>2010-12-21</td>\n",
       "      <td>135</td>\n",
       "    </tr>\n",
       "    <tr>\n",
       "      <th>3</th>\n",
       "      <td>4</td>\n",
       "      <td>82</td>\n",
       "      <td>1491: New Revelations of the Americas Before C...</td>\n",
       "      <td>541</td>\n",
       "      <td>2006-10-10</td>\n",
       "      <td>309</td>\n",
       "    </tr>\n",
       "    <tr>\n",
       "      <th>4</th>\n",
       "      <td>5</td>\n",
       "      <td>125</td>\n",
       "      <td>1776</td>\n",
       "      <td>386</td>\n",
       "      <td>2006-07-04</td>\n",
       "      <td>268</td>\n",
       "    </tr>\n",
       "  </tbody>\n",
       "</table>\n",
       "</div>"
      ],
      "text/plain": [
       "   book_id  author_id                                              title  \\\n",
       "0        1        546                                       'Salem's Lot   \n",
       "1        2        465                 1 000 Places to See Before You Die   \n",
       "2        3        407  13 Little Blue Envelopes (Little Blue Envelope...   \n",
       "3        4         82  1491: New Revelations of the Americas Before C...   \n",
       "4        5        125                                               1776   \n",
       "\n",
       "   num_pages publication_date  publisher_id  \n",
       "0        594       2005-11-01            93  \n",
       "1        992       2003-05-22           336  \n",
       "2        322       2010-12-21           135  \n",
       "3        541       2006-10-10           309  \n",
       "4        386       2006-07-04           268  "
      ]
     },
     "metadata": {},
     "output_type": "display_data"
    },
    {
     "data": {
      "text/plain": [
       "None"
      ]
     },
     "metadata": {},
     "output_type": "display_data"
    },
    {
     "name": "stdout",
     "output_type": "stream",
     "text": [
      "<class 'pandas.core.frame.DataFrame'>\n",
      "RangeIndex: 6456 entries, 0 to 6455\n",
      "Data columns (total 4 columns):\n",
      " #   Column     Non-Null Count  Dtype \n",
      "---  ------     --------------  ----- \n",
      " 0   rating_id  6456 non-null   int64 \n",
      " 1   book_id    6456 non-null   int64 \n",
      " 2   username   6456 non-null   object\n",
      " 3   rating     6456 non-null   int64 \n",
      "dtypes: int64(3), object(1)\n",
      "memory usage: 201.9+ KB\n"
     ]
    },
    {
     "data": {
      "text/plain": [
       "None"
      ]
     },
     "metadata": {},
     "output_type": "display_data"
    },
    {
     "data": {
      "text/html": [
       "<div>\n",
       "<style scoped>\n",
       "    .dataframe tbody tr th:only-of-type {\n",
       "        vertical-align: middle;\n",
       "    }\n",
       "\n",
       "    .dataframe tbody tr th {\n",
       "        vertical-align: top;\n",
       "    }\n",
       "\n",
       "    .dataframe thead th {\n",
       "        text-align: right;\n",
       "    }\n",
       "</style>\n",
       "<table border=\"1\" class=\"dataframe\">\n",
       "  <thead>\n",
       "    <tr style=\"text-align: right;\">\n",
       "      <th></th>\n",
       "      <th>rating_id</th>\n",
       "      <th>book_id</th>\n",
       "      <th>username</th>\n",
       "      <th>rating</th>\n",
       "    </tr>\n",
       "  </thead>\n",
       "  <tbody>\n",
       "    <tr>\n",
       "      <th>0</th>\n",
       "      <td>1</td>\n",
       "      <td>1</td>\n",
       "      <td>ryanfranco</td>\n",
       "      <td>4</td>\n",
       "    </tr>\n",
       "    <tr>\n",
       "      <th>1</th>\n",
       "      <td>2</td>\n",
       "      <td>1</td>\n",
       "      <td>grantpatricia</td>\n",
       "      <td>2</td>\n",
       "    </tr>\n",
       "    <tr>\n",
       "      <th>2</th>\n",
       "      <td>3</td>\n",
       "      <td>1</td>\n",
       "      <td>brandtandrea</td>\n",
       "      <td>5</td>\n",
       "    </tr>\n",
       "    <tr>\n",
       "      <th>3</th>\n",
       "      <td>4</td>\n",
       "      <td>2</td>\n",
       "      <td>lorichen</td>\n",
       "      <td>3</td>\n",
       "    </tr>\n",
       "    <tr>\n",
       "      <th>4</th>\n",
       "      <td>5</td>\n",
       "      <td>2</td>\n",
       "      <td>mariokeller</td>\n",
       "      <td>2</td>\n",
       "    </tr>\n",
       "  </tbody>\n",
       "</table>\n",
       "</div>"
      ],
      "text/plain": [
       "   rating_id  book_id       username  rating\n",
       "0          1        1     ryanfranco       4\n",
       "1          2        1  grantpatricia       2\n",
       "2          3        1   brandtandrea       5\n",
       "3          4        2       lorichen       3\n",
       "4          5        2    mariokeller       2"
      ]
     },
     "metadata": {},
     "output_type": "display_data"
    },
    {
     "data": {
      "text/plain": [
       "None"
      ]
     },
     "metadata": {},
     "output_type": "display_data"
    },
    {
     "name": "stdout",
     "output_type": "stream",
     "text": [
      "<class 'pandas.core.frame.DataFrame'>\n",
      "RangeIndex: 2793 entries, 0 to 2792\n",
      "Data columns (total 4 columns):\n",
      " #   Column     Non-Null Count  Dtype \n",
      "---  ------     --------------  ----- \n",
      " 0   review_id  2793 non-null   int64 \n",
      " 1   book_id    2793 non-null   int64 \n",
      " 2   username   2793 non-null   object\n",
      " 3   text       2793 non-null   object\n",
      "dtypes: int64(2), object(2)\n",
      "memory usage: 87.4+ KB\n"
     ]
    },
    {
     "data": {
      "text/plain": [
       "None"
      ]
     },
     "metadata": {},
     "output_type": "display_data"
    },
    {
     "data": {
      "text/html": [
       "<div>\n",
       "<style scoped>\n",
       "    .dataframe tbody tr th:only-of-type {\n",
       "        vertical-align: middle;\n",
       "    }\n",
       "\n",
       "    .dataframe tbody tr th {\n",
       "        vertical-align: top;\n",
       "    }\n",
       "\n",
       "    .dataframe thead th {\n",
       "        text-align: right;\n",
       "    }\n",
       "</style>\n",
       "<table border=\"1\" class=\"dataframe\">\n",
       "  <thead>\n",
       "    <tr style=\"text-align: right;\">\n",
       "      <th></th>\n",
       "      <th>review_id</th>\n",
       "      <th>book_id</th>\n",
       "      <th>username</th>\n",
       "      <th>text</th>\n",
       "    </tr>\n",
       "  </thead>\n",
       "  <tbody>\n",
       "    <tr>\n",
       "      <th>0</th>\n",
       "      <td>1</td>\n",
       "      <td>1</td>\n",
       "      <td>brandtandrea</td>\n",
       "      <td>Mention society tell send professor analysis. ...</td>\n",
       "    </tr>\n",
       "    <tr>\n",
       "      <th>1</th>\n",
       "      <td>2</td>\n",
       "      <td>1</td>\n",
       "      <td>ryanfranco</td>\n",
       "      <td>Foot glass pretty audience hit themselves. Amo...</td>\n",
       "    </tr>\n",
       "    <tr>\n",
       "      <th>2</th>\n",
       "      <td>3</td>\n",
       "      <td>2</td>\n",
       "      <td>lorichen</td>\n",
       "      <td>Listen treat keep worry. Miss husband tax but ...</td>\n",
       "    </tr>\n",
       "    <tr>\n",
       "      <th>3</th>\n",
       "      <td>4</td>\n",
       "      <td>3</td>\n",
       "      <td>johnsonamanda</td>\n",
       "      <td>Finally month interesting blue could nature cu...</td>\n",
       "    </tr>\n",
       "    <tr>\n",
       "      <th>4</th>\n",
       "      <td>5</td>\n",
       "      <td>3</td>\n",
       "      <td>scotttamara</td>\n",
       "      <td>Nation purpose heavy give wait song will. List...</td>\n",
       "    </tr>\n",
       "  </tbody>\n",
       "</table>\n",
       "</div>"
      ],
      "text/plain": [
       "   review_id  book_id       username  \\\n",
       "0          1        1   brandtandrea   \n",
       "1          2        1     ryanfranco   \n",
       "2          3        2       lorichen   \n",
       "3          4        3  johnsonamanda   \n",
       "4          5        3    scotttamara   \n",
       "\n",
       "                                                text  \n",
       "0  Mention society tell send professor analysis. ...  \n",
       "1  Foot glass pretty audience hit themselves. Amo...  \n",
       "2  Listen treat keep worry. Miss husband tax but ...  \n",
       "3  Finally month interesting blue could nature cu...  \n",
       "4  Nation purpose heavy give wait song will. List...  "
      ]
     },
     "metadata": {},
     "output_type": "display_data"
    },
    {
     "data": {
      "text/plain": [
       "None"
      ]
     },
     "metadata": {},
     "output_type": "display_data"
    },
    {
     "name": "stdout",
     "output_type": "stream",
     "text": [
      "<class 'pandas.core.frame.DataFrame'>\n",
      "RangeIndex: 340 entries, 0 to 339\n",
      "Data columns (total 2 columns):\n",
      " #   Column        Non-Null Count  Dtype \n",
      "---  ------        --------------  ----- \n",
      " 0   publisher_id  340 non-null    int64 \n",
      " 1   publisher     340 non-null    object\n",
      "dtypes: int64(1), object(1)\n",
      "memory usage: 5.4+ KB\n"
     ]
    },
    {
     "data": {
      "text/plain": [
       "None"
      ]
     },
     "metadata": {},
     "output_type": "display_data"
    },
    {
     "data": {
      "text/html": [
       "<div>\n",
       "<style scoped>\n",
       "    .dataframe tbody tr th:only-of-type {\n",
       "        vertical-align: middle;\n",
       "    }\n",
       "\n",
       "    .dataframe tbody tr th {\n",
       "        vertical-align: top;\n",
       "    }\n",
       "\n",
       "    .dataframe thead th {\n",
       "        text-align: right;\n",
       "    }\n",
       "</style>\n",
       "<table border=\"1\" class=\"dataframe\">\n",
       "  <thead>\n",
       "    <tr style=\"text-align: right;\">\n",
       "      <th></th>\n",
       "      <th>publisher_id</th>\n",
       "      <th>publisher</th>\n",
       "    </tr>\n",
       "  </thead>\n",
       "  <tbody>\n",
       "    <tr>\n",
       "      <th>0</th>\n",
       "      <td>1</td>\n",
       "      <td>Ace</td>\n",
       "    </tr>\n",
       "    <tr>\n",
       "      <th>1</th>\n",
       "      <td>2</td>\n",
       "      <td>Ace Book</td>\n",
       "    </tr>\n",
       "    <tr>\n",
       "      <th>2</th>\n",
       "      <td>3</td>\n",
       "      <td>Ace Books</td>\n",
       "    </tr>\n",
       "    <tr>\n",
       "      <th>3</th>\n",
       "      <td>4</td>\n",
       "      <td>Ace Hardcover</td>\n",
       "    </tr>\n",
       "    <tr>\n",
       "      <th>4</th>\n",
       "      <td>5</td>\n",
       "      <td>Addison Wesley Publishing Company</td>\n",
       "    </tr>\n",
       "  </tbody>\n",
       "</table>\n",
       "</div>"
      ],
      "text/plain": [
       "   publisher_id                          publisher\n",
       "0             1                                Ace\n",
       "1             2                           Ace Book\n",
       "2             3                          Ace Books\n",
       "3             4                      Ace Hardcover\n",
       "4             5  Addison Wesley Publishing Company"
      ]
     },
     "metadata": {},
     "output_type": "display_data"
    },
    {
     "data": {
      "text/plain": [
       "None"
      ]
     },
     "metadata": {},
     "output_type": "display_data"
    }
   ],
   "source": [
    "for query in ['''SELECT *\n",
    "FROM authors ''', '''SELECT *\n",
    "FROM books''', '''SELECT *\n",
    "FROM ratings''', '''SELECT *\n",
    "FROM reviews''', '''SELECT *\n",
    "FROM publishers''']:\n",
    "    data = pd.io.sql.read_sql(query, con = engine)\n",
    "    display(data.head(), display(data.info()))"
   ]
  },
  {
   "cell_type": "markdown",
   "metadata": {},
   "source": [
    "Запишем каждую таблицу в переменную:"
   ]
  },
  {
   "cell_type": "code",
   "execution_count": 3,
   "metadata": {
    "scrolled": false
   },
   "outputs": [
    {
     "name": "stdout",
     "output_type": "stream",
     "text": [
      "Таблица books\n",
      "<class 'pandas.core.frame.DataFrame'>\n",
      "RangeIndex: 1000 entries, 0 to 999\n",
      "Data columns (total 6 columns):\n",
      " #   Column            Non-Null Count  Dtype \n",
      "---  ------            --------------  ----- \n",
      " 0   book_id           1000 non-null   int64 \n",
      " 1   author_id         1000 non-null   int64 \n",
      " 2   title             1000 non-null   object\n",
      " 3   num_pages         1000 non-null   int64 \n",
      " 4   publication_date  1000 non-null   object\n",
      " 5   publisher_id      1000 non-null   int64 \n",
      "dtypes: int64(4), object(2)\n",
      "memory usage: 47.0+ KB\n"
     ]
    },
    {
     "data": {
      "text/plain": [
       "None"
      ]
     },
     "metadata": {},
     "output_type": "display_data"
    },
    {
     "data": {
      "text/html": [
       "<div>\n",
       "<style scoped>\n",
       "    .dataframe tbody tr th:only-of-type {\n",
       "        vertical-align: middle;\n",
       "    }\n",
       "\n",
       "    .dataframe tbody tr th {\n",
       "        vertical-align: top;\n",
       "    }\n",
       "\n",
       "    .dataframe thead th {\n",
       "        text-align: right;\n",
       "    }\n",
       "</style>\n",
       "<table border=\"1\" class=\"dataframe\">\n",
       "  <thead>\n",
       "    <tr style=\"text-align: right;\">\n",
       "      <th></th>\n",
       "      <th>book_id</th>\n",
       "      <th>author_id</th>\n",
       "      <th>title</th>\n",
       "      <th>num_pages</th>\n",
       "      <th>publication_date</th>\n",
       "      <th>publisher_id</th>\n",
       "    </tr>\n",
       "  </thead>\n",
       "  <tbody>\n",
       "    <tr>\n",
       "      <th>0</th>\n",
       "      <td>1</td>\n",
       "      <td>546</td>\n",
       "      <td>'Salem's Lot</td>\n",
       "      <td>594</td>\n",
       "      <td>2005-11-01</td>\n",
       "      <td>93</td>\n",
       "    </tr>\n",
       "    <tr>\n",
       "      <th>1</th>\n",
       "      <td>2</td>\n",
       "      <td>465</td>\n",
       "      <td>1 000 Places to See Before You Die</td>\n",
       "      <td>992</td>\n",
       "      <td>2003-05-22</td>\n",
       "      <td>336</td>\n",
       "    </tr>\n",
       "    <tr>\n",
       "      <th>2</th>\n",
       "      <td>3</td>\n",
       "      <td>407</td>\n",
       "      <td>13 Little Blue Envelopes (Little Blue Envelope...</td>\n",
       "      <td>322</td>\n",
       "      <td>2010-12-21</td>\n",
       "      <td>135</td>\n",
       "    </tr>\n",
       "    <tr>\n",
       "      <th>3</th>\n",
       "      <td>4</td>\n",
       "      <td>82</td>\n",
       "      <td>1491: New Revelations of the Americas Before C...</td>\n",
       "      <td>541</td>\n",
       "      <td>2006-10-10</td>\n",
       "      <td>309</td>\n",
       "    </tr>\n",
       "    <tr>\n",
       "      <th>4</th>\n",
       "      <td>5</td>\n",
       "      <td>125</td>\n",
       "      <td>1776</td>\n",
       "      <td>386</td>\n",
       "      <td>2006-07-04</td>\n",
       "      <td>268</td>\n",
       "    </tr>\n",
       "  </tbody>\n",
       "</table>\n",
       "</div>"
      ],
      "text/plain": [
       "   book_id  author_id                                              title  \\\n",
       "0        1        546                                       'Salem's Lot   \n",
       "1        2        465                 1 000 Places to See Before You Die   \n",
       "2        3        407  13 Little Blue Envelopes (Little Blue Envelope...   \n",
       "3        4         82  1491: New Revelations of the Americas Before C...   \n",
       "4        5        125                                               1776   \n",
       "\n",
       "   num_pages publication_date  publisher_id  \n",
       "0        594       2005-11-01            93  \n",
       "1        992       2003-05-22           336  \n",
       "2        322       2010-12-21           135  \n",
       "3        541       2006-10-10           309  \n",
       "4        386       2006-07-04           268  "
      ]
     },
     "metadata": {},
     "output_type": "display_data"
    },
    {
     "data": {
      "text/plain": [
       "None"
      ]
     },
     "metadata": {},
     "output_type": "display_data"
    },
    {
     "name": "stdout",
     "output_type": "stream",
     "text": [
      "\n",
      "Таблица authors\n",
      "<class 'pandas.core.frame.DataFrame'>\n",
      "RangeIndex: 636 entries, 0 to 635\n",
      "Data columns (total 2 columns):\n",
      " #   Column     Non-Null Count  Dtype \n",
      "---  ------     --------------  ----- \n",
      " 0   author_id  636 non-null    int64 \n",
      " 1   author     636 non-null    object\n",
      "dtypes: int64(1), object(1)\n",
      "memory usage: 10.1+ KB\n"
     ]
    },
    {
     "data": {
      "text/plain": [
       "None"
      ]
     },
     "metadata": {},
     "output_type": "display_data"
    },
    {
     "data": {
      "text/html": [
       "<div>\n",
       "<style scoped>\n",
       "    .dataframe tbody tr th:only-of-type {\n",
       "        vertical-align: middle;\n",
       "    }\n",
       "\n",
       "    .dataframe tbody tr th {\n",
       "        vertical-align: top;\n",
       "    }\n",
       "\n",
       "    .dataframe thead th {\n",
       "        text-align: right;\n",
       "    }\n",
       "</style>\n",
       "<table border=\"1\" class=\"dataframe\">\n",
       "  <thead>\n",
       "    <tr style=\"text-align: right;\">\n",
       "      <th></th>\n",
       "      <th>author_id</th>\n",
       "      <th>author</th>\n",
       "    </tr>\n",
       "  </thead>\n",
       "  <tbody>\n",
       "    <tr>\n",
       "      <th>0</th>\n",
       "      <td>1</td>\n",
       "      <td>A.S. Byatt</td>\n",
       "    </tr>\n",
       "    <tr>\n",
       "      <th>1</th>\n",
       "      <td>2</td>\n",
       "      <td>Aesop/Laura Harris/Laura Gibbs</td>\n",
       "    </tr>\n",
       "    <tr>\n",
       "      <th>2</th>\n",
       "      <td>3</td>\n",
       "      <td>Agatha Christie</td>\n",
       "    </tr>\n",
       "    <tr>\n",
       "      <th>3</th>\n",
       "      <td>4</td>\n",
       "      <td>Alan Brennert</td>\n",
       "    </tr>\n",
       "    <tr>\n",
       "      <th>4</th>\n",
       "      <td>5</td>\n",
       "      <td>Alan Moore/David   Lloyd</td>\n",
       "    </tr>\n",
       "  </tbody>\n",
       "</table>\n",
       "</div>"
      ],
      "text/plain": [
       "   author_id                          author\n",
       "0          1                      A.S. Byatt\n",
       "1          2  Aesop/Laura Harris/Laura Gibbs\n",
       "2          3                 Agatha Christie\n",
       "3          4                   Alan Brennert\n",
       "4          5        Alan Moore/David   Lloyd"
      ]
     },
     "metadata": {},
     "output_type": "display_data"
    },
    {
     "data": {
      "text/plain": [
       "None"
      ]
     },
     "metadata": {},
     "output_type": "display_data"
    },
    {
     "name": "stdout",
     "output_type": "stream",
     "text": [
      "\n",
      "Таблица ratings\n",
      "<class 'pandas.core.frame.DataFrame'>\n",
      "RangeIndex: 6456 entries, 0 to 6455\n",
      "Data columns (total 4 columns):\n",
      " #   Column     Non-Null Count  Dtype \n",
      "---  ------     --------------  ----- \n",
      " 0   rating_id  6456 non-null   int64 \n",
      " 1   book_id    6456 non-null   int64 \n",
      " 2   username   6456 non-null   object\n",
      " 3   rating     6456 non-null   int64 \n",
      "dtypes: int64(3), object(1)\n",
      "memory usage: 201.9+ KB\n"
     ]
    },
    {
     "data": {
      "text/plain": [
       "None"
      ]
     },
     "metadata": {},
     "output_type": "display_data"
    },
    {
     "data": {
      "text/html": [
       "<div>\n",
       "<style scoped>\n",
       "    .dataframe tbody tr th:only-of-type {\n",
       "        vertical-align: middle;\n",
       "    }\n",
       "\n",
       "    .dataframe tbody tr th {\n",
       "        vertical-align: top;\n",
       "    }\n",
       "\n",
       "    .dataframe thead th {\n",
       "        text-align: right;\n",
       "    }\n",
       "</style>\n",
       "<table border=\"1\" class=\"dataframe\">\n",
       "  <thead>\n",
       "    <tr style=\"text-align: right;\">\n",
       "      <th></th>\n",
       "      <th>rating_id</th>\n",
       "      <th>book_id</th>\n",
       "      <th>username</th>\n",
       "      <th>rating</th>\n",
       "    </tr>\n",
       "  </thead>\n",
       "  <tbody>\n",
       "    <tr>\n",
       "      <th>0</th>\n",
       "      <td>1</td>\n",
       "      <td>1</td>\n",
       "      <td>ryanfranco</td>\n",
       "      <td>4</td>\n",
       "    </tr>\n",
       "    <tr>\n",
       "      <th>1</th>\n",
       "      <td>2</td>\n",
       "      <td>1</td>\n",
       "      <td>grantpatricia</td>\n",
       "      <td>2</td>\n",
       "    </tr>\n",
       "    <tr>\n",
       "      <th>2</th>\n",
       "      <td>3</td>\n",
       "      <td>1</td>\n",
       "      <td>brandtandrea</td>\n",
       "      <td>5</td>\n",
       "    </tr>\n",
       "    <tr>\n",
       "      <th>3</th>\n",
       "      <td>4</td>\n",
       "      <td>2</td>\n",
       "      <td>lorichen</td>\n",
       "      <td>3</td>\n",
       "    </tr>\n",
       "    <tr>\n",
       "      <th>4</th>\n",
       "      <td>5</td>\n",
       "      <td>2</td>\n",
       "      <td>mariokeller</td>\n",
       "      <td>2</td>\n",
       "    </tr>\n",
       "  </tbody>\n",
       "</table>\n",
       "</div>"
      ],
      "text/plain": [
       "   rating_id  book_id       username  rating\n",
       "0          1        1     ryanfranco       4\n",
       "1          2        1  grantpatricia       2\n",
       "2          3        1   brandtandrea       5\n",
       "3          4        2       lorichen       3\n",
       "4          5        2    mariokeller       2"
      ]
     },
     "metadata": {},
     "output_type": "display_data"
    },
    {
     "data": {
      "text/plain": [
       "None"
      ]
     },
     "metadata": {},
     "output_type": "display_data"
    },
    {
     "name": "stdout",
     "output_type": "stream",
     "text": [
      "\n",
      "Таблица reviews\n",
      "<class 'pandas.core.frame.DataFrame'>\n",
      "RangeIndex: 2793 entries, 0 to 2792\n",
      "Data columns (total 4 columns):\n",
      " #   Column     Non-Null Count  Dtype \n",
      "---  ------     --------------  ----- \n",
      " 0   review_id  2793 non-null   int64 \n",
      " 1   book_id    2793 non-null   int64 \n",
      " 2   username   2793 non-null   object\n",
      " 3   text       2793 non-null   object\n",
      "dtypes: int64(2), object(2)\n",
      "memory usage: 87.4+ KB\n"
     ]
    },
    {
     "data": {
      "text/plain": [
       "None"
      ]
     },
     "metadata": {},
     "output_type": "display_data"
    },
    {
     "data": {
      "text/html": [
       "<div>\n",
       "<style scoped>\n",
       "    .dataframe tbody tr th:only-of-type {\n",
       "        vertical-align: middle;\n",
       "    }\n",
       "\n",
       "    .dataframe tbody tr th {\n",
       "        vertical-align: top;\n",
       "    }\n",
       "\n",
       "    .dataframe thead th {\n",
       "        text-align: right;\n",
       "    }\n",
       "</style>\n",
       "<table border=\"1\" class=\"dataframe\">\n",
       "  <thead>\n",
       "    <tr style=\"text-align: right;\">\n",
       "      <th></th>\n",
       "      <th>review_id</th>\n",
       "      <th>book_id</th>\n",
       "      <th>username</th>\n",
       "      <th>text</th>\n",
       "    </tr>\n",
       "  </thead>\n",
       "  <tbody>\n",
       "    <tr>\n",
       "      <th>0</th>\n",
       "      <td>1</td>\n",
       "      <td>1</td>\n",
       "      <td>brandtandrea</td>\n",
       "      <td>Mention society tell send professor analysis. ...</td>\n",
       "    </tr>\n",
       "    <tr>\n",
       "      <th>1</th>\n",
       "      <td>2</td>\n",
       "      <td>1</td>\n",
       "      <td>ryanfranco</td>\n",
       "      <td>Foot glass pretty audience hit themselves. Amo...</td>\n",
       "    </tr>\n",
       "    <tr>\n",
       "      <th>2</th>\n",
       "      <td>3</td>\n",
       "      <td>2</td>\n",
       "      <td>lorichen</td>\n",
       "      <td>Listen treat keep worry. Miss husband tax but ...</td>\n",
       "    </tr>\n",
       "    <tr>\n",
       "      <th>3</th>\n",
       "      <td>4</td>\n",
       "      <td>3</td>\n",
       "      <td>johnsonamanda</td>\n",
       "      <td>Finally month interesting blue could nature cu...</td>\n",
       "    </tr>\n",
       "    <tr>\n",
       "      <th>4</th>\n",
       "      <td>5</td>\n",
       "      <td>3</td>\n",
       "      <td>scotttamara</td>\n",
       "      <td>Nation purpose heavy give wait song will. List...</td>\n",
       "    </tr>\n",
       "  </tbody>\n",
       "</table>\n",
       "</div>"
      ],
      "text/plain": [
       "   review_id  book_id       username  \\\n",
       "0          1        1   brandtandrea   \n",
       "1          2        1     ryanfranco   \n",
       "2          3        2       lorichen   \n",
       "3          4        3  johnsonamanda   \n",
       "4          5        3    scotttamara   \n",
       "\n",
       "                                                text  \n",
       "0  Mention society tell send professor analysis. ...  \n",
       "1  Foot glass pretty audience hit themselves. Amo...  \n",
       "2  Listen treat keep worry. Miss husband tax but ...  \n",
       "3  Finally month interesting blue could nature cu...  \n",
       "4  Nation purpose heavy give wait song will. List...  "
      ]
     },
     "metadata": {},
     "output_type": "display_data"
    },
    {
     "data": {
      "text/plain": [
       "None"
      ]
     },
     "metadata": {},
     "output_type": "display_data"
    },
    {
     "name": "stdout",
     "output_type": "stream",
     "text": [
      "\n",
      "Таблица publishers\n",
      "<class 'pandas.core.frame.DataFrame'>\n",
      "RangeIndex: 340 entries, 0 to 339\n",
      "Data columns (total 2 columns):\n",
      " #   Column        Non-Null Count  Dtype \n",
      "---  ------        --------------  ----- \n",
      " 0   publisher_id  340 non-null    int64 \n",
      " 1   publisher     340 non-null    object\n",
      "dtypes: int64(1), object(1)\n",
      "memory usage: 5.4+ KB\n"
     ]
    },
    {
     "data": {
      "text/plain": [
       "None"
      ]
     },
     "metadata": {},
     "output_type": "display_data"
    },
    {
     "data": {
      "text/html": [
       "<div>\n",
       "<style scoped>\n",
       "    .dataframe tbody tr th:only-of-type {\n",
       "        vertical-align: middle;\n",
       "    }\n",
       "\n",
       "    .dataframe tbody tr th {\n",
       "        vertical-align: top;\n",
       "    }\n",
       "\n",
       "    .dataframe thead th {\n",
       "        text-align: right;\n",
       "    }\n",
       "</style>\n",
       "<table border=\"1\" class=\"dataframe\">\n",
       "  <thead>\n",
       "    <tr style=\"text-align: right;\">\n",
       "      <th></th>\n",
       "      <th>publisher_id</th>\n",
       "      <th>publisher</th>\n",
       "    </tr>\n",
       "  </thead>\n",
       "  <tbody>\n",
       "    <tr>\n",
       "      <th>0</th>\n",
       "      <td>1</td>\n",
       "      <td>Ace</td>\n",
       "    </tr>\n",
       "    <tr>\n",
       "      <th>1</th>\n",
       "      <td>2</td>\n",
       "      <td>Ace Book</td>\n",
       "    </tr>\n",
       "    <tr>\n",
       "      <th>2</th>\n",
       "      <td>3</td>\n",
       "      <td>Ace Books</td>\n",
       "    </tr>\n",
       "    <tr>\n",
       "      <th>3</th>\n",
       "      <td>4</td>\n",
       "      <td>Ace Hardcover</td>\n",
       "    </tr>\n",
       "    <tr>\n",
       "      <th>4</th>\n",
       "      <td>5</td>\n",
       "      <td>Addison Wesley Publishing Company</td>\n",
       "    </tr>\n",
       "  </tbody>\n",
       "</table>\n",
       "</div>"
      ],
      "text/plain": [
       "   publisher_id                          publisher\n",
       "0             1                                Ace\n",
       "1             2                           Ace Book\n",
       "2             3                          Ace Books\n",
       "3             4                      Ace Hardcover\n",
       "4             5  Addison Wesley Publishing Company"
      ]
     },
     "metadata": {},
     "output_type": "display_data"
    },
    {
     "data": {
      "text/plain": [
       "None"
      ]
     },
     "metadata": {},
     "output_type": "display_data"
    },
    {
     "name": "stdout",
     "output_type": "stream",
     "text": [
      "\n"
     ]
    }
   ],
   "source": [
    "def get_data(table, engine):\n",
    "    \n",
    "    \"\"\" Функция для получения данных из таблицы в БД \"\"\"\n",
    "    \n",
    "    query = '''SELECT * FROM {}'''.format(table)\n",
    "    data = pd.io.sql.read_sql(query, con = engine)\n",
    "    print(\"Таблица\", table)\n",
    "    display(data.head(), display(data.info()))\n",
    "    print()\n",
    "    return data\n",
    "\n",
    "books = get_data('books', engine)\n",
    "authors = get_data('authors', engine)\n",
    "ratings = get_data('ratings', engine)\n",
    "reviews = get_data('reviews', engine)\n",
    "publishers = get_data('publishers', engine)"
   ]
  },
  {
   "cell_type": "markdown",
   "metadata": {},
   "source": [
    "## Исследование таблиц\n",
    "\n",
    "На данном этапе нам необходимо по каждой таблице сделать SQL запрос и вывести требуемые данные"
   ]
  },
  {
   "cell_type": "markdown",
   "metadata": {},
   "source": [
    "### Сколько книг вышло после 1 января 2000 года"
   ]
  },
  {
   "cell_type": "code",
   "execution_count": 4,
   "metadata": {
    "scrolled": true
   },
   "outputs": [
    {
     "data": {
      "text/html": [
       "<div>\n",
       "<style scoped>\n",
       "    .dataframe tbody tr th:only-of-type {\n",
       "        vertical-align: middle;\n",
       "    }\n",
       "\n",
       "    .dataframe tbody tr th {\n",
       "        vertical-align: top;\n",
       "    }\n",
       "\n",
       "    .dataframe thead th {\n",
       "        text-align: right;\n",
       "    }\n",
       "</style>\n",
       "<table border=\"1\" class=\"dataframe\">\n",
       "  <thead>\n",
       "    <tr style=\"text-align: right;\">\n",
       "      <th></th>\n",
       "      <th>count</th>\n",
       "    </tr>\n",
       "  </thead>\n",
       "  <tbody>\n",
       "    <tr>\n",
       "      <th>0</th>\n",
       "      <td>821</td>\n",
       "    </tr>\n",
       "  </tbody>\n",
       "</table>\n",
       "</div>"
      ],
      "text/plain": [
       "   count\n",
       "0    821"
      ]
     },
     "metadata": {},
     "output_type": "display_data"
    }
   ],
   "source": [
    "query = '''\n",
    "SELECT COUNT(*)\n",
    "FROM books\n",
    "WHERE CAST(publication_date AS TIMESTAMP)>=CAST('2000-01-01' AS TIMESTAMP)\n",
    "'''\n",
    "\n",
    "data_books = pd.io.sql.read_sql(query, con = engine)\n",
    "display(data_books)"
   ]
  },
  {
   "cell_type": "markdown",
   "metadata": {},
   "source": [
    "### Сколько вышло обзоров для каждой книги и какая средняя оценка"
   ]
  },
  {
   "cell_type": "code",
   "execution_count": 5,
   "metadata": {
    "scrolled": true
   },
   "outputs": [
    {
     "data": {
      "text/html": [
       "<div>\n",
       "<style scoped>\n",
       "    .dataframe tbody tr th:only-of-type {\n",
       "        vertical-align: middle;\n",
       "    }\n",
       "\n",
       "    .dataframe tbody tr th {\n",
       "        vertical-align: top;\n",
       "    }\n",
       "\n",
       "    .dataframe thead th {\n",
       "        text-align: right;\n",
       "    }\n",
       "</style>\n",
       "<table border=\"1\" class=\"dataframe\">\n",
       "  <thead>\n",
       "    <tr style=\"text-align: right;\">\n",
       "      <th></th>\n",
       "      <th>title</th>\n",
       "      <th>count</th>\n",
       "      <th>r</th>\n",
       "    </tr>\n",
       "  </thead>\n",
       "  <tbody>\n",
       "    <tr>\n",
       "      <th>0</th>\n",
       "      <td>Arrows of the Queen (Heralds of Valdemar  #1)</td>\n",
       "      <td>2</td>\n",
       "      <td>5.00</td>\n",
       "    </tr>\n",
       "    <tr>\n",
       "      <th>1</th>\n",
       "      <td>The Walking Dead  Book One (The Walking Dead #...</td>\n",
       "      <td>2</td>\n",
       "      <td>5.00</td>\n",
       "    </tr>\n",
       "    <tr>\n",
       "      <th>2</th>\n",
       "      <td>Light in August</td>\n",
       "      <td>2</td>\n",
       "      <td>5.00</td>\n",
       "    </tr>\n",
       "    <tr>\n",
       "      <th>3</th>\n",
       "      <td>Wherever You Go  There You Are: Mindfulness Me...</td>\n",
       "      <td>2</td>\n",
       "      <td>5.00</td>\n",
       "    </tr>\n",
       "    <tr>\n",
       "      <th>4</th>\n",
       "      <td>Captivating: Unveiling the Mystery of a Woman'...</td>\n",
       "      <td>2</td>\n",
       "      <td>5.00</td>\n",
       "    </tr>\n",
       "    <tr>\n",
       "      <th>...</th>\n",
       "      <td>...</td>\n",
       "      <td>...</td>\n",
       "      <td>...</td>\n",
       "    </tr>\n",
       "    <tr>\n",
       "      <th>995</th>\n",
       "      <td>The World Is Flat: A Brief History of the Twen...</td>\n",
       "      <td>3</td>\n",
       "      <td>2.25</td>\n",
       "    </tr>\n",
       "    <tr>\n",
       "      <th>996</th>\n",
       "      <td>His Excellency: George Washington</td>\n",
       "      <td>2</td>\n",
       "      <td>2.00</td>\n",
       "    </tr>\n",
       "    <tr>\n",
       "      <th>997</th>\n",
       "      <td>Drowning Ruth</td>\n",
       "      <td>3</td>\n",
       "      <td>2.00</td>\n",
       "    </tr>\n",
       "    <tr>\n",
       "      <th>998</th>\n",
       "      <td>Junky</td>\n",
       "      <td>2</td>\n",
       "      <td>2.00</td>\n",
       "    </tr>\n",
       "    <tr>\n",
       "      <th>999</th>\n",
       "      <td>Harvesting the Heart</td>\n",
       "      <td>2</td>\n",
       "      <td>1.50</td>\n",
       "    </tr>\n",
       "  </tbody>\n",
       "</table>\n",
       "<p>1000 rows × 3 columns</p>\n",
       "</div>"
      ],
      "text/plain": [
       "                                                 title  count     r\n",
       "0        Arrows of the Queen (Heralds of Valdemar  #1)      2  5.00\n",
       "1    The Walking Dead  Book One (The Walking Dead #...      2  5.00\n",
       "2                                      Light in August      2  5.00\n",
       "3    Wherever You Go  There You Are: Mindfulness Me...      2  5.00\n",
       "4    Captivating: Unveiling the Mystery of a Woman'...      2  5.00\n",
       "..                                                 ...    ...   ...\n",
       "995  The World Is Flat: A Brief History of the Twen...      3  2.25\n",
       "996                  His Excellency: George Washington      2  2.00\n",
       "997                                      Drowning Ruth      3  2.00\n",
       "998                                              Junky      2  2.00\n",
       "999                               Harvesting the Heart      2  1.50\n",
       "\n",
       "[1000 rows x 3 columns]"
      ]
     },
     "execution_count": 5,
     "metadata": {},
     "output_type": "execute_result"
    }
   ],
   "source": [
    "query = '''\n",
    "SELECT b.title,\n",
    "         COUNT(DISTINCT rw.review_id),\n",
    "         ROUND(AVG(r.rating),\n",
    "         2) AS R\n",
    "FROM books AS b LEFT OUTER\n",
    "JOIN reviews AS rw\n",
    "    ON rw.book_id = b.book_id LEFT OUTER\n",
    "JOIN ratings AS r\n",
    "    ON r.book_id = b.book_id\n",
    "GROUP BY  b.book_id\n",
    "ORDER BY  R DESC;\n",
    "'''\n",
    "\n",
    "count_avg = pd.io.sql.read_sql(query, con = engine)\n",
    "count_avg"
   ]
  },
  {
   "cell_type": "markdown",
   "metadata": {},
   "source": [
    "### Издательство, которое выпустило наибольшее число книг толще 50 страниц(исключим брошюры)"
   ]
  },
  {
   "cell_type": "code",
   "execution_count": 6,
   "metadata": {},
   "outputs": [
    {
     "data": {
      "text/html": [
       "<div>\n",
       "<style scoped>\n",
       "    .dataframe tbody tr th:only-of-type {\n",
       "        vertical-align: middle;\n",
       "    }\n",
       "\n",
       "    .dataframe tbody tr th {\n",
       "        vertical-align: top;\n",
       "    }\n",
       "\n",
       "    .dataframe thead th {\n",
       "        text-align: right;\n",
       "    }\n",
       "</style>\n",
       "<table border=\"1\" class=\"dataframe\">\n",
       "  <thead>\n",
       "    <tr style=\"text-align: right;\">\n",
       "      <th></th>\n",
       "      <th>publisher</th>\n",
       "      <th>count</th>\n",
       "    </tr>\n",
       "  </thead>\n",
       "  <tbody>\n",
       "    <tr>\n",
       "      <th>0</th>\n",
       "      <td>Penguin Books</td>\n",
       "      <td>42</td>\n",
       "    </tr>\n",
       "  </tbody>\n",
       "</table>\n",
       "</div>"
      ],
      "text/plain": [
       "       publisher  count\n",
       "0  Penguin Books     42"
      ]
     },
     "execution_count": 6,
     "metadata": {},
     "output_type": "execute_result"
    }
   ],
   "source": [
    "query = '''\n",
    "SELECT p.publisher,\n",
    "         COUNT(b.book_id)\n",
    "FROM publishers AS p\n",
    "JOIN books AS b\n",
    "    ON p.publisher_id = b.publisher_id\n",
    "WHERE b.num_pages > 50\n",
    "GROUP BY  p.publisher_id\n",
    "ORDER BY  COUNT(b.book_id) DESC LIMIT 1\n",
    "'''\n",
    "\n",
    "publishers = pd.io.sql.read_sql(query, con = engine)\n",
    "publishers"
   ]
  },
  {
   "cell_type": "markdown",
   "metadata": {},
   "source": []
  },
  {
   "cell_type": "markdown",
   "metadata": {},
   "source": [
    "### Определение автора с самой высокой средней оценкой книг — учитывайте только книги с 50 и более оценками"
   ]
  },
  {
   "cell_type": "code",
   "execution_count": 13,
   "metadata": {},
   "outputs": [
    {
     "data": {
      "text/html": [
       "<div>\n",
       "<style scoped>\n",
       "    .dataframe tbody tr th:only-of-type {\n",
       "        vertical-align: middle;\n",
       "    }\n",
       "\n",
       "    .dataframe tbody tr th {\n",
       "        vertical-align: top;\n",
       "    }\n",
       "\n",
       "    .dataframe thead th {\n",
       "        text-align: right;\n",
       "    }\n",
       "</style>\n",
       "<table border=\"1\" class=\"dataframe\">\n",
       "  <thead>\n",
       "    <tr style=\"text-align: right;\">\n",
       "      <th></th>\n",
       "      <th>author</th>\n",
       "      <th>avg_rating</th>\n",
       "    </tr>\n",
       "  </thead>\n",
       "  <tbody>\n",
       "    <tr>\n",
       "      <th>0</th>\n",
       "      <td>J.K. Rowling/Mary GrandPré</td>\n",
       "      <td>4.287097</td>\n",
       "    </tr>\n",
       "  </tbody>\n",
       "</table>\n",
       "</div>"
      ],
      "text/plain": [
       "                       author  avg_rating\n",
       "0  J.K. Rowling/Mary GrandPré    4.287097"
      ]
     },
     "execution_count": 13,
     "metadata": {},
     "output_type": "execute_result"
    }
   ],
   "source": [
    "query = '''\n",
    "SELECT a.author,\n",
    "         AVG(r.rating) avg_rating\n",
    "FROM authors AS a\n",
    "JOIN books AS b\n",
    "    ON a.author_id = b.author_id\n",
    "JOIN ratings AS r\n",
    "    ON b.book_id = r.book_id\n",
    "WHERE b.book_id IN \n",
    "    (SELECT b.book_id\n",
    "    FROM books AS b\n",
    "    JOIN ratings AS r\n",
    "        ON b.book_id=r.book_id\n",
    "    GROUP BY  b.book_id\n",
    "    HAVING COUNT(r.rating_id)>=50)\n",
    "GROUP BY  a.author\n",
    "ORDER BY  avg_rating DESC LIMIT 1\n",
    "'''\n",
    "\n",
    "author_max = pd.io.sql.read_sql(query, con = engine)\n",
    "author_max"
   ]
  },
  {
   "cell_type": "markdown",
   "metadata": {},
   "source": [
    "### Расчет среднего количества обзоров от пользователей, которые поставили больше 48 оценок"
   ]
  },
  {
   "cell_type": "code",
   "execution_count": null,
   "metadata": {},
   "outputs": [],
   "source": [
    "query = '''\n",
    "WITH A AS \n",
    "    (SELECT username,\n",
    "         count(review_id)\n",
    "    FROM reviews\n",
    "    WHERE username IN \n",
    "        (SELECT username\n",
    "        FROM ratings\n",
    "        GROUP BY  username\n",
    "        HAVING count(rating_id)>48)\n",
    "        GROUP BY  username)\n",
    "    SELECT round (SUM (COUNT) / COUNT(COUNT),\n",
    "         2) AS AVG\n",
    "FROM A\n",
    "'''\n",
    "\n",
    "users = pd.io.sql.read_sql(query, con = engine)\n",
    "users"
   ]
  },
  {
   "cell_type": "markdown",
   "metadata": {},
   "source": [
    "## Вывод"
   ]
  },
  {
   "cell_type": "markdown",
   "metadata": {},
   "source": [
    "Был проведен анализ данных при помощи SQL запросов к БД. В нескольких таблиц тип данных нескольких столбцов определился не верно. Это небоходимо исправить, если потребуется какой-либо расчет. В ходе работы тип данных неоднократно правился для корректного выполнения условия задачи. Результат изучения: После 1 января 2000 года вышла 821 книга. По каждой книге было рассчитано количество обзоров и ее средний рейтинг. Самое популярное издательство которое выпустило наибольшее число книг толще 50 страниц это Penguin Books с кол-вом книг 42. Авто с самой высокой средней оценкой книг - J.K. Rowling/Mary GrandPré с рейтингом 4,29 балла. Среднее количество обзоров от пользователей, которые поставили больше 48 оценок составило 24."
   ]
  }
 ],
 "metadata": {
  "ExecuteTimeLog": [
   {
    "duration": 10850,
    "start_time": "2023-07-25T12:22:26.436Z"
   },
   {
    "duration": 143,
    "start_time": "2023-07-25T12:29:01.425Z"
   },
   {
    "duration": 101,
    "start_time": "2023-07-25T12:29:14.313Z"
   },
   {
    "duration": 79,
    "start_time": "2023-07-25T12:29:18.451Z"
   },
   {
    "duration": 280,
    "start_time": "2023-07-25T12:29:53.204Z"
   },
   {
    "duration": 13,
    "start_time": "2023-07-25T12:29:59.700Z"
   },
   {
    "duration": 9,
    "start_time": "2023-07-25T12:30:04.354Z"
   },
   {
    "duration": 15,
    "start_time": "2023-07-25T12:30:05.809Z"
   },
   {
    "duration": 80,
    "start_time": "2023-07-25T17:05:54.754Z"
   },
   {
    "duration": 12252,
    "start_time": "2023-07-25T17:06:01.940Z"
   },
   {
    "duration": 75,
    "start_time": "2023-07-25T17:06:16.234Z"
   },
   {
    "duration": 143,
    "start_time": "2023-07-25T17:07:49.529Z"
   },
   {
    "duration": 96,
    "start_time": "2023-07-25T17:08:01.054Z"
   },
   {
    "duration": 135,
    "start_time": "2023-07-25T17:08:07.472Z"
   },
   {
    "duration": 5,
    "start_time": "2023-07-25T17:08:30.166Z"
   },
   {
    "duration": 13243,
    "start_time": "2023-07-25T17:08:35.283Z"
   },
   {
    "duration": 178,
    "start_time": "2023-07-25T17:08:48.532Z"
   },
   {
    "duration": 124,
    "start_time": "2023-07-25T17:09:43.151Z"
   },
   {
    "duration": 114,
    "start_time": "2023-07-25T17:09:49.428Z"
   },
   {
    "duration": 124,
    "start_time": "2023-07-25T17:09:56.155Z"
   },
   {
    "duration": 231,
    "start_time": "2023-07-25T17:10:02.371Z"
   },
   {
    "duration": 152,
    "start_time": "2023-07-25T17:10:28.843Z"
   },
   {
    "duration": 344,
    "start_time": "2023-07-25T17:10:57.491Z"
   },
   {
    "duration": 148,
    "start_time": "2023-07-25T17:13:12.655Z"
   },
   {
    "duration": 124,
    "start_time": "2023-07-25T17:13:18.877Z"
   },
   {
    "duration": 114,
    "start_time": "2023-07-25T17:13:33.747Z"
   },
   {
    "duration": 146,
    "start_time": "2023-07-25T17:14:11.755Z"
   },
   {
    "duration": 53,
    "start_time": "2023-07-25T17:20:03.058Z"
   },
   {
    "duration": 99,
    "start_time": "2023-07-25T17:20:41.161Z"
   },
   {
    "duration": 124,
    "start_time": "2023-07-25T17:20:58.840Z"
   },
   {
    "duration": 122,
    "start_time": "2023-07-25T17:21:04.566Z"
   },
   {
    "duration": 146,
    "start_time": "2023-07-25T17:21:06.365Z"
   },
   {
    "duration": 7,
    "start_time": "2023-07-25T17:21:48.955Z"
   },
   {
    "duration": 29,
    "start_time": "2023-07-25T17:24:34.352Z"
   },
   {
    "duration": 104,
    "start_time": "2023-07-25T17:25:31.097Z"
   },
   {
    "duration": 86,
    "start_time": "2023-07-25T17:25:42.339Z"
   },
   {
    "duration": 155,
    "start_time": "2023-07-25T17:26:26.297Z"
   },
   {
    "duration": 130,
    "start_time": "2023-07-25T17:26:50.942Z"
   },
   {
    "duration": 29,
    "start_time": "2023-07-25T17:27:38.101Z"
   },
   {
    "duration": 116,
    "start_time": "2023-07-25T17:27:58.049Z"
   },
   {
    "duration": 132,
    "start_time": "2023-07-25T17:28:24.960Z"
   },
   {
    "duration": 122,
    "start_time": "2023-07-25T17:28:26.752Z"
   },
   {
    "duration": 112,
    "start_time": "2023-07-25T17:28:34.131Z"
   },
   {
    "duration": 229,
    "start_time": "2023-07-25T17:28:36.771Z"
   },
   {
    "duration": 241,
    "start_time": "2023-07-25T17:28:49.556Z"
   },
   {
    "duration": 199,
    "start_time": "2023-07-25T17:29:04.251Z"
   },
   {
    "duration": 122,
    "start_time": "2023-07-25T17:31:07.748Z"
   },
   {
    "duration": 94,
    "start_time": "2023-07-25T17:31:10.051Z"
   },
   {
    "duration": 3,
    "start_time": "2023-07-25T17:31:29.665Z"
   },
   {
    "duration": 132,
    "start_time": "2023-07-25T17:31:40.146Z"
   },
   {
    "duration": 8,
    "start_time": "2023-07-25T17:31:50.370Z"
   },
   {
    "duration": 19,
    "start_time": "2023-07-25T17:31:55.130Z"
   },
   {
    "duration": 23,
    "start_time": "2023-07-25T17:32:28.451Z"
   },
   {
    "duration": 33,
    "start_time": "2023-07-25T17:33:50.539Z"
   },
   {
    "duration": 50,
    "start_time": "2023-07-25T17:34:47.831Z"
   },
   {
    "duration": 177,
    "start_time": "2023-07-25T17:36:51.667Z"
   },
   {
    "duration": 155,
    "start_time": "2023-07-25T17:36:57.030Z"
   },
   {
    "duration": 20,
    "start_time": "2023-07-25T17:37:30.163Z"
   },
   {
    "duration": 9,
    "start_time": "2023-07-25T17:38:05.839Z"
   },
   {
    "duration": 5,
    "start_time": "2023-07-25T17:38:09.959Z"
   },
   {
    "duration": 5,
    "start_time": "2023-07-25T17:38:15.172Z"
   },
   {
    "duration": 11,
    "start_time": "2023-07-25T17:38:23.976Z"
   },
   {
    "duration": 43,
    "start_time": "2023-07-25T17:38:27.439Z"
   },
   {
    "duration": 24,
    "start_time": "2023-07-25T17:38:31.869Z"
   },
   {
    "duration": 21,
    "start_time": "2023-07-25T17:41:00.735Z"
   },
   {
    "duration": 7,
    "start_time": "2023-07-25T17:41:18.363Z"
   },
   {
    "duration": 7,
    "start_time": "2023-07-25T17:43:42.971Z"
   },
   {
    "duration": 12,
    "start_time": "2023-07-25T17:43:46.461Z"
   },
   {
    "duration": 53,
    "start_time": "2023-07-25T17:44:48.139Z"
   },
   {
    "duration": 13,
    "start_time": "2023-07-25T17:44:58.477Z"
   },
   {
    "duration": 38,
    "start_time": "2023-07-25T17:45:05.441Z"
   },
   {
    "duration": 31,
    "start_time": "2023-07-25T17:45:11.640Z"
   },
   {
    "duration": 84,
    "start_time": "2023-07-26T08:06:09.652Z"
   },
   {
    "duration": 21017,
    "start_time": "2023-07-26T08:06:17.069Z"
   },
   {
    "duration": 712,
    "start_time": "2023-07-26T08:06:38.095Z"
   },
   {
    "duration": 413,
    "start_time": "2023-07-26T08:06:38.809Z"
   },
   {
    "duration": 3805,
    "start_time": "2023-07-26T08:06:39.224Z"
   },
   {
    "duration": 0,
    "start_time": "2023-07-26T08:06:43.037Z"
   },
   {
    "duration": 0,
    "start_time": "2023-07-26T08:06:43.045Z"
   },
   {
    "duration": 0,
    "start_time": "2023-07-26T08:06:43.054Z"
   },
   {
    "duration": 0,
    "start_time": "2023-07-26T08:06:43.056Z"
   },
   {
    "duration": 3697,
    "start_time": "2023-07-26T08:06:58.853Z"
   },
   {
    "duration": 0,
    "start_time": "2023-07-26T08:07:02.555Z"
   },
   {
    "duration": 153,
    "start_time": "2023-07-26T08:07:11.291Z"
   },
   {
    "duration": 86,
    "start_time": "2023-07-26T08:07:14.385Z"
   },
   {
    "duration": 23,
    "start_time": "2023-07-26T08:07:23.156Z"
   },
   {
    "duration": 31,
    "start_time": "2023-07-26T08:07:24.958Z"
   },
   {
    "duration": 55,
    "start_time": "2023-07-26T08:07:29.410Z"
   },
   {
    "duration": 19,
    "start_time": "2023-07-26T08:07:32.454Z"
   },
   {
    "duration": 3051,
    "start_time": "2023-07-26T08:07:35.432Z"
   },
   {
    "duration": 12,
    "start_time": "2023-07-26T08:14:28.033Z"
   },
   {
    "duration": 13,
    "start_time": "2023-07-26T08:14:31.140Z"
   },
   {
    "duration": 12,
    "start_time": "2023-07-26T08:15:17.656Z"
   },
   {
    "duration": 67,
    "start_time": "2023-07-26T08:15:25.376Z"
   },
   {
    "duration": 50,
    "start_time": "2023-07-26T08:17:26.650Z"
   },
   {
    "duration": 135,
    "start_time": "2023-07-26T08:17:37.113Z"
   },
   {
    "duration": 61,
    "start_time": "2023-07-26T08:19:19.791Z"
   },
   {
    "duration": 115,
    "start_time": "2023-07-26T08:19:50.265Z"
   },
   {
    "duration": 81,
    "start_time": "2023-07-26T08:19:53.550Z"
   },
   {
    "duration": 92,
    "start_time": "2023-07-26T08:20:34.749Z"
   },
   {
    "duration": 120,
    "start_time": "2023-07-26T08:21:53.824Z"
   },
   {
    "duration": 20,
    "start_time": "2023-07-26T08:26:12.252Z"
   },
   {
    "duration": 41,
    "start_time": "2023-07-26T08:28:18.749Z"
   },
   {
    "duration": 150,
    "start_time": "2023-07-26T08:28:39.478Z"
   },
   {
    "duration": 67,
    "start_time": "2023-07-26T08:29:11.955Z"
   },
   {
    "duration": 192,
    "start_time": "2023-07-26T08:30:26.045Z"
   },
   {
    "duration": 185,
    "start_time": "2023-07-26T08:30:31.759Z"
   },
   {
    "duration": 160,
    "start_time": "2023-07-26T08:30:37.055Z"
   },
   {
    "duration": 23,
    "start_time": "2023-07-26T08:32:41.324Z"
   },
   {
    "duration": 99,
    "start_time": "2023-07-26T08:33:46.270Z"
   },
   {
    "duration": 26,
    "start_time": "2023-07-26T08:36:02.624Z"
   },
   {
    "duration": 41,
    "start_time": "2023-07-26T08:40:30.930Z"
   },
   {
    "duration": 29,
    "start_time": "2023-07-26T08:42:35.761Z"
   },
   {
    "duration": 22,
    "start_time": "2023-07-26T08:43:22.127Z"
   },
   {
    "duration": 17,
    "start_time": "2023-07-26T08:43:24.207Z"
   },
   {
    "duration": 4766,
    "start_time": "2023-07-26T08:44:02.678Z"
   },
   {
    "duration": 15,
    "start_time": "2023-07-26T08:44:24.339Z"
   },
   {
    "duration": 177,
    "start_time": "2023-07-26T08:45:15.235Z"
   },
   {
    "duration": 2063,
    "start_time": "2023-07-26T08:46:19.093Z"
   },
   {
    "duration": 11,
    "start_time": "2023-07-26T08:46:36.315Z"
   },
   {
    "duration": 11,
    "start_time": "2023-07-26T08:47:52.747Z"
   },
   {
    "duration": 2336,
    "start_time": "2023-07-26T08:48:46.491Z"
   },
   {
    "duration": 16,
    "start_time": "2023-07-26T08:48:52.500Z"
   },
   {
    "duration": 31,
    "start_time": "2023-07-26T08:49:30.593Z"
   },
   {
    "duration": 9,
    "start_time": "2023-07-26T08:51:25.734Z"
   },
   {
    "duration": 12,
    "start_time": "2023-07-26T08:51:29.415Z"
   },
   {
    "duration": 26,
    "start_time": "2023-07-26T08:51:38.794Z"
   },
   {
    "duration": 15,
    "start_time": "2023-07-26T08:51:54.312Z"
   },
   {
    "duration": 29,
    "start_time": "2023-07-26T09:08:37.851Z"
   },
   {
    "duration": 12,
    "start_time": "2023-07-26T09:09:13.347Z"
   },
   {
    "duration": 18,
    "start_time": "2023-07-26T09:09:50.810Z"
   },
   {
    "duration": 0,
    "start_time": "2023-07-26T09:09:56.489Z"
   },
   {
    "duration": 2036,
    "start_time": "2023-07-26T09:09:57.415Z"
   },
   {
    "duration": 24,
    "start_time": "2023-07-26T09:10:01.822Z"
   },
   {
    "duration": 14,
    "start_time": "2023-07-26T09:10:04.139Z"
   },
   {
    "duration": 13536,
    "start_time": "2023-07-26T09:10:27.864Z"
   },
   {
    "duration": 262,
    "start_time": "2023-07-26T09:10:41.402Z"
   },
   {
    "duration": 190,
    "start_time": "2023-07-26T09:10:41.666Z"
   },
   {
    "duration": 10,
    "start_time": "2023-07-26T09:10:41.859Z"
   },
   {
    "duration": 70,
    "start_time": "2023-07-26T09:10:41.870Z"
   },
   {
    "duration": 11,
    "start_time": "2023-07-26T09:10:41.942Z"
   },
   {
    "duration": 14,
    "start_time": "2023-07-26T09:10:41.954Z"
   },
   {
    "duration": 35,
    "start_time": "2023-07-26T09:10:41.970Z"
   },
   {
    "duration": 14,
    "start_time": "2023-07-26T09:19:59.646Z"
   },
   {
    "duration": 322,
    "start_time": "2023-07-26T09:20:01.830Z"
   },
   {
    "duration": 52,
    "start_time": "2023-07-26T09:20:04.167Z"
   },
   {
    "duration": 22,
    "start_time": "2023-07-26T09:20:07.404Z"
   },
   {
    "duration": 17756,
    "start_time": "2023-07-26T09:23:44.672Z"
   },
   {
    "duration": 229,
    "start_time": "2023-07-26T09:24:02.431Z"
   },
   {
    "duration": 223,
    "start_time": "2023-07-26T09:24:02.662Z"
   },
   {
    "duration": 52,
    "start_time": "2023-07-26T09:24:02.886Z"
   },
   {
    "duration": 25,
    "start_time": "2023-07-26T09:24:02.940Z"
   },
   {
    "duration": 65,
    "start_time": "2023-07-26T09:24:02.966Z"
   },
   {
    "duration": 16,
    "start_time": "2023-07-26T09:24:03.033Z"
   },
   {
    "duration": 13,
    "start_time": "2023-07-26T09:24:03.051Z"
   },
   {
    "duration": 49049,
    "start_time": "2023-07-26T13:04:54.735Z"
   },
   {
    "duration": 259,
    "start_time": "2023-07-26T13:05:43.787Z"
   },
   {
    "duration": 181,
    "start_time": "2023-07-26T13:05:44.047Z"
   },
   {
    "duration": 11,
    "start_time": "2023-07-26T13:05:44.230Z"
   },
   {
    "duration": 92,
    "start_time": "2023-07-26T13:05:44.243Z"
   },
   {
    "duration": 15,
    "start_time": "2023-07-26T13:05:44.337Z"
   },
   {
    "duration": 71,
    "start_time": "2023-07-26T13:05:44.354Z"
   },
   {
    "duration": 29,
    "start_time": "2023-07-26T13:05:44.427Z"
   },
   {
    "duration": 34,
    "start_time": "2023-07-26T13:09:38.115Z"
   },
   {
    "duration": 49,
    "start_time": "2023-07-26T19:33:42.205Z"
   },
   {
    "duration": 9337,
    "start_time": "2023-07-26T19:33:48.256Z"
   },
   {
    "duration": 777,
    "start_time": "2023-07-26T19:33:57.595Z"
   },
   {
    "duration": 483,
    "start_time": "2023-07-26T19:33:58.375Z"
   },
   {
    "duration": 77,
    "start_time": "2023-07-26T19:33:58.861Z"
   },
   {
    "duration": 97,
    "start_time": "2023-07-26T19:33:58.940Z"
   },
   {
    "duration": 78,
    "start_time": "2023-07-26T19:33:59.040Z"
   },
   {
    "duration": 262,
    "start_time": "2023-07-26T19:33:59.120Z"
   },
   {
    "duration": 0,
    "start_time": "2023-07-26T19:33:59.384Z"
   },
   {
    "duration": 102,
    "start_time": "2023-07-26T19:40:59.136Z"
   },
   {
    "duration": 85,
    "start_time": "2023-07-26T19:41:17.031Z"
   },
   {
    "duration": 83,
    "start_time": "2023-07-26T19:42:40.463Z"
   },
   {
    "duration": 83,
    "start_time": "2023-07-26T19:42:41.838Z"
   },
   {
    "duration": 85,
    "start_time": "2023-07-26T19:42:48.109Z"
   },
   {
    "duration": 87,
    "start_time": "2023-07-26T19:43:48.710Z"
   }
  ],
  "kernelspec": {
   "display_name": "Python 3 (ipykernel)",
   "language": "python",
   "name": "python3"
  },
  "language_info": {
   "codemirror_mode": {
    "name": "ipython",
    "version": 3
   },
   "file_extension": ".py",
   "mimetype": "text/x-python",
   "name": "python",
   "nbconvert_exporter": "python",
   "pygments_lexer": "ipython3",
   "version": "3.9.5"
  },
  "toc": {
   "base_numbering": 1,
   "nav_menu": {},
   "number_sections": true,
   "sideBar": true,
   "skip_h1_title": true,
   "title_cell": "Table of Contents",
   "title_sidebar": "Contents",
   "toc_cell": false,
   "toc_position": {},
   "toc_section_display": true,
   "toc_window_display": true
  }
 },
 "nbformat": 4,
 "nbformat_minor": 2
}
