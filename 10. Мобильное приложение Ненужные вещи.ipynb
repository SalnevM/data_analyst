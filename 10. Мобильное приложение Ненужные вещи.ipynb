{
 "cells": [
  {
   "cell_type": "markdown",
   "id": "a9d4b639",
   "metadata": {},
   "source": [
    "# Мобильное приложение \"Ненужные вещи\" - выделение групп пользователей на основе их поведения"
   ]
  },
  {
   "cell_type": "markdown",
   "id": "20ce9c79",
   "metadata": {},
   "source": [
    "## Содержание\n",
    "1. Описание данных и постановка задачи\n",
    "2. Загрузка, просмотр и предобработка данных\n",
    " * Объединение таблиц\n",
    " * Изменение типов данных\n",
    "* Обработка аномальных значений\n",
    "* Удаление пропусков, обработка дубликатов\n",
    "3. Исследовательский анализ данных:\n",
    " * Расчет времени проведенного пользователем в приложении(Retention rate). Разбивка по неделям. Построение тепловой карты\n",
    " * Расчет времени одной сессии пользователя\n",
    " * Расчет частоты совершения событий. Построение графика\n",
    "* Расчет конверсии пользователей\n",
    "4. Сегментация пользователей на основе действий, а также расчет Retention rate и конверсии для каждой группы по типу источника привлечения\n",
    "5. Определение статистических гипотез и их проверка\n",
    "6. Подготовка презентации результатов исследования в формате pdf\n",
    "7. Подготовка дашборда\n",
    "8. Общий вывод по проделанной работе"
   ]
  },
  {
   "cell_type": "markdown",
   "id": "6cbbb897",
   "metadata": {},
   "source": [
    "## Описание данных и постановка задачи\n",
    "\n",
    "Датасет содержит данные о событиях, совершенных в мобильном приложении \"Ненужные вещи\". В нем пользователи продают свои ненужные вещи, размещая их на доске объявлений.\n",
    "\n",
    "В датасете содержатся данные пользователей, впервые совершивших действия в приложении после 7 октября 2019 года.\n",
    "\n",
    "Датасет **mobile_dataset.csv** содержит колонки:\n",
    "* `event.time` — время совершения\n",
    "* `event.name` — название события\n",
    "* `user.id` — идентификатор пользователя\n",
    "\n",
    "Датасет **mobile_sources.csv** содержит колонки:\n",
    "`userId` — идентификатор пользователя\n",
    "`source` — источник, с которого пользователь установил приложение\n",
    "\n",
    "Расшифровки событий:\n",
    "* `advert_open` — открытие карточки объявления\n",
    "* `photos_show` — просмотр фотографий в объявлении\n",
    "* `tips_show` — пользователь увидел рекомендованные объявления\n",
    "* `tips_click` — пользователь кликнул по рекомендованному объявлению\n",
    "* `contacts_show` и `show_contacts` — пользователь нажал на кнопку \"посмотреть номер телефона\" на карточке объявления\n",
    "* `contacts_call` — пользователь позвонил по номеру телефона на карточке объявления\n",
    "* `map` — пользователь открыл карту размещенных объявлений\n",
    "* `search_1` — `search_7` — разные события, связанные с поиском по сайту\n",
    "* `favorites_add` — добавление объявления в избранное\n",
    "\n",
    "Целью исследования является определение аудитории под которую необходимо адаптировать приложение(найти целевую и смежные аудитории)."
   ]
  },
  {
   "cell_type": "markdown",
   "id": "42a4bedc",
   "metadata": {},
   "source": [
    "## Загрузка, просмотр и предобработка данных"
   ]
  },
  {
   "cell_type": "markdown",
   "id": "aa518195",
   "metadata": {},
   "source": [
    "### Просмотр данных и объединение таблиц"
   ]
  },
  {
   "cell_type": "code",
   "execution_count": 1,
   "id": "8bf6cd1d",
   "metadata": {},
   "outputs": [],
   "source": [
    "#здесь по ходу исследования буду добавлять необходимые библиотеки для работы\n",
    "import pandas as pd\n",
    "import datetime as dt\n",
    "import seaborn as sns\n",
    "import numpy as np\n",
    "import math as mth\n",
    "import matplotlib.pyplot as plt\n",
    "from datetime import datetime, timedelta\n",
    "import scipy.stats as stats\n",
    "from scipy import stats as st\n",
    "import warnings\n",
    "warnings.simplefilter(\"ignore\")"
   ]
  },
  {
   "cell_type": "code",
   "execution_count": 2,
   "id": "b8a61501",
   "metadata": {},
   "outputs": [],
   "source": [
    "#прочитаем данные которые находятся в файлах\n",
    "mobile_sourсes = pd.read_csv('https://code.s3.yandex.net/datasets/mobile_soures.csv')\n",
    "mobile_dataset = pd.read_csv('https://code.s3.yandex.net/datasets/mobile_dataset.csv')"
   ]
  },
  {
   "cell_type": "markdown",
   "id": "dadeea6b",
   "metadata": {},
   "source": [
    "Посмотрим тип данных и что содержит датасет mobile_sourсes"
   ]
  },
  {
   "cell_type": "code",
   "execution_count": 3,
   "id": "d5c0762e",
   "metadata": {},
   "outputs": [
    {
     "name": "stdout",
     "output_type": "stream",
     "text": [
      "<class 'pandas.core.frame.DataFrame'>\n",
      "RangeIndex: 4293 entries, 0 to 4292\n",
      "Data columns (total 2 columns):\n",
      " #   Column  Non-Null Count  Dtype \n",
      "---  ------  --------------  ----- \n",
      " 0   userId  4293 non-null   object\n",
      " 1   source  4293 non-null   object\n",
      "dtypes: object(2)\n",
      "memory usage: 67.2+ KB\n"
     ]
    }
   ],
   "source": [
    "mobile_sourсes.info() #просмотр типа данных"
   ]
  },
  {
   "cell_type": "code",
   "execution_count": 4,
   "id": "515a707d",
   "metadata": {},
   "outputs": [
    {
     "data": {
      "text/html": [
       "<div>\n",
       "<style scoped>\n",
       "    .dataframe tbody tr th:only-of-type {\n",
       "        vertical-align: middle;\n",
       "    }\n",
       "\n",
       "    .dataframe tbody tr th {\n",
       "        vertical-align: top;\n",
       "    }\n",
       "\n",
       "    .dataframe thead th {\n",
       "        text-align: right;\n",
       "    }\n",
       "</style>\n",
       "<table border=\"1\" class=\"dataframe\">\n",
       "  <thead>\n",
       "    <tr style=\"text-align: right;\">\n",
       "      <th></th>\n",
       "      <th>user_id</th>\n",
       "      <th>source</th>\n",
       "    </tr>\n",
       "  </thead>\n",
       "  <tbody>\n",
       "    <tr>\n",
       "      <th>0</th>\n",
       "      <td>020292ab-89bc-4156-9acf-68bc2783f894</td>\n",
       "      <td>other</td>\n",
       "    </tr>\n",
       "    <tr>\n",
       "      <th>1</th>\n",
       "      <td>cf7eda61-9349-469f-ac27-e5b6f5ec475c</td>\n",
       "      <td>yandex</td>\n",
       "    </tr>\n",
       "    <tr>\n",
       "      <th>2</th>\n",
       "      <td>8c356c42-3ba9-4cb6-80b8-3f868d0192c3</td>\n",
       "      <td>yandex</td>\n",
       "    </tr>\n",
       "    <tr>\n",
       "      <th>3</th>\n",
       "      <td>d9b06b47-0f36-419b-bbb0-3533e582a6cb</td>\n",
       "      <td>other</td>\n",
       "    </tr>\n",
       "    <tr>\n",
       "      <th>4</th>\n",
       "      <td>f32e1e2a-3027-4693-b793-b7b3ff274439</td>\n",
       "      <td>google</td>\n",
       "    </tr>\n",
       "  </tbody>\n",
       "</table>\n",
       "</div>"
      ],
      "text/plain": [
       "                                user_id  source\n",
       "0  020292ab-89bc-4156-9acf-68bc2783f894   other\n",
       "1  cf7eda61-9349-469f-ac27-e5b6f5ec475c  yandex\n",
       "2  8c356c42-3ba9-4cb6-80b8-3f868d0192c3  yandex\n",
       "3  d9b06b47-0f36-419b-bbb0-3533e582a6cb   other\n",
       "4  f32e1e2a-3027-4693-b793-b7b3ff274439  google"
      ]
     },
     "execution_count": 4,
     "metadata": {},
     "output_type": "execute_result"
    }
   ],
   "source": [
    "mobile_sourсes = mobile_sourсes.rename(columns = {'userId' : 'user_id'}) #переименуем столбцы\n",
    "mobile_sourсes.head() #просмотр содержимого данных "
   ]
  },
  {
   "cell_type": "markdown",
   "id": "798c7c66",
   "metadata": {},
   "source": [
    "Посмотрим тип данных и что содержит датасет mobile_dataset"
   ]
  },
  {
   "cell_type": "code",
   "execution_count": 5,
   "id": "ef85445c",
   "metadata": {},
   "outputs": [
    {
     "name": "stdout",
     "output_type": "stream",
     "text": [
      "<class 'pandas.core.frame.DataFrame'>\n",
      "RangeIndex: 74197 entries, 0 to 74196\n",
      "Data columns (total 3 columns):\n",
      " #   Column      Non-Null Count  Dtype \n",
      "---  ------      --------------  ----- \n",
      " 0   event.time  74197 non-null  object\n",
      " 1   event.name  74197 non-null  object\n",
      " 2   user.id     74197 non-null  object\n",
      "dtypes: object(3)\n",
      "memory usage: 1.7+ MB\n"
     ]
    }
   ],
   "source": [
    "mobile_dataset.info() #просмотр типа данных"
   ]
  },
  {
   "cell_type": "code",
   "execution_count": 6,
   "id": "a0d70fec",
   "metadata": {},
   "outputs": [
    {
     "data": {
      "text/html": [
       "<div>\n",
       "<style scoped>\n",
       "    .dataframe tbody tr th:only-of-type {\n",
       "        vertical-align: middle;\n",
       "    }\n",
       "\n",
       "    .dataframe tbody tr th {\n",
       "        vertical-align: top;\n",
       "    }\n",
       "\n",
       "    .dataframe thead th {\n",
       "        text-align: right;\n",
       "    }\n",
       "</style>\n",
       "<table border=\"1\" class=\"dataframe\">\n",
       "  <thead>\n",
       "    <tr style=\"text-align: right;\">\n",
       "      <th></th>\n",
       "      <th>event.time</th>\n",
       "      <th>event.name</th>\n",
       "      <th>user.id</th>\n",
       "    </tr>\n",
       "  </thead>\n",
       "  <tbody>\n",
       "    <tr>\n",
       "      <th>0</th>\n",
       "      <td>2019-10-07 00:00:00.431357</td>\n",
       "      <td>advert_open</td>\n",
       "      <td>020292ab-89bc-4156-9acf-68bc2783f894</td>\n",
       "    </tr>\n",
       "    <tr>\n",
       "      <th>1</th>\n",
       "      <td>2019-10-07 00:00:01.236320</td>\n",
       "      <td>tips_show</td>\n",
       "      <td>020292ab-89bc-4156-9acf-68bc2783f894</td>\n",
       "    </tr>\n",
       "    <tr>\n",
       "      <th>2</th>\n",
       "      <td>2019-10-07 00:00:02.245341</td>\n",
       "      <td>tips_show</td>\n",
       "      <td>cf7eda61-9349-469f-ac27-e5b6f5ec475c</td>\n",
       "    </tr>\n",
       "    <tr>\n",
       "      <th>3</th>\n",
       "      <td>2019-10-07 00:00:07.039334</td>\n",
       "      <td>tips_show</td>\n",
       "      <td>020292ab-89bc-4156-9acf-68bc2783f894</td>\n",
       "    </tr>\n",
       "    <tr>\n",
       "      <th>4</th>\n",
       "      <td>2019-10-07 00:00:56.319813</td>\n",
       "      <td>advert_open</td>\n",
       "      <td>cf7eda61-9349-469f-ac27-e5b6f5ec475c</td>\n",
       "    </tr>\n",
       "  </tbody>\n",
       "</table>\n",
       "</div>"
      ],
      "text/plain": [
       "                   event.time   event.name  \\\n",
       "0  2019-10-07 00:00:00.431357  advert_open   \n",
       "1  2019-10-07 00:00:01.236320    tips_show   \n",
       "2  2019-10-07 00:00:02.245341    tips_show   \n",
       "3  2019-10-07 00:00:07.039334    tips_show   \n",
       "4  2019-10-07 00:00:56.319813  advert_open   \n",
       "\n",
       "                                user.id  \n",
       "0  020292ab-89bc-4156-9acf-68bc2783f894  \n",
       "1  020292ab-89bc-4156-9acf-68bc2783f894  \n",
       "2  cf7eda61-9349-469f-ac27-e5b6f5ec475c  \n",
       "3  020292ab-89bc-4156-9acf-68bc2783f894  \n",
       "4  cf7eda61-9349-469f-ac27-e5b6f5ec475c  "
      ]
     },
     "execution_count": 6,
     "metadata": {},
     "output_type": "execute_result"
    }
   ],
   "source": [
    "mobile_dataset.head() #просмотр содержимого данных "
   ]
  },
  {
   "cell_type": "code",
   "execution_count": 7,
   "id": "582f01e7",
   "metadata": {},
   "outputs": [
    {
     "data": {
      "text/html": [
       "<div>\n",
       "<style scoped>\n",
       "    .dataframe tbody tr th:only-of-type {\n",
       "        vertical-align: middle;\n",
       "    }\n",
       "\n",
       "    .dataframe tbody tr th {\n",
       "        vertical-align: top;\n",
       "    }\n",
       "\n",
       "    .dataframe thead th {\n",
       "        text-align: right;\n",
       "    }\n",
       "</style>\n",
       "<table border=\"1\" class=\"dataframe\">\n",
       "  <thead>\n",
       "    <tr style=\"text-align: right;\">\n",
       "      <th></th>\n",
       "      <th>event_time</th>\n",
       "      <th>event_name</th>\n",
       "      <th>user_id</th>\n",
       "    </tr>\n",
       "  </thead>\n",
       "  <tbody>\n",
       "    <tr>\n",
       "      <th>0</th>\n",
       "      <td>2019-10-07 00:00:00.431357</td>\n",
       "      <td>advert_open</td>\n",
       "      <td>020292ab-89bc-4156-9acf-68bc2783f894</td>\n",
       "    </tr>\n",
       "    <tr>\n",
       "      <th>1</th>\n",
       "      <td>2019-10-07 00:00:01.236320</td>\n",
       "      <td>tips_show</td>\n",
       "      <td>020292ab-89bc-4156-9acf-68bc2783f894</td>\n",
       "    </tr>\n",
       "    <tr>\n",
       "      <th>2</th>\n",
       "      <td>2019-10-07 00:00:02.245341</td>\n",
       "      <td>tips_show</td>\n",
       "      <td>cf7eda61-9349-469f-ac27-e5b6f5ec475c</td>\n",
       "    </tr>\n",
       "    <tr>\n",
       "      <th>3</th>\n",
       "      <td>2019-10-07 00:00:07.039334</td>\n",
       "      <td>tips_show</td>\n",
       "      <td>020292ab-89bc-4156-9acf-68bc2783f894</td>\n",
       "    </tr>\n",
       "    <tr>\n",
       "      <th>4</th>\n",
       "      <td>2019-10-07 00:00:56.319813</td>\n",
       "      <td>advert_open</td>\n",
       "      <td>cf7eda61-9349-469f-ac27-e5b6f5ec475c</td>\n",
       "    </tr>\n",
       "  </tbody>\n",
       "</table>\n",
       "</div>"
      ],
      "text/plain": [
       "                   event_time   event_name  \\\n",
       "0  2019-10-07 00:00:00.431357  advert_open   \n",
       "1  2019-10-07 00:00:01.236320    tips_show   \n",
       "2  2019-10-07 00:00:02.245341    tips_show   \n",
       "3  2019-10-07 00:00:07.039334    tips_show   \n",
       "4  2019-10-07 00:00:56.319813  advert_open   \n",
       "\n",
       "                                user_id  \n",
       "0  020292ab-89bc-4156-9acf-68bc2783f894  \n",
       "1  020292ab-89bc-4156-9acf-68bc2783f894  \n",
       "2  cf7eda61-9349-469f-ac27-e5b6f5ec475c  \n",
       "3  020292ab-89bc-4156-9acf-68bc2783f894  \n",
       "4  cf7eda61-9349-469f-ac27-e5b6f5ec475c  "
      ]
     },
     "execution_count": 7,
     "metadata": {},
     "output_type": "execute_result"
    }
   ],
   "source": [
    "#Переименуем столбцы\n",
    "mobile_dataset = mobile_dataset.rename(columns = {'event.time' : 'event_time', 'event.name' : 'event_name', 'user.id' : 'user_id'})\n",
    "mobile_dataset.head() #просмотр содержимого данных "
   ]
  },
  {
   "cell_type": "markdown",
   "id": "186a784e",
   "metadata": {},
   "source": [
    "Столбец event_time содержит дату и время совершения события, но тип данных определен неправильно, а также данные содержат милисекунды которые нам не нужны. Исправим это"
   ]
  },
  {
   "cell_type": "code",
   "execution_count": 8,
   "id": "cc0fa7d9",
   "metadata": {},
   "outputs": [
    {
     "data": {
      "text/html": [
       "<div>\n",
       "<style scoped>\n",
       "    .dataframe tbody tr th:only-of-type {\n",
       "        vertical-align: middle;\n",
       "    }\n",
       "\n",
       "    .dataframe tbody tr th {\n",
       "        vertical-align: top;\n",
       "    }\n",
       "\n",
       "    .dataframe thead th {\n",
       "        text-align: right;\n",
       "    }\n",
       "</style>\n",
       "<table border=\"1\" class=\"dataframe\">\n",
       "  <thead>\n",
       "    <tr style=\"text-align: right;\">\n",
       "      <th></th>\n",
       "      <th>event_time</th>\n",
       "      <th>event_name</th>\n",
       "      <th>user_id</th>\n",
       "    </tr>\n",
       "  </thead>\n",
       "  <tbody>\n",
       "    <tr>\n",
       "      <th>0</th>\n",
       "      <td>2019-10-07 00:00:00</td>\n",
       "      <td>advert_open</td>\n",
       "      <td>020292ab-89bc-4156-9acf-68bc2783f894</td>\n",
       "    </tr>\n",
       "    <tr>\n",
       "      <th>1</th>\n",
       "      <td>2019-10-07 00:00:01</td>\n",
       "      <td>tips_show</td>\n",
       "      <td>020292ab-89bc-4156-9acf-68bc2783f894</td>\n",
       "    </tr>\n",
       "    <tr>\n",
       "      <th>2</th>\n",
       "      <td>2019-10-07 00:00:02</td>\n",
       "      <td>tips_show</td>\n",
       "      <td>cf7eda61-9349-469f-ac27-e5b6f5ec475c</td>\n",
       "    </tr>\n",
       "    <tr>\n",
       "      <th>3</th>\n",
       "      <td>2019-10-07 00:00:07</td>\n",
       "      <td>tips_show</td>\n",
       "      <td>020292ab-89bc-4156-9acf-68bc2783f894</td>\n",
       "    </tr>\n",
       "    <tr>\n",
       "      <th>4</th>\n",
       "      <td>2019-10-07 00:00:56</td>\n",
       "      <td>advert_open</td>\n",
       "      <td>cf7eda61-9349-469f-ac27-e5b6f5ec475c</td>\n",
       "    </tr>\n",
       "  </tbody>\n",
       "</table>\n",
       "</div>"
      ],
      "text/plain": [
       "           event_time   event_name                               user_id\n",
       "0 2019-10-07 00:00:00  advert_open  020292ab-89bc-4156-9acf-68bc2783f894\n",
       "1 2019-10-07 00:00:01    tips_show  020292ab-89bc-4156-9acf-68bc2783f894\n",
       "2 2019-10-07 00:00:02    tips_show  cf7eda61-9349-469f-ac27-e5b6f5ec475c\n",
       "3 2019-10-07 00:00:07    tips_show  020292ab-89bc-4156-9acf-68bc2783f894\n",
       "4 2019-10-07 00:00:56  advert_open  cf7eda61-9349-469f-ac27-e5b6f5ec475c"
      ]
     },
     "execution_count": 8,
     "metadata": {},
     "output_type": "execute_result"
    }
   ],
   "source": [
    "mobile_dataset['event_time'] = pd.to_datetime(mobile_dataset['event_time'], format='%Y-%m-%d %H:%M:%S.%f').dt.round('1S') #округлям время до одной секунды\n",
    "mobile_dataset.head() #просмотр содержимого данных "
   ]
  },
  {
   "cell_type": "markdown",
   "id": "003dd9b4",
   "metadata": {},
   "source": [
    "Объединим таблицы и запишем в новую переменную"
   ]
  },
  {
   "cell_type": "code",
   "execution_count": 9,
   "id": "382d02ad",
   "metadata": {},
   "outputs": [
    {
     "data": {
      "text/html": [
       "<div>\n",
       "<style scoped>\n",
       "    .dataframe tbody tr th:only-of-type {\n",
       "        vertical-align: middle;\n",
       "    }\n",
       "\n",
       "    .dataframe tbody tr th {\n",
       "        vertical-align: top;\n",
       "    }\n",
       "\n",
       "    .dataframe thead th {\n",
       "        text-align: right;\n",
       "    }\n",
       "</style>\n",
       "<table border=\"1\" class=\"dataframe\">\n",
       "  <thead>\n",
       "    <tr style=\"text-align: right;\">\n",
       "      <th></th>\n",
       "      <th>event_time</th>\n",
       "      <th>event_name</th>\n",
       "      <th>user_id</th>\n",
       "      <th>source</th>\n",
       "    </tr>\n",
       "  </thead>\n",
       "  <tbody>\n",
       "    <tr>\n",
       "      <th>0</th>\n",
       "      <td>2019-10-07 00:00:00</td>\n",
       "      <td>advert_open</td>\n",
       "      <td>020292ab-89bc-4156-9acf-68bc2783f894</td>\n",
       "      <td>other</td>\n",
       "    </tr>\n",
       "    <tr>\n",
       "      <th>1</th>\n",
       "      <td>2019-10-07 00:00:01</td>\n",
       "      <td>tips_show</td>\n",
       "      <td>020292ab-89bc-4156-9acf-68bc2783f894</td>\n",
       "      <td>other</td>\n",
       "    </tr>\n",
       "    <tr>\n",
       "      <th>2</th>\n",
       "      <td>2019-10-07 00:00:02</td>\n",
       "      <td>tips_show</td>\n",
       "      <td>cf7eda61-9349-469f-ac27-e5b6f5ec475c</td>\n",
       "      <td>yandex</td>\n",
       "    </tr>\n",
       "    <tr>\n",
       "      <th>3</th>\n",
       "      <td>2019-10-07 00:00:07</td>\n",
       "      <td>tips_show</td>\n",
       "      <td>020292ab-89bc-4156-9acf-68bc2783f894</td>\n",
       "      <td>other</td>\n",
       "    </tr>\n",
       "    <tr>\n",
       "      <th>4</th>\n",
       "      <td>2019-10-07 00:00:56</td>\n",
       "      <td>advert_open</td>\n",
       "      <td>cf7eda61-9349-469f-ac27-e5b6f5ec475c</td>\n",
       "      <td>yandex</td>\n",
       "    </tr>\n",
       "  </tbody>\n",
       "</table>\n",
       "</div>"
      ],
      "text/plain": [
       "           event_time   event_name                               user_id  \\\n",
       "0 2019-10-07 00:00:00  advert_open  020292ab-89bc-4156-9acf-68bc2783f894   \n",
       "1 2019-10-07 00:00:01    tips_show  020292ab-89bc-4156-9acf-68bc2783f894   \n",
       "2 2019-10-07 00:00:02    tips_show  cf7eda61-9349-469f-ac27-e5b6f5ec475c   \n",
       "3 2019-10-07 00:00:07    tips_show  020292ab-89bc-4156-9acf-68bc2783f894   \n",
       "4 2019-10-07 00:00:56  advert_open  cf7eda61-9349-469f-ac27-e5b6f5ec475c   \n",
       "\n",
       "   source  \n",
       "0   other  \n",
       "1   other  \n",
       "2  yandex  \n",
       "3   other  \n",
       "4  yandex  "
      ]
     },
     "execution_count": 9,
     "metadata": {},
     "output_type": "execute_result"
    }
   ],
   "source": [
    "data = mobile_dataset.merge(mobile_sourсes, on = 'user_id', how='left')\n",
    "data.head() #просмотр содержимого данных "
   ]
  },
  {
   "cell_type": "code",
   "execution_count": 10,
   "id": "c619a024",
   "metadata": {},
   "outputs": [
    {
     "name": "stdout",
     "output_type": "stream",
     "text": [
      "<class 'pandas.core.frame.DataFrame'>\n",
      "RangeIndex: 74197 entries, 0 to 74196\n",
      "Data columns (total 4 columns):\n",
      " #   Column      Non-Null Count  Dtype         \n",
      "---  ------      --------------  -----         \n",
      " 0   event_time  74197 non-null  datetime64[ns]\n",
      " 1   event_name  74197 non-null  object        \n",
      " 2   user_id     74197 non-null  object        \n",
      " 3   source      74197 non-null  object        \n",
      "dtypes: datetime64[ns](1), object(3)\n",
      "memory usage: 2.3+ MB\n"
     ]
    }
   ],
   "source": [
    "data.info()"
   ]
  },
  {
   "cell_type": "markdown",
   "id": "134ea9e5",
   "metadata": {},
   "source": [
    "### Удаление пропусков, обработка дубликатов"
   ]
  },
  {
   "cell_type": "code",
   "execution_count": 11,
   "id": "6d1e3678",
   "metadata": {},
   "outputs": [
    {
     "data": {
      "text/plain": [
       "event_time    0\n",
       "event_name    0\n",
       "user_id       0\n",
       "source        0\n",
       "dtype: int64"
      ]
     },
     "execution_count": 11,
     "metadata": {},
     "output_type": "execute_result"
    }
   ],
   "source": [
    "data.isna().sum() #проверим пропуски данных"
   ]
  },
  {
   "cell_type": "markdown",
   "id": "65fbfb64",
   "metadata": {},
   "source": [
    "Пропусков данных нет"
   ]
  },
  {
   "cell_type": "code",
   "execution_count": 12,
   "id": "faedf646",
   "metadata": {},
   "outputs": [
    {
     "data": {
      "text/plain": [
       "source\n",
       "yandex    34286\n",
       "google    20445\n",
       "other     19466\n",
       "Name: count, dtype: int64"
      ]
     },
     "execution_count": 12,
     "metadata": {},
     "output_type": "execute_result"
    }
   ],
   "source": [
    "data['source'].value_counts() #посмотрим уникальные значения в столбце с источником из которого установлено приложение"
   ]
  },
  {
   "cell_type": "markdown",
   "id": "1aa19f80",
   "metadata": {},
   "source": [
    "Основные каналы привлечения пользователей это поисковики yandex и google"
   ]
  },
  {
   "cell_type": "code",
   "execution_count": 13,
   "id": "619cade9",
   "metadata": {},
   "outputs": [
    {
     "data": {
      "text/plain": [
       "event_name\n",
       "tips_show        40055\n",
       "photos_show      10012\n",
       "advert_open       6164\n",
       "contacts_show     4450\n",
       "map               3881\n",
       "search_1          3506\n",
       "favorites_add     1417\n",
       "search_5          1049\n",
       "tips_click         814\n",
       "search_4           701\n",
       "contacts_call      541\n",
       "search_3           522\n",
       "search_6           460\n",
       "search_2           324\n",
       "search_7           222\n",
       "show_contacts       79\n",
       "Name: count, dtype: int64"
      ]
     },
     "execution_count": 13,
     "metadata": {},
     "output_type": "execute_result"
    }
   ],
   "source": [
    "data['event_name'].value_counts() #Проверим столбец с названиями событий на явные дубликаты"
   ]
  },
  {
   "cell_type": "markdown",
   "id": "9fa6e2bf",
   "metadata": {},
   "source": [
    "Видим, что есть по разному записанное событие просмотр контактов. Также есть некотрые события в поиске похожие на применение фильтров при отборе необходимых объявлений. Эти события можно объединить в одно событие search"
   ]
  },
  {
   "cell_type": "code",
   "execution_count": 14,
   "id": "95c687d5",
   "metadata": {},
   "outputs": [
    {
     "data": {
      "text/plain": [
       "event_name\n",
       "tips_show        40055\n",
       "photos_show      10012\n",
       "search            6784\n",
       "advert_open       6164\n",
       "contacts_show     4529\n",
       "map               3881\n",
       "favorites_add     1417\n",
       "tips_click         814\n",
       "contacts_call      541\n",
       "Name: count, dtype: int64"
      ]
     },
     "execution_count": 14,
     "metadata": {},
     "output_type": "execute_result"
    }
   ],
   "source": [
    "#уберем неявные дубликаты в столбце event_name\n",
    "data['event_name'] = data['event_name'].str.replace('show_contacts', 'contacts_show')\n",
    "data['event_name'] = data['event_name'].str.replace('search.*', 'search', regex=True)\n",
    "data['event_name'].value_counts()"
   ]
  },
  {
   "cell_type": "markdown",
   "id": "74a7182f",
   "metadata": {},
   "source": [
    "**Вывод:** Мы просмотрели данные в обоих датасетах и переименовали в них столбцы для более удобного использования при дальнейших расчетах. Далее, датасеты были объединены по общему столбцу \"идентификатор пользователя\". Также, данные содержали повторящиеся действия contacts_show и show_contacts. Было выполнено объединение. Дополнительно были выявления события search1-7 которые похожи на одинаковое дейстие(применение фильтров). Их также объединили в одно действие. Проверили весь датасет на пропуски. Пропуски не обнаружены. Можно использовать данные для дальнейшего исследования"
   ]
  },
  {
   "cell_type": "markdown",
   "id": "a7896cb9",
   "metadata": {},
   "source": [
    "## Исследовательский анализ данных"
   ]
  },
  {
   "cell_type": "markdown",
   "id": "7b4e27cd",
   "metadata": {},
   "source": [
    "### Расчет коэффициента удержания пользователей в приложении Retention rate"
   ]
  },
  {
   "cell_type": "markdown",
   "id": "a18e9732",
   "metadata": {},
   "source": [
    "Определим время первого действия пользователя и добавим в таблицу"
   ]
  },
  {
   "cell_type": "code",
   "execution_count": 15,
   "id": "a01150e1",
   "metadata": {
    "scrolled": false
   },
   "outputs": [
    {
     "data": {
      "text/html": [
       "<div>\n",
       "<style scoped>\n",
       "    .dataframe tbody tr th:only-of-type {\n",
       "        vertical-align: middle;\n",
       "    }\n",
       "\n",
       "    .dataframe tbody tr th {\n",
       "        vertical-align: top;\n",
       "    }\n",
       "\n",
       "    .dataframe thead th {\n",
       "        text-align: right;\n",
       "    }\n",
       "</style>\n",
       "<table border=\"1\" class=\"dataframe\">\n",
       "  <thead>\n",
       "    <tr style=\"text-align: right;\">\n",
       "      <th></th>\n",
       "      <th>event_time</th>\n",
       "      <th>event_name</th>\n",
       "      <th>user_id</th>\n",
       "      <th>source</th>\n",
       "      <th>first_dt</th>\n",
       "    </tr>\n",
       "  </thead>\n",
       "  <tbody>\n",
       "    <tr>\n",
       "      <th>0</th>\n",
       "      <td>2019-10-07 00:00:00</td>\n",
       "      <td>advert_open</td>\n",
       "      <td>020292ab-89bc-4156-9acf-68bc2783f894</td>\n",
       "      <td>other</td>\n",
       "      <td>2019-10-07 00:00:00</td>\n",
       "    </tr>\n",
       "    <tr>\n",
       "      <th>1</th>\n",
       "      <td>2019-10-07 00:00:01</td>\n",
       "      <td>tips_show</td>\n",
       "      <td>020292ab-89bc-4156-9acf-68bc2783f894</td>\n",
       "      <td>other</td>\n",
       "      <td>2019-10-07 00:00:00</td>\n",
       "    </tr>\n",
       "    <tr>\n",
       "      <th>2</th>\n",
       "      <td>2019-10-07 00:00:02</td>\n",
       "      <td>tips_show</td>\n",
       "      <td>cf7eda61-9349-469f-ac27-e5b6f5ec475c</td>\n",
       "      <td>yandex</td>\n",
       "      <td>2019-10-07 00:00:02</td>\n",
       "    </tr>\n",
       "    <tr>\n",
       "      <th>3</th>\n",
       "      <td>2019-10-07 00:00:07</td>\n",
       "      <td>tips_show</td>\n",
       "      <td>020292ab-89bc-4156-9acf-68bc2783f894</td>\n",
       "      <td>other</td>\n",
       "      <td>2019-10-07 00:00:00</td>\n",
       "    </tr>\n",
       "    <tr>\n",
       "      <th>4</th>\n",
       "      <td>2019-10-07 00:00:56</td>\n",
       "      <td>advert_open</td>\n",
       "      <td>cf7eda61-9349-469f-ac27-e5b6f5ec475c</td>\n",
       "      <td>yandex</td>\n",
       "      <td>2019-10-07 00:00:02</td>\n",
       "    </tr>\n",
       "    <tr>\n",
       "      <th>...</th>\n",
       "      <td>...</td>\n",
       "      <td>...</td>\n",
       "      <td>...</td>\n",
       "      <td>...</td>\n",
       "      <td>...</td>\n",
       "    </tr>\n",
       "    <tr>\n",
       "      <th>74192</th>\n",
       "      <td>2019-11-03 23:53:30</td>\n",
       "      <td>tips_show</td>\n",
       "      <td>28fccdf4-7b9e-42f5-bc73-439a265f20e9</td>\n",
       "      <td>google</td>\n",
       "      <td>2019-10-16 08:06:54</td>\n",
       "    </tr>\n",
       "    <tr>\n",
       "      <th>74193</th>\n",
       "      <td>2019-11-03 23:54:00</td>\n",
       "      <td>tips_show</td>\n",
       "      <td>28fccdf4-7b9e-42f5-bc73-439a265f20e9</td>\n",
       "      <td>google</td>\n",
       "      <td>2019-10-16 08:06:54</td>\n",
       "    </tr>\n",
       "    <tr>\n",
       "      <th>74194</th>\n",
       "      <td>2019-11-03 23:56:57</td>\n",
       "      <td>search</td>\n",
       "      <td>20850c8f-4135-4059-b13b-198d3ac59902</td>\n",
       "      <td>google</td>\n",
       "      <td>2019-10-27 19:19:02</td>\n",
       "    </tr>\n",
       "    <tr>\n",
       "      <th>74195</th>\n",
       "      <td>2019-11-03 23:57:06</td>\n",
       "      <td>tips_show</td>\n",
       "      <td>28fccdf4-7b9e-42f5-bc73-439a265f20e9</td>\n",
       "      <td>google</td>\n",
       "      <td>2019-10-16 08:06:54</td>\n",
       "    </tr>\n",
       "    <tr>\n",
       "      <th>74196</th>\n",
       "      <td>2019-11-03 23:58:13</td>\n",
       "      <td>tips_show</td>\n",
       "      <td>28fccdf4-7b9e-42f5-bc73-439a265f20e9</td>\n",
       "      <td>google</td>\n",
       "      <td>2019-10-16 08:06:54</td>\n",
       "    </tr>\n",
       "  </tbody>\n",
       "</table>\n",
       "<p>74197 rows × 5 columns</p>\n",
       "</div>"
      ],
      "text/plain": [
       "               event_time   event_name                               user_id  \\\n",
       "0     2019-10-07 00:00:00  advert_open  020292ab-89bc-4156-9acf-68bc2783f894   \n",
       "1     2019-10-07 00:00:01    tips_show  020292ab-89bc-4156-9acf-68bc2783f894   \n",
       "2     2019-10-07 00:00:02    tips_show  cf7eda61-9349-469f-ac27-e5b6f5ec475c   \n",
       "3     2019-10-07 00:00:07    tips_show  020292ab-89bc-4156-9acf-68bc2783f894   \n",
       "4     2019-10-07 00:00:56  advert_open  cf7eda61-9349-469f-ac27-e5b6f5ec475c   \n",
       "...                   ...          ...                                   ...   \n",
       "74192 2019-11-03 23:53:30    tips_show  28fccdf4-7b9e-42f5-bc73-439a265f20e9   \n",
       "74193 2019-11-03 23:54:00    tips_show  28fccdf4-7b9e-42f5-bc73-439a265f20e9   \n",
       "74194 2019-11-03 23:56:57       search  20850c8f-4135-4059-b13b-198d3ac59902   \n",
       "74195 2019-11-03 23:57:06    tips_show  28fccdf4-7b9e-42f5-bc73-439a265f20e9   \n",
       "74196 2019-11-03 23:58:13    tips_show  28fccdf4-7b9e-42f5-bc73-439a265f20e9   \n",
       "\n",
       "       source            first_dt  \n",
       "0       other 2019-10-07 00:00:00  \n",
       "1       other 2019-10-07 00:00:00  \n",
       "2      yandex 2019-10-07 00:00:02  \n",
       "3       other 2019-10-07 00:00:00  \n",
       "4      yandex 2019-10-07 00:00:02  \n",
       "...       ...                 ...  \n",
       "74192  google 2019-10-16 08:06:54  \n",
       "74193  google 2019-10-16 08:06:54  \n",
       "74194  google 2019-10-27 19:19:02  \n",
       "74195  google 2019-10-16 08:06:54  \n",
       "74196  google 2019-10-16 08:06:54  \n",
       "\n",
       "[74197 rows x 5 columns]"
      ]
     },
     "execution_count": 15,
     "metadata": {},
     "output_type": "execute_result"
    }
   ],
   "source": [
    "data['first_dt'] = data.groupby('user_id')['event_time'].transform('min')\n",
    "data"
   ]
  },
  {
   "cell_type": "markdown",
   "id": "72a955bf",
   "metadata": {},
   "source": [
    "Так как период достаточно большой, то нам необходимо сделать разбивку по неделям и посмотреть как вели себя пользователи. Вычислим дату начала недели, в которую пользователь совершил первое действие, а также неделю посещения и запишем в новые столцы"
   ]
  },
  {
   "cell_type": "code",
   "execution_count": 16,
   "id": "085004fe",
   "metadata": {},
   "outputs": [
    {
     "data": {
      "text/html": [
       "<div>\n",
       "<style scoped>\n",
       "    .dataframe tbody tr th:only-of-type {\n",
       "        vertical-align: middle;\n",
       "    }\n",
       "\n",
       "    .dataframe tbody tr th {\n",
       "        vertical-align: top;\n",
       "    }\n",
       "\n",
       "    .dataframe thead th {\n",
       "        text-align: right;\n",
       "    }\n",
       "</style>\n",
       "<table border=\"1\" class=\"dataframe\">\n",
       "  <thead>\n",
       "    <tr style=\"text-align: right;\">\n",
       "      <th></th>\n",
       "      <th>event_time</th>\n",
       "      <th>event_name</th>\n",
       "      <th>user_id</th>\n",
       "      <th>source</th>\n",
       "      <th>first_dt</th>\n",
       "      <th>event_week</th>\n",
       "      <th>first_week</th>\n",
       "    </tr>\n",
       "  </thead>\n",
       "  <tbody>\n",
       "    <tr>\n",
       "      <th>29416</th>\n",
       "      <td>2019-10-18 21:55:00</td>\n",
       "      <td>search</td>\n",
       "      <td>1f01ac2f-69f4-4152-a06b-dc73d61ad2de</td>\n",
       "      <td>google</td>\n",
       "      <td>2019-10-17 11:42:03</td>\n",
       "      <td>2019-10-14</td>\n",
       "      <td>2019-10-14</td>\n",
       "    </tr>\n",
       "    <tr>\n",
       "      <th>52219</th>\n",
       "      <td>2019-10-27 03:27:46</td>\n",
       "      <td>advert_open</td>\n",
       "      <td>abc47bf2-6ed0-432b-bc23-bd1adf4f29bc</td>\n",
       "      <td>other</td>\n",
       "      <td>2019-10-27 01:24:21</td>\n",
       "      <td>2019-10-21</td>\n",
       "      <td>2019-10-21</td>\n",
       "    </tr>\n",
       "    <tr>\n",
       "      <th>25957</th>\n",
       "      <td>2019-10-17 16:48:54</td>\n",
       "      <td>tips_show</td>\n",
       "      <td>6da1d12e-b7bd-4039-a829-d183be750c77</td>\n",
       "      <td>google</td>\n",
       "      <td>2019-10-10 15:34:43</td>\n",
       "      <td>2019-10-14</td>\n",
       "      <td>2019-10-07</td>\n",
       "    </tr>\n",
       "  </tbody>\n",
       "</table>\n",
       "</div>"
      ],
      "text/plain": [
       "               event_time   event_name                               user_id  \\\n",
       "29416 2019-10-18 21:55:00       search  1f01ac2f-69f4-4152-a06b-dc73d61ad2de   \n",
       "52219 2019-10-27 03:27:46  advert_open  abc47bf2-6ed0-432b-bc23-bd1adf4f29bc   \n",
       "25957 2019-10-17 16:48:54    tips_show  6da1d12e-b7bd-4039-a829-d183be750c77   \n",
       "\n",
       "       source            first_dt  event_week  first_week  \n",
       "29416  google 2019-10-17 11:42:03  2019-10-14  2019-10-14  \n",
       "52219   other 2019-10-27 01:24:21  2019-10-21  2019-10-21  \n",
       "25957  google 2019-10-10 15:34:43  2019-10-14  2019-10-07  "
      ]
     },
     "execution_count": 16,
     "metadata": {},
     "output_type": "execute_result"
    }
   ],
   "source": [
    "data['event_week'] = (pd.to_datetime(data['event_time'], unit='d') - pd.to_timedelta(data['event_time'].dt.dayofweek, unit='d')).dt.date\n",
    "data['first_week'] = (pd.to_datetime(data['first_dt'], unit='d') - pd.to_timedelta(data['first_dt'].dt.dayofweek, unit='d')).dt.date\n",
    "data.sort_values('first_dt').sample(3)"
   ]
  },
  {
   "cell_type": "markdown",
   "id": "38b6f0dc",
   "metadata": {},
   "source": [
    "Рассчитываем LTV пользователей"
   ]
  },
  {
   "cell_type": "code",
   "execution_count": 17,
   "id": "5a253d85",
   "metadata": {},
   "outputs": [],
   "source": [
    "data['ltv'] = ((data['event_week'] - data['first_week']) / np.timedelta64(1,'W')).astype(int)"
   ]
  },
  {
   "cell_type": "markdown",
   "id": "0a0cc0a5",
   "metadata": {},
   "source": [
    "Рассчитываем таблицу удержания пользователей"
   ]
  },
  {
   "cell_type": "code",
   "execution_count": 18,
   "id": "5ff4d795",
   "metadata": {},
   "outputs": [
    {
     "data": {
      "text/html": [
       "<div>\n",
       "<style scoped>\n",
       "    .dataframe tbody tr th:only-of-type {\n",
       "        vertical-align: middle;\n",
       "    }\n",
       "\n",
       "    .dataframe tbody tr th {\n",
       "        vertical-align: top;\n",
       "    }\n",
       "\n",
       "    .dataframe thead th {\n",
       "        text-align: right;\n",
       "    }\n",
       "</style>\n",
       "<table border=\"1\" class=\"dataframe\">\n",
       "  <thead>\n",
       "    <tr style=\"text-align: right;\">\n",
       "      <th>ltv</th>\n",
       "      <th>0</th>\n",
       "      <th>1</th>\n",
       "      <th>2</th>\n",
       "      <th>3</th>\n",
       "    </tr>\n",
       "    <tr>\n",
       "      <th>first_week</th>\n",
       "      <th></th>\n",
       "      <th></th>\n",
       "      <th></th>\n",
       "      <th></th>\n",
       "    </tr>\n",
       "  </thead>\n",
       "  <tbody>\n",
       "    <tr>\n",
       "      <th>2019-10-07</th>\n",
       "      <td>1130.0</td>\n",
       "      <td>272.0</td>\n",
       "      <td>170.0</td>\n",
       "      <td>119.0</td>\n",
       "    </tr>\n",
       "    <tr>\n",
       "      <th>2019-10-14</th>\n",
       "      <td>1166.0</td>\n",
       "      <td>282.0</td>\n",
       "      <td>155.0</td>\n",
       "      <td>NaN</td>\n",
       "    </tr>\n",
       "    <tr>\n",
       "      <th>2019-10-21</th>\n",
       "      <td>1094.0</td>\n",
       "      <td>239.0</td>\n",
       "      <td>NaN</td>\n",
       "      <td>NaN</td>\n",
       "    </tr>\n",
       "    <tr>\n",
       "      <th>2019-10-28</th>\n",
       "      <td>903.0</td>\n",
       "      <td>NaN</td>\n",
       "      <td>NaN</td>\n",
       "      <td>NaN</td>\n",
       "    </tr>\n",
       "  </tbody>\n",
       "</table>\n",
       "</div>"
      ],
      "text/plain": [
       "ltv              0      1      2      3\n",
       "first_week                             \n",
       "2019-10-07  1130.0  272.0  170.0  119.0\n",
       "2019-10-14  1166.0  282.0  155.0    NaN\n",
       "2019-10-21  1094.0  239.0    NaN    NaN\n",
       "2019-10-28   903.0    NaN    NaN    NaN"
      ]
     },
     "execution_count": 18,
     "metadata": {},
     "output_type": "execute_result"
    }
   ],
   "source": [
    "result_raw = data.pivot_table(index=['first_week'], columns='ltv', values='user_id', aggfunc='nunique')\n",
    "result_raw.head()"
   ]
  },
  {
   "cell_type": "markdown",
   "id": "bf150727",
   "metadata": {},
   "source": [
    "Вычисляем размеры когорт всех уникальных пользователей"
   ]
  },
  {
   "cell_type": "code",
   "execution_count": 19,
   "id": "4143e49e",
   "metadata": {},
   "outputs": [
    {
     "data": {
      "text/html": [
       "<div>\n",
       "<style scoped>\n",
       "    .dataframe tbody tr th:only-of-type {\n",
       "        vertical-align: middle;\n",
       "    }\n",
       "\n",
       "    .dataframe tbody tr th {\n",
       "        vertical-align: top;\n",
       "    }\n",
       "\n",
       "    .dataframe thead th {\n",
       "        text-align: right;\n",
       "    }\n",
       "</style>\n",
       "<table border=\"1\" class=\"dataframe\">\n",
       "  <thead>\n",
       "    <tr style=\"text-align: right;\">\n",
       "      <th></th>\n",
       "      <th>cohort_size</th>\n",
       "    </tr>\n",
       "    <tr>\n",
       "      <th>first_week</th>\n",
       "      <th></th>\n",
       "    </tr>\n",
       "  </thead>\n",
       "  <tbody>\n",
       "    <tr>\n",
       "      <th>2019-10-07</th>\n",
       "      <td>1130</td>\n",
       "    </tr>\n",
       "    <tr>\n",
       "      <th>2019-10-14</th>\n",
       "      <td>1166</td>\n",
       "    </tr>\n",
       "    <tr>\n",
       "      <th>2019-10-21</th>\n",
       "      <td>1094</td>\n",
       "    </tr>\n",
       "    <tr>\n",
       "      <th>2019-10-28</th>\n",
       "      <td>903</td>\n",
       "    </tr>\n",
       "  </tbody>\n",
       "</table>\n",
       "</div>"
      ],
      "text/plain": [
       "            cohort_size\n",
       "first_week             \n",
       "2019-10-07         1130\n",
       "2019-10-14         1166\n",
       "2019-10-21         1094\n",
       "2019-10-28          903"
      ]
     },
     "execution_count": 19,
     "metadata": {},
     "output_type": "execute_result"
    }
   ],
   "source": [
    "cohort_sizes = (\n",
    "    data.groupby('first_week')\n",
    "    .agg({'user_id': 'nunique'})\n",
    "    .rename(columns={'user_id': 'cohort_size'})\n",
    ")\n",
    "cohort_sizes.head()"
   ]
  },
  {
   "cell_type": "markdown",
   "id": "19352987",
   "metadata": {},
   "source": [
    "Объединим размеры когорт и таблицу удержания"
   ]
  },
  {
   "cell_type": "code",
   "execution_count": 20,
   "id": "fd093d37",
   "metadata": {},
   "outputs": [
    {
     "data": {
      "text/html": [
       "<div>\n",
       "<style scoped>\n",
       "    .dataframe tbody tr th:only-of-type {\n",
       "        vertical-align: middle;\n",
       "    }\n",
       "\n",
       "    .dataframe tbody tr th {\n",
       "        vertical-align: top;\n",
       "    }\n",
       "\n",
       "    .dataframe thead th {\n",
       "        text-align: right;\n",
       "    }\n",
       "</style>\n",
       "<table border=\"1\" class=\"dataframe\">\n",
       "  <thead>\n",
       "    <tr style=\"text-align: right;\">\n",
       "      <th></th>\n",
       "      <th>cohort_size</th>\n",
       "      <th>0</th>\n",
       "      <th>1</th>\n",
       "      <th>2</th>\n",
       "      <th>3</th>\n",
       "    </tr>\n",
       "    <tr>\n",
       "      <th>first_week</th>\n",
       "      <th></th>\n",
       "      <th></th>\n",
       "      <th></th>\n",
       "      <th></th>\n",
       "      <th></th>\n",
       "    </tr>\n",
       "  </thead>\n",
       "  <tbody>\n",
       "    <tr>\n",
       "      <th>2019-10-07</th>\n",
       "      <td>1130</td>\n",
       "      <td>1130.0</td>\n",
       "      <td>272.0</td>\n",
       "      <td>170.0</td>\n",
       "      <td>119.0</td>\n",
       "    </tr>\n",
       "    <tr>\n",
       "      <th>2019-10-14</th>\n",
       "      <td>1166</td>\n",
       "      <td>1166.0</td>\n",
       "      <td>282.0</td>\n",
       "      <td>155.0</td>\n",
       "      <td>0.0</td>\n",
       "    </tr>\n",
       "    <tr>\n",
       "      <th>2019-10-21</th>\n",
       "      <td>1094</td>\n",
       "      <td>1094.0</td>\n",
       "      <td>239.0</td>\n",
       "      <td>0.0</td>\n",
       "      <td>0.0</td>\n",
       "    </tr>\n",
       "    <tr>\n",
       "      <th>2019-10-28</th>\n",
       "      <td>903</td>\n",
       "      <td>903.0</td>\n",
       "      <td>0.0</td>\n",
       "      <td>0.0</td>\n",
       "      <td>0.0</td>\n",
       "    </tr>\n",
       "  </tbody>\n",
       "</table>\n",
       "</div>"
      ],
      "text/plain": [
       "            cohort_size       0      1      2      3\n",
       "first_week                                          \n",
       "2019-10-07         1130  1130.0  272.0  170.0  119.0\n",
       "2019-10-14         1166  1166.0  282.0  155.0    0.0\n",
       "2019-10-21         1094  1094.0  239.0    0.0    0.0\n",
       "2019-10-28          903   903.0    0.0    0.0    0.0"
      ]
     },
     "execution_count": 20,
     "metadata": {},
     "output_type": "execute_result"
    }
   ],
   "source": [
    "data2 = cohort_sizes.merge(result_raw, on='first_week', how='left').fillna(0)\n",
    "data2.head()"
   ]
  },
  {
   "cell_type": "markdown",
   "id": "0c907ad1",
   "metadata": {},
   "source": [
    "Разделим данные таблицы удержания на размеры когорт, уберем колонку с размером"
   ]
  },
  {
   "cell_type": "code",
   "execution_count": 21,
   "id": "010406b4",
   "metadata": {},
   "outputs": [
    {
     "data": {
      "text/html": [
       "<div>\n",
       "<style scoped>\n",
       "    .dataframe tbody tr th:only-of-type {\n",
       "        vertical-align: middle;\n",
       "    }\n",
       "\n",
       "    .dataframe tbody tr th {\n",
       "        vertical-align: top;\n",
       "    }\n",
       "\n",
       "    .dataframe thead th {\n",
       "        text-align: right;\n",
       "    }\n",
       "</style>\n",
       "<table border=\"1\" class=\"dataframe\">\n",
       "  <thead>\n",
       "    <tr style=\"text-align: right;\">\n",
       "      <th></th>\n",
       "      <th>0</th>\n",
       "      <th>1</th>\n",
       "      <th>2</th>\n",
       "      <th>3</th>\n",
       "    </tr>\n",
       "    <tr>\n",
       "      <th>first_week</th>\n",
       "      <th></th>\n",
       "      <th></th>\n",
       "      <th></th>\n",
       "      <th></th>\n",
       "    </tr>\n",
       "  </thead>\n",
       "  <tbody>\n",
       "    <tr>\n",
       "      <th>2019-10-07</th>\n",
       "      <td>1.0</td>\n",
       "      <td>0.240708</td>\n",
       "      <td>0.150442</td>\n",
       "      <td>0.10531</td>\n",
       "    </tr>\n",
       "    <tr>\n",
       "      <th>2019-10-14</th>\n",
       "      <td>1.0</td>\n",
       "      <td>0.241852</td>\n",
       "      <td>0.132933</td>\n",
       "      <td>0.00000</td>\n",
       "    </tr>\n",
       "    <tr>\n",
       "      <th>2019-10-21</th>\n",
       "      <td>1.0</td>\n",
       "      <td>0.218464</td>\n",
       "      <td>0.000000</td>\n",
       "      <td>0.00000</td>\n",
       "    </tr>\n",
       "    <tr>\n",
       "      <th>2019-10-28</th>\n",
       "      <td>1.0</td>\n",
       "      <td>0.000000</td>\n",
       "      <td>0.000000</td>\n",
       "      <td>0.00000</td>\n",
       "    </tr>\n",
       "  </tbody>\n",
       "</table>\n",
       "</div>"
      ],
      "text/plain": [
       "              0         1         2        3\n",
       "first_week                                  \n",
       "2019-10-07  1.0  0.240708  0.150442  0.10531\n",
       "2019-10-14  1.0  0.241852  0.132933  0.00000\n",
       "2019-10-21  1.0  0.218464  0.000000  0.00000\n",
       "2019-10-28  1.0  0.000000  0.000000  0.00000"
      ]
     },
     "execution_count": 21,
     "metadata": {},
     "output_type": "execute_result"
    }
   ],
   "source": [
    "data2 = data2.div(data2['cohort_size'], axis=0).drop(columns=['cohort_size'])\n",
    "data2.head()"
   ]
  },
  {
   "cell_type": "markdown",
   "id": "b9f26933",
   "metadata": {},
   "source": [
    "Вычислим размеры когорт"
   ]
  },
  {
   "cell_type": "code",
   "execution_count": 22,
   "id": "2388f19b",
   "metadata": {},
   "outputs": [
    {
     "data": {
      "text/html": [
       "<div>\n",
       "<style scoped>\n",
       "    .dataframe tbody tr th:only-of-type {\n",
       "        vertical-align: middle;\n",
       "    }\n",
       "\n",
       "    .dataframe tbody tr th {\n",
       "        vertical-align: top;\n",
       "    }\n",
       "\n",
       "    .dataframe thead th {\n",
       "        text-align: right;\n",
       "    }\n",
       "</style>\n",
       "<table border=\"1\" class=\"dataframe\">\n",
       "  <thead>\n",
       "    <tr style=\"text-align: right;\">\n",
       "      <th></th>\n",
       "      <th>cohort_size</th>\n",
       "    </tr>\n",
       "    <tr>\n",
       "      <th>first_week</th>\n",
       "      <th></th>\n",
       "    </tr>\n",
       "  </thead>\n",
       "  <tbody>\n",
       "    <tr>\n",
       "      <th>2019-10-07</th>\n",
       "      <td>1130</td>\n",
       "    </tr>\n",
       "    <tr>\n",
       "      <th>2019-10-14</th>\n",
       "      <td>1166</td>\n",
       "    </tr>\n",
       "    <tr>\n",
       "      <th>2019-10-21</th>\n",
       "      <td>1094</td>\n",
       "    </tr>\n",
       "    <tr>\n",
       "      <th>2019-10-28</th>\n",
       "      <td>903</td>\n",
       "    </tr>\n",
       "  </tbody>\n",
       "</table>\n",
       "</div>"
      ],
      "text/plain": [
       "            cohort_size\n",
       "first_week             \n",
       "2019-10-07         1130\n",
       "2019-10-14         1166\n",
       "2019-10-21         1094\n",
       "2019-10-28          903"
      ]
     },
     "execution_count": 22,
     "metadata": {},
     "output_type": "execute_result"
    }
   ],
   "source": [
    "cohort_sizes = (\n",
    "    data.groupby('first_week')\n",
    "    .agg({'user_id': 'nunique'})\n",
    "    .rename(columns={'user_id': 'cohort_size'})\n",
    ")\n",
    "cohort_sizes"
   ]
  },
  {
   "cell_type": "markdown",
   "id": "d3e796ec",
   "metadata": {},
   "source": [
    "Построим тепловую карту удержания для визуального изображения"
   ]
  },
  {
   "cell_type": "code",
   "execution_count": 23,
   "id": "1fed2702",
   "metadata": {},
   "outputs": [
    {
     "data": {
      "image/png": "[encoded data removed]",
      "text/plain": [
       "<Figure size 640x480 with 2 Axes>"
      ]
     },
     "metadata": {},
     "output_type": "display_data"
    }
   ],
   "source": [
    "ax = sns.heatmap(\n",
    "    data2,\n",
    "    annot=True,\n",
    "    fmt='.2%', # переводим значения в проценты\n",
    ")\n",
    "plt.title('Тепловая карта удержания')\n",
    "plt.xlabel('LTV')\n",
    "plt.ylabel('Неделя первого посещения')\n",
    "plt.show()"
   ]
  },
  {
   "cell_type": "code",
   "execution_count": 24,
   "id": "335db0b5",
   "metadata": {},
   "outputs": [
    {
     "data": {
      "image/png": "[encoded data removed]",
      "text/plain": [
       "<Figure size 1000x500 with 1 Axes>"
      ]
     },
     "metadata": {},
     "output_type": "display_data"
    }
   ],
   "source": [
    "report = data2.drop(columns=[0]).head(3)\n",
    "report.T.plot(grid=True, figsize=(10, 5), xticks=list(report.columns.values))\n",
    "plt.title('LTV с разбивкой по неделям')\n",
    "plt.xlabel('Лайфтайм')\n",
    "plt.show()"
   ]
  },
  {
   "cell_type": "markdown",
   "id": "a389b856",
   "metadata": {},
   "source": [
    "**Вывод:** По графику удержания пользователей с разбивкой по неделям видно, что процент удержания пользователей снижается с первой недели (22%) до четвертой недели (11%). Это указывает на то, что удержание пользователей с течением времени ухудшается. Для улучшения показателя удержания пользователей важно постоянно работать над улучшением продукта, вовлеченностью пользователей и созданием положительного пользовательского опыта. Можно использовать A/B-тестирование и другие методы, чтобы определить наиболее эффективные стратегии удержания пользователей и внедрить их."
   ]
  },
  {
   "cell_type": "markdown",
   "id": "4ced91e2",
   "metadata": {},
   "source": [
    "### Расчет времени одной сессии пользователя"
   ]
  },
  {
   "cell_type": "code",
   "execution_count": 25,
   "id": "adea5c10",
   "metadata": {
    "scrolled": true
   },
   "outputs": [
    {
     "data": {
      "text/html": [
       "<div>\n",
       "<style scoped>\n",
       "    .dataframe tbody tr th:only-of-type {\n",
       "        vertical-align: middle;\n",
       "    }\n",
       "\n",
       "    .dataframe tbody tr th {\n",
       "        vertical-align: top;\n",
       "    }\n",
       "\n",
       "    .dataframe thead th {\n",
       "        text-align: right;\n",
       "    }\n",
       "</style>\n",
       "<table border=\"1\" class=\"dataframe\">\n",
       "  <thead>\n",
       "    <tr style=\"text-align: right;\">\n",
       "      <th></th>\n",
       "      <th>event_time</th>\n",
       "      <th>event_name</th>\n",
       "      <th>user_id</th>\n",
       "      <th>source</th>\n",
       "      <th>first_dt</th>\n",
       "      <th>event_week</th>\n",
       "      <th>first_week</th>\n",
       "      <th>ltv</th>\n",
       "    </tr>\n",
       "  </thead>\n",
       "  <tbody>\n",
       "    <tr>\n",
       "      <th>0</th>\n",
       "      <td>2019-10-07 13:39:46</td>\n",
       "      <td>tips_show</td>\n",
       "      <td>0001b1d5-b74a-4cbf-aeb0-7df5947bf349</td>\n",
       "      <td>other</td>\n",
       "      <td>2019-10-07 13:39:46</td>\n",
       "      <td>2019-10-07</td>\n",
       "      <td>2019-10-07</td>\n",
       "      <td>0</td>\n",
       "    </tr>\n",
       "    <tr>\n",
       "      <th>1</th>\n",
       "      <td>2019-10-07 13:40:31</td>\n",
       "      <td>tips_show</td>\n",
       "      <td>0001b1d5-b74a-4cbf-aeb0-7df5947bf349</td>\n",
       "      <td>other</td>\n",
       "      <td>2019-10-07 13:39:46</td>\n",
       "      <td>2019-10-07</td>\n",
       "      <td>2019-10-07</td>\n",
       "      <td>0</td>\n",
       "    </tr>\n",
       "    <tr>\n",
       "      <th>2</th>\n",
       "      <td>2019-10-07 13:41:06</td>\n",
       "      <td>tips_show</td>\n",
       "      <td>0001b1d5-b74a-4cbf-aeb0-7df5947bf349</td>\n",
       "      <td>other</td>\n",
       "      <td>2019-10-07 13:39:46</td>\n",
       "      <td>2019-10-07</td>\n",
       "      <td>2019-10-07</td>\n",
       "      <td>0</td>\n",
       "    </tr>\n",
       "    <tr>\n",
       "      <th>3</th>\n",
       "      <td>2019-10-07 13:43:21</td>\n",
       "      <td>tips_show</td>\n",
       "      <td>0001b1d5-b74a-4cbf-aeb0-7df5947bf349</td>\n",
       "      <td>other</td>\n",
       "      <td>2019-10-07 13:39:46</td>\n",
       "      <td>2019-10-07</td>\n",
       "      <td>2019-10-07</td>\n",
       "      <td>0</td>\n",
       "    </tr>\n",
       "    <tr>\n",
       "      <th>4</th>\n",
       "      <td>2019-10-07 13:45:31</td>\n",
       "      <td>tips_show</td>\n",
       "      <td>0001b1d5-b74a-4cbf-aeb0-7df5947bf349</td>\n",
       "      <td>other</td>\n",
       "      <td>2019-10-07 13:39:46</td>\n",
       "      <td>2019-10-07</td>\n",
       "      <td>2019-10-07</td>\n",
       "      <td>0</td>\n",
       "    </tr>\n",
       "  </tbody>\n",
       "</table>\n",
       "</div>"
      ],
      "text/plain": [
       "           event_time event_name                               user_id source  \\\n",
       "0 2019-10-07 13:39:46  tips_show  0001b1d5-b74a-4cbf-aeb0-7df5947bf349  other   \n",
       "1 2019-10-07 13:40:31  tips_show  0001b1d5-b74a-4cbf-aeb0-7df5947bf349  other   \n",
       "2 2019-10-07 13:41:06  tips_show  0001b1d5-b74a-4cbf-aeb0-7df5947bf349  other   \n",
       "3 2019-10-07 13:43:21  tips_show  0001b1d5-b74a-4cbf-aeb0-7df5947bf349  other   \n",
       "4 2019-10-07 13:45:31  tips_show  0001b1d5-b74a-4cbf-aeb0-7df5947bf349  other   \n",
       "\n",
       "             first_dt  event_week  first_week  ltv  \n",
       "0 2019-10-07 13:39:46  2019-10-07  2019-10-07    0  \n",
       "1 2019-10-07 13:39:46  2019-10-07  2019-10-07    0  \n",
       "2 2019-10-07 13:39:46  2019-10-07  2019-10-07    0  \n",
       "3 2019-10-07 13:39:46  2019-10-07  2019-10-07    0  \n",
       "4 2019-10-07 13:39:46  2019-10-07  2019-10-07    0  "
      ]
     },
     "execution_count": 25,
     "metadata": {},
     "output_type": "execute_result"
    }
   ],
   "source": [
    "#отсортируем датасет по имени пользователя и дате\n",
    "data = data.sort_values(['user_id', 'event_time']).reset_index(drop=True)\n",
    "data.head()"
   ]
  },
  {
   "cell_type": "code",
   "execution_count": 26,
   "id": "0ae5cde9",
   "metadata": {},
   "outputs": [
    {
     "data": {
      "text/html": [
       "<div>\n",
       "<style scoped>\n",
       "    .dataframe tbody tr th:only-of-type {\n",
       "        vertical-align: middle;\n",
       "    }\n",
       "\n",
       "    .dataframe tbody tr th {\n",
       "        vertical-align: top;\n",
       "    }\n",
       "\n",
       "    .dataframe thead th {\n",
       "        text-align: right;\n",
       "    }\n",
       "</style>\n",
       "<table border=\"1\" class=\"dataframe\">\n",
       "  <thead>\n",
       "    <tr style=\"text-align: right;\">\n",
       "      <th></th>\n",
       "      <th>event_time</th>\n",
       "      <th>event_name</th>\n",
       "      <th>user_id</th>\n",
       "      <th>source</th>\n",
       "      <th>first_dt</th>\n",
       "      <th>event_week</th>\n",
       "      <th>first_week</th>\n",
       "      <th>ltv</th>\n",
       "      <th>time</th>\n",
       "      <th>session_id</th>\n",
       "    </tr>\n",
       "  </thead>\n",
       "  <tbody>\n",
       "    <tr>\n",
       "      <th>0</th>\n",
       "      <td>2019-10-07 13:39:46</td>\n",
       "      <td>tips_show</td>\n",
       "      <td>0001b1d5-b74a-4cbf-aeb0-7df5947bf349</td>\n",
       "      <td>other</td>\n",
       "      <td>2019-10-07 13:39:46</td>\n",
       "      <td>2019-10-07</td>\n",
       "      <td>2019-10-07</td>\n",
       "      <td>0</td>\n",
       "      <td>2019-10-07 13:39:46</td>\n",
       "      <td>1</td>\n",
       "    </tr>\n",
       "    <tr>\n",
       "      <th>1</th>\n",
       "      <td>2019-10-07 13:40:31</td>\n",
       "      <td>tips_show</td>\n",
       "      <td>0001b1d5-b74a-4cbf-aeb0-7df5947bf349</td>\n",
       "      <td>other</td>\n",
       "      <td>2019-10-07 13:39:46</td>\n",
       "      <td>2019-10-07</td>\n",
       "      <td>2019-10-07</td>\n",
       "      <td>0</td>\n",
       "      <td>2019-10-07 13:40:31</td>\n",
       "      <td>1</td>\n",
       "    </tr>\n",
       "    <tr>\n",
       "      <th>2</th>\n",
       "      <td>2019-10-07 13:41:06</td>\n",
       "      <td>tips_show</td>\n",
       "      <td>0001b1d5-b74a-4cbf-aeb0-7df5947bf349</td>\n",
       "      <td>other</td>\n",
       "      <td>2019-10-07 13:39:46</td>\n",
       "      <td>2019-10-07</td>\n",
       "      <td>2019-10-07</td>\n",
       "      <td>0</td>\n",
       "      <td>2019-10-07 13:41:06</td>\n",
       "      <td>1</td>\n",
       "    </tr>\n",
       "    <tr>\n",
       "      <th>3</th>\n",
       "      <td>2019-10-07 13:43:21</td>\n",
       "      <td>tips_show</td>\n",
       "      <td>0001b1d5-b74a-4cbf-aeb0-7df5947bf349</td>\n",
       "      <td>other</td>\n",
       "      <td>2019-10-07 13:39:46</td>\n",
       "      <td>2019-10-07</td>\n",
       "      <td>2019-10-07</td>\n",
       "      <td>0</td>\n",
       "      <td>2019-10-07 13:43:21</td>\n",
       "      <td>1</td>\n",
       "    </tr>\n",
       "    <tr>\n",
       "      <th>4</th>\n",
       "      <td>2019-10-07 13:45:31</td>\n",
       "      <td>tips_show</td>\n",
       "      <td>0001b1d5-b74a-4cbf-aeb0-7df5947bf349</td>\n",
       "      <td>other</td>\n",
       "      <td>2019-10-07 13:39:46</td>\n",
       "      <td>2019-10-07</td>\n",
       "      <td>2019-10-07</td>\n",
       "      <td>0</td>\n",
       "      <td>2019-10-07 13:45:31</td>\n",
       "      <td>1</td>\n",
       "    </tr>\n",
       "  </tbody>\n",
       "</table>\n",
       "</div>"
      ],
      "text/plain": [
       "           event_time event_name                               user_id source  \\\n",
       "0 2019-10-07 13:39:46  tips_show  0001b1d5-b74a-4cbf-aeb0-7df5947bf349  other   \n",
       "1 2019-10-07 13:40:31  tips_show  0001b1d5-b74a-4cbf-aeb0-7df5947bf349  other   \n",
       "2 2019-10-07 13:41:06  tips_show  0001b1d5-b74a-4cbf-aeb0-7df5947bf349  other   \n",
       "3 2019-10-07 13:43:21  tips_show  0001b1d5-b74a-4cbf-aeb0-7df5947bf349  other   \n",
       "4 2019-10-07 13:45:31  tips_show  0001b1d5-b74a-4cbf-aeb0-7df5947bf349  other   \n",
       "\n",
       "             first_dt  event_week  first_week  ltv                time  \\\n",
       "0 2019-10-07 13:39:46  2019-10-07  2019-10-07    0 2019-10-07 13:39:46   \n",
       "1 2019-10-07 13:39:46  2019-10-07  2019-10-07    0 2019-10-07 13:40:31   \n",
       "2 2019-10-07 13:39:46  2019-10-07  2019-10-07    0 2019-10-07 13:41:06   \n",
       "3 2019-10-07 13:39:46  2019-10-07  2019-10-07    0 2019-10-07 13:43:21   \n",
       "4 2019-10-07 13:39:46  2019-10-07  2019-10-07    0 2019-10-07 13:45:31   \n",
       "\n",
       "   session_id  \n",
       "0           1  \n",
       "1           1  \n",
       "2           1  \n",
       "3           1  \n",
       "4           1  "
      ]
     },
     "execution_count": 26,
     "metadata": {},
     "output_type": "execute_result"
    }
   ],
   "source": [
    "#преобразуем данные\n",
    "data['time'] = pd.to_datetime(data['event_time'])\n",
    "#установим одну сессию более 20 минут\n",
    "session = (data.groupby('user_id')['time'].diff() > pd.Timedelta('30Min')).cumsum()\n",
    "#добавим новый столбец\n",
    "data['session_id'] = data.groupby(['user_id', session], sort=False).ngroup() + 1\n",
    "data.head()"
   ]
  },
  {
   "cell_type": "markdown",
   "id": "fc1d00ce",
   "metadata": {},
   "source": [
    "Визуализируем распределение количества сессий пользователей"
   ]
  },
  {
   "cell_type": "code",
   "execution_count": 27,
   "id": "eedefc62",
   "metadata": {},
   "outputs": [
    {
     "data": {
      "image/png": "[encoded data removed]",
      "text/plain": [
       "<Figure size 500x500 with 1 Axes>"
      ]
     },
     "metadata": {},
     "output_type": "display_data"
    }
   ],
   "source": [
    "session_distrib = (data.groupby('user_id').agg({'session_id':'nunique'}).sort_values(by = 'session_id', ascending = False).reset_index())\n",
    "plt.figure(figsize=(5,5))\n",
    "session_distrib['session_id'].hist(bins=30,range=(0,20))\n",
    "plt.title('Распределение количества сессий по пользователям')\n",
    "plt.xlabel('Количество сессий')\n",
    "plt.ylabel('Количество пользователей')\n",
    "plt.show()"
   ]
  },
  {
   "cell_type": "code",
   "execution_count": 28,
   "id": "98c04c44",
   "metadata": {},
   "outputs": [
    {
     "data": {
      "text/html": [
       "<div>\n",
       "<style scoped>\n",
       "    .dataframe tbody tr th:only-of-type {\n",
       "        vertical-align: middle;\n",
       "    }\n",
       "\n",
       "    .dataframe tbody tr th {\n",
       "        vertical-align: top;\n",
       "    }\n",
       "\n",
       "    .dataframe thead th {\n",
       "        text-align: right;\n",
       "    }\n",
       "</style>\n",
       "<table border=\"1\" class=\"dataframe\">\n",
       "  <thead>\n",
       "    <tr style=\"text-align: right;\">\n",
       "      <th></th>\n",
       "      <th>session_id</th>\n",
       "      <th>sesion_start</th>\n",
       "      <th>sesion_end</th>\n",
       "      <th>session_time</th>\n",
       "    </tr>\n",
       "  </thead>\n",
       "  <tbody>\n",
       "    <tr>\n",
       "      <th>0</th>\n",
       "      <td>1</td>\n",
       "      <td>2019-10-07 13:39:46</td>\n",
       "      <td>2019-10-07 13:49:42</td>\n",
       "      <td>0 days 00:09:56</td>\n",
       "    </tr>\n",
       "    <tr>\n",
       "      <th>1</th>\n",
       "      <td>2</td>\n",
       "      <td>2019-10-09 18:33:56</td>\n",
       "      <td>2019-10-09 18:42:23</td>\n",
       "      <td>0 days 00:08:27</td>\n",
       "    </tr>\n",
       "    <tr>\n",
       "      <th>2</th>\n",
       "      <td>3</td>\n",
       "      <td>2019-10-21 19:52:31</td>\n",
       "      <td>2019-10-21 20:07:30</td>\n",
       "      <td>0 days 00:14:59</td>\n",
       "    </tr>\n",
       "    <tr>\n",
       "      <th>3</th>\n",
       "      <td>4</td>\n",
       "      <td>2019-10-22 11:18:15</td>\n",
       "      <td>2019-10-22 11:30:53</td>\n",
       "      <td>0 days 00:12:38</td>\n",
       "    </tr>\n",
       "    <tr>\n",
       "      <th>4</th>\n",
       "      <td>5</td>\n",
       "      <td>2019-10-19 21:34:34</td>\n",
       "      <td>2019-10-19 21:59:55</td>\n",
       "      <td>0 days 00:25:21</td>\n",
       "    </tr>\n",
       "  </tbody>\n",
       "</table>\n",
       "</div>"
      ],
      "text/plain": [
       "   session_id        sesion_start          sesion_end    session_time\n",
       "0           1 2019-10-07 13:39:46 2019-10-07 13:49:42 0 days 00:09:56\n",
       "1           2 2019-10-09 18:33:56 2019-10-09 18:42:23 0 days 00:08:27\n",
       "2           3 2019-10-21 19:52:31 2019-10-21 20:07:30 0 days 00:14:59\n",
       "3           4 2019-10-22 11:18:15 2019-10-22 11:30:53 0 days 00:12:38\n",
       "4           5 2019-10-19 21:34:34 2019-10-19 21:59:55 0 days 00:25:21"
      ]
     },
     "execution_count": 28,
     "metadata": {},
     "output_type": "execute_result"
    }
   ],
   "source": [
    "#создадим датафрейм с начальной датой сессии\n",
    "session_start = data.groupby('session_id').agg({'time' : 'min'}).reset_index().rename(columns={'time' : 'sesion_start'})\n",
    "#создадим датафрейм с конечной датой сессии\n",
    "session_end = data.groupby('session_id').agg({'time' : 'max'}).reset_index().rename(columns={'time' : 'sesion_end'})\n",
    "#объединим полученные датасеты\n",
    "data5 = session_start.merge(session_end, on = 'session_id')\n",
    "#находим разницу между началом и окончанием сессии\n",
    "data5['session_time'] = data5['sesion_end'] - data5['sesion_start']\n",
    "data5.head()"
   ]
  },
  {
   "cell_type": "code",
   "execution_count": 29,
   "id": "f60e88a9",
   "metadata": {},
   "outputs": [
    {
     "data": {
      "text/html": [
       "<div>\n",
       "<style scoped>\n",
       "    .dataframe tbody tr th:only-of-type {\n",
       "        vertical-align: middle;\n",
       "    }\n",
       "\n",
       "    .dataframe tbody tr th {\n",
       "        vertical-align: top;\n",
       "    }\n",
       "\n",
       "    .dataframe thead th {\n",
       "        text-align: right;\n",
       "    }\n",
       "</style>\n",
       "<table border=\"1\" class=\"dataframe\">\n",
       "  <thead>\n",
       "    <tr style=\"text-align: right;\">\n",
       "      <th></th>\n",
       "      <th>session_id</th>\n",
       "      <th>sesion_start</th>\n",
       "      <th>sesion_end</th>\n",
       "      <th>session_time</th>\n",
       "    </tr>\n",
       "  </thead>\n",
       "  <tbody>\n",
       "    <tr>\n",
       "      <th>count</th>\n",
       "      <td>10368.00000</td>\n",
       "      <td>10368</td>\n",
       "      <td>10368</td>\n",
       "      <td>10368</td>\n",
       "    </tr>\n",
       "    <tr>\n",
       "      <th>mean</th>\n",
       "      <td>5184.50000</td>\n",
       "      <td>2019-10-22 02:47:00.987171840</td>\n",
       "      <td>2019-10-22 02:59:53.656153600</td>\n",
       "      <td>0 days 00:12:52.668981481</td>\n",
       "    </tr>\n",
       "    <tr>\n",
       "      <th>min</th>\n",
       "      <td>1.00000</td>\n",
       "      <td>2019-10-07 00:00:00</td>\n",
       "      <td>2019-10-07 00:05:23</td>\n",
       "      <td>0 days 00:00:00</td>\n",
       "    </tr>\n",
       "    <tr>\n",
       "      <th>25%</th>\n",
       "      <td>2592.75000</td>\n",
       "      <td>2019-10-15 20:16:53.500000</td>\n",
       "      <td>2019-10-15 20:34:04.249999872</td>\n",
       "      <td>0 days 00:00:21</td>\n",
       "    </tr>\n",
       "    <tr>\n",
       "      <th>50%</th>\n",
       "      <td>5184.50000</td>\n",
       "      <td>2019-10-22 14:53:38.500000</td>\n",
       "      <td>2019-10-22 15:06:33.500000</td>\n",
       "      <td>0 days 00:05:35</td>\n",
       "    </tr>\n",
       "    <tr>\n",
       "      <th>75%</th>\n",
       "      <td>7776.25000</td>\n",
       "      <td>2019-10-28 16:14:37.500000</td>\n",
       "      <td>2019-10-28 16:28:44.249999872</td>\n",
       "      <td>0 days 00:17:25.250000</td>\n",
       "    </tr>\n",
       "    <tr>\n",
       "      <th>max</th>\n",
       "      <td>10368.00000</td>\n",
       "      <td>2019-11-03 23:56:57</td>\n",
       "      <td>2019-11-03 23:58:13</td>\n",
       "      <td>0 days 05:21:58</td>\n",
       "    </tr>\n",
       "    <tr>\n",
       "      <th>std</th>\n",
       "      <td>2993.12813</td>\n",
       "      <td>NaN</td>\n",
       "      <td>NaN</td>\n",
       "      <td>0 days 00:19:51.607952024</td>\n",
       "    </tr>\n",
       "  </tbody>\n",
       "</table>\n",
       "</div>"
      ],
      "text/plain": [
       "        session_id                   sesion_start  \\\n",
       "count  10368.00000                          10368   \n",
       "mean    5184.50000  2019-10-22 02:47:00.987171840   \n",
       "min        1.00000            2019-10-07 00:00:00   \n",
       "25%     2592.75000     2019-10-15 20:16:53.500000   \n",
       "50%     5184.50000     2019-10-22 14:53:38.500000   \n",
       "75%     7776.25000     2019-10-28 16:14:37.500000   \n",
       "max    10368.00000            2019-11-03 23:56:57   \n",
       "std     2993.12813                            NaN   \n",
       "\n",
       "                          sesion_end               session_time  \n",
       "count                          10368                      10368  \n",
       "mean   2019-10-22 02:59:53.656153600  0 days 00:12:52.668981481  \n",
       "min              2019-10-07 00:05:23            0 days 00:00:00  \n",
       "25%    2019-10-15 20:34:04.249999872            0 days 00:00:21  \n",
       "50%       2019-10-22 15:06:33.500000            0 days 00:05:35  \n",
       "75%    2019-10-28 16:28:44.249999872     0 days 00:17:25.250000  \n",
       "max              2019-11-03 23:58:13            0 days 05:21:58  \n",
       "std                              NaN  0 days 00:19:51.607952024  "
      ]
     },
     "execution_count": 29,
     "metadata": {},
     "output_type": "execute_result"
    }
   ],
   "source": [
    "data5.describe()"
   ]
  },
  {
   "cell_type": "markdown",
   "id": "c41dee50",
   "metadata": {},
   "source": [
    "**Вывод:** На графике распределения количества сессий пользователя видно, что в среднем на пользователя получатеся 2-3 тридцатиминутные сессии за выбранный период данных. Сессии по 30 минут были выбраны стандартные. Такие используются в я.метрике или google аналитике. В зависимости от степени безопасности приложения: чем меньше время сессии, тем безопаснее. Половина пользователей имела активную сессию чуть больше 5 минут, а максимальная сессия составила больше 5 часов. Думаю, что это не аномалия, а какой-то пользователь вручную просматривал какую-то категорию объявлений и долго выбирал."
   ]
  },
  {
   "cell_type": "markdown",
   "id": "9cd871fc",
   "metadata": {},
   "source": [
    "### Расчет частоты совершения события. Построение графика"
   ]
  },
  {
   "cell_type": "markdown",
   "id": "9cac535d",
   "metadata": {},
   "source": [
    "Посмотрим количество всех действий соевершаемых пользователем и построим диграмму"
   ]
  },
  {
   "cell_type": "code",
   "execution_count": 30,
   "id": "942be5a2",
   "metadata": {},
   "outputs": [
    {
     "data": {
      "text/plain": [
       "event_name\n",
       "tips_show        40055\n",
       "photos_show      10012\n",
       "search            6784\n",
       "advert_open       6164\n",
       "contacts_show     4529\n",
       "map               3881\n",
       "favorites_add     1417\n",
       "tips_click         814\n",
       "contacts_call      541\n",
       "Name: count, dtype: int64"
      ]
     },
     "execution_count": 30,
     "metadata": {},
     "output_type": "execute_result"
    }
   ],
   "source": [
    "events_repeat = data['event_name'].value_counts()\n",
    "events_repeat"
   ]
  },
  {
   "cell_type": "code",
   "execution_count": 31,
   "id": "879fb248",
   "metadata": {
    "scrolled": false
   },
   "outputs": [
    {
     "data": {
      "image/png": "[encoded data removed]",
      "text/plain": [
       "<Figure size 500x500 with 1 Axes>"
      ]
     },
     "metadata": {},
     "output_type": "display_data"
    }
   ],
   "source": [
    "events_repeat.plot(kind = 'bar', figsize = (5, 5))\n",
    "plt.title('Диаграмма часто совершаемых событий в приложении', fontsize=20)\n",
    "plt.gca().set(xlabel='Наименование события', ylabel='Количество повторений')\n",
    "plt.xticks(rotation=45)\n",
    "plt.show()"
   ]
  },
  {
   "cell_type": "markdown",
   "id": "c01ab5d2",
   "metadata": {},
   "source": [
    "**Вывод:** Часто совершаемое действие это просмотр объявлений. Далее в исследовании посмотрим, сколько пользователей дошло до целевого действия - просмотр контактов."
   ]
  },
  {
   "cell_type": "markdown",
   "id": "4bc5b468",
   "metadata": {},
   "source": [
    "Посчитаем количество действий на каждого пользователя"
   ]
  },
  {
   "cell_type": "code",
   "execution_count": 32,
   "id": "8097487e",
   "metadata": {},
   "outputs": [
    {
     "data": {
      "text/html": [
       "<div>\n",
       "<style scoped>\n",
       "    .dataframe tbody tr th:only-of-type {\n",
       "        vertical-align: middle;\n",
       "    }\n",
       "\n",
       "    .dataframe tbody tr th {\n",
       "        vertical-align: top;\n",
       "    }\n",
       "\n",
       "    .dataframe thead th {\n",
       "        text-align: right;\n",
       "    }\n",
       "</style>\n",
       "<table border=\"1\" class=\"dataframe\">\n",
       "  <thead>\n",
       "    <tr style=\"text-align: right;\">\n",
       "      <th></th>\n",
       "      <th>user_id</th>\n",
       "      <th>event_name</th>\n",
       "    </tr>\n",
       "  </thead>\n",
       "  <tbody>\n",
       "    <tr>\n",
       "      <th>0</th>\n",
       "      <td>0001b1d5-b74a-4cbf-aeb0-7df5947bf349</td>\n",
       "      <td>35</td>\n",
       "    </tr>\n",
       "    <tr>\n",
       "      <th>1</th>\n",
       "      <td>00157779-810c-4498-9e05-a1e9e3cedf93</td>\n",
       "      <td>71</td>\n",
       "    </tr>\n",
       "    <tr>\n",
       "      <th>2</th>\n",
       "      <td>00463033-5717-4bf1-91b4-09183923b9df</td>\n",
       "      <td>10</td>\n",
       "    </tr>\n",
       "    <tr>\n",
       "      <th>3</th>\n",
       "      <td>004690c3-5a84-4bb7-a8af-e0c8f8fca64e</td>\n",
       "      <td>32</td>\n",
       "    </tr>\n",
       "    <tr>\n",
       "      <th>4</th>\n",
       "      <td>00551e79-152e-4441-9cf7-565d7eb04090</td>\n",
       "      <td>8</td>\n",
       "    </tr>\n",
       "  </tbody>\n",
       "</table>\n",
       "</div>"
      ],
      "text/plain": [
       "                                user_id  event_name\n",
       "0  0001b1d5-b74a-4cbf-aeb0-7df5947bf349          35\n",
       "1  00157779-810c-4498-9e05-a1e9e3cedf93          71\n",
       "2  00463033-5717-4bf1-91b4-09183923b9df          10\n",
       "3  004690c3-5a84-4bb7-a8af-e0c8f8fca64e          32\n",
       "4  00551e79-152e-4441-9cf7-565d7eb04090           8"
      ]
     },
     "execution_count": 32,
     "metadata": {},
     "output_type": "execute_result"
    }
   ],
   "source": [
    "count_event = data.pivot_table(index='user_id', values='event_name', aggfunc='count').reset_index()\n",
    "count_event.head()"
   ]
  },
  {
   "cell_type": "markdown",
   "id": "4236a516",
   "metadata": {},
   "source": [
    "Проверим распределение количества полученных значений"
   ]
  },
  {
   "cell_type": "code",
   "execution_count": 33,
   "id": "e11121b8",
   "metadata": {},
   "outputs": [
    {
     "data": {
      "text/plain": [
       "count    4293.000000\n",
       "mean       17.283252\n",
       "std        29.130677\n",
       "min         1.000000\n",
       "25%         5.000000\n",
       "50%         9.000000\n",
       "75%        17.000000\n",
       "max       478.000000\n",
       "Name: event_name, dtype: float64"
      ]
     },
     "execution_count": 33,
     "metadata": {},
     "output_type": "execute_result"
    }
   ],
   "source": [
    "count_event['event_name'].describe()"
   ]
  },
  {
   "cell_type": "code",
   "execution_count": 34,
   "id": "44a89524",
   "metadata": {},
   "outputs": [
    {
     "data": {
      "image/png": "[encoded data removed]",
      "text/plain": [
       "<Figure size 640x480 with 1 Axes>"
      ]
     },
     "metadata": {},
     "output_type": "display_data"
    }
   ],
   "source": [
    "count_event['event_name'].hist(bins=50)\n",
    "plt.title('Распределение количества действий на каждого пользователя')\n",
    "plt.xlabel('Количество пользователей')\n",
    "plt.ylabel('Количество действий')\n",
    "plt.show()"
   ]
  },
  {
   "cell_type": "markdown",
   "id": "cf96969d",
   "metadata": {},
   "source": [
    "Минимальное количество действий у пользователя - 1. Вероятно, это просмотр карточки объявления. В среднем каждый пользователь совершал 17 действий. Максимальное значение 478 действий является скорее всего аномальным, чем реальным(возможно у пользователя на клавиатуре запала кнопка ф5 для обновления страницы или на нее сел кот)."
   ]
  },
  {
   "cell_type": "markdown",
   "id": "0b88ab82",
   "metadata": {},
   "source": [
    "### Расчет конверсии пользователей\n",
    "Конверсия пользователей - это процент пользователей, которые выполняют целевое действие на нашем сайте или приложении (например, покупку товара, заполнение формы, подписку на рассылку и т.д.). В нашем случа это будет \"просмотр контакта\""
   ]
  },
  {
   "cell_type": "code",
   "execution_count": 35,
   "id": "aa4d621b",
   "metadata": {},
   "outputs": [
    {
     "name": "stdout",
     "output_type": "stream",
     "text": [
      "Конверсия относительно совершения целевого действия составляет: 22.85 %\n"
     ]
    }
   ],
   "source": [
    "uniq_users = data['user_id'].nunique() #найдем уникальных пользоваетелей\n",
    "uniq_cr_users = data.loc[data['event_name'] == 'contacts_show']['user_id'].nunique() #отберем пользователей который выполнили целевое действие\n",
    "convertion_rate = round((uniq_cr_users / uniq_users) *100, 2) #делим количество пользователей выполнивших целевое действие на общее количество\n",
    "print('Конверсия относительно совершения целевого действия составляет:', convertion_rate, '%')"
   ]
  },
  {
   "cell_type": "markdown",
   "id": "2e8ddedf",
   "metadata": {},
   "source": [
    "**Общий вывод:** В процессе исследования одним из важных показателей был расчет lifetime пользователей который показал, что к концу периода количество вернувшихся пользователей упало до 11%. Также, мы рассчитали сессии пользователей и определили, что на одного пользователя приходятся 2-3 тридцатиминутные сессии за выбранный период данных. Самое часто совершаемое событие в приложении является просмотр объявления и менее совершаемое событие это звонок по объявлению. Также, была рассчитана конверсия пользователей которые совершают целевое действие - просмотр контакта. Конверсия составил 22,85%.\n"
   ]
  },
  {
   "cell_type": "markdown",
   "id": "4facd515",
   "metadata": {},
   "source": [
    "## Сегментация пользователей по типу источника привлечения"
   ]
  },
  {
   "cell_type": "markdown",
   "id": "3b4457a0",
   "metadata": {},
   "source": [
    "Разделим по группам пользователей пришедших в приложение из yandex, google и других источников. Такая сегментация позволит понять имеет ли какую-то эффективность различные источники привлечения. Если имеют, то это позволит нам сосредоточить свои усилия на наиболее эффективных. Также, разные источники привлечения могут привлекать разные группы пользователей с разными потребностями и предпочтениями. Например, пользователи, пришедшие из социальных сетей, могут быть более молодыми и активными в социальных медиа, в то время как пользователи, пришедшие из поисковых систем, могут быть более заинтересованы в конкретных продуктах или услугах. Исследование позволяет определить эти различия и настроить маркетинговые стратегии для каждой группы пользователей. В целом, исследование и сегментация пользователей по типу источника привлечения позволяет более эффективно использовать ресурсы и разрабатывать персонализированные маркетинговые стратегии, что в конечном итоге приводит к увеличению прибыли и удовлетворенности клиентов."
   ]
  },
  {
   "cell_type": "code",
   "execution_count": 36,
   "id": "ca908277",
   "metadata": {},
   "outputs": [
    {
     "data": {
      "text/html": [
       "<div>\n",
       "<style scoped>\n",
       "    .dataframe tbody tr th:only-of-type {\n",
       "        vertical-align: middle;\n",
       "    }\n",
       "\n",
       "    .dataframe tbody tr th {\n",
       "        vertical-align: top;\n",
       "    }\n",
       "\n",
       "    .dataframe thead th {\n",
       "        text-align: right;\n",
       "    }\n",
       "</style>\n",
       "<table border=\"1\" class=\"dataframe\">\n",
       "  <thead>\n",
       "    <tr style=\"text-align: right;\">\n",
       "      <th></th>\n",
       "      <th>event_time</th>\n",
       "      <th>event_name</th>\n",
       "      <th>user_id</th>\n",
       "      <th>source</th>\n",
       "      <th>first_dt</th>\n",
       "      <th>event_week</th>\n",
       "      <th>first_week</th>\n",
       "      <th>ltv</th>\n",
       "      <th>time</th>\n",
       "      <th>session_id</th>\n",
       "    </tr>\n",
       "  </thead>\n",
       "  <tbody>\n",
       "    <tr>\n",
       "      <th>35</th>\n",
       "      <td>2019-10-19 21:34:34</td>\n",
       "      <td>search</td>\n",
       "      <td>00157779-810c-4498-9e05-a1e9e3cedf93</td>\n",
       "      <td>yandex</td>\n",
       "      <td>2019-10-19 21:34:34</td>\n",
       "      <td>2019-10-14</td>\n",
       "      <td>2019-10-14</td>\n",
       "      <td>0</td>\n",
       "      <td>2019-10-19 21:34:34</td>\n",
       "      <td>5</td>\n",
       "    </tr>\n",
       "    <tr>\n",
       "      <th>36</th>\n",
       "      <td>2019-10-19 21:35:19</td>\n",
       "      <td>search</td>\n",
       "      <td>00157779-810c-4498-9e05-a1e9e3cedf93</td>\n",
       "      <td>yandex</td>\n",
       "      <td>2019-10-19 21:34:34</td>\n",
       "      <td>2019-10-14</td>\n",
       "      <td>2019-10-14</td>\n",
       "      <td>0</td>\n",
       "      <td>2019-10-19 21:35:19</td>\n",
       "      <td>5</td>\n",
       "    </tr>\n",
       "    <tr>\n",
       "      <th>37</th>\n",
       "      <td>2019-10-19 21:36:44</td>\n",
       "      <td>search</td>\n",
       "      <td>00157779-810c-4498-9e05-a1e9e3cedf93</td>\n",
       "      <td>yandex</td>\n",
       "      <td>2019-10-19 21:34:34</td>\n",
       "      <td>2019-10-14</td>\n",
       "      <td>2019-10-14</td>\n",
       "      <td>0</td>\n",
       "      <td>2019-10-19 21:36:44</td>\n",
       "      <td>5</td>\n",
       "    </tr>\n",
       "    <tr>\n",
       "      <th>38</th>\n",
       "      <td>2019-10-19 21:40:39</td>\n",
       "      <td>photos_show</td>\n",
       "      <td>00157779-810c-4498-9e05-a1e9e3cedf93</td>\n",
       "      <td>yandex</td>\n",
       "      <td>2019-10-19 21:34:34</td>\n",
       "      <td>2019-10-14</td>\n",
       "      <td>2019-10-14</td>\n",
       "      <td>0</td>\n",
       "      <td>2019-10-19 21:40:39</td>\n",
       "      <td>5</td>\n",
       "    </tr>\n",
       "    <tr>\n",
       "      <th>39</th>\n",
       "      <td>2019-10-19 21:42:14</td>\n",
       "      <td>photos_show</td>\n",
       "      <td>00157779-810c-4498-9e05-a1e9e3cedf93</td>\n",
       "      <td>yandex</td>\n",
       "      <td>2019-10-19 21:34:34</td>\n",
       "      <td>2019-10-14</td>\n",
       "      <td>2019-10-14</td>\n",
       "      <td>0</td>\n",
       "      <td>2019-10-19 21:42:14</td>\n",
       "      <td>5</td>\n",
       "    </tr>\n",
       "  </tbody>\n",
       "</table>\n",
       "</div>"
      ],
      "text/plain": [
       "            event_time   event_name                               user_id  \\\n",
       "35 2019-10-19 21:34:34       search  00157779-810c-4498-9e05-a1e9e3cedf93   \n",
       "36 2019-10-19 21:35:19       search  00157779-810c-4498-9e05-a1e9e3cedf93   \n",
       "37 2019-10-19 21:36:44       search  00157779-810c-4498-9e05-a1e9e3cedf93   \n",
       "38 2019-10-19 21:40:39  photos_show  00157779-810c-4498-9e05-a1e9e3cedf93   \n",
       "39 2019-10-19 21:42:14  photos_show  00157779-810c-4498-9e05-a1e9e3cedf93   \n",
       "\n",
       "    source            first_dt  event_week  first_week  ltv  \\\n",
       "35  yandex 2019-10-19 21:34:34  2019-10-14  2019-10-14    0   \n",
       "36  yandex 2019-10-19 21:34:34  2019-10-14  2019-10-14    0   \n",
       "37  yandex 2019-10-19 21:34:34  2019-10-14  2019-10-14    0   \n",
       "38  yandex 2019-10-19 21:34:34  2019-10-14  2019-10-14    0   \n",
       "39  yandex 2019-10-19 21:34:34  2019-10-14  2019-10-14    0   \n",
       "\n",
       "                  time  session_id  \n",
       "35 2019-10-19 21:34:34           5  \n",
       "36 2019-10-19 21:35:19           5  \n",
       "37 2019-10-19 21:36:44           5  \n",
       "38 2019-10-19 21:40:39           5  \n",
       "39 2019-10-19 21:42:14           5  "
      ]
     },
     "execution_count": 36,
     "metadata": {},
     "output_type": "execute_result"
    }
   ],
   "source": [
    "user_yandex = data[data['source'] == 'yandex']\n",
    "user_yandex.head()"
   ]
  },
  {
   "cell_type": "code",
   "execution_count": 37,
   "id": "5c241f4b",
   "metadata": {},
   "outputs": [
    {
     "data": {
      "text/html": [
       "<div>\n",
       "<style scoped>\n",
       "    .dataframe tbody tr th:only-of-type {\n",
       "        vertical-align: middle;\n",
       "    }\n",
       "\n",
       "    .dataframe tbody tr th {\n",
       "        vertical-align: top;\n",
       "    }\n",
       "\n",
       "    .dataframe thead th {\n",
       "        text-align: right;\n",
       "    }\n",
       "</style>\n",
       "<table border=\"1\" class=\"dataframe\">\n",
       "  <thead>\n",
       "    <tr style=\"text-align: right;\">\n",
       "      <th></th>\n",
       "      <th>event_time</th>\n",
       "      <th>event_name</th>\n",
       "      <th>user_id</th>\n",
       "      <th>source</th>\n",
       "      <th>first_dt</th>\n",
       "      <th>event_week</th>\n",
       "      <th>first_week</th>\n",
       "      <th>ltv</th>\n",
       "      <th>time</th>\n",
       "      <th>session_id</th>\n",
       "    </tr>\n",
       "  </thead>\n",
       "  <tbody>\n",
       "    <tr>\n",
       "      <th>116</th>\n",
       "      <td>2019-10-18 22:14:06</td>\n",
       "      <td>search</td>\n",
       "      <td>004690c3-5a84-4bb7-a8af-e0c8f8fca64e</td>\n",
       "      <td>google</td>\n",
       "      <td>2019-10-18 22:14:06</td>\n",
       "      <td>2019-10-14</td>\n",
       "      <td>2019-10-14</td>\n",
       "      <td>0</td>\n",
       "      <td>2019-10-18 22:14:06</td>\n",
       "      <td>12</td>\n",
       "    </tr>\n",
       "    <tr>\n",
       "      <th>117</th>\n",
       "      <td>2019-10-18 22:14:17</td>\n",
       "      <td>search</td>\n",
       "      <td>004690c3-5a84-4bb7-a8af-e0c8f8fca64e</td>\n",
       "      <td>google</td>\n",
       "      <td>2019-10-18 22:14:06</td>\n",
       "      <td>2019-10-14</td>\n",
       "      <td>2019-10-14</td>\n",
       "      <td>0</td>\n",
       "      <td>2019-10-18 22:14:17</td>\n",
       "      <td>12</td>\n",
       "    </tr>\n",
       "    <tr>\n",
       "      <th>118</th>\n",
       "      <td>2019-10-18 22:17:41</td>\n",
       "      <td>map</td>\n",
       "      <td>004690c3-5a84-4bb7-a8af-e0c8f8fca64e</td>\n",
       "      <td>google</td>\n",
       "      <td>2019-10-18 22:14:06</td>\n",
       "      <td>2019-10-14</td>\n",
       "      <td>2019-10-14</td>\n",
       "      <td>0</td>\n",
       "      <td>2019-10-18 22:17:41</td>\n",
       "      <td>12</td>\n",
       "    </tr>\n",
       "    <tr>\n",
       "      <th>119</th>\n",
       "      <td>2019-10-20 17:47:19</td>\n",
       "      <td>search</td>\n",
       "      <td>004690c3-5a84-4bb7-a8af-e0c8f8fca64e</td>\n",
       "      <td>google</td>\n",
       "      <td>2019-10-18 22:14:06</td>\n",
       "      <td>2019-10-14</td>\n",
       "      <td>2019-10-14</td>\n",
       "      <td>0</td>\n",
       "      <td>2019-10-20 17:47:19</td>\n",
       "      <td>13</td>\n",
       "    </tr>\n",
       "    <tr>\n",
       "      <th>120</th>\n",
       "      <td>2019-10-20 17:47:20</td>\n",
       "      <td>search</td>\n",
       "      <td>004690c3-5a84-4bb7-a8af-e0c8f8fca64e</td>\n",
       "      <td>google</td>\n",
       "      <td>2019-10-18 22:14:06</td>\n",
       "      <td>2019-10-14</td>\n",
       "      <td>2019-10-14</td>\n",
       "      <td>0</td>\n",
       "      <td>2019-10-20 17:47:20</td>\n",
       "      <td>13</td>\n",
       "    </tr>\n",
       "  </tbody>\n",
       "</table>\n",
       "</div>"
      ],
      "text/plain": [
       "             event_time event_name                               user_id  \\\n",
       "116 2019-10-18 22:14:06     search  004690c3-5a84-4bb7-a8af-e0c8f8fca64e   \n",
       "117 2019-10-18 22:14:17     search  004690c3-5a84-4bb7-a8af-e0c8f8fca64e   \n",
       "118 2019-10-18 22:17:41        map  004690c3-5a84-4bb7-a8af-e0c8f8fca64e   \n",
       "119 2019-10-20 17:47:19     search  004690c3-5a84-4bb7-a8af-e0c8f8fca64e   \n",
       "120 2019-10-20 17:47:20     search  004690c3-5a84-4bb7-a8af-e0c8f8fca64e   \n",
       "\n",
       "     source            first_dt  event_week  first_week  ltv  \\\n",
       "116  google 2019-10-18 22:14:06  2019-10-14  2019-10-14    0   \n",
       "117  google 2019-10-18 22:14:06  2019-10-14  2019-10-14    0   \n",
       "118  google 2019-10-18 22:14:06  2019-10-14  2019-10-14    0   \n",
       "119  google 2019-10-18 22:14:06  2019-10-14  2019-10-14    0   \n",
       "120  google 2019-10-18 22:14:06  2019-10-14  2019-10-14    0   \n",
       "\n",
       "                   time  session_id  \n",
       "116 2019-10-18 22:14:06          12  \n",
       "117 2019-10-18 22:14:17          12  \n",
       "118 2019-10-18 22:17:41          12  \n",
       "119 2019-10-20 17:47:19          13  \n",
       "120 2019-10-20 17:47:20          13  "
      ]
     },
     "execution_count": 37,
     "metadata": {},
     "output_type": "execute_result"
    }
   ],
   "source": [
    "user_google = data[data['source'] == 'google']\n",
    "user_google.head()"
   ]
  },
  {
   "cell_type": "code",
   "execution_count": 38,
   "id": "4c85fa69",
   "metadata": {},
   "outputs": [
    {
     "data": {
      "text/html": [
       "<div>\n",
       "<style scoped>\n",
       "    .dataframe tbody tr th:only-of-type {\n",
       "        vertical-align: middle;\n",
       "    }\n",
       "\n",
       "    .dataframe tbody tr th {\n",
       "        vertical-align: top;\n",
       "    }\n",
       "\n",
       "    .dataframe thead th {\n",
       "        text-align: right;\n",
       "    }\n",
       "</style>\n",
       "<table border=\"1\" class=\"dataframe\">\n",
       "  <thead>\n",
       "    <tr style=\"text-align: right;\">\n",
       "      <th></th>\n",
       "      <th>event_time</th>\n",
       "      <th>event_name</th>\n",
       "      <th>user_id</th>\n",
       "      <th>source</th>\n",
       "      <th>first_dt</th>\n",
       "      <th>event_week</th>\n",
       "      <th>first_week</th>\n",
       "      <th>ltv</th>\n",
       "      <th>time</th>\n",
       "      <th>session_id</th>\n",
       "    </tr>\n",
       "  </thead>\n",
       "  <tbody>\n",
       "    <tr>\n",
       "      <th>0</th>\n",
       "      <td>2019-10-07 13:39:46</td>\n",
       "      <td>tips_show</td>\n",
       "      <td>0001b1d5-b74a-4cbf-aeb0-7df5947bf349</td>\n",
       "      <td>other</td>\n",
       "      <td>2019-10-07 13:39:46</td>\n",
       "      <td>2019-10-07</td>\n",
       "      <td>2019-10-07</td>\n",
       "      <td>0</td>\n",
       "      <td>2019-10-07 13:39:46</td>\n",
       "      <td>1</td>\n",
       "    </tr>\n",
       "    <tr>\n",
       "      <th>1</th>\n",
       "      <td>2019-10-07 13:40:31</td>\n",
       "      <td>tips_show</td>\n",
       "      <td>0001b1d5-b74a-4cbf-aeb0-7df5947bf349</td>\n",
       "      <td>other</td>\n",
       "      <td>2019-10-07 13:39:46</td>\n",
       "      <td>2019-10-07</td>\n",
       "      <td>2019-10-07</td>\n",
       "      <td>0</td>\n",
       "      <td>2019-10-07 13:40:31</td>\n",
       "      <td>1</td>\n",
       "    </tr>\n",
       "    <tr>\n",
       "      <th>2</th>\n",
       "      <td>2019-10-07 13:41:06</td>\n",
       "      <td>tips_show</td>\n",
       "      <td>0001b1d5-b74a-4cbf-aeb0-7df5947bf349</td>\n",
       "      <td>other</td>\n",
       "      <td>2019-10-07 13:39:46</td>\n",
       "      <td>2019-10-07</td>\n",
       "      <td>2019-10-07</td>\n",
       "      <td>0</td>\n",
       "      <td>2019-10-07 13:41:06</td>\n",
       "      <td>1</td>\n",
       "    </tr>\n",
       "    <tr>\n",
       "      <th>3</th>\n",
       "      <td>2019-10-07 13:43:21</td>\n",
       "      <td>tips_show</td>\n",
       "      <td>0001b1d5-b74a-4cbf-aeb0-7df5947bf349</td>\n",
       "      <td>other</td>\n",
       "      <td>2019-10-07 13:39:46</td>\n",
       "      <td>2019-10-07</td>\n",
       "      <td>2019-10-07</td>\n",
       "      <td>0</td>\n",
       "      <td>2019-10-07 13:43:21</td>\n",
       "      <td>1</td>\n",
       "    </tr>\n",
       "    <tr>\n",
       "      <th>4</th>\n",
       "      <td>2019-10-07 13:45:31</td>\n",
       "      <td>tips_show</td>\n",
       "      <td>0001b1d5-b74a-4cbf-aeb0-7df5947bf349</td>\n",
       "      <td>other</td>\n",
       "      <td>2019-10-07 13:39:46</td>\n",
       "      <td>2019-10-07</td>\n",
       "      <td>2019-10-07</td>\n",
       "      <td>0</td>\n",
       "      <td>2019-10-07 13:45:31</td>\n",
       "      <td>1</td>\n",
       "    </tr>\n",
       "  </tbody>\n",
       "</table>\n",
       "</div>"
      ],
      "text/plain": [
       "           event_time event_name                               user_id source  \\\n",
       "0 2019-10-07 13:39:46  tips_show  0001b1d5-b74a-4cbf-aeb0-7df5947bf349  other   \n",
       "1 2019-10-07 13:40:31  tips_show  0001b1d5-b74a-4cbf-aeb0-7df5947bf349  other   \n",
       "2 2019-10-07 13:41:06  tips_show  0001b1d5-b74a-4cbf-aeb0-7df5947bf349  other   \n",
       "3 2019-10-07 13:43:21  tips_show  0001b1d5-b74a-4cbf-aeb0-7df5947bf349  other   \n",
       "4 2019-10-07 13:45:31  tips_show  0001b1d5-b74a-4cbf-aeb0-7df5947bf349  other   \n",
       "\n",
       "             first_dt  event_week  first_week  ltv                time  \\\n",
       "0 2019-10-07 13:39:46  2019-10-07  2019-10-07    0 2019-10-07 13:39:46   \n",
       "1 2019-10-07 13:39:46  2019-10-07  2019-10-07    0 2019-10-07 13:40:31   \n",
       "2 2019-10-07 13:39:46  2019-10-07  2019-10-07    0 2019-10-07 13:41:06   \n",
       "3 2019-10-07 13:39:46  2019-10-07  2019-10-07    0 2019-10-07 13:43:21   \n",
       "4 2019-10-07 13:39:46  2019-10-07  2019-10-07    0 2019-10-07 13:45:31   \n",
       "\n",
       "   session_id  \n",
       "0           1  \n",
       "1           1  \n",
       "2           1  \n",
       "3           1  \n",
       "4           1  "
      ]
     },
     "execution_count": 38,
     "metadata": {},
     "output_type": "execute_result"
    }
   ],
   "source": [
    "user_other = data[data['source'] == 'other']\n",
    "user_other.head()"
   ]
  },
  {
   "cell_type": "markdown",
   "id": "d82b1fd6",
   "metadata": {},
   "source": [
    "Рассчитаем Retention rate для группы пользователей пришедших из Yandex, используя тот же расчет, что и выше"
   ]
  },
  {
   "cell_type": "code",
   "execution_count": 39,
   "id": "800741f7",
   "metadata": {},
   "outputs": [
    {
     "data": {
      "image/png": "[encoded data removed]",
      "text/plain": [
       "<Figure size 640x480 with 2 Axes>"
      ]
     },
     "metadata": {},
     "output_type": "display_data"
    }
   ],
   "source": [
    "user_yandex['ltv_yandex'] = ((user_yandex['event_week'] - user_yandex['first_week']) / np.timedelta64(1,'W')).astype(int) #рассчет ltv\n",
    "result_raw_yandex = user_yandex.pivot_table(index=['first_week'], columns='ltv_yandex', values='user_id', aggfunc='nunique')\n",
    "cohort_sizes_yandex = (\n",
    "    user_yandex.groupby('first_week')\n",
    "    .agg({'user_id': 'nunique'})\n",
    "    .rename(columns={'user_id': 'cohort_size'})\n",
    ")\n",
    "data3 = cohort_sizes_yandex.merge(result_raw_yandex, on='first_week', how='left').fillna(0)\n",
    "data3 = data3.div(data3['cohort_size'], axis=0).drop(columns=['cohort_size'])\n",
    "ax = sns.heatmap(\n",
    "    data3,\n",
    "    annot=True,  # включаем подписи\n",
    "    fmt='.2%',  # переводим значения в проценты\n",
    ")\n",
    "plt.title('Тепловая карта удержания yandex')  # название графика\n",
    "plt.xlabel('LTV')\n",
    "plt.ylabel('Неделя первого посещения')\n",
    "plt.show()"
   ]
  },
  {
   "cell_type": "markdown",
   "id": "309c74f4",
   "metadata": {},
   "source": [
    "**Вывод:** количество удержанных пользователей снизилось с первой до третьей недели с 22% до 10% которые пришли из google"
   ]
  },
  {
   "cell_type": "markdown",
   "id": "ffb898fe",
   "metadata": {},
   "source": [
    "Рассчитаем конверсию для пользователей из Yandex"
   ]
  },
  {
   "cell_type": "code",
   "execution_count": 40,
   "id": "38aea2e9",
   "metadata": {},
   "outputs": [
    {
     "name": "stdout",
     "output_type": "stream",
     "text": [
      "Конверсия у пользователей yandex отностительно совершения целевого действия составляет: 24.72 %\n"
     ]
    }
   ],
   "source": [
    "uniq_users_yandex = user_yandex['user_id'].nunique() #найдем уникальных пользоваетелей\n",
    "uniq_cr_yandex = user_yandex.loc[user_yandex['event_name'] == 'contacts_show']['user_id'].nunique() #отберем пользователей который выполнили целевое действие\n",
    "convertion_rate = round((uniq_cr_yandex / uniq_users_yandex) *100, 2) #делим количество пользователей выполнивших целевое действие на общее количество\n",
    "print('Конверсия у пользователей yandex отностительно совершения целевого действия составляет:', convertion_rate, '%')"
   ]
  },
  {
   "cell_type": "markdown",
   "id": "1f90c466",
   "metadata": {},
   "source": [
    "Рассчитаем Retention rate для группы пользователей пришедших из Google"
   ]
  },
  {
   "cell_type": "code",
   "execution_count": 41,
   "id": "6439c420",
   "metadata": {},
   "outputs": [
    {
     "data": {
      "image/png": "[encoded data removed]",
      "text/plain": [
       "<Figure size 640x480 with 2 Axes>"
      ]
     },
     "metadata": {},
     "output_type": "display_data"
    }
   ],
   "source": [
    "user_google['ltv_google'] = ((user_google['event_week'] - user_google['first_week']) / np.timedelta64(1,'W')).astype(int) #рассчет ltv\n",
    "result_raw_google = user_google.pivot_table(index=['first_week'], columns='ltv_google', values='user_id', aggfunc='nunique')\n",
    "cohort_sizes_google = (\n",
    "    user_google.groupby('first_week')\n",
    "    .agg({'user_id': 'nunique'})\n",
    "    .rename(columns={'user_id': 'cohort_size'})\n",
    ")\n",
    "data4 = cohort_sizes_google.merge(result_raw_google, on='first_week', how='left').fillna(0)\n",
    "data4 = data4.div(data4['cohort_size'], axis=0).drop(columns=['cohort_size'])\n",
    "ax = sns.heatmap(\n",
    "    data4,\n",
    "    annot=True,  # включаем подписи\n",
    "    fmt='.2%',  # переводим значения в проценты\n",
    ")\n",
    "plt.title('Тепловая карта удержания google')  # название графика\n",
    "plt.xlabel('LTV')\n",
    "plt.ylabel('Неделя первого посещения')\n",
    "plt.show()"
   ]
  },
  {
   "cell_type": "code",
   "execution_count": 42,
   "id": "f4526a49",
   "metadata": {},
   "outputs": [
    {
     "name": "stdout",
     "output_type": "stream",
     "text": [
      "Конверсия у пользователей google отностительно совершения целевого действия составляет: 24.36 %\n"
     ]
    }
   ],
   "source": [
    "uniq_users_google = user_google['user_id'].nunique() #найдем уникальных пользоваетелей\n",
    "uniq_cr_google = user_google.loc[user_google['event_name'] == 'contacts_show']['user_id'].nunique() #отберем пользователей который выполнили целевое действие\n",
    "convertion_rate = round((uniq_cr_google / uniq_users_google) *100, 2) #делим количество пользователей выполнивших целевое действие на общее количество\n",
    "print('Конверсия у пользователей google отностительно совершения целевого действия составляет:', convertion_rate, '%')"
   ]
  },
  {
   "cell_type": "code",
   "execution_count": 43,
   "id": "d9793810",
   "metadata": {},
   "outputs": [
    {
     "data": {
      "image/png": "[encoded data removed]",
      "text/plain": [
       "<Figure size 640x480 with 2 Axes>"
      ]
     },
     "metadata": {},
     "output_type": "display_data"
    }
   ],
   "source": [
    "user_other['ltv_other'] = ((user_other['event_week'] - user_other['first_week']) / np.timedelta64(1,'W')).astype(int) #рассчет ltv\n",
    "result_raw_other = user_other.pivot_table(index=['first_week'], columns='ltv_other', values='user_id', aggfunc='nunique')\n",
    "cohort_sizes_other = (\n",
    "    user_other.groupby('first_week')\n",
    "    .agg({'user_id': 'nunique'})\n",
    "    .rename(columns={'user_id': 'cohort_size'})\n",
    ")\n",
    "data6 = cohort_sizes_other.merge(result_raw_other, on='first_week', how='left').fillna(0)\n",
    "data6 = data6.div(data6['cohort_size'], axis=0).drop(columns=['cohort_size'])\n",
    "ax = sns.heatmap(\n",
    "    data6,\n",
    "    annot=True,  # включаем подписи\n",
    "    fmt='.2%',  # переводим значения в проценты\n",
    ")\n",
    "plt.title('Тепловая карта удержания other')  # название графика\n",
    "plt.xlabel('LTV')\n",
    "plt.ylabel('Неделя первого посещения')\n",
    "plt.show()"
   ]
  },
  {
   "cell_type": "markdown",
   "id": "0823742d",
   "metadata": {},
   "source": [
    "Рассчитаем конверсию для пользователей из других браузеров"
   ]
  },
  {
   "cell_type": "code",
   "execution_count": 44,
   "id": "799c271f",
   "metadata": {},
   "outputs": [
    {
     "name": "stdout",
     "output_type": "stream",
     "text": [
      "Конверсия у пользователей google отностительно совершения целевого действия составляет: 18.54 %\n"
     ]
    }
   ],
   "source": [
    "uniq_users_other = user_other['user_id'].nunique() #найдем уникальных пользоваетелей\n",
    "uniq_cr_other = user_other.loc[user_other['event_name'] == 'contacts_show']['user_id'].nunique() #отберем пользователей который выполнили целевое действие\n",
    "convertion_rate = round((uniq_cr_other / uniq_users_other) *100, 2) #делим количество пользователей выполнивших целевое действие на общее количество\n",
    "print('Конверсия у пользователей google отностительно совершения целевого действия составляет:', convertion_rate, '%')"
   ]
  },
  {
   "cell_type": "markdown",
   "id": "c5d3860a",
   "metadata": {},
   "source": [
    "**Вывод:** Выполнив сегментацию пользователей по типу источника привлечения было установлено, что пользователи пришедшие из yandex имеют бОльшую конверсию(24,36%), чем пользователи пришедшие из google. Но, процент удержания пользователей google к последней неделе наоборот больше, чем у yandex. Для улучшения показателя удержания пользователей из обоих источников можно провести более детальный анализ поведения и предпочтений этих групп пользователей. Это может помочь определить специфические причины, по которым пользователи из каждого источника покидают объявление. Также стоит обратить внимание на эффективность маркетинговых кампаний в каждом из источников. Возможно, необходимо пересмотреть стратегию привлечения пользователей из Yandex или Google, чтобы привлекать более лояльную аудиторию или повысить конверсию."
   ]
  },
  {
   "cell_type": "markdown",
   "id": "84b3ceff",
   "metadata": {},
   "source": [
    "## Определение статистических гипотез и их проверка"
   ]
  },
  {
   "cell_type": "markdown",
   "id": "039b2555",
   "metadata": {},
   "source": [
    "### Формулировка гипотезы заказчика\n",
    "Некоторые пользователи установили приложение по ссылке из yandex, другие — из google. Проверьте гипотезу: две эти группы демонстрируют разную конверсию в просмотры контактов."
   ]
  },
  {
   "cell_type": "markdown",
   "id": "9e482cee",
   "metadata": {},
   "source": [
    "Определим нулевую и альтернативные гипотезы:\n",
    "\n",
    "* H0: Не существует статистически значимых отличий между пользователями, которые установили приложение по ссылке из Google, и пользователями, которые пришли через ссылку из Yandex.\n",
    "\n",
    "* H1: Существуют статистически значимые отличия между пользователями, которые установили приложение по ссылке из Google, и пользователями, которые пришли через ссылку из Yandex.\n",
    "\n",
    "Возьмем датафреймы с уже выделенными данными по группам уникальных пользователей из yqndex и google(uniq_cr_yandex и uniq_cr_google), а также рассчитанные по ним конверсии в целевое действие. Создадим массив с использоваением этих таблиц"
   ]
  },
  {
   "cell_type": "code",
   "execution_count": 45,
   "id": "25540578",
   "metadata": {},
   "outputs": [],
   "source": [
    "#создадим массивы данных из таблиц уникальных пользователей и уникальных пользователей совершивших целевое действие для проведения z-теста\n",
    "purchases = np.array([uniq_cr_google, uniq_cr_yandex])\n",
    "leads = np.array([uniq_users_google, uniq_users_yandex])"
   ]
  },
  {
   "cell_type": "code",
   "execution_count": 46,
   "id": "4007ea23",
   "metadata": {},
   "outputs": [
    {
     "name": "stdout",
     "output_type": "stream",
     "text": [
      "p-значение:  0.8244316027993777\n",
      "Не получилось отвергнуть нулевую гипотезу: статистически значимых отличий между пользователями нет\n"
     ]
    }
   ],
   "source": [
    "alpha = 0.05 # критический уровень статистической значимости\n",
    "\n",
    "# пропорция успехов в первой группе:\n",
    "p1 = purchases[0] / leads[0]\n",
    "# пропорция успехов во второй группе:\n",
    "p2 = purchases[1] / leads[1]\n",
    "\n",
    "# пропорция успехов в комбинированном датасете:\n",
    "p_combined = (purchases[0] + purchases[1]) / (leads[0] + leads[1])\n",
    "# разница пропорций в датасетах\n",
    "difference = p1-p2\n",
    "\n",
    "# считаем статистику в ст.отклонениях стандартного нормального распределения\n",
    "z_value = difference / mth.sqrt(p_combined * (1 - p_combined) * (1/leads[0] + 1/leads[1]))\n",
    "\n",
    "# задаем стандартное нормальное распределение (среднее 0, ст.отклонение 1)\n",
    "distr = st.norm(0,1)\n",
    "\n",
    "#удвоим результат так как тест двусторонний\n",
    "p_value = (1 - distr.cdf(abs(z_value))) * 2\n",
    "\n",
    "print('p-значение: ', p_value)\n",
    "\n",
    "if p_value < alpha:\n",
    "    print('Отвергаем нулевую гипотезу: статистически значимые отличия между пользователями есть')\n",
    "else:\n",
    "    print(\n",
    "        'Не получилось отвергнуть нулевую гипотезу: статистически значимых отличий между пользователями нет'\n",
    "    )"
   ]
  },
  {
   "cell_type": "markdown",
   "id": "6da0025d",
   "metadata": {},
   "source": [
    "**Вывод:** исходя из расчетов, видим, что нет оснований отвергать нулевую гипотезу. Статистически значимых различий между долями конверсии в целевое событие пользователей из различных источников нет."
   ]
  },
  {
   "cell_type": "markdown",
   "id": "59a89872",
   "metadata": {},
   "source": [
    "### Формулировка собственной гипотезы \n",
    "Существует разница в среднем времени, проведенном в приложении между группами пользователей, которые совершили целевое действие (пользователь позвонил по номеру телефона), и теми, кто этого не сделал."
   ]
  },
  {
   "cell_type": "markdown",
   "id": "4417d7fb",
   "metadata": {},
   "source": [
    "Определим нулевую и альтернативные гипотезы:\n",
    "\n",
    "* H0: Не существует статистически значимых отличий в конверсии по целевому действию между уникальными пользователями группы с короткими сессиями и уникальными пользователями с длинными сессиями\n",
    "\n",
    "* H1: Существуют статистически значимых отличий в конверсии по целевому действию между уникальными пользователями группы с короткими сессиями и уникальными пользователями с длинными сессиями"
   ]
  },
  {
   "cell_type": "code",
   "execution_count": 47,
   "id": "57d50090",
   "metadata": {},
   "outputs": [
    {
     "name": "stdout",
     "output_type": "stream",
     "text": [
      "Конверсия 1й группы составляет - 1.83 %\n",
      "Конверсия 2й группы составляет - 5.58 %\n"
     ]
    }
   ],
   "source": [
    "#переименуем колонки в датасете который содержит распределение количества сессий пользователей\n",
    "session_distrib.columns = ['user_id', 'session_id_new']\n",
    "# объеденим датасет распределния количества сессий с исходным датасетом\n",
    "data = data.merge(session_distrib, on = 'user_id', how = 'left')\n",
    "# определим наши группы\n",
    "test_A = data[data['session_id_new'] == 1]\n",
    "test_B = data[data['session_id_new'] == 2]\n",
    "# найдем общее количество уникальных пользователей в 1й группе\n",
    "test_A_total = test_A['user_id'].nunique()\n",
    "# найдем количество уникальных пользователей совершихших целевое действие в 1й группе\n",
    "test_A_cr = test_A.loc[test_A['event_name'] == 'contacts_call']['user_id'].nunique()\n",
    "\n",
    "print('Конверсия 1й группы составляет -', round((test_A_cr / test_A_total) * 100, 2), '%')\n",
    "\n",
    "# находим общее количество уникальных пользователей в 2й группе\n",
    "test_B_total = test_B['user_id'].nunique()\n",
    "# находим количество уникальных пользователей совершихших целевое действие в 2й группе\n",
    "test_B_cr = test_B.loc[test_B['event_name'] == 'contacts_call']['user_id'].nunique()\n",
    "\n",
    "print('Конверсия 2й группы составляет -', round((test_B_cr / test_B_total) * 100, 2), '%')\n",
    "#создаем массивы с данными для проведения z-теста\n",
    "purchases = np.array([test_A_cr, test_B_cr])\n",
    "leads = np.array([test_A_total, test_B_total])"
   ]
  },
  {
   "cell_type": "code",
   "execution_count": 48,
   "id": "4902a781",
   "metadata": {},
   "outputs": [
    {
     "name": "stdout",
     "output_type": "stream",
     "text": [
      "p-значение:  1.3850260716097296e-08\n",
      "Отвергаем нулевую гипотезу: статистически значимые отличия между пользователями есть\n"
     ]
    }
   ],
   "source": [
    "alpha = 0.05 # критический уровень статистической значимости\n",
    "\n",
    "# пропорция успехов в первой группе:\n",
    "p1 = purchases[0] / leads[0]\n",
    "# пропорция успехов во второй группе:\n",
    "p2 = purchases[1] / leads[1]\n",
    "\n",
    "# пропорция успехов в комбинированном датасете:\n",
    "p_combined = (purchases[0] + purchases[1]) / (leads[0] + leads[1])\n",
    "# разница пропорций в датасетах\n",
    "difference = p1-p2\n",
    "\n",
    "# считаем статистику в ст.отклонениях стандартного нормального распределения\n",
    "z_value = difference / mth.sqrt(p_combined * (1 - p_combined) * (1/leads[0] + 1/leads[1]))\n",
    "\n",
    "# задаем стандартное нормальное распределение (среднее 0, ст.отклонение 1)\n",
    "distr = st.norm(0,1)\n",
    "\n",
    "#удвоим результат так как тест двусторонний\n",
    "p_value = (1 - distr.cdf(abs(z_value))) * 2\n",
    "\n",
    "print('p-значение: ', p_value)\n",
    "\n",
    "if p_value < alpha:\n",
    "    print('Отвергаем нулевую гипотезу: статистически значимые отличия между пользователями есть')\n",
    "else:\n",
    "    print(\n",
    "        'Не получилось отвергнуть нулевую гипотезу: статистически значимых отличий между пользователями нет'\n",
    "    )"
   ]
  },
  {
   "cell_type": "markdown",
   "id": "0987ee4e",
   "metadata": {},
   "source": [
    "**Вывод:** Составив собственную гипотезу видим ту же историю, что и в гипотезе заказчика. Нет оснований отвергать нулевую гипотезу. Статистически значимых различий между долями конверсии в целевое событие пользователей с короткими или длинными сессиями нет."
   ]
  },
  {
   "cell_type": "markdown",
   "id": "89246f04",
   "metadata": {},
   "source": [
    "## Презентация"
   ]
  },
  {
   "cell_type": "markdown",
   "id": "2d363353",
   "metadata": {},
   "source": [
    "Презентация подготовлена по ссылке: https://disk.yandex.ru/i/_8c8GOCovbvzvg"
   ]
  },
  {
   "cell_type": "markdown",
   "id": "6445c3fe",
   "metadata": {},
   "source": [
    "## Дашборд"
   ]
  },
  {
   "cell_type": "markdown",
   "id": "bf6985f3",
   "metadata": {},
   "source": [
    "Дашборд подготовлен по ссылке: https://public.tableau.com/views/20_MobileAppNenuzhnievechiSalnevM/Dashboard1?:language=en-US&publish=yes&:display_count=n&:origin=viz_share_link"
   ]
  },
  {
   "cell_type": "markdown",
   "id": "76caa54f",
   "metadata": {},
   "source": [
    "## Общий вывод\n",
    "В ходе работы была выполнена предобработка данных которая позволила использовать данные для дальнейшего анализа и принятия решения. Дальнейшее исследование позволило нам получить представление о поведении пользователей в приложении и оценить его эффективность. После расчета Retention rate было установлено, что с каждой неделей процент удежрания пользователей становился меньше. С чем это связано точно ответить нельзя. Далее, было определено время одно сессии пользователя. В среднем на одного пользователя получается 2-3 тридцатиминутные сесии. Самое часто совершаемое действие - просмотр карточки объявления. В среднем, каждый пользователь совершал 17 действий. Также, была рассчитана конверсия пользователей в целевое событие - просмотр контака. Конверсия составила 23%. Сегментировав пользователей по типу источника привлечения, было установлено, что из поиска google бОльшее число пользователей доходит по целевого действия.\n",
    "Сформулированные гипотезы были отвергнуты в ходе исследования\n",
    "* Некоторые пользователи установили приложение по ссылке из yandex, другие — из google. Проверьте гипотезу: две эти группы демонстрируют разную конверсию в просмотры контактов.\n",
    "* Существует разница в среднем времени, проведенном в приложении между группами пользователей, которые совершили целевое действие (пользователь позвонил по номеру телефона), и теми, кто этого не сделал.\n",
    "\n",
    "Эти результаты указывают на то, что источник привлечения и время проведенное в приложении не являются значимыми факторами, влияющими на конверсию в просмотры контактов. \n",
    "\n",
    "Рекомендации по развитию приложения:\n",
    "Для улучшения возвращаемости пользователей можно попробовать рассылку в почте или рассылку в самом приложении. Важно выбрать корректный период использования, так как слишком частые рассылки заставят пользователя скорее отключить ее или совсем удалить приложение. Тогда пользователя потеряем совсем. Также, можно переработать интерфейс и добавить новую фичу. Например, сейчас, не малоизвестный сайт по продаже автомобилей предлагает за звонок по объявлению бесплатный отчет по нему. Таким образом, выполнение целевого действия повышается."
   ]
  }
 ],
 "metadata": {
  "ExecuteTimeLog": [
   {
    "duration": 1809,
    "start_time": "2023-07-09T14:45:30.924Z"
   },
   {
    "duration": 219,
    "start_time": "2023-07-09T14:45:32.735Z"
   },
   {
    "duration": 11,
    "start_time": "2023-07-09T14:45:32.956Z"
   },
   {
    "duration": 19,
    "start_time": "2023-07-09T14:45:32.968Z"
   },
   {
    "duration": 27,
    "start_time": "2023-07-09T14:45:32.988Z"
   },
   {
    "duration": 9,
    "start_time": "2023-07-09T14:45:33.017Z"
   },
   {
    "duration": 8,
    "start_time": "2023-07-09T14:45:33.031Z"
   },
   {
    "duration": 28,
    "start_time": "2023-07-09T14:45:33.041Z"
   },
   {
    "duration": 22,
    "start_time": "2023-07-09T14:45:33.071Z"
   },
   {
    "duration": 38,
    "start_time": "2023-07-09T14:45:33.094Z"
   },
   {
    "duration": 13,
    "start_time": "2023-07-09T14:45:33.133Z"
   },
   {
    "duration": 26,
    "start_time": "2023-07-09T14:45:33.148Z"
   },
   {
    "duration": 14,
    "start_time": "2023-07-09T14:45:33.176Z"
   },
   {
    "duration": 83,
    "start_time": "2023-07-09T14:45:33.193Z"
   },
   {
    "duration": 25,
    "start_time": "2023-07-09T14:45:33.278Z"
   },
   {
    "duration": 130,
    "start_time": "2023-07-09T14:45:33.305Z"
   },
   {
    "duration": 136,
    "start_time": "2023-07-09T14:45:33.437Z"
   },
   {
    "duration": 38,
    "start_time": "2023-07-09T14:45:33.575Z"
   },
   {
    "duration": 32,
    "start_time": "2023-07-09T14:45:33.614Z"
   },
   {
    "duration": 12,
    "start_time": "2023-07-09T14:45:33.648Z"
   },
   {
    "duration": 28,
    "start_time": "2023-07-09T14:45:33.662Z"
   },
   {
    "duration": 72,
    "start_time": "2023-07-09T14:45:33.692Z"
   },
   {
    "duration": 317,
    "start_time": "2023-07-09T14:45:33.766Z"
   },
   {
    "duration": 158,
    "start_time": "2023-07-09T14:45:34.085Z"
   },
   {
    "duration": 53,
    "start_time": "2023-07-09T14:45:34.245Z"
   },
   {
    "duration": 781,
    "start_time": "2023-07-09T14:45:34.300Z"
   },
   {
    "duration": 195,
    "start_time": "2023-07-09T14:45:35.083Z"
   },
   {
    "duration": 10,
    "start_time": "2023-07-09T14:45:35.280Z"
   },
   {
    "duration": 186,
    "start_time": "2023-07-09T14:45:35.292Z"
   },
   {
    "duration": 27,
    "start_time": "2023-07-09T14:45:35.479Z"
   },
   {
    "duration": 25,
    "start_time": "2023-07-09T14:45:35.508Z"
   },
   {
    "duration": 179,
    "start_time": "2023-07-09T14:45:35.534Z"
   },
   {
    "duration": 23,
    "start_time": "2023-07-09T14:45:35.714Z"
   },
   {
    "duration": 61,
    "start_time": "2023-07-09T14:45:35.739Z"
   },
   {
    "duration": 40,
    "start_time": "2023-07-09T14:45:35.802Z"
   },
   {
    "duration": 401,
    "start_time": "2023-07-09T14:45:35.843Z"
   },
   {
    "duration": 11,
    "start_time": "2023-07-09T14:45:36.246Z"
   },
   {
    "duration": 480,
    "start_time": "2023-07-09T14:45:36.259Z"
   },
   {
    "duration": 10,
    "start_time": "2023-07-09T14:45:36.742Z"
   },
   {
    "duration": 12,
    "start_time": "2023-07-09T14:45:36.754Z"
   },
   {
    "duration": 12,
    "start_time": "2023-07-09T14:45:36.770Z"
   },
   {
    "duration": 66,
    "start_time": "2023-07-09T14:45:36.783Z"
   },
   {
    "duration": 6,
    "start_time": "2023-07-09T14:45:36.851Z"
   },
   {
    "duration": 21,
    "start_time": "2023-07-09T14:46:02.135Z"
   },
   {
    "duration": 49,
    "start_time": "2023-07-09T17:09:26.842Z"
   },
   {
    "duration": 1420,
    "start_time": "2023-07-09T17:09:31.573Z"
   },
   {
    "duration": 470,
    "start_time": "2023-07-09T17:09:32.996Z"
   },
   {
    "duration": 13,
    "start_time": "2023-07-09T17:09:33.468Z"
   },
   {
    "duration": 29,
    "start_time": "2023-07-09T17:09:33.483Z"
   },
   {
    "duration": 24,
    "start_time": "2023-07-09T17:09:33.514Z"
   },
   {
    "duration": 11,
    "start_time": "2023-07-09T17:09:33.540Z"
   },
   {
    "duration": 21,
    "start_time": "2023-07-09T17:09:33.553Z"
   },
   {
    "duration": 40,
    "start_time": "2023-07-09T17:09:33.575Z"
   },
   {
    "duration": 36,
    "start_time": "2023-07-09T17:09:33.617Z"
   },
   {
    "duration": 19,
    "start_time": "2023-07-09T17:09:33.655Z"
   },
   {
    "duration": 200,
    "start_time": "2023-07-09T17:09:33.676Z"
   },
   {
    "duration": 11,
    "start_time": "2023-07-09T17:09:33.878Z"
   },
   {
    "duration": 14,
    "start_time": "2023-07-09T17:09:33.890Z"
   },
   {
    "duration": 81,
    "start_time": "2023-07-09T17:09:33.906Z"
   },
   {
    "duration": 25,
    "start_time": "2023-07-09T17:09:33.989Z"
   },
   {
    "duration": 137,
    "start_time": "2023-07-09T17:09:34.015Z"
   },
   {
    "duration": 148,
    "start_time": "2023-07-09T17:09:34.154Z"
   },
   {
    "duration": 51,
    "start_time": "2023-07-09T17:09:34.304Z"
   },
   {
    "duration": 25,
    "start_time": "2023-07-09T17:09:34.357Z"
   },
   {
    "duration": 14,
    "start_time": "2023-07-09T17:09:34.384Z"
   },
   {
    "duration": 13,
    "start_time": "2023-07-09T17:09:34.400Z"
   },
   {
    "duration": 57,
    "start_time": "2023-07-09T17:09:34.415Z"
   },
   {
    "duration": 392,
    "start_time": "2023-07-09T17:09:34.474Z"
   },
   {
    "duration": 178,
    "start_time": "2023-07-09T17:09:34.868Z"
   },
   {
    "duration": 311,
    "start_time": "2023-07-09T17:09:35.049Z"
   },
   {
    "duration": 887,
    "start_time": "2023-07-09T17:09:35.362Z"
   },
   {
    "duration": 229,
    "start_time": "2023-07-09T17:09:36.252Z"
   },
   {
    "duration": 11,
    "start_time": "2023-07-09T17:09:36.487Z"
   },
   {
    "duration": 10,
    "start_time": "2023-07-09T17:09:36.500Z"
   },
   {
    "duration": 211,
    "start_time": "2023-07-09T17:09:36.513Z"
   },
   {
    "duration": 39,
    "start_time": "2023-07-09T17:09:36.726Z"
   },
   {
    "duration": 10,
    "start_time": "2023-07-09T17:09:36.767Z"
   },
   {
    "duration": 192,
    "start_time": "2023-07-09T17:09:36.779Z"
   },
   {
    "duration": 22,
    "start_time": "2023-07-09T17:09:36.974Z"
   },
   {
    "duration": 22,
    "start_time": "2023-07-09T17:09:36.998Z"
   },
   {
    "duration": 57,
    "start_time": "2023-07-09T17:09:37.023Z"
   },
   {
    "duration": 446,
    "start_time": "2023-07-09T17:09:37.082Z"
   },
   {
    "duration": 24,
    "start_time": "2023-07-09T17:09:37.529Z"
   },
   {
    "duration": 517,
    "start_time": "2023-07-09T17:09:37.554Z"
   },
   {
    "duration": 11,
    "start_time": "2023-07-09T17:09:38.073Z"
   },
   {
    "duration": 12,
    "start_time": "2023-07-09T17:09:38.086Z"
   },
   {
    "duration": 18,
    "start_time": "2023-07-09T17:09:38.100Z"
   },
   {
    "duration": 73,
    "start_time": "2023-07-09T17:09:38.120Z"
   },
   {
    "duration": 7,
    "start_time": "2023-07-09T17:09:38.195Z"
   },
   {
    "duration": 17,
    "start_time": "2023-07-09T17:10:02.358Z"
   },
   {
    "duration": 33,
    "start_time": "2023-07-09T17:11:02.186Z"
   },
   {
    "duration": 24,
    "start_time": "2023-07-09T17:11:53.517Z"
   },
   {
    "duration": 30,
    "start_time": "2023-07-09T17:11:56.653Z"
   },
   {
    "duration": 27,
    "start_time": "2023-07-09T17:12:02.749Z"
   },
   {
    "duration": 32,
    "start_time": "2023-07-09T17:14:36.428Z"
   },
   {
    "duration": 34,
    "start_time": "2023-07-09T17:15:10.715Z"
   },
   {
    "duration": 143,
    "start_time": "2023-07-09T17:15:18.323Z"
   },
   {
    "duration": 34,
    "start_time": "2023-07-09T17:15:22.795Z"
   },
   {
    "duration": 20,
    "start_time": "2023-07-09T17:15:41.660Z"
   },
   {
    "duration": 53444,
    "start_time": "2023-07-09T17:21:30.160Z"
   },
   {
    "duration": 17,
    "start_time": "2023-07-09T17:22:23.606Z"
   },
   {
    "duration": 33,
    "start_time": "2023-07-09T17:22:45.168Z"
   },
   {
    "duration": 16,
    "start_time": "2023-07-09T17:22:46.598Z"
   },
   {
    "duration": 1217,
    "start_time": "2023-07-09T17:22:51.700Z"
   },
   {
    "duration": 291,
    "start_time": "2023-07-09T17:22:52.919Z"
   },
   {
    "duration": 13,
    "start_time": "2023-07-09T17:22:53.211Z"
   },
   {
    "duration": 21,
    "start_time": "2023-07-09T17:22:53.226Z"
   },
   {
    "duration": 25,
    "start_time": "2023-07-09T17:22:53.249Z"
   },
   {
    "duration": 8,
    "start_time": "2023-07-09T17:22:53.276Z"
   },
   {
    "duration": 21,
    "start_time": "2023-07-09T17:22:53.286Z"
   },
   {
    "duration": 31,
    "start_time": "2023-07-09T17:22:53.308Z"
   },
   {
    "duration": 30,
    "start_time": "2023-07-09T17:22:53.351Z"
   },
   {
    "duration": 17,
    "start_time": "2023-07-09T17:22:53.384Z"
   },
   {
    "duration": 13,
    "start_time": "2023-07-09T17:22:53.403Z"
   },
   {
    "duration": 39,
    "start_time": "2023-07-09T17:22:53.418Z"
   },
   {
    "duration": 15,
    "start_time": "2023-07-09T17:22:53.459Z"
   },
   {
    "duration": 83,
    "start_time": "2023-07-09T17:22:53.476Z"
   },
   {
    "duration": 26,
    "start_time": "2023-07-09T17:22:53.562Z"
   },
   {
    "duration": 137,
    "start_time": "2023-07-09T17:22:53.591Z"
   },
   {
    "duration": 121,
    "start_time": "2023-07-09T17:22:53.730Z"
   },
   {
    "duration": 45,
    "start_time": "2023-07-09T17:22:53.853Z"
   },
   {
    "duration": 25,
    "start_time": "2023-07-09T17:22:53.899Z"
   },
   {
    "duration": 36,
    "start_time": "2023-07-09T17:22:53.926Z"
   },
   {
    "duration": 22,
    "start_time": "2023-07-09T17:22:53.964Z"
   },
   {
    "duration": 35,
    "start_time": "2023-07-09T17:22:53.988Z"
   },
   {
    "duration": 372,
    "start_time": "2023-07-09T17:22:54.024Z"
   },
   {
    "duration": 183,
    "start_time": "2023-07-09T17:22:54.398Z"
   },
   {
    "duration": 70,
    "start_time": "2023-07-09T17:22:54.583Z"
   },
   {
    "duration": 853,
    "start_time": "2023-07-09T17:22:54.656Z"
   },
   {
    "duration": 234,
    "start_time": "2023-07-09T17:22:55.510Z"
   },
   {
    "duration": 32,
    "start_time": "2023-07-09T17:22:55.751Z"
   },
   {
    "duration": 73,
    "start_time": "2023-07-09T17:22:55.785Z"
   },
   {
    "duration": 12,
    "start_time": "2023-07-09T17:22:55.859Z"
   },
   {
    "duration": 207,
    "start_time": "2023-07-09T17:22:55.873Z"
   },
   {
    "duration": 30,
    "start_time": "2023-07-09T17:22:56.082Z"
   },
   {
    "duration": 8,
    "start_time": "2023-07-09T17:22:56.113Z"
   },
   {
    "duration": 200,
    "start_time": "2023-07-09T17:22:56.122Z"
   },
   {
    "duration": 33,
    "start_time": "2023-07-09T17:22:56.324Z"
   },
   {
    "duration": 21,
    "start_time": "2023-07-09T17:22:56.359Z"
   },
   {
    "duration": 21,
    "start_time": "2023-07-09T17:22:56.382Z"
   },
   {
    "duration": 470,
    "start_time": "2023-07-09T17:22:56.404Z"
   },
   {
    "duration": 15,
    "start_time": "2023-07-09T17:22:56.877Z"
   },
   {
    "duration": 516,
    "start_time": "2023-07-09T17:22:56.894Z"
   },
   {
    "duration": 11,
    "start_time": "2023-07-09T17:22:57.411Z"
   },
   {
    "duration": 28,
    "start_time": "2023-07-09T17:22:57.424Z"
   },
   {
    "duration": 35,
    "start_time": "2023-07-09T17:22:57.454Z"
   },
   {
    "duration": 79,
    "start_time": "2023-07-09T17:22:57.491Z"
   },
   {
    "duration": 8,
    "start_time": "2023-07-09T17:22:57.572Z"
   },
   {
    "duration": 65,
    "start_time": "2023-07-09T17:23:58.017Z"
   },
   {
    "duration": 779,
    "start_time": "2023-07-09T17:24:02.631Z"
   },
   {
    "duration": 205,
    "start_time": "2023-07-09T17:24:04.720Z"
   },
   {
    "duration": 30,
    "start_time": "2023-07-09T17:24:06.295Z"
   },
   {
    "duration": 16,
    "start_time": "2023-07-09T17:24:08.215Z"
   },
   {
    "duration": 1168,
    "start_time": "2023-07-09T17:24:23.824Z"
   },
   {
    "duration": 314,
    "start_time": "2023-07-09T17:24:24.994Z"
   },
   {
    "duration": 15,
    "start_time": "2023-07-09T17:24:25.313Z"
   },
   {
    "duration": 41,
    "start_time": "2023-07-09T17:24:25.330Z"
   },
   {
    "duration": 47,
    "start_time": "2023-07-09T17:24:25.374Z"
   },
   {
    "duration": 10,
    "start_time": "2023-07-09T17:24:25.423Z"
   },
   {
    "duration": 44,
    "start_time": "2023-07-09T17:24:25.435Z"
   },
   {
    "duration": 48,
    "start_time": "2023-07-09T17:24:25.482Z"
   },
   {
    "duration": 28,
    "start_time": "2023-07-09T17:24:25.533Z"
   },
   {
    "duration": 33,
    "start_time": "2023-07-09T17:24:25.563Z"
   },
   {
    "duration": 17,
    "start_time": "2023-07-09T17:24:25.598Z"
   },
   {
    "duration": 23,
    "start_time": "2023-07-09T17:24:25.617Z"
   },
   {
    "duration": 24,
    "start_time": "2023-07-09T17:24:25.642Z"
   },
   {
    "duration": 136,
    "start_time": "2023-07-09T17:24:25.669Z"
   },
   {
    "duration": 30,
    "start_time": "2023-07-09T17:24:25.807Z"
   },
   {
    "duration": 122,
    "start_time": "2023-07-09T17:24:25.851Z"
   },
   {
    "duration": 120,
    "start_time": "2023-07-09T17:24:25.975Z"
   },
   {
    "duration": 40,
    "start_time": "2023-07-09T17:24:26.098Z"
   },
   {
    "duration": 23,
    "start_time": "2023-07-09T17:24:26.152Z"
   },
   {
    "duration": 15,
    "start_time": "2023-07-09T17:24:26.176Z"
   },
   {
    "duration": 14,
    "start_time": "2023-07-09T17:24:26.193Z"
   },
   {
    "duration": 48,
    "start_time": "2023-07-09T17:24:26.209Z"
   },
   {
    "duration": 343,
    "start_time": "2023-07-09T17:24:26.259Z"
   },
   {
    "duration": 181,
    "start_time": "2023-07-09T17:24:26.605Z"
   },
   {
    "duration": 66,
    "start_time": "2023-07-09T17:24:26.788Z"
   },
   {
    "duration": 825,
    "start_time": "2023-07-09T17:24:26.856Z"
   },
   {
    "duration": 223,
    "start_time": "2023-07-09T17:24:27.687Z"
   },
   {
    "duration": 40,
    "start_time": "2023-07-09T17:24:27.913Z"
   },
   {
    "duration": 17,
    "start_time": "2023-07-09T17:24:27.955Z"
   },
   {
    "duration": 9,
    "start_time": "2023-07-09T17:24:27.974Z"
   },
   {
    "duration": 211,
    "start_time": "2023-07-09T17:24:27.985Z"
   },
   {
    "duration": 39,
    "start_time": "2023-07-09T17:24:28.198Z"
   },
   {
    "duration": 20,
    "start_time": "2023-07-09T17:24:28.238Z"
   },
   {
    "duration": 265,
    "start_time": "2023-07-09T17:24:28.261Z"
   },
   {
    "duration": 38,
    "start_time": "2023-07-09T17:24:28.529Z"
   },
   {
    "duration": 22,
    "start_time": "2023-07-09T17:24:28.569Z"
   },
   {
    "duration": 21,
    "start_time": "2023-07-09T17:24:28.593Z"
   },
   {
    "duration": 483,
    "start_time": "2023-07-09T17:24:28.616Z"
   },
   {
    "duration": 15,
    "start_time": "2023-07-09T17:24:29.100Z"
   },
   {
    "duration": 489,
    "start_time": "2023-07-09T17:24:29.116Z"
   },
   {
    "duration": 12,
    "start_time": "2023-07-09T17:24:29.607Z"
   },
   {
    "duration": 3,
    "start_time": "2023-07-09T17:24:29.621Z"
   },
   {
    "duration": 27,
    "start_time": "2023-07-09T17:24:29.626Z"
   },
   {
    "duration": 66,
    "start_time": "2023-07-09T17:24:29.655Z"
   },
   {
    "duration": 8,
    "start_time": "2023-07-09T17:24:29.722Z"
   },
   {
    "duration": 137,
    "start_time": "2023-07-09T17:31:50.396Z"
   },
   {
    "duration": 73,
    "start_time": "2023-07-09T17:32:47.763Z"
   },
   {
    "duration": 22,
    "start_time": "2023-07-09T17:32:53.546Z"
   },
   {
    "duration": 35,
    "start_time": "2023-07-09T17:33:03.139Z"
   },
   {
    "duration": 1303,
    "start_time": "2023-07-09T17:33:07.881Z"
   },
   {
    "duration": 422,
    "start_time": "2023-07-09T17:33:09.186Z"
   },
   {
    "duration": 14,
    "start_time": "2023-07-09T17:33:09.610Z"
   },
   {
    "duration": 30,
    "start_time": "2023-07-09T17:33:09.627Z"
   },
   {
    "duration": 29,
    "start_time": "2023-07-09T17:33:09.659Z"
   },
   {
    "duration": 12,
    "start_time": "2023-07-09T17:33:09.690Z"
   },
   {
    "duration": 15,
    "start_time": "2023-07-09T17:33:09.703Z"
   },
   {
    "duration": 48,
    "start_time": "2023-07-09T17:33:09.720Z"
   },
   {
    "duration": 34,
    "start_time": "2023-07-09T17:33:09.770Z"
   },
   {
    "duration": 59,
    "start_time": "2023-07-09T17:33:09.807Z"
   },
   {
    "duration": 42,
    "start_time": "2023-07-09T17:33:09.868Z"
   },
   {
    "duration": 26,
    "start_time": "2023-07-09T17:33:09.912Z"
   },
   {
    "duration": 16,
    "start_time": "2023-07-09T17:33:09.939Z"
   },
   {
    "duration": 146,
    "start_time": "2023-07-09T17:33:09.956Z"
   },
   {
    "duration": 27,
    "start_time": "2023-07-09T17:33:10.104Z"
   },
   {
    "duration": 143,
    "start_time": "2023-07-09T17:33:10.133Z"
   },
   {
    "duration": 142,
    "start_time": "2023-07-09T17:33:10.279Z"
   },
   {
    "duration": 66,
    "start_time": "2023-07-09T17:33:10.423Z"
   },
   {
    "duration": 27,
    "start_time": "2023-07-09T17:33:10.491Z"
   },
   {
    "duration": 15,
    "start_time": "2023-07-09T17:33:10.520Z"
   },
   {
    "duration": 18,
    "start_time": "2023-07-09T17:33:10.553Z"
   },
   {
    "duration": 37,
    "start_time": "2023-07-09T17:33:10.574Z"
   },
   {
    "duration": 391,
    "start_time": "2023-07-09T17:33:10.613Z"
   },
   {
    "duration": 187,
    "start_time": "2023-07-09T17:33:11.005Z"
   },
   {
    "duration": 60,
    "start_time": "2023-07-09T17:33:11.194Z"
   },
   {
    "duration": 848,
    "start_time": "2023-07-09T17:33:11.259Z"
   },
   {
    "duration": 226,
    "start_time": "2023-07-09T17:33:12.108Z"
   },
   {
    "duration": 46,
    "start_time": "2023-07-09T17:33:12.337Z"
   },
   {
    "duration": 15,
    "start_time": "2023-07-09T17:33:12.385Z"
   },
   {
    "duration": 9,
    "start_time": "2023-07-09T17:33:12.402Z"
   },
   {
    "duration": 204,
    "start_time": "2023-07-09T17:33:12.413Z"
   },
   {
    "duration": 40,
    "start_time": "2023-07-09T17:33:12.619Z"
   },
   {
    "duration": 9,
    "start_time": "2023-07-09T17:33:12.661Z"
   },
   {
    "duration": 194,
    "start_time": "2023-07-09T17:33:12.672Z"
   },
   {
    "duration": 21,
    "start_time": "2023-07-09T17:33:12.868Z"
   },
   {
    "duration": 19,
    "start_time": "2023-07-09T17:33:12.891Z"
   },
   {
    "duration": 42,
    "start_time": "2023-07-09T17:33:12.911Z"
   },
   {
    "duration": 454,
    "start_time": "2023-07-09T17:33:12.955Z"
   },
   {
    "duration": 14,
    "start_time": "2023-07-09T17:33:13.412Z"
   },
   {
    "duration": 505,
    "start_time": "2023-07-09T17:33:13.428Z"
   },
   {
    "duration": 20,
    "start_time": "2023-07-09T17:33:13.935Z"
   },
   {
    "duration": 6,
    "start_time": "2023-07-09T17:33:13.967Z"
   },
   {
    "duration": 12,
    "start_time": "2023-07-09T17:33:13.975Z"
   },
   {
    "duration": 64,
    "start_time": "2023-07-09T17:33:13.988Z"
   },
   {
    "duration": 9,
    "start_time": "2023-07-09T17:33:14.054Z"
   },
   {
    "duration": 1255,
    "start_time": "2023-07-09T17:35:32.202Z"
   },
   {
    "duration": 295,
    "start_time": "2023-07-09T17:35:33.459Z"
   },
   {
    "duration": 15,
    "start_time": "2023-07-09T17:35:33.757Z"
   },
   {
    "duration": 12,
    "start_time": "2023-07-09T17:35:33.774Z"
   },
   {
    "duration": 20,
    "start_time": "2023-07-09T17:35:33.788Z"
   },
   {
    "duration": 7,
    "start_time": "2023-07-09T17:35:33.810Z"
   },
   {
    "duration": 18,
    "start_time": "2023-07-09T17:35:33.819Z"
   },
   {
    "duration": 51,
    "start_time": "2023-07-09T17:35:33.839Z"
   },
   {
    "duration": 27,
    "start_time": "2023-07-09T17:35:33.891Z"
   },
   {
    "duration": 43,
    "start_time": "2023-07-09T17:35:33.922Z"
   },
   {
    "duration": 14,
    "start_time": "2023-07-09T17:35:33.968Z"
   },
   {
    "duration": 14,
    "start_time": "2023-07-09T17:35:33.984Z"
   },
   {
    "duration": 14,
    "start_time": "2023-07-09T17:35:34.000Z"
   },
   {
    "duration": 106,
    "start_time": "2023-07-09T17:35:34.016Z"
   },
   {
    "duration": 31,
    "start_time": "2023-07-09T17:35:34.123Z"
   },
   {
    "duration": 124,
    "start_time": "2023-07-09T17:35:34.155Z"
   },
   {
    "duration": 130,
    "start_time": "2023-07-09T17:35:34.281Z"
   },
   {
    "duration": 57,
    "start_time": "2023-07-09T17:35:34.412Z"
   },
   {
    "duration": 23,
    "start_time": "2023-07-09T17:35:34.471Z"
   },
   {
    "duration": 13,
    "start_time": "2023-07-09T17:35:34.496Z"
   },
   {
    "duration": 15,
    "start_time": "2023-07-09T17:35:34.511Z"
   },
   {
    "duration": 54,
    "start_time": "2023-07-09T17:35:34.527Z"
   },
   {
    "duration": 335,
    "start_time": "2023-07-09T17:35:34.583Z"
   },
   {
    "duration": 179,
    "start_time": "2023-07-09T17:35:34.920Z"
   },
   {
    "duration": 77,
    "start_time": "2023-07-09T17:35:35.100Z"
   },
   {
    "duration": 916,
    "start_time": "2023-07-09T17:35:35.178Z"
   },
   {
    "duration": 231,
    "start_time": "2023-07-09T17:35:36.096Z"
   },
   {
    "duration": 39,
    "start_time": "2023-07-09T17:35:36.332Z"
   },
   {
    "duration": 12,
    "start_time": "2023-07-09T17:35:36.373Z"
   },
   {
    "duration": 211,
    "start_time": "2023-07-09T17:35:36.387Z"
   },
   {
    "duration": 25,
    "start_time": "2023-07-09T17:35:36.600Z"
   },
   {
    "duration": 51,
    "start_time": "2023-07-09T17:35:36.627Z"
   },
   {
    "duration": 169,
    "start_time": "2023-07-09T17:35:36.680Z"
   },
   {
    "duration": 28,
    "start_time": "2023-07-09T17:35:36.850Z"
   },
   {
    "duration": 26,
    "start_time": "2023-07-09T17:35:36.880Z"
   },
   {
    "duration": 20,
    "start_time": "2023-07-09T17:35:36.907Z"
   },
   {
    "duration": 473,
    "start_time": "2023-07-09T17:35:36.928Z"
   },
   {
    "duration": 15,
    "start_time": "2023-07-09T17:35:37.402Z"
   },
   {
    "duration": 477,
    "start_time": "2023-07-09T17:35:37.418Z"
   },
   {
    "duration": 13,
    "start_time": "2023-07-09T17:35:37.897Z"
   },
   {
    "duration": 3,
    "start_time": "2023-07-09T17:35:37.912Z"
   },
   {
    "duration": 22,
    "start_time": "2023-07-09T17:35:37.917Z"
   },
   {
    "duration": 63,
    "start_time": "2023-07-09T17:35:37.952Z"
   },
   {
    "duration": 7,
    "start_time": "2023-07-09T17:35:38.016Z"
   },
   {
    "duration": 198,
    "start_time": "2023-07-09T17:38:02.128Z"
   },
   {
    "duration": 194,
    "start_time": "2023-07-09T17:39:41.886Z"
   },
   {
    "duration": 120,
    "start_time": "2023-07-09T17:42:01.094Z"
   },
   {
    "duration": 14,
    "start_time": "2023-07-09T17:42:06.645Z"
   },
   {
    "duration": 22,
    "start_time": "2023-07-09T17:42:28.977Z"
   },
   {
    "duration": 391,
    "start_time": "2023-07-09T17:44:14.725Z"
   },
   {
    "duration": 434,
    "start_time": "2023-07-09T17:44:32.785Z"
   },
   {
    "duration": 10,
    "start_time": "2023-07-09T17:46:05.771Z"
   },
   {
    "duration": 15,
    "start_time": "2023-07-09T17:46:25.251Z"
   },
   {
    "duration": 16,
    "start_time": "2023-07-09T17:46:33.051Z"
   },
   {
    "duration": 11,
    "start_time": "2023-07-09T17:46:35.994Z"
   },
   {
    "duration": 11,
    "start_time": "2023-07-09T17:46:39.082Z"
   },
   {
    "duration": 14,
    "start_time": "2023-07-09T17:46:52.864Z"
   },
   {
    "duration": 11,
    "start_time": "2023-07-09T17:47:53.602Z"
   },
   {
    "duration": 76,
    "start_time": "2023-07-09T17:49:17.850Z"
   },
   {
    "duration": 16,
    "start_time": "2023-07-09T17:49:42.353Z"
   },
   {
    "duration": 17,
    "start_time": "2023-07-09T17:49:48.866Z"
   },
   {
    "duration": 298,
    "start_time": "2023-07-09T17:51:00.594Z"
   },
   {
    "duration": 406,
    "start_time": "2023-07-09T18:17:13.867Z"
   },
   {
    "duration": 404,
    "start_time": "2023-07-09T18:17:27.689Z"
   },
   {
    "duration": 423,
    "start_time": "2023-07-09T18:17:33.858Z"
   },
   {
    "duration": 1122,
    "start_time": "2023-07-09T21:08:11.637Z"
   },
   {
    "duration": 450,
    "start_time": "2023-07-09T21:08:12.761Z"
   },
   {
    "duration": 11,
    "start_time": "2023-07-09T21:08:13.213Z"
   },
   {
    "duration": 18,
    "start_time": "2023-07-09T21:08:13.225Z"
   },
   {
    "duration": 17,
    "start_time": "2023-07-09T21:08:13.245Z"
   },
   {
    "duration": 9,
    "start_time": "2023-07-09T21:08:13.263Z"
   },
   {
    "duration": 11,
    "start_time": "2023-07-09T21:08:13.273Z"
   },
   {
    "duration": 46,
    "start_time": "2023-07-09T21:08:13.286Z"
   },
   {
    "duration": 27,
    "start_time": "2023-07-09T21:08:13.333Z"
   },
   {
    "duration": 18,
    "start_time": "2023-07-09T21:08:13.362Z"
   },
   {
    "duration": 13,
    "start_time": "2023-07-09T21:08:13.381Z"
   },
   {
    "duration": 40,
    "start_time": "2023-07-09T21:08:13.396Z"
   },
   {
    "duration": 14,
    "start_time": "2023-07-09T21:08:13.437Z"
   },
   {
    "duration": 78,
    "start_time": "2023-07-09T21:08:13.454Z"
   },
   {
    "duration": 23,
    "start_time": "2023-07-09T21:08:13.534Z"
   },
   {
    "duration": 128,
    "start_time": "2023-07-09T21:08:13.558Z"
   },
   {
    "duration": 125,
    "start_time": "2023-07-09T21:08:13.688Z"
   },
   {
    "duration": 48,
    "start_time": "2023-07-09T21:08:13.814Z"
   },
   {
    "duration": 24,
    "start_time": "2023-07-09T21:08:13.864Z"
   },
   {
    "duration": 13,
    "start_time": "2023-07-09T21:08:13.890Z"
   },
   {
    "duration": 35,
    "start_time": "2023-07-09T21:08:13.905Z"
   },
   {
    "duration": 31,
    "start_time": "2023-07-09T21:08:13.942Z"
   },
   {
    "duration": 317,
    "start_time": "2023-07-09T21:08:13.974Z"
   },
   {
    "duration": 162,
    "start_time": "2023-07-09T21:08:14.292Z"
   },
   {
    "duration": 51,
    "start_time": "2023-07-09T21:08:14.455Z"
   },
   {
    "duration": 749,
    "start_time": "2023-07-09T21:08:14.508Z"
   },
   {
    "duration": 206,
    "start_time": "2023-07-09T21:08:15.258Z"
   },
   {
    "duration": 25,
    "start_time": "2023-07-09T21:08:15.465Z"
   },
   {
    "duration": 9,
    "start_time": "2023-07-09T21:08:15.492Z"
   },
   {
    "duration": 194,
    "start_time": "2023-07-09T21:08:15.502Z"
   },
   {
    "duration": 34,
    "start_time": "2023-07-09T21:08:15.698Z"
   },
   {
    "duration": 7,
    "start_time": "2023-07-09T21:08:15.734Z"
   },
   {
    "duration": 179,
    "start_time": "2023-07-09T21:08:15.742Z"
   },
   {
    "duration": 24,
    "start_time": "2023-07-09T21:08:15.922Z"
   },
   {
    "duration": 22,
    "start_time": "2023-07-09T21:08:15.947Z"
   },
   {
    "duration": 16,
    "start_time": "2023-07-09T21:08:15.971Z"
   },
   {
    "duration": 18,
    "start_time": "2023-07-09T21:08:15.988Z"
   },
   {
    "duration": 430,
    "start_time": "2023-07-09T21:08:16.008Z"
   },
   {
    "duration": 12,
    "start_time": "2023-07-09T21:08:16.439Z"
   },
   {
    "duration": 441,
    "start_time": "2023-07-09T21:08:16.452Z"
   },
   {
    "duration": 9,
    "start_time": "2023-07-09T21:08:16.896Z"
   },
   {
    "duration": 367,
    "start_time": "2023-07-09T21:08:16.907Z"
   },
   {
    "duration": 10,
    "start_time": "2023-07-09T21:08:17.276Z"
   },
   {
    "duration": 6,
    "start_time": "2023-07-09T21:08:17.288Z"
   },
   {
    "duration": 8,
    "start_time": "2023-07-09T21:08:17.296Z"
   },
   {
    "duration": 74,
    "start_time": "2023-07-09T21:08:17.305Z"
   },
   {
    "duration": 5,
    "start_time": "2023-07-09T21:08:17.381Z"
   },
   {
    "duration": 88,
    "start_time": "2023-07-09T21:26:07.605Z"
   },
   {
    "duration": 1921,
    "start_time": "2023-07-09T21:26:12.860Z"
   },
   {
    "duration": 562,
    "start_time": "2023-07-09T21:26:14.783Z"
   },
   {
    "duration": 20,
    "start_time": "2023-07-09T21:26:15.347Z"
   },
   {
    "duration": 23,
    "start_time": "2023-07-09T21:26:15.372Z"
   },
   {
    "duration": 88,
    "start_time": "2023-07-09T21:26:15.398Z"
   },
   {
    "duration": 10,
    "start_time": "2023-07-09T21:26:15.488Z"
   },
   {
    "duration": 20,
    "start_time": "2023-07-09T21:26:15.499Z"
   },
   {
    "duration": 109,
    "start_time": "2023-07-09T21:26:15.521Z"
   },
   {
    "duration": 36,
    "start_time": "2023-07-09T21:26:15.645Z"
   },
   {
    "duration": 19,
    "start_time": "2023-07-09T21:26:15.683Z"
   },
   {
    "duration": 32,
    "start_time": "2023-07-09T21:26:15.704Z"
   },
   {
    "duration": 45,
    "start_time": "2023-07-09T21:26:15.738Z"
   },
   {
    "duration": 31,
    "start_time": "2023-07-09T21:26:15.784Z"
   },
   {
    "duration": 214,
    "start_time": "2023-07-09T21:26:15.825Z"
   },
   {
    "duration": 50,
    "start_time": "2023-07-09T21:26:16.041Z"
   },
   {
    "duration": 209,
    "start_time": "2023-07-09T21:26:16.093Z"
   },
   {
    "duration": 216,
    "start_time": "2023-07-09T21:26:16.304Z"
   },
   {
    "duration": 64,
    "start_time": "2023-07-09T21:26:16.522Z"
   },
   {
    "duration": 38,
    "start_time": "2023-07-09T21:26:16.588Z"
   },
   {
    "duration": 50,
    "start_time": "2023-07-09T21:26:16.628Z"
   },
   {
    "duration": 25,
    "start_time": "2023-07-09T21:26:16.679Z"
   },
   {
    "duration": 72,
    "start_time": "2023-07-09T21:26:16.706Z"
   },
   {
    "duration": 450,
    "start_time": "2023-07-09T21:26:16.780Z"
   },
   {
    "duration": 231,
    "start_time": "2023-07-09T21:26:17.232Z"
   },
   {
    "duration": 76,
    "start_time": "2023-07-09T21:26:17.465Z"
   },
   {
    "duration": 1054,
    "start_time": "2023-07-09T21:26:17.543Z"
   },
   {
    "duration": 252,
    "start_time": "2023-07-09T21:26:18.599Z"
   },
   {
    "duration": 32,
    "start_time": "2023-07-09T21:26:18.857Z"
   },
   {
    "duration": 11,
    "start_time": "2023-07-09T21:26:18.891Z"
   },
   {
    "duration": 291,
    "start_time": "2023-07-09T21:26:18.903Z"
   },
   {
    "duration": 42,
    "start_time": "2023-07-09T21:26:19.196Z"
   },
   {
    "duration": 13,
    "start_time": "2023-07-09T21:26:19.246Z"
   },
   {
    "duration": 285,
    "start_time": "2023-07-09T21:26:19.261Z"
   },
   {
    "duration": 39,
    "start_time": "2023-07-09T21:26:19.551Z"
   },
   {
    "duration": 61,
    "start_time": "2023-07-09T21:26:19.592Z"
   },
   {
    "duration": 33,
    "start_time": "2023-07-09T21:26:19.660Z"
   },
   {
    "duration": 38,
    "start_time": "2023-07-09T21:26:19.696Z"
   },
   {
    "duration": 495,
    "start_time": "2023-07-09T21:26:19.737Z"
   },
   {
    "duration": 27,
    "start_time": "2023-07-09T21:26:20.234Z"
   },
   {
    "duration": 543,
    "start_time": "2023-07-09T21:26:20.268Z"
   },
   {
    "duration": 20,
    "start_time": "2023-07-09T21:26:20.815Z"
   },
   {
    "duration": 474,
    "start_time": "2023-07-09T21:26:20.837Z"
   },
   {
    "duration": 14,
    "start_time": "2023-07-09T21:26:21.312Z"
   },
   {
    "duration": 78,
    "start_time": "2023-07-09T21:26:21.327Z"
   },
   {
    "duration": 80,
    "start_time": "2023-07-09T21:26:21.406Z"
   },
   {
    "duration": 195,
    "start_time": "2023-07-09T21:26:21.488Z"
   },
   {
    "duration": 9,
    "start_time": "2023-07-09T21:26:21.685Z"
   },
   {
    "duration": 33,
    "start_time": "2023-07-09T21:26:53.102Z"
   },
   {
    "duration": 101,
    "start_time": "2023-07-09T21:27:12.501Z"
   },
   {
    "duration": 643,
    "start_time": "2023-07-09T21:35:30.092Z"
   },
   {
    "duration": 174,
    "start_time": "2023-07-09T21:35:42.905Z"
   },
   {
    "duration": 301,
    "start_time": "2023-07-09T21:35:50.789Z"
   }
  ],
  "kernelspec": {
   "display_name": "Python 3 (ipykernel)",
   "language": "python",
   "name": "python3"
  },
  "language_info": {
   "codemirror_mode": {
    "name": "ipython",
    "version": 3
   },
   "file_extension": ".py",
   "mimetype": "text/x-python",
   "name": "python",
   "nbconvert_exporter": "python",
   "pygments_lexer": "ipython3",
   "version": "3.11.3"
  },
  "toc": {
   "base_numbering": 1,
   "nav_menu": {},
   "number_sections": true,
   "sideBar": true,
   "skip_h1_title": true,
   "title_cell": "Table of Contents",
   "title_sidebar": "Contents",
   "toc_cell": false,
   "toc_position": {},
   "toc_section_display": true,
   "toc_window_display": true
  }
 },
 "nbformat": 4,
 "nbformat_minor": 5
}
