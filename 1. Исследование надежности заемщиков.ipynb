{
 "cells": [
  {
   "cell_type": "markdown",
   "id": "1b140543",
   "metadata": {
    "deletable": false,
    "editable": false,
    "id": "c81daeeb"
   },
   "source": [
    "# Исследование надежности заемщиков\n"
   ]
  },
  {
   "cell_type": "markdown",
   "id": "22720dc0",
   "metadata": {},
   "source": [
    "## Содержание\n",
    "1. Описание данных и постановка задачи\n",
    "2. Загрузка, просмотр и предобработка данных\n",
    "* Обработка аномальных значений\n",
    "* Удаление пропусков\n",
    "* обработка дубликатов\n",
    "* категоризация данных\n",
    "3. Исследование данных и ответы на вопросы\n",
    " * Определить зависимость между количеством детей и возвратом кредита в срок\n",
    " * Определить зависимость между семенйным положением и возвратом кредита в срок\n",
    " * Определить зависимость между уровнем дохода и возвратом кредита в срок\n",
    " * Как разные цели кредите влияют на его возврат в срок\n",
    " * Какие могут быть причины появлениея пропусков в исходных данных\n",
    "4. Вывод"
   ]
  },
  {
   "cell_type": "markdown",
   "id": "827027d9",
   "metadata": {
    "deletable": false,
    "editable": false,
    "id": "827c20bf"
   },
   "source": [
    "## 1. Описание проекта:\n",
    "Заказчик — кредитный отдел банка. Нужно разобраться, влияет ли семейное положение и количество детей клиента на факт погашения кредита в срок. Входные данные от банка — статистика о платёжеспособности клиентов.\n",
    "Результаты исследования будут учтены при построении модели кредитного скоринга — специальной системы, которая оценивает способность потенциального заёмщика вернуть кредит банку\n",
    "\n",
    "## Описание данных:\n",
    "* children — количество детей в семье\n",
    "* days_employed — общий трудовой стаж в днях\n",
    "* dob_years — возраст клиента в годах\n",
    "* education — уровень образования клиента\n",
    "* education_id — идентификатор уровня образования\n",
    "* family_status — семейное положение\n",
    "* family_status_id — идентификатор семейного положения\n",
    "* gender — пол клиента\n",
    "* income_type — тип занятости\n",
    "* debt — имел ли задолженность по возврату кредитов\n",
    "* total_income — ежемесячный доход\n",
    "* purpose — цель получения кредита"
   ]
  },
  {
   "cell_type": "markdown",
   "id": "20c04d8c",
   "metadata": {
    "deletable": false,
    "editable": false,
    "id": "744d7639"
   },
   "source": [
    "## 2. Откройте таблицу и изучите общую информацию о данных"
   ]
  },
  {
   "cell_type": "code",
   "execution_count": 54,
   "id": "0540146f",
   "metadata": {
    "deletable": false,
    "id": "7bcf75c9"
   },
   "outputs": [],
   "source": [
    "import pandas as pd\n",
    "\n",
    "try:\n",
    "    data = pd.read_csv('/datasets/data.csv')\n",
    "except:\n",
    "    data = pd.read_csv('https://code.s3.yandex.net/datasets/data.csv')"
   ]
  },
  {
   "cell_type": "markdown",
   "id": "e178253f",
   "metadata": {
    "deletable": false,
    "editable": false,
    "id": "b8038fe3"
   },
   "source": [
    "**Выведем первые 20 строк на экран**"
   ]
  },
  {
   "cell_type": "code",
   "execution_count": 55,
   "id": "5cd198d2",
   "metadata": {
    "deletable": false,
    "id": "2a7cab99",
    "outputId": "1a8f3ef2-d323-4ec2-ddf7-89670b5944c4"
   },
   "outputs": [
    {
     "data": {
      "text/html": [
       "<div>\n",
       "<style scoped>\n",
       "    .dataframe tbody tr th:only-of-type {\n",
       "        vertical-align: middle;\n",
       "    }\n",
       "\n",
       "    .dataframe tbody tr th {\n",
       "        vertical-align: top;\n",
       "    }\n",
       "\n",
       "    .dataframe thead th {\n",
       "        text-align: right;\n",
       "    }\n",
       "</style>\n",
       "<table border=\"1\" class=\"dataframe\">\n",
       "  <thead>\n",
       "    <tr style=\"text-align: right;\">\n",
       "      <th></th>\n",
       "      <th>children</th>\n",
       "      <th>days_employed</th>\n",
       "      <th>dob_years</th>\n",
       "      <th>education</th>\n",
       "      <th>education_id</th>\n",
       "      <th>family_status</th>\n",
       "      <th>family_status_id</th>\n",
       "      <th>gender</th>\n",
       "      <th>income_type</th>\n",
       "      <th>debt</th>\n",
       "      <th>total_income</th>\n",
       "      <th>purpose</th>\n",
       "    </tr>\n",
       "  </thead>\n",
       "  <tbody>\n",
       "    <tr>\n",
       "      <th>0</th>\n",
       "      <td>1</td>\n",
       "      <td>-8437.673028</td>\n",
       "      <td>42</td>\n",
       "      <td>высшее</td>\n",
       "      <td>0</td>\n",
       "      <td>женат / замужем</td>\n",
       "      <td>0</td>\n",
       "      <td>F</td>\n",
       "      <td>сотрудник</td>\n",
       "      <td>0</td>\n",
       "      <td>253875.639453</td>\n",
       "      <td>покупка жилья</td>\n",
       "    </tr>\n",
       "    <tr>\n",
       "      <th>1</th>\n",
       "      <td>1</td>\n",
       "      <td>-4024.803754</td>\n",
       "      <td>36</td>\n",
       "      <td>среднее</td>\n",
       "      <td>1</td>\n",
       "      <td>женат / замужем</td>\n",
       "      <td>0</td>\n",
       "      <td>F</td>\n",
       "      <td>сотрудник</td>\n",
       "      <td>0</td>\n",
       "      <td>112080.014102</td>\n",
       "      <td>приобретение автомобиля</td>\n",
       "    </tr>\n",
       "    <tr>\n",
       "      <th>2</th>\n",
       "      <td>0</td>\n",
       "      <td>-5623.422610</td>\n",
       "      <td>33</td>\n",
       "      <td>Среднее</td>\n",
       "      <td>1</td>\n",
       "      <td>женат / замужем</td>\n",
       "      <td>0</td>\n",
       "      <td>M</td>\n",
       "      <td>сотрудник</td>\n",
       "      <td>0</td>\n",
       "      <td>145885.952297</td>\n",
       "      <td>покупка жилья</td>\n",
       "    </tr>\n",
       "    <tr>\n",
       "      <th>3</th>\n",
       "      <td>3</td>\n",
       "      <td>-4124.747207</td>\n",
       "      <td>32</td>\n",
       "      <td>среднее</td>\n",
       "      <td>1</td>\n",
       "      <td>женат / замужем</td>\n",
       "      <td>0</td>\n",
       "      <td>M</td>\n",
       "      <td>сотрудник</td>\n",
       "      <td>0</td>\n",
       "      <td>267628.550329</td>\n",
       "      <td>дополнительное образование</td>\n",
       "    </tr>\n",
       "    <tr>\n",
       "      <th>4</th>\n",
       "      <td>0</td>\n",
       "      <td>340266.072047</td>\n",
       "      <td>53</td>\n",
       "      <td>среднее</td>\n",
       "      <td>1</td>\n",
       "      <td>гражданский брак</td>\n",
       "      <td>1</td>\n",
       "      <td>F</td>\n",
       "      <td>пенсионер</td>\n",
       "      <td>0</td>\n",
       "      <td>158616.077870</td>\n",
       "      <td>сыграть свадьбу</td>\n",
       "    </tr>\n",
       "    <tr>\n",
       "      <th>5</th>\n",
       "      <td>0</td>\n",
       "      <td>-926.185831</td>\n",
       "      <td>27</td>\n",
       "      <td>высшее</td>\n",
       "      <td>0</td>\n",
       "      <td>гражданский брак</td>\n",
       "      <td>1</td>\n",
       "      <td>M</td>\n",
       "      <td>компаньон</td>\n",
       "      <td>0</td>\n",
       "      <td>255763.565419</td>\n",
       "      <td>покупка жилья</td>\n",
       "    </tr>\n",
       "    <tr>\n",
       "      <th>6</th>\n",
       "      <td>0</td>\n",
       "      <td>-2879.202052</td>\n",
       "      <td>43</td>\n",
       "      <td>высшее</td>\n",
       "      <td>0</td>\n",
       "      <td>женат / замужем</td>\n",
       "      <td>0</td>\n",
       "      <td>F</td>\n",
       "      <td>компаньон</td>\n",
       "      <td>0</td>\n",
       "      <td>240525.971920</td>\n",
       "      <td>операции с жильем</td>\n",
       "    </tr>\n",
       "    <tr>\n",
       "      <th>7</th>\n",
       "      <td>0</td>\n",
       "      <td>-152.779569</td>\n",
       "      <td>50</td>\n",
       "      <td>СРЕДНЕЕ</td>\n",
       "      <td>1</td>\n",
       "      <td>женат / замужем</td>\n",
       "      <td>0</td>\n",
       "      <td>M</td>\n",
       "      <td>сотрудник</td>\n",
       "      <td>0</td>\n",
       "      <td>135823.934197</td>\n",
       "      <td>образование</td>\n",
       "    </tr>\n",
       "    <tr>\n",
       "      <th>8</th>\n",
       "      <td>2</td>\n",
       "      <td>-6929.865299</td>\n",
       "      <td>35</td>\n",
       "      <td>ВЫСШЕЕ</td>\n",
       "      <td>0</td>\n",
       "      <td>гражданский брак</td>\n",
       "      <td>1</td>\n",
       "      <td>F</td>\n",
       "      <td>сотрудник</td>\n",
       "      <td>0</td>\n",
       "      <td>95856.832424</td>\n",
       "      <td>на проведение свадьбы</td>\n",
       "    </tr>\n",
       "    <tr>\n",
       "      <th>9</th>\n",
       "      <td>0</td>\n",
       "      <td>-2188.756445</td>\n",
       "      <td>41</td>\n",
       "      <td>среднее</td>\n",
       "      <td>1</td>\n",
       "      <td>женат / замужем</td>\n",
       "      <td>0</td>\n",
       "      <td>M</td>\n",
       "      <td>сотрудник</td>\n",
       "      <td>0</td>\n",
       "      <td>144425.938277</td>\n",
       "      <td>покупка жилья для семьи</td>\n",
       "    </tr>\n",
       "    <tr>\n",
       "      <th>10</th>\n",
       "      <td>2</td>\n",
       "      <td>-4171.483647</td>\n",
       "      <td>36</td>\n",
       "      <td>высшее</td>\n",
       "      <td>0</td>\n",
       "      <td>женат / замужем</td>\n",
       "      <td>0</td>\n",
       "      <td>M</td>\n",
       "      <td>компаньон</td>\n",
       "      <td>0</td>\n",
       "      <td>113943.491460</td>\n",
       "      <td>покупка недвижимости</td>\n",
       "    </tr>\n",
       "    <tr>\n",
       "      <th>11</th>\n",
       "      <td>0</td>\n",
       "      <td>-792.701887</td>\n",
       "      <td>40</td>\n",
       "      <td>среднее</td>\n",
       "      <td>1</td>\n",
       "      <td>женат / замужем</td>\n",
       "      <td>0</td>\n",
       "      <td>F</td>\n",
       "      <td>сотрудник</td>\n",
       "      <td>0</td>\n",
       "      <td>77069.234271</td>\n",
       "      <td>покупка коммерческой недвижимости</td>\n",
       "    </tr>\n",
       "    <tr>\n",
       "      <th>12</th>\n",
       "      <td>0</td>\n",
       "      <td>NaN</td>\n",
       "      <td>65</td>\n",
       "      <td>среднее</td>\n",
       "      <td>1</td>\n",
       "      <td>гражданский брак</td>\n",
       "      <td>1</td>\n",
       "      <td>M</td>\n",
       "      <td>пенсионер</td>\n",
       "      <td>0</td>\n",
       "      <td>NaN</td>\n",
       "      <td>сыграть свадьбу</td>\n",
       "    </tr>\n",
       "    <tr>\n",
       "      <th>13</th>\n",
       "      <td>0</td>\n",
       "      <td>-1846.641941</td>\n",
       "      <td>54</td>\n",
       "      <td>неоконченное высшее</td>\n",
       "      <td>2</td>\n",
       "      <td>женат / замужем</td>\n",
       "      <td>0</td>\n",
       "      <td>F</td>\n",
       "      <td>сотрудник</td>\n",
       "      <td>0</td>\n",
       "      <td>130458.228857</td>\n",
       "      <td>приобретение автомобиля</td>\n",
       "    </tr>\n",
       "    <tr>\n",
       "      <th>14</th>\n",
       "      <td>0</td>\n",
       "      <td>-1844.956182</td>\n",
       "      <td>56</td>\n",
       "      <td>высшее</td>\n",
       "      <td>0</td>\n",
       "      <td>гражданский брак</td>\n",
       "      <td>1</td>\n",
       "      <td>F</td>\n",
       "      <td>компаньон</td>\n",
       "      <td>1</td>\n",
       "      <td>165127.911772</td>\n",
       "      <td>покупка жилой недвижимости</td>\n",
       "    </tr>\n",
       "    <tr>\n",
       "      <th>15</th>\n",
       "      <td>1</td>\n",
       "      <td>-972.364419</td>\n",
       "      <td>26</td>\n",
       "      <td>среднее</td>\n",
       "      <td>1</td>\n",
       "      <td>женат / замужем</td>\n",
       "      <td>0</td>\n",
       "      <td>F</td>\n",
       "      <td>сотрудник</td>\n",
       "      <td>0</td>\n",
       "      <td>116820.904450</td>\n",
       "      <td>строительство собственной недвижимости</td>\n",
       "    </tr>\n",
       "    <tr>\n",
       "      <th>16</th>\n",
       "      <td>0</td>\n",
       "      <td>-1719.934226</td>\n",
       "      <td>35</td>\n",
       "      <td>среднее</td>\n",
       "      <td>1</td>\n",
       "      <td>женат / замужем</td>\n",
       "      <td>0</td>\n",
       "      <td>F</td>\n",
       "      <td>сотрудник</td>\n",
       "      <td>0</td>\n",
       "      <td>289202.704229</td>\n",
       "      <td>недвижимость</td>\n",
       "    </tr>\n",
       "    <tr>\n",
       "      <th>17</th>\n",
       "      <td>0</td>\n",
       "      <td>-2369.999720</td>\n",
       "      <td>33</td>\n",
       "      <td>высшее</td>\n",
       "      <td>0</td>\n",
       "      <td>гражданский брак</td>\n",
       "      <td>1</td>\n",
       "      <td>M</td>\n",
       "      <td>сотрудник</td>\n",
       "      <td>0</td>\n",
       "      <td>90410.586745</td>\n",
       "      <td>строительство недвижимости</td>\n",
       "    </tr>\n",
       "    <tr>\n",
       "      <th>18</th>\n",
       "      <td>0</td>\n",
       "      <td>400281.136913</td>\n",
       "      <td>53</td>\n",
       "      <td>среднее</td>\n",
       "      <td>1</td>\n",
       "      <td>вдовец / вдова</td>\n",
       "      <td>2</td>\n",
       "      <td>F</td>\n",
       "      <td>пенсионер</td>\n",
       "      <td>0</td>\n",
       "      <td>56823.777243</td>\n",
       "      <td>на покупку подержанного автомобиля</td>\n",
       "    </tr>\n",
       "    <tr>\n",
       "      <th>19</th>\n",
       "      <td>0</td>\n",
       "      <td>-10038.818549</td>\n",
       "      <td>48</td>\n",
       "      <td>СРЕДНЕЕ</td>\n",
       "      <td>1</td>\n",
       "      <td>в разводе</td>\n",
       "      <td>3</td>\n",
       "      <td>F</td>\n",
       "      <td>сотрудник</td>\n",
       "      <td>0</td>\n",
       "      <td>242831.107982</td>\n",
       "      <td>на покупку своего автомобиля</td>\n",
       "    </tr>\n",
       "  </tbody>\n",
       "</table>\n",
       "</div>"
      ],
      "text/plain": [
       "    children  days_employed  dob_years            education  education_id  \\\n",
       "0          1   -8437.673028         42               высшее             0   \n",
       "1          1   -4024.803754         36              среднее             1   \n",
       "2          0   -5623.422610         33              Среднее             1   \n",
       "3          3   -4124.747207         32              среднее             1   \n",
       "4          0  340266.072047         53              среднее             1   \n",
       "5          0    -926.185831         27               высшее             0   \n",
       "6          0   -2879.202052         43               высшее             0   \n",
       "7          0    -152.779569         50              СРЕДНЕЕ             1   \n",
       "8          2   -6929.865299         35               ВЫСШЕЕ             0   \n",
       "9          0   -2188.756445         41              среднее             1   \n",
       "10         2   -4171.483647         36               высшее             0   \n",
       "11         0    -792.701887         40              среднее             1   \n",
       "12         0            NaN         65              среднее             1   \n",
       "13         0   -1846.641941         54  неоконченное высшее             2   \n",
       "14         0   -1844.956182         56               высшее             0   \n",
       "15         1    -972.364419         26              среднее             1   \n",
       "16         0   -1719.934226         35              среднее             1   \n",
       "17         0   -2369.999720         33               высшее             0   \n",
       "18         0  400281.136913         53              среднее             1   \n",
       "19         0  -10038.818549         48              СРЕДНЕЕ             1   \n",
       "\n",
       "       family_status  family_status_id gender income_type  debt  \\\n",
       "0    женат / замужем                 0      F   сотрудник     0   \n",
       "1    женат / замужем                 0      F   сотрудник     0   \n",
       "2    женат / замужем                 0      M   сотрудник     0   \n",
       "3    женат / замужем                 0      M   сотрудник     0   \n",
       "4   гражданский брак                 1      F   пенсионер     0   \n",
       "5   гражданский брак                 1      M   компаньон     0   \n",
       "6    женат / замужем                 0      F   компаньон     0   \n",
       "7    женат / замужем                 0      M   сотрудник     0   \n",
       "8   гражданский брак                 1      F   сотрудник     0   \n",
       "9    женат / замужем                 0      M   сотрудник     0   \n",
       "10   женат / замужем                 0      M   компаньон     0   \n",
       "11   женат / замужем                 0      F   сотрудник     0   \n",
       "12  гражданский брак                 1      M   пенсионер     0   \n",
       "13   женат / замужем                 0      F   сотрудник     0   \n",
       "14  гражданский брак                 1      F   компаньон     1   \n",
       "15   женат / замужем                 0      F   сотрудник     0   \n",
       "16   женат / замужем                 0      F   сотрудник     0   \n",
       "17  гражданский брак                 1      M   сотрудник     0   \n",
       "18    вдовец / вдова                 2      F   пенсионер     0   \n",
       "19         в разводе                 3      F   сотрудник     0   \n",
       "\n",
       "     total_income                                 purpose  \n",
       "0   253875.639453                           покупка жилья  \n",
       "1   112080.014102                 приобретение автомобиля  \n",
       "2   145885.952297                           покупка жилья  \n",
       "3   267628.550329              дополнительное образование  \n",
       "4   158616.077870                         сыграть свадьбу  \n",
       "5   255763.565419                           покупка жилья  \n",
       "6   240525.971920                       операции с жильем  \n",
       "7   135823.934197                             образование  \n",
       "8    95856.832424                   на проведение свадьбы  \n",
       "9   144425.938277                 покупка жилья для семьи  \n",
       "10  113943.491460                    покупка недвижимости  \n",
       "11   77069.234271       покупка коммерческой недвижимости  \n",
       "12            NaN                         сыграть свадьбу  \n",
       "13  130458.228857                 приобретение автомобиля  \n",
       "14  165127.911772              покупка жилой недвижимости  \n",
       "15  116820.904450  строительство собственной недвижимости  \n",
       "16  289202.704229                            недвижимость  \n",
       "17   90410.586745              строительство недвижимости  \n",
       "18   56823.777243      на покупку подержанного автомобиля  \n",
       "19  242831.107982            на покупку своего автомобиля  "
      ]
     },
     "execution_count": 55,
     "metadata": {},
     "output_type": "execute_result"
    }
   ],
   "source": [
    "data.head(20)"
   ]
  },
  {
   "cell_type": "markdown",
   "id": "e4f76bc5",
   "metadata": {
    "deletable": false,
    "editable": false,
    "id": "1c12e233"
   },
   "source": [
    "**Выведем основную информацию о датафрейме с помощью метода `info()`.**"
   ]
  },
  {
   "cell_type": "code",
   "execution_count": 56,
   "id": "5d07e3f7",
   "metadata": {
    "deletable": false,
    "id": "2b757bca",
    "outputId": "15376089-8dad-46c9-b520-c05248d43158"
   },
   "outputs": [
    {
     "name": "stdout",
     "output_type": "stream",
     "text": [
      "<class 'pandas.core.frame.DataFrame'>\n",
      "RangeIndex: 21525 entries, 0 to 21524\n",
      "Data columns (total 12 columns):\n",
      " #   Column            Non-Null Count  Dtype  \n",
      "---  ------            --------------  -----  \n",
      " 0   children          21525 non-null  int64  \n",
      " 1   days_employed     19351 non-null  float64\n",
      " 2   dob_years         21525 non-null  int64  \n",
      " 3   education         21525 non-null  object \n",
      " 4   education_id      21525 non-null  int64  \n",
      " 5   family_status     21525 non-null  object \n",
      " 6   family_status_id  21525 non-null  int64  \n",
      " 7   gender            21525 non-null  object \n",
      " 8   income_type       21525 non-null  object \n",
      " 9   debt              21525 non-null  int64  \n",
      " 10  total_income      19351 non-null  float64\n",
      " 11  purpose           21525 non-null  object \n",
      "dtypes: float64(2), int64(5), object(5)\n",
      "memory usage: 2.0+ MB\n"
     ]
    }
   ],
   "source": [
    "data.info()"
   ]
  },
  {
   "cell_type": "markdown",
   "id": "6b60a183",
   "metadata": {
    "deletable": false,
    "editable": false,
    "id": "02d92d53"
   },
   "source": [
    "### Удаление пропусков"
   ]
  },
  {
   "cell_type": "markdown",
   "id": "54bfa7e8",
   "metadata": {
    "deletable": false,
    "editable": false,
    "id": "cd84967c"
   },
   "source": [
    "**Выведем количество пропущенных значений для каждого столбца**"
   ]
  },
  {
   "cell_type": "code",
   "execution_count": 57,
   "id": "d24c90f7",
   "metadata": {
    "deletable": false,
    "id": "7f9b2309",
    "outputId": "81f4d817-781c-465c-ed15-91ce4446810d"
   },
   "outputs": [
    {
     "data": {
      "text/plain": [
       "children               0\n",
       "days_employed       2174\n",
       "dob_years              0\n",
       "education              0\n",
       "education_id           0\n",
       "family_status          0\n",
       "family_status_id       0\n",
       "gender                 0\n",
       "income_type            0\n",
       "debt                   0\n",
       "total_income        2174\n",
       "purpose                0\n",
       "dtype: int64"
      ]
     },
     "execution_count": 57,
     "metadata": {},
     "output_type": "execute_result"
    }
   ],
   "source": [
    "data.isna().sum()"
   ]
  },
  {
   "cell_type": "markdown",
   "id": "6a2842bd",
   "metadata": {
    "deletable": false,
    "editable": false,
    "id": "db86e27b"
   },
   "source": [
    "**В двух столбцах есть пропущенные значения. Один из них — `days_employed`. Другой столбец с пропущенными значениями — `total_income` — хранит данные о доходах. На сумму дохода сильнее всего влияет тип занятости, поэтому заполнить пропуски в этом столбце нужно медианным значением по каждому типу из столбца `income_type`. Например, у человека с типом занятости `сотрудник` пропуск в столбце `total_income` должен быть заполнен медианным доходом среди всех записей с тем же типом.**"
   ]
  },
  {
   "cell_type": "code",
   "execution_count": 58,
   "id": "ebc4caa8",
   "metadata": {
    "deletable": false,
    "id": "42006a93"
   },
   "outputs": [],
   "source": [
    "for t in data['income_type'].unique():\n",
    "    data.loc[(data['income_type'] == t) & (data['total_income'].isna()), 'total_income'] = \\\n",
    "    data.loc[(data['income_type'] == t), 'total_income'].median()"
   ]
  },
  {
   "cell_type": "markdown",
   "id": "7e9fbcd6",
   "metadata": {
    "deletable": false,
    "editable": false,
    "id": "89da5ece"
   },
   "source": [
    "### Обработка аномальных значений"
   ]
  },
  {
   "cell_type": "markdown",
   "id": "5db6a515",
   "metadata": {
    "deletable": false,
    "editable": false,
    "id": "57964554"
   },
   "source": [
    "**В данных могут встречаться артефакты (аномалии) — значения, которые не отражают действительность и появились по какой-то ошибке. таким артефактом будет отрицательное количество дней трудового стажа в столбце `days_employed`. Для реальных данных это нормально. Обработаем значения в этом столбце: заменим все отрицательные значения положительными с помощью метода `abs()`.**"
   ]
  },
  {
   "cell_type": "code",
   "execution_count": 59,
   "id": "1ab7868e",
   "metadata": {
    "deletable": false,
    "id": "f6f055bf"
   },
   "outputs": [],
   "source": [
    "data['days_employed'] = data['days_employed'].abs()"
   ]
  },
  {
   "cell_type": "markdown",
   "id": "1b65959c",
   "metadata": {
    "deletable": false,
    "editable": false,
    "id": "6107dd2f"
   },
   "source": [
    "**Для каждого типа занятости выводим медианное значение трудового стажа `days_employed` в днях.**"
   ]
  },
  {
   "cell_type": "code",
   "execution_count": 60,
   "id": "2d254b4c",
   "metadata": {
    "deletable": false,
    "id": "85a5faf6",
    "outputId": "801ef80e-522b-4668-f34e-565af7432bcf"
   },
   "outputs": [
    {
     "data": {
      "text/plain": [
       "income_type\n",
       "безработный        366413.652744\n",
       "в декрете            3296.759962\n",
       "госслужащий          2689.368353\n",
       "компаньон            1547.382223\n",
       "пенсионер          365213.306266\n",
       "предприниматель       520.848083\n",
       "сотрудник            1574.202821\n",
       "студент               578.751554\n",
       "Name: days_employed, dtype: float64"
      ]
     },
     "execution_count": 60,
     "metadata": {},
     "output_type": "execute_result"
    }
   ],
   "source": [
    "data.groupby('income_type')['days_employed'].agg('median')"
   ]
  },
  {
   "cell_type": "markdown",
   "id": "95a54fea",
   "metadata": {
    "deletable": false,
    "editable": false,
    "id": "38d1a030"
   },
   "source": [
    "У двух типов (безработные и пенсионеры) получатся аномально большие значения. Исправить такие значения сложно, поэтому оставим их как есть. Тем более этот столбец не понадобится нам для исследования."
   ]
  },
  {
   "cell_type": "markdown",
   "id": "16492617",
   "metadata": {
    "deletable": false,
    "editable": false,
    "id": "d8a9f147"
   },
   "source": [
    "**Выводим перечень уникальных значений столбца `children`.**"
   ]
  },
  {
   "cell_type": "code",
   "execution_count": 61,
   "id": "6199482c",
   "metadata": {
    "deletable": false,
    "id": "ef5056eb",
    "outputId": "6975b15c-7f95-4697-d16d-a0c79b657b03"
   },
   "outputs": [
    {
     "data": {
      "text/plain": [
       "array([ 1,  0,  3,  2, -1,  4, 20,  5], dtype=int64)"
      ]
     },
     "execution_count": 61,
     "metadata": {},
     "output_type": "execute_result"
    }
   ],
   "source": [
    "data['children'].unique()"
   ]
  },
  {
   "cell_type": "markdown",
   "id": "e1c08d1d",
   "metadata": {
    "deletable": false,
    "editable": false,
    "id": "40b9ebf2"
   },
   "source": [
    "**В столбце `children` есть два аномальных значения. Удалим строки, в которых встречаются такие аномальные значения из датафрейма `data`.**"
   ]
  },
  {
   "cell_type": "code",
   "execution_count": 62,
   "id": "db4a9de7",
   "metadata": {
    "deletable": false,
    "id": "3ff9801d"
   },
   "outputs": [],
   "source": [
    "data = data[(data['children'] != -1) & (data['children'] != 20)]"
   ]
  },
  {
   "cell_type": "markdown",
   "id": "1e351a7a",
   "metadata": {
    "deletable": false,
    "editable": false,
    "id": "bbc4d0ce"
   },
   "source": [
    "**Ещё раз выводим перечень уникальных значений столбца `children`, чтобы убедиться, что артефакты удалены.**"
   ]
  },
  {
   "cell_type": "code",
   "execution_count": 63,
   "id": "a347c00f",
   "metadata": {
    "deletable": false,
    "id": "ad4fa8b7",
    "outputId": "b2097101-d49d-44d9-901b-32a65c9463d1"
   },
   "outputs": [
    {
     "data": {
      "text/plain": [
       "array([1, 0, 3, 2, 4, 5], dtype=int64)"
      ]
     },
     "execution_count": 63,
     "metadata": {},
     "output_type": "execute_result"
    }
   ],
   "source": [
    "data['children'].unique()"
   ]
  },
  {
   "cell_type": "markdown",
   "id": "17e4b63c",
   "metadata": {
    "deletable": false,
    "editable": false,
    "id": "f4ea573f"
   },
   "source": [
    "**Заполним пропуски в столбце `days_employed` медианными значениями по каждого типа занятости `income_type`.**"
   ]
  },
  {
   "cell_type": "code",
   "execution_count": 64,
   "id": "e643bbcf",
   "metadata": {
    "deletable": false,
    "id": "af6b1a7e"
   },
   "outputs": [],
   "source": [
    "for t in data['income_type'].unique():\n",
    "    data.loc[(data['income_type'] == t) & (data['days_employed'].isna()), 'days_employed'] = \\\n",
    "    data.loc[(data['income_type'] == t), 'days_employed'].median()"
   ]
  },
  {
   "cell_type": "markdown",
   "id": "8b109314",
   "metadata": {
    "deletable": false,
    "editable": false,
    "id": "2753f40d"
   },
   "source": [
    "**Убедимся, что все пропуски заполнены. Проверим себя и ещё раз выведем количество пропущенных значений для каждого столбца с помощью двух методов.**"
   ]
  },
  {
   "cell_type": "code",
   "execution_count": 65,
   "id": "eb23f379",
   "metadata": {
    "deletable": false,
    "id": "55f78bc2",
    "outputId": "8da1e4e1-358e-4e87-98c9-f261bce0a7b2"
   },
   "outputs": [
    {
     "data": {
      "text/plain": [
       "children            0\n",
       "days_employed       0\n",
       "dob_years           0\n",
       "education           0\n",
       "education_id        0\n",
       "family_status       0\n",
       "family_status_id    0\n",
       "gender              0\n",
       "income_type         0\n",
       "debt                0\n",
       "total_income        0\n",
       "purpose             0\n",
       "dtype: int64"
      ]
     },
     "execution_count": 65,
     "metadata": {},
     "output_type": "execute_result"
    }
   ],
   "source": [
    "data.isna().sum()"
   ]
  },
  {
   "cell_type": "markdown",
   "id": "939a4783",
   "metadata": {
    "deletable": false,
    "editable": false,
    "id": "42d19d24"
   },
   "source": [
    "**Заменим вещественный тип данных в столбце `total_income` на целочисленный с помощью метода `astype()`.**"
   ]
  },
  {
   "cell_type": "code",
   "execution_count": 66,
   "id": "cbde2b8d",
   "metadata": {
    "deletable": false,
    "id": "920b65ad"
   },
   "outputs": [],
   "source": [
    "data['total_income'] = data['total_income'].astype(int)"
   ]
  },
  {
   "cell_type": "markdown",
   "id": "f27f84ec",
   "metadata": {
    "deletable": false,
    "editable": false,
    "id": "80c420ba"
   },
   "source": [
    "### Обработка дубликатов"
   ]
  },
  {
   "cell_type": "markdown",
   "id": "d44c1148",
   "metadata": {
    "deletable": false,
    "editable": false
   },
   "source": [
    "**Обработаем неявные дубликаты в столбце `education`. В этом столбце есть одни и те же значения, но записанные по-разному: с использованием заглавных и строчных букв. Приведем их к нижнему регистру. Проверим остальные столбцы.**"
   ]
  },
  {
   "cell_type": "code",
   "execution_count": 67,
   "id": "8c83f2c7",
   "metadata": {
    "deletable": false
   },
   "outputs": [],
   "source": [
    "data['education'] = data['education'].str.lower()"
   ]
  },
  {
   "cell_type": "markdown",
   "id": "5501813e",
   "metadata": {
    "deletable": false,
    "editable": false,
    "id": "dc587695"
   },
   "source": [
    "**Выводим на экран количество строк-дубликатов в данных. Если такие строки присутствуют, удалим их.**"
   ]
  },
  {
   "cell_type": "code",
   "execution_count": 68,
   "id": "9ffdf5e4",
   "metadata": {
    "deletable": false,
    "id": "3ee445e4",
    "outputId": "9684deba-1934-42d1-99e1-cda61740f822"
   },
   "outputs": [
    {
     "data": {
      "text/plain": [
       "71"
      ]
     },
     "execution_count": 68,
     "metadata": {},
     "output_type": "execute_result"
    }
   ],
   "source": [
    "data.duplicated().sum()"
   ]
  },
  {
   "cell_type": "code",
   "execution_count": 69,
   "id": "0c027447",
   "metadata": {
    "deletable": false,
    "id": "8575fe05"
   },
   "outputs": [],
   "source": [
    "data = data.drop_duplicates()"
   ]
  },
  {
   "cell_type": "markdown",
   "id": "b8641740",
   "metadata": {
    "deletable": false,
    "editable": false,
    "id": "9904cf55"
   },
   "source": [
    "### Категоризация данных"
   ]
  },
  {
   "cell_type": "markdown",
   "id": "55608ceb",
   "metadata": {
    "deletable": false,
    "editable": false,
    "id": "72fcc8a2"
   },
   "source": [
    "**На основании диапазонов, указанных ниже, создаем в датафрейме `data` столбец `total_income_category` с категориями:**\n",
    "\n",
    "- 0–30000 — `'E'`;\n",
    "- 30001–50000 — `'D'`;\n",
    "- 50001–200000 — `'C'`;\n",
    "- 200001–1000000 — `'B'`;\n",
    "- 1000001 и выше — `'A'`.\n",
    "\n",
    "\n",
    "**Например, кредитополучателю с доходом 25000 нужно назначить категорию `'E'`, а клиенту, получающему 235000, — `'B'`. Используем собственную функцию с именем `categorize_income()` и метод `apply()`.**"
   ]
  },
  {
   "cell_type": "code",
   "execution_count": 70,
   "id": "258ca4ca",
   "metadata": {
    "deletable": false,
    "id": "e1771346"
   },
   "outputs": [],
   "source": [
    "def categorize_income(income):\n",
    "    try:\n",
    "        if 0 <= income <= 30000:\n",
    "            return 'E'\n",
    "        elif 30001 <= income <= 50000:\n",
    "            return 'D'\n",
    "        elif 50001 <= income <= 200000:\n",
    "            return 'C'\n",
    "        elif 200001 <= income <= 1000000:\n",
    "            return 'B'\n",
    "        elif income >= 1000001:\n",
    "            return 'A'\n",
    "    except:\n",
    "        pass"
   ]
  },
  {
   "cell_type": "code",
   "execution_count": 71,
   "id": "5b1d64c9",
   "metadata": {
    "deletable": false,
    "id": "d5f3586d"
   },
   "outputs": [],
   "source": [
    "data['total_income_category'] = data['total_income'].apply(categorize_income)"
   ]
  },
  {
   "cell_type": "markdown",
   "id": "1d2ea38a",
   "metadata": {
    "deletable": false,
    "editable": false,
    "id": "dde49b5c"
   },
   "source": [
    "**Выведим на экран перечень уникальных целей взятия кредита из столбца `purpose`.**"
   ]
  },
  {
   "cell_type": "code",
   "execution_count": 72,
   "id": "730596bd",
   "metadata": {
    "deletable": false,
    "id": "f67ce9b3",
    "outputId": "673c12d9-7d7e-4ae0-9812-c622c89dd244"
   },
   "outputs": [
    {
     "data": {
      "text/plain": [
       "array(['покупка жилья', 'приобретение автомобиля',\n",
       "       'дополнительное образование', 'сыграть свадьбу',\n",
       "       'операции с жильем', 'образование', 'на проведение свадьбы',\n",
       "       'покупка жилья для семьи', 'покупка недвижимости',\n",
       "       'покупка коммерческой недвижимости', 'покупка жилой недвижимости',\n",
       "       'строительство собственной недвижимости', 'недвижимость',\n",
       "       'строительство недвижимости', 'на покупку подержанного автомобиля',\n",
       "       'на покупку своего автомобиля',\n",
       "       'операции с коммерческой недвижимостью',\n",
       "       'строительство жилой недвижимости', 'жилье',\n",
       "       'операции со своей недвижимостью', 'автомобили',\n",
       "       'заняться образованием', 'сделка с подержанным автомобилем',\n",
       "       'получение образования', 'автомобиль', 'свадьба',\n",
       "       'получение дополнительного образования', 'покупка своего жилья',\n",
       "       'операции с недвижимостью', 'получение высшего образования',\n",
       "       'свой автомобиль', 'сделка с автомобилем',\n",
       "       'профильное образование', 'высшее образование',\n",
       "       'покупка жилья для сдачи', 'на покупку автомобиля', 'ремонт жилью',\n",
       "       'заняться высшим образованием'], dtype=object)"
      ]
     },
     "execution_count": 72,
     "metadata": {},
     "output_type": "execute_result"
    }
   ],
   "source": [
    "data['purpose'].unique()"
   ]
  },
  {
   "cell_type": "markdown",
   "id": "11b23aac",
   "metadata": {
    "deletable": false,
    "editable": false,
    "id": "85d0aef0"
   },
   "source": [
    "**Создаем функцию, которая на основании данных из столбца `purpose` сформирует новый столбец `purpose_category`, в который войдут следующие категории:**\n",
    "\n",
    "- `'операции с автомобилем'`,\n",
    "- `'операции с недвижимостью'`,\n",
    "- `'проведение свадьбы'`,\n",
    "- `'получение образования'`.\n",
    "\n",
    "**Например, если в столбце `purpose` находится подстрока `'на покупку автомобиля'`, то в столбце `purpose_category` должна появиться строка `'операции с автомобилем'`.**\n",
    "\n",
    "**Используем собственную функцию с именем `categorize_purpose()` и метод `apply()`. Изучим данные в столбце `purpose` и определим, какие подстроки помогут нам правильно определить категорию.**"
   ]
  },
  {
   "cell_type": "code",
   "execution_count": 73,
   "id": "5b146ef4",
   "metadata": {
    "deletable": false,
    "id": "e149fab4"
   },
   "outputs": [],
   "source": [
    "def categorize_purpose(row):\n",
    "    try:\n",
    "        if 'автом' in row:\n",
    "            return 'операции с автомобилем'\n",
    "        elif 'жил' in row or 'недвиж' in row:\n",
    "            return 'операции с недвижимостью'\n",
    "        elif 'свад' in row:\n",
    "            return 'проведение свадьбы'\n",
    "        elif 'образов' in row:\n",
    "            return 'получение образования'\n",
    "    except:\n",
    "        return 'нет категории'"
   ]
  },
  {
   "cell_type": "code",
   "execution_count": 74,
   "id": "4f97d030",
   "metadata": {
    "deletable": false,
    "id": "bf36e69b"
   },
   "outputs": [],
   "source": [
    "data['purpose_category'] = data['purpose'].apply(categorize_purpose)"
   ]
  },
  {
   "cell_type": "markdown",
   "id": "db1f4bd7",
   "metadata": {
    "deletable": false,
    "editable": false,
    "id": "09b242bf"
   },
   "source": [
    "## 3. Исследование данных и ответы на вопросы"
   ]
  },
  {
   "cell_type": "code",
   "execution_count": 75,
   "id": "2e26e66a",
   "metadata": {},
   "outputs": [
    {
     "data": {
      "text/html": [
       "<div>\n",
       "<style scoped>\n",
       "    .dataframe tbody tr th:only-of-type {\n",
       "        vertical-align: middle;\n",
       "    }\n",
       "\n",
       "    .dataframe tbody tr th {\n",
       "        vertical-align: top;\n",
       "    }\n",
       "\n",
       "    .dataframe thead th {\n",
       "        text-align: right;\n",
       "    }\n",
       "</style>\n",
       "<table border=\"1\" class=\"dataframe\">\n",
       "  <thead>\n",
       "    <tr style=\"text-align: right;\">\n",
       "      <th></th>\n",
       "      <th>children</th>\n",
       "      <th>Кол-во клиентов</th>\n",
       "      <th>Кол-во должников</th>\n",
       "      <th>Доля невозврата</th>\n",
       "    </tr>\n",
       "  </thead>\n",
       "  <tbody>\n",
       "    <tr>\n",
       "      <th>4</th>\n",
       "      <td>4</td>\n",
       "      <td>41</td>\n",
       "      <td>4</td>\n",
       "      <td>0.097561</td>\n",
       "    </tr>\n",
       "    <tr>\n",
       "      <th>2</th>\n",
       "      <td>2</td>\n",
       "      <td>2052</td>\n",
       "      <td>194</td>\n",
       "      <td>0.094542</td>\n",
       "    </tr>\n",
       "    <tr>\n",
       "      <th>1</th>\n",
       "      <td>1</td>\n",
       "      <td>4808</td>\n",
       "      <td>444</td>\n",
       "      <td>0.092346</td>\n",
       "    </tr>\n",
       "    <tr>\n",
       "      <th>3</th>\n",
       "      <td>3</td>\n",
       "      <td>330</td>\n",
       "      <td>27</td>\n",
       "      <td>0.081818</td>\n",
       "    </tr>\n",
       "    <tr>\n",
       "      <th>0</th>\n",
       "      <td>0</td>\n",
       "      <td>14091</td>\n",
       "      <td>1063</td>\n",
       "      <td>0.075438</td>\n",
       "    </tr>\n",
       "    <tr>\n",
       "      <th>5</th>\n",
       "      <td>5</td>\n",
       "      <td>9</td>\n",
       "      <td>0</td>\n",
       "      <td>0.000000</td>\n",
       "    </tr>\n",
       "  </tbody>\n",
       "</table>\n",
       "</div>"
      ],
      "text/plain": [
       "   children  Кол-во клиентов  Кол-во должников  Доля невозврата\n",
       "4         4               41                 4         0.097561\n",
       "2         2             2052               194         0.094542\n",
       "1         1             4808               444         0.092346\n",
       "3         3              330                27         0.081818\n",
       "0         0            14091              1063         0.075438\n",
       "5         5                9                 0         0.000000"
      ]
     },
     "metadata": {},
     "output_type": "display_data"
    },
    {
     "data": {
      "application/vnd.plotly.v1+json": {
       "config": {
        "plotlyServerURL": "https://plot.ly"
       },
       "data": [
        {
         "alignmentgroup": "True",
         "hovertemplate": "children=%{x}<br>Доля невозврата=%{marker.color}<extra></extra>",
         "legendgroup": "",
         "marker": {
          "color": [
           0.07543822297920659,
           0.09234608985024959,
           0.09454191033138401,
           0.08181818181818182,
           0.0975609756097561,
           0
          ],
          "coloraxis": "coloraxis",
          "pattern": {
           "shape": ""
          }
         },
         "name": "",
         "offsetgroup": "",
         "orientation": "v",
         "showlegend": false,
         "textposition": "auto",
         "type": "bar",
         "x": [
          0,
          1,
          2,
          3,
          4,
          5
         ],
         "xaxis": "x",
         "y": [
          0.07543822297920659,
          0.09234608985024959,
          0.09454191033138401,
          0.08181818181818182,
          0.0975609756097561,
          0
         ],
         "yaxis": "y"
        }
       ],
       "layout": {
        "barmode": "relative",
        "coloraxis": {
         "colorbar": {
          "title": {
           "text": "Доля невозврата"
          }
         },
         "colorscale": [
          [
           0,
           "#0d0887"
          ],
          [
           0.1111111111111111,
           "#46039f"
          ],
          [
           0.2222222222222222,
           "#7201a8"
          ],
          [
           0.3333333333333333,
           "#9c179e"
          ],
          [
           0.4444444444444444,
           "#bd3786"
          ],
          [
           0.5555555555555556,
           "#d8576b"
          ],
          [
           0.6666666666666666,
           "#ed7953"
          ],
          [
           0.7777777777777778,
           "#fb9f3a"
          ],
          [
           0.8888888888888888,
           "#fdca26"
          ],
          [
           1,
           "#f0f921"
          ]
         ]
        },
        "legend": {
         "tracegroupgap": 0
        },
        "template": {
         "data": {
          "bar": [
           {
            "error_x": {
             "color": "#2a3f5f"
            },
            "error_y": {
             "color": "#2a3f5f"
            },
            "marker": {
             "line": {
              "color": "#E5ECF6",
              "width": 0.5
             },
             "pattern": {
              "fillmode": "overlay",
              "size": 10,
              "solidity": 0.2
             }
            },
            "type": "bar"
           }
          ],
          "barpolar": [
           {
            "marker": {
             "line": {
              "color": "#E5ECF6",
              "width": 0.5
             },
             "pattern": {
              "fillmode": "overlay",
              "size": 10,
              "solidity": 0.2
             }
            },
            "type": "barpolar"
           }
          ],
          "carpet": [
           {
            "aaxis": {
             "endlinecolor": "#2a3f5f",
             "gridcolor": "white",
             "linecolor": "white",
             "minorgridcolor": "white",
             "startlinecolor": "#2a3f5f"
            },
            "baxis": {
             "endlinecolor": "#2a3f5f",
             "gridcolor": "white",
             "linecolor": "white",
             "minorgridcolor": "white",
             "startlinecolor": "#2a3f5f"
            },
            "type": "carpet"
           }
          ],
          "choropleth": [
           {
            "colorbar": {
             "outlinewidth": 0,
             "ticks": ""
            },
            "type": "choropleth"
           }
          ],
          "contour": [
           {
            "colorbar": {
             "outlinewidth": 0,
             "ticks": ""
            },
            "colorscale": [
             [
              0,
              "#0d0887"
             ],
             [
              0.1111111111111111,
              "#46039f"
             ],
             [
              0.2222222222222222,
              "#7201a8"
             ],
             [
              0.3333333333333333,
              "#9c179e"
             ],
             [
              0.4444444444444444,
              "#bd3786"
             ],
             [
              0.5555555555555556,
              "#d8576b"
             ],
             [
              0.6666666666666666,
              "#ed7953"
             ],
             [
              0.7777777777777778,
              "#fb9f3a"
             ],
             [
              0.8888888888888888,
              "#fdca26"
             ],
             [
              1,
              "#f0f921"
             ]
            ],
            "type": "contour"
           }
          ],
          "contourcarpet": [
           {
            "colorbar": {
             "outlinewidth": 0,
             "ticks": ""
            },
            "type": "contourcarpet"
           }
          ],
          "heatmap": [
           {
            "colorbar": {
             "outlinewidth": 0,
             "ticks": ""
            },
            "colorscale": [
             [
              0,
              "#0d0887"
             ],
             [
              0.1111111111111111,
              "#46039f"
             ],
             [
              0.2222222222222222,
              "#7201a8"
             ],
             [
              0.3333333333333333,
              "#9c179e"
             ],
             [
              0.4444444444444444,
              "#bd3786"
             ],
             [
              0.5555555555555556,
              "#d8576b"
             ],
             [
              0.6666666666666666,
              "#ed7953"
             ],
             [
              0.7777777777777778,
              "#fb9f3a"
             ],
             [
              0.8888888888888888,
              "#fdca26"
             ],
             [
              1,
              "#f0f921"
             ]
            ],
            "type": "heatmap"
           }
          ],
          "heatmapgl": [
           {
            "colorbar": {
             "outlinewidth": 0,
             "ticks": ""
            },
            "colorscale": [
             [
              0,
              "#0d0887"
             ],
             [
              0.1111111111111111,
              "#46039f"
             ],
             [
              0.2222222222222222,
              "#7201a8"
             ],
             [
              0.3333333333333333,
              "#9c179e"
             ],
             [
              0.4444444444444444,
              "#bd3786"
             ],
             [
              0.5555555555555556,
              "#d8576b"
             ],
             [
              0.6666666666666666,
              "#ed7953"
             ],
             [
              0.7777777777777778,
              "#fb9f3a"
             ],
             [
              0.8888888888888888,
              "#fdca26"
             ],
             [
              1,
              "#f0f921"
             ]
            ],
            "type": "heatmapgl"
           }
          ],
          "histogram": [
           {
            "marker": {
             "pattern": {
              "fillmode": "overlay",
              "size": 10,
              "solidity": 0.2
             }
            },
            "type": "histogram"
           }
          ],
          "histogram2d": [
           {
            "colorbar": {
             "outlinewidth": 0,
             "ticks": ""
            },
            "colorscale": [
             [
              0,
              "#0d0887"
             ],
             [
              0.1111111111111111,
              "#46039f"
             ],
             [
              0.2222222222222222,
              "#7201a8"
             ],
             [
              0.3333333333333333,
              "#9c179e"
             ],
             [
              0.4444444444444444,
              "#bd3786"
             ],
             [
              0.5555555555555556,
              "#d8576b"
             ],
             [
              0.6666666666666666,
              "#ed7953"
             ],
             [
              0.7777777777777778,
              "#fb9f3a"
             ],
             [
              0.8888888888888888,
              "#fdca26"
             ],
             [
              1,
              "#f0f921"
             ]
            ],
            "type": "histogram2d"
           }
          ],
          "histogram2dcontour": [
           {
            "colorbar": {
             "outlinewidth": 0,
             "ticks": ""
            },
            "colorscale": [
             [
              0,
              "#0d0887"
             ],
             [
              0.1111111111111111,
              "#46039f"
             ],
             [
              0.2222222222222222,
              "#7201a8"
             ],
             [
              0.3333333333333333,
              "#9c179e"
             ],
             [
              0.4444444444444444,
              "#bd3786"
             ],
             [
              0.5555555555555556,
              "#d8576b"
             ],
             [
              0.6666666666666666,
              "#ed7953"
             ],
             [
              0.7777777777777778,
              "#fb9f3a"
             ],
             [
              0.8888888888888888,
              "#fdca26"
             ],
             [
              1,
              "#f0f921"
             ]
            ],
            "type": "histogram2dcontour"
           }
          ],
          "mesh3d": [
           {
            "colorbar": {
             "outlinewidth": 0,
             "ticks": ""
            },
            "type": "mesh3d"
           }
          ],
          "parcoords": [
           {
            "line": {
             "colorbar": {
              "outlinewidth": 0,
              "ticks": ""
             }
            },
            "type": "parcoords"
           }
          ],
          "pie": [
           {
            "automargin": true,
            "type": "pie"
           }
          ],
          "scatter": [
           {
            "marker": {
             "colorbar": {
              "outlinewidth": 0,
              "ticks": ""
             }
            },
            "type": "scatter"
           }
          ],
          "scatter3d": [
           {
            "line": {
             "colorbar": {
              "outlinewidth": 0,
              "ticks": ""
             }
            },
            "marker": {
             "colorbar": {
              "outlinewidth": 0,
              "ticks": ""
             }
            },
            "type": "scatter3d"
           }
          ],
          "scattercarpet": [
           {
            "marker": {
             "colorbar": {
              "outlinewidth": 0,
              "ticks": ""
             }
            },
            "type": "scattercarpet"
           }
          ],
          "scattergeo": [
           {
            "marker": {
             "colorbar": {
              "outlinewidth": 0,
              "ticks": ""
             }
            },
            "type": "scattergeo"
           }
          ],
          "scattergl": [
           {
            "marker": {
             "colorbar": {
              "outlinewidth": 0,
              "ticks": ""
             }
            },
            "type": "scattergl"
           }
          ],
          "scattermapbox": [
           {
            "marker": {
             "colorbar": {
              "outlinewidth": 0,
              "ticks": ""
             }
            },
            "type": "scattermapbox"
           }
          ],
          "scatterpolar": [
           {
            "marker": {
             "colorbar": {
              "outlinewidth": 0,
              "ticks": ""
             }
            },
            "type": "scatterpolar"
           }
          ],
          "scatterpolargl": [
           {
            "marker": {
             "colorbar": {
              "outlinewidth": 0,
              "ticks": ""
             }
            },
            "type": "scatterpolargl"
           }
          ],
          "scatterternary": [
           {
            "marker": {
             "colorbar": {
              "outlinewidth": 0,
              "ticks": ""
             }
            },
            "type": "scatterternary"
           }
          ],
          "surface": [
           {
            "colorbar": {
             "outlinewidth": 0,
             "ticks": ""
            },
            "colorscale": [
             [
              0,
              "#0d0887"
             ],
             [
              0.1111111111111111,
              "#46039f"
             ],
             [
              0.2222222222222222,
              "#7201a8"
             ],
             [
              0.3333333333333333,
              "#9c179e"
             ],
             [
              0.4444444444444444,
              "#bd3786"
             ],
             [
              0.5555555555555556,
              "#d8576b"
             ],
             [
              0.6666666666666666,
              "#ed7953"
             ],
             [
              0.7777777777777778,
              "#fb9f3a"
             ],
             [
              0.8888888888888888,
              "#fdca26"
             ],
             [
              1,
              "#f0f921"
             ]
            ],
            "type": "surface"
           }
          ],
          "table": [
           {
            "cells": {
             "fill": {
              "color": "#EBF0F8"
             },
             "line": {
              "color": "white"
             }
            },
            "header": {
             "fill": {
              "color": "#C8D4E3"
             },
             "line": {
              "color": "white"
             }
            },
            "type": "table"
           }
          ]
         },
         "layout": {
          "annotationdefaults": {
           "arrowcolor": "#2a3f5f",
           "arrowhead": 0,
           "arrowwidth": 1
          },
          "autotypenumbers": "strict",
          "coloraxis": {
           "colorbar": {
            "outlinewidth": 0,
            "ticks": ""
           }
          },
          "colorscale": {
           "diverging": [
            [
             0,
             "#8e0152"
            ],
            [
             0.1,
             "#c51b7d"
            ],
            [
             0.2,
             "#de77ae"
            ],
            [
             0.3,
             "#f1b6da"
            ],
            [
             0.4,
             "#fde0ef"
            ],
            [
             0.5,
             "#f7f7f7"
            ],
            [
             0.6,
             "#e6f5d0"
            ],
            [
             0.7,
             "#b8e186"
            ],
            [
             0.8,
             "#7fbc41"
            ],
            [
             0.9,
             "#4d9221"
            ],
            [
             1,
             "#276419"
            ]
           ],
           "sequential": [
            [
             0,
             "#0d0887"
            ],
            [
             0.1111111111111111,
             "#46039f"
            ],
            [
             0.2222222222222222,
             "#7201a8"
            ],
            [
             0.3333333333333333,
             "#9c179e"
            ],
            [
             0.4444444444444444,
             "#bd3786"
            ],
            [
             0.5555555555555556,
             "#d8576b"
            ],
            [
             0.6666666666666666,
             "#ed7953"
            ],
            [
             0.7777777777777778,
             "#fb9f3a"
            ],
            [
             0.8888888888888888,
             "#fdca26"
            ],
            [
             1,
             "#f0f921"
            ]
           ],
           "sequentialminus": [
            [
             0,
             "#0d0887"
            ],
            [
             0.1111111111111111,
             "#46039f"
            ],
            [
             0.2222222222222222,
             "#7201a8"
            ],
            [
             0.3333333333333333,
             "#9c179e"
            ],
            [
             0.4444444444444444,
             "#bd3786"
            ],
            [
             0.5555555555555556,
             "#d8576b"
            ],
            [
             0.6666666666666666,
             "#ed7953"
            ],
            [
             0.7777777777777778,
             "#fb9f3a"
            ],
            [
             0.8888888888888888,
             "#fdca26"
            ],
            [
             1,
             "#f0f921"
            ]
           ]
          },
          "colorway": [
           "#636efa",
           "#EF553B",
           "#00cc96",
           "#ab63fa",
           "#FFA15A",
           "#19d3f3",
           "#FF6692",
           "#B6E880",
           "#FF97FF",
           "#FECB52"
          ],
          "font": {
           "color": "#2a3f5f"
          },
          "geo": {
           "bgcolor": "white",
           "lakecolor": "white",
           "landcolor": "#E5ECF6",
           "showlakes": true,
           "showland": true,
           "subunitcolor": "white"
          },
          "hoverlabel": {
           "align": "left"
          },
          "hovermode": "closest",
          "mapbox": {
           "style": "light"
          },
          "paper_bgcolor": "white",
          "plot_bgcolor": "#E5ECF6",
          "polar": {
           "angularaxis": {
            "gridcolor": "white",
            "linecolor": "white",
            "ticks": ""
           },
           "bgcolor": "#E5ECF6",
           "radialaxis": {
            "gridcolor": "white",
            "linecolor": "white",
            "ticks": ""
           }
          },
          "scene": {
           "xaxis": {
            "backgroundcolor": "#E5ECF6",
            "gridcolor": "white",
            "gridwidth": 2,
            "linecolor": "white",
            "showbackground": true,
            "ticks": "",
            "zerolinecolor": "white"
           },
           "yaxis": {
            "backgroundcolor": "#E5ECF6",
            "gridcolor": "white",
            "gridwidth": 2,
            "linecolor": "white",
            "showbackground": true,
            "ticks": "",
            "zerolinecolor": "white"
           },
           "zaxis": {
            "backgroundcolor": "#E5ECF6",
            "gridcolor": "white",
            "gridwidth": 2,
            "linecolor": "white",
            "showbackground": true,
            "ticks": "",
            "zerolinecolor": "white"
           }
          },
          "shapedefaults": {
           "line": {
            "color": "#2a3f5f"
           }
          },
          "ternary": {
           "aaxis": {
            "gridcolor": "white",
            "linecolor": "white",
            "ticks": ""
           },
           "baxis": {
            "gridcolor": "white",
            "linecolor": "white",
            "ticks": ""
           },
           "bgcolor": "#E5ECF6",
           "caxis": {
            "gridcolor": "white",
            "linecolor": "white",
            "ticks": ""
           }
          },
          "title": {
           "x": 0.05
          },
          "xaxis": {
           "automargin": true,
           "gridcolor": "white",
           "linecolor": "white",
           "ticks": "",
           "title": {
            "standoff": 15
           },
           "zerolinecolor": "white",
           "zerolinewidth": 2
          },
          "yaxis": {
           "automargin": true,
           "gridcolor": "white",
           "linecolor": "white",
           "ticks": "",
           "title": {
            "standoff": 15
           },
           "zerolinecolor": "white",
           "zerolinewidth": 2
          }
         }
        },
        "title": {
         "text": "Доля невозврата по children"
        },
        "xaxis": {
         "anchor": "y",
         "domain": [
          0,
          1
         ],
         "title": {
          "text": "children"
         }
        },
        "yaxis": {
         "anchor": "x",
         "domain": [
          0,
          1
         ],
         "title": {
          "text": "Доля невозврата"
         }
        }
       }
      }
     },
     "metadata": {},
     "output_type": "display_data"
    }
   ],
   "source": [
    "import plotly.express as px\n",
    "\n",
    "def pivot(data, index):\n",
    "\n",
    "    pivot = data.pivot_table(index = index, values = 'debt', aggfunc = ['count', 'sum', 'mean']).reset_index()\n",
    "    pivot.columns = [index, 'Кол-во клиентов', 'Кол-во должников', 'Доля невозврата']\n",
    "    display(pivot.sort_values('Доля невозврата', ascending = False))\n",
    "    \n",
    "    \n",
    "    \n",
    "    fig = px.bar(pivot, x = index, y = 'Доля невозврата', color = 'Доля невозврата', title = 'Доля невозврата по ' + index)\n",
    "    fig.show()\n",
    "    \n",
    "pivot(data, 'children')"
   ]
  },
  {
   "cell_type": "markdown",
   "id": "a543978b",
   "metadata": {
    "deletable": false,
    "editable": false,
    "id": "c5d66278"
   },
   "source": [
    "#### 3.1 Есть ли зависимость между количеством детей и возвратом кредита в срок?"
   ]
  },
  {
   "cell_type": "code",
   "execution_count": 76,
   "id": "347b8483",
   "metadata": {
    "deletable": false,
    "id": "2cacfc4a"
   },
   "outputs": [
    {
     "data": {
      "text/html": [
       "<div>\n",
       "<style scoped>\n",
       "    .dataframe tbody tr th:only-of-type {\n",
       "        vertical-align: middle;\n",
       "    }\n",
       "\n",
       "    .dataframe tbody tr th {\n",
       "        vertical-align: top;\n",
       "    }\n",
       "\n",
       "    .dataframe thead th {\n",
       "        text-align: right;\n",
       "    }\n",
       "</style>\n",
       "<table border=\"1\" class=\"dataframe\">\n",
       "  <thead>\n",
       "    <tr style=\"text-align: right;\">\n",
       "      <th></th>\n",
       "      <th>children</th>\n",
       "      <th>Кол-во клиентов</th>\n",
       "      <th>Кол-во должников</th>\n",
       "      <th>Доля невозврата</th>\n",
       "    </tr>\n",
       "  </thead>\n",
       "  <tbody>\n",
       "    <tr>\n",
       "      <th>4</th>\n",
       "      <td>4</td>\n",
       "      <td>41</td>\n",
       "      <td>4</td>\n",
       "      <td>0.097561</td>\n",
       "    </tr>\n",
       "    <tr>\n",
       "      <th>2</th>\n",
       "      <td>2</td>\n",
       "      <td>2052</td>\n",
       "      <td>194</td>\n",
       "      <td>0.094542</td>\n",
       "    </tr>\n",
       "    <tr>\n",
       "      <th>1</th>\n",
       "      <td>1</td>\n",
       "      <td>4808</td>\n",
       "      <td>444</td>\n",
       "      <td>0.092346</td>\n",
       "    </tr>\n",
       "    <tr>\n",
       "      <th>3</th>\n",
       "      <td>3</td>\n",
       "      <td>330</td>\n",
       "      <td>27</td>\n",
       "      <td>0.081818</td>\n",
       "    </tr>\n",
       "    <tr>\n",
       "      <th>0</th>\n",
       "      <td>0</td>\n",
       "      <td>14091</td>\n",
       "      <td>1063</td>\n",
       "      <td>0.075438</td>\n",
       "    </tr>\n",
       "    <tr>\n",
       "      <th>5</th>\n",
       "      <td>5</td>\n",
       "      <td>9</td>\n",
       "      <td>0</td>\n",
       "      <td>0.000000</td>\n",
       "    </tr>\n",
       "  </tbody>\n",
       "</table>\n",
       "</div>"
      ],
      "text/plain": [
       "   children  Кол-во клиентов  Кол-во должников  Доля невозврата\n",
       "4         4               41                 4         0.097561\n",
       "2         2             2052               194         0.094542\n",
       "1         1             4808               444         0.092346\n",
       "3         3              330                27         0.081818\n",
       "0         0            14091              1063         0.075438\n",
       "5         5                9                 0         0.000000"
      ]
     },
     "metadata": {},
     "output_type": "display_data"
    },
    {
     "data": {
      "application/vnd.plotly.v1+json": {
       "config": {
        "plotlyServerURL": "https://plot.ly"
       },
       "data": [
        {
         "alignmentgroup": "True",
         "hovertemplate": "children=%{x}<br>Доля невозврата=%{marker.color}<extra></extra>",
         "legendgroup": "",
         "marker": {
          "color": [
           0.07543822297920659,
           0.09234608985024959,
           0.09454191033138401,
           0.08181818181818182,
           0.0975609756097561,
           0
          ],
          "coloraxis": "coloraxis",
          "pattern": {
           "shape": ""
          }
         },
         "name": "",
         "offsetgroup": "",
         "orientation": "v",
         "showlegend": false,
         "textposition": "auto",
         "type": "bar",
         "x": [
          0,
          1,
          2,
          3,
          4,
          5
         ],
         "xaxis": "x",
         "y": [
          0.07543822297920659,
          0.09234608985024959,
          0.09454191033138401,
          0.08181818181818182,
          0.0975609756097561,
          0
         ],
         "yaxis": "y"
        }
       ],
       "layout": {
        "barmode": "relative",
        "coloraxis": {
         "colorbar": {
          "title": {
           "text": "Доля невозврата"
          }
         },
         "colorscale": [
          [
           0,
           "#0d0887"
          ],
          [
           0.1111111111111111,
           "#46039f"
          ],
          [
           0.2222222222222222,
           "#7201a8"
          ],
          [
           0.3333333333333333,
           "#9c179e"
          ],
          [
           0.4444444444444444,
           "#bd3786"
          ],
          [
           0.5555555555555556,
           "#d8576b"
          ],
          [
           0.6666666666666666,
           "#ed7953"
          ],
          [
           0.7777777777777778,
           "#fb9f3a"
          ],
          [
           0.8888888888888888,
           "#fdca26"
          ],
          [
           1,
           "#f0f921"
          ]
         ]
        },
        "legend": {
         "tracegroupgap": 0
        },
        "template": {
         "data": {
          "bar": [
           {
            "error_x": {
             "color": "#2a3f5f"
            },
            "error_y": {
             "color": "#2a3f5f"
            },
            "marker": {
             "line": {
              "color": "#E5ECF6",
              "width": 0.5
             },
             "pattern": {
              "fillmode": "overlay",
              "size": 10,
              "solidity": 0.2
             }
            },
            "type": "bar"
           }
          ],
          "barpolar": [
           {
            "marker": {
             "line": {
              "color": "#E5ECF6",
              "width": 0.5
             },
             "pattern": {
              "fillmode": "overlay",
              "size": 10,
              "solidity": 0.2
             }
            },
            "type": "barpolar"
           }
          ],
          "carpet": [
           {
            "aaxis": {
             "endlinecolor": "#2a3f5f",
             "gridcolor": "white",
             "linecolor": "white",
             "minorgridcolor": "white",
             "startlinecolor": "#2a3f5f"
            },
            "baxis": {
             "endlinecolor": "#2a3f5f",
             "gridcolor": "white",
             "linecolor": "white",
             "minorgridcolor": "white",
             "startlinecolor": "#2a3f5f"
            },
            "type": "carpet"
           }
          ],
          "choropleth": [
           {
            "colorbar": {
             "outlinewidth": 0,
             "ticks": ""
            },
            "type": "choropleth"
           }
          ],
          "contour": [
           {
            "colorbar": {
             "outlinewidth": 0,
             "ticks": ""
            },
            "colorscale": [
             [
              0,
              "#0d0887"
             ],
             [
              0.1111111111111111,
              "#46039f"
             ],
             [
              0.2222222222222222,
              "#7201a8"
             ],
             [
              0.3333333333333333,
              "#9c179e"
             ],
             [
              0.4444444444444444,
              "#bd3786"
             ],
             [
              0.5555555555555556,
              "#d8576b"
             ],
             [
              0.6666666666666666,
              "#ed7953"
             ],
             [
              0.7777777777777778,
              "#fb9f3a"
             ],
             [
              0.8888888888888888,
              "#fdca26"
             ],
             [
              1,
              "#f0f921"
             ]
            ],
            "type": "contour"
           }
          ],
          "contourcarpet": [
           {
            "colorbar": {
             "outlinewidth": 0,
             "ticks": ""
            },
            "type": "contourcarpet"
           }
          ],
          "heatmap": [
           {
            "colorbar": {
             "outlinewidth": 0,
             "ticks": ""
            },
            "colorscale": [
             [
              0,
              "#0d0887"
             ],
             [
              0.1111111111111111,
              "#46039f"
             ],
             [
              0.2222222222222222,
              "#7201a8"
             ],
             [
              0.3333333333333333,
              "#9c179e"
             ],
             [
              0.4444444444444444,
              "#bd3786"
             ],
             [
              0.5555555555555556,
              "#d8576b"
             ],
             [
              0.6666666666666666,
              "#ed7953"
             ],
             [
              0.7777777777777778,
              "#fb9f3a"
             ],
             [
              0.8888888888888888,
              "#fdca26"
             ],
             [
              1,
              "#f0f921"
             ]
            ],
            "type": "heatmap"
           }
          ],
          "heatmapgl": [
           {
            "colorbar": {
             "outlinewidth": 0,
             "ticks": ""
            },
            "colorscale": [
             [
              0,
              "#0d0887"
             ],
             [
              0.1111111111111111,
              "#46039f"
             ],
             [
              0.2222222222222222,
              "#7201a8"
             ],
             [
              0.3333333333333333,
              "#9c179e"
             ],
             [
              0.4444444444444444,
              "#bd3786"
             ],
             [
              0.5555555555555556,
              "#d8576b"
             ],
             [
              0.6666666666666666,
              "#ed7953"
             ],
             [
              0.7777777777777778,
              "#fb9f3a"
             ],
             [
              0.8888888888888888,
              "#fdca26"
             ],
             [
              1,
              "#f0f921"
             ]
            ],
            "type": "heatmapgl"
           }
          ],
          "histogram": [
           {
            "marker": {
             "pattern": {
              "fillmode": "overlay",
              "size": 10,
              "solidity": 0.2
             }
            },
            "type": "histogram"
           }
          ],
          "histogram2d": [
           {
            "colorbar": {
             "outlinewidth": 0,
             "ticks": ""
            },
            "colorscale": [
             [
              0,
              "#0d0887"
             ],
             [
              0.1111111111111111,
              "#46039f"
             ],
             [
              0.2222222222222222,
              "#7201a8"
             ],
             [
              0.3333333333333333,
              "#9c179e"
             ],
             [
              0.4444444444444444,
              "#bd3786"
             ],
             [
              0.5555555555555556,
              "#d8576b"
             ],
             [
              0.6666666666666666,
              "#ed7953"
             ],
             [
              0.7777777777777778,
              "#fb9f3a"
             ],
             [
              0.8888888888888888,
              "#fdca26"
             ],
             [
              1,
              "#f0f921"
             ]
            ],
            "type": "histogram2d"
           }
          ],
          "histogram2dcontour": [
           {
            "colorbar": {
             "outlinewidth": 0,
             "ticks": ""
            },
            "colorscale": [
             [
              0,
              "#0d0887"
             ],
             [
              0.1111111111111111,
              "#46039f"
             ],
             [
              0.2222222222222222,
              "#7201a8"
             ],
             [
              0.3333333333333333,
              "#9c179e"
             ],
             [
              0.4444444444444444,
              "#bd3786"
             ],
             [
              0.5555555555555556,
              "#d8576b"
             ],
             [
              0.6666666666666666,
              "#ed7953"
             ],
             [
              0.7777777777777778,
              "#fb9f3a"
             ],
             [
              0.8888888888888888,
              "#fdca26"
             ],
             [
              1,
              "#f0f921"
             ]
            ],
            "type": "histogram2dcontour"
           }
          ],
          "mesh3d": [
           {
            "colorbar": {
             "outlinewidth": 0,
             "ticks": ""
            },
            "type": "mesh3d"
           }
          ],
          "parcoords": [
           {
            "line": {
             "colorbar": {
              "outlinewidth": 0,
              "ticks": ""
             }
            },
            "type": "parcoords"
           }
          ],
          "pie": [
           {
            "automargin": true,
            "type": "pie"
           }
          ],
          "scatter": [
           {
            "marker": {
             "colorbar": {
              "outlinewidth": 0,
              "ticks": ""
             }
            },
            "type": "scatter"
           }
          ],
          "scatter3d": [
           {
            "line": {
             "colorbar": {
              "outlinewidth": 0,
              "ticks": ""
             }
            },
            "marker": {
             "colorbar": {
              "outlinewidth": 0,
              "ticks": ""
             }
            },
            "type": "scatter3d"
           }
          ],
          "scattercarpet": [
           {
            "marker": {
             "colorbar": {
              "outlinewidth": 0,
              "ticks": ""
             }
            },
            "type": "scattercarpet"
           }
          ],
          "scattergeo": [
           {
            "marker": {
             "colorbar": {
              "outlinewidth": 0,
              "ticks": ""
             }
            },
            "type": "scattergeo"
           }
          ],
          "scattergl": [
           {
            "marker": {
             "colorbar": {
              "outlinewidth": 0,
              "ticks": ""
             }
            },
            "type": "scattergl"
           }
          ],
          "scattermapbox": [
           {
            "marker": {
             "colorbar": {
              "outlinewidth": 0,
              "ticks": ""
             }
            },
            "type": "scattermapbox"
           }
          ],
          "scatterpolar": [
           {
            "marker": {
             "colorbar": {
              "outlinewidth": 0,
              "ticks": ""
             }
            },
            "type": "scatterpolar"
           }
          ],
          "scatterpolargl": [
           {
            "marker": {
             "colorbar": {
              "outlinewidth": 0,
              "ticks": ""
             }
            },
            "type": "scatterpolargl"
           }
          ],
          "scatterternary": [
           {
            "marker": {
             "colorbar": {
              "outlinewidth": 0,
              "ticks": ""
             }
            },
            "type": "scatterternary"
           }
          ],
          "surface": [
           {
            "colorbar": {
             "outlinewidth": 0,
             "ticks": ""
            },
            "colorscale": [
             [
              0,
              "#0d0887"
             ],
             [
              0.1111111111111111,
              "#46039f"
             ],
             [
              0.2222222222222222,
              "#7201a8"
             ],
             [
              0.3333333333333333,
              "#9c179e"
             ],
             [
              0.4444444444444444,
              "#bd3786"
             ],
             [
              0.5555555555555556,
              "#d8576b"
             ],
             [
              0.6666666666666666,
              "#ed7953"
             ],
             [
              0.7777777777777778,
              "#fb9f3a"
             ],
             [
              0.8888888888888888,
              "#fdca26"
             ],
             [
              1,
              "#f0f921"
             ]
            ],
            "type": "surface"
           }
          ],
          "table": [
           {
            "cells": {
             "fill": {
              "color": "#EBF0F8"
             },
             "line": {
              "color": "white"
             }
            },
            "header": {
             "fill": {
              "color": "#C8D4E3"
             },
             "line": {
              "color": "white"
             }
            },
            "type": "table"
           }
          ]
         },
         "layout": {
          "annotationdefaults": {
           "arrowcolor": "#2a3f5f",
           "arrowhead": 0,
           "arrowwidth": 1
          },
          "autotypenumbers": "strict",
          "coloraxis": {
           "colorbar": {
            "outlinewidth": 0,
            "ticks": ""
           }
          },
          "colorscale": {
           "diverging": [
            [
             0,
             "#8e0152"
            ],
            [
             0.1,
             "#c51b7d"
            ],
            [
             0.2,
             "#de77ae"
            ],
            [
             0.3,
             "#f1b6da"
            ],
            [
             0.4,
             "#fde0ef"
            ],
            [
             0.5,
             "#f7f7f7"
            ],
            [
             0.6,
             "#e6f5d0"
            ],
            [
             0.7,
             "#b8e186"
            ],
            [
             0.8,
             "#7fbc41"
            ],
            [
             0.9,
             "#4d9221"
            ],
            [
             1,
             "#276419"
            ]
           ],
           "sequential": [
            [
             0,
             "#0d0887"
            ],
            [
             0.1111111111111111,
             "#46039f"
            ],
            [
             0.2222222222222222,
             "#7201a8"
            ],
            [
             0.3333333333333333,
             "#9c179e"
            ],
            [
             0.4444444444444444,
             "#bd3786"
            ],
            [
             0.5555555555555556,
             "#d8576b"
            ],
            [
             0.6666666666666666,
             "#ed7953"
            ],
            [
             0.7777777777777778,
             "#fb9f3a"
            ],
            [
             0.8888888888888888,
             "#fdca26"
            ],
            [
             1,
             "#f0f921"
            ]
           ],
           "sequentialminus": [
            [
             0,
             "#0d0887"
            ],
            [
             0.1111111111111111,
             "#46039f"
            ],
            [
             0.2222222222222222,
             "#7201a8"
            ],
            [
             0.3333333333333333,
             "#9c179e"
            ],
            [
             0.4444444444444444,
             "#bd3786"
            ],
            [
             0.5555555555555556,
             "#d8576b"
            ],
            [
             0.6666666666666666,
             "#ed7953"
            ],
            [
             0.7777777777777778,
             "#fb9f3a"
            ],
            [
             0.8888888888888888,
             "#fdca26"
            ],
            [
             1,
             "#f0f921"
            ]
           ]
          },
          "colorway": [
           "#636efa",
           "#EF553B",
           "#00cc96",
           "#ab63fa",
           "#FFA15A",
           "#19d3f3",
           "#FF6692",
           "#B6E880",
           "#FF97FF",
           "#FECB52"
          ],
          "font": {
           "color": "#2a3f5f"
          },
          "geo": {
           "bgcolor": "white",
           "lakecolor": "white",
           "landcolor": "#E5ECF6",
           "showlakes": true,
           "showland": true,
           "subunitcolor": "white"
          },
          "hoverlabel": {
           "align": "left"
          },
          "hovermode": "closest",
          "mapbox": {
           "style": "light"
          },
          "paper_bgcolor": "white",
          "plot_bgcolor": "#E5ECF6",
          "polar": {
           "angularaxis": {
            "gridcolor": "white",
            "linecolor": "white",
            "ticks": ""
           },
           "bgcolor": "#E5ECF6",
           "radialaxis": {
            "gridcolor": "white",
            "linecolor": "white",
            "ticks": ""
           }
          },
          "scene": {
           "xaxis": {
            "backgroundcolor": "#E5ECF6",
            "gridcolor": "white",
            "gridwidth": 2,
            "linecolor": "white",
            "showbackground": true,
            "ticks": "",
            "zerolinecolor": "white"
           },
           "yaxis": {
            "backgroundcolor": "#E5ECF6",
            "gridcolor": "white",
            "gridwidth": 2,
            "linecolor": "white",
            "showbackground": true,
            "ticks": "",
            "zerolinecolor": "white"
           },
           "zaxis": {
            "backgroundcolor": "#E5ECF6",
            "gridcolor": "white",
            "gridwidth": 2,
            "linecolor": "white",
            "showbackground": true,
            "ticks": "",
            "zerolinecolor": "white"
           }
          },
          "shapedefaults": {
           "line": {
            "color": "#2a3f5f"
           }
          },
          "ternary": {
           "aaxis": {
            "gridcolor": "white",
            "linecolor": "white",
            "ticks": ""
           },
           "baxis": {
            "gridcolor": "white",
            "linecolor": "white",
            "ticks": ""
           },
           "bgcolor": "#E5ECF6",
           "caxis": {
            "gridcolor": "white",
            "linecolor": "white",
            "ticks": ""
           }
          },
          "title": {
           "x": 0.05
          },
          "xaxis": {
           "automargin": true,
           "gridcolor": "white",
           "linecolor": "white",
           "ticks": "",
           "title": {
            "standoff": 15
           },
           "zerolinecolor": "white",
           "zerolinewidth": 2
          },
          "yaxis": {
           "automargin": true,
           "gridcolor": "white",
           "linecolor": "white",
           "ticks": "",
           "title": {
            "standoff": 15
           },
           "zerolinecolor": "white",
           "zerolinewidth": 2
          }
         }
        },
        "title": {
         "text": "Доля невозврата по children"
        },
        "xaxis": {
         "anchor": "y",
         "domain": [
          0,
          1
         ],
         "title": {
          "text": "children"
         }
        },
        "yaxis": {
         "anchor": "x",
         "domain": [
          0,
          1
         ],
         "title": {
          "text": "Доля невозврата"
         }
        }
       }
      }
     },
     "metadata": {},
     "output_type": "display_data"
    }
   ],
   "source": [
    "#импортируем библиотеку для построения сводных таблиц, построения столбчатых диграмм и напишем функцию которая позволяет подсчитать\n",
    "#количество клиентов, должников и долю невозврата с помощью функций count, sum, mean\n",
    "import plotly.express as px\n",
    "def pivot(data, index):\n",
    "    pivot = data.pivot_table(index = index, values = 'debt', aggfunc = ['count', 'sum', 'mean']).reset_index()\n",
    "    pivot.columns = [index, 'Кол-во клиентов', 'Кол-во должников', 'Доля невозврата']\n",
    "    display(pivot.sort_values('Доля невозврата', ascending = False))\n",
    "    fig = px.bar(pivot, x = index, y = 'Доля невозврата', color = 'Доля невозврата', title = 'Доля невозврата по ' + index)\n",
    "    fig.show()\n",
    "    \n",
    "#выведем полученную таблицу и диграмму по столбцу children\n",
    "pivot(data, 'children')"
   ]
  },
  {
   "cell_type": "markdown",
   "id": "ee546e2a",
   "metadata": {
    "deletable": false,
    "id": "3a6b99ec"
   },
   "source": [
    "**Вывод:** Заемщики без детей наиболее ответственные. По многодетным заемщикам недостаточно данных для корректных выводов"
   ]
  },
  {
   "cell_type": "markdown",
   "id": "0d010ab5",
   "metadata": {
    "deletable": false,
    "editable": false,
    "id": "97be82ca"
   },
   "source": [
    "#### 3.2 Есть ли зависимость между семейным положением и возвратом кредита в срок?"
   ]
  },
  {
   "cell_type": "code",
   "execution_count": 77,
   "id": "6228ea4a",
   "metadata": {
    "deletable": false,
    "id": "dc3f7ee8"
   },
   "outputs": [
    {
     "data": {
      "text/html": [
       "<div>\n",
       "<style scoped>\n",
       "    .dataframe tbody tr th:only-of-type {\n",
       "        vertical-align: middle;\n",
       "    }\n",
       "\n",
       "    .dataframe tbody tr th {\n",
       "        vertical-align: top;\n",
       "    }\n",
       "\n",
       "    .dataframe thead th {\n",
       "        text-align: right;\n",
       "    }\n",
       "</style>\n",
       "<table border=\"1\" class=\"dataframe\">\n",
       "  <thead>\n",
       "    <tr style=\"text-align: right;\">\n",
       "      <th></th>\n",
       "      <th>family_status</th>\n",
       "      <th>Кол-во клиентов</th>\n",
       "      <th>Кол-во должников</th>\n",
       "      <th>Доля невозврата</th>\n",
       "    </tr>\n",
       "  </thead>\n",
       "  <tbody>\n",
       "    <tr>\n",
       "      <th>0</th>\n",
       "      <td>Не женат / не замужем</td>\n",
       "      <td>2796</td>\n",
       "      <td>273</td>\n",
       "      <td>0.097639</td>\n",
       "    </tr>\n",
       "    <tr>\n",
       "      <th>3</th>\n",
       "      <td>гражданский брак</td>\n",
       "      <td>4134</td>\n",
       "      <td>385</td>\n",
       "      <td>0.093130</td>\n",
       "    </tr>\n",
       "    <tr>\n",
       "      <th>4</th>\n",
       "      <td>женат / замужем</td>\n",
       "      <td>12261</td>\n",
       "      <td>927</td>\n",
       "      <td>0.075606</td>\n",
       "    </tr>\n",
       "    <tr>\n",
       "      <th>1</th>\n",
       "      <td>в разводе</td>\n",
       "      <td>1189</td>\n",
       "      <td>84</td>\n",
       "      <td>0.070648</td>\n",
       "    </tr>\n",
       "    <tr>\n",
       "      <th>2</th>\n",
       "      <td>вдовец / вдова</td>\n",
       "      <td>951</td>\n",
       "      <td>63</td>\n",
       "      <td>0.066246</td>\n",
       "    </tr>\n",
       "  </tbody>\n",
       "</table>\n",
       "</div>"
      ],
      "text/plain": [
       "           family_status  Кол-во клиентов  Кол-во должников  Доля невозврата\n",
       "0  Не женат / не замужем             2796               273         0.097639\n",
       "3       гражданский брак             4134               385         0.093130\n",
       "4        женат / замужем            12261               927         0.075606\n",
       "1              в разводе             1189                84         0.070648\n",
       "2         вдовец / вдова              951                63         0.066246"
      ]
     },
     "metadata": {},
     "output_type": "display_data"
    },
    {
     "data": {
      "application/vnd.plotly.v1+json": {
       "config": {
        "plotlyServerURL": "https://plot.ly"
       },
       "data": [
        {
         "alignmentgroup": "True",
         "hovertemplate": "family_status=%{x}<br>Доля невозврата=%{marker.color}<extra></extra>",
         "legendgroup": "",
         "marker": {
          "color": [
           0.09763948497854077,
           0.07064760302775441,
           0.06624605678233439,
           0.09313014029995162,
           0.07560557866405676
          ],
          "coloraxis": "coloraxis",
          "pattern": {
           "shape": ""
          }
         },
         "name": "",
         "offsetgroup": "",
         "orientation": "v",
         "showlegend": false,
         "textposition": "auto",
         "type": "bar",
         "x": [
          "Не женат / не замужем",
          "в разводе",
          "вдовец / вдова",
          "гражданский брак",
          "женат / замужем"
         ],
         "xaxis": "x",
         "y": [
          0.09763948497854077,
          0.07064760302775441,
          0.06624605678233439,
          0.09313014029995162,
          0.07560557866405676
         ],
         "yaxis": "y"
        }
       ],
       "layout": {
        "barmode": "relative",
        "coloraxis": {
         "colorbar": {
          "title": {
           "text": "Доля невозврата"
          }
         },
         "colorscale": [
          [
           0,
           "#0d0887"
          ],
          [
           0.1111111111111111,
           "#46039f"
          ],
          [
           0.2222222222222222,
           "#7201a8"
          ],
          [
           0.3333333333333333,
           "#9c179e"
          ],
          [
           0.4444444444444444,
           "#bd3786"
          ],
          [
           0.5555555555555556,
           "#d8576b"
          ],
          [
           0.6666666666666666,
           "#ed7953"
          ],
          [
           0.7777777777777778,
           "#fb9f3a"
          ],
          [
           0.8888888888888888,
           "#fdca26"
          ],
          [
           1,
           "#f0f921"
          ]
         ]
        },
        "legend": {
         "tracegroupgap": 0
        },
        "template": {
         "data": {
          "bar": [
           {
            "error_x": {
             "color": "#2a3f5f"
            },
            "error_y": {
             "color": "#2a3f5f"
            },
            "marker": {
             "line": {
              "color": "#E5ECF6",
              "width": 0.5
             },
             "pattern": {
              "fillmode": "overlay",
              "size": 10,
              "solidity": 0.2
             }
            },
            "type": "bar"
           }
          ],
          "barpolar": [
           {
            "marker": {
             "line": {
              "color": "#E5ECF6",
              "width": 0.5
             },
             "pattern": {
              "fillmode": "overlay",
              "size": 10,
              "solidity": 0.2
             }
            },
            "type": "barpolar"
           }
          ],
          "carpet": [
           {
            "aaxis": {
             "endlinecolor": "#2a3f5f",
             "gridcolor": "white",
             "linecolor": "white",
             "minorgridcolor": "white",
             "startlinecolor": "#2a3f5f"
            },
            "baxis": {
             "endlinecolor": "#2a3f5f",
             "gridcolor": "white",
             "linecolor": "white",
             "minorgridcolor": "white",
             "startlinecolor": "#2a3f5f"
            },
            "type": "carpet"
           }
          ],
          "choropleth": [
           {
            "colorbar": {
             "outlinewidth": 0,
             "ticks": ""
            },
            "type": "choropleth"
           }
          ],
          "contour": [
           {
            "colorbar": {
             "outlinewidth": 0,
             "ticks": ""
            },
            "colorscale": [
             [
              0,
              "#0d0887"
             ],
             [
              0.1111111111111111,
              "#46039f"
             ],
             [
              0.2222222222222222,
              "#7201a8"
             ],
             [
              0.3333333333333333,
              "#9c179e"
             ],
             [
              0.4444444444444444,
              "#bd3786"
             ],
             [
              0.5555555555555556,
              "#d8576b"
             ],
             [
              0.6666666666666666,
              "#ed7953"
             ],
             [
              0.7777777777777778,
              "#fb9f3a"
             ],
             [
              0.8888888888888888,
              "#fdca26"
             ],
             [
              1,
              "#f0f921"
             ]
            ],
            "type": "contour"
           }
          ],
          "contourcarpet": [
           {
            "colorbar": {
             "outlinewidth": 0,
             "ticks": ""
            },
            "type": "contourcarpet"
           }
          ],
          "heatmap": [
           {
            "colorbar": {
             "outlinewidth": 0,
             "ticks": ""
            },
            "colorscale": [
             [
              0,
              "#0d0887"
             ],
             [
              0.1111111111111111,
              "#46039f"
             ],
             [
              0.2222222222222222,
              "#7201a8"
             ],
             [
              0.3333333333333333,
              "#9c179e"
             ],
             [
              0.4444444444444444,
              "#bd3786"
             ],
             [
              0.5555555555555556,
              "#d8576b"
             ],
             [
              0.6666666666666666,
              "#ed7953"
             ],
             [
              0.7777777777777778,
              "#fb9f3a"
             ],
             [
              0.8888888888888888,
              "#fdca26"
             ],
             [
              1,
              "#f0f921"
             ]
            ],
            "type": "heatmap"
           }
          ],
          "heatmapgl": [
           {
            "colorbar": {
             "outlinewidth": 0,
             "ticks": ""
            },
            "colorscale": [
             [
              0,
              "#0d0887"
             ],
             [
              0.1111111111111111,
              "#46039f"
             ],
             [
              0.2222222222222222,
              "#7201a8"
             ],
             [
              0.3333333333333333,
              "#9c179e"
             ],
             [
              0.4444444444444444,
              "#bd3786"
             ],
             [
              0.5555555555555556,
              "#d8576b"
             ],
             [
              0.6666666666666666,
              "#ed7953"
             ],
             [
              0.7777777777777778,
              "#fb9f3a"
             ],
             [
              0.8888888888888888,
              "#fdca26"
             ],
             [
              1,
              "#f0f921"
             ]
            ],
            "type": "heatmapgl"
           }
          ],
          "histogram": [
           {
            "marker": {
             "pattern": {
              "fillmode": "overlay",
              "size": 10,
              "solidity": 0.2
             }
            },
            "type": "histogram"
           }
          ],
          "histogram2d": [
           {
            "colorbar": {
             "outlinewidth": 0,
             "ticks": ""
            },
            "colorscale": [
             [
              0,
              "#0d0887"
             ],
             [
              0.1111111111111111,
              "#46039f"
             ],
             [
              0.2222222222222222,
              "#7201a8"
             ],
             [
              0.3333333333333333,
              "#9c179e"
             ],
             [
              0.4444444444444444,
              "#bd3786"
             ],
             [
              0.5555555555555556,
              "#d8576b"
             ],
             [
              0.6666666666666666,
              "#ed7953"
             ],
             [
              0.7777777777777778,
              "#fb9f3a"
             ],
             [
              0.8888888888888888,
              "#fdca26"
             ],
             [
              1,
              "#f0f921"
             ]
            ],
            "type": "histogram2d"
           }
          ],
          "histogram2dcontour": [
           {
            "colorbar": {
             "outlinewidth": 0,
             "ticks": ""
            },
            "colorscale": [
             [
              0,
              "#0d0887"
             ],
             [
              0.1111111111111111,
              "#46039f"
             ],
             [
              0.2222222222222222,
              "#7201a8"
             ],
             [
              0.3333333333333333,
              "#9c179e"
             ],
             [
              0.4444444444444444,
              "#bd3786"
             ],
             [
              0.5555555555555556,
              "#d8576b"
             ],
             [
              0.6666666666666666,
              "#ed7953"
             ],
             [
              0.7777777777777778,
              "#fb9f3a"
             ],
             [
              0.8888888888888888,
              "#fdca26"
             ],
             [
              1,
              "#f0f921"
             ]
            ],
            "type": "histogram2dcontour"
           }
          ],
          "mesh3d": [
           {
            "colorbar": {
             "outlinewidth": 0,
             "ticks": ""
            },
            "type": "mesh3d"
           }
          ],
          "parcoords": [
           {
            "line": {
             "colorbar": {
              "outlinewidth": 0,
              "ticks": ""
             }
            },
            "type": "parcoords"
           }
          ],
          "pie": [
           {
            "automargin": true,
            "type": "pie"
           }
          ],
          "scatter": [
           {
            "marker": {
             "colorbar": {
              "outlinewidth": 0,
              "ticks": ""
             }
            },
            "type": "scatter"
           }
          ],
          "scatter3d": [
           {
            "line": {
             "colorbar": {
              "outlinewidth": 0,
              "ticks": ""
             }
            },
            "marker": {
             "colorbar": {
              "outlinewidth": 0,
              "ticks": ""
             }
            },
            "type": "scatter3d"
           }
          ],
          "scattercarpet": [
           {
            "marker": {
             "colorbar": {
              "outlinewidth": 0,
              "ticks": ""
             }
            },
            "type": "scattercarpet"
           }
          ],
          "scattergeo": [
           {
            "marker": {
             "colorbar": {
              "outlinewidth": 0,
              "ticks": ""
             }
            },
            "type": "scattergeo"
           }
          ],
          "scattergl": [
           {
            "marker": {
             "colorbar": {
              "outlinewidth": 0,
              "ticks": ""
             }
            },
            "type": "scattergl"
           }
          ],
          "scattermapbox": [
           {
            "marker": {
             "colorbar": {
              "outlinewidth": 0,
              "ticks": ""
             }
            },
            "type": "scattermapbox"
           }
          ],
          "scatterpolar": [
           {
            "marker": {
             "colorbar": {
              "outlinewidth": 0,
              "ticks": ""
             }
            },
            "type": "scatterpolar"
           }
          ],
          "scatterpolargl": [
           {
            "marker": {
             "colorbar": {
              "outlinewidth": 0,
              "ticks": ""
             }
            },
            "type": "scatterpolargl"
           }
          ],
          "scatterternary": [
           {
            "marker": {
             "colorbar": {
              "outlinewidth": 0,
              "ticks": ""
             }
            },
            "type": "scatterternary"
           }
          ],
          "surface": [
           {
            "colorbar": {
             "outlinewidth": 0,
             "ticks": ""
            },
            "colorscale": [
             [
              0,
              "#0d0887"
             ],
             [
              0.1111111111111111,
              "#46039f"
             ],
             [
              0.2222222222222222,
              "#7201a8"
             ],
             [
              0.3333333333333333,
              "#9c179e"
             ],
             [
              0.4444444444444444,
              "#bd3786"
             ],
             [
              0.5555555555555556,
              "#d8576b"
             ],
             [
              0.6666666666666666,
              "#ed7953"
             ],
             [
              0.7777777777777778,
              "#fb9f3a"
             ],
             [
              0.8888888888888888,
              "#fdca26"
             ],
             [
              1,
              "#f0f921"
             ]
            ],
            "type": "surface"
           }
          ],
          "table": [
           {
            "cells": {
             "fill": {
              "color": "#EBF0F8"
             },
             "line": {
              "color": "white"
             }
            },
            "header": {
             "fill": {
              "color": "#C8D4E3"
             },
             "line": {
              "color": "white"
             }
            },
            "type": "table"
           }
          ]
         },
         "layout": {
          "annotationdefaults": {
           "arrowcolor": "#2a3f5f",
           "arrowhead": 0,
           "arrowwidth": 1
          },
          "autotypenumbers": "strict",
          "coloraxis": {
           "colorbar": {
            "outlinewidth": 0,
            "ticks": ""
           }
          },
          "colorscale": {
           "diverging": [
            [
             0,
             "#8e0152"
            ],
            [
             0.1,
             "#c51b7d"
            ],
            [
             0.2,
             "#de77ae"
            ],
            [
             0.3,
             "#f1b6da"
            ],
            [
             0.4,
             "#fde0ef"
            ],
            [
             0.5,
             "#f7f7f7"
            ],
            [
             0.6,
             "#e6f5d0"
            ],
            [
             0.7,
             "#b8e186"
            ],
            [
             0.8,
             "#7fbc41"
            ],
            [
             0.9,
             "#4d9221"
            ],
            [
             1,
             "#276419"
            ]
           ],
           "sequential": [
            [
             0,
             "#0d0887"
            ],
            [
             0.1111111111111111,
             "#46039f"
            ],
            [
             0.2222222222222222,
             "#7201a8"
            ],
            [
             0.3333333333333333,
             "#9c179e"
            ],
            [
             0.4444444444444444,
             "#bd3786"
            ],
            [
             0.5555555555555556,
             "#d8576b"
            ],
            [
             0.6666666666666666,
             "#ed7953"
            ],
            [
             0.7777777777777778,
             "#fb9f3a"
            ],
            [
             0.8888888888888888,
             "#fdca26"
            ],
            [
             1,
             "#f0f921"
            ]
           ],
           "sequentialminus": [
            [
             0,
             "#0d0887"
            ],
            [
             0.1111111111111111,
             "#46039f"
            ],
            [
             0.2222222222222222,
             "#7201a8"
            ],
            [
             0.3333333333333333,
             "#9c179e"
            ],
            [
             0.4444444444444444,
             "#bd3786"
            ],
            [
             0.5555555555555556,
             "#d8576b"
            ],
            [
             0.6666666666666666,
             "#ed7953"
            ],
            [
             0.7777777777777778,
             "#fb9f3a"
            ],
            [
             0.8888888888888888,
             "#fdca26"
            ],
            [
             1,
             "#f0f921"
            ]
           ]
          },
          "colorway": [
           "#636efa",
           "#EF553B",
           "#00cc96",
           "#ab63fa",
           "#FFA15A",
           "#19d3f3",
           "#FF6692",
           "#B6E880",
           "#FF97FF",
           "#FECB52"
          ],
          "font": {
           "color": "#2a3f5f"
          },
          "geo": {
           "bgcolor": "white",
           "lakecolor": "white",
           "landcolor": "#E5ECF6",
           "showlakes": true,
           "showland": true,
           "subunitcolor": "white"
          },
          "hoverlabel": {
           "align": "left"
          },
          "hovermode": "closest",
          "mapbox": {
           "style": "light"
          },
          "paper_bgcolor": "white",
          "plot_bgcolor": "#E5ECF6",
          "polar": {
           "angularaxis": {
            "gridcolor": "white",
            "linecolor": "white",
            "ticks": ""
           },
           "bgcolor": "#E5ECF6",
           "radialaxis": {
            "gridcolor": "white",
            "linecolor": "white",
            "ticks": ""
           }
          },
          "scene": {
           "xaxis": {
            "backgroundcolor": "#E5ECF6",
            "gridcolor": "white",
            "gridwidth": 2,
            "linecolor": "white",
            "showbackground": true,
            "ticks": "",
            "zerolinecolor": "white"
           },
           "yaxis": {
            "backgroundcolor": "#E5ECF6",
            "gridcolor": "white",
            "gridwidth": 2,
            "linecolor": "white",
            "showbackground": true,
            "ticks": "",
            "zerolinecolor": "white"
           },
           "zaxis": {
            "backgroundcolor": "#E5ECF6",
            "gridcolor": "white",
            "gridwidth": 2,
            "linecolor": "white",
            "showbackground": true,
            "ticks": "",
            "zerolinecolor": "white"
           }
          },
          "shapedefaults": {
           "line": {
            "color": "#2a3f5f"
           }
          },
          "ternary": {
           "aaxis": {
            "gridcolor": "white",
            "linecolor": "white",
            "ticks": ""
           },
           "baxis": {
            "gridcolor": "white",
            "linecolor": "white",
            "ticks": ""
           },
           "bgcolor": "#E5ECF6",
           "caxis": {
            "gridcolor": "white",
            "linecolor": "white",
            "ticks": ""
           }
          },
          "title": {
           "x": 0.05
          },
          "xaxis": {
           "automargin": true,
           "gridcolor": "white",
           "linecolor": "white",
           "ticks": "",
           "title": {
            "standoff": 15
           },
           "zerolinecolor": "white",
           "zerolinewidth": 2
          },
          "yaxis": {
           "automargin": true,
           "gridcolor": "white",
           "linecolor": "white",
           "ticks": "",
           "title": {
            "standoff": 15
           },
           "zerolinecolor": "white",
           "zerolinewidth": 2
          }
         }
        },
        "title": {
         "text": "Доля невозврата по family_status"
        },
        "xaxis": {
         "anchor": "y",
         "domain": [
          0,
          1
         ],
         "title": {
          "text": "family_status"
         }
        },
        "yaxis": {
         "anchor": "x",
         "domain": [
          0,
          1
         ],
         "title": {
          "text": "Доля невозврата"
         }
        }
       }
      }
     },
     "metadata": {},
     "output_type": "display_data"
    }
   ],
   "source": [
    "#для проверки зависимости между семейным положением и возвратом кредита в срок воспользуемся той же функцие pivot, но уже для family_status\n",
    "pivot(data, 'family_status')"
   ]
  },
  {
   "cell_type": "markdown",
   "id": "49c33ec6",
   "metadata": {
    "deletable": false,
    "id": "1cef7837"
   },
   "source": [
    "**Вывод:** Люди, не состоящие и не состоявшие в официальном браке, наиболее рискованные заемщики "
   ]
  },
  {
   "cell_type": "markdown",
   "id": "39f85918",
   "metadata": {
    "deletable": false,
    "editable": false,
    "id": "1e8b2fca"
   },
   "source": [
    "#### 3.3 Есть ли зависимость между уровнем дохода и возвратом кредита в срок?"
   ]
  },
  {
   "cell_type": "code",
   "execution_count": 78,
   "id": "160fd330",
   "metadata": {
    "deletable": false,
    "id": "cd7e3720"
   },
   "outputs": [
    {
     "data": {
      "text/html": [
       "<div>\n",
       "<style scoped>\n",
       "    .dataframe tbody tr th:only-of-type {\n",
       "        vertical-align: middle;\n",
       "    }\n",
       "\n",
       "    .dataframe tbody tr th {\n",
       "        vertical-align: top;\n",
       "    }\n",
       "\n",
       "    .dataframe thead th {\n",
       "        text-align: right;\n",
       "    }\n",
       "</style>\n",
       "<table border=\"1\" class=\"dataframe\">\n",
       "  <thead>\n",
       "    <tr style=\"text-align: right;\">\n",
       "      <th></th>\n",
       "      <th>total_income_category</th>\n",
       "      <th>Кол-во клиентов</th>\n",
       "      <th>Кол-во должников</th>\n",
       "      <th>Доля невозврата</th>\n",
       "    </tr>\n",
       "  </thead>\n",
       "  <tbody>\n",
       "    <tr>\n",
       "      <th>4</th>\n",
       "      <td>E</td>\n",
       "      <td>22</td>\n",
       "      <td>2</td>\n",
       "      <td>0.090909</td>\n",
       "    </tr>\n",
       "    <tr>\n",
       "      <th>2</th>\n",
       "      <td>C</td>\n",
       "      <td>15921</td>\n",
       "      <td>1353</td>\n",
       "      <td>0.084982</td>\n",
       "    </tr>\n",
       "    <tr>\n",
       "      <th>0</th>\n",
       "      <td>A</td>\n",
       "      <td>25</td>\n",
       "      <td>2</td>\n",
       "      <td>0.080000</td>\n",
       "    </tr>\n",
       "    <tr>\n",
       "      <th>1</th>\n",
       "      <td>B</td>\n",
       "      <td>5014</td>\n",
       "      <td>354</td>\n",
       "      <td>0.070602</td>\n",
       "    </tr>\n",
       "    <tr>\n",
       "      <th>3</th>\n",
       "      <td>D</td>\n",
       "      <td>349</td>\n",
       "      <td>21</td>\n",
       "      <td>0.060172</td>\n",
       "    </tr>\n",
       "  </tbody>\n",
       "</table>\n",
       "</div>"
      ],
      "text/plain": [
       "  total_income_category  Кол-во клиентов  Кол-во должников  Доля невозврата\n",
       "4                     E               22                 2         0.090909\n",
       "2                     C            15921              1353         0.084982\n",
       "0                     A               25                 2         0.080000\n",
       "1                     B             5014               354         0.070602\n",
       "3                     D              349                21         0.060172"
      ]
     },
     "metadata": {},
     "output_type": "display_data"
    },
    {
     "data": {
      "application/vnd.plotly.v1+json": {
       "config": {
        "plotlyServerURL": "https://plot.ly"
       },
       "data": [
        {
         "alignmentgroup": "True",
         "hovertemplate": "total_income_category=%{x}<br>Доля невозврата=%{marker.color}<extra></extra>",
         "legendgroup": "",
         "marker": {
          "color": [
           0.08,
           0.07060231352213801,
           0.08498209911437724,
           0.06017191977077364,
           0.09090909090909091
          ],
          "coloraxis": "coloraxis",
          "pattern": {
           "shape": ""
          }
         },
         "name": "",
         "offsetgroup": "",
         "orientation": "v",
         "showlegend": false,
         "textposition": "auto",
         "type": "bar",
         "x": [
          "A",
          "B",
          "C",
          "D",
          "E"
         ],
         "xaxis": "x",
         "y": [
          0.08,
          0.07060231352213801,
          0.08498209911437724,
          0.06017191977077364,
          0.09090909090909091
         ],
         "yaxis": "y"
        }
       ],
       "layout": {
        "barmode": "relative",
        "coloraxis": {
         "colorbar": {
          "title": {
           "text": "Доля невозврата"
          }
         },
         "colorscale": [
          [
           0,
           "#0d0887"
          ],
          [
           0.1111111111111111,
           "#46039f"
          ],
          [
           0.2222222222222222,
           "#7201a8"
          ],
          [
           0.3333333333333333,
           "#9c179e"
          ],
          [
           0.4444444444444444,
           "#bd3786"
          ],
          [
           0.5555555555555556,
           "#d8576b"
          ],
          [
           0.6666666666666666,
           "#ed7953"
          ],
          [
           0.7777777777777778,
           "#fb9f3a"
          ],
          [
           0.8888888888888888,
           "#fdca26"
          ],
          [
           1,
           "#f0f921"
          ]
         ]
        },
        "legend": {
         "tracegroupgap": 0
        },
        "template": {
         "data": {
          "bar": [
           {
            "error_x": {
             "color": "#2a3f5f"
            },
            "error_y": {
             "color": "#2a3f5f"
            },
            "marker": {
             "line": {
              "color": "#E5ECF6",
              "width": 0.5
             },
             "pattern": {
              "fillmode": "overlay",
              "size": 10,
              "solidity": 0.2
             }
            },
            "type": "bar"
           }
          ],
          "barpolar": [
           {
            "marker": {
             "line": {
              "color": "#E5ECF6",
              "width": 0.5
             },
             "pattern": {
              "fillmode": "overlay",
              "size": 10,
              "solidity": 0.2
             }
            },
            "type": "barpolar"
           }
          ],
          "carpet": [
           {
            "aaxis": {
             "endlinecolor": "#2a3f5f",
             "gridcolor": "white",
             "linecolor": "white",
             "minorgridcolor": "white",
             "startlinecolor": "#2a3f5f"
            },
            "baxis": {
             "endlinecolor": "#2a3f5f",
             "gridcolor": "white",
             "linecolor": "white",
             "minorgridcolor": "white",
             "startlinecolor": "#2a3f5f"
            },
            "type": "carpet"
           }
          ],
          "choropleth": [
           {
            "colorbar": {
             "outlinewidth": 0,
             "ticks": ""
            },
            "type": "choropleth"
           }
          ],
          "contour": [
           {
            "colorbar": {
             "outlinewidth": 0,
             "ticks": ""
            },
            "colorscale": [
             [
              0,
              "#0d0887"
             ],
             [
              0.1111111111111111,
              "#46039f"
             ],
             [
              0.2222222222222222,
              "#7201a8"
             ],
             [
              0.3333333333333333,
              "#9c179e"
             ],
             [
              0.4444444444444444,
              "#bd3786"
             ],
             [
              0.5555555555555556,
              "#d8576b"
             ],
             [
              0.6666666666666666,
              "#ed7953"
             ],
             [
              0.7777777777777778,
              "#fb9f3a"
             ],
             [
              0.8888888888888888,
              "#fdca26"
             ],
             [
              1,
              "#f0f921"
             ]
            ],
            "type": "contour"
           }
          ],
          "contourcarpet": [
           {
            "colorbar": {
             "outlinewidth": 0,
             "ticks": ""
            },
            "type": "contourcarpet"
           }
          ],
          "heatmap": [
           {
            "colorbar": {
             "outlinewidth": 0,
             "ticks": ""
            },
            "colorscale": [
             [
              0,
              "#0d0887"
             ],
             [
              0.1111111111111111,
              "#46039f"
             ],
             [
              0.2222222222222222,
              "#7201a8"
             ],
             [
              0.3333333333333333,
              "#9c179e"
             ],
             [
              0.4444444444444444,
              "#bd3786"
             ],
             [
              0.5555555555555556,
              "#d8576b"
             ],
             [
              0.6666666666666666,
              "#ed7953"
             ],
             [
              0.7777777777777778,
              "#fb9f3a"
             ],
             [
              0.8888888888888888,
              "#fdca26"
             ],
             [
              1,
              "#f0f921"
             ]
            ],
            "type": "heatmap"
           }
          ],
          "heatmapgl": [
           {
            "colorbar": {
             "outlinewidth": 0,
             "ticks": ""
            },
            "colorscale": [
             [
              0,
              "#0d0887"
             ],
             [
              0.1111111111111111,
              "#46039f"
             ],
             [
              0.2222222222222222,
              "#7201a8"
             ],
             [
              0.3333333333333333,
              "#9c179e"
             ],
             [
              0.4444444444444444,
              "#bd3786"
             ],
             [
              0.5555555555555556,
              "#d8576b"
             ],
             [
              0.6666666666666666,
              "#ed7953"
             ],
             [
              0.7777777777777778,
              "#fb9f3a"
             ],
             [
              0.8888888888888888,
              "#fdca26"
             ],
             [
              1,
              "#f0f921"
             ]
            ],
            "type": "heatmapgl"
           }
          ],
          "histogram": [
           {
            "marker": {
             "pattern": {
              "fillmode": "overlay",
              "size": 10,
              "solidity": 0.2
             }
            },
            "type": "histogram"
           }
          ],
          "histogram2d": [
           {
            "colorbar": {
             "outlinewidth": 0,
             "ticks": ""
            },
            "colorscale": [
             [
              0,
              "#0d0887"
             ],
             [
              0.1111111111111111,
              "#46039f"
             ],
             [
              0.2222222222222222,
              "#7201a8"
             ],
             [
              0.3333333333333333,
              "#9c179e"
             ],
             [
              0.4444444444444444,
              "#bd3786"
             ],
             [
              0.5555555555555556,
              "#d8576b"
             ],
             [
              0.6666666666666666,
              "#ed7953"
             ],
             [
              0.7777777777777778,
              "#fb9f3a"
             ],
             [
              0.8888888888888888,
              "#fdca26"
             ],
             [
              1,
              "#f0f921"
             ]
            ],
            "type": "histogram2d"
           }
          ],
          "histogram2dcontour": [
           {
            "colorbar": {
             "outlinewidth": 0,
             "ticks": ""
            },
            "colorscale": [
             [
              0,
              "#0d0887"
             ],
             [
              0.1111111111111111,
              "#46039f"
             ],
             [
              0.2222222222222222,
              "#7201a8"
             ],
             [
              0.3333333333333333,
              "#9c179e"
             ],
             [
              0.4444444444444444,
              "#bd3786"
             ],
             [
              0.5555555555555556,
              "#d8576b"
             ],
             [
              0.6666666666666666,
              "#ed7953"
             ],
             [
              0.7777777777777778,
              "#fb9f3a"
             ],
             [
              0.8888888888888888,
              "#fdca26"
             ],
             [
              1,
              "#f0f921"
             ]
            ],
            "type": "histogram2dcontour"
           }
          ],
          "mesh3d": [
           {
            "colorbar": {
             "outlinewidth": 0,
             "ticks": ""
            },
            "type": "mesh3d"
           }
          ],
          "parcoords": [
           {
            "line": {
             "colorbar": {
              "outlinewidth": 0,
              "ticks": ""
             }
            },
            "type": "parcoords"
           }
          ],
          "pie": [
           {
            "automargin": true,
            "type": "pie"
           }
          ],
          "scatter": [
           {
            "marker": {
             "colorbar": {
              "outlinewidth": 0,
              "ticks": ""
             }
            },
            "type": "scatter"
           }
          ],
          "scatter3d": [
           {
            "line": {
             "colorbar": {
              "outlinewidth": 0,
              "ticks": ""
             }
            },
            "marker": {
             "colorbar": {
              "outlinewidth": 0,
              "ticks": ""
             }
            },
            "type": "scatter3d"
           }
          ],
          "scattercarpet": [
           {
            "marker": {
             "colorbar": {
              "outlinewidth": 0,
              "ticks": ""
             }
            },
            "type": "scattercarpet"
           }
          ],
          "scattergeo": [
           {
            "marker": {
             "colorbar": {
              "outlinewidth": 0,
              "ticks": ""
             }
            },
            "type": "scattergeo"
           }
          ],
          "scattergl": [
           {
            "marker": {
             "colorbar": {
              "outlinewidth": 0,
              "ticks": ""
             }
            },
            "type": "scattergl"
           }
          ],
          "scattermapbox": [
           {
            "marker": {
             "colorbar": {
              "outlinewidth": 0,
              "ticks": ""
             }
            },
            "type": "scattermapbox"
           }
          ],
          "scatterpolar": [
           {
            "marker": {
             "colorbar": {
              "outlinewidth": 0,
              "ticks": ""
             }
            },
            "type": "scatterpolar"
           }
          ],
          "scatterpolargl": [
           {
            "marker": {
             "colorbar": {
              "outlinewidth": 0,
              "ticks": ""
             }
            },
            "type": "scatterpolargl"
           }
          ],
          "scatterternary": [
           {
            "marker": {
             "colorbar": {
              "outlinewidth": 0,
              "ticks": ""
             }
            },
            "type": "scatterternary"
           }
          ],
          "surface": [
           {
            "colorbar": {
             "outlinewidth": 0,
             "ticks": ""
            },
            "colorscale": [
             [
              0,
              "#0d0887"
             ],
             [
              0.1111111111111111,
              "#46039f"
             ],
             [
              0.2222222222222222,
              "#7201a8"
             ],
             [
              0.3333333333333333,
              "#9c179e"
             ],
             [
              0.4444444444444444,
              "#bd3786"
             ],
             [
              0.5555555555555556,
              "#d8576b"
             ],
             [
              0.6666666666666666,
              "#ed7953"
             ],
             [
              0.7777777777777778,
              "#fb9f3a"
             ],
             [
              0.8888888888888888,
              "#fdca26"
             ],
             [
              1,
              "#f0f921"
             ]
            ],
            "type": "surface"
           }
          ],
          "table": [
           {
            "cells": {
             "fill": {
              "color": "#EBF0F8"
             },
             "line": {
              "color": "white"
             }
            },
            "header": {
             "fill": {
              "color": "#C8D4E3"
             },
             "line": {
              "color": "white"
             }
            },
            "type": "table"
           }
          ]
         },
         "layout": {
          "annotationdefaults": {
           "arrowcolor": "#2a3f5f",
           "arrowhead": 0,
           "arrowwidth": 1
          },
          "autotypenumbers": "strict",
          "coloraxis": {
           "colorbar": {
            "outlinewidth": 0,
            "ticks": ""
           }
          },
          "colorscale": {
           "diverging": [
            [
             0,
             "#8e0152"
            ],
            [
             0.1,
             "#c51b7d"
            ],
            [
             0.2,
             "#de77ae"
            ],
            [
             0.3,
             "#f1b6da"
            ],
            [
             0.4,
             "#fde0ef"
            ],
            [
             0.5,
             "#f7f7f7"
            ],
            [
             0.6,
             "#e6f5d0"
            ],
            [
             0.7,
             "#b8e186"
            ],
            [
             0.8,
             "#7fbc41"
            ],
            [
             0.9,
             "#4d9221"
            ],
            [
             1,
             "#276419"
            ]
           ],
           "sequential": [
            [
             0,
             "#0d0887"
            ],
            [
             0.1111111111111111,
             "#46039f"
            ],
            [
             0.2222222222222222,
             "#7201a8"
            ],
            [
             0.3333333333333333,
             "#9c179e"
            ],
            [
             0.4444444444444444,
             "#bd3786"
            ],
            [
             0.5555555555555556,
             "#d8576b"
            ],
            [
             0.6666666666666666,
             "#ed7953"
            ],
            [
             0.7777777777777778,
             "#fb9f3a"
            ],
            [
             0.8888888888888888,
             "#fdca26"
            ],
            [
             1,
             "#f0f921"
            ]
           ],
           "sequentialminus": [
            [
             0,
             "#0d0887"
            ],
            [
             0.1111111111111111,
             "#46039f"
            ],
            [
             0.2222222222222222,
             "#7201a8"
            ],
            [
             0.3333333333333333,
             "#9c179e"
            ],
            [
             0.4444444444444444,
             "#bd3786"
            ],
            [
             0.5555555555555556,
             "#d8576b"
            ],
            [
             0.6666666666666666,
             "#ed7953"
            ],
            [
             0.7777777777777778,
             "#fb9f3a"
            ],
            [
             0.8888888888888888,
             "#fdca26"
            ],
            [
             1,
             "#f0f921"
            ]
           ]
          },
          "colorway": [
           "#636efa",
           "#EF553B",
           "#00cc96",
           "#ab63fa",
           "#FFA15A",
           "#19d3f3",
           "#FF6692",
           "#B6E880",
           "#FF97FF",
           "#FECB52"
          ],
          "font": {
           "color": "#2a3f5f"
          },
          "geo": {
           "bgcolor": "white",
           "lakecolor": "white",
           "landcolor": "#E5ECF6",
           "showlakes": true,
           "showland": true,
           "subunitcolor": "white"
          },
          "hoverlabel": {
           "align": "left"
          },
          "hovermode": "closest",
          "mapbox": {
           "style": "light"
          },
          "paper_bgcolor": "white",
          "plot_bgcolor": "#E5ECF6",
          "polar": {
           "angularaxis": {
            "gridcolor": "white",
            "linecolor": "white",
            "ticks": ""
           },
           "bgcolor": "#E5ECF6",
           "radialaxis": {
            "gridcolor": "white",
            "linecolor": "white",
            "ticks": ""
           }
          },
          "scene": {
           "xaxis": {
            "backgroundcolor": "#E5ECF6",
            "gridcolor": "white",
            "gridwidth": 2,
            "linecolor": "white",
            "showbackground": true,
            "ticks": "",
            "zerolinecolor": "white"
           },
           "yaxis": {
            "backgroundcolor": "#E5ECF6",
            "gridcolor": "white",
            "gridwidth": 2,
            "linecolor": "white",
            "showbackground": true,
            "ticks": "",
            "zerolinecolor": "white"
           },
           "zaxis": {
            "backgroundcolor": "#E5ECF6",
            "gridcolor": "white",
            "gridwidth": 2,
            "linecolor": "white",
            "showbackground": true,
            "ticks": "",
            "zerolinecolor": "white"
           }
          },
          "shapedefaults": {
           "line": {
            "color": "#2a3f5f"
           }
          },
          "ternary": {
           "aaxis": {
            "gridcolor": "white",
            "linecolor": "white",
            "ticks": ""
           },
           "baxis": {
            "gridcolor": "white",
            "linecolor": "white",
            "ticks": ""
           },
           "bgcolor": "#E5ECF6",
           "caxis": {
            "gridcolor": "white",
            "linecolor": "white",
            "ticks": ""
           }
          },
          "title": {
           "x": 0.05
          },
          "xaxis": {
           "automargin": true,
           "gridcolor": "white",
           "linecolor": "white",
           "ticks": "",
           "title": {
            "standoff": 15
           },
           "zerolinecolor": "white",
           "zerolinewidth": 2
          },
          "yaxis": {
           "automargin": true,
           "gridcolor": "white",
           "linecolor": "white",
           "ticks": "",
           "title": {
            "standoff": 15
           },
           "zerolinecolor": "white",
           "zerolinewidth": 2
          }
         }
        },
        "title": {
         "text": "Доля невозврата по total_income_category"
        },
        "xaxis": {
         "anchor": "y",
         "domain": [
          0,
          1
         ],
         "title": {
          "text": "total_income_category"
         }
        },
        "yaxis": {
         "anchor": "x",
         "domain": [
          0,
          1
         ],
         "title": {
          "text": "Доля невозврата"
         }
        }
       }
      }
     },
     "metadata": {},
     "output_type": "display_data"
    }
   ],
   "source": [
    "#для проверки зависисомти между семейным положением и возвратом кредита в срок воспользуемся той же функцие pivot,\n",
    "#но уже для total_income_category\n",
    "pivot(data, 'total_income_category')"
   ]
  },
  {
   "cell_type": "markdown",
   "id": "ba967dd5",
   "metadata": {
    "deletable": false,
    "id": "e8593def"
   },
   "source": [
    "**Вывод:** Есть зависимость между категориями заемщиков B и C: заемщики категории B зарабатывают больше и соответсвенно реже нарушают обязательства по выплате кредита в срок. Между остальными категориями сделать вывод невозможно из-за небдосточного количества данных."
   ]
  },
  {
   "cell_type": "markdown",
   "id": "83d2071c",
   "metadata": {
    "deletable": false,
    "editable": false,
    "id": "99ecbd1f"
   },
   "source": [
    "#### 3.4 Как разные цели кредита влияют на его возврат в срок?"
   ]
  },
  {
   "cell_type": "code",
   "execution_count": 79,
   "id": "92a226c4",
   "metadata": {
    "deletable": false,
    "id": "2b687290"
   },
   "outputs": [
    {
     "data": {
      "text/html": [
       "<div>\n",
       "<style scoped>\n",
       "    .dataframe tbody tr th:only-of-type {\n",
       "        vertical-align: middle;\n",
       "    }\n",
       "\n",
       "    .dataframe tbody tr th {\n",
       "        vertical-align: top;\n",
       "    }\n",
       "\n",
       "    .dataframe thead th {\n",
       "        text-align: right;\n",
       "    }\n",
       "</style>\n",
       "<table border=\"1\" class=\"dataframe\">\n",
       "  <thead>\n",
       "    <tr style=\"text-align: right;\">\n",
       "      <th></th>\n",
       "      <th>purpose_category</th>\n",
       "      <th>Кол-во клиентов</th>\n",
       "      <th>Кол-во должников</th>\n",
       "      <th>Доля невозврата</th>\n",
       "    </tr>\n",
       "  </thead>\n",
       "  <tbody>\n",
       "    <tr>\n",
       "      <th>0</th>\n",
       "      <td>операции с автомобилем</td>\n",
       "      <td>4279</td>\n",
       "      <td>400</td>\n",
       "      <td>0.093480</td>\n",
       "    </tr>\n",
       "    <tr>\n",
       "      <th>2</th>\n",
       "      <td>получение образования</td>\n",
       "      <td>3988</td>\n",
       "      <td>369</td>\n",
       "      <td>0.092528</td>\n",
       "    </tr>\n",
       "    <tr>\n",
       "      <th>3</th>\n",
       "      <td>проведение свадьбы</td>\n",
       "      <td>2313</td>\n",
       "      <td>183</td>\n",
       "      <td>0.079118</td>\n",
       "    </tr>\n",
       "    <tr>\n",
       "      <th>1</th>\n",
       "      <td>операции с недвижимостью</td>\n",
       "      <td>10751</td>\n",
       "      <td>780</td>\n",
       "      <td>0.072551</td>\n",
       "    </tr>\n",
       "  </tbody>\n",
       "</table>\n",
       "</div>"
      ],
      "text/plain": [
       "           purpose_category  Кол-во клиентов  Кол-во должников  \\\n",
       "0    операции с автомобилем             4279               400   \n",
       "2     получение образования             3988               369   \n",
       "3        проведение свадьбы             2313               183   \n",
       "1  операции с недвижимостью            10751               780   \n",
       "\n",
       "   Доля невозврата  \n",
       "0         0.093480  \n",
       "2         0.092528  \n",
       "3         0.079118  \n",
       "1         0.072551  "
      ]
     },
     "metadata": {},
     "output_type": "display_data"
    },
    {
     "data": {
      "application/vnd.plotly.v1+json": {
       "config": {
        "plotlyServerURL": "https://plot.ly"
       },
       "data": [
        {
         "alignmentgroup": "True",
         "hovertemplate": "purpose_category=%{x}<br>Доля невозврата=%{marker.color}<extra></extra>",
         "legendgroup": "",
         "marker": {
          "color": [
           0.09347978499649451,
           0.07255139056831923,
           0.09252758274824474,
           0.07911802853437094
          ],
          "coloraxis": "coloraxis",
          "pattern": {
           "shape": ""
          }
         },
         "name": "",
         "offsetgroup": "",
         "orientation": "v",
         "showlegend": false,
         "textposition": "auto",
         "type": "bar",
         "x": [
          "операции с автомобилем",
          "операции с недвижимостью",
          "получение образования",
          "проведение свадьбы"
         ],
         "xaxis": "x",
         "y": [
          0.09347978499649451,
          0.07255139056831923,
          0.09252758274824474,
          0.07911802853437094
         ],
         "yaxis": "y"
        }
       ],
       "layout": {
        "barmode": "relative",
        "coloraxis": {
         "colorbar": {
          "title": {
           "text": "Доля невозврата"
          }
         },
         "colorscale": [
          [
           0,
           "#0d0887"
          ],
          [
           0.1111111111111111,
           "#46039f"
          ],
          [
           0.2222222222222222,
           "#7201a8"
          ],
          [
           0.3333333333333333,
           "#9c179e"
          ],
          [
           0.4444444444444444,
           "#bd3786"
          ],
          [
           0.5555555555555556,
           "#d8576b"
          ],
          [
           0.6666666666666666,
           "#ed7953"
          ],
          [
           0.7777777777777778,
           "#fb9f3a"
          ],
          [
           0.8888888888888888,
           "#fdca26"
          ],
          [
           1,
           "#f0f921"
          ]
         ]
        },
        "legend": {
         "tracegroupgap": 0
        },
        "template": {
         "data": {
          "bar": [
           {
            "error_x": {
             "color": "#2a3f5f"
            },
            "error_y": {
             "color": "#2a3f5f"
            },
            "marker": {
             "line": {
              "color": "#E5ECF6",
              "width": 0.5
             },
             "pattern": {
              "fillmode": "overlay",
              "size": 10,
              "solidity": 0.2
             }
            },
            "type": "bar"
           }
          ],
          "barpolar": [
           {
            "marker": {
             "line": {
              "color": "#E5ECF6",
              "width": 0.5
             },
             "pattern": {
              "fillmode": "overlay",
              "size": 10,
              "solidity": 0.2
             }
            },
            "type": "barpolar"
           }
          ],
          "carpet": [
           {
            "aaxis": {
             "endlinecolor": "#2a3f5f",
             "gridcolor": "white",
             "linecolor": "white",
             "minorgridcolor": "white",
             "startlinecolor": "#2a3f5f"
            },
            "baxis": {
             "endlinecolor": "#2a3f5f",
             "gridcolor": "white",
             "linecolor": "white",
             "minorgridcolor": "white",
             "startlinecolor": "#2a3f5f"
            },
            "type": "carpet"
           }
          ],
          "choropleth": [
           {
            "colorbar": {
             "outlinewidth": 0,
             "ticks": ""
            },
            "type": "choropleth"
           }
          ],
          "contour": [
           {
            "colorbar": {
             "outlinewidth": 0,
             "ticks": ""
            },
            "colorscale": [
             [
              0,
              "#0d0887"
             ],
             [
              0.1111111111111111,
              "#46039f"
             ],
             [
              0.2222222222222222,
              "#7201a8"
             ],
             [
              0.3333333333333333,
              "#9c179e"
             ],
             [
              0.4444444444444444,
              "#bd3786"
             ],
             [
              0.5555555555555556,
              "#d8576b"
             ],
             [
              0.6666666666666666,
              "#ed7953"
             ],
             [
              0.7777777777777778,
              "#fb9f3a"
             ],
             [
              0.8888888888888888,
              "#fdca26"
             ],
             [
              1,
              "#f0f921"
             ]
            ],
            "type": "contour"
           }
          ],
          "contourcarpet": [
           {
            "colorbar": {
             "outlinewidth": 0,
             "ticks": ""
            },
            "type": "contourcarpet"
           }
          ],
          "heatmap": [
           {
            "colorbar": {
             "outlinewidth": 0,
             "ticks": ""
            },
            "colorscale": [
             [
              0,
              "#0d0887"
             ],
             [
              0.1111111111111111,
              "#46039f"
             ],
             [
              0.2222222222222222,
              "#7201a8"
             ],
             [
              0.3333333333333333,
              "#9c179e"
             ],
             [
              0.4444444444444444,
              "#bd3786"
             ],
             [
              0.5555555555555556,
              "#d8576b"
             ],
             [
              0.6666666666666666,
              "#ed7953"
             ],
             [
              0.7777777777777778,
              "#fb9f3a"
             ],
             [
              0.8888888888888888,
              "#fdca26"
             ],
             [
              1,
              "#f0f921"
             ]
            ],
            "type": "heatmap"
           }
          ],
          "heatmapgl": [
           {
            "colorbar": {
             "outlinewidth": 0,
             "ticks": ""
            },
            "colorscale": [
             [
              0,
              "#0d0887"
             ],
             [
              0.1111111111111111,
              "#46039f"
             ],
             [
              0.2222222222222222,
              "#7201a8"
             ],
             [
              0.3333333333333333,
              "#9c179e"
             ],
             [
              0.4444444444444444,
              "#bd3786"
             ],
             [
              0.5555555555555556,
              "#d8576b"
             ],
             [
              0.6666666666666666,
              "#ed7953"
             ],
             [
              0.7777777777777778,
              "#fb9f3a"
             ],
             [
              0.8888888888888888,
              "#fdca26"
             ],
             [
              1,
              "#f0f921"
             ]
            ],
            "type": "heatmapgl"
           }
          ],
          "histogram": [
           {
            "marker": {
             "pattern": {
              "fillmode": "overlay",
              "size": 10,
              "solidity": 0.2
             }
            },
            "type": "histogram"
           }
          ],
          "histogram2d": [
           {
            "colorbar": {
             "outlinewidth": 0,
             "ticks": ""
            },
            "colorscale": [
             [
              0,
              "#0d0887"
             ],
             [
              0.1111111111111111,
              "#46039f"
             ],
             [
              0.2222222222222222,
              "#7201a8"
             ],
             [
              0.3333333333333333,
              "#9c179e"
             ],
             [
              0.4444444444444444,
              "#bd3786"
             ],
             [
              0.5555555555555556,
              "#d8576b"
             ],
             [
              0.6666666666666666,
              "#ed7953"
             ],
             [
              0.7777777777777778,
              "#fb9f3a"
             ],
             [
              0.8888888888888888,
              "#fdca26"
             ],
             [
              1,
              "#f0f921"
             ]
            ],
            "type": "histogram2d"
           }
          ],
          "histogram2dcontour": [
           {
            "colorbar": {
             "outlinewidth": 0,
             "ticks": ""
            },
            "colorscale": [
             [
              0,
              "#0d0887"
             ],
             [
              0.1111111111111111,
              "#46039f"
             ],
             [
              0.2222222222222222,
              "#7201a8"
             ],
             [
              0.3333333333333333,
              "#9c179e"
             ],
             [
              0.4444444444444444,
              "#bd3786"
             ],
             [
              0.5555555555555556,
              "#d8576b"
             ],
             [
              0.6666666666666666,
              "#ed7953"
             ],
             [
              0.7777777777777778,
              "#fb9f3a"
             ],
             [
              0.8888888888888888,
              "#fdca26"
             ],
             [
              1,
              "#f0f921"
             ]
            ],
            "type": "histogram2dcontour"
           }
          ],
          "mesh3d": [
           {
            "colorbar": {
             "outlinewidth": 0,
             "ticks": ""
            },
            "type": "mesh3d"
           }
          ],
          "parcoords": [
           {
            "line": {
             "colorbar": {
              "outlinewidth": 0,
              "ticks": ""
             }
            },
            "type": "parcoords"
           }
          ],
          "pie": [
           {
            "automargin": true,
            "type": "pie"
           }
          ],
          "scatter": [
           {
            "marker": {
             "colorbar": {
              "outlinewidth": 0,
              "ticks": ""
             }
            },
            "type": "scatter"
           }
          ],
          "scatter3d": [
           {
            "line": {
             "colorbar": {
              "outlinewidth": 0,
              "ticks": ""
             }
            },
            "marker": {
             "colorbar": {
              "outlinewidth": 0,
              "ticks": ""
             }
            },
            "type": "scatter3d"
           }
          ],
          "scattercarpet": [
           {
            "marker": {
             "colorbar": {
              "outlinewidth": 0,
              "ticks": ""
             }
            },
            "type": "scattercarpet"
           }
          ],
          "scattergeo": [
           {
            "marker": {
             "colorbar": {
              "outlinewidth": 0,
              "ticks": ""
             }
            },
            "type": "scattergeo"
           }
          ],
          "scattergl": [
           {
            "marker": {
             "colorbar": {
              "outlinewidth": 0,
              "ticks": ""
             }
            },
            "type": "scattergl"
           }
          ],
          "scattermapbox": [
           {
            "marker": {
             "colorbar": {
              "outlinewidth": 0,
              "ticks": ""
             }
            },
            "type": "scattermapbox"
           }
          ],
          "scatterpolar": [
           {
            "marker": {
             "colorbar": {
              "outlinewidth": 0,
              "ticks": ""
             }
            },
            "type": "scatterpolar"
           }
          ],
          "scatterpolargl": [
           {
            "marker": {
             "colorbar": {
              "outlinewidth": 0,
              "ticks": ""
             }
            },
            "type": "scatterpolargl"
           }
          ],
          "scatterternary": [
           {
            "marker": {
             "colorbar": {
              "outlinewidth": 0,
              "ticks": ""
             }
            },
            "type": "scatterternary"
           }
          ],
          "surface": [
           {
            "colorbar": {
             "outlinewidth": 0,
             "ticks": ""
            },
            "colorscale": [
             [
              0,
              "#0d0887"
             ],
             [
              0.1111111111111111,
              "#46039f"
             ],
             [
              0.2222222222222222,
              "#7201a8"
             ],
             [
              0.3333333333333333,
              "#9c179e"
             ],
             [
              0.4444444444444444,
              "#bd3786"
             ],
             [
              0.5555555555555556,
              "#d8576b"
             ],
             [
              0.6666666666666666,
              "#ed7953"
             ],
             [
              0.7777777777777778,
              "#fb9f3a"
             ],
             [
              0.8888888888888888,
              "#fdca26"
             ],
             [
              1,
              "#f0f921"
             ]
            ],
            "type": "surface"
           }
          ],
          "table": [
           {
            "cells": {
             "fill": {
              "color": "#EBF0F8"
             },
             "line": {
              "color": "white"
             }
            },
            "header": {
             "fill": {
              "color": "#C8D4E3"
             },
             "line": {
              "color": "white"
             }
            },
            "type": "table"
           }
          ]
         },
         "layout": {
          "annotationdefaults": {
           "arrowcolor": "#2a3f5f",
           "arrowhead": 0,
           "arrowwidth": 1
          },
          "autotypenumbers": "strict",
          "coloraxis": {
           "colorbar": {
            "outlinewidth": 0,
            "ticks": ""
           }
          },
          "colorscale": {
           "diverging": [
            [
             0,
             "#8e0152"
            ],
            [
             0.1,
             "#c51b7d"
            ],
            [
             0.2,
             "#de77ae"
            ],
            [
             0.3,
             "#f1b6da"
            ],
            [
             0.4,
             "#fde0ef"
            ],
            [
             0.5,
             "#f7f7f7"
            ],
            [
             0.6,
             "#e6f5d0"
            ],
            [
             0.7,
             "#b8e186"
            ],
            [
             0.8,
             "#7fbc41"
            ],
            [
             0.9,
             "#4d9221"
            ],
            [
             1,
             "#276419"
            ]
           ],
           "sequential": [
            [
             0,
             "#0d0887"
            ],
            [
             0.1111111111111111,
             "#46039f"
            ],
            [
             0.2222222222222222,
             "#7201a8"
            ],
            [
             0.3333333333333333,
             "#9c179e"
            ],
            [
             0.4444444444444444,
             "#bd3786"
            ],
            [
             0.5555555555555556,
             "#d8576b"
            ],
            [
             0.6666666666666666,
             "#ed7953"
            ],
            [
             0.7777777777777778,
             "#fb9f3a"
            ],
            [
             0.8888888888888888,
             "#fdca26"
            ],
            [
             1,
             "#f0f921"
            ]
           ],
           "sequentialminus": [
            [
             0,
             "#0d0887"
            ],
            [
             0.1111111111111111,
             "#46039f"
            ],
            [
             0.2222222222222222,
             "#7201a8"
            ],
            [
             0.3333333333333333,
             "#9c179e"
            ],
            [
             0.4444444444444444,
             "#bd3786"
            ],
            [
             0.5555555555555556,
             "#d8576b"
            ],
            [
             0.6666666666666666,
             "#ed7953"
            ],
            [
             0.7777777777777778,
             "#fb9f3a"
            ],
            [
             0.8888888888888888,
             "#fdca26"
            ],
            [
             1,
             "#f0f921"
            ]
           ]
          },
          "colorway": [
           "#636efa",
           "#EF553B",
           "#00cc96",
           "#ab63fa",
           "#FFA15A",
           "#19d3f3",
           "#FF6692",
           "#B6E880",
           "#FF97FF",
           "#FECB52"
          ],
          "font": {
           "color": "#2a3f5f"
          },
          "geo": {
           "bgcolor": "white",
           "lakecolor": "white",
           "landcolor": "#E5ECF6",
           "showlakes": true,
           "showland": true,
           "subunitcolor": "white"
          },
          "hoverlabel": {
           "align": "left"
          },
          "hovermode": "closest",
          "mapbox": {
           "style": "light"
          },
          "paper_bgcolor": "white",
          "plot_bgcolor": "#E5ECF6",
          "polar": {
           "angularaxis": {
            "gridcolor": "white",
            "linecolor": "white",
            "ticks": ""
           },
           "bgcolor": "#E5ECF6",
           "radialaxis": {
            "gridcolor": "white",
            "linecolor": "white",
            "ticks": ""
           }
          },
          "scene": {
           "xaxis": {
            "backgroundcolor": "#E5ECF6",
            "gridcolor": "white",
            "gridwidth": 2,
            "linecolor": "white",
            "showbackground": true,
            "ticks": "",
            "zerolinecolor": "white"
           },
           "yaxis": {
            "backgroundcolor": "#E5ECF6",
            "gridcolor": "white",
            "gridwidth": 2,
            "linecolor": "white",
            "showbackground": true,
            "ticks": "",
            "zerolinecolor": "white"
           },
           "zaxis": {
            "backgroundcolor": "#E5ECF6",
            "gridcolor": "white",
            "gridwidth": 2,
            "linecolor": "white",
            "showbackground": true,
            "ticks": "",
            "zerolinecolor": "white"
           }
          },
          "shapedefaults": {
           "line": {
            "color": "#2a3f5f"
           }
          },
          "ternary": {
           "aaxis": {
            "gridcolor": "white",
            "linecolor": "white",
            "ticks": ""
           },
           "baxis": {
            "gridcolor": "white",
            "linecolor": "white",
            "ticks": ""
           },
           "bgcolor": "#E5ECF6",
           "caxis": {
            "gridcolor": "white",
            "linecolor": "white",
            "ticks": ""
           }
          },
          "title": {
           "x": 0.05
          },
          "xaxis": {
           "automargin": true,
           "gridcolor": "white",
           "linecolor": "white",
           "ticks": "",
           "title": {
            "standoff": 15
           },
           "zerolinecolor": "white",
           "zerolinewidth": 2
          },
          "yaxis": {
           "automargin": true,
           "gridcolor": "white",
           "linecolor": "white",
           "ticks": "",
           "title": {
            "standoff": 15
           },
           "zerolinecolor": "white",
           "zerolinewidth": 2
          }
         }
        },
        "title": {
         "text": "Доля невозврата по purpose_category"
        },
        "xaxis": {
         "anchor": "y",
         "domain": [
          0,
          1
         ],
         "title": {
          "text": "purpose_category"
         }
        },
        "yaxis": {
         "anchor": "x",
         "domain": [
          0,
          1
         ],
         "title": {
          "text": "Доля невозврата"
         }
        }
       }
      }
     },
     "metadata": {},
     "output_type": "display_data"
    }
   ],
   "source": [
    "#для проверки зависисомти между семейным положением и возвратом кредита в срок воспользуемся той же функцие pivot,\n",
    "#но уже для purpose_category\n",
    "pivot(data, 'purpose_category')"
   ]
  },
  {
   "cell_type": "markdown",
   "id": "36f3181d",
   "metadata": {
    "deletable": false,
    "id": "b4bb2ce6"
   },
   "source": [
    "**Вывод:** Доля вовзрата кредитов в срок самая высокая при операциях с недвижимостью. Самые рискованные операции связаны с покупкой автомобиля"
   ]
  },
  {
   "cell_type": "markdown",
   "id": "2fdeb151",
   "metadata": {
    "deletable": false,
    "editable": false,
    "id": "09c3ac4c"
   },
   "source": [
    "#### 3.5 Приведите возможные причины появления пропусков в исходных данных."
   ]
  },
  {
   "cell_type": "markdown",
   "id": "33564e39",
   "metadata": {
    "deletable": false,
    "id": "9da2ceda"
   },
   "source": [
    "Менеджер при заполнении данных допускает пропуски или в форме где клиент заполняет данные все поля не отмечены как обязательные и клиент пропускат их. Также, могут возникать проблемы при загрузке данных и из-за этого часть может теряться"
   ]
  },
  {
   "cell_type": "markdown",
   "id": "b3d9e1f8",
   "metadata": {
    "deletable": false,
    "editable": false,
    "id": "7b0487d6"
   },
   "source": [
    "#### 3.6 Объясните, почему заполнить пропуски медианным значением — лучшее решение для количественных переменных."
   ]
  },
  {
   "cell_type": "markdown",
   "id": "3e942e8e",
   "metadata": {
    "deletable": false,
    "id": "7ecf2b8e"
   },
   "source": [
    "Медианное значение подходит для заполнения больше, чем среднее так как среднее некорректно характеризует данные, когда некоторые значения сильно выделяются среди большинства"
   ]
  },
  {
   "cell_type": "markdown",
   "id": "f5162a2a",
   "metadata": {
    "deletable": false,
    "editable": false,
    "id": "6db5255a"
   },
   "source": [
    "## 4. Вывод"
   ]
  },
  {
   "cell_type": "markdown",
   "id": "fdb43932",
   "metadata": {
    "deletable": false,
    "id": "bad65432"
   },
   "source": [
    "**Общий вывод** Найденная зависимость между количеством детей и возвратом кредита в срок позволяет оценить только семьи без детей. По многодетным семьям недостаточно данных для оценки. Зависимость между семейным положение и возвратом кредита в срок видна лишь у несостоящих и несостоявших в официальном браке. Эти категории наиболее рискованные заемщики для банка. Между уровнем дохода и возвратом кредита в срок оценку можно дать по двум категориям: B и С. По остальным категориям недостаточно данных для оценки.\n",
    "С помощью этих зависимостей можно описать идеального и рискованного клиента: идеальный клиент это вдова/вдвовец не имеющий детей, имеющий доход от 200000 до 1000000 и совершающий операции с недвижимостью; рискованный клиент это клиент имеющий детей, не женат/не замужем, имеющий доход от 50000 до 200000 и совершающий операции связанные с покупкой автомобиля"
   ]
  }
 ],
 "metadata": {
  "ExecuteTimeLog": [
   {
    "duration": 487,
    "start_time": "2022-11-21T20:40:10.023Z"
   },
   {
    "duration": 22,
    "start_time": "2022-11-21T20:40:10.512Z"
   },
   {
    "duration": 14,
    "start_time": "2022-11-21T20:40:10.536Z"
   },
   {
    "duration": 9,
    "start_time": "2022-11-21T20:40:10.552Z"
   },
   {
    "duration": 35,
    "start_time": "2022-11-21T20:40:10.562Z"
   },
   {
    "duration": 3,
    "start_time": "2022-11-21T20:40:10.598Z"
   },
   {
    "duration": 12,
    "start_time": "2022-11-21T20:40:10.603Z"
   },
   {
    "duration": 4,
    "start_time": "2022-11-21T20:40:10.617Z"
   },
   {
    "duration": 31,
    "start_time": "2022-11-21T20:40:10.623Z"
   },
   {
    "duration": 4,
    "start_time": "2022-11-21T20:40:10.657Z"
   },
   {
    "duration": 34,
    "start_time": "2022-11-21T20:40:10.663Z"
   },
   {
    "duration": 10,
    "start_time": "2022-11-21T20:40:10.699Z"
   },
   {
    "duration": 4,
    "start_time": "2022-11-21T20:40:10.710Z"
   },
   {
    "duration": 41,
    "start_time": "2022-11-21T20:40:10.716Z"
   },
   {
    "duration": 25,
    "start_time": "2022-11-21T20:40:10.759Z"
   },
   {
    "duration": 21,
    "start_time": "2022-11-21T20:40:10.786Z"
   },
   {
    "duration": 3,
    "start_time": "2022-11-21T20:40:10.809Z"
   },
   {
    "duration": 12,
    "start_time": "2022-11-21T20:40:10.814Z"
   },
   {
    "duration": 26,
    "start_time": "2022-11-21T20:40:10.828Z"
   },
   {
    "duration": 3,
    "start_time": "2022-11-21T20:40:10.855Z"
   },
   {
    "duration": 13,
    "start_time": "2022-11-21T20:40:10.860Z"
   },
   {
    "duration": 6,
    "start_time": "2022-11-21T20:40:10.874Z"
   },
   {
    "duration": 5,
    "start_time": "2022-11-21T20:40:10.881Z"
   },
   {
    "duration": 5,
    "start_time": "2022-11-21T20:40:10.888Z"
   },
   {
    "duration": 9,
    "start_time": "2022-11-21T20:40:10.894Z"
   },
   {
    "duration": 453,
    "start_time": "2022-11-21T20:40:17.256Z"
   },
   {
    "duration": 25,
    "start_time": "2022-11-21T20:40:17.711Z"
   },
   {
    "duration": 35,
    "start_time": "2022-11-21T20:40:17.738Z"
   },
   {
    "duration": 18,
    "start_time": "2022-11-21T20:40:17.775Z"
   },
   {
    "duration": 44,
    "start_time": "2022-11-21T20:40:17.795Z"
   },
   {
    "duration": 4,
    "start_time": "2022-11-21T20:40:17.840Z"
   },
   {
    "duration": 23,
    "start_time": "2022-11-21T20:40:17.845Z"
   },
   {
    "duration": 19,
    "start_time": "2022-11-21T20:40:17.869Z"
   },
   {
    "duration": 15,
    "start_time": "2022-11-21T20:40:17.889Z"
   },
   {
    "duration": 23,
    "start_time": "2022-11-21T20:40:17.908Z"
   },
   {
    "duration": 42,
    "start_time": "2022-11-21T20:40:17.933Z"
   },
   {
    "duration": 10,
    "start_time": "2022-11-21T20:40:17.976Z"
   },
   {
    "duration": 19,
    "start_time": "2022-11-21T20:40:17.988Z"
   },
   {
    "duration": 36,
    "start_time": "2022-11-21T20:40:18.008Z"
   },
   {
    "duration": 37,
    "start_time": "2022-11-21T20:40:18.046Z"
   },
   {
    "duration": 18,
    "start_time": "2022-11-21T20:40:18.084Z"
   },
   {
    "duration": 13,
    "start_time": "2022-11-21T20:40:18.104Z"
   },
   {
    "duration": 28,
    "start_time": "2022-11-21T20:40:18.118Z"
   },
   {
    "duration": 22,
    "start_time": "2022-11-21T20:40:18.147Z"
   },
   {
    "duration": 30,
    "start_time": "2022-11-21T20:40:18.171Z"
   },
   {
    "duration": 39,
    "start_time": "2022-11-21T20:40:18.202Z"
   },
   {
    "duration": 14,
    "start_time": "2022-11-21T20:40:18.243Z"
   },
   {
    "duration": 25,
    "start_time": "2022-11-21T20:40:18.259Z"
   },
   {
    "duration": 21,
    "start_time": "2022-11-21T20:40:18.286Z"
   },
   {
    "duration": 25,
    "start_time": "2022-11-21T20:40:18.309Z"
   },
   {
    "duration": 65,
    "start_time": "2022-11-22T19:41:55.909Z"
   },
   {
    "duration": 806,
    "start_time": "2022-11-22T19:42:03.273Z"
   },
   {
    "duration": 22,
    "start_time": "2022-11-22T19:42:04.081Z"
   },
   {
    "duration": 14,
    "start_time": "2022-11-22T19:42:04.105Z"
   },
   {
    "duration": 10,
    "start_time": "2022-11-22T19:42:04.121Z"
   },
   {
    "duration": 63,
    "start_time": "2022-11-22T19:42:04.136Z"
   },
   {
    "duration": 3,
    "start_time": "2022-11-22T19:42:04.201Z"
   },
   {
    "duration": 11,
    "start_time": "2022-11-22T19:42:04.205Z"
   },
   {
    "duration": 9,
    "start_time": "2022-11-22T19:42:04.217Z"
   },
   {
    "duration": 52,
    "start_time": "2022-11-22T19:42:04.228Z"
   },
   {
    "duration": 6,
    "start_time": "2022-11-22T19:42:04.283Z"
   },
   {
    "duration": 39,
    "start_time": "2022-11-22T19:42:04.291Z"
   },
   {
    "duration": 21,
    "start_time": "2022-11-22T19:42:04.332Z"
   },
   {
    "duration": 26,
    "start_time": "2022-11-22T19:42:04.355Z"
   },
   {
    "duration": 15,
    "start_time": "2022-11-22T19:42:04.382Z"
   },
   {
    "duration": 23,
    "start_time": "2022-11-22T19:42:04.398Z"
   },
   {
    "duration": 29,
    "start_time": "2022-11-22T19:42:04.423Z"
   },
   {
    "duration": 26,
    "start_time": "2022-11-22T19:42:04.454Z"
   },
   {
    "duration": 16,
    "start_time": "2022-11-22T19:42:04.482Z"
   },
   {
    "duration": 13,
    "start_time": "2022-11-22T19:42:04.500Z"
   },
   {
    "duration": 10,
    "start_time": "2022-11-22T19:42:04.515Z"
   },
   {
    "duration": 57,
    "start_time": "2022-11-22T19:42:04.526Z"
   },
   {
    "duration": 18,
    "start_time": "2022-11-22T19:42:04.584Z"
   },
   {
    "duration": 21,
    "start_time": "2022-11-22T19:42:04.604Z"
   },
   {
    "duration": 55,
    "start_time": "2022-11-22T19:42:04.629Z"
   },
   {
    "duration": 8,
    "start_time": "2022-11-22T19:42:04.686Z"
   },
   {
    "duration": 31,
    "start_time": "2022-11-22T19:42:51.923Z"
   },
   {
    "duration": 5,
    "start_time": "2022-11-22T19:46:12.372Z"
   },
   {
    "duration": 5,
    "start_time": "2022-11-22T19:46:15.921Z"
   },
   {
    "duration": 7,
    "start_time": "2022-11-22T19:49:08.872Z"
   },
   {
    "duration": 4,
    "start_time": "2022-11-22T19:49:35.711Z"
   },
   {
    "duration": 8,
    "start_time": "2022-11-22T19:49:42.670Z"
   },
   {
    "duration": 14,
    "start_time": "2022-11-22T19:50:01.260Z"
   },
   {
    "duration": 6,
    "start_time": "2022-11-22T19:50:30.096Z"
   },
   {
    "duration": 9,
    "start_time": "2022-11-22T19:50:43.966Z"
   },
   {
    "duration": 11,
    "start_time": "2022-11-22T19:50:56.669Z"
   },
   {
    "duration": 5,
    "start_time": "2022-11-22T19:51:01.095Z"
   },
   {
    "duration": 99,
    "start_time": "2022-11-22T19:51:39.822Z"
   },
   {
    "duration": 7,
    "start_time": "2022-11-22T19:52:20.856Z"
   },
   {
    "duration": 6,
    "start_time": "2022-11-22T19:52:33.294Z"
   },
   {
    "duration": 6,
    "start_time": "2022-11-22T19:52:39.994Z"
   },
   {
    "duration": 7,
    "start_time": "2022-11-22T19:53:26.264Z"
   },
   {
    "duration": 5,
    "start_time": "2022-11-22T19:53:32.982Z"
   },
   {
    "duration": 7,
    "start_time": "2022-11-22T19:53:38.763Z"
   },
   {
    "duration": 6,
    "start_time": "2022-11-22T19:53:41.466Z"
   },
   {
    "duration": 6,
    "start_time": "2022-11-22T19:54:06.109Z"
   },
   {
    "duration": 15,
    "start_time": "2022-11-22T19:54:15.482Z"
   },
   {
    "duration": 7,
    "start_time": "2022-11-22T19:54:25.476Z"
   },
   {
    "duration": 7,
    "start_time": "2022-11-22T19:54:58.005Z"
   },
   {
    "duration": 8,
    "start_time": "2022-11-22T19:55:32.821Z"
   },
   {
    "duration": 6,
    "start_time": "2022-11-22T19:57:33.908Z"
   },
   {
    "duration": 5,
    "start_time": "2022-11-22T19:57:38.981Z"
   },
   {
    "duration": 27,
    "start_time": "2022-11-22T19:58:13.856Z"
   },
   {
    "duration": 21,
    "start_time": "2022-11-22T19:58:22.198Z"
   },
   {
    "duration": 6,
    "start_time": "2022-11-22T19:58:44.190Z"
   },
   {
    "duration": 7,
    "start_time": "2022-11-22T20:00:54.618Z"
   },
   {
    "duration": 5,
    "start_time": "2022-11-22T20:01:01.466Z"
   },
   {
    "duration": 6,
    "start_time": "2022-11-22T20:01:04.218Z"
   },
   {
    "duration": 8,
    "start_time": "2022-11-22T20:01:21.262Z"
   },
   {
    "duration": 8,
    "start_time": "2022-11-22T20:02:01.497Z"
   },
   {
    "duration": 8,
    "start_time": "2022-11-22T20:02:40.659Z"
   },
   {
    "duration": 7,
    "start_time": "2022-11-22T20:03:45.777Z"
   },
   {
    "duration": 6,
    "start_time": "2022-11-22T20:03:56.609Z"
   },
   {
    "duration": 19,
    "start_time": "2022-11-22T20:04:23.353Z"
   },
   {
    "duration": 12,
    "start_time": "2022-11-22T20:04:31.369Z"
   },
   {
    "duration": 527,
    "start_time": "2022-11-22T20:04:36.221Z"
   },
   {
    "duration": 40,
    "start_time": "2022-11-22T20:04:36.751Z"
   },
   {
    "duration": 20,
    "start_time": "2022-11-22T20:04:36.793Z"
   },
   {
    "duration": 29,
    "start_time": "2022-11-22T20:04:36.816Z"
   },
   {
    "duration": 80,
    "start_time": "2022-11-22T20:04:36.847Z"
   },
   {
    "duration": 4,
    "start_time": "2022-11-22T20:04:36.929Z"
   },
   {
    "duration": 32,
    "start_time": "2022-11-22T20:04:36.937Z"
   },
   {
    "duration": 7,
    "start_time": "2022-11-22T20:04:36.971Z"
   },
   {
    "duration": 16,
    "start_time": "2022-11-22T20:04:36.980Z"
   },
   {
    "duration": 8,
    "start_time": "2022-11-22T20:04:37.014Z"
   },
   {
    "duration": 52,
    "start_time": "2022-11-22T20:04:37.024Z"
   },
   {
    "duration": 11,
    "start_time": "2022-11-22T20:04:37.078Z"
   },
   {
    "duration": 24,
    "start_time": "2022-11-22T20:04:37.090Z"
   },
   {
    "duration": 33,
    "start_time": "2022-11-22T20:04:37.115Z"
   },
   {
    "duration": 37,
    "start_time": "2022-11-22T20:04:37.159Z"
   },
   {
    "duration": 17,
    "start_time": "2022-11-22T20:04:37.198Z"
   },
   {
    "duration": 4,
    "start_time": "2022-11-22T20:04:37.216Z"
   },
   {
    "duration": 51,
    "start_time": "2022-11-22T20:04:37.222Z"
   },
   {
    "duration": 12,
    "start_time": "2022-11-22T20:04:37.275Z"
   },
   {
    "duration": 7,
    "start_time": "2022-11-22T20:04:37.288Z"
   },
   {
    "duration": 22,
    "start_time": "2022-11-22T20:04:37.297Z"
   },
   {
    "duration": 26,
    "start_time": "2022-11-22T20:04:37.321Z"
   },
   {
    "duration": 35,
    "start_time": "2022-11-22T20:04:37.352Z"
   },
   {
    "duration": 80,
    "start_time": "2022-11-22T20:04:37.388Z"
   },
   {
    "duration": 0,
    "start_time": "2022-11-22T20:04:37.470Z"
   },
   {
    "duration": 6,
    "start_time": "2022-11-22T20:05:18.397Z"
   },
   {
    "duration": 9,
    "start_time": "2022-11-22T20:05:27.754Z"
   },
   {
    "duration": 35,
    "start_time": "2022-11-22T20:32:26.154Z"
   },
   {
    "duration": 13,
    "start_time": "2022-11-22T20:32:32.759Z"
   },
   {
    "duration": 7,
    "start_time": "2022-11-22T20:32:39.467Z"
   },
   {
    "duration": 10,
    "start_time": "2022-11-22T20:33:02.001Z"
   },
   {
    "duration": 9,
    "start_time": "2022-11-22T20:33:04.994Z"
   },
   {
    "duration": 8,
    "start_time": "2022-11-22T20:33:10.026Z"
   },
   {
    "duration": 580,
    "start_time": "2022-11-22T20:33:15.526Z"
   },
   {
    "duration": 22,
    "start_time": "2022-11-22T20:33:16.108Z"
   },
   {
    "duration": 56,
    "start_time": "2022-11-22T20:33:16.132Z"
   },
   {
    "duration": 15,
    "start_time": "2022-11-22T20:33:16.192Z"
   },
   {
    "duration": 46,
    "start_time": "2022-11-22T20:33:16.209Z"
   },
   {
    "duration": 4,
    "start_time": "2022-11-22T20:33:16.258Z"
   },
   {
    "duration": 36,
    "start_time": "2022-11-22T20:33:16.266Z"
   },
   {
    "duration": 12,
    "start_time": "2022-11-22T20:33:16.304Z"
   },
   {
    "duration": 11,
    "start_time": "2022-11-22T20:33:16.318Z"
   },
   {
    "duration": 54,
    "start_time": "2022-11-22T20:33:16.331Z"
   },
   {
    "duration": 43,
    "start_time": "2022-11-22T20:33:16.387Z"
   },
   {
    "duration": 35,
    "start_time": "2022-11-22T20:33:16.432Z"
   },
   {
    "duration": 29,
    "start_time": "2022-11-22T20:33:16.470Z"
   },
   {
    "duration": 17,
    "start_time": "2022-11-22T20:33:16.501Z"
   },
   {
    "duration": 71,
    "start_time": "2022-11-22T20:33:16.520Z"
   },
   {
    "duration": 18,
    "start_time": "2022-11-22T20:33:16.593Z"
   },
   {
    "duration": 3,
    "start_time": "2022-11-22T20:33:16.613Z"
   },
   {
    "duration": 46,
    "start_time": "2022-11-22T20:33:16.618Z"
   },
   {
    "duration": 57,
    "start_time": "2022-11-22T20:33:16.666Z"
   },
   {
    "duration": 87,
    "start_time": "2022-11-22T20:33:16.725Z"
   },
   {
    "duration": 76,
    "start_time": "2022-11-22T20:33:16.815Z"
   },
   {
    "duration": 37,
    "start_time": "2022-11-22T20:33:16.893Z"
   },
   {
    "duration": 71,
    "start_time": "2022-11-22T20:33:16.932Z"
   },
   {
    "duration": 85,
    "start_time": "2022-11-22T20:33:17.005Z"
   },
   {
    "duration": 27,
    "start_time": "2022-11-22T20:33:17.092Z"
   },
   {
    "duration": 78,
    "start_time": "2022-11-22T20:33:47.675Z"
   },
   {
    "duration": 11,
    "start_time": "2022-11-22T20:34:06.481Z"
   },
   {
    "duration": 10,
    "start_time": "2022-11-22T20:34:11.720Z"
   },
   {
    "duration": 543,
    "start_time": "2022-11-22T20:34:17.917Z"
   },
   {
    "duration": 34,
    "start_time": "2022-11-22T20:34:18.462Z"
   },
   {
    "duration": 23,
    "start_time": "2022-11-22T20:34:18.498Z"
   },
   {
    "duration": 25,
    "start_time": "2022-11-22T20:34:18.523Z"
   },
   {
    "duration": 83,
    "start_time": "2022-11-22T20:34:18.550Z"
   },
   {
    "duration": 4,
    "start_time": "2022-11-22T20:34:18.642Z"
   },
   {
    "duration": 68,
    "start_time": "2022-11-22T20:34:18.648Z"
   },
   {
    "duration": 5,
    "start_time": "2022-11-22T20:34:18.717Z"
   },
   {
    "duration": 13,
    "start_time": "2022-11-22T20:34:18.724Z"
   },
   {
    "duration": 57,
    "start_time": "2022-11-22T20:34:18.741Z"
   },
   {
    "duration": 47,
    "start_time": "2022-11-22T20:34:18.800Z"
   },
   {
    "duration": 16,
    "start_time": "2022-11-22T20:34:18.849Z"
   },
   {
    "duration": 32,
    "start_time": "2022-11-22T20:34:18.867Z"
   },
   {
    "duration": 15,
    "start_time": "2022-11-22T20:34:18.900Z"
   },
   {
    "duration": 33,
    "start_time": "2022-11-22T20:34:18.917Z"
   },
   {
    "duration": 26,
    "start_time": "2022-11-22T20:34:18.952Z"
   },
   {
    "duration": 32,
    "start_time": "2022-11-22T20:34:18.980Z"
   },
   {
    "duration": 32,
    "start_time": "2022-11-22T20:34:19.014Z"
   },
   {
    "duration": 58,
    "start_time": "2022-11-22T20:34:19.048Z"
   },
   {
    "duration": 5,
    "start_time": "2022-11-22T20:34:19.108Z"
   },
   {
    "duration": 20,
    "start_time": "2022-11-22T20:34:19.115Z"
   },
   {
    "duration": 42,
    "start_time": "2022-11-22T20:34:19.138Z"
   },
   {
    "duration": 42,
    "start_time": "2022-11-22T20:34:19.182Z"
   },
   {
    "duration": 7,
    "start_time": "2022-11-22T20:34:19.226Z"
   },
   {
    "duration": 72,
    "start_time": "2022-11-22T20:34:19.235Z"
   },
   {
    "duration": 116,
    "start_time": "2022-11-22T20:34:19.400Z"
   },
   {
    "duration": 12,
    "start_time": "2022-11-22T20:34:20.772Z"
   },
   {
    "duration": 17,
    "start_time": "2022-11-22T20:34:21.529Z"
   },
   {
    "duration": 10,
    "start_time": "2022-11-22T20:34:22.197Z"
   },
   {
    "duration": 17,
    "start_time": "2022-11-22T20:34:22.737Z"
   },
   {
    "duration": 13,
    "start_time": "2022-11-22T20:34:23.563Z"
   },
   {
    "duration": 13,
    "start_time": "2022-11-22T20:34:33.265Z"
   },
   {
    "duration": 9,
    "start_time": "2022-11-22T20:34:37.297Z"
   },
   {
    "duration": 11,
    "start_time": "2022-11-22T20:34:48.679Z"
   },
   {
    "duration": 525,
    "start_time": "2022-11-22T20:34:54.922Z"
   },
   {
    "duration": 44,
    "start_time": "2022-11-22T20:34:55.451Z"
   },
   {
    "duration": 19,
    "start_time": "2022-11-22T20:34:55.497Z"
   },
   {
    "duration": 18,
    "start_time": "2022-11-22T20:34:55.519Z"
   },
   {
    "duration": 77,
    "start_time": "2022-11-22T20:34:55.539Z"
   },
   {
    "duration": 3,
    "start_time": "2022-11-22T20:34:55.618Z"
   },
   {
    "duration": 10,
    "start_time": "2022-11-22T20:34:55.623Z"
   },
   {
    "duration": 43,
    "start_time": "2022-11-22T20:34:55.635Z"
   },
   {
    "duration": 21,
    "start_time": "2022-11-22T20:34:55.680Z"
   },
   {
    "duration": 5,
    "start_time": "2022-11-22T20:34:55.704Z"
   },
   {
    "duration": 72,
    "start_time": "2022-11-22T20:34:55.710Z"
   },
   {
    "duration": 12,
    "start_time": "2022-11-22T20:34:55.786Z"
   },
   {
    "duration": 10,
    "start_time": "2022-11-22T20:34:55.800Z"
   },
   {
    "duration": 32,
    "start_time": "2022-11-22T20:34:55.812Z"
   },
   {
    "duration": 56,
    "start_time": "2022-11-22T20:34:55.852Z"
   },
   {
    "duration": 19,
    "start_time": "2022-11-22T20:34:55.910Z"
   },
   {
    "duration": 8,
    "start_time": "2022-11-22T20:34:55.931Z"
   },
   {
    "duration": 66,
    "start_time": "2022-11-22T20:34:55.943Z"
   },
   {
    "duration": 6,
    "start_time": "2022-11-22T20:34:56.012Z"
   },
   {
    "duration": 14,
    "start_time": "2022-11-22T20:34:56.020Z"
   },
   {
    "duration": 68,
    "start_time": "2022-11-22T20:34:56.035Z"
   },
   {
    "duration": 16,
    "start_time": "2022-11-22T20:34:56.105Z"
   },
   {
    "duration": 109,
    "start_time": "2022-11-22T20:34:56.122Z"
   },
   {
    "duration": 0,
    "start_time": "2022-11-22T20:34:56.233Z"
   },
   {
    "duration": 0,
    "start_time": "2022-11-22T20:34:56.234Z"
   },
   {
    "duration": 10,
    "start_time": "2022-11-22T20:35:03.408Z"
   },
   {
    "duration": 9,
    "start_time": "2022-11-22T20:35:04.881Z"
   },
   {
    "duration": 9,
    "start_time": "2022-11-22T20:35:05.879Z"
   },
   {
    "duration": 14,
    "start_time": "2022-11-22T20:35:06.879Z"
   },
   {
    "duration": 9,
    "start_time": "2022-11-22T20:35:07.297Z"
   },
   {
    "duration": 13,
    "start_time": "2022-11-22T20:35:07.632Z"
   },
   {
    "duration": 10,
    "start_time": "2022-11-22T20:35:08.785Z"
   },
   {
    "duration": 560,
    "start_time": "2022-11-22T20:35:16.760Z"
   },
   {
    "duration": 34,
    "start_time": "2022-11-22T20:35:17.322Z"
   },
   {
    "duration": 56,
    "start_time": "2022-11-22T20:35:17.358Z"
   },
   {
    "duration": 10,
    "start_time": "2022-11-22T20:35:17.416Z"
   },
   {
    "duration": 67,
    "start_time": "2022-11-22T20:35:17.428Z"
   },
   {
    "duration": 5,
    "start_time": "2022-11-22T20:35:17.500Z"
   },
   {
    "duration": 12,
    "start_time": "2022-11-22T20:35:17.507Z"
   },
   {
    "duration": 8,
    "start_time": "2022-11-22T20:35:17.521Z"
   },
   {
    "duration": 69,
    "start_time": "2022-11-22T20:35:17.530Z"
   },
   {
    "duration": 5,
    "start_time": "2022-11-22T20:35:17.601Z"
   },
   {
    "duration": 65,
    "start_time": "2022-11-22T20:35:17.608Z"
   },
   {
    "duration": 19,
    "start_time": "2022-11-22T20:35:17.674Z"
   },
   {
    "duration": 10,
    "start_time": "2022-11-22T20:35:17.695Z"
   },
   {
    "duration": 16,
    "start_time": "2022-11-22T20:35:17.708Z"
   },
   {
    "duration": 79,
    "start_time": "2022-11-22T20:35:17.726Z"
   },
   {
    "duration": 16,
    "start_time": "2022-11-22T20:35:17.806Z"
   },
   {
    "duration": 3,
    "start_time": "2022-11-22T20:35:17.824Z"
   },
   {
    "duration": 76,
    "start_time": "2022-11-22T20:35:17.829Z"
   },
   {
    "duration": 14,
    "start_time": "2022-11-22T20:35:17.907Z"
   },
   {
    "duration": 10,
    "start_time": "2022-11-22T20:35:17.922Z"
   },
   {
    "duration": 68,
    "start_time": "2022-11-22T20:35:17.934Z"
   },
   {
    "duration": 24,
    "start_time": "2022-11-22T20:35:18.004Z"
   },
   {
    "duration": 68,
    "start_time": "2022-11-22T20:35:18.029Z"
   },
   {
    "duration": 9,
    "start_time": "2022-11-22T20:35:18.099Z"
   },
   {
    "duration": 6,
    "start_time": "2022-11-22T20:35:18.109Z"
   },
   {
    "duration": 10,
    "start_time": "2022-11-22T20:35:20.173Z"
   },
   {
    "duration": 6,
    "start_time": "2022-11-22T20:56:17.806Z"
   },
   {
    "duration": 11,
    "start_time": "2022-11-22T21:05:13.359Z"
   },
   {
    "duration": 9,
    "start_time": "2022-11-22T21:05:20.459Z"
   },
   {
    "duration": 10,
    "start_time": "2022-11-22T21:05:23.211Z"
   },
   {
    "duration": 11,
    "start_time": "2022-11-22T21:11:26.774Z"
   },
   {
    "duration": 10,
    "start_time": "2022-11-22T21:14:41.371Z"
   },
   {
    "duration": 8,
    "start_time": "2022-11-22T21:20:59.602Z"
   },
   {
    "duration": 7,
    "start_time": "2022-11-22T21:21:09.891Z"
   },
   {
    "duration": 6,
    "start_time": "2022-11-22T21:21:13.674Z"
   },
   {
    "duration": 12,
    "start_time": "2022-11-22T21:21:19.637Z"
   },
   {
    "duration": 537,
    "start_time": "2022-11-26T12:30:14.537Z"
   },
   {
    "duration": 25,
    "start_time": "2022-11-26T12:30:15.076Z"
   },
   {
    "duration": 16,
    "start_time": "2022-11-26T12:30:15.103Z"
   },
   {
    "duration": 11,
    "start_time": "2022-11-26T12:30:15.121Z"
   },
   {
    "duration": 42,
    "start_time": "2022-11-26T12:30:15.133Z"
   },
   {
    "duration": 3,
    "start_time": "2022-11-26T12:30:15.177Z"
   },
   {
    "duration": 13,
    "start_time": "2022-11-26T12:30:15.183Z"
   },
   {
    "duration": 5,
    "start_time": "2022-11-26T12:30:15.221Z"
   },
   {
    "duration": 11,
    "start_time": "2022-11-26T12:30:15.228Z"
   },
   {
    "duration": 8,
    "start_time": "2022-11-26T12:30:15.241Z"
   },
   {
    "duration": 39,
    "start_time": "2022-11-26T12:30:15.251Z"
   },
   {
    "duration": 34,
    "start_time": "2022-11-26T12:30:15.292Z"
   },
   {
    "duration": 4,
    "start_time": "2022-11-26T12:30:15.328Z"
   },
   {
    "duration": 20,
    "start_time": "2022-11-26T12:30:15.334Z"
   },
   {
    "duration": 25,
    "start_time": "2022-11-26T12:30:15.356Z"
   },
   {
    "duration": 18,
    "start_time": "2022-11-26T12:30:15.382Z"
   },
   {
    "duration": 20,
    "start_time": "2022-11-26T12:30:15.402Z"
   },
   {
    "duration": 10,
    "start_time": "2022-11-26T12:30:15.424Z"
   },
   {
    "duration": 10,
    "start_time": "2022-11-26T12:30:15.436Z"
   },
   {
    "duration": 4,
    "start_time": "2022-11-26T12:30:15.447Z"
   },
   {
    "duration": 15,
    "start_time": "2022-11-26T12:30:15.452Z"
   },
   {
    "duration": 11,
    "start_time": "2022-11-26T12:30:15.468Z"
   },
   {
    "duration": 8,
    "start_time": "2022-11-26T12:30:15.480Z"
   },
   {
    "duration": 2,
    "start_time": "2022-11-26T12:30:15.490Z"
   },
   {
    "duration": 30,
    "start_time": "2022-11-26T12:30:15.494Z"
   },
   {
    "duration": 8,
    "start_time": "2022-11-26T12:35:13.920Z"
   },
   {
    "duration": 6,
    "start_time": "2022-11-26T12:35:22.224Z"
   },
   {
    "duration": 8,
    "start_time": "2022-11-26T12:36:28.647Z"
   },
   {
    "duration": 8,
    "start_time": "2022-11-26T12:36:32.968Z"
   },
   {
    "duration": 3,
    "start_time": "2022-11-26T12:37:27.446Z"
   },
   {
    "duration": 62,
    "start_time": "2022-11-26T12:37:28.518Z"
   },
   {
    "duration": 13,
    "start_time": "2022-11-26T12:37:32.022Z"
   },
   {
    "duration": 15,
    "start_time": "2022-11-26T12:40:15.172Z"
   },
   {
    "duration": 15,
    "start_time": "2022-11-26T12:40:22.762Z"
   },
   {
    "duration": 10,
    "start_time": "2022-11-26T12:40:53.796Z"
   },
   {
    "duration": 415,
    "start_time": "2022-11-26T12:40:58.973Z"
   },
   {
    "duration": 23,
    "start_time": "2022-11-26T12:40:59.390Z"
   },
   {
    "duration": 17,
    "start_time": "2022-11-26T12:40:59.415Z"
   },
   {
    "duration": 11,
    "start_time": "2022-11-26T12:40:59.434Z"
   },
   {
    "duration": 34,
    "start_time": "2022-11-26T12:40:59.447Z"
   },
   {
    "duration": 4,
    "start_time": "2022-11-26T12:40:59.483Z"
   },
   {
    "duration": 39,
    "start_time": "2022-11-26T12:40:59.488Z"
   },
   {
    "duration": 4,
    "start_time": "2022-11-26T12:40:59.529Z"
   },
   {
    "duration": 11,
    "start_time": "2022-11-26T12:40:59.534Z"
   },
   {
    "duration": 6,
    "start_time": "2022-11-26T12:40:59.548Z"
   },
   {
    "duration": 38,
    "start_time": "2022-11-26T12:40:59.556Z"
   },
   {
    "duration": 31,
    "start_time": "2022-11-26T12:40:59.595Z"
   },
   {
    "duration": 4,
    "start_time": "2022-11-26T12:40:59.628Z"
   },
   {
    "duration": 15,
    "start_time": "2022-11-26T12:40:59.633Z"
   },
   {
    "duration": 25,
    "start_time": "2022-11-26T12:40:59.649Z"
   },
   {
    "duration": 17,
    "start_time": "2022-11-26T12:40:59.675Z"
   },
   {
    "duration": 4,
    "start_time": "2022-11-26T12:40:59.694Z"
   },
   {
    "duration": 11,
    "start_time": "2022-11-26T12:40:59.722Z"
   },
   {
    "duration": 8,
    "start_time": "2022-11-26T12:40:59.735Z"
   },
   {
    "duration": 4,
    "start_time": "2022-11-26T12:40:59.745Z"
   },
   {
    "duration": 9,
    "start_time": "2022-11-26T12:40:59.751Z"
   },
   {
    "duration": 10,
    "start_time": "2022-11-26T12:40:59.762Z"
   },
   {
    "duration": 8,
    "start_time": "2022-11-26T12:40:59.773Z"
   },
   {
    "duration": 50,
    "start_time": "2022-11-26T12:40:59.783Z"
   },
   {
    "duration": 5,
    "start_time": "2022-11-26T12:40:59.835Z"
   },
   {
    "duration": 6,
    "start_time": "2022-11-26T12:43:48.909Z"
   },
   {
    "duration": 17,
    "start_time": "2022-11-26T12:44:43.835Z"
   },
   {
    "duration": 6,
    "start_time": "2022-11-26T12:45:01.419Z"
   },
   {
    "duration": 24,
    "start_time": "2022-11-26T12:45:52.427Z"
   },
   {
    "duration": 72,
    "start_time": "2022-11-26T12:46:13.387Z"
   },
   {
    "duration": 92,
    "start_time": "2022-11-26T12:46:17.339Z"
   },
   {
    "duration": 7,
    "start_time": "2022-11-26T12:46:24.690Z"
   },
   {
    "duration": 6,
    "start_time": "2022-11-26T12:46:28.178Z"
   },
   {
    "duration": 11,
    "start_time": "2022-11-26T12:48:44.994Z"
   },
   {
    "duration": 4,
    "start_time": "2022-11-26T12:49:05.433Z"
   },
   {
    "duration": 5,
    "start_time": "2022-11-26T12:49:20.601Z"
   },
   {
    "duration": 5,
    "start_time": "2022-11-26T12:58:24.331Z"
   },
   {
    "duration": 7,
    "start_time": "2022-11-26T12:58:29.916Z"
   },
   {
    "duration": 7,
    "start_time": "2022-11-26T12:58:47.299Z"
   },
   {
    "duration": 23,
    "start_time": "2022-11-26T12:59:22.668Z"
   },
   {
    "duration": 21,
    "start_time": "2022-11-26T12:59:31.867Z"
   },
   {
    "duration": 11,
    "start_time": "2022-11-26T13:00:05.732Z"
   },
   {
    "duration": 18,
    "start_time": "2022-11-26T13:00:08.475Z"
   },
   {
    "duration": 9,
    "start_time": "2022-11-26T13:00:16.490Z"
   },
   {
    "duration": 844,
    "start_time": "2022-11-26T13:03:58.849Z"
   },
   {
    "duration": 11,
    "start_time": "2022-11-26T13:05:09.936Z"
   },
   {
    "duration": 11,
    "start_time": "2022-11-26T13:05:15.511Z"
   },
   {
    "duration": 11,
    "start_time": "2022-11-26T13:05:26.656Z"
   },
   {
    "duration": 493,
    "start_time": "2022-11-26T13:05:35.383Z"
   },
   {
    "duration": 27,
    "start_time": "2022-11-26T13:05:35.879Z"
   },
   {
    "duration": 32,
    "start_time": "2022-11-26T13:05:35.908Z"
   },
   {
    "duration": 20,
    "start_time": "2022-11-26T13:05:35.943Z"
   },
   {
    "duration": 69,
    "start_time": "2022-11-26T13:05:35.965Z"
   },
   {
    "duration": 3,
    "start_time": "2022-11-26T13:05:36.036Z"
   },
   {
    "duration": 13,
    "start_time": "2022-11-26T13:05:36.041Z"
   },
   {
    "duration": 11,
    "start_time": "2022-11-26T13:05:36.056Z"
   },
   {
    "duration": 7,
    "start_time": "2022-11-26T13:05:36.069Z"
   },
   {
    "duration": 9,
    "start_time": "2022-11-26T13:05:36.079Z"
   },
   {
    "duration": 57,
    "start_time": "2022-11-26T13:05:36.090Z"
   },
   {
    "duration": 10,
    "start_time": "2022-11-26T13:05:36.149Z"
   },
   {
    "duration": 13,
    "start_time": "2022-11-26T13:05:36.161Z"
   },
   {
    "duration": 34,
    "start_time": "2022-11-26T13:05:36.175Z"
   },
   {
    "duration": 37,
    "start_time": "2022-11-26T13:05:36.211Z"
   },
   {
    "duration": 17,
    "start_time": "2022-11-26T13:05:36.250Z"
   },
   {
    "duration": 8,
    "start_time": "2022-11-26T13:05:36.269Z"
   },
   {
    "duration": 32,
    "start_time": "2022-11-26T13:05:36.279Z"
   },
   {
    "duration": 30,
    "start_time": "2022-11-26T13:05:36.313Z"
   },
   {
    "duration": 11,
    "start_time": "2022-11-26T13:05:36.345Z"
   },
   {
    "duration": 20,
    "start_time": "2022-11-26T13:05:36.358Z"
   },
   {
    "duration": 33,
    "start_time": "2022-11-26T13:05:36.379Z"
   },
   {
    "duration": 33,
    "start_time": "2022-11-26T13:05:36.413Z"
   },
   {
    "duration": 70,
    "start_time": "2022-11-26T13:05:36.447Z"
   },
   {
    "duration": 0,
    "start_time": "2022-11-26T13:05:36.519Z"
   },
   {
    "duration": 13,
    "start_time": "2022-11-26T13:06:04.128Z"
   },
   {
    "duration": 5,
    "start_time": "2022-11-26T13:06:17.704Z"
   },
   {
    "duration": 12,
    "start_time": "2022-11-26T13:06:25.159Z"
   },
   {
    "duration": 4,
    "start_time": "2022-11-26T13:06:29.432Z"
   },
   {
    "duration": 9,
    "start_time": "2022-11-26T13:06:32.987Z"
   },
   {
    "duration": 832,
    "start_time": "2022-11-26T13:06:37.663Z"
   },
   {
    "duration": 93,
    "start_time": "2022-11-26T13:06:43.704Z"
   },
   {
    "duration": 7,
    "start_time": "2022-11-26T13:06:45.344Z"
   },
   {
    "duration": 7,
    "start_time": "2022-11-26T13:06:48.184Z"
   },
   {
    "duration": 9,
    "start_time": "2022-11-26T13:07:51.647Z"
   },
   {
    "duration": 4,
    "start_time": "2022-11-26T13:07:54.911Z"
   },
   {
    "duration": 9,
    "start_time": "2022-11-26T13:08:04.911Z"
   },
   {
    "duration": 10,
    "start_time": "2022-11-26T13:08:14.625Z"
   },
   {
    "duration": 582,
    "start_time": "2022-11-26T13:09:01.806Z"
   },
   {
    "duration": 607,
    "start_time": "2022-11-26T13:09:11.654Z"
   },
   {
    "duration": 83,
    "start_time": "2022-11-26T13:09:27.366Z"
   },
   {
    "duration": 12,
    "start_time": "2022-11-26T13:09:31.061Z"
   },
   {
    "duration": 6,
    "start_time": "2022-11-26T13:09:38.149Z"
   },
   {
    "duration": 7,
    "start_time": "2022-11-26T13:09:41.877Z"
   },
   {
    "duration": 6,
    "start_time": "2022-11-26T13:09:48.614Z"
   },
   {
    "duration": 454,
    "start_time": "2022-11-26T13:09:53.140Z"
   },
   {
    "duration": 23,
    "start_time": "2022-11-26T13:09:53.596Z"
   },
   {
    "duration": 14,
    "start_time": "2022-11-26T13:09:53.621Z"
   },
   {
    "duration": 18,
    "start_time": "2022-11-26T13:09:53.637Z"
   },
   {
    "duration": 42,
    "start_time": "2022-11-26T13:09:53.657Z"
   },
   {
    "duration": 3,
    "start_time": "2022-11-26T13:09:53.701Z"
   },
   {
    "duration": 30,
    "start_time": "2022-11-26T13:09:53.706Z"
   },
   {
    "duration": 4,
    "start_time": "2022-11-26T13:09:53.738Z"
   },
   {
    "duration": 19,
    "start_time": "2022-11-26T13:09:53.743Z"
   },
   {
    "duration": 14,
    "start_time": "2022-11-26T13:09:53.766Z"
   },
   {
    "duration": 46,
    "start_time": "2022-11-26T13:09:53.781Z"
   },
   {
    "duration": 12,
    "start_time": "2022-11-26T13:09:53.829Z"
   },
   {
    "duration": 9,
    "start_time": "2022-11-26T13:09:53.843Z"
   },
   {
    "duration": 29,
    "start_time": "2022-11-26T13:09:53.853Z"
   },
   {
    "duration": 31,
    "start_time": "2022-11-26T13:09:53.884Z"
   },
   {
    "duration": 17,
    "start_time": "2022-11-26T13:09:53.917Z"
   },
   {
    "duration": 4,
    "start_time": "2022-11-26T13:09:53.936Z"
   },
   {
    "duration": 23,
    "start_time": "2022-11-26T13:09:53.942Z"
   },
   {
    "duration": 19,
    "start_time": "2022-11-26T13:09:53.966Z"
   },
   {
    "duration": 31,
    "start_time": "2022-11-26T13:09:53.987Z"
   },
   {
    "duration": 21,
    "start_time": "2022-11-26T13:09:54.020Z"
   },
   {
    "duration": 11,
    "start_time": "2022-11-26T13:09:54.043Z"
   },
   {
    "duration": 19,
    "start_time": "2022-11-26T13:09:54.056Z"
   },
   {
    "duration": 37,
    "start_time": "2022-11-26T13:09:54.077Z"
   },
   {
    "duration": 31,
    "start_time": "2022-11-26T13:09:54.116Z"
   },
   {
    "duration": 7,
    "start_time": "2022-11-26T13:09:57.893Z"
   },
   {
    "duration": 482,
    "start_time": "2022-11-26T13:10:04.032Z"
   },
   {
    "duration": 24,
    "start_time": "2022-11-26T13:10:04.516Z"
   },
   {
    "duration": 15,
    "start_time": "2022-11-26T13:10:04.542Z"
   },
   {
    "duration": 8,
    "start_time": "2022-11-26T13:10:04.560Z"
   },
   {
    "duration": 52,
    "start_time": "2022-11-26T13:10:04.570Z"
   },
   {
    "duration": 3,
    "start_time": "2022-11-26T13:10:04.624Z"
   },
   {
    "duration": 13,
    "start_time": "2022-11-26T13:10:04.628Z"
   },
   {
    "duration": 4,
    "start_time": "2022-11-26T13:10:04.643Z"
   },
   {
    "duration": 9,
    "start_time": "2022-11-26T13:10:04.648Z"
   },
   {
    "duration": 5,
    "start_time": "2022-11-26T13:10:04.660Z"
   },
   {
    "duration": 60,
    "start_time": "2022-11-26T13:10:04.666Z"
   },
   {
    "duration": 10,
    "start_time": "2022-11-26T13:10:04.727Z"
   },
   {
    "duration": 4,
    "start_time": "2022-11-26T13:10:04.739Z"
   },
   {
    "duration": 15,
    "start_time": "2022-11-26T13:10:04.744Z"
   },
   {
    "duration": 23,
    "start_time": "2022-11-26T13:10:04.761Z"
   },
   {
    "duration": 37,
    "start_time": "2022-11-26T13:10:04.785Z"
   },
   {
    "duration": 4,
    "start_time": "2022-11-26T13:10:04.824Z"
   },
   {
    "duration": 15,
    "start_time": "2022-11-26T13:10:04.830Z"
   },
   {
    "duration": 9,
    "start_time": "2022-11-26T13:10:04.847Z"
   },
   {
    "duration": 4,
    "start_time": "2022-11-26T13:10:04.858Z"
   },
   {
    "duration": 14,
    "start_time": "2022-11-26T13:10:04.864Z"
   },
   {
    "duration": 9,
    "start_time": "2022-11-26T13:10:04.879Z"
   },
   {
    "duration": 33,
    "start_time": "2022-11-26T13:10:04.889Z"
   },
   {
    "duration": 18,
    "start_time": "2022-11-26T13:10:04.924Z"
   },
   {
    "duration": 11,
    "start_time": "2022-11-26T13:10:04.944Z"
   },
   {
    "duration": 6,
    "start_time": "2022-11-26T13:10:13.677Z"
   },
   {
    "duration": 104,
    "start_time": "2022-11-26T13:10:20.446Z"
   },
   {
    "duration": 6,
    "start_time": "2022-11-26T13:10:26.909Z"
   },
   {
    "duration": 5,
    "start_time": "2022-11-26T13:10:33.589Z"
   },
   {
    "duration": 5,
    "start_time": "2022-11-26T13:10:34.965Z"
   },
   {
    "duration": 6,
    "start_time": "2022-11-26T13:10:35.364Z"
   },
   {
    "duration": 5,
    "start_time": "2022-11-26T13:10:35.709Z"
   },
   {
    "duration": 5,
    "start_time": "2022-11-26T13:10:36.036Z"
   },
   {
    "duration": 5,
    "start_time": "2022-11-26T13:10:36.340Z"
   },
   {
    "duration": 7,
    "start_time": "2022-11-26T13:10:36.741Z"
   },
   {
    "duration": 7,
    "start_time": "2022-11-26T13:10:41.357Z"
   },
   {
    "duration": 5,
    "start_time": "2022-11-26T13:10:42.188Z"
   },
   {
    "duration": 5,
    "start_time": "2022-11-26T13:10:42.591Z"
   },
   {
    "duration": 5,
    "start_time": "2022-11-26T13:10:42.749Z"
   },
   {
    "duration": 5,
    "start_time": "2022-11-26T13:10:42.908Z"
   },
   {
    "duration": 81,
    "start_time": "2022-11-26T13:10:53.814Z"
   },
   {
    "duration": 5,
    "start_time": "2022-11-26T13:10:58.485Z"
   },
   {
    "duration": 72,
    "start_time": "2022-11-26T13:11:11.581Z"
   },
   {
    "duration": 13,
    "start_time": "2022-11-26T13:11:14.205Z"
   },
   {
    "duration": 11,
    "start_time": "2022-11-26T13:11:19.196Z"
   },
   {
    "duration": 469,
    "start_time": "2022-11-26T13:11:25.042Z"
   },
   {
    "duration": 25,
    "start_time": "2022-11-26T13:11:25.513Z"
   },
   {
    "duration": 15,
    "start_time": "2022-11-26T13:11:25.540Z"
   },
   {
    "duration": 9,
    "start_time": "2022-11-26T13:11:25.557Z"
   },
   {
    "duration": 57,
    "start_time": "2022-11-26T13:11:25.568Z"
   },
   {
    "duration": 4,
    "start_time": "2022-11-26T13:11:25.627Z"
   },
   {
    "duration": 11,
    "start_time": "2022-11-26T13:11:25.632Z"
   },
   {
    "duration": 14,
    "start_time": "2022-11-26T13:11:25.645Z"
   },
   {
    "duration": 10,
    "start_time": "2022-11-26T13:11:25.661Z"
   },
   {
    "duration": 4,
    "start_time": "2022-11-26T13:11:25.674Z"
   },
   {
    "duration": 54,
    "start_time": "2022-11-26T13:11:25.680Z"
   },
   {
    "duration": 9,
    "start_time": "2022-11-26T13:11:25.736Z"
   },
   {
    "duration": 5,
    "start_time": "2022-11-26T13:11:25.747Z"
   },
   {
    "duration": 13,
    "start_time": "2022-11-26T13:11:25.754Z"
   },
   {
    "duration": 22,
    "start_time": "2022-11-26T13:11:25.769Z"
   },
   {
    "duration": 48,
    "start_time": "2022-11-26T13:11:25.793Z"
   },
   {
    "duration": 5,
    "start_time": "2022-11-26T13:11:25.843Z"
   },
   {
    "duration": 15,
    "start_time": "2022-11-26T13:11:25.850Z"
   },
   {
    "duration": 37,
    "start_time": "2022-11-26T13:11:25.867Z"
   },
   {
    "duration": 4,
    "start_time": "2022-11-26T13:11:25.906Z"
   },
   {
    "duration": 13,
    "start_time": "2022-11-26T13:11:25.912Z"
   },
   {
    "duration": 9,
    "start_time": "2022-11-26T13:11:25.926Z"
   },
   {
    "duration": 7,
    "start_time": "2022-11-26T13:11:25.937Z"
   },
   {
    "duration": 17,
    "start_time": "2022-11-26T13:11:25.946Z"
   },
   {
    "duration": 11,
    "start_time": "2022-11-26T13:11:25.965Z"
   },
   {
    "duration": 12,
    "start_time": "2022-11-26T13:11:31.660Z"
   },
   {
    "duration": 12,
    "start_time": "2022-11-26T13:11:33.996Z"
   },
   {
    "duration": 11,
    "start_time": "2022-11-26T13:11:34.532Z"
   },
   {
    "duration": 11,
    "start_time": "2022-11-26T13:11:34.968Z"
   },
   {
    "duration": 12,
    "start_time": "2022-11-26T13:11:36.276Z"
   },
   {
    "duration": 11,
    "start_time": "2022-11-26T13:11:53.412Z"
   },
   {
    "duration": 11,
    "start_time": "2022-11-26T13:11:57.812Z"
   },
   {
    "duration": 10,
    "start_time": "2022-11-26T13:12:04.725Z"
   },
   {
    "duration": 6,
    "start_time": "2022-11-26T13:12:10.140Z"
   },
   {
    "duration": 10,
    "start_time": "2022-11-26T13:12:12.340Z"
   },
   {
    "duration": 6,
    "start_time": "2022-11-26T13:12:15.805Z"
   },
   {
    "duration": 11,
    "start_time": "2022-11-26T13:12:18.092Z"
   },
   {
    "duration": 63,
    "start_time": "2022-11-26T13:12:25.292Z"
   },
   {
    "duration": 8,
    "start_time": "2022-11-26T13:12:28.803Z"
   },
   {
    "duration": 11,
    "start_time": "2022-11-26T13:12:33.020Z"
   },
   {
    "duration": 6,
    "start_time": "2022-11-26T13:12:34.875Z"
   },
   {
    "duration": 6,
    "start_time": "2022-11-26T13:12:36.884Z"
   },
   {
    "duration": 10,
    "start_time": "2022-11-26T13:12:39.028Z"
   },
   {
    "duration": 6,
    "start_time": "2022-11-26T13:12:47.643Z"
   },
   {
    "duration": 471,
    "start_time": "2022-11-26T13:12:59.331Z"
   },
   {
    "duration": 24,
    "start_time": "2022-11-26T13:12:59.804Z"
   },
   {
    "duration": 16,
    "start_time": "2022-11-26T13:12:59.830Z"
   },
   {
    "duration": 10,
    "start_time": "2022-11-26T13:12:59.849Z"
   },
   {
    "duration": 61,
    "start_time": "2022-11-26T13:12:59.861Z"
   },
   {
    "duration": 3,
    "start_time": "2022-11-26T13:12:59.924Z"
   },
   {
    "duration": 11,
    "start_time": "2022-11-26T13:12:59.929Z"
   },
   {
    "duration": 4,
    "start_time": "2022-11-26T13:12:59.942Z"
   },
   {
    "duration": 9,
    "start_time": "2022-11-26T13:12:59.948Z"
   },
   {
    "duration": 4,
    "start_time": "2022-11-26T13:12:59.959Z"
   },
   {
    "duration": 60,
    "start_time": "2022-11-26T13:12:59.965Z"
   },
   {
    "duration": 10,
    "start_time": "2022-11-26T13:13:00.026Z"
   },
   {
    "duration": 7,
    "start_time": "2022-11-26T13:13:00.038Z"
   },
   {
    "duration": 16,
    "start_time": "2022-11-26T13:13:00.047Z"
   },
   {
    "duration": 32,
    "start_time": "2022-11-26T13:13:00.064Z"
   },
   {
    "duration": 30,
    "start_time": "2022-11-26T13:13:00.098Z"
   },
   {
    "duration": 3,
    "start_time": "2022-11-26T13:13:00.130Z"
   },
   {
    "duration": 16,
    "start_time": "2022-11-26T13:13:00.135Z"
   },
   {
    "duration": 12,
    "start_time": "2022-11-26T13:13:00.153Z"
   },
   {
    "duration": 20,
    "start_time": "2022-11-26T13:13:00.167Z"
   },
   {
    "duration": 36,
    "start_time": "2022-11-26T13:13:00.189Z"
   },
   {
    "duration": 20,
    "start_time": "2022-11-26T13:13:00.227Z"
   },
   {
    "duration": 12,
    "start_time": "2022-11-26T13:13:00.249Z"
   },
   {
    "duration": 39,
    "start_time": "2022-11-26T13:13:00.263Z"
   },
   {
    "duration": 37,
    "start_time": "2022-11-26T13:13:00.304Z"
   },
   {
    "duration": 11,
    "start_time": "2022-11-26T13:13:02.363Z"
   },
   {
    "duration": 12,
    "start_time": "2022-11-26T13:13:02.980Z"
   },
   {
    "duration": 11,
    "start_time": "2022-11-26T13:13:03.435Z"
   },
   {
    "duration": 11,
    "start_time": "2022-11-26T13:13:04.306Z"
   },
   {
    "duration": 86,
    "start_time": "2022-11-26T13:13:53.355Z"
   },
   {
    "duration": 70,
    "start_time": "2022-11-26T13:13:55.355Z"
   },
   {
    "duration": 10,
    "start_time": "2022-11-26T13:14:01.658Z"
   },
   {
    "duration": 11,
    "start_time": "2022-11-26T13:14:06.066Z"
   },
   {
    "duration": 477,
    "start_time": "2022-11-26T13:14:11.098Z"
   },
   {
    "duration": 30,
    "start_time": "2022-11-26T13:14:11.577Z"
   },
   {
    "duration": 18,
    "start_time": "2022-11-26T13:14:11.609Z"
   },
   {
    "duration": 8,
    "start_time": "2022-11-26T13:14:11.629Z"
   },
   {
    "duration": 44,
    "start_time": "2022-11-26T13:14:11.639Z"
   },
   {
    "duration": 3,
    "start_time": "2022-11-26T13:14:11.685Z"
   },
   {
    "duration": 11,
    "start_time": "2022-11-26T13:14:11.690Z"
   },
   {
    "duration": 5,
    "start_time": "2022-11-26T13:14:11.721Z"
   },
   {
    "duration": 11,
    "start_time": "2022-11-26T13:14:11.728Z"
   },
   {
    "duration": 6,
    "start_time": "2022-11-26T13:14:11.741Z"
   },
   {
    "duration": 33,
    "start_time": "2022-11-26T13:14:11.749Z"
   },
   {
    "duration": 10,
    "start_time": "2022-11-26T13:14:11.784Z"
   },
   {
    "duration": 28,
    "start_time": "2022-11-26T13:14:11.796Z"
   },
   {
    "duration": 16,
    "start_time": "2022-11-26T13:14:11.827Z"
   },
   {
    "duration": 27,
    "start_time": "2022-11-26T13:14:11.844Z"
   },
   {
    "duration": 23,
    "start_time": "2022-11-26T13:14:11.876Z"
   },
   {
    "duration": 4,
    "start_time": "2022-11-26T13:14:11.901Z"
   },
   {
    "duration": 10,
    "start_time": "2022-11-26T13:14:11.921Z"
   },
   {
    "duration": 12,
    "start_time": "2022-11-26T13:14:11.933Z"
   },
   {
    "duration": 4,
    "start_time": "2022-11-26T13:14:11.946Z"
   },
   {
    "duration": 12,
    "start_time": "2022-11-26T13:14:11.951Z"
   },
   {
    "duration": 6,
    "start_time": "2022-11-26T13:14:11.964Z"
   },
   {
    "duration": 7,
    "start_time": "2022-11-26T13:14:11.972Z"
   },
   {
    "duration": 95,
    "start_time": "2022-11-26T13:14:11.981Z"
   },
   {
    "duration": 0,
    "start_time": "2022-11-26T13:14:12.077Z"
   },
   {
    "duration": 15,
    "start_time": "2022-11-26T13:14:19.002Z"
   },
   {
    "duration": 10,
    "start_time": "2022-11-26T13:15:46.114Z"
   },
   {
    "duration": 11,
    "start_time": "2022-11-26T13:15:53.370Z"
   },
   {
    "duration": 14,
    "start_time": "2022-11-26T13:16:01.577Z"
   },
   {
    "duration": 422,
    "start_time": "2022-11-26T13:16:12.675Z"
   },
   {
    "duration": 24,
    "start_time": "2022-11-26T13:16:13.099Z"
   },
   {
    "duration": 14,
    "start_time": "2022-11-26T13:16:13.124Z"
   },
   {
    "duration": 9,
    "start_time": "2022-11-26T13:16:13.140Z"
   },
   {
    "duration": 32,
    "start_time": "2022-11-26T13:16:13.151Z"
   },
   {
    "duration": 3,
    "start_time": "2022-11-26T13:16:13.184Z"
   },
   {
    "duration": 34,
    "start_time": "2022-11-26T13:16:13.189Z"
   },
   {
    "duration": 4,
    "start_time": "2022-11-26T13:16:13.225Z"
   },
   {
    "duration": 8,
    "start_time": "2022-11-26T13:16:13.231Z"
   },
   {
    "duration": 5,
    "start_time": "2022-11-26T13:16:13.241Z"
   },
   {
    "duration": 32,
    "start_time": "2022-11-26T13:16:13.248Z"
   },
   {
    "duration": 8,
    "start_time": "2022-11-26T13:16:13.282Z"
   },
   {
    "duration": 31,
    "start_time": "2022-11-26T13:16:13.291Z"
   },
   {
    "duration": 17,
    "start_time": "2022-11-26T13:16:13.324Z"
   },
   {
    "duration": 22,
    "start_time": "2022-11-26T13:16:13.343Z"
   },
   {
    "duration": 16,
    "start_time": "2022-11-26T13:16:13.367Z"
   },
   {
    "duration": 9,
    "start_time": "2022-11-26T13:16:13.385Z"
   },
   {
    "duration": 25,
    "start_time": "2022-11-26T13:16:13.396Z"
   },
   {
    "duration": 7,
    "start_time": "2022-11-26T13:16:13.423Z"
   },
   {
    "duration": 6,
    "start_time": "2022-11-26T13:16:13.432Z"
   },
   {
    "duration": 11,
    "start_time": "2022-11-26T13:16:13.439Z"
   },
   {
    "duration": 8,
    "start_time": "2022-11-26T13:16:13.452Z"
   },
   {
    "duration": 10,
    "start_time": "2022-11-26T13:16:13.462Z"
   },
   {
    "duration": 103,
    "start_time": "2022-11-26T13:16:13.474Z"
   },
   {
    "duration": 0,
    "start_time": "2022-11-26T13:16:13.579Z"
   },
   {
    "duration": 12,
    "start_time": "2022-11-26T13:16:22.814Z"
   },
   {
    "duration": 27,
    "start_time": "2022-11-26T13:16:29.275Z"
   },
   {
    "duration": 19,
    "start_time": "2022-11-26T13:18:20.552Z"
   },
   {
    "duration": 18,
    "start_time": "2022-11-26T13:18:24.770Z"
   },
   {
    "duration": 14,
    "start_time": "2022-11-26T13:18:36.608Z"
   },
   {
    "duration": 15,
    "start_time": "2022-11-26T13:18:51.921Z"
   },
   {
    "duration": 16,
    "start_time": "2022-11-26T13:19:00.360Z"
   },
   {
    "duration": 15,
    "start_time": "2022-11-26T13:19:33.904Z"
   },
   {
    "duration": 507,
    "start_time": "2022-11-26T13:19:43.876Z"
   },
   {
    "duration": 22,
    "start_time": "2022-11-26T13:19:44.385Z"
   },
   {
    "duration": 14,
    "start_time": "2022-11-26T13:19:44.409Z"
   },
   {
    "duration": 10,
    "start_time": "2022-11-26T13:19:44.426Z"
   },
   {
    "duration": 31,
    "start_time": "2022-11-26T13:19:44.438Z"
   },
   {
    "duration": 4,
    "start_time": "2022-11-26T13:19:44.470Z"
   },
   {
    "duration": 13,
    "start_time": "2022-11-26T13:19:44.475Z"
   },
   {
    "duration": 4,
    "start_time": "2022-11-26T13:19:44.490Z"
   },
   {
    "duration": 27,
    "start_time": "2022-11-26T13:19:44.496Z"
   },
   {
    "duration": 6,
    "start_time": "2022-11-26T13:19:44.527Z"
   },
   {
    "duration": 35,
    "start_time": "2022-11-26T13:19:44.534Z"
   },
   {
    "duration": 9,
    "start_time": "2022-11-26T13:19:44.571Z"
   },
   {
    "duration": 3,
    "start_time": "2022-11-26T13:19:44.582Z"
   },
   {
    "duration": 37,
    "start_time": "2022-11-26T13:19:44.587Z"
   },
   {
    "duration": 20,
    "start_time": "2022-11-26T13:19:44.626Z"
   },
   {
    "duration": 18,
    "start_time": "2022-11-26T13:19:44.647Z"
   },
   {
    "duration": 4,
    "start_time": "2022-11-26T13:19:44.667Z"
   },
   {
    "duration": 15,
    "start_time": "2022-11-26T13:19:44.672Z"
   },
   {
    "duration": 5,
    "start_time": "2022-11-26T13:19:44.688Z"
   },
   {
    "duration": 28,
    "start_time": "2022-11-26T13:19:44.695Z"
   },
   {
    "duration": 10,
    "start_time": "2022-11-26T13:19:44.725Z"
   },
   {
    "duration": 8,
    "start_time": "2022-11-26T13:19:44.737Z"
   },
   {
    "duration": 11,
    "start_time": "2022-11-26T13:19:44.747Z"
   },
   {
    "duration": 99,
    "start_time": "2022-11-26T13:19:44.759Z"
   },
   {
    "duration": 0,
    "start_time": "2022-11-26T13:19:44.860Z"
   },
   {
    "duration": 15,
    "start_time": "2022-11-26T13:19:59.523Z"
   },
   {
    "duration": 20,
    "start_time": "2022-11-26T13:20:25.079Z"
   },
   {
    "duration": 28,
    "start_time": "2022-11-26T13:20:28.631Z"
   },
   {
    "duration": 16,
    "start_time": "2022-11-26T13:20:32.584Z"
   },
   {
    "duration": 15,
    "start_time": "2022-11-26T13:20:35.744Z"
   },
   {
    "duration": 21,
    "start_time": "2022-11-26T14:05:52.261Z"
   },
   {
    "duration": 25,
    "start_time": "2022-11-26T14:05:58.132Z"
   },
   {
    "duration": 19,
    "start_time": "2022-11-26T14:06:08.458Z"
   },
   {
    "duration": 32,
    "start_time": "2022-11-26T14:06:10.773Z"
   },
   {
    "duration": 40,
    "start_time": "2022-11-26T14:06:16.517Z"
   },
   {
    "duration": 15,
    "start_time": "2022-11-26T14:06:20.299Z"
   },
   {
    "duration": 20,
    "start_time": "2022-11-26T14:06:56.514Z"
   },
   {
    "duration": 16,
    "start_time": "2022-11-26T14:07:15.162Z"
   },
   {
    "duration": 18,
    "start_time": "2022-11-26T14:07:26.459Z"
   },
   {
    "duration": 16,
    "start_time": "2022-11-26T14:09:43.249Z"
   },
   {
    "duration": 18,
    "start_time": "2022-11-26T14:09:51.768Z"
   },
   {
    "duration": 33,
    "start_time": "2022-11-26T14:10:05.714Z"
   },
   {
    "duration": 505,
    "start_time": "2022-11-26T14:10:23.613Z"
   },
   {
    "duration": 33,
    "start_time": "2022-11-26T14:10:24.121Z"
   },
   {
    "duration": 19,
    "start_time": "2022-11-26T14:10:24.156Z"
   },
   {
    "duration": 14,
    "start_time": "2022-11-26T14:10:24.178Z"
   },
   {
    "duration": 41,
    "start_time": "2022-11-26T14:10:24.222Z"
   },
   {
    "duration": 4,
    "start_time": "2022-11-26T14:10:24.266Z"
   },
   {
    "duration": 17,
    "start_time": "2022-11-26T14:10:24.272Z"
   },
   {
    "duration": 13,
    "start_time": "2022-11-26T14:10:24.291Z"
   },
   {
    "duration": 21,
    "start_time": "2022-11-26T14:10:24.306Z"
   },
   {
    "duration": 5,
    "start_time": "2022-11-26T14:10:24.331Z"
   },
   {
    "duration": 40,
    "start_time": "2022-11-26T14:10:24.337Z"
   },
   {
    "duration": 10,
    "start_time": "2022-11-26T14:10:24.379Z"
   },
   {
    "duration": 5,
    "start_time": "2022-11-26T14:10:24.391Z"
   },
   {
    "duration": 34,
    "start_time": "2022-11-26T14:10:24.398Z"
   },
   {
    "duration": 28,
    "start_time": "2022-11-26T14:10:24.435Z"
   },
   {
    "duration": 19,
    "start_time": "2022-11-26T14:10:24.465Z"
   },
   {
    "duration": 3,
    "start_time": "2022-11-26T14:10:24.486Z"
   },
   {
    "duration": 32,
    "start_time": "2022-11-26T14:10:24.492Z"
   },
   {
    "duration": 9,
    "start_time": "2022-11-26T14:10:24.526Z"
   },
   {
    "duration": 7,
    "start_time": "2022-11-26T14:10:24.536Z"
   },
   {
    "duration": 14,
    "start_time": "2022-11-26T14:10:24.545Z"
   },
   {
    "duration": 15,
    "start_time": "2022-11-26T14:10:24.561Z"
   },
   {
    "duration": 9,
    "start_time": "2022-11-26T14:10:24.577Z"
   },
   {
    "duration": 55,
    "start_time": "2022-11-26T14:10:24.587Z"
   },
   {
    "duration": 20,
    "start_time": "2022-11-26T14:10:24.644Z"
   },
   {
    "duration": 100,
    "start_time": "2022-11-26T14:10:30.888Z"
   },
   {
    "duration": 48,
    "start_time": "2022-11-26T14:10:34.128Z"
   },
   {
    "duration": 20,
    "start_time": "2022-11-26T14:10:42.857Z"
   },
   {
    "duration": 17,
    "start_time": "2022-11-26T14:11:30.799Z"
   },
   {
    "duration": 25,
    "start_time": "2022-11-26T14:12:16.888Z"
   },
   {
    "duration": 30,
    "start_time": "2022-11-26T14:12:31.503Z"
   },
   {
    "duration": 68,
    "start_time": "2022-11-26T14:13:31.839Z"
   },
   {
    "duration": 70,
    "start_time": "2022-11-26T14:13:42.303Z"
   },
   {
    "duration": 81,
    "start_time": "2022-11-26T14:26:50.577Z"
   },
   {
    "duration": 140,
    "start_time": "2022-11-26T14:27:10.657Z"
   },
   {
    "duration": 102,
    "start_time": "2022-11-26T14:27:23.999Z"
   },
   {
    "duration": 73,
    "start_time": "2022-11-26T14:27:50.425Z"
   },
   {
    "duration": 81,
    "start_time": "2022-11-26T14:27:55.295Z"
   },
   {
    "duration": 75,
    "start_time": "2022-11-26T14:28:01.232Z"
   },
   {
    "duration": 114,
    "start_time": "2022-11-26T14:28:15.574Z"
   },
   {
    "duration": 73,
    "start_time": "2022-11-26T14:28:43.287Z"
   },
   {
    "duration": 77,
    "start_time": "2022-11-26T14:28:52.074Z"
   },
   {
    "duration": 77,
    "start_time": "2022-11-26T14:28:56.078Z"
   },
   {
    "duration": 17,
    "start_time": "2022-11-26T14:29:07.047Z"
   },
   {
    "duration": 15,
    "start_time": "2022-11-26T14:29:09.080Z"
   },
   {
    "duration": 27,
    "start_time": "2022-11-26T14:31:50.490Z"
   },
   {
    "duration": 58,
    "start_time": "2022-11-26T14:32:07.913Z"
   },
   {
    "duration": 66,
    "start_time": "2022-11-26T14:32:17.213Z"
   },
   {
    "duration": 68,
    "start_time": "2022-11-26T14:32:52.445Z"
   },
   {
    "duration": 73,
    "start_time": "2022-11-26T14:32:53.777Z"
   },
   {
    "duration": 2,
    "start_time": "2022-11-26T14:37:40.515Z"
   },
   {
    "duration": 494,
    "start_time": "2022-11-26T14:52:08.369Z"
   },
   {
    "duration": 28,
    "start_time": "2022-11-26T14:52:08.865Z"
   },
   {
    "duration": 18,
    "start_time": "2022-11-26T14:52:08.895Z"
   },
   {
    "duration": 46,
    "start_time": "2022-11-26T14:52:08.916Z"
   },
   {
    "duration": 64,
    "start_time": "2022-11-26T14:52:08.964Z"
   },
   {
    "duration": 4,
    "start_time": "2022-11-26T14:52:09.030Z"
   },
   {
    "duration": 14,
    "start_time": "2022-11-26T14:52:09.035Z"
   },
   {
    "duration": 30,
    "start_time": "2022-11-26T14:52:09.055Z"
   },
   {
    "duration": 22,
    "start_time": "2022-11-26T14:52:09.086Z"
   },
   {
    "duration": 10,
    "start_time": "2022-11-26T14:52:09.112Z"
   },
   {
    "duration": 63,
    "start_time": "2022-11-26T14:52:09.123Z"
   },
   {
    "duration": 21,
    "start_time": "2022-11-26T14:52:09.188Z"
   },
   {
    "duration": 7,
    "start_time": "2022-11-26T14:52:09.211Z"
   },
   {
    "duration": 46,
    "start_time": "2022-11-26T14:52:09.220Z"
   },
   {
    "duration": 90,
    "start_time": "2022-11-26T14:52:09.269Z"
   },
   {
    "duration": 21,
    "start_time": "2022-11-26T14:52:09.373Z"
   },
   {
    "duration": 5,
    "start_time": "2022-11-26T14:52:09.397Z"
   },
   {
    "duration": 56,
    "start_time": "2022-11-26T14:52:09.404Z"
   },
   {
    "duration": 34,
    "start_time": "2022-11-26T14:52:09.463Z"
   },
   {
    "duration": 15,
    "start_time": "2022-11-26T14:52:09.499Z"
   },
   {
    "duration": 30,
    "start_time": "2022-11-26T14:52:09.517Z"
   },
   {
    "duration": 33,
    "start_time": "2022-11-26T14:52:09.549Z"
   },
   {
    "duration": 17,
    "start_time": "2022-11-26T14:52:09.584Z"
   },
   {
    "duration": 121,
    "start_time": "2022-11-26T14:52:09.604Z"
   },
   {
    "duration": 5,
    "start_time": "2022-11-26T14:52:09.728Z"
   },
   {
    "duration": 476,
    "start_time": "2022-11-26T14:53:06.973Z"
   },
   {
    "duration": 26,
    "start_time": "2022-11-26T14:53:07.456Z"
   },
   {
    "duration": 18,
    "start_time": "2022-11-26T14:53:07.484Z"
   },
   {
    "duration": 11,
    "start_time": "2022-11-26T14:53:07.504Z"
   },
   {
    "duration": 68,
    "start_time": "2022-11-26T14:53:07.516Z"
   },
   {
    "duration": 3,
    "start_time": "2022-11-26T14:53:07.586Z"
   },
   {
    "duration": 11,
    "start_time": "2022-11-26T14:53:07.591Z"
   },
   {
    "duration": 4,
    "start_time": "2022-11-26T14:53:07.604Z"
   },
   {
    "duration": 9,
    "start_time": "2022-11-26T14:53:07.610Z"
   },
   {
    "duration": 40,
    "start_time": "2022-11-26T14:53:07.622Z"
   },
   {
    "duration": 41,
    "start_time": "2022-11-26T14:53:07.675Z"
   },
   {
    "duration": 12,
    "start_time": "2022-11-26T14:53:07.718Z"
   },
   {
    "duration": 5,
    "start_time": "2022-11-26T14:53:07.732Z"
   },
   {
    "duration": 31,
    "start_time": "2022-11-26T14:53:07.738Z"
   },
   {
    "duration": 35,
    "start_time": "2022-11-26T14:53:07.771Z"
   },
   {
    "duration": 23,
    "start_time": "2022-11-26T14:53:07.808Z"
   },
   {
    "duration": 4,
    "start_time": "2022-11-26T14:53:07.833Z"
   },
   {
    "duration": 53,
    "start_time": "2022-11-26T14:53:07.839Z"
   },
   {
    "duration": 13,
    "start_time": "2022-11-26T14:53:07.894Z"
   },
   {
    "duration": 5,
    "start_time": "2022-11-26T14:53:07.909Z"
   },
   {
    "duration": 22,
    "start_time": "2022-11-26T14:53:07.916Z"
   },
   {
    "duration": 8,
    "start_time": "2022-11-26T14:53:07.940Z"
   },
   {
    "duration": 27,
    "start_time": "2022-11-26T14:53:07.950Z"
   },
   {
    "duration": 92,
    "start_time": "2022-11-26T14:53:07.980Z"
   },
   {
    "duration": 2,
    "start_time": "2022-11-26T14:53:08.074Z"
   },
   {
    "duration": 474,
    "start_time": "2022-11-26T15:03:27.105Z"
   },
   {
    "duration": 23,
    "start_time": "2022-11-26T15:03:27.581Z"
   },
   {
    "duration": 16,
    "start_time": "2022-11-26T15:03:27.606Z"
   },
   {
    "duration": 28,
    "start_time": "2022-11-26T15:03:27.623Z"
   },
   {
    "duration": 41,
    "start_time": "2022-11-26T15:03:27.656Z"
   },
   {
    "duration": 4,
    "start_time": "2022-11-26T15:03:27.698Z"
   },
   {
    "duration": 13,
    "start_time": "2022-11-26T15:03:27.704Z"
   },
   {
    "duration": 4,
    "start_time": "2022-11-26T15:03:27.719Z"
   },
   {
    "duration": 50,
    "start_time": "2022-11-26T15:03:27.725Z"
   },
   {
    "duration": 5,
    "start_time": "2022-11-26T15:03:27.777Z"
   },
   {
    "duration": 55,
    "start_time": "2022-11-26T15:03:27.784Z"
   },
   {
    "duration": 21,
    "start_time": "2022-11-26T15:03:27.841Z"
   },
   {
    "duration": 4,
    "start_time": "2022-11-26T15:03:27.865Z"
   },
   {
    "duration": 13,
    "start_time": "2022-11-26T15:03:27.872Z"
   },
   {
    "duration": 22,
    "start_time": "2022-11-26T15:03:27.886Z"
   },
   {
    "duration": 18,
    "start_time": "2022-11-26T15:03:27.910Z"
   },
   {
    "duration": 4,
    "start_time": "2022-11-26T15:03:27.929Z"
   },
   {
    "duration": 20,
    "start_time": "2022-11-26T15:03:27.950Z"
   },
   {
    "duration": 9,
    "start_time": "2022-11-26T15:03:27.972Z"
   },
   {
    "duration": 8,
    "start_time": "2022-11-26T15:03:27.982Z"
   },
   {
    "duration": 18,
    "start_time": "2022-11-26T15:03:27.992Z"
   },
   {
    "duration": 637,
    "start_time": "2022-11-26T15:03:28.012Z"
   },
   {
    "duration": 8,
    "start_time": "2022-11-26T15:03:28.654Z"
   },
   {
    "duration": 17,
    "start_time": "2022-11-26T15:03:28.664Z"
   },
   {
    "duration": 124,
    "start_time": "2022-11-26T15:03:28.683Z"
   },
   {
    "duration": 2,
    "start_time": "2022-11-26T15:03:28.809Z"
   },
   {
    "duration": 55,
    "start_time": "2022-11-26T20:30:53.124Z"
   },
   {
    "duration": 10,
    "start_time": "2022-11-26T20:32:00.589Z"
   },
   {
    "duration": 11,
    "start_time": "2022-11-26T20:32:07.690Z"
   },
   {
    "duration": 594,
    "start_time": "2022-11-26T20:32:24.943Z"
   },
   {
    "duration": 10,
    "start_time": "2022-11-26T20:32:40.394Z"
   },
   {
    "duration": 770,
    "start_time": "2022-11-26T20:33:04.233Z"
   },
   {
    "duration": 27,
    "start_time": "2022-11-26T20:33:05.006Z"
   },
   {
    "duration": 18,
    "start_time": "2022-11-26T20:33:05.036Z"
   },
   {
    "duration": 23,
    "start_time": "2022-11-26T20:33:05.057Z"
   },
   {
    "duration": 50,
    "start_time": "2022-11-26T20:33:05.082Z"
   },
   {
    "duration": 3,
    "start_time": "2022-11-26T20:33:05.134Z"
   },
   {
    "duration": 15,
    "start_time": "2022-11-26T20:33:05.139Z"
   },
   {
    "duration": 13,
    "start_time": "2022-11-26T20:33:05.155Z"
   },
   {
    "duration": 10,
    "start_time": "2022-11-26T20:33:05.169Z"
   },
   {
    "duration": 5,
    "start_time": "2022-11-26T20:33:05.185Z"
   },
   {
    "duration": 79,
    "start_time": "2022-11-26T20:33:05.192Z"
   },
   {
    "duration": 16,
    "start_time": "2022-11-26T20:33:05.273Z"
   },
   {
    "duration": 4,
    "start_time": "2022-11-26T20:33:05.291Z"
   },
   {
    "duration": 40,
    "start_time": "2022-11-26T20:33:05.297Z"
   },
   {
    "duration": 30,
    "start_time": "2022-11-26T20:33:05.339Z"
   },
   {
    "duration": 25,
    "start_time": "2022-11-26T20:33:05.371Z"
   },
   {
    "duration": 4,
    "start_time": "2022-11-26T20:33:05.398Z"
   },
   {
    "duration": 39,
    "start_time": "2022-11-26T20:33:05.404Z"
   },
   {
    "duration": 16,
    "start_time": "2022-11-26T20:33:05.445Z"
   },
   {
    "duration": 4,
    "start_time": "2022-11-26T20:33:05.463Z"
   },
   {
    "duration": 14,
    "start_time": "2022-11-26T20:33:05.469Z"
   },
   {
    "duration": 590,
    "start_time": "2022-11-26T20:33:05.485Z"
   },
   {
    "duration": 9033,
    "start_time": "2022-11-26T20:33:06.077Z"
   },
   {
    "duration": 0,
    "start_time": "2022-11-26T20:33:15.112Z"
   },
   {
    "duration": 0,
    "start_time": "2022-11-26T20:33:15.114Z"
   },
   {
    "duration": 0,
    "start_time": "2022-11-26T20:33:15.115Z"
   },
   {
    "duration": 76,
    "start_time": "2022-11-26T20:33:47.734Z"
   },
   {
    "duration": 73,
    "start_time": "2022-11-26T20:41:07.899Z"
   },
   {
    "duration": 82,
    "start_time": "2022-11-26T20:41:23.167Z"
   },
   {
    "duration": 95,
    "start_time": "2022-11-26T20:41:33.474Z"
   },
   {
    "duration": 98,
    "start_time": "2022-11-26T20:42:15.714Z"
   },
   {
    "duration": 71,
    "start_time": "2022-11-26T20:42:33.267Z"
   },
   {
    "duration": 98,
    "start_time": "2022-11-26T20:43:05.163Z"
   },
   {
    "duration": 91,
    "start_time": "2022-11-26T20:43:18.867Z"
   },
   {
    "duration": 72,
    "start_time": "2022-11-26T20:43:22.144Z"
   },
   {
    "duration": 129,
    "start_time": "2022-11-26T20:45:14.427Z"
   },
   {
    "duration": 110,
    "start_time": "2022-11-26T20:46:34.616Z"
   },
   {
    "duration": 116,
    "start_time": "2022-11-26T20:47:22.833Z"
   },
   {
    "duration": 84,
    "start_time": "2022-11-26T20:47:32.207Z"
   },
   {
    "duration": 103,
    "start_time": "2022-11-26T20:47:42.440Z"
   },
   {
    "duration": 82,
    "start_time": "2022-11-26T21:04:41.350Z"
   },
   {
    "duration": 77,
    "start_time": "2022-11-26T21:11:12.290Z"
   },
   {
    "duration": 80,
    "start_time": "2022-11-26T21:23:50.935Z"
   },
   {
    "duration": 15,
    "start_time": "2022-11-26T21:23:51.018Z"
   },
   {
    "duration": 27,
    "start_time": "2022-11-26T21:23:51.035Z"
   },
   {
    "duration": 18,
    "start_time": "2022-11-26T21:23:51.065Z"
   },
   {
    "duration": 58,
    "start_time": "2022-11-26T21:23:51.084Z"
   },
   {
    "duration": 4,
    "start_time": "2022-11-26T21:23:51.143Z"
   },
   {
    "duration": 15,
    "start_time": "2022-11-26T21:23:51.150Z"
   },
   {
    "duration": 6,
    "start_time": "2022-11-26T21:23:51.166Z"
   },
   {
    "duration": 8,
    "start_time": "2022-11-26T21:23:51.173Z"
   },
   {
    "duration": 5,
    "start_time": "2022-11-26T21:23:51.185Z"
   },
   {
    "duration": 79,
    "start_time": "2022-11-26T21:23:51.192Z"
   },
   {
    "duration": 13,
    "start_time": "2022-11-26T21:23:51.273Z"
   },
   {
    "duration": 4,
    "start_time": "2022-11-26T21:23:51.288Z"
   },
   {
    "duration": 18,
    "start_time": "2022-11-26T21:23:51.293Z"
   },
   {
    "duration": 41,
    "start_time": "2022-11-26T21:23:51.313Z"
   },
   {
    "duration": 20,
    "start_time": "2022-11-26T21:23:51.357Z"
   },
   {
    "duration": 4,
    "start_time": "2022-11-26T21:23:51.378Z"
   },
   {
    "duration": 16,
    "start_time": "2022-11-26T21:23:51.383Z"
   },
   {
    "duration": 10,
    "start_time": "2022-11-26T21:23:51.400Z"
   },
   {
    "duration": 4,
    "start_time": "2022-11-26T21:23:51.434Z"
   },
   {
    "duration": 13,
    "start_time": "2022-11-26T21:23:51.439Z"
   },
   {
    "duration": 88,
    "start_time": "2022-11-26T21:23:51.454Z"
   },
   {
    "duration": 65,
    "start_time": "2022-11-26T21:23:51.544Z"
   },
   {
    "duration": 92,
    "start_time": "2022-11-26T21:23:51.611Z"
   },
   {
    "duration": 83,
    "start_time": "2022-11-26T21:23:51.705Z"
   },
   {
    "duration": 93,
    "start_time": "2022-11-26T21:23:51.790Z"
   },
   {
    "duration": 500,
    "start_time": "2022-11-26T21:23:59.768Z"
   },
   {
    "duration": 24,
    "start_time": "2022-11-26T21:24:00.271Z"
   },
   {
    "duration": 31,
    "start_time": "2022-11-26T21:24:00.297Z"
   },
   {
    "duration": 23,
    "start_time": "2022-11-26T21:24:00.330Z"
   },
   {
    "duration": 103,
    "start_time": "2022-11-26T21:24:00.356Z"
   },
   {
    "duration": 60,
    "start_time": "2022-11-26T21:24:00.461Z"
   },
   {
    "duration": 60,
    "start_time": "2022-11-26T21:24:00.523Z"
   },
   {
    "duration": 98,
    "start_time": "2022-11-26T21:24:00.585Z"
   },
   {
    "duration": 39,
    "start_time": "2022-11-26T21:24:00.685Z"
   },
   {
    "duration": 41,
    "start_time": "2022-11-26T21:24:00.726Z"
   },
   {
    "duration": 165,
    "start_time": "2022-11-26T21:24:00.769Z"
   },
   {
    "duration": 42,
    "start_time": "2022-11-26T21:24:00.936Z"
   },
   {
    "duration": 85,
    "start_time": "2022-11-26T21:24:00.980Z"
   },
   {
    "duration": 56,
    "start_time": "2022-11-26T21:24:01.070Z"
   },
   {
    "duration": 57,
    "start_time": "2022-11-26T21:24:01.129Z"
   },
   {
    "duration": 18,
    "start_time": "2022-11-26T21:24:01.188Z"
   },
   {
    "duration": 19,
    "start_time": "2022-11-26T21:24:01.208Z"
   },
   {
    "duration": 51,
    "start_time": "2022-11-26T21:24:01.229Z"
   },
   {
    "duration": 14,
    "start_time": "2022-11-26T21:24:01.282Z"
   },
   {
    "duration": 14,
    "start_time": "2022-11-26T21:24:01.298Z"
   },
   {
    "duration": 43,
    "start_time": "2022-11-26T21:24:01.314Z"
   },
   {
    "duration": 552,
    "start_time": "2022-11-26T21:24:01.359Z"
   },
   {
    "duration": 131,
    "start_time": "2022-11-26T21:24:01.913Z"
   },
   {
    "duration": 135,
    "start_time": "2022-11-26T21:24:02.046Z"
   },
   {
    "duration": 88,
    "start_time": "2022-11-26T21:24:02.183Z"
   },
   {
    "duration": 91,
    "start_time": "2022-11-26T21:24:02.273Z"
   },
   {
    "duration": 419,
    "start_time": "2022-11-26T23:15:02.748Z"
   },
   {
    "duration": 21,
    "start_time": "2022-11-26T23:15:03.169Z"
   },
   {
    "duration": 14,
    "start_time": "2022-11-26T23:15:03.191Z"
   },
   {
    "duration": 9,
    "start_time": "2022-11-26T23:15:03.206Z"
   },
   {
    "duration": 30,
    "start_time": "2022-11-26T23:15:03.216Z"
   },
   {
    "duration": 3,
    "start_time": "2022-11-26T23:15:03.247Z"
   },
   {
    "duration": 10,
    "start_time": "2022-11-26T23:15:03.251Z"
   },
   {
    "duration": 7,
    "start_time": "2022-11-26T23:15:03.262Z"
   },
   {
    "duration": 28,
    "start_time": "2022-11-26T23:15:03.270Z"
   },
   {
    "duration": 4,
    "start_time": "2022-11-26T23:15:03.300Z"
   },
   {
    "duration": 31,
    "start_time": "2022-11-26T23:15:03.306Z"
   },
   {
    "duration": 9,
    "start_time": "2022-11-26T23:15:03.338Z"
   },
   {
    "duration": 4,
    "start_time": "2022-11-26T23:15:03.348Z"
   },
   {
    "duration": 12,
    "start_time": "2022-11-26T23:15:03.353Z"
   },
   {
    "duration": 41,
    "start_time": "2022-11-26T23:15:03.366Z"
   },
   {
    "duration": 15,
    "start_time": "2022-11-26T23:15:03.409Z"
   },
   {
    "duration": 3,
    "start_time": "2022-11-26T23:15:03.425Z"
   },
   {
    "duration": 12,
    "start_time": "2022-11-26T23:15:03.429Z"
   },
   {
    "duration": 5,
    "start_time": "2022-11-26T23:15:03.442Z"
   },
   {
    "duration": 6,
    "start_time": "2022-11-26T23:15:03.448Z"
   },
   {
    "duration": 14,
    "start_time": "2022-11-26T23:15:03.456Z"
   },
   {
    "duration": 570,
    "start_time": "2022-11-26T23:15:03.472Z"
   },
   {
    "duration": 94,
    "start_time": "2022-11-26T23:15:04.044Z"
   },
   {
    "duration": 119,
    "start_time": "2022-11-26T23:15:04.140Z"
   },
   {
    "duration": 75,
    "start_time": "2022-11-26T23:15:04.261Z"
   },
   {
    "duration": 78,
    "start_time": "2022-11-26T23:15:04.338Z"
   },
   {
    "duration": 471,
    "start_time": "2022-11-26T23:39:44.989Z"
   },
   {
    "duration": 21,
    "start_time": "2022-11-26T23:39:45.462Z"
   },
   {
    "duration": 17,
    "start_time": "2022-11-26T23:39:45.484Z"
   },
   {
    "duration": 9,
    "start_time": "2022-11-26T23:39:45.503Z"
   },
   {
    "duration": 31,
    "start_time": "2022-11-26T23:39:45.514Z"
   },
   {
    "duration": 3,
    "start_time": "2022-11-26T23:39:45.546Z"
   },
   {
    "duration": 11,
    "start_time": "2022-11-26T23:39:45.550Z"
   },
   {
    "duration": 8,
    "start_time": "2022-11-26T23:39:45.562Z"
   },
   {
    "duration": 26,
    "start_time": "2022-11-26T23:39:45.571Z"
   },
   {
    "duration": 5,
    "start_time": "2022-11-26T23:39:45.598Z"
   },
   {
    "duration": 38,
    "start_time": "2022-11-26T23:39:45.605Z"
   },
   {
    "duration": 9,
    "start_time": "2022-11-26T23:39:45.644Z"
   },
   {
    "duration": 4,
    "start_time": "2022-11-26T23:39:45.654Z"
   },
   {
    "duration": 11,
    "start_time": "2022-11-26T23:39:45.660Z"
   },
   {
    "duration": 44,
    "start_time": "2022-11-26T23:39:45.672Z"
   },
   {
    "duration": 19,
    "start_time": "2022-11-26T23:39:45.717Z"
   },
   {
    "duration": 3,
    "start_time": "2022-11-26T23:39:45.738Z"
   },
   {
    "duration": 13,
    "start_time": "2022-11-26T23:39:45.742Z"
   },
   {
    "duration": 8,
    "start_time": "2022-11-26T23:39:45.757Z"
   },
   {
    "duration": 3,
    "start_time": "2022-11-26T23:39:45.767Z"
   },
   {
    "duration": 30,
    "start_time": "2022-11-26T23:39:45.772Z"
   },
   {
    "duration": 520,
    "start_time": "2022-11-26T23:39:45.804Z"
   },
   {
    "duration": 105,
    "start_time": "2022-11-26T23:39:46.325Z"
   },
   {
    "duration": 113,
    "start_time": "2022-11-26T23:39:46.432Z"
   },
   {
    "duration": 78,
    "start_time": "2022-11-26T23:39:46.547Z"
   },
   {
    "duration": 84,
    "start_time": "2022-11-26T23:39:46.626Z"
   },
   {
    "duration": 699,
    "start_time": "2022-11-27T10:07:02.743Z"
   },
   {
    "duration": 24,
    "start_time": "2022-11-27T10:07:03.444Z"
   },
   {
    "duration": 40,
    "start_time": "2022-11-27T10:07:03.469Z"
   },
   {
    "duration": 11,
    "start_time": "2022-11-27T10:07:03.510Z"
   },
   {
    "duration": 37,
    "start_time": "2022-11-27T10:07:03.523Z"
   },
   {
    "duration": 4,
    "start_time": "2022-11-27T10:07:03.562Z"
   },
   {
    "duration": 13,
    "start_time": "2022-11-27T10:07:03.568Z"
   },
   {
    "duration": 8,
    "start_time": "2022-11-27T10:07:03.583Z"
   },
   {
    "duration": 12,
    "start_time": "2022-11-27T10:07:03.593Z"
   },
   {
    "duration": 5,
    "start_time": "2022-11-27T10:07:03.606Z"
   },
   {
    "duration": 49,
    "start_time": "2022-11-27T10:07:03.613Z"
   },
   {
    "duration": 10,
    "start_time": "2022-11-27T10:07:03.663Z"
   },
   {
    "duration": 6,
    "start_time": "2022-11-27T10:07:03.675Z"
   },
   {
    "duration": 13,
    "start_time": "2022-11-27T10:07:03.683Z"
   },
   {
    "duration": 38,
    "start_time": "2022-11-27T10:07:03.698Z"
   },
   {
    "duration": 17,
    "start_time": "2022-11-27T10:07:03.738Z"
   },
   {
    "duration": 4,
    "start_time": "2022-11-27T10:07:03.756Z"
   },
   {
    "duration": 17,
    "start_time": "2022-11-27T10:07:03.761Z"
   },
   {
    "duration": 12,
    "start_time": "2022-11-27T10:07:03.779Z"
   },
   {
    "duration": 5,
    "start_time": "2022-11-27T10:07:03.793Z"
   },
   {
    "duration": 19,
    "start_time": "2022-11-27T10:07:03.800Z"
   },
   {
    "duration": 636,
    "start_time": "2022-11-27T10:07:03.820Z"
   },
   {
    "duration": 98,
    "start_time": "2022-11-27T10:07:04.458Z"
   },
   {
    "duration": 112,
    "start_time": "2022-11-27T10:07:04.558Z"
   },
   {
    "duration": 81,
    "start_time": "2022-11-27T10:07:04.672Z"
   },
   {
    "duration": 85,
    "start_time": "2022-11-27T10:07:04.755Z"
   },
   {
    "duration": 671,
    "start_time": "2022-11-27T10:38:28.378Z"
   },
   {
    "duration": 22,
    "start_time": "2022-11-27T10:38:29.051Z"
   },
   {
    "duration": 16,
    "start_time": "2022-11-27T10:38:29.075Z"
   },
   {
    "duration": 10,
    "start_time": "2022-11-27T10:38:29.093Z"
   },
   {
    "duration": 47,
    "start_time": "2022-11-27T10:38:29.105Z"
   },
   {
    "duration": 3,
    "start_time": "2022-11-27T10:38:29.154Z"
   },
   {
    "duration": 16,
    "start_time": "2022-11-27T10:38:29.159Z"
   },
   {
    "duration": 8,
    "start_time": "2022-11-27T10:38:29.176Z"
   },
   {
    "duration": 12,
    "start_time": "2022-11-27T10:38:29.185Z"
   },
   {
    "duration": 11,
    "start_time": "2022-11-27T10:38:29.200Z"
   },
   {
    "duration": 48,
    "start_time": "2022-11-27T10:38:29.212Z"
   },
   {
    "duration": 11,
    "start_time": "2022-11-27T10:38:29.262Z"
   },
   {
    "duration": 14,
    "start_time": "2022-11-27T10:38:29.274Z"
   },
   {
    "duration": 20,
    "start_time": "2022-11-27T10:38:29.290Z"
   },
   {
    "duration": 25,
    "start_time": "2022-11-27T10:38:29.312Z"
   },
   {
    "duration": 17,
    "start_time": "2022-11-27T10:38:29.338Z"
   },
   {
    "duration": 3,
    "start_time": "2022-11-27T10:38:29.357Z"
   },
   {
    "duration": 13,
    "start_time": "2022-11-27T10:38:29.362Z"
   },
   {
    "duration": 8,
    "start_time": "2022-11-27T10:38:29.377Z"
   },
   {
    "duration": 6,
    "start_time": "2022-11-27T10:38:29.387Z"
   },
   {
    "duration": 22,
    "start_time": "2022-11-27T10:38:29.394Z"
   },
   {
    "duration": 520,
    "start_time": "2022-11-27T10:38:29.418Z"
   },
   {
    "duration": 124,
    "start_time": "2022-11-27T10:38:29.939Z"
   },
   {
    "duration": 117,
    "start_time": "2022-11-27T10:38:30.066Z"
   },
   {
    "duration": 90,
    "start_time": "2022-11-27T10:38:30.185Z"
   },
   {
    "duration": 86,
    "start_time": "2022-11-27T10:38:30.277Z"
   },
   {
    "duration": 65,
    "start_time": "2022-11-27T10:39:05.859Z"
   },
   {
    "duration": 71,
    "start_time": "2022-11-27T10:40:38.540Z"
   },
   {
    "duration": 65,
    "start_time": "2022-11-27T10:41:01.571Z"
   },
   {
    "duration": 70,
    "start_time": "2022-11-27T10:42:12.219Z"
   },
   {
    "duration": 485,
    "start_time": "2022-11-27T13:24:15.096Z"
   },
   {
    "duration": 20,
    "start_time": "2022-11-27T13:24:15.583Z"
   },
   {
    "duration": 14,
    "start_time": "2022-11-27T13:24:15.605Z"
   },
   {
    "duration": 9,
    "start_time": "2022-11-27T13:24:15.621Z"
   },
   {
    "duration": 53,
    "start_time": "2022-11-27T13:24:15.632Z"
   },
   {
    "duration": 4,
    "start_time": "2022-11-27T13:24:15.686Z"
   },
   {
    "duration": 17,
    "start_time": "2022-11-27T13:24:15.691Z"
   },
   {
    "duration": 6,
    "start_time": "2022-11-27T13:24:15.710Z"
   },
   {
    "duration": 9,
    "start_time": "2022-11-27T13:24:15.717Z"
   },
   {
    "duration": 10,
    "start_time": "2022-11-27T13:24:15.730Z"
   },
   {
    "duration": 49,
    "start_time": "2022-11-27T13:24:15.742Z"
   },
   {
    "duration": 8,
    "start_time": "2022-11-27T13:24:15.793Z"
   },
   {
    "duration": 4,
    "start_time": "2022-11-27T13:24:15.803Z"
   },
   {
    "duration": 13,
    "start_time": "2022-11-27T13:24:15.808Z"
   },
   {
    "duration": 19,
    "start_time": "2022-11-27T13:24:15.822Z"
   },
   {
    "duration": 39,
    "start_time": "2022-11-27T13:24:15.842Z"
   },
   {
    "duration": 3,
    "start_time": "2022-11-27T13:24:15.883Z"
   },
   {
    "duration": 14,
    "start_time": "2022-11-27T13:24:15.888Z"
   },
   {
    "duration": 6,
    "start_time": "2022-11-27T13:24:15.903Z"
   },
   {
    "duration": 7,
    "start_time": "2022-11-27T13:24:15.910Z"
   },
   {
    "duration": 15,
    "start_time": "2022-11-27T13:24:15.918Z"
   },
   {
    "duration": 628,
    "start_time": "2022-11-27T13:24:15.935Z"
   },
   {
    "duration": 127,
    "start_time": "2022-11-27T13:24:16.565Z"
   },
   {
    "duration": 91,
    "start_time": "2022-11-27T13:24:16.693Z"
   },
   {
    "duration": 65,
    "start_time": "2022-11-27T13:24:16.786Z"
   },
   {
    "duration": 91,
    "start_time": "2022-11-27T13:24:16.852Z"
   },
   {
    "duration": 456,
    "start_time": "2022-11-27T14:58:15.559Z"
   },
   {
    "duration": 23,
    "start_time": "2022-11-27T14:58:16.016Z"
   },
   {
    "duration": 13,
    "start_time": "2022-11-27T14:58:16.040Z"
   },
   {
    "duration": 24,
    "start_time": "2022-11-27T14:58:16.055Z"
   },
   {
    "duration": 30,
    "start_time": "2022-11-27T14:58:16.080Z"
   },
   {
    "duration": 3,
    "start_time": "2022-11-27T14:58:16.112Z"
   },
   {
    "duration": 11,
    "start_time": "2022-11-27T14:58:16.116Z"
   },
   {
    "duration": 4,
    "start_time": "2022-11-27T14:58:16.129Z"
   },
   {
    "duration": 8,
    "start_time": "2022-11-27T14:58:16.135Z"
   },
   {
    "duration": 5,
    "start_time": "2022-11-27T14:58:16.146Z"
   },
   {
    "duration": 29,
    "start_time": "2022-11-27T14:58:16.178Z"
   },
   {
    "duration": 8,
    "start_time": "2022-11-27T14:58:16.209Z"
   },
   {
    "duration": 14,
    "start_time": "2022-11-27T14:58:16.219Z"
   },
   {
    "duration": 14,
    "start_time": "2022-11-27T14:58:16.235Z"
   },
   {
    "duration": 32,
    "start_time": "2022-11-27T14:58:16.250Z"
   },
   {
    "duration": 17,
    "start_time": "2022-11-27T14:58:16.284Z"
   },
   {
    "duration": 4,
    "start_time": "2022-11-27T14:58:16.303Z"
   },
   {
    "duration": 14,
    "start_time": "2022-11-27T14:58:16.308Z"
   },
   {
    "duration": 6,
    "start_time": "2022-11-27T14:58:16.323Z"
   },
   {
    "duration": 4,
    "start_time": "2022-11-27T14:58:16.330Z"
   },
   {
    "duration": 11,
    "start_time": "2022-11-27T14:58:16.335Z"
   },
   {
    "duration": 650,
    "start_time": "2022-11-27T14:58:16.347Z"
   },
   {
    "duration": 107,
    "start_time": "2022-11-27T14:58:16.999Z"
   },
   {
    "duration": 98,
    "start_time": "2022-11-27T14:58:17.107Z"
   },
   {
    "duration": 79,
    "start_time": "2022-11-27T14:58:17.207Z"
   },
   {
    "duration": 90,
    "start_time": "2022-11-27T14:58:17.288Z"
   },
   {
    "duration": 43,
    "start_time": "2023-05-21T15:38:16.416Z"
   },
   {
    "duration": 477,
    "start_time": "2023-05-21T15:38:20.926Z"
   },
   {
    "duration": 22,
    "start_time": "2023-05-21T15:38:21.404Z"
   },
   {
    "duration": 13,
    "start_time": "2023-05-21T15:38:21.428Z"
   },
   {
    "duration": 13,
    "start_time": "2023-05-21T15:38:21.443Z"
   },
   {
    "duration": 48,
    "start_time": "2023-05-21T15:38:21.458Z"
   },
   {
    "duration": 4,
    "start_time": "2023-05-21T15:38:21.508Z"
   },
   {
    "duration": 11,
    "start_time": "2023-05-21T15:38:21.514Z"
   },
   {
    "duration": 5,
    "start_time": "2023-05-21T15:38:21.527Z"
   },
   {
    "duration": 9,
    "start_time": "2023-05-21T15:38:21.533Z"
   },
   {
    "duration": 4,
    "start_time": "2023-05-21T15:38:21.545Z"
   },
   {
    "duration": 31,
    "start_time": "2023-05-21T15:38:21.550Z"
   },
   {
    "duration": 10,
    "start_time": "2023-05-21T15:38:21.607Z"
   },
   {
    "duration": 4,
    "start_time": "2023-05-21T15:38:21.619Z"
   },
   {
    "duration": 21,
    "start_time": "2023-05-21T15:38:21.624Z"
   },
   {
    "duration": 30,
    "start_time": "2023-05-21T15:38:21.646Z"
   },
   {
    "duration": 14,
    "start_time": "2023-05-21T15:38:21.678Z"
   },
   {
    "duration": 4,
    "start_time": "2023-05-21T15:38:21.705Z"
   },
   {
    "duration": 19,
    "start_time": "2023-05-21T15:38:21.711Z"
   },
   {
    "duration": 5,
    "start_time": "2023-05-21T15:38:21.732Z"
   },
   {
    "duration": 7,
    "start_time": "2023-05-21T15:38:21.738Z"
   },
   {
    "duration": 9,
    "start_time": "2023-05-21T15:38:21.746Z"
   },
   {
    "duration": 520,
    "start_time": "2023-05-21T15:38:21.756Z"
   },
   {
    "duration": 134,
    "start_time": "2023-05-21T15:38:22.278Z"
   },
   {
    "duration": 96,
    "start_time": "2023-05-21T15:38:22.414Z"
   },
   {
    "duration": 80,
    "start_time": "2023-05-21T15:38:22.512Z"
   },
   {
    "duration": 103,
    "start_time": "2023-05-21T15:38:22.612Z"
   },
   {
    "duration": 11,
    "start_time": "2023-05-21T15:38:50.120Z"
   },
   {
    "duration": 19,
    "start_time": "2023-05-21T15:45:14.866Z"
   },
   {
    "duration": 3,
    "start_time": "2023-05-21T16:02:45.220Z"
   }
  ],
  "colab": {
   "name": "dpp_template_part2.ipynb",
   "provenance": []
  },
  "kernelspec": {
   "display_name": "Python 3 (ipykernel)",
   "language": "python",
   "name": "python3"
  },
  "language_info": {
   "codemirror_mode": {
    "name": "ipython",
    "version": 3
   },
   "file_extension": ".py",
   "mimetype": "text/x-python",
   "name": "python",
   "nbconvert_exporter": "python",
   "pygments_lexer": "ipython3",
   "version": "3.11.3"
  },
  "toc": {
   "base_numbering": 1,
   "nav_menu": {},
   "number_sections": true,
   "sideBar": true,
   "skip_h1_title": true,
   "title_cell": "Table of Contents",
   "title_sidebar": "Contents",
   "toc_cell": false,
   "toc_position": {},
   "toc_section_display": true,
   "toc_window_display": false
  }
 },
 "nbformat": 4,
 "nbformat_minor": 5
}
