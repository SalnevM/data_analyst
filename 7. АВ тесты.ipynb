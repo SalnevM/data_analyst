{
 "cells": [
  {
   "cell_type": "markdown",
   "metadata": {},
   "source": [
    "# Описание проекта\n",
    "\n",
    "Компания занимается продажей продуктов питания через мобильное приложение, и нам необходимо изучить поведение пользователей приложения. Для этого нам нужно проанализировать воронку продаж, чтобы понять, как пользователи доходят до покупки, и сколько из них застревает на предыдущих этапах. После этого мы проведем A/A/B-тест, чтобы определить, какой шрифт лучше подходит для нашего приложения.\n",
    "\n",
    "Также, нам необходимо создать две контрольные группы с разными шрифтами и одну экспериментальную группу. Это поможет обеспечить точность тестирования и выявить факторы, которые могут повлиять на результаты. Сравнение контрольных групп также позволит оценить необходимое время и объем данных для дальнейших тестов.\n",
    "\n",
    "Важно помнить, что в реальных проектах всегда проводятся эксперименты, и аналитики должны учитывать данные из всех источников для анализа качества работы приложения.\n",
    "\n",
    "Описание данных\n",
    "* Каждая запись в логе — это действие пользователя, или событие. \n",
    "* EventName — название события;\n",
    "* DeviceIDHash — уникальный идентификатор пользователя;\n",
    "* EventTimestamp — время события;\n",
    "* ExpId — номер эксперимента: 246 и 247 — контрольные группы, а 248 — экспериментальная."
   ]
  },
  {
   "cell_type": "markdown",
   "metadata": {},
   "source": [
    "## Открытие файла с данными и изучение общей информации"
   ]
  },
  {
   "cell_type": "code",
   "execution_count": 1,
   "metadata": {},
   "outputs": [],
   "source": [
    "#подключим все необходимые бибилотеки для исследования\n",
    "import pandas as pd\n",
    "import matplotlib.pyplot as plt \n",
    "import seaborn as sns\n",
    "import re\n",
    "import warnings\n",
    "warnings.filterwarnings(\"ignore\") \n",
    "from scipy import stats as st\n",
    "import math as mth\n",
    "import numpy as np\n",
    "import plotly.express as px"
   ]
  },
  {
   "cell_type": "code",
   "execution_count": 2,
   "metadata": {},
   "outputs": [],
   "source": [
    "#загрузим датасет\n",
    "try:\n",
    "    data_logs = pd.read_csv('logs_exp.csv', sep = '\\t')\n",
    "except FileNotFoundError:\n",
    "    data_logs = pd.read_csv('/datasets/logs_exp.csv', sep = '\\t')"
   ]
  },
  {
   "cell_type": "code",
   "execution_count": 3,
   "metadata": {},
   "outputs": [
    {
     "name": "stdout",
     "output_type": "stream",
     "text": [
      "<class 'pandas.core.frame.DataFrame'>\n",
      "RangeIndex: 244126 entries, 0 to 244125\n",
      "Data columns (total 4 columns):\n",
      " #   Column          Non-Null Count   Dtype \n",
      "---  ------          --------------   ----- \n",
      " 0   EventName       244126 non-null  object\n",
      " 1   DeviceIDHash    244126 non-null  int64 \n",
      " 2   EventTimestamp  244126 non-null  int64 \n",
      " 3   ExpId           244126 non-null  int64 \n",
      "dtypes: int64(3), object(1)\n",
      "memory usage: 7.5+ MB\n"
     ]
    }
   ],
   "source": [
    "#просмотрим данные\n",
    "data_logs.info()"
   ]
  },
  {
   "cell_type": "code",
   "execution_count": 4,
   "metadata": {
    "scrolled": true
   },
   "outputs": [
    {
     "data": {
      "text/html": [
       "<div>\n",
       "<style scoped>\n",
       "    .dataframe tbody tr th:only-of-type {\n",
       "        vertical-align: middle;\n",
       "    }\n",
       "\n",
       "    .dataframe tbody tr th {\n",
       "        vertical-align: top;\n",
       "    }\n",
       "\n",
       "    .dataframe thead th {\n",
       "        text-align: right;\n",
       "    }\n",
       "</style>\n",
       "<table border=\"1\" class=\"dataframe\">\n",
       "  <thead>\n",
       "    <tr style=\"text-align: right;\">\n",
       "      <th></th>\n",
       "      <th>EventName</th>\n",
       "      <th>DeviceIDHash</th>\n",
       "      <th>EventTimestamp</th>\n",
       "      <th>ExpId</th>\n",
       "    </tr>\n",
       "  </thead>\n",
       "  <tbody>\n",
       "    <tr>\n",
       "      <th>0</th>\n",
       "      <td>MainScreenAppear</td>\n",
       "      <td>4575588528974610257</td>\n",
       "      <td>1564029816</td>\n",
       "      <td>246</td>\n",
       "    </tr>\n",
       "    <tr>\n",
       "      <th>1</th>\n",
       "      <td>MainScreenAppear</td>\n",
       "      <td>7416695313311560658</td>\n",
       "      <td>1564053102</td>\n",
       "      <td>246</td>\n",
       "    </tr>\n",
       "    <tr>\n",
       "      <th>2</th>\n",
       "      <td>PaymentScreenSuccessful</td>\n",
       "      <td>3518123091307005509</td>\n",
       "      <td>1564054127</td>\n",
       "      <td>248</td>\n",
       "    </tr>\n",
       "    <tr>\n",
       "      <th>3</th>\n",
       "      <td>CartScreenAppear</td>\n",
       "      <td>3518123091307005509</td>\n",
       "      <td>1564054127</td>\n",
       "      <td>248</td>\n",
       "    </tr>\n",
       "    <tr>\n",
       "      <th>4</th>\n",
       "      <td>PaymentScreenSuccessful</td>\n",
       "      <td>6217807653094995999</td>\n",
       "      <td>1564055322</td>\n",
       "      <td>248</td>\n",
       "    </tr>\n",
       "  </tbody>\n",
       "</table>\n",
       "</div>"
      ],
      "text/plain": [
       "                 EventName         DeviceIDHash  EventTimestamp  ExpId\n",
       "0         MainScreenAppear  4575588528974610257      1564029816    246\n",
       "1         MainScreenAppear  7416695313311560658      1564053102    246\n",
       "2  PaymentScreenSuccessful  3518123091307005509      1564054127    248\n",
       "3         CartScreenAppear  3518123091307005509      1564054127    248\n",
       "4  PaymentScreenSuccessful  6217807653094995999      1564055322    248"
      ]
     },
     "execution_count": 4,
     "metadata": {},
     "output_type": "execute_result"
    }
   ],
   "source": [
    "data_logs.head()"
   ]
  },
  {
   "cell_type": "markdown",
   "metadata": {},
   "source": [
    "## Подготовка данных\n",
    "### Изменение названия столбцов с данными"
   ]
  },
  {
   "cell_type": "code",
   "execution_count": 5,
   "metadata": {},
   "outputs": [],
   "source": [
    "#Чтобы часть столбцов в дальнейшем не скрывалась, настроим принудительное отображение\n",
    "pd.set_option('max_colwidth', 200)"
   ]
  },
  {
   "cell_type": "code",
   "execution_count": 6,
   "metadata": {},
   "outputs": [
    {
     "data": {
      "text/plain": [
       "['event_name', 'device_id_hash', 'event_timestamp', 'exp_id']"
      ]
     },
     "execution_count": 6,
     "metadata": {},
     "output_type": "execute_result"
    }
   ],
   "source": [
    "#изменим названия столбцов на более удобные и привычные для чтения\n",
    "data_logs.columns = ['event_name', 'device_id_hash', 'event_timestamp', 'exp_id']\n",
    "#проверим названия столбцов\n",
    "data_logs.columns.to_list()"
   ]
  },
  {
   "cell_type": "markdown",
   "metadata": {},
   "source": [
    "### Проверка пропусков и типов данных"
   ]
  },
  {
   "cell_type": "code",
   "execution_count": 7,
   "metadata": {
    "scrolled": true
   },
   "outputs": [
    {
     "data": {
      "text/plain": [
       "413"
      ]
     },
     "execution_count": 7,
     "metadata": {},
     "output_type": "execute_result"
    }
   ],
   "source": [
    "#проверим данные на дубликаты\n",
    "data_logs.duplicated().sum()"
   ]
  },
  {
   "cell_type": "code",
   "execution_count": 8,
   "metadata": {},
   "outputs": [],
   "source": [
    "#удалим дубликаты\n",
    "data_logs = data_logs.drop_duplicates().reset_index(drop=True)"
   ]
  },
  {
   "cell_type": "code",
   "execution_count": 9,
   "metadata": {},
   "outputs": [
    {
     "name": "stdout",
     "output_type": "stream",
     "text": [
      "MainScreenAppear           119101\n",
      "OffersScreenAppear          46808\n",
      "CartScreenAppear            42668\n",
      "PaymentScreenSuccessful     34118\n",
      "Tutorial                     1018\n",
      "Name: event_name, dtype: int64\n"
     ]
    }
   ],
   "source": [
    "#просмотрим все уникальные значения в столбце event_name\n",
    "print(data_logs['event_name'].value_counts())"
   ]
  },
  {
   "cell_type": "code",
   "execution_count": 10,
   "metadata": {},
   "outputs": [
    {
     "data": {
      "text/plain": [
       "243713"
      ]
     },
     "execution_count": 10,
     "metadata": {},
     "output_type": "execute_result"
    }
   ],
   "source": [
    "#найдем все строки с пропусками\n",
    "data_logs['event_name'].isna().count()"
   ]
  },
  {
   "cell_type": "code",
   "execution_count": 11,
   "metadata": {},
   "outputs": [
    {
     "data": {
      "text/plain": [
       "243713"
      ]
     },
     "execution_count": 11,
     "metadata": {},
     "output_type": "execute_result"
    }
   ],
   "source": [
    "#и сравним с общим количеством строк\n",
    "data_logs['event_name'].count()"
   ]
  },
  {
   "cell_type": "markdown",
   "metadata": {},
   "source": [
    "Пропусков нет"
   ]
  },
  {
   "cell_type": "markdown",
   "metadata": {},
   "source": [
    "### Добавление столбца даты и времени. Добавление отдельного столбца дат"
   ]
  },
  {
   "cell_type": "code",
   "execution_count": 12,
   "metadata": {},
   "outputs": [
    {
     "data": {
      "text/html": [
       "<div>\n",
       "<style scoped>\n",
       "    .dataframe tbody tr th:only-of-type {\n",
       "        vertical-align: middle;\n",
       "    }\n",
       "\n",
       "    .dataframe tbody tr th {\n",
       "        vertical-align: top;\n",
       "    }\n",
       "\n",
       "    .dataframe thead th {\n",
       "        text-align: right;\n",
       "    }\n",
       "</style>\n",
       "<table border=\"1\" class=\"dataframe\">\n",
       "  <thead>\n",
       "    <tr style=\"text-align: right;\">\n",
       "      <th></th>\n",
       "      <th>event_name</th>\n",
       "      <th>device_id_hash</th>\n",
       "      <th>event_timestamp</th>\n",
       "      <th>exp_id</th>\n",
       "      <th>datetime</th>\n",
       "      <th>date</th>\n",
       "    </tr>\n",
       "  </thead>\n",
       "  <tbody>\n",
       "    <tr>\n",
       "      <th>0</th>\n",
       "      <td>MainScreenAppear</td>\n",
       "      <td>4575588528974610257</td>\n",
       "      <td>1564029816</td>\n",
       "      <td>246</td>\n",
       "      <td>2019-07-25 04:43:36</td>\n",
       "      <td>2019-07-25</td>\n",
       "    </tr>\n",
       "    <tr>\n",
       "      <th>1</th>\n",
       "      <td>MainScreenAppear</td>\n",
       "      <td>7416695313311560658</td>\n",
       "      <td>1564053102</td>\n",
       "      <td>246</td>\n",
       "      <td>2019-07-25 11:11:42</td>\n",
       "      <td>2019-07-25</td>\n",
       "    </tr>\n",
       "    <tr>\n",
       "      <th>2</th>\n",
       "      <td>PaymentScreenSuccessful</td>\n",
       "      <td>3518123091307005509</td>\n",
       "      <td>1564054127</td>\n",
       "      <td>248</td>\n",
       "      <td>2019-07-25 11:28:47</td>\n",
       "      <td>2019-07-25</td>\n",
       "    </tr>\n",
       "    <tr>\n",
       "      <th>3</th>\n",
       "      <td>CartScreenAppear</td>\n",
       "      <td>3518123091307005509</td>\n",
       "      <td>1564054127</td>\n",
       "      <td>248</td>\n",
       "      <td>2019-07-25 11:28:47</td>\n",
       "      <td>2019-07-25</td>\n",
       "    </tr>\n",
       "    <tr>\n",
       "      <th>4</th>\n",
       "      <td>PaymentScreenSuccessful</td>\n",
       "      <td>6217807653094995999</td>\n",
       "      <td>1564055322</td>\n",
       "      <td>248</td>\n",
       "      <td>2019-07-25 11:48:42</td>\n",
       "      <td>2019-07-25</td>\n",
       "    </tr>\n",
       "  </tbody>\n",
       "</table>\n",
       "</div>"
      ],
      "text/plain": [
       "                event_name       device_id_hash  event_timestamp  exp_id  \\\n",
       "0         MainScreenAppear  4575588528974610257       1564029816     246   \n",
       "1         MainScreenAppear  7416695313311560658       1564053102     246   \n",
       "2  PaymentScreenSuccessful  3518123091307005509       1564054127     248   \n",
       "3         CartScreenAppear  3518123091307005509       1564054127     248   \n",
       "4  PaymentScreenSuccessful  6217807653094995999       1564055322     248   \n",
       "\n",
       "             datetime        date  \n",
       "0 2019-07-25 04:43:36  2019-07-25  \n",
       "1 2019-07-25 11:11:42  2019-07-25  \n",
       "2 2019-07-25 11:28:47  2019-07-25  \n",
       "3 2019-07-25 11:28:47  2019-07-25  \n",
       "4 2019-07-25 11:48:42  2019-07-25  "
      ]
     },
     "execution_count": 12,
     "metadata": {},
     "output_type": "execute_result"
    }
   ],
   "source": [
    "#добавим столбец с датой и временем,а также отдельный столбец только с датой\n",
    "data_logs['datetime'] = pd.to_datetime(data_logs['event_timestamp'], unit = 's')\n",
    "#параметр unit=s сообщает, что нужно перевести время с точностью до секунды\n",
    "data_logs['date'] = pd.to_datetime(data_logs['datetime']).dt.date\n",
    "data_logs.head()"
   ]
  },
  {
   "cell_type": "markdown",
   "metadata": {},
   "source": [
    "## Изучение и проверка данных"
   ]
  },
  {
   "cell_type": "markdown",
   "metadata": {},
   "source": [
    "### Количество событий в логе"
   ]
  },
  {
   "cell_type": "code",
   "execution_count": 13,
   "metadata": {},
   "outputs": [
    {
     "name": "stdout",
     "output_type": "stream",
     "text": [
      "Количество событий в логе:  243713\n"
     ]
    }
   ],
   "source": [
    "print('Количество событий в логе: ', data_logs['event_name'].count())"
   ]
  },
  {
   "cell_type": "markdown",
   "metadata": {},
   "source": [
    "### Количество пользователей в логе"
   ]
  },
  {
   "cell_type": "code",
   "execution_count": 14,
   "metadata": {},
   "outputs": [
    {
     "name": "stdout",
     "output_type": "stream",
     "text": [
      "Количество пользователей в логе:  7551\n"
     ]
    }
   ],
   "source": [
    "print('Количество пользователей в логе: ', data_logs['device_id_hash'].nunique())"
   ]
  },
  {
   "cell_type": "markdown",
   "metadata": {},
   "source": [
    "### Среднее количество событий на пользователя"
   ]
  },
  {
   "cell_type": "code",
   "execution_count": 15,
   "metadata": {},
   "outputs": [
    {
     "name": "stdout",
     "output_type": "stream",
     "text": [
      "Среднее количество событий на пользователя:  20.0\n"
     ]
    }
   ],
   "source": [
    "print('Среднее количество событий на пользователя: ', data_logs.groupby('device_id_hash')['event_name'].agg('count').median())"
   ]
  },
  {
   "cell_type": "markdown",
   "metadata": {},
   "source": [
    "### Определение периода данных: минимальная и максимальая дата"
   ]
  },
  {
   "cell_type": "code",
   "execution_count": 16,
   "metadata": {},
   "outputs": [
    {
     "name": "stdout",
     "output_type": "stream",
     "text": [
      "В логах содержатся данные за период: с 2019-07-25 04:43:36 по 2019-08-07 21:15:17.\n"
     ]
    }
   ],
   "source": [
    "print('В логах содержатся данные за период: с {} по {}.'.format(data_logs['datetime'].min(), data_logs['datetime'].max()))"
   ]
  },
  {
   "cell_type": "code",
   "execution_count": 17,
   "metadata": {
    "scrolled": false
   },
   "outputs": [
    {
     "data": {
      "image/png": "[encoded data removed]",
      "text/plain": [
       "<Figure size 1080x3600 with 1 Axes>"
      ]
     },
     "metadata": {
      "needs_background": "light"
     },
     "output_type": "display_data"
    }
   ],
   "source": [
    "#гистограмма по дате и времени\n",
    "plt.figure(figsize=(15,50))\n",
    "hist = sns.countplot(y=data_logs['datetime'].dt.strftime('%Y-%m-%d %H'), hue='event_name', data=data_logs, dodge=False)\n",
    "hist.set_title('Количество событий совершенных пользователями');"
   ]
  },
  {
   "cell_type": "markdown",
   "metadata": {},
   "source": [
    "Можно ли быть уверенным, что у вас одинаково полные данные за весь период? Нет\n",
    "\n",
    "Глядя на построенную гистограмму по дате и времени, мы видим, что одинаково полные данные есть только за период с 31 июля 2019 21:00 по 07 августа 2019 года 21:00. Построим новую гистограмму, отбросив более старые данные"
   ]
  },
  {
   "cell_type": "code",
   "execution_count": 18,
   "metadata": {
    "scrolled": false
   },
   "outputs": [
    {
     "data": {
      "text/plain": [
       "Text(0.5, 1.0, 'Количество событий совершенных пользователями')"
      ]
     },
     "execution_count": 18,
     "metadata": {},
     "output_type": "execute_result"
    },
    {
     "data": {
      "image/png": "[encoded data removed]",
      "text/plain": [
       "<Figure size 1080x3600 with 1 Axes>"
      ]
     },
     "metadata": {
      "needs_background": "light"
     },
     "output_type": "display_data"
    }
   ],
   "source": [
    "data_logs_clear = data_logs['2019-07-31 21:00' <= data_logs['datetime']]\n",
    "plt.figure(figsize=(15,50))\n",
    "hist = sns.countplot(y=data_logs_clear['datetime'].dt.strftime('%Y-%m-%d %H'), hue='event_name', data=data_logs, dodge=False)\n",
    "hist.set_title('Количество событий совершенных пользователями')"
   ]
  },
  {
   "cell_type": "markdown",
   "metadata": {},
   "source": [
    "### Определим, много ли событий и пользователей мы потеряли, отбросив старые данные"
   ]
  },
  {
   "cell_type": "code",
   "execution_count": 19,
   "metadata": {},
   "outputs": [
    {
     "name": "stdout",
     "output_type": "stream",
     "text": [
      "Количество событий после чистки данных: 241724 ; процент событий от первоначальных данных: 99.18\n",
      "Количество пользователей после чистки данных: 7538 ; процент пользователей от первоначальных данных: 99.83\n"
     ]
    }
   ],
   "source": [
    "print('Количество событий после чистки данных:', len(data_logs_clear['event_name']), '; процент событий от первоначальных данных:',\n",
    "      round(len(data_logs_clear['event_name'])/len(data_logs['event_name'])*100,2))\n",
    "print('Количество пользователей после чистки данных:', len(data_logs_clear['device_id_hash'].unique()), '; процент пользователей от первоначальных данных:',\n",
    "      round(data_logs_clear['device_id_hash'].nunique()/data_logs['device_id_hash'].nunique()*100,2))"
   ]
  },
  {
   "cell_type": "markdown",
   "metadata": {},
   "source": [
    "Делаем вывод, что у нас потеряно менее 1% данных с событями и около 0,17% данных с пользователями"
   ]
  },
  {
   "cell_type": "markdown",
   "metadata": {},
   "source": [
    "### Проверка наличия всех пользователей во всех группах"
   ]
  },
  {
   "cell_type": "code",
   "execution_count": 20,
   "metadata": {},
   "outputs": [
    {
     "data": {
      "text/plain": [
       "array([247, 248, 246])"
      ]
     },
     "execution_count": 20,
     "metadata": {},
     "output_type": "execute_result"
    }
   ],
   "source": [
    "data_logs_clear['exp_id'].unique()"
   ]
  },
  {
   "cell_type": "markdown",
   "metadata": {},
   "source": [
    "Все три группы остались в данных"
   ]
  },
  {
   "cell_type": "markdown",
   "metadata": {},
   "source": [
    "В имюещемся логе содержится 243713 событий. Пользователи их совершавшие 7551. В среднем на одного пользователя приходится 20 событий. Логи сдожержат данные за период с 2019-07-25 04:43:36 по 2019-08-07 21:15:17. Построив график по всем событиям, мы видим, что одинаково полные данные есть только за период с 31 июля 2019 21:00 по 07 августа 2019 года 21:00. Произвели отбор данных с 31 июля 2019 21:00 для дальнейшего анализа данных. Также, после урезания объема данных было установлено, что количество событий после чистки сократилось на 0,72%, а пользователей на 0,17%. Все пользователи сохранились во всех группах"
   ]
  },
  {
   "cell_type": "markdown",
   "metadata": {},
   "source": [
    "## Изучение результатов эксперимента"
   ]
  },
  {
   "cell_type": "markdown",
   "metadata": {},
   "source": [
    "### Какие события есть в логах и как часто они встречаются"
   ]
  },
  {
   "cell_type": "code",
   "execution_count": 21,
   "metadata": {},
   "outputs": [
    {
     "data": {
      "text/html": [
       "<div>\n",
       "<style scoped>\n",
       "    .dataframe tbody tr th:only-of-type {\n",
       "        vertical-align: middle;\n",
       "    }\n",
       "\n",
       "    .dataframe tbody tr th {\n",
       "        vertical-align: top;\n",
       "    }\n",
       "\n",
       "    .dataframe thead th {\n",
       "        text-align: right;\n",
       "    }\n",
       "</style>\n",
       "<table border=\"1\" class=\"dataframe\">\n",
       "  <thead>\n",
       "    <tr style=\"text-align: right;\">\n",
       "      <th></th>\n",
       "      <th>event_name</th>\n",
       "      <th>event_count</th>\n",
       "    </tr>\n",
       "  </thead>\n",
       "  <tbody>\n",
       "    <tr>\n",
       "      <th>0</th>\n",
       "      <td>MainScreenAppear</td>\n",
       "      <td>117889</td>\n",
       "    </tr>\n",
       "    <tr>\n",
       "      <th>1</th>\n",
       "      <td>OffersScreenAppear</td>\n",
       "      <td>46531</td>\n",
       "    </tr>\n",
       "    <tr>\n",
       "      <th>2</th>\n",
       "      <td>CartScreenAppear</td>\n",
       "      <td>42343</td>\n",
       "    </tr>\n",
       "    <tr>\n",
       "      <th>3</th>\n",
       "      <td>PaymentScreenSuccessful</td>\n",
       "      <td>33951</td>\n",
       "    </tr>\n",
       "    <tr>\n",
       "      <th>4</th>\n",
       "      <td>Tutorial</td>\n",
       "      <td>1010</td>\n",
       "    </tr>\n",
       "  </tbody>\n",
       "</table>\n",
       "</div>"
      ],
      "text/plain": [
       "                event_name  event_count\n",
       "0         MainScreenAppear       117889\n",
       "1       OffersScreenAppear        46531\n",
       "2         CartScreenAppear        42343\n",
       "3  PaymentScreenSuccessful        33951\n",
       "4                 Tutorial         1010"
      ]
     },
     "execution_count": 21,
     "metadata": {},
     "output_type": "execute_result"
    }
   ],
   "source": [
    "#сгруппируем данные по названию события и посчитаем их количество\n",
    "funnel = (\n",
    "    data_logs_clear.groupby(['event_name']).agg({'event_name':'count'})\n",
    "    .rename(columns={'event_name':'event_count'})\n",
    "    .sort_values(by='event_count', ascending = False)\n",
    "    .reset_index()\n",
    "        )\n",
    "funnel.head()"
   ]
  },
  {
   "cell_type": "markdown",
   "metadata": {},
   "source": [
    "### Сколько пользователей совершали каждое из этих событий. Расчет доли пользователей"
   ]
  },
  {
   "cell_type": "code",
   "execution_count": 22,
   "metadata": {},
   "outputs": [
    {
     "data": {
      "text/html": [
       "<div>\n",
       "<style scoped>\n",
       "    .dataframe tbody tr th:only-of-type {\n",
       "        vertical-align: middle;\n",
       "    }\n",
       "\n",
       "    .dataframe tbody tr th {\n",
       "        vertical-align: top;\n",
       "    }\n",
       "\n",
       "    .dataframe thead th {\n",
       "        text-align: right;\n",
       "    }\n",
       "</style>\n",
       "<table border=\"1\" class=\"dataframe\">\n",
       "  <thead>\n",
       "    <tr style=\"text-align: right;\">\n",
       "      <th></th>\n",
       "      <th>event_name</th>\n",
       "      <th>event_count</th>\n",
       "      <th>user_count</th>\n",
       "    </tr>\n",
       "  </thead>\n",
       "  <tbody>\n",
       "    <tr>\n",
       "      <th>0</th>\n",
       "      <td>MainScreenAppear</td>\n",
       "      <td>117889</td>\n",
       "      <td>7423</td>\n",
       "    </tr>\n",
       "    <tr>\n",
       "      <th>1</th>\n",
       "      <td>OffersScreenAppear</td>\n",
       "      <td>46531</td>\n",
       "      <td>4597</td>\n",
       "    </tr>\n",
       "    <tr>\n",
       "      <th>2</th>\n",
       "      <td>CartScreenAppear</td>\n",
       "      <td>42343</td>\n",
       "      <td>3736</td>\n",
       "    </tr>\n",
       "    <tr>\n",
       "      <th>3</th>\n",
       "      <td>PaymentScreenSuccessful</td>\n",
       "      <td>33951</td>\n",
       "      <td>3540</td>\n",
       "    </tr>\n",
       "    <tr>\n",
       "      <th>4</th>\n",
       "      <td>Tutorial</td>\n",
       "      <td>1010</td>\n",
       "      <td>843</td>\n",
       "    </tr>\n",
       "  </tbody>\n",
       "</table>\n",
       "</div>"
      ],
      "text/plain": [
       "                event_name  event_count  user_count\n",
       "0         MainScreenAppear       117889        7423\n",
       "1       OffersScreenAppear        46531        4597\n",
       "2         CartScreenAppear        42343        3736\n",
       "3  PaymentScreenSuccessful        33951        3540\n",
       "4                 Tutorial         1010         843"
      ]
     },
     "execution_count": 22,
     "metadata": {},
     "output_type": "execute_result"
    }
   ],
   "source": [
    "#рассчитаем количество пользователей совершивших каждое событие(пользователеи которые дошли до последнего события - покупки)\n",
    "funnel = (\n",
    "    data_logs_clear.groupby(['event_name']).agg({'event_name':'count', 'device_id_hash': 'nunique'})\n",
    "    .rename(columns={'event_name':'event_count', 'device_id_hash':'user_count'})\n",
    "    .sort_values(by='event_count', ascending = False)\n",
    "    .reset_index()\n",
    "              )\n",
    "funnel.head()"
   ]
  },
  {
   "cell_type": "code",
   "execution_count": 23,
   "metadata": {},
   "outputs": [
    {
     "data": {
      "text/html": [
       "<div>\n",
       "<style scoped>\n",
       "    .dataframe tbody tr th:only-of-type {\n",
       "        vertical-align: middle;\n",
       "    }\n",
       "\n",
       "    .dataframe tbody tr th {\n",
       "        vertical-align: top;\n",
       "    }\n",
       "\n",
       "    .dataframe thead th {\n",
       "        text-align: right;\n",
       "    }\n",
       "</style>\n",
       "<table border=\"1\" class=\"dataframe\">\n",
       "  <thead>\n",
       "    <tr style=\"text-align: right;\">\n",
       "      <th></th>\n",
       "      <th>event_name</th>\n",
       "      <th>event_count</th>\n",
       "      <th>user_count</th>\n",
       "      <th>converse</th>\n",
       "    </tr>\n",
       "  </thead>\n",
       "  <tbody>\n",
       "    <tr>\n",
       "      <th>0</th>\n",
       "      <td>MainScreenAppear</td>\n",
       "      <td>117889</td>\n",
       "      <td>7423</td>\n",
       "      <td>98.47</td>\n",
       "    </tr>\n",
       "    <tr>\n",
       "      <th>1</th>\n",
       "      <td>OffersScreenAppear</td>\n",
       "      <td>46531</td>\n",
       "      <td>4597</td>\n",
       "      <td>60.98</td>\n",
       "    </tr>\n",
       "    <tr>\n",
       "      <th>2</th>\n",
       "      <td>CartScreenAppear</td>\n",
       "      <td>42343</td>\n",
       "      <td>3736</td>\n",
       "      <td>49.56</td>\n",
       "    </tr>\n",
       "    <tr>\n",
       "      <th>3</th>\n",
       "      <td>PaymentScreenSuccessful</td>\n",
       "      <td>33951</td>\n",
       "      <td>3540</td>\n",
       "      <td>46.96</td>\n",
       "    </tr>\n",
       "    <tr>\n",
       "      <th>4</th>\n",
       "      <td>Tutorial</td>\n",
       "      <td>1010</td>\n",
       "      <td>843</td>\n",
       "      <td>11.18</td>\n",
       "    </tr>\n",
       "  </tbody>\n",
       "</table>\n",
       "</div>"
      ],
      "text/plain": [
       "                event_name  event_count  user_count  converse\n",
       "0         MainScreenAppear       117889        7423     98.47\n",
       "1       OffersScreenAppear        46531        4597     60.98\n",
       "2         CartScreenAppear        42343        3736     49.56\n",
       "3  PaymentScreenSuccessful        33951        3540     46.96\n",
       "4                 Tutorial         1010         843     11.18"
      ]
     },
     "execution_count": 23,
     "metadata": {},
     "output_type": "execute_result"
    }
   ],
   "source": [
    "# рассчитаем долю пользователей на каждом шаге воронки\n",
    "funnel['converse'] = (funnel['user_count'] / len(data_logs_clear['device_id_hash'].unique()) * 100).round(2)\n",
    "funnel"
   ]
  },
  {
   "cell_type": "markdown",
   "metadata": {},
   "source": [
    "### Определение порядка совершения событий"
   ]
  },
  {
   "cell_type": "code",
   "execution_count": 24,
   "metadata": {
    "scrolled": false
   },
   "outputs": [
    {
     "data": {
      "text/plain": [
       "Text(0.5, 0, 'Наименование событий')"
      ]
     },
     "execution_count": 24,
     "metadata": {},
     "output_type": "execute_result"
    },
    {
     "data": {
      "image/png": "[encoded data removed]",
      "text/plain": [
       "<Figure size 1080x720 with 1 Axes>"
      ]
     },
     "metadata": {
      "needs_background": "light"
     },
     "output_type": "display_data"
    }
   ],
   "source": [
    "funnel2 = funnel.query('event_name != \"Tutorial\"')\n",
    "plt.figure(figsize=(15,10))\n",
    "plt.title('Порядок совершения событий')\n",
    "sns.barplot(data=funnel2, x='event_name', y ='event_count')\n",
    "plt.ylabel('Количество событий')\n",
    "plt.xlabel('Наименование событий')"
   ]
  },
  {
   "cell_type": "markdown",
   "metadata": {},
   "source": [
    "Порядок соврешения события будет таким же как и на диаграмме:\n",
    "* MainScreenAppear - пользователь попадает на главный экран\n",
    "* OffersScreenAppea - пользователь переходит на экран предложения к покупке\n",
    "* CartScreenAppear - пользователь попадает в корзину\n",
    "* PaymentScreenSuccessful - пользователь видит страницу с успешным исполнением платежа\n",
    "\n",
    "Также, есть еще одна страница на которую пользователи заходят реже всего. Это Tutorial. Этот шаг можно выполнить в любой момент и в общую цепочку его добавлять не будем"
   ]
  },
  {
   "cell_type": "markdown",
   "metadata": {},
   "source": [
    "### Расчет доли пользователей которые проходят на следующий шаг воронки(от числа пользователей на предыдущем)."
   ]
  },
  {
   "cell_type": "code",
   "execution_count": 25,
   "metadata": {
    "scrolled": false
   },
   "outputs": [
    {
     "data": {
      "text/html": [
       "<div>\n",
       "<style scoped>\n",
       "    .dataframe tbody tr th:only-of-type {\n",
       "        vertical-align: middle;\n",
       "    }\n",
       "\n",
       "    .dataframe tbody tr th {\n",
       "        vertical-align: top;\n",
       "    }\n",
       "\n",
       "    .dataframe thead th {\n",
       "        text-align: right;\n",
       "    }\n",
       "</style>\n",
       "<table border=\"1\" class=\"dataframe\">\n",
       "  <thead>\n",
       "    <tr style=\"text-align: right;\">\n",
       "      <th></th>\n",
       "      <th>event_name</th>\n",
       "      <th>event_count</th>\n",
       "      <th>user_count</th>\n",
       "      <th>converse</th>\n",
       "      <th>conversion</th>\n",
       "    </tr>\n",
       "  </thead>\n",
       "  <tbody>\n",
       "    <tr>\n",
       "      <th>0</th>\n",
       "      <td>MainScreenAppear</td>\n",
       "      <td>117889</td>\n",
       "      <td>7423</td>\n",
       "      <td>98.47</td>\n",
       "      <td>NaN</td>\n",
       "    </tr>\n",
       "    <tr>\n",
       "      <th>1</th>\n",
       "      <td>OffersScreenAppear</td>\n",
       "      <td>46531</td>\n",
       "      <td>4597</td>\n",
       "      <td>60.98</td>\n",
       "      <td>61.929139</td>\n",
       "    </tr>\n",
       "    <tr>\n",
       "      <th>2</th>\n",
       "      <td>CartScreenAppear</td>\n",
       "      <td>42343</td>\n",
       "      <td>3736</td>\n",
       "      <td>49.56</td>\n",
       "      <td>81.270394</td>\n",
       "    </tr>\n",
       "    <tr>\n",
       "      <th>3</th>\n",
       "      <td>PaymentScreenSuccessful</td>\n",
       "      <td>33951</td>\n",
       "      <td>3540</td>\n",
       "      <td>46.96</td>\n",
       "      <td>94.753747</td>\n",
       "    </tr>\n",
       "  </tbody>\n",
       "</table>\n",
       "</div>"
      ],
      "text/plain": [
       "                event_name  event_count  user_count  converse  conversion\n",
       "0         MainScreenAppear       117889        7423     98.47         NaN\n",
       "1       OffersScreenAppear        46531        4597     60.98   61.929139\n",
       "2         CartScreenAppear        42343        3736     49.56   81.270394\n",
       "3  PaymentScreenSuccessful        33951        3540     46.96   94.753747"
      ]
     },
     "execution_count": 25,
     "metadata": {},
     "output_type": "execute_result"
    }
   ],
   "source": [
    "#сдвинем одно событие относительно другого на одну строку\n",
    "funnel2['shift'] = funnel2['user_count'].shift()\n",
    "#рассчитаем соотношение числа пользователей текущего шага к предыдущему\n",
    "funnel2['conversion'] = funnel2['user_count'] / funnel2['shift'] *100\n",
    "#удалим столбец, по большей части технический\n",
    "funnel2.drop(columns= ['shift'], axis = 1, inplace = True)\n",
    "funnel2"
   ]
  },
  {
   "cell_type": "markdown",
   "metadata": {},
   "source": [
    "### На каком шаге теряется больше всего пользователей?\n",
    "На шаге 2 теряется больше всего пользователей: переход с главной страницы на страницу с предложением о покупке. Здесь потеря составляет 38%"
   ]
  },
  {
   "cell_type": "markdown",
   "metadata": {},
   "source": [
    "### Определение доли пользователей которая доходит от первого события до оплаты"
   ]
  },
  {
   "cell_type": "markdown",
   "metadata": {},
   "source": [
    "От первого события до оплаты доходит 47% пользователей"
   ]
  },
  {
   "cell_type": "markdown",
   "metadata": {},
   "source": [
    "## Изучение результатов эксперимента"
   ]
  },
  {
   "cell_type": "markdown",
   "metadata": {},
   "source": [
    "### Расчет количества пользователей в каждом эксперименте группы"
   ]
  },
  {
   "cell_type": "code",
   "execution_count": 26,
   "metadata": {},
   "outputs": [
    {
     "data": {
      "text/plain": [
       "exp_id\n",
       "246        2484\n",
       "247        2517\n",
       "248        2537\n",
       "246+247    5001\n",
       "Name: device_id_hash, dtype: int64"
      ]
     },
     "execution_count": 26,
     "metadata": {},
     "output_type": "execute_result"
    }
   ],
   "source": [
    "#рассчитаем количество пользователей в каждой группе\n",
    "count_users = data_logs_clear.groupby('exp_id')['device_id_hash'].nunique()\n",
    "#добавим объединенную группу 246 и 247\n",
    "count_users['246+247'] = count_users[246] + count_users[247] #добавим столбец с объединенными контрольными группами\n",
    "count_users.head()"
   ]
  },
  {
   "cell_type": "code",
   "execution_count": 27,
   "metadata": {
    "scrolled": true
   },
   "outputs": [
    {
     "data": {
      "text/html": [
       "<div>\n",
       "<style scoped>\n",
       "    .dataframe tbody tr th:only-of-type {\n",
       "        vertical-align: middle;\n",
       "    }\n",
       "\n",
       "    .dataframe tbody tr th {\n",
       "        vertical-align: top;\n",
       "    }\n",
       "\n",
       "    .dataframe thead th {\n",
       "        text-align: right;\n",
       "    }\n",
       "</style>\n",
       "<table border=\"1\" class=\"dataframe\">\n",
       "  <thead>\n",
       "    <tr style=\"text-align: right;\">\n",
       "      <th>exp_id</th>\n",
       "      <th>246</th>\n",
       "      <th>247</th>\n",
       "      <th>248</th>\n",
       "      <th>246+247</th>\n",
       "    </tr>\n",
       "    <tr>\n",
       "      <th>event_name</th>\n",
       "      <th></th>\n",
       "      <th></th>\n",
       "      <th></th>\n",
       "      <th></th>\n",
       "    </tr>\n",
       "  </thead>\n",
       "  <tbody>\n",
       "    <tr>\n",
       "      <th>MainScreenAppear</th>\n",
       "      <td>2450</td>\n",
       "      <td>2479</td>\n",
       "      <td>2494</td>\n",
       "      <td>4929</td>\n",
       "    </tr>\n",
       "    <tr>\n",
       "      <th>OffersScreenAppear</th>\n",
       "      <td>1542</td>\n",
       "      <td>1524</td>\n",
       "      <td>1531</td>\n",
       "      <td>3066</td>\n",
       "    </tr>\n",
       "    <tr>\n",
       "      <th>CartScreenAppear</th>\n",
       "      <td>1266</td>\n",
       "      <td>1239</td>\n",
       "      <td>1231</td>\n",
       "      <td>2505</td>\n",
       "    </tr>\n",
       "    <tr>\n",
       "      <th>PaymentScreenSuccessful</th>\n",
       "      <td>1200</td>\n",
       "      <td>1158</td>\n",
       "      <td>1182</td>\n",
       "      <td>2358</td>\n",
       "    </tr>\n",
       "  </tbody>\n",
       "</table>\n",
       "</div>"
      ],
      "text/plain": [
       "exp_id                    246   247   248  246+247\n",
       "event_name                                        \n",
       "MainScreenAppear         2450  2479  2494     4929\n",
       "OffersScreenAppear       1542  1524  1531     3066\n",
       "CartScreenAppear         1266  1239  1231     2505\n",
       "PaymentScreenSuccessful  1200  1158  1182     2358"
      ]
     },
     "execution_count": 27,
     "metadata": {},
     "output_type": "execute_result"
    }
   ],
   "source": [
    "#количество пользователей с разбивкой по группам без события Tutorial\n",
    "count_users_all = data_logs_clear[data_logs_clear['event_name'] != 'Tutorial']\\\n",
    "    .pivot_table(index='event_name', columns='exp_id', values='device_id_hash', aggfunc='nunique')\\\n",
    "    .sort_values(by=246, ascending=False)\n",
    "count_users_all['246+247'] = count_users_all[246] + count_users_all[247] #добавим столбец с объединенными контрольными группами\n",
    "count_users_all.head()"
   ]
  },
  {
   "cell_type": "markdown",
   "metadata": {},
   "source": [
    "### А/А эксперимент\n",
    "Для проверки корректности всех механизмов и расчётов мы имеем 2 контрольные группы для проведения А/А-эксперимента. Наша задача - определить, существует ли статистически значимая разница между выборками 246 и 247.\n",
    "\n",
    "Критерии успешного A/A-теста: \n",
    "* Количество пользователей в различных группах различается не более, чем на 1%;\n",
    "* Для всех групп фиксируют и отправляют в системы аналитики данные об одном и том же;\n",
    "* Различие ключевых метрик по группам не превышает 1% и не имеет статистической значимости;\n",
    "* Попавший в одну из групп посетитель остаётся в этой группе до конца теста. Если пользователь видит разные версии исследуемой страницы в ходе одного исследования, неизвестно, какая именно повлияла на его решения. Значит, и результаты такого теста нельзя интерпретировать однозначно."
   ]
  },
  {
   "cell_type": "code",
   "execution_count": 28,
   "metadata": {},
   "outputs": [
    {
     "name": "stdout",
     "output_type": "stream",
     "text": [
      "0.99\n",
      "0.98\n",
      "0.99\n"
     ]
    }
   ],
   "source": [
    "#Отличие сравниваемых размеров групп\n",
    "print(round(count_users[246]/count_users[247], 2))\n",
    "print(round(count_users[246]/count_users[248], 2))\n",
    "print(round(count_users[247]/count_users[248], 2))"
   ]
  },
  {
   "cell_type": "markdown",
   "metadata": {},
   "source": [
    "Группы отличаются друг от друга не более чем, на 1%"
   ]
  },
  {
   "cell_type": "code",
   "execution_count": 29,
   "metadata": {},
   "outputs": [
    {
     "data": {
      "text/plain": [
       "device_id_hash    0\n",
       "exp_id            0\n",
       "dtype: int64"
      ]
     },
     "execution_count": 29,
     "metadata": {},
     "output_type": "execute_result"
    }
   ],
   "source": [
    "data_logs_clear.groupby('device_id_hash')['exp_id'].nunique().reset_index().query('exp_id >1').count()"
   ]
  },
  {
   "cell_type": "markdown",
   "metadata": {},
   "source": [
    "Пользователи, попавшие в несколько групп, отсутствуют"
   ]
  },
  {
   "cell_type": "markdown",
   "metadata": {},
   "source": [
    "### Тесты с самым популярным событием\n",
    "Самое популярное событие - MainScreenAppear (переход на главный экран). Для проведения Z-теста сформулируем гипотезы:\n",
    "* H0 - доли пользователей дошедших до события в контрольных группых равны\n",
    "* H1 - доли пользователей дошедших до события в контрольных группах различны\n",
    "\n",
    "Составим функцию для проведения z-test и проведем для самого популярного события MainScreenAppear"
   ]
  },
  {
   "cell_type": "code",
   "execution_count": 30,
   "metadata": {},
   "outputs": [],
   "source": [
    "def z_test (group1, group2, alpha, event):\n",
    "    alpha = alpha # критический уровень статистической значимости\n",
    "\n",
    "    #возьмем выборки для события и выбранных контрольных групп\n",
    "    successes_1 = count_users_all.loc[event, group1]\n",
    "    successes_2 = count_users_all.loc[event, group2]\n",
    "\n",
    "    trials_1 = count_users[group1]\n",
    "    trials_2 = count_users[group2]\n",
    "\n",
    "    # пропорция успехов в первой группе:\n",
    "    p1 = successes_1/trials_1\n",
    "\n",
    "    # пропорция успехов во второй группе:\n",
    "    p2 = successes_2/trials_2\n",
    "\n",
    "    # пропорция успехов в комбинированном датасете:\n",
    "    p_combined = (successes_1 + successes_2) / (trials_1 + trials_2)\n",
    "\n",
    "    # разница пропорций в датасетах\n",
    "    difference = p1 - p2\n",
    "\n",
    "    # считаем статистику в ст.отклонениях стандартного нормального распределения\n",
    "    z_value = difference / mth.sqrt(p_combined * (1 - p_combined) * (1/trials_1 + 1/trials_2))\n",
    "\n",
    "    # задаем стандартное нормальное распределение (среднее 0, ст.отклонение 1)\n",
    "    distr = st.norm(0, 1)\n",
    "\n",
    "    p_value = (1 - distr.cdf(abs(z_value))) * 2\n",
    "\n",
    "    print('p-значение: ', p_value)\n",
    "\n",
    "    if p_value < alpha:\n",
    "        print('Отвергаем нулевую гипотезу: между долями есть значимая разница')\n",
    "    else:\n",
    "        print('Не получилось отвергнуть нулевую гипотезу, нет оснований считать доли разными')"
   ]
  },
  {
   "cell_type": "code",
   "execution_count": 31,
   "metadata": {},
   "outputs": [
    {
     "name": "stdout",
     "output_type": "stream",
     "text": [
      "p-значение:  0.6756217702005545\n",
      "Не получилось отвергнуть нулевую гипотезу, нет оснований считать доли разными\n"
     ]
    }
   ],
   "source": [
    "z_test(246,247,0.01,'MainScreenAppear')"
   ]
  },
  {
   "cell_type": "markdown",
   "metadata": {},
   "source": [
    "Выполним Z-тест для события OffersScreenAppear"
   ]
  },
  {
   "cell_type": "code",
   "execution_count": 32,
   "metadata": {},
   "outputs": [
    {
     "name": "stdout",
     "output_type": "stream",
     "text": [
      "p-значение:  0.26698769175859516\n",
      "Не получилось отвергнуть нулевую гипотезу, нет оснований считать доли разными\n"
     ]
    }
   ],
   "source": [
    "z_test(246,247,0.01,'OffersScreenAppear')"
   ]
  },
  {
   "cell_type": "markdown",
   "metadata": {},
   "source": [
    "Выполним Z-тест для события CartScreenAppear"
   ]
  },
  {
   "cell_type": "code",
   "execution_count": 33,
   "metadata": {},
   "outputs": [
    {
     "name": "stdout",
     "output_type": "stream",
     "text": [
      "p-значение:  0.2182812140633792\n",
      "Не получилось отвергнуть нулевую гипотезу, нет оснований считать доли разными\n"
     ]
    }
   ],
   "source": [
    "z_test(246,247,0.01,'CartScreenAppear')"
   ]
  },
  {
   "cell_type": "markdown",
   "metadata": {},
   "source": [
    "Выполним Z-тест для события PaymentScreenSuccessful:"
   ]
  },
  {
   "cell_type": "code",
   "execution_count": 34,
   "metadata": {},
   "outputs": [
    {
     "name": "stdout",
     "output_type": "stream",
     "text": [
      "p-значение:  0.10298394982948822\n",
      "Не получилось отвергнуть нулевую гипотезу, нет оснований считать доли разными\n"
     ]
    }
   ],
   "source": [
    "z_test(246,247,0.01,'PaymentScreenSuccessful')"
   ]
  },
  {
   "cell_type": "markdown",
   "metadata": {},
   "source": [
    "Две используемые группы - контрольные. При проведении Z теста для каждого события у нас был отвержена нулевая гипотеза о равенстве групп. Значит, можно сказать, что разбиение на группы работает корректно"
   ]
  },
  {
   "cell_type": "markdown",
   "metadata": {},
   "source": [
    "### Тест всех событий с группой с измененными шрифтами (А/B тест)\n",
    "Проведем аналогичные тесты с группой с измененным шрифтом и посмотрим, будет ли отличие между группами статистически достоверным. Для проведения Z-теста сформулируем гипотезы:\n",
    "* H0 - доли пользователей дошедших до события в экспериментальной группе равны\n",
    "* H1 - доли пользователей дошедших до события в экспериментальной группе различны"
   ]
  },
  {
   "cell_type": "code",
   "execution_count": 35,
   "metadata": {},
   "outputs": [
    {
     "name": "stdout",
     "output_type": "stream",
     "text": [
      "p-значение:  0.34705881021236484\n",
      "Не получилось отвергнуть нулевую гипотезу, нет оснований считать доли разными\n",
      "p-значение:  0.20836205402738917\n",
      "Не получилось отвергнуть нулевую гипотезу, нет оснований считать доли разными\n",
      "p-значение:  0.08328412977507749\n",
      "Не получилось отвергнуть нулевую гипотезу, нет оснований считать доли разными\n",
      "p-значение:  0.22269358994682742\n",
      "Не получилось отвергнуть нулевую гипотезу, нет оснований считать доли разными\n",
      "p-значение:  0.6001661582453706\n",
      "Не получилось отвергнуть нулевую гипотезу, нет оснований считать доли разными\n",
      "p-значение:  0.8835956656016957\n",
      "Не получилось отвергнуть нулевую гипотезу, нет оснований считать доли разными\n",
      "p-значение:  0.6169517476996997\n",
      "Не получилось отвергнуть нулевую гипотезу, нет оснований считать доли разными\n",
      "p-значение:  0.6775413642906454\n",
      "Не получилось отвергнуть нулевую гипотезу, нет оснований считать доли разными\n",
      "p-значение:  0.39298914928006035\n",
      "Не получилось отвергнуть нулевую гипотезу, нет оснований считать доли разными\n",
      "p-значение:  0.418998284007599\n",
      "Не получилось отвергнуть нулевую гипотезу, нет оснований считать доли разными\n",
      "p-значение:  0.19819340844527744\n",
      "Не получилось отвергнуть нулевую гипотезу, нет оснований считать доли разными\n",
      "p-значение:  0.6452057673098244\n",
      "Не получилось отвергнуть нулевую гипотезу, нет оснований считать доли разными\n"
     ]
    }
   ],
   "source": [
    "#создадим пустой список для записи всех результатов теста\n",
    "result_test = []\n",
    "alpha = .01\n",
    "#используя цикл запишем все результаты тестов\n",
    "for group in [[246,248], [247,248], ['246+247', 248]]:\n",
    "    for events in count_users_all.index.values:\n",
    "        result_test.append(z_test(group[0], group[1], alpha, events))"
   ]
  },
  {
   "cell_type": "markdown",
   "metadata": {},
   "source": [
    "При проведении теста для контрольных групп(и их суммой) с группой с измененными шрифтами не было обнаружено статистически значимых различий между долями пользователяй, совершивших целевое событие"
   ]
  },
  {
   "cell_type": "markdown",
   "metadata": {},
   "source": [
    "### Выбор уровня значимости при проверке статистических гипотез в предыдущих пунктах\n"
   ]
  },
  {
   "cell_type": "markdown",
   "metadata": {},
   "source": [
    "В расчетах был выбран уровень значимости α 0.01 Было сделано 12 тестов. Ни один из тестов с контрольной и тестируемой группой не подтвердил нулевую гипотезу. Можно применить уровень значимости 0.05 который считается самым оптимальным, но из-за того что тестируемые группы достаточно большие изменение уровня ничего не изменит."
   ]
  },
  {
   "cell_type": "markdown",
   "metadata": {},
   "source": [
    "# Общий вывод:\n",
    "Нам были предоставлены данные для анализа которые содержат лог, каждая запись которого - действие пользователя мобильного приложения.\n",
    "\n",
    "Все действия были разбиты на три группы: две контрольные и одна тестовая, для пользователей которой изменен шрифт приложения. Целью исследованиея было разобраться, изменилась ли конверсия события в тестовой группе.\n",
    "\n",
    "В начале была произведена предобработка данных. В результате:\n",
    "* наименования столбцов были приведены к удобному виду\n",
    "* созданы столбец timestmap с датой и временем и столбец date с выделенной датой\n",
    "* удалено 413 дубликатов\n",
    "\n",
    "Поскольку о полноте данных можно говорить только с 01.08.2019, датафрейм был очищен от периода с 25.07.2019 по 31.07.2019: в итоге после \"очистки\" потеряно чуть более 1% событий и всего 0,17% пользователей. Осталось 241724 события 7538 пользователей.\n",
    "\n",
    "Результаты исследования:\n",
    "В результате исследования был проведен А/А эксперимент который показал, что контрольные группы отличаются друг от друга не более чем на 1%, а также нет пользователей поавших в несколько групп. Это критерии успешного А/А теста.\n",
    "Далее, был произведены z тест с самым популярным событием MainScreenAppear (переход на главный экран). Для проведения были сформулированы гипотезы:\n",
    "* H0 - доли пользователей дошедших до события в контрольных группых равны\n",
    "* H1 - доли пользователей дошедших до события в контрольных группах различны\n",
    "\n",
    "Тест показал, что нулевую гипотезу отвергнуть не получилось. Коэффициент статистической значимости был выбран 0.01 из-за достаточно большой выборки.\n",
    "\n",
    "Далее, был произведен А/В эксперимент. Гипотезы были оставлены те же, только сравнивали котнрольные группы с группой с измененными шрифтами для пользователей. Было произведено 12 тестов(для каждой группы и каждого события по отдельности) которые также показали, что нулевую гипотезу отвергнуть не получилось. В данном случае стоит использовать поправки на множественное сравнение, но так как в тесте мы не отвергали нулевеую гипотезу, то применение поправок реузльтата не изменит."
   ]
  }
 ],
 "metadata": {
  "ExecuteTimeLog": [
   {
    "duration": 1415,
    "start_time": "2023-05-06T10:55:25.384Z"
   },
   {
    "duration": 749,
    "start_time": "2023-05-06T10:57:53.762Z"
   },
   {
    "duration": 21,
    "start_time": "2023-05-06T10:58:30.152Z"
   },
   {
    "duration": 11,
    "start_time": "2023-05-06T10:58:41.610Z"
   },
   {
    "duration": 411,
    "start_time": "2023-05-06T10:59:00.183Z"
   },
   {
    "duration": 6,
    "start_time": "2023-05-06T10:59:02.115Z"
   },
   {
    "duration": 47,
    "start_time": "2023-05-06T10:59:10.515Z"
   },
   {
    "duration": 325,
    "start_time": "2023-05-06T10:59:15.736Z"
   },
   {
    "duration": 7,
    "start_time": "2023-05-06T10:59:17.936Z"
   },
   {
    "duration": 32,
    "start_time": "2023-05-06T11:00:01.983Z"
   },
   {
    "duration": 235,
    "start_time": "2023-05-06T11:00:12.576Z"
   },
   {
    "duration": 21,
    "start_time": "2023-05-06T11:00:13.415Z"
   },
   {
    "duration": 9,
    "start_time": "2023-05-06T11:00:14.919Z"
   },
   {
    "duration": 3,
    "start_time": "2023-05-06T11:00:43.727Z"
   },
   {
    "duration": 44,
    "start_time": "2023-05-06T11:00:49.317Z"
   },
   {
    "duration": 161,
    "start_time": "2023-05-06T11:00:54.927Z"
   },
   {
    "duration": 3,
    "start_time": "2023-05-06T11:01:47.383Z"
   },
   {
    "duration": 65,
    "start_time": "2023-05-06T11:01:47.967Z"
   },
   {
    "duration": 5,
    "start_time": "2023-05-06T11:01:52.830Z"
   },
   {
    "duration": 3,
    "start_time": "2023-05-06T11:01:54.678Z"
   },
   {
    "duration": 6,
    "start_time": "2023-05-06T11:01:55.279Z"
   },
   {
    "duration": 1247,
    "start_time": "2023-05-06T11:02:03.110Z"
   },
   {
    "duration": 221,
    "start_time": "2023-05-06T11:02:04.359Z"
   },
   {
    "duration": 35,
    "start_time": "2023-05-06T11:02:04.584Z"
   },
   {
    "duration": 20,
    "start_time": "2023-05-06T11:02:04.620Z"
   },
   {
    "duration": 5,
    "start_time": "2023-05-06T11:02:04.642Z"
   },
   {
    "duration": 13,
    "start_time": "2023-05-06T11:02:04.648Z"
   },
   {
    "duration": 80,
    "start_time": "2023-05-06T11:03:15.869Z"
   },
   {
    "duration": 80,
    "start_time": "2023-05-06T11:03:58.917Z"
   },
   {
    "duration": 64,
    "start_time": "2023-05-06T12:06:33.524Z"
   },
   {
    "duration": 1011,
    "start_time": "2023-05-06T12:29:30.177Z"
   },
   {
    "duration": 1192,
    "start_time": "2023-05-06T12:31:26.840Z"
   },
   {
    "duration": 1118,
    "start_time": "2023-05-06T12:31:44.455Z"
   },
   {
    "duration": 756,
    "start_time": "2023-05-06T12:32:22.575Z"
   },
   {
    "duration": 753,
    "start_time": "2023-05-06T12:32:25.214Z"
   },
   {
    "duration": 4,
    "start_time": "2023-05-06T12:33:47.526Z"
   },
   {
    "duration": 1018,
    "start_time": "2023-05-06T12:34:14.766Z"
   },
   {
    "duration": 33,
    "start_time": "2023-05-06T12:34:21.885Z"
   },
   {
    "duration": 9,
    "start_time": "2023-05-06T12:36:53.723Z"
   },
   {
    "duration": 1235,
    "start_time": "2023-05-06T12:37:14.104Z"
   },
   {
    "duration": 193,
    "start_time": "2023-05-06T12:37:15.341Z"
   },
   {
    "duration": 23,
    "start_time": "2023-05-06T12:37:15.536Z"
   },
   {
    "duration": 25,
    "start_time": "2023-05-06T12:37:15.562Z"
   },
   {
    "duration": 4,
    "start_time": "2023-05-06T12:37:15.589Z"
   },
   {
    "duration": 8,
    "start_time": "2023-05-06T12:37:15.595Z"
   },
   {
    "duration": 86,
    "start_time": "2023-05-06T12:37:15.604Z"
   },
   {
    "duration": 93,
    "start_time": "2023-05-06T12:37:15.692Z"
   },
   {
    "duration": 896,
    "start_time": "2023-05-06T12:37:15.787Z"
   },
   {
    "duration": 9,
    "start_time": "2023-05-06T12:38:32.875Z"
   },
   {
    "duration": 1137,
    "start_time": "2023-05-06T12:40:33.040Z"
   },
   {
    "duration": 177,
    "start_time": "2023-05-06T12:40:34.179Z"
   },
   {
    "duration": 28,
    "start_time": "2023-05-06T12:40:34.357Z"
   },
   {
    "duration": 11,
    "start_time": "2023-05-06T12:40:34.387Z"
   },
   {
    "duration": 4,
    "start_time": "2023-05-06T12:40:34.399Z"
   },
   {
    "duration": 8,
    "start_time": "2023-05-06T12:40:34.404Z"
   },
   {
    "duration": 86,
    "start_time": "2023-05-06T12:40:34.413Z"
   },
   {
    "duration": 85,
    "start_time": "2023-05-06T12:40:34.502Z"
   },
   {
    "duration": 911,
    "start_time": "2023-05-06T12:40:34.589Z"
   },
   {
    "duration": 9,
    "start_time": "2023-05-06T12:40:35.502Z"
   },
   {
    "duration": 16,
    "start_time": "2023-05-06T12:45:26.992Z"
   },
   {
    "duration": 7,
    "start_time": "2023-05-06T12:45:51.303Z"
   },
   {
    "duration": 5,
    "start_time": "2023-05-06T12:46:31.217Z"
   },
   {
    "duration": 10,
    "start_time": "2023-05-06T12:46:32.942Z"
   },
   {
    "duration": 9100,
    "start_time": "2023-05-06T12:47:35.496Z"
   },
   {
    "duration": 20,
    "start_time": "2023-05-06T12:48:16.310Z"
   },
   {
    "duration": 43,
    "start_time": "2023-05-06T12:49:21.133Z"
   },
   {
    "duration": 17,
    "start_time": "2023-05-06T12:49:28.981Z"
   },
   {
    "duration": 19,
    "start_time": "2023-05-06T12:49:41.342Z"
   },
   {
    "duration": 1162,
    "start_time": "2023-05-06T12:49:57.533Z"
   },
   {
    "duration": 178,
    "start_time": "2023-05-06T12:49:58.697Z"
   },
   {
    "duration": 27,
    "start_time": "2023-05-06T12:49:58.877Z"
   },
   {
    "duration": 11,
    "start_time": "2023-05-06T12:49:58.906Z"
   },
   {
    "duration": 6,
    "start_time": "2023-05-06T12:49:58.919Z"
   },
   {
    "duration": 8,
    "start_time": "2023-05-06T12:49:58.926Z"
   },
   {
    "duration": 94,
    "start_time": "2023-05-06T12:49:58.935Z"
   },
   {
    "duration": 88,
    "start_time": "2023-05-06T12:49:59.031Z"
   },
   {
    "duration": 870,
    "start_time": "2023-05-06T12:49:59.121Z"
   },
   {
    "duration": 9,
    "start_time": "2023-05-06T12:49:59.993Z"
   },
   {
    "duration": 48,
    "start_time": "2023-05-06T12:50:00.004Z"
   },
   {
    "duration": 45,
    "start_time": "2023-05-06T12:50:00.054Z"
   },
   {
    "duration": 60,
    "start_time": "2023-05-06T12:50:00.102Z"
   },
   {
    "duration": 8588,
    "start_time": "2023-05-06T12:50:00.164Z"
   },
   {
    "duration": 8546,
    "start_time": "2023-05-06T12:50:28.996Z"
   },
   {
    "duration": 8983,
    "start_time": "2023-05-06T12:51:01.387Z"
   },
   {
    "duration": 27,
    "start_time": "2023-05-06T12:57:19.809Z"
   },
   {
    "duration": 21,
    "start_time": "2023-05-06T12:57:56.984Z"
   },
   {
    "duration": 7,
    "start_time": "2023-05-06T12:58:00.984Z"
   },
   {
    "duration": 15,
    "start_time": "2023-05-06T12:58:36.192Z"
   },
   {
    "duration": 104,
    "start_time": "2023-05-06T12:59:33.128Z"
   },
   {
    "duration": 80,
    "start_time": "2023-05-06T12:59:41.577Z"
   },
   {
    "duration": 9,
    "start_time": "2023-05-06T13:00:06.216Z"
   },
   {
    "duration": 5,
    "start_time": "2023-05-06T13:00:11.008Z"
   },
   {
    "duration": 4866,
    "start_time": "2023-05-06T13:01:16.783Z"
   },
   {
    "duration": 864,
    "start_time": "2023-05-06T13:07:55.484Z"
   },
   {
    "duration": 4,
    "start_time": "2023-05-06T13:53:40.948Z"
   },
   {
    "duration": 17,
    "start_time": "2023-05-06T13:54:43.108Z"
   },
   {
    "duration": 5,
    "start_time": "2023-05-06T13:56:21.203Z"
   },
   {
    "duration": 17,
    "start_time": "2023-05-06T13:56:22.122Z"
   },
   {
    "duration": 1152,
    "start_time": "2023-05-06T13:56:28.519Z"
   },
   {
    "duration": 182,
    "start_time": "2023-05-06T13:56:29.673Z"
   },
   {
    "duration": 27,
    "start_time": "2023-05-06T13:56:29.857Z"
   },
   {
    "duration": 10,
    "start_time": "2023-05-06T13:56:29.885Z"
   },
   {
    "duration": 3,
    "start_time": "2023-05-06T13:56:29.896Z"
   },
   {
    "duration": 12,
    "start_time": "2023-05-06T13:56:29.900Z"
   },
   {
    "duration": 79,
    "start_time": "2023-05-06T13:56:29.913Z"
   },
   {
    "duration": 77,
    "start_time": "2023-05-06T13:56:29.993Z"
   },
   {
    "duration": 906,
    "start_time": "2023-05-06T13:56:30.072Z"
   },
   {
    "duration": 9,
    "start_time": "2023-05-06T13:56:30.980Z"
   },
   {
    "duration": 29,
    "start_time": "2023-05-06T13:56:30.990Z"
   },
   {
    "duration": 42,
    "start_time": "2023-05-06T13:56:31.021Z"
   },
   {
    "duration": 45,
    "start_time": "2023-05-06T13:56:31.065Z"
   },
   {
    "duration": 8855,
    "start_time": "2023-05-06T13:56:31.113Z"
   },
   {
    "duration": 32,
    "start_time": "2023-05-06T13:56:39.970Z"
   },
   {
    "duration": 5067,
    "start_time": "2023-05-06T13:56:40.004Z"
   },
   {
    "duration": 11,
    "start_time": "2023-05-06T13:56:45.073Z"
   },
   {
    "duration": 95,
    "start_time": "2023-05-06T13:56:45.085Z"
   },
   {
    "duration": 75,
    "start_time": "2023-05-06T13:57:12.490Z"
   },
   {
    "duration": 71,
    "start_time": "2023-05-06T13:57:21.955Z"
   },
   {
    "duration": 130,
    "start_time": "2023-05-06T14:02:08.576Z"
   },
   {
    "duration": 10,
    "start_time": "2023-05-06T14:02:38.374Z"
   },
   {
    "duration": 13,
    "start_time": "2023-05-06T14:02:43.648Z"
   },
   {
    "duration": 11,
    "start_time": "2023-05-06T14:03:20.711Z"
   },
   {
    "duration": 14,
    "start_time": "2023-05-06T14:03:48.128Z"
   },
   {
    "duration": 10,
    "start_time": "2023-05-06T14:03:58.735Z"
   },
   {
    "duration": 7,
    "start_time": "2023-05-06T14:27:11.625Z"
   },
   {
    "duration": 943,
    "start_time": "2023-05-06T14:27:19.641Z"
   },
   {
    "duration": 17,
    "start_time": "2023-05-06T14:27:30.554Z"
   },
   {
    "duration": 9,
    "start_time": "2023-05-06T14:27:36.961Z"
   },
   {
    "duration": 12,
    "start_time": "2023-05-06T14:27:42.857Z"
   },
   {
    "duration": 5,
    "start_time": "2023-05-06T14:27:49.473Z"
   },
   {
    "duration": 4,
    "start_time": "2023-05-06T14:28:40.657Z"
   },
   {
    "duration": 6,
    "start_time": "2023-05-06T14:29:23.015Z"
   },
   {
    "duration": 8,
    "start_time": "2023-05-06T14:29:27.625Z"
   },
   {
    "duration": 14,
    "start_time": "2023-05-06T14:31:00.152Z"
   },
   {
    "duration": 8,
    "start_time": "2023-05-06T14:31:16.864Z"
   },
   {
    "duration": 7,
    "start_time": "2023-05-06T14:32:23.615Z"
   },
   {
    "duration": 8,
    "start_time": "2023-05-06T14:32:38.271Z"
   },
   {
    "duration": 51,
    "start_time": "2023-05-06T14:38:54.051Z"
   },
   {
    "duration": 6,
    "start_time": "2023-05-06T14:38:58.979Z"
   },
   {
    "duration": 13,
    "start_time": "2023-05-06T14:39:33.986Z"
   },
   {
    "duration": 5,
    "start_time": "2023-05-06T14:39:41.227Z"
   },
   {
    "duration": 4,
    "start_time": "2023-05-06T14:39:55.531Z"
   },
   {
    "duration": 8,
    "start_time": "2023-05-06T14:40:00.930Z"
   },
   {
    "duration": 6,
    "start_time": "2023-05-06T14:40:21.227Z"
   },
   {
    "duration": 14,
    "start_time": "2023-05-06T14:40:47.618Z"
   },
   {
    "duration": 6,
    "start_time": "2023-05-06T14:40:49.402Z"
   },
   {
    "duration": 8,
    "start_time": "2023-05-06T14:40:56.819Z"
   },
   {
    "duration": 10,
    "start_time": "2023-05-06T14:41:03.123Z"
   },
   {
    "duration": 9,
    "start_time": "2023-05-06T14:41:17.874Z"
   },
   {
    "duration": 7,
    "start_time": "2023-05-06T14:41:38.169Z"
   },
   {
    "duration": 14,
    "start_time": "2023-05-06T16:50:37.157Z"
   },
   {
    "duration": 1159,
    "start_time": "2023-05-06T16:52:07.233Z"
   },
   {
    "duration": 196,
    "start_time": "2023-05-06T16:52:08.393Z"
   },
   {
    "duration": 19,
    "start_time": "2023-05-06T16:52:08.591Z"
   },
   {
    "duration": 10,
    "start_time": "2023-05-06T16:52:08.612Z"
   },
   {
    "duration": 9,
    "start_time": "2023-05-06T16:52:08.624Z"
   },
   {
    "duration": 31,
    "start_time": "2023-05-06T16:52:08.634Z"
   },
   {
    "duration": 105,
    "start_time": "2023-05-06T16:52:08.666Z"
   },
   {
    "duration": 80,
    "start_time": "2023-05-06T16:52:08.772Z"
   },
   {
    "duration": 996,
    "start_time": "2023-05-06T16:52:08.854Z"
   },
   {
    "duration": 10,
    "start_time": "2023-05-06T16:52:09.854Z"
   },
   {
    "duration": 21,
    "start_time": "2023-05-06T16:52:09.867Z"
   },
   {
    "duration": 33,
    "start_time": "2023-05-06T16:52:09.890Z"
   },
   {
    "duration": 23,
    "start_time": "2023-05-06T16:52:09.926Z"
   },
   {
    "duration": 8901,
    "start_time": "2023-05-06T16:52:09.951Z"
   },
   {
    "duration": 34,
    "start_time": "2023-05-06T16:52:18.854Z"
   },
   {
    "duration": 1151,
    "start_time": "2023-05-06T16:52:18.889Z"
   },
   {
    "duration": 0,
    "start_time": "2023-05-06T16:52:20.042Z"
   },
   {
    "duration": 0,
    "start_time": "2023-05-06T16:52:20.043Z"
   },
   {
    "duration": 0,
    "start_time": "2023-05-06T16:52:20.044Z"
   },
   {
    "duration": 0,
    "start_time": "2023-05-06T16:52:20.045Z"
   },
   {
    "duration": 5071,
    "start_time": "2023-05-06T16:52:53.684Z"
   },
   {
    "duration": 4,
    "start_time": "2023-05-06T16:52:58.757Z"
   },
   {
    "duration": 77,
    "start_time": "2023-05-06T16:53:00.139Z"
   },
   {
    "duration": 141,
    "start_time": "2023-05-06T16:53:01.931Z"
   },
   {
    "duration": 33,
    "start_time": "2023-05-06T16:53:05.043Z"
   },
   {
    "duration": 34,
    "start_time": "2023-05-06T16:54:23.083Z"
   },
   {
    "duration": 22,
    "start_time": "2023-05-06T16:59:10.765Z"
   },
   {
    "duration": 2,
    "start_time": "2023-05-06T17:00:35.087Z"
   },
   {
    "duration": 10,
    "start_time": "2023-05-06T17:01:53.527Z"
   },
   {
    "duration": 94,
    "start_time": "2023-05-06T17:02:15.526Z"
   },
   {
    "duration": 9,
    "start_time": "2023-05-06T17:06:27.227Z"
   },
   {
    "duration": 25,
    "start_time": "2023-05-06T17:06:48.948Z"
   },
   {
    "duration": 23,
    "start_time": "2023-05-06T17:06:58.604Z"
   },
   {
    "duration": 41,
    "start_time": "2023-05-06T17:07:24.443Z"
   },
   {
    "duration": 25,
    "start_time": "2023-05-06T17:07:27.883Z"
   },
   {
    "duration": 929,
    "start_time": "2023-05-06T17:07:47.100Z"
   },
   {
    "duration": 19,
    "start_time": "2023-05-06T17:08:06.091Z"
   },
   {
    "duration": 24,
    "start_time": "2023-05-06T17:08:42.426Z"
   },
   {
    "duration": 24,
    "start_time": "2023-05-06T17:08:46.987Z"
   },
   {
    "duration": 8,
    "start_time": "2023-05-06T17:09:06.729Z"
   },
   {
    "duration": 9,
    "start_time": "2023-05-06T17:10:11.114Z"
   },
   {
    "duration": 45,
    "start_time": "2023-05-06T17:11:32.249Z"
   },
   {
    "duration": 45,
    "start_time": "2023-05-06T17:12:04.973Z"
   },
   {
    "duration": 7,
    "start_time": "2023-05-06T17:22:43.403Z"
   },
   {
    "duration": 6,
    "start_time": "2023-05-06T17:22:52.277Z"
   },
   {
    "duration": 7,
    "start_time": "2023-05-06T17:23:54.147Z"
   },
   {
    "duration": 13,
    "start_time": "2023-05-06T17:24:42.889Z"
   },
   {
    "duration": 13,
    "start_time": "2023-05-06T17:25:17.505Z"
   },
   {
    "duration": 5,
    "start_time": "2023-05-06T17:25:40.690Z"
   },
   {
    "duration": 10,
    "start_time": "2023-05-06T17:25:43.385Z"
   },
   {
    "duration": 691,
    "start_time": "2023-05-06T17:27:03.625Z"
   },
   {
    "duration": 12,
    "start_time": "2023-05-06T17:27:15.120Z"
   },
   {
    "duration": 10,
    "start_time": "2023-05-06T17:28:47.077Z"
   },
   {
    "duration": 9,
    "start_time": "2023-05-06T17:30:06.599Z"
   },
   {
    "duration": 9,
    "start_time": "2023-05-06T17:30:57.934Z"
   },
   {
    "duration": 1216,
    "start_time": "2023-05-06T17:32:01.988Z"
   },
   {
    "duration": 185,
    "start_time": "2023-05-06T17:32:03.206Z"
   },
   {
    "duration": 22,
    "start_time": "2023-05-06T17:32:03.393Z"
   },
   {
    "duration": 12,
    "start_time": "2023-05-06T17:32:03.417Z"
   },
   {
    "duration": 15,
    "start_time": "2023-05-06T17:32:03.431Z"
   },
   {
    "duration": 21,
    "start_time": "2023-05-06T17:32:03.447Z"
   },
   {
    "duration": 82,
    "start_time": "2023-05-06T17:32:03.469Z"
   },
   {
    "duration": 82,
    "start_time": "2023-05-06T17:32:03.553Z"
   },
   {
    "duration": 924,
    "start_time": "2023-05-06T17:32:03.637Z"
   },
   {
    "duration": 8,
    "start_time": "2023-05-06T17:32:04.564Z"
   },
   {
    "duration": 14,
    "start_time": "2023-05-06T17:32:04.573Z"
   },
   {
    "duration": 23,
    "start_time": "2023-05-06T17:32:04.589Z"
   },
   {
    "duration": 23,
    "start_time": "2023-05-06T17:32:04.614Z"
   },
   {
    "duration": 9222,
    "start_time": "2023-05-06T17:32:04.638Z"
   },
   {
    "duration": 32,
    "start_time": "2023-05-06T17:32:13.862Z"
   },
   {
    "duration": 5345,
    "start_time": "2023-05-06T17:32:13.896Z"
   },
   {
    "duration": 6,
    "start_time": "2023-05-06T17:32:19.242Z"
   },
   {
    "duration": 87,
    "start_time": "2023-05-06T17:32:19.249Z"
   },
   {
    "duration": 134,
    "start_time": "2023-05-06T17:32:19.338Z"
   },
   {
    "duration": 36,
    "start_time": "2023-05-06T17:32:19.474Z"
   },
   {
    "duration": 177,
    "start_time": "2023-05-06T17:32:19.512Z"
   },
   {
    "duration": 37,
    "start_time": "2023-05-06T17:32:19.691Z"
   },
   {
    "duration": 66,
    "start_time": "2023-05-06T17:32:19.730Z"
   },
   {
    "duration": 54,
    "start_time": "2023-05-06T17:32:19.798Z"
   },
   {
    "duration": 7,
    "start_time": "2023-05-06T17:32:19.853Z"
   },
   {
    "duration": 24,
    "start_time": "2023-05-06T17:32:19.861Z"
   },
   {
    "duration": 5,
    "start_time": "2023-05-06T17:33:58.989Z"
   },
   {
    "duration": 824,
    "start_time": "2023-05-06T17:36:19.245Z"
   },
   {
    "duration": 5,
    "start_time": "2023-05-06T17:36:29.237Z"
   },
   {
    "duration": 6,
    "start_time": "2023-05-06T17:38:36.978Z"
   },
   {
    "duration": 13,
    "start_time": "2023-05-06T17:39:48.812Z"
   },
   {
    "duration": 30,
    "start_time": "2023-05-06T17:40:05.377Z"
   },
   {
    "duration": 20,
    "start_time": "2023-05-06T18:01:19.047Z"
   },
   {
    "duration": 45,
    "start_time": "2023-05-06T18:01:51.775Z"
   },
   {
    "duration": 1025,
    "start_time": "2023-05-06T18:03:02.930Z"
   },
   {
    "duration": 29,
    "start_time": "2023-05-06T18:03:13.077Z"
   },
   {
    "duration": 19,
    "start_time": "2023-05-06T18:04:49.429Z"
   },
   {
    "duration": 799,
    "start_time": "2023-05-06T18:08:00.926Z"
   },
   {
    "duration": 27,
    "start_time": "2023-05-06T18:08:51.027Z"
   },
   {
    "duration": 30,
    "start_time": "2023-05-06T18:37:32.771Z"
   },
   {
    "duration": 26,
    "start_time": "2023-05-06T18:37:45.027Z"
   },
   {
    "duration": 35,
    "start_time": "2023-05-06T18:37:49.014Z"
   },
   {
    "duration": 30,
    "start_time": "2023-05-06T18:37:52.291Z"
   },
   {
    "duration": 32,
    "start_time": "2023-05-06T18:37:55.955Z"
   },
   {
    "duration": 34,
    "start_time": "2023-05-06T18:38:00.659Z"
   },
   {
    "duration": 1218,
    "start_time": "2023-05-06T18:57:16.971Z"
   },
   {
    "duration": 190,
    "start_time": "2023-05-06T18:57:18.191Z"
   },
   {
    "duration": 21,
    "start_time": "2023-05-06T18:57:18.383Z"
   },
   {
    "duration": 14,
    "start_time": "2023-05-06T18:57:18.406Z"
   },
   {
    "duration": 10,
    "start_time": "2023-05-06T18:57:18.421Z"
   },
   {
    "duration": 18,
    "start_time": "2023-05-06T18:57:18.432Z"
   },
   {
    "duration": 90,
    "start_time": "2023-05-06T18:57:18.451Z"
   },
   {
    "duration": 86,
    "start_time": "2023-05-06T18:57:18.543Z"
   },
   {
    "duration": 866,
    "start_time": "2023-05-06T18:57:18.631Z"
   },
   {
    "duration": 8,
    "start_time": "2023-05-06T18:57:19.500Z"
   },
   {
    "duration": 27,
    "start_time": "2023-05-06T18:57:19.509Z"
   },
   {
    "duration": 14,
    "start_time": "2023-05-06T18:57:19.538Z"
   },
   {
    "duration": 17,
    "start_time": "2023-05-06T18:57:19.554Z"
   },
   {
    "duration": 8660,
    "start_time": "2023-05-06T18:57:19.572Z"
   },
   {
    "duration": 33,
    "start_time": "2023-05-06T18:57:28.234Z"
   },
   {
    "duration": 4869,
    "start_time": "2023-05-06T18:57:28.268Z"
   },
   {
    "duration": 5,
    "start_time": "2023-05-06T18:57:33.138Z"
   },
   {
    "duration": 93,
    "start_time": "2023-05-06T18:57:33.145Z"
   },
   {
    "duration": 115,
    "start_time": "2023-05-06T18:57:33.240Z"
   },
   {
    "duration": 49,
    "start_time": "2023-05-06T18:57:33.357Z"
   },
   {
    "duration": 141,
    "start_time": "2023-05-06T18:57:33.408Z"
   },
   {
    "duration": 69,
    "start_time": "2023-05-06T18:57:33.551Z"
   },
   {
    "duration": 41,
    "start_time": "2023-05-06T18:57:33.621Z"
   },
   {
    "duration": 58,
    "start_time": "2023-05-06T18:57:33.663Z"
   },
   {
    "duration": 5,
    "start_time": "2023-05-06T18:57:33.723Z"
   },
   {
    "duration": 15,
    "start_time": "2023-05-06T18:57:33.730Z"
   },
   {
    "duration": 19,
    "start_time": "2023-05-06T18:57:33.746Z"
   },
   {
    "duration": 8,
    "start_time": "2023-05-06T18:57:33.768Z"
   },
   {
    "duration": 17,
    "start_time": "2023-05-06T18:57:33.778Z"
   },
   {
    "duration": 29,
    "start_time": "2023-05-06T18:57:33.796Z"
   },
   {
    "duration": 48,
    "start_time": "2023-05-06T18:57:33.826Z"
   },
   {
    "duration": 25,
    "start_time": "2023-05-06T18:57:33.876Z"
   },
   {
    "duration": 42,
    "start_time": "2023-05-06T18:57:33.903Z"
   },
   {
    "duration": 1185,
    "start_time": "2023-05-06T21:39:08.377Z"
   },
   {
    "duration": 225,
    "start_time": "2023-05-06T21:39:09.564Z"
   },
   {
    "duration": 20,
    "start_time": "2023-05-06T21:39:09.791Z"
   },
   {
    "duration": 26,
    "start_time": "2023-05-06T21:39:09.813Z"
   },
   {
    "duration": 18,
    "start_time": "2023-05-06T21:39:09.841Z"
   },
   {
    "duration": 8,
    "start_time": "2023-05-06T21:39:09.861Z"
   },
   {
    "duration": 64,
    "start_time": "2023-05-06T21:39:09.870Z"
   },
   {
    "duration": 88,
    "start_time": "2023-05-06T21:39:09.936Z"
   },
   {
    "duration": 972,
    "start_time": "2023-05-06T21:39:10.026Z"
   },
   {
    "duration": 9,
    "start_time": "2023-05-06T21:39:11.000Z"
   },
   {
    "duration": 5,
    "start_time": "2023-05-06T21:39:11.011Z"
   },
   {
    "duration": 29,
    "start_time": "2023-05-06T21:39:11.018Z"
   },
   {
    "duration": 31,
    "start_time": "2023-05-06T21:39:11.048Z"
   },
   {
    "duration": 8825,
    "start_time": "2023-05-06T21:39:11.080Z"
   },
   {
    "duration": 37,
    "start_time": "2023-05-06T21:39:19.907Z"
   },
   {
    "duration": 5118,
    "start_time": "2023-05-06T21:39:19.959Z"
   },
   {
    "duration": 5,
    "start_time": "2023-05-06T21:39:25.079Z"
   },
   {
    "duration": 92,
    "start_time": "2023-05-06T21:39:25.085Z"
   },
   {
    "duration": 236,
    "start_time": "2023-05-06T21:39:25.179Z"
   },
   {
    "duration": 31,
    "start_time": "2023-05-06T21:39:25.416Z"
   },
   {
    "duration": 150,
    "start_time": "2023-05-06T21:39:25.449Z"
   },
   {
    "duration": 63,
    "start_time": "2023-05-06T21:39:25.601Z"
   },
   {
    "duration": 39,
    "start_time": "2023-05-06T21:39:25.665Z"
   },
   {
    "duration": 5,
    "start_time": "2023-05-06T21:39:25.705Z"
   },
   {
    "duration": 9,
    "start_time": "2023-05-06T21:39:25.711Z"
   },
   {
    "duration": 7,
    "start_time": "2023-05-06T21:39:25.736Z"
   },
   {
    "duration": 21,
    "start_time": "2023-05-06T21:39:25.747Z"
   },
   {
    "duration": 6,
    "start_time": "2023-05-06T21:39:25.770Z"
   },
   {
    "duration": 20,
    "start_time": "2023-05-06T21:39:25.777Z"
   },
   {
    "duration": 53,
    "start_time": "2023-05-06T21:39:25.799Z"
   },
   {
    "duration": 25,
    "start_time": "2023-05-06T21:39:25.856Z"
   },
   {
    "duration": 29,
    "start_time": "2023-05-06T21:39:25.883Z"
   },
   {
    "duration": 47,
    "start_time": "2023-05-07T07:54:38.276Z"
   },
   {
    "duration": 6,
    "start_time": "2023-05-07T07:54:44.564Z"
   },
   {
    "duration": 1297,
    "start_time": "2023-05-07T07:54:51.613Z"
   },
   {
    "duration": 776,
    "start_time": "2023-05-07T07:54:52.912Z"
   },
   {
    "duration": 17,
    "start_time": "2023-05-07T07:54:53.689Z"
   },
   {
    "duration": 10,
    "start_time": "2023-05-07T07:54:53.708Z"
   },
   {
    "duration": 7,
    "start_time": "2023-05-07T07:54:53.719Z"
   },
   {
    "duration": 15,
    "start_time": "2023-05-07T07:54:53.727Z"
   },
   {
    "duration": 66,
    "start_time": "2023-05-07T07:54:53.744Z"
   },
   {
    "duration": 67,
    "start_time": "2023-05-07T07:54:53.812Z"
   },
   {
    "duration": 105,
    "start_time": "2023-05-07T07:54:53.880Z"
   },
   {
    "duration": 0,
    "start_time": "2023-05-07T07:54:53.994Z"
   },
   {
    "duration": 0,
    "start_time": "2023-05-07T07:54:53.995Z"
   },
   {
    "duration": 18,
    "start_time": "2023-05-07T07:55:35.612Z"
   },
   {
    "duration": 9,
    "start_time": "2023-05-07T07:55:40.603Z"
   },
   {
    "duration": 8,
    "start_time": "2023-05-07T07:55:53.140Z"
   },
   {
    "duration": 7,
    "start_time": "2023-05-07T07:55:57.955Z"
   },
   {
    "duration": 7,
    "start_time": "2023-05-07T07:56:02.219Z"
   },
   {
    "duration": 8,
    "start_time": "2023-05-07T07:56:06.332Z"
   },
   {
    "duration": 8,
    "start_time": "2023-05-07T07:56:17.027Z"
   },
   {
    "duration": 1151,
    "start_time": "2023-05-07T07:56:27.559Z"
   },
   {
    "duration": 169,
    "start_time": "2023-05-07T07:56:28.712Z"
   },
   {
    "duration": 21,
    "start_time": "2023-05-07T07:56:28.882Z"
   },
   {
    "duration": 9,
    "start_time": "2023-05-07T07:56:28.905Z"
   },
   {
    "duration": 2,
    "start_time": "2023-05-07T07:56:28.916Z"
   },
   {
    "duration": 5,
    "start_time": "2023-05-07T07:56:28.919Z"
   },
   {
    "duration": 80,
    "start_time": "2023-05-07T07:56:28.926Z"
   },
   {
    "duration": 68,
    "start_time": "2023-05-07T07:56:29.008Z"
   },
   {
    "duration": 17,
    "start_time": "2023-05-07T07:56:29.078Z"
   },
   {
    "duration": 102,
    "start_time": "2023-05-07T07:56:29.097Z"
   },
   {
    "duration": 0,
    "start_time": "2023-05-07T07:56:29.202Z"
   },
   {
    "duration": 8,
    "start_time": "2023-05-07T07:56:40.835Z"
   },
   {
    "duration": 8,
    "start_time": "2023-05-07T07:57:10.322Z"
   },
   {
    "duration": 1191,
    "start_time": "2023-05-07T07:57:57.171Z"
   },
   {
    "duration": 167,
    "start_time": "2023-05-07T07:57:58.364Z"
   },
   {
    "duration": 16,
    "start_time": "2023-05-07T07:57:58.533Z"
   },
   {
    "duration": 20,
    "start_time": "2023-05-07T07:57:58.551Z"
   },
   {
    "duration": 2,
    "start_time": "2023-05-07T07:57:58.573Z"
   },
   {
    "duration": 5,
    "start_time": "2023-05-07T07:57:58.576Z"
   },
   {
    "duration": 63,
    "start_time": "2023-05-07T07:57:58.583Z"
   },
   {
    "duration": 77,
    "start_time": "2023-05-07T07:57:58.648Z"
   },
   {
    "duration": 830,
    "start_time": "2023-05-07T07:57:58.727Z"
   },
   {
    "duration": 8,
    "start_time": "2023-05-07T07:57:59.559Z"
   },
   {
    "duration": 1189,
    "start_time": "2023-05-07T07:59:48.265Z"
   },
   {
    "duration": 30,
    "start_time": "2023-05-07T07:59:54.458Z"
   },
   {
    "duration": 23,
    "start_time": "2023-05-07T08:00:18.634Z"
   },
   {
    "duration": 19,
    "start_time": "2023-05-07T08:00:45.697Z"
   },
   {
    "duration": 31,
    "start_time": "2023-05-07T08:01:26.936Z"
   },
   {
    "duration": 25,
    "start_time": "2023-05-07T08:02:05.792Z"
   },
   {
    "duration": 32,
    "start_time": "2023-05-07T08:02:16.832Z"
   },
   {
    "duration": 26,
    "start_time": "2023-05-07T08:02:27.216Z"
   },
   {
    "duration": 30,
    "start_time": "2023-05-07T08:03:09.959Z"
   },
   {
    "duration": 24,
    "start_time": "2023-05-07T08:03:15.327Z"
   },
   {
    "duration": 21,
    "start_time": "2023-05-07T08:03:26.735Z"
   },
   {
    "duration": 5,
    "start_time": "2023-05-07T08:04:03.679Z"
   },
   {
    "duration": 16,
    "start_time": "2023-05-07T08:05:54.086Z"
   },
   {
    "duration": 18,
    "start_time": "2023-05-07T08:05:55.166Z"
   },
   {
    "duration": 1026,
    "start_time": "2023-05-07T08:06:34.225Z"
   },
   {
    "duration": 973,
    "start_time": "2023-05-07T08:08:52.741Z"
   },
   {
    "duration": 9,
    "start_time": "2023-05-07T08:08:55.075Z"
   },
   {
    "duration": 1006,
    "start_time": "2023-05-07T08:09:00.925Z"
   },
   {
    "duration": 18,
    "start_time": "2023-05-07T08:09:02.589Z"
   },
   {
    "duration": 19,
    "start_time": "2023-05-07T08:09:40.116Z"
   },
   {
    "duration": 9,
    "start_time": "2023-05-07T08:09:42.245Z"
   },
   {
    "duration": 82,
    "start_time": "2023-05-07T08:09:49.164Z"
   },
   {
    "duration": 10,
    "start_time": "2023-05-07T08:09:50.309Z"
   },
   {
    "duration": 19,
    "start_time": "2023-05-07T08:10:05.636Z"
   },
   {
    "duration": 10,
    "start_time": "2023-05-07T08:10:07.340Z"
   },
   {
    "duration": 19,
    "start_time": "2023-05-07T08:10:43.564Z"
   },
   {
    "duration": 18,
    "start_time": "2023-05-07T08:10:44.587Z"
   },
   {
    "duration": 29,
    "start_time": "2023-05-07T08:11:35.891Z"
   },
   {
    "duration": 10,
    "start_time": "2023-05-07T08:11:36.731Z"
   },
   {
    "duration": 18,
    "start_time": "2023-05-07T08:11:56.006Z"
   },
   {
    "duration": 10,
    "start_time": "2023-05-07T08:11:57.225Z"
   },
   {
    "duration": 81,
    "start_time": "2023-05-07T08:12:01.044Z"
   },
   {
    "duration": 9,
    "start_time": "2023-05-07T08:12:01.900Z"
   },
   {
    "duration": 1252,
    "start_time": "2023-05-07T08:12:32.108Z"
   },
   {
    "duration": 219,
    "start_time": "2023-05-07T08:12:33.362Z"
   },
   {
    "duration": 31,
    "start_time": "2023-05-07T08:12:33.583Z"
   },
   {
    "duration": 14,
    "start_time": "2023-05-07T08:12:33.616Z"
   },
   {
    "duration": 3,
    "start_time": "2023-05-07T08:12:33.633Z"
   },
   {
    "duration": 14,
    "start_time": "2023-05-07T08:12:33.637Z"
   },
   {
    "duration": 91,
    "start_time": "2023-05-07T08:12:33.653Z"
   },
   {
    "duration": 102,
    "start_time": "2023-05-07T08:12:33.746Z"
   },
   {
    "duration": 20,
    "start_time": "2023-05-07T08:12:33.849Z"
   },
   {
    "duration": 40,
    "start_time": "2023-05-07T08:12:33.871Z"
   },
   {
    "duration": 11,
    "start_time": "2023-05-07T08:12:33.913Z"
   },
   {
    "duration": 806,
    "start_time": "2023-05-07T08:12:33.926Z"
   },
   {
    "duration": 0,
    "start_time": "2023-05-07T08:12:34.734Z"
   },
   {
    "duration": 610,
    "start_time": "2023-05-07T08:12:42.411Z"
   },
   {
    "duration": 29,
    "start_time": "2023-05-07T08:13:10.186Z"
   },
   {
    "duration": 10,
    "start_time": "2023-05-07T08:13:11.922Z"
   },
   {
    "duration": 22,
    "start_time": "2023-05-07T08:13:44.593Z"
   },
   {
    "duration": 9,
    "start_time": "2023-05-07T08:13:45.626Z"
   },
   {
    "duration": 17,
    "start_time": "2023-05-07T08:23:17.307Z"
   },
   {
    "duration": 18,
    "start_time": "2023-05-07T08:23:18.389Z"
   },
   {
    "duration": 82,
    "start_time": "2023-05-07T08:24:46.188Z"
   },
   {
    "duration": 8,
    "start_time": "2023-05-07T08:24:47.364Z"
   },
   {
    "duration": 22,
    "start_time": "2023-05-07T08:25:00.235Z"
   },
   {
    "duration": 25,
    "start_time": "2023-05-07T08:25:53.812Z"
   },
   {
    "duration": 23,
    "start_time": "2023-05-07T08:30:24.705Z"
   },
   {
    "duration": 23,
    "start_time": "2023-05-07T08:30:44.761Z"
   },
   {
    "duration": 81,
    "start_time": "2023-05-07T08:30:56.465Z"
   },
   {
    "duration": 22,
    "start_time": "2023-05-07T08:31:01.833Z"
   },
   {
    "duration": 113,
    "start_time": "2023-05-07T08:32:04.064Z"
   },
   {
    "duration": 8,
    "start_time": "2023-05-07T08:35:37.463Z"
   },
   {
    "duration": 5,
    "start_time": "2023-05-07T08:35:39.743Z"
   },
   {
    "duration": 4,
    "start_time": "2023-05-07T08:36:01.679Z"
   },
   {
    "duration": 10,
    "start_time": "2023-05-07T08:36:45.950Z"
   },
   {
    "duration": 11,
    "start_time": "2023-05-07T08:37:15.871Z"
   },
   {
    "duration": 16,
    "start_time": "2023-05-07T08:40:28.724Z"
   },
   {
    "duration": 17,
    "start_time": "2023-05-07T08:40:42.452Z"
   },
   {
    "duration": 80,
    "start_time": "2023-05-07T08:41:08.172Z"
   },
   {
    "duration": 17,
    "start_time": "2023-05-07T08:41:11.659Z"
   },
   {
    "duration": 15,
    "start_time": "2023-05-07T08:41:38.419Z"
   },
   {
    "duration": 78,
    "start_time": "2023-05-07T08:51:26.663Z"
   },
   {
    "duration": 8,
    "start_time": "2023-05-07T08:51:41.524Z"
   },
   {
    "duration": 286,
    "start_time": "2023-05-07T08:54:14.181Z"
   },
   {
    "duration": 299,
    "start_time": "2023-05-07T08:54:24.885Z"
   },
   {
    "duration": 335,
    "start_time": "2023-05-07T08:54:29.437Z"
   },
   {
    "duration": 364,
    "start_time": "2023-05-07T09:00:54.658Z"
   },
   {
    "duration": 386,
    "start_time": "2023-05-07T09:01:01.529Z"
   },
   {
    "duration": 17,
    "start_time": "2023-05-07T09:03:21.004Z"
   },
   {
    "duration": 17,
    "start_time": "2023-05-07T09:06:44.623Z"
   },
   {
    "duration": 84,
    "start_time": "2023-05-07T09:08:36.438Z"
   },
   {
    "duration": 945,
    "start_time": "2023-05-07T09:08:58.070Z"
   },
   {
    "duration": 1271,
    "start_time": "2023-05-07T09:09:39.877Z"
   },
   {
    "duration": 84,
    "start_time": "2023-05-07T09:10:00.741Z"
   },
   {
    "duration": 1017,
    "start_time": "2023-05-07T09:10:45.221Z"
   },
   {
    "duration": 1053,
    "start_time": "2023-05-07T09:17:31.714Z"
   },
   {
    "duration": 1047,
    "start_time": "2023-05-07T09:17:48.369Z"
   },
   {
    "duration": 130,
    "start_time": "2023-05-07T09:18:17.681Z"
   },
   {
    "duration": 28,
    "start_time": "2023-05-07T09:18:24.448Z"
   },
   {
    "duration": 71,
    "start_time": "2023-05-07T09:18:33.009Z"
   },
   {
    "duration": 9420,
    "start_time": "2023-05-07T09:18:38.040Z"
   },
   {
    "duration": 1170,
    "start_time": "2023-05-07T09:20:47.435Z"
   },
   {
    "duration": 184,
    "start_time": "2023-05-07T09:20:48.608Z"
   },
   {
    "duration": 24,
    "start_time": "2023-05-07T09:20:48.794Z"
   },
   {
    "duration": 28,
    "start_time": "2023-05-07T09:20:48.820Z"
   },
   {
    "duration": 3,
    "start_time": "2023-05-07T09:20:48.850Z"
   },
   {
    "duration": 4,
    "start_time": "2023-05-07T09:20:48.855Z"
   },
   {
    "duration": 65,
    "start_time": "2023-05-07T09:20:48.860Z"
   },
   {
    "duration": 80,
    "start_time": "2023-05-07T09:20:48.927Z"
   },
   {
    "duration": 18,
    "start_time": "2023-05-07T09:20:49.008Z"
   },
   {
    "duration": 11,
    "start_time": "2023-05-07T09:20:49.028Z"
   },
   {
    "duration": 9,
    "start_time": "2023-05-07T09:20:49.041Z"
   },
   {
    "duration": 118,
    "start_time": "2023-05-07T09:20:49.052Z"
   },
   {
    "duration": 10,
    "start_time": "2023-05-07T09:20:49.172Z"
   },
   {
    "duration": 11,
    "start_time": "2023-05-07T09:20:49.202Z"
   },
   {
    "duration": 26,
    "start_time": "2023-05-07T09:20:49.215Z"
   },
   {
    "duration": 5,
    "start_time": "2023-05-07T09:20:49.243Z"
   },
   {
    "duration": 476,
    "start_time": "2023-05-07T09:20:49.249Z"
   },
   {
    "duration": 1942,
    "start_time": "2023-05-07T09:20:49.726Z"
   },
   {
    "duration": 25866,
    "start_time": "2023-05-07T09:21:07.031Z"
   },
   {
    "duration": 0,
    "start_time": "2023-05-07T09:21:55.258Z"
   },
   {
    "duration": 83621,
    "start_time": "2023-05-07T09:21:57.112Z"
   },
   {
    "duration": 1618,
    "start_time": "2023-05-07T09:23:50.711Z"
   },
   {
    "duration": 1682,
    "start_time": "2023-05-07T09:24:00.709Z"
   },
   {
    "duration": 1645,
    "start_time": "2023-05-07T09:24:25.222Z"
   },
   {
    "duration": 1620,
    "start_time": "2023-05-07T09:24:49.021Z"
   },
   {
    "duration": 1129,
    "start_time": "2023-05-07T09:24:59.059Z"
   },
   {
    "duration": 184,
    "start_time": "2023-05-07T09:25:00.190Z"
   },
   {
    "duration": 18,
    "start_time": "2023-05-07T09:25:00.375Z"
   },
   {
    "duration": 21,
    "start_time": "2023-05-07T09:25:00.400Z"
   },
   {
    "duration": 27,
    "start_time": "2023-05-07T09:25:00.422Z"
   },
   {
    "duration": 23,
    "start_time": "2023-05-07T09:25:00.451Z"
   },
   {
    "duration": 96,
    "start_time": "2023-05-07T09:25:00.475Z"
   },
   {
    "duration": 84,
    "start_time": "2023-05-07T09:25:00.573Z"
   },
   {
    "duration": 20,
    "start_time": "2023-05-07T09:25:00.659Z"
   },
   {
    "duration": 52,
    "start_time": "2023-05-07T09:25:00.681Z"
   },
   {
    "duration": 46,
    "start_time": "2023-05-07T09:25:00.735Z"
   },
   {
    "duration": 136,
    "start_time": "2023-05-07T09:25:00.783Z"
   },
   {
    "duration": 9,
    "start_time": "2023-05-07T09:25:00.920Z"
   },
   {
    "duration": 65,
    "start_time": "2023-05-07T09:25:00.931Z"
   },
   {
    "duration": 60,
    "start_time": "2023-05-07T09:25:00.999Z"
   },
   {
    "duration": 79,
    "start_time": "2023-05-07T09:25:01.061Z"
   },
   {
    "duration": 534,
    "start_time": "2023-05-07T09:25:01.141Z"
   },
   {
    "duration": 1677,
    "start_time": "2023-05-07T09:25:01.677Z"
   },
   {
    "duration": 1563,
    "start_time": "2023-05-07T09:25:50.509Z"
   },
   {
    "duration": 1245,
    "start_time": "2023-05-07T09:26:10.567Z"
   },
   {
    "duration": 219,
    "start_time": "2023-05-07T09:26:11.815Z"
   },
   {
    "duration": 21,
    "start_time": "2023-05-07T09:26:12.036Z"
   },
   {
    "duration": 12,
    "start_time": "2023-05-07T09:26:12.060Z"
   },
   {
    "duration": 34,
    "start_time": "2023-05-07T09:26:12.073Z"
   },
   {
    "duration": 6,
    "start_time": "2023-05-07T09:26:12.109Z"
   },
   {
    "duration": 66,
    "start_time": "2023-05-07T09:26:12.117Z"
   },
   {
    "duration": 84,
    "start_time": "2023-05-07T09:26:12.185Z"
   },
   {
    "duration": 36,
    "start_time": "2023-05-07T09:26:12.272Z"
   },
   {
    "duration": 15,
    "start_time": "2023-05-07T09:26:12.317Z"
   },
   {
    "duration": 12,
    "start_time": "2023-05-07T09:26:12.334Z"
   },
   {
    "duration": 144,
    "start_time": "2023-05-07T09:26:12.348Z"
   },
   {
    "duration": 16,
    "start_time": "2023-05-07T09:26:12.494Z"
   },
   {
    "duration": 13,
    "start_time": "2023-05-07T09:26:12.511Z"
   },
   {
    "duration": 17,
    "start_time": "2023-05-07T09:26:12.526Z"
   },
   {
    "duration": 6,
    "start_time": "2023-05-07T09:26:12.544Z"
   },
   {
    "duration": 539,
    "start_time": "2023-05-07T09:26:12.551Z"
   },
   {
    "duration": 1895,
    "start_time": "2023-05-07T09:26:13.094Z"
   },
   {
    "duration": 188,
    "start_time": "2023-05-07T09:26:41.476Z"
   },
   {
    "duration": 1649,
    "start_time": "2023-05-07T09:26:45.084Z"
   },
   {
    "duration": 108,
    "start_time": "2023-05-07T09:27:07.319Z"
   },
   {
    "duration": 124,
    "start_time": "2023-05-07T09:27:47.726Z"
   },
   {
    "duration": 1178,
    "start_time": "2023-05-07T09:28:19.535Z"
   },
   {
    "duration": 196,
    "start_time": "2023-05-07T09:28:20.715Z"
   },
   {
    "duration": 17,
    "start_time": "2023-05-07T09:28:20.913Z"
   },
   {
    "duration": 17,
    "start_time": "2023-05-07T09:28:20.932Z"
   },
   {
    "duration": 11,
    "start_time": "2023-05-07T09:28:20.951Z"
   },
   {
    "duration": 35,
    "start_time": "2023-05-07T09:28:20.963Z"
   },
   {
    "duration": 64,
    "start_time": "2023-05-07T09:28:21.004Z"
   },
   {
    "duration": 85,
    "start_time": "2023-05-07T09:28:21.070Z"
   },
   {
    "duration": 17,
    "start_time": "2023-05-07T09:28:21.157Z"
   },
   {
    "duration": 14,
    "start_time": "2023-05-07T09:28:21.176Z"
   },
   {
    "duration": 15,
    "start_time": "2023-05-07T09:28:21.199Z"
   },
   {
    "duration": 98,
    "start_time": "2023-05-07T09:28:21.216Z"
   },
   {
    "duration": 9,
    "start_time": "2023-05-07T09:28:21.315Z"
   },
   {
    "duration": 10,
    "start_time": "2023-05-07T09:28:21.326Z"
   },
   {
    "duration": 16,
    "start_time": "2023-05-07T09:28:21.338Z"
   },
   {
    "duration": 5,
    "start_time": "2023-05-07T09:28:21.356Z"
   },
   {
    "duration": 525,
    "start_time": "2023-05-07T09:28:21.363Z"
   },
   {
    "duration": 4,
    "start_time": "2023-05-07T09:28:21.902Z"
   },
   {
    "duration": 8657,
    "start_time": "2023-05-07T09:28:37.859Z"
   },
   {
    "duration": 8307,
    "start_time": "2023-05-07T09:28:48.588Z"
   },
   {
    "duration": 1018,
    "start_time": "2023-05-07T09:31:20.619Z"
   },
   {
    "duration": 988,
    "start_time": "2023-05-07T09:31:39.242Z"
   },
   {
    "duration": 752,
    "start_time": "2023-05-07T09:31:50.107Z"
   },
   {
    "duration": 121,
    "start_time": "2023-05-07T09:31:55.909Z"
   },
   {
    "duration": 589,
    "start_time": "2023-05-07T09:31:59.625Z"
   },
   {
    "duration": 12810,
    "start_time": "2023-05-07T09:32:08.138Z"
   },
   {
    "duration": 9478,
    "start_time": "2023-05-07T09:32:26.554Z"
   },
   {
    "duration": 6265,
    "start_time": "2023-05-07T09:40:09.182Z"
   },
   {
    "duration": 5639,
    "start_time": "2023-05-07T09:43:25.627Z"
   },
   {
    "duration": 4,
    "start_time": "2023-05-07T09:56:25.389Z"
   },
   {
    "duration": 12,
    "start_time": "2023-05-07T09:56:28.470Z"
   },
   {
    "duration": 4,
    "start_time": "2023-05-07T09:57:35.912Z"
   },
   {
    "duration": 4,
    "start_time": "2023-05-07T09:57:46.989Z"
   },
   {
    "duration": 4,
    "start_time": "2023-05-07T09:58:00.788Z"
   },
   {
    "duration": 3,
    "start_time": "2023-05-07T09:58:01.756Z"
   },
   {
    "duration": 1155,
    "start_time": "2023-05-07T09:58:49.250Z"
   },
   {
    "duration": 190,
    "start_time": "2023-05-07T09:58:50.408Z"
   },
   {
    "duration": 18,
    "start_time": "2023-05-07T09:58:50.604Z"
   },
   {
    "duration": 9,
    "start_time": "2023-05-07T09:58:50.624Z"
   },
   {
    "duration": 4,
    "start_time": "2023-05-07T09:58:50.635Z"
   },
   {
    "duration": 5,
    "start_time": "2023-05-07T09:58:50.640Z"
   },
   {
    "duration": 77,
    "start_time": "2023-05-07T09:58:50.647Z"
   },
   {
    "duration": 82,
    "start_time": "2023-05-07T09:58:50.726Z"
   },
   {
    "duration": 19,
    "start_time": "2023-05-07T09:58:50.810Z"
   },
   {
    "duration": 13,
    "start_time": "2023-05-07T09:58:50.831Z"
   },
   {
    "duration": 9,
    "start_time": "2023-05-07T09:58:50.846Z"
   },
   {
    "duration": 107,
    "start_time": "2023-05-07T09:58:50.857Z"
   },
   {
    "duration": 9,
    "start_time": "2023-05-07T09:58:50.966Z"
   },
   {
    "duration": 27,
    "start_time": "2023-05-07T09:58:50.977Z"
   },
   {
    "duration": 16,
    "start_time": "2023-05-07T09:58:51.006Z"
   },
   {
    "duration": 5,
    "start_time": "2023-05-07T09:58:51.024Z"
   },
   {
    "duration": 522,
    "start_time": "2023-05-07T09:58:51.031Z"
   },
   {
    "duration": 8689,
    "start_time": "2023-05-07T09:58:51.555Z"
   },
   {
    "duration": 9127,
    "start_time": "2023-05-07T09:59:00.246Z"
   },
   {
    "duration": 3,
    "start_time": "2023-05-07T09:59:09.375Z"
   },
   {
    "duration": 31,
    "start_time": "2023-05-07T09:59:09.380Z"
   },
   {
    "duration": 4,
    "start_time": "2023-05-07T09:59:25.043Z"
   },
   {
    "duration": 4,
    "start_time": "2023-05-07T09:59:26.371Z"
   },
   {
    "duration": 4,
    "start_time": "2023-05-07T09:59:27.635Z"
   },
   {
    "duration": 3,
    "start_time": "2023-05-07T09:59:28.486Z"
   },
   {
    "duration": 3,
    "start_time": "2023-05-07T09:59:31.155Z"
   },
   {
    "duration": 72,
    "start_time": "2023-05-07T10:00:37.210Z"
   },
   {
    "duration": 3,
    "start_time": "2023-05-07T10:00:39.818Z"
   },
   {
    "duration": 3,
    "start_time": "2023-05-07T10:01:27.666Z"
   },
   {
    "duration": 167,
    "start_time": "2023-05-07T10:02:09.385Z"
   },
   {
    "duration": 52,
    "start_time": "2023-05-07T10:02:42.457Z"
   },
   {
    "duration": 5,
    "start_time": "2023-05-07T10:03:14.004Z"
   },
   {
    "duration": 4,
    "start_time": "2023-05-07T10:03:33.489Z"
   },
   {
    "duration": 4,
    "start_time": "2023-05-07T10:03:45.257Z"
   },
   {
    "duration": 4,
    "start_time": "2023-05-07T10:03:49.848Z"
   },
   {
    "duration": 5,
    "start_time": "2023-05-07T10:05:01.239Z"
   },
   {
    "duration": 7,
    "start_time": "2023-05-07T10:05:26.404Z"
   },
   {
    "duration": 22,
    "start_time": "2023-05-07T10:05:58.791Z"
   },
   {
    "duration": 18,
    "start_time": "2023-05-07T10:06:08.607Z"
   },
   {
    "duration": 16,
    "start_time": "2023-05-07T10:08:08.508Z"
   },
   {
    "duration": 16,
    "start_time": "2023-05-07T10:08:09.710Z"
   },
   {
    "duration": 15,
    "start_time": "2023-05-07T10:09:22.893Z"
   },
   {
    "duration": 29,
    "start_time": "2023-05-07T10:09:25.293Z"
   },
   {
    "duration": 72,
    "start_time": "2023-05-07T10:09:41.699Z"
   },
   {
    "duration": 27,
    "start_time": "2023-05-07T10:09:50.692Z"
   },
   {
    "duration": 94,
    "start_time": "2023-05-07T10:10:01.245Z"
   },
   {
    "duration": 14,
    "start_time": "2023-05-07T10:10:05.808Z"
   },
   {
    "duration": 5,
    "start_time": "2023-05-07T10:16:43.162Z"
   },
   {
    "duration": 9,
    "start_time": "2023-05-07T10:16:51.473Z"
   },
   {
    "duration": 7,
    "start_time": "2023-05-07T10:16:56.217Z"
   },
   {
    "duration": 9,
    "start_time": "2023-05-07T10:21:03.271Z"
   },
   {
    "duration": 10,
    "start_time": "2023-05-07T10:21:08.567Z"
   },
   {
    "duration": 9,
    "start_time": "2023-05-07T10:21:09.224Z"
   },
   {
    "duration": 9,
    "start_time": "2023-05-07T10:21:09.824Z"
   },
   {
    "duration": 8,
    "start_time": "2023-05-07T10:21:10.425Z"
   },
   {
    "duration": 9,
    "start_time": "2023-05-07T10:21:11.031Z"
   },
   {
    "duration": 10,
    "start_time": "2023-05-07T10:21:11.623Z"
   },
   {
    "duration": 9,
    "start_time": "2023-05-07T10:21:12.087Z"
   },
   {
    "duration": 16,
    "start_time": "2023-05-07T10:21:27.528Z"
   },
   {
    "duration": 22,
    "start_time": "2023-05-07T10:21:48.012Z"
   },
   {
    "duration": 10,
    "start_time": "2023-05-07T10:22:01.819Z"
   },
   {
    "duration": 6,
    "start_time": "2023-05-07T10:22:09.055Z"
   },
   {
    "duration": 8,
    "start_time": "2023-05-07T10:22:46.671Z"
   },
   {
    "duration": 19,
    "start_time": "2023-05-07T10:22:51.342Z"
   },
   {
    "duration": 14,
    "start_time": "2023-05-07T10:22:58.862Z"
   },
   {
    "duration": 8,
    "start_time": "2023-05-07T10:23:04.439Z"
   },
   {
    "duration": 1262,
    "start_time": "2023-05-07T10:23:10.341Z"
   },
   {
    "duration": 210,
    "start_time": "2023-05-07T10:23:11.605Z"
   },
   {
    "duration": 19,
    "start_time": "2023-05-07T10:23:11.817Z"
   },
   {
    "duration": 15,
    "start_time": "2023-05-07T10:23:11.838Z"
   },
   {
    "duration": 5,
    "start_time": "2023-05-07T10:23:11.855Z"
   },
   {
    "duration": 15,
    "start_time": "2023-05-07T10:23:11.863Z"
   },
   {
    "duration": 84,
    "start_time": "2023-05-07T10:23:11.879Z"
   },
   {
    "duration": 89,
    "start_time": "2023-05-07T10:23:11.964Z"
   },
   {
    "duration": 19,
    "start_time": "2023-05-07T10:23:12.055Z"
   },
   {
    "duration": 31,
    "start_time": "2023-05-07T10:23:12.076Z"
   },
   {
    "duration": 11,
    "start_time": "2023-05-07T10:23:12.109Z"
   },
   {
    "duration": 104,
    "start_time": "2023-05-07T10:23:12.122Z"
   },
   {
    "duration": 11,
    "start_time": "2023-05-07T10:23:12.228Z"
   },
   {
    "duration": 13,
    "start_time": "2023-05-07T10:23:12.241Z"
   },
   {
    "duration": 18,
    "start_time": "2023-05-07T10:23:12.256Z"
   },
   {
    "duration": 11,
    "start_time": "2023-05-07T10:23:12.298Z"
   },
   {
    "duration": 542,
    "start_time": "2023-05-07T10:23:12.311Z"
   },
   {
    "duration": 8793,
    "start_time": "2023-05-07T10:23:12.855Z"
   },
   {
    "duration": 8587,
    "start_time": "2023-05-07T10:23:21.650Z"
   },
   {
    "duration": 15,
    "start_time": "2023-05-07T10:23:30.239Z"
   },
   {
    "duration": 12,
    "start_time": "2023-05-07T10:23:30.256Z"
   },
   {
    "duration": 34,
    "start_time": "2023-05-07T10:23:30.270Z"
   },
   {
    "duration": 8,
    "start_time": "2023-05-07T10:27:22.172Z"
   },
   {
    "duration": 8,
    "start_time": "2023-05-07T10:27:30.044Z"
   },
   {
    "duration": 9,
    "start_time": "2023-05-07T10:27:31.228Z"
   },
   {
    "duration": 8,
    "start_time": "2023-05-07T10:27:50.276Z"
   },
   {
    "duration": 13,
    "start_time": "2023-05-07T10:27:58.732Z"
   },
   {
    "duration": 10,
    "start_time": "2023-05-07T10:28:04.350Z"
   },
   {
    "duration": 8,
    "start_time": "2023-05-07T10:29:54.964Z"
   },
   {
    "duration": 128,
    "start_time": "2023-05-07T10:30:06.275Z"
   },
   {
    "duration": 25,
    "start_time": "2023-05-07T10:33:20.226Z"
   },
   {
    "duration": 24,
    "start_time": "2023-05-07T10:34:17.563Z"
   },
   {
    "duration": 23,
    "start_time": "2023-05-07T10:34:26.816Z"
   },
   {
    "duration": 25,
    "start_time": "2023-05-07T10:34:34.400Z"
   },
   {
    "duration": 23,
    "start_time": "2023-05-07T10:34:53.665Z"
   },
   {
    "duration": 27,
    "start_time": "2023-05-07T10:35:13.784Z"
   },
   {
    "duration": 1202,
    "start_time": "2023-05-07T10:35:47.281Z"
   },
   {
    "duration": 170,
    "start_time": "2023-05-07T10:35:48.485Z"
   },
   {
    "duration": 20,
    "start_time": "2023-05-07T10:35:48.656Z"
   },
   {
    "duration": 23,
    "start_time": "2023-05-07T10:35:48.678Z"
   },
   {
    "duration": 3,
    "start_time": "2023-05-07T10:35:48.703Z"
   },
   {
    "duration": 6,
    "start_time": "2023-05-07T10:35:48.708Z"
   },
   {
    "duration": 80,
    "start_time": "2023-05-07T10:35:48.715Z"
   },
   {
    "duration": 74,
    "start_time": "2023-05-07T10:35:48.797Z"
   },
   {
    "duration": 28,
    "start_time": "2023-05-07T10:35:48.873Z"
   },
   {
    "duration": 11,
    "start_time": "2023-05-07T10:35:48.905Z"
   },
   {
    "duration": 10,
    "start_time": "2023-05-07T10:35:48.918Z"
   },
   {
    "duration": 108,
    "start_time": "2023-05-07T10:35:48.930Z"
   },
   {
    "duration": 10,
    "start_time": "2023-05-07T10:35:49.040Z"
   },
   {
    "duration": 11,
    "start_time": "2023-05-07T10:35:49.052Z"
   },
   {
    "duration": 39,
    "start_time": "2023-05-07T10:35:49.065Z"
   },
   {
    "duration": 6,
    "start_time": "2023-05-07T10:35:49.106Z"
   },
   {
    "duration": 484,
    "start_time": "2023-05-07T10:35:49.113Z"
   },
   {
    "duration": 8205,
    "start_time": "2023-05-07T10:35:49.599Z"
   },
   {
    "duration": 8517,
    "start_time": "2023-05-07T10:35:57.805Z"
   },
   {
    "duration": 14,
    "start_time": "2023-05-07T10:36:06.324Z"
   },
   {
    "duration": 6,
    "start_time": "2023-05-07T10:36:06.339Z"
   },
   {
    "duration": 62,
    "start_time": "2023-05-07T10:36:06.347Z"
   },
   {
    "duration": 128,
    "start_time": "2023-05-07T10:37:20.799Z"
   },
   {
    "duration": 17,
    "start_time": "2023-05-07T10:38:29.310Z"
   },
   {
    "duration": 70,
    "start_time": "2023-05-07T10:38:48.830Z"
   },
   {
    "duration": 76,
    "start_time": "2023-05-07T10:38:57.590Z"
   },
   {
    "duration": 21,
    "start_time": "2023-05-07T10:39:10.974Z"
   },
   {
    "duration": 30,
    "start_time": "2023-05-07T10:39:50.230Z"
   },
   {
    "duration": 26,
    "start_time": "2023-05-07T10:40:12.534Z"
   },
   {
    "duration": 4,
    "start_time": "2023-05-07T10:40:36.222Z"
   },
   {
    "duration": 33,
    "start_time": "2023-05-07T10:40:37.101Z"
   },
   {
    "duration": 1245,
    "start_time": "2023-05-07T10:40:47.295Z"
   },
   {
    "duration": 190,
    "start_time": "2023-05-07T10:40:48.542Z"
   },
   {
    "duration": 21,
    "start_time": "2023-05-07T10:40:48.733Z"
   },
   {
    "duration": 11,
    "start_time": "2023-05-07T10:40:48.756Z"
   },
   {
    "duration": 3,
    "start_time": "2023-05-07T10:40:48.769Z"
   },
   {
    "duration": 21,
    "start_time": "2023-05-07T10:40:48.774Z"
   },
   {
    "duration": 59,
    "start_time": "2023-05-07T10:40:48.798Z"
   },
   {
    "duration": 90,
    "start_time": "2023-05-07T10:40:48.858Z"
   },
   {
    "duration": 18,
    "start_time": "2023-05-07T10:40:48.949Z"
   },
   {
    "duration": 11,
    "start_time": "2023-05-07T10:40:48.970Z"
   },
   {
    "duration": 10,
    "start_time": "2023-05-07T10:40:48.995Z"
   },
   {
    "duration": 98,
    "start_time": "2023-05-07T10:40:49.006Z"
   },
   {
    "duration": 10,
    "start_time": "2023-05-07T10:40:49.105Z"
   },
   {
    "duration": 13,
    "start_time": "2023-05-07T10:40:49.117Z"
   },
   {
    "duration": 21,
    "start_time": "2023-05-07T10:40:49.133Z"
   },
   {
    "duration": 5,
    "start_time": "2023-05-07T10:40:49.156Z"
   },
   {
    "duration": 482,
    "start_time": "2023-05-07T10:40:49.162Z"
   },
   {
    "duration": 8623,
    "start_time": "2023-05-07T10:40:49.645Z"
   },
   {
    "duration": 8475,
    "start_time": "2023-05-07T10:40:58.269Z"
   },
   {
    "duration": 13,
    "start_time": "2023-05-07T10:41:06.745Z"
   },
   {
    "duration": 5,
    "start_time": "2023-05-07T10:41:06.759Z"
   },
   {
    "duration": 68,
    "start_time": "2023-05-07T10:41:06.765Z"
   },
   {
    "duration": 47,
    "start_time": "2023-05-07T10:41:14.069Z"
   },
   {
    "duration": 114,
    "start_time": "2023-05-07T10:47:36.626Z"
   },
   {
    "duration": 1320,
    "start_time": "2023-05-07T10:47:46.985Z"
   },
   {
    "duration": 192,
    "start_time": "2023-05-07T10:47:48.307Z"
   },
   {
    "duration": 21,
    "start_time": "2023-05-07T10:47:48.501Z"
   },
   {
    "duration": 11,
    "start_time": "2023-05-07T10:47:48.524Z"
   },
   {
    "duration": 3,
    "start_time": "2023-05-07T10:47:48.537Z"
   },
   {
    "duration": 6,
    "start_time": "2023-05-07T10:47:48.541Z"
   },
   {
    "duration": 96,
    "start_time": "2023-05-07T10:47:48.549Z"
   },
   {
    "duration": 84,
    "start_time": "2023-05-07T10:47:48.647Z"
   },
   {
    "duration": 18,
    "start_time": "2023-05-07T10:47:48.733Z"
   },
   {
    "duration": 14,
    "start_time": "2023-05-07T10:47:48.753Z"
   },
   {
    "duration": 27,
    "start_time": "2023-05-07T10:47:48.768Z"
   },
   {
    "duration": 80,
    "start_time": "2023-05-07T10:47:48.797Z"
   },
   {
    "duration": 23,
    "start_time": "2023-05-07T10:47:48.878Z"
   },
   {
    "duration": 10,
    "start_time": "2023-05-07T10:47:48.903Z"
   },
   {
    "duration": 16,
    "start_time": "2023-05-07T10:47:48.914Z"
   },
   {
    "duration": 5,
    "start_time": "2023-05-07T10:47:48.931Z"
   },
   {
    "duration": 475,
    "start_time": "2023-05-07T10:47:48.937Z"
   },
   {
    "duration": 8095,
    "start_time": "2023-05-07T10:47:49.413Z"
   },
   {
    "duration": 8432,
    "start_time": "2023-05-07T10:47:57.510Z"
   },
   {
    "duration": 14,
    "start_time": "2023-05-07T10:48:05.943Z"
   },
   {
    "duration": 14,
    "start_time": "2023-05-07T10:48:05.959Z"
   },
   {
    "duration": 54,
    "start_time": "2023-05-07T10:48:05.975Z"
   },
   {
    "duration": 40,
    "start_time": "2023-05-07T10:48:09.179Z"
   },
   {
    "duration": 99,
    "start_time": "2023-05-07T10:48:09.729Z"
   },
   {
    "duration": 22,
    "start_time": "2023-05-07T10:48:11.042Z"
   },
   {
    "duration": 30,
    "start_time": "2023-05-07T10:48:11.442Z"
   },
   {
    "duration": 27,
    "start_time": "2023-05-07T10:48:11.809Z"
   },
   {
    "duration": 27,
    "start_time": "2023-05-07T10:48:12.121Z"
   },
   {
    "duration": 25,
    "start_time": "2023-05-07T10:48:12.402Z"
   },
   {
    "duration": 26,
    "start_time": "2023-05-07T10:48:12.762Z"
   },
   {
    "duration": 26,
    "start_time": "2023-05-07T10:48:13.209Z"
   },
   {
    "duration": 45,
    "start_time": "2023-05-07T10:48:19.986Z"
   },
   {
    "duration": 35,
    "start_time": "2023-05-07T10:48:24.001Z"
   },
   {
    "duration": 32,
    "start_time": "2023-05-07T10:48:24.561Z"
   },
   {
    "duration": 29,
    "start_time": "2023-05-07T10:48:24.937Z"
   },
   {
    "duration": 39,
    "start_time": "2023-05-07T10:48:25.335Z"
   },
   {
    "duration": 33,
    "start_time": "2023-05-07T10:48:25.609Z"
   },
   {
    "duration": 31,
    "start_time": "2023-05-07T10:48:37.081Z"
   },
   {
    "duration": 34,
    "start_time": "2023-05-07T10:48:47.170Z"
   },
   {
    "duration": 74,
    "start_time": "2023-05-07T10:50:55.623Z"
   },
   {
    "duration": 69,
    "start_time": "2023-05-07T10:51:15.857Z"
   },
   {
    "duration": 80,
    "start_time": "2023-05-07T10:52:36.231Z"
   },
   {
    "duration": 59,
    "start_time": "2023-05-07T10:53:07.671Z"
   },
   {
    "duration": 67,
    "start_time": "2023-05-07T10:53:14.743Z"
   },
   {
    "duration": 94,
    "start_time": "2023-05-07T10:53:17.175Z"
   },
   {
    "duration": 61,
    "start_time": "2023-05-07T10:53:29.952Z"
   },
   {
    "duration": 77,
    "start_time": "2023-05-07T10:53:36.207Z"
   },
   {
    "duration": 76,
    "start_time": "2023-05-07T10:54:05.734Z"
   },
   {
    "duration": 85,
    "start_time": "2023-05-07T10:54:26.503Z"
   },
   {
    "duration": 30,
    "start_time": "2023-05-07T10:54:41.798Z"
   },
   {
    "duration": 38,
    "start_time": "2023-05-07T10:54:46.166Z"
   },
   {
    "duration": 67,
    "start_time": "2023-05-07T10:54:48.438Z"
   },
   {
    "duration": 58,
    "start_time": "2023-05-07T10:55:45.126Z"
   },
   {
    "duration": 56,
    "start_time": "2023-05-07T10:56:46.573Z"
   },
   {
    "duration": 55,
    "start_time": "2023-05-07T10:56:50.149Z"
   },
   {
    "duration": 60,
    "start_time": "2023-05-07T10:57:01.165Z"
   },
   {
    "duration": 79,
    "start_time": "2023-05-07T11:04:32.673Z"
   },
   {
    "duration": 67,
    "start_time": "2023-05-07T11:15:42.082Z"
   },
   {
    "duration": 3,
    "start_time": "2023-05-07T11:17:23.280Z"
   },
   {
    "duration": 1619,
    "start_time": "2023-05-07T11:18:47.630Z"
   },
   {
    "duration": 1308,
    "start_time": "2023-05-07T11:27:12.597Z"
   },
   {
    "duration": 1293,
    "start_time": "2023-05-07T11:28:30.396Z"
   },
   {
    "duration": 72,
    "start_time": "2023-05-07T11:28:52.955Z"
   },
   {
    "duration": 1216,
    "start_time": "2023-05-07T11:29:34.579Z"
   },
   {
    "duration": 26,
    "start_time": "2023-05-07T11:30:17.186Z"
   },
   {
    "duration": 2,
    "start_time": "2023-05-07T11:31:15.882Z"
   },
   {
    "duration": 9,
    "start_time": "2023-05-07T11:32:10.081Z"
   },
   {
    "duration": 4,
    "start_time": "2023-05-07T11:32:26.641Z"
   },
   {
    "duration": 12,
    "start_time": "2023-05-07T11:32:39.713Z"
   },
   {
    "duration": 8,
    "start_time": "2023-05-07T11:32:57.507Z"
   },
   {
    "duration": 15,
    "start_time": "2023-05-07T11:33:01.457Z"
   },
   {
    "duration": 9,
    "start_time": "2023-05-07T11:33:01.617Z"
   },
   {
    "duration": 10,
    "start_time": "2023-05-07T11:35:27.411Z"
   },
   {
    "duration": 10,
    "start_time": "2023-05-07T11:35:32.831Z"
   },
   {
    "duration": 9,
    "start_time": "2023-05-07T11:35:45.272Z"
   },
   {
    "duration": 9,
    "start_time": "2023-05-07T11:35:47.327Z"
   },
   {
    "duration": 9,
    "start_time": "2023-05-07T11:36:47.119Z"
   },
   {
    "duration": 9,
    "start_time": "2023-05-07T11:37:03.175Z"
   },
   {
    "duration": 10,
    "start_time": "2023-05-07T11:37:07.934Z"
   },
   {
    "duration": 12,
    "start_time": "2023-05-07T11:37:11.462Z"
   },
   {
    "duration": 9,
    "start_time": "2023-05-07T11:37:14.011Z"
   },
   {
    "duration": 87,
    "start_time": "2023-05-07T11:37:34.350Z"
   },
   {
    "duration": 10,
    "start_time": "2023-05-07T11:37:38.158Z"
   },
   {
    "duration": 10,
    "start_time": "2023-05-07T11:37:45.654Z"
   },
   {
    "duration": 8,
    "start_time": "2023-05-07T11:37:50.839Z"
   },
   {
    "duration": 10,
    "start_time": "2023-05-07T11:40:14.133Z"
   },
   {
    "duration": 185,
    "start_time": "2023-05-07T11:59:43.683Z"
   },
   {
    "duration": 23,
    "start_time": "2023-05-07T12:05:08.432Z"
   },
   {
    "duration": 137,
    "start_time": "2023-05-07T12:05:25.168Z"
   },
   {
    "duration": 420,
    "start_time": "2023-05-07T12:07:11.313Z"
   },
   {
    "duration": 160,
    "start_time": "2023-05-07T12:07:20.566Z"
   },
   {
    "duration": 171,
    "start_time": "2023-05-07T12:07:26.335Z"
   },
   {
    "duration": 202,
    "start_time": "2023-05-07T12:07:29.815Z"
   },
   {
    "duration": 278,
    "start_time": "2023-05-07T12:07:32.743Z"
   },
   {
    "duration": 161,
    "start_time": "2023-05-07T12:07:42.656Z"
   },
   {
    "duration": 75,
    "start_time": "2023-05-07T12:27:51.054Z"
   },
   {
    "duration": 65,
    "start_time": "2023-05-07T12:28:09.525Z"
   },
   {
    "duration": 81,
    "start_time": "2023-05-07T12:28:59.212Z"
   },
   {
    "duration": 74,
    "start_time": "2023-05-07T12:29:05.148Z"
   },
   {
    "duration": 14,
    "start_time": "2023-05-07T12:29:35.728Z"
   },
   {
    "duration": 1208,
    "start_time": "2023-05-07T12:30:17.519Z"
   },
   {
    "duration": 218,
    "start_time": "2023-05-07T12:30:18.729Z"
   },
   {
    "duration": 19,
    "start_time": "2023-05-07T12:30:18.948Z"
   },
   {
    "duration": 9,
    "start_time": "2023-05-07T12:30:18.969Z"
   },
   {
    "duration": 24,
    "start_time": "2023-05-07T12:30:18.980Z"
   },
   {
    "duration": 12,
    "start_time": "2023-05-07T12:30:19.005Z"
   },
   {
    "duration": 76,
    "start_time": "2023-05-07T12:30:19.020Z"
   },
   {
    "duration": 87,
    "start_time": "2023-05-07T12:30:19.099Z"
   },
   {
    "duration": 33,
    "start_time": "2023-05-07T12:30:19.188Z"
   },
   {
    "duration": 15,
    "start_time": "2023-05-07T12:30:19.224Z"
   },
   {
    "duration": 19,
    "start_time": "2023-05-07T12:30:19.241Z"
   },
   {
    "duration": 104,
    "start_time": "2023-05-07T12:30:19.261Z"
   },
   {
    "duration": 10,
    "start_time": "2023-05-07T12:30:19.367Z"
   },
   {
    "duration": 27,
    "start_time": "2023-05-07T12:30:19.378Z"
   },
   {
    "duration": 26,
    "start_time": "2023-05-07T12:30:19.411Z"
   },
   {
    "duration": 6,
    "start_time": "2023-05-07T12:30:19.438Z"
   },
   {
    "duration": 509,
    "start_time": "2023-05-07T12:30:19.446Z"
   },
   {
    "duration": 10012,
    "start_time": "2023-05-07T12:30:19.956Z"
   },
   {
    "duration": 9817,
    "start_time": "2023-05-07T12:30:29.969Z"
   },
   {
    "duration": 24,
    "start_time": "2023-05-07T12:30:39.787Z"
   },
   {
    "duration": 7,
    "start_time": "2023-05-07T12:30:39.812Z"
   },
   {
    "duration": 43,
    "start_time": "2023-05-07T12:30:39.820Z"
   },
   {
    "duration": 103,
    "start_time": "2023-05-07T12:30:39.865Z"
   },
   {
    "duration": 138,
    "start_time": "2023-05-07T12:30:39.969Z"
   },
   {
    "duration": 0,
    "start_time": "2023-05-07T12:30:40.110Z"
   },
   {
    "duration": 17,
    "start_time": "2023-05-07T12:31:22.164Z"
   },
   {
    "duration": 65,
    "start_time": "2023-05-07T12:31:52.824Z"
   },
   {
    "duration": 22,
    "start_time": "2023-05-07T12:32:14.291Z"
   },
   {
    "duration": 61,
    "start_time": "2023-05-07T12:32:25.779Z"
   },
   {
    "duration": 1238,
    "start_time": "2023-05-07T12:32:40.074Z"
   },
   {
    "duration": 64,
    "start_time": "2023-05-07T12:32:50.362Z"
   },
   {
    "duration": 78,
    "start_time": "2023-05-07T12:33:32.538Z"
   },
   {
    "duration": 53,
    "start_time": "2023-05-07T12:33:48.330Z"
   },
   {
    "duration": 1566,
    "start_time": "2023-05-07T13:24:13.236Z"
   },
   {
    "duration": 281,
    "start_time": "2023-05-07T13:24:14.804Z"
   },
   {
    "duration": 41,
    "start_time": "2023-05-07T13:24:15.088Z"
   },
   {
    "duration": 21,
    "start_time": "2023-05-07T13:24:15.132Z"
   },
   {
    "duration": 6,
    "start_time": "2023-05-07T13:24:15.156Z"
   },
   {
    "duration": 11,
    "start_time": "2023-05-07T13:24:15.165Z"
   },
   {
    "duration": 114,
    "start_time": "2023-05-07T13:24:15.195Z"
   },
   {
    "duration": 131,
    "start_time": "2023-05-07T13:24:15.317Z"
   },
   {
    "duration": 36,
    "start_time": "2023-05-07T13:24:15.450Z"
   },
   {
    "duration": 26,
    "start_time": "2023-05-07T13:24:15.493Z"
   },
   {
    "duration": 21,
    "start_time": "2023-05-07T13:24:15.521Z"
   },
   {
    "duration": 160,
    "start_time": "2023-05-07T13:24:15.544Z"
   },
   {
    "duration": 26,
    "start_time": "2023-05-07T13:24:15.706Z"
   },
   {
    "duration": 15,
    "start_time": "2023-05-07T13:24:15.737Z"
   },
   {
    "duration": 43,
    "start_time": "2023-05-07T13:24:15.755Z"
   },
   {
    "duration": 10,
    "start_time": "2023-05-07T13:24:15.799Z"
   },
   {
    "duration": 664,
    "start_time": "2023-05-07T13:24:15.811Z"
   },
   {
    "duration": 9771,
    "start_time": "2023-05-07T13:24:16.477Z"
   },
   {
    "duration": 10637,
    "start_time": "2023-05-07T13:24:26.251Z"
   },
   {
    "duration": 27,
    "start_time": "2023-05-07T13:24:36.890Z"
   },
   {
    "duration": 16,
    "start_time": "2023-05-07T13:24:36.929Z"
   },
   {
    "duration": 79,
    "start_time": "2023-05-07T13:24:36.948Z"
   },
   {
    "duration": 92,
    "start_time": "2023-05-07T13:24:37.029Z"
   },
   {
    "duration": 65,
    "start_time": "2023-05-07T13:24:37.123Z"
   },
   {
    "duration": 170,
    "start_time": "2023-05-07T13:24:37.193Z"
   },
   {
    "duration": 53,
    "start_time": "2023-05-07T20:11:39.257Z"
   },
   {
    "duration": 1368,
    "start_time": "2023-05-07T20:11:45.611Z"
   },
   {
    "duration": 845,
    "start_time": "2023-05-07T20:11:46.981Z"
   },
   {
    "duration": 28,
    "start_time": "2023-05-07T20:11:47.827Z"
   },
   {
    "duration": 10,
    "start_time": "2023-05-07T20:11:47.857Z"
   },
   {
    "duration": 4,
    "start_time": "2023-05-07T20:11:47.869Z"
   },
   {
    "duration": 8,
    "start_time": "2023-05-07T20:11:47.874Z"
   },
   {
    "duration": 78,
    "start_time": "2023-05-07T20:11:47.883Z"
   },
   {
    "duration": 89,
    "start_time": "2023-05-07T20:11:47.962Z"
   },
   {
    "duration": 22,
    "start_time": "2023-05-07T20:11:48.054Z"
   },
   {
    "duration": 16,
    "start_time": "2023-05-07T20:11:48.078Z"
   },
   {
    "duration": 13,
    "start_time": "2023-05-07T20:11:48.095Z"
   },
   {
    "duration": 138,
    "start_time": "2023-05-07T20:11:48.110Z"
   },
   {
    "duration": 12,
    "start_time": "2023-05-07T20:11:48.250Z"
   },
   {
    "duration": 13,
    "start_time": "2023-05-07T20:11:48.264Z"
   },
   {
    "duration": 18,
    "start_time": "2023-05-07T20:11:48.279Z"
   },
   {
    "duration": 4,
    "start_time": "2023-05-07T20:11:48.299Z"
   },
   {
    "duration": 508,
    "start_time": "2023-05-07T20:11:48.304Z"
   },
   {
    "duration": 1775,
    "start_time": "2023-05-07T20:11:48.815Z"
   },
   {
    "duration": 1768,
    "start_time": "2023-05-07T20:11:50.591Z"
   },
   {
    "duration": 11,
    "start_time": "2023-05-07T20:11:52.361Z"
   },
   {
    "duration": 120,
    "start_time": "2023-05-07T20:11:52.374Z"
   },
   {
    "duration": 18,
    "start_time": "2023-05-07T20:11:52.496Z"
   },
   {
    "duration": 21,
    "start_time": "2023-05-07T20:11:52.515Z"
   },
   {
    "duration": 22,
    "start_time": "2023-05-07T20:11:52.547Z"
   },
   {
    "duration": 109,
    "start_time": "2023-05-07T20:11:52.571Z"
   },
   {
    "duration": 1122,
    "start_time": "2023-05-07T20:12:14.373Z"
   },
   {
    "duration": 276,
    "start_time": "2023-05-07T20:12:15.497Z"
   },
   {
    "duration": 41,
    "start_time": "2023-05-07T20:12:15.776Z"
   },
   {
    "duration": 24,
    "start_time": "2023-05-07T20:12:15.820Z"
   },
   {
    "duration": 38,
    "start_time": "2023-05-07T20:12:15.846Z"
   },
   {
    "duration": 11,
    "start_time": "2023-05-07T20:12:15.886Z"
   },
   {
    "duration": 80,
    "start_time": "2023-05-07T20:12:15.899Z"
   },
   {
    "duration": 122,
    "start_time": "2023-05-07T20:12:15.982Z"
   },
   {
    "duration": 37,
    "start_time": "2023-05-07T20:12:16.107Z"
   },
   {
    "duration": 31,
    "start_time": "2023-05-07T20:12:16.147Z"
   },
   {
    "duration": 26,
    "start_time": "2023-05-07T20:12:16.180Z"
   },
   {
    "duration": 155,
    "start_time": "2023-05-07T20:12:16.207Z"
   },
   {
    "duration": 16,
    "start_time": "2023-05-07T20:12:16.363Z"
   },
   {
    "duration": 22,
    "start_time": "2023-05-07T20:12:16.381Z"
   },
   {
    "duration": 57,
    "start_time": "2023-05-07T20:12:16.405Z"
   },
   {
    "duration": 7,
    "start_time": "2023-05-07T20:12:16.464Z"
   },
   {
    "duration": 688,
    "start_time": "2023-05-07T20:12:16.473Z"
   },
   {
    "duration": 2033,
    "start_time": "2023-05-07T20:12:17.168Z"
   },
   {
    "duration": 2070,
    "start_time": "2023-05-07T20:12:19.203Z"
   },
   {
    "duration": 15,
    "start_time": "2023-05-07T20:12:21.275Z"
   },
   {
    "duration": 16,
    "start_time": "2023-05-07T20:12:21.292Z"
   },
   {
    "duration": 33,
    "start_time": "2023-05-07T20:12:21.310Z"
   },
   {
    "duration": 38,
    "start_time": "2023-05-07T20:12:21.346Z"
   },
   {
    "duration": 32,
    "start_time": "2023-05-07T20:12:21.386Z"
   },
   {
    "duration": 18,
    "start_time": "2023-05-07T20:12:21.420Z"
   },
   {
    "duration": 228,
    "start_time": "2023-05-07T20:14:04.676Z"
   },
   {
    "duration": 1361,
    "start_time": "2023-05-07T20:14:10.497Z"
   },
   {
    "duration": 242,
    "start_time": "2023-05-07T20:14:11.861Z"
   },
   {
    "duration": 35,
    "start_time": "2023-05-07T20:14:12.105Z"
   },
   {
    "duration": 16,
    "start_time": "2023-05-07T20:14:12.146Z"
   },
   {
    "duration": 7,
    "start_time": "2023-05-07T20:14:12.164Z"
   },
   {
    "duration": 7,
    "start_time": "2023-05-07T20:14:12.173Z"
   },
   {
    "duration": 108,
    "start_time": "2023-05-07T20:14:12.181Z"
   },
   {
    "duration": 88,
    "start_time": "2023-05-07T20:14:12.291Z"
   },
   {
    "duration": 22,
    "start_time": "2023-05-07T20:14:12.381Z"
   },
   {
    "duration": 34,
    "start_time": "2023-05-07T20:14:12.405Z"
   },
   {
    "duration": 25,
    "start_time": "2023-05-07T20:14:12.441Z"
   },
   {
    "duration": 103,
    "start_time": "2023-05-07T20:14:12.467Z"
   },
   {
    "duration": 20,
    "start_time": "2023-05-07T20:14:12.572Z"
   },
   {
    "duration": 13,
    "start_time": "2023-05-07T20:14:12.595Z"
   },
   {
    "duration": 46,
    "start_time": "2023-05-07T20:14:12.610Z"
   },
   {
    "duration": 5,
    "start_time": "2023-05-07T20:14:12.658Z"
   },
   {
    "duration": 554,
    "start_time": "2023-05-07T20:14:12.665Z"
   },
   {
    "duration": 9109,
    "start_time": "2023-05-07T20:14:13.221Z"
   },
   {
    "duration": 10157,
    "start_time": "2023-05-07T20:14:22.332Z"
   },
   {
    "duration": 15,
    "start_time": "2023-05-07T20:14:32.491Z"
   },
   {
    "duration": 39,
    "start_time": "2023-05-07T20:14:32.507Z"
   },
   {
    "duration": 40,
    "start_time": "2023-05-07T20:14:32.553Z"
   },
   {
    "duration": 91,
    "start_time": "2023-05-07T20:14:32.595Z"
   },
   {
    "duration": 86,
    "start_time": "2023-05-07T20:14:32.688Z"
   },
   {
    "duration": 3,
    "start_time": "2023-05-07T20:14:32.776Z"
   },
   {
    "duration": 101,
    "start_time": "2023-05-07T20:15:57.009Z"
   },
   {
    "duration": 1212,
    "start_time": "2023-05-07T20:16:08.841Z"
   },
   {
    "duration": 218,
    "start_time": "2023-05-07T20:16:10.058Z"
   },
   {
    "duration": 22,
    "start_time": "2023-05-07T20:16:10.278Z"
   },
   {
    "duration": 11,
    "start_time": "2023-05-07T20:16:10.302Z"
   },
   {
    "duration": 30,
    "start_time": "2023-05-07T20:16:10.314Z"
   },
   {
    "duration": 17,
    "start_time": "2023-05-07T20:16:10.347Z"
   },
   {
    "duration": 127,
    "start_time": "2023-05-07T20:16:10.366Z"
   },
   {
    "duration": 89,
    "start_time": "2023-05-07T20:16:10.495Z"
   },
   {
    "duration": 34,
    "start_time": "2023-05-07T20:16:10.586Z"
   },
   {
    "duration": 21,
    "start_time": "2023-05-07T20:16:10.633Z"
   },
   {
    "duration": 31,
    "start_time": "2023-05-07T20:16:10.656Z"
   },
   {
    "duration": 103,
    "start_time": "2023-05-07T20:16:10.689Z"
   },
   {
    "duration": 20,
    "start_time": "2023-05-07T20:16:10.795Z"
   },
   {
    "duration": 22,
    "start_time": "2023-05-07T20:16:10.817Z"
   },
   {
    "duration": 35,
    "start_time": "2023-05-07T20:16:10.844Z"
   },
   {
    "duration": 5,
    "start_time": "2023-05-07T20:16:10.881Z"
   },
   {
    "duration": 592,
    "start_time": "2023-05-07T20:16:10.887Z"
   },
   {
    "duration": 9772,
    "start_time": "2023-05-07T20:16:11.481Z"
   },
   {
    "duration": 9401,
    "start_time": "2023-05-07T20:16:21.255Z"
   },
   {
    "duration": 19,
    "start_time": "2023-05-07T20:16:30.658Z"
   },
   {
    "duration": 78,
    "start_time": "2023-05-07T20:16:30.679Z"
   },
   {
    "duration": 71,
    "start_time": "2023-05-07T20:16:30.759Z"
   },
   {
    "duration": 119,
    "start_time": "2023-05-07T20:16:30.832Z"
   },
   {
    "duration": 59,
    "start_time": "2023-05-07T20:16:30.953Z"
   },
   {
    "duration": 2,
    "start_time": "2023-05-07T20:16:31.014Z"
   },
   {
    "duration": 122,
    "start_time": "2023-05-07T20:18:15.749Z"
   },
   {
    "duration": 1016,
    "start_time": "2023-05-07T20:21:48.324Z"
   },
   {
    "duration": 210,
    "start_time": "2023-05-07T20:21:56.909Z"
   },
   {
    "duration": 1139,
    "start_time": "2023-05-07T20:22:03.613Z"
   },
   {
    "duration": 188,
    "start_time": "2023-05-07T20:22:04.754Z"
   },
   {
    "duration": 36,
    "start_time": "2023-05-07T20:22:04.949Z"
   },
   {
    "duration": 16,
    "start_time": "2023-05-07T20:22:04.988Z"
   },
   {
    "duration": 2,
    "start_time": "2023-05-07T20:22:05.006Z"
   },
   {
    "duration": 9,
    "start_time": "2023-05-07T20:22:05.010Z"
   },
   {
    "duration": 87,
    "start_time": "2023-05-07T20:22:05.020Z"
   },
   {
    "duration": 109,
    "start_time": "2023-05-07T20:22:05.110Z"
   },
   {
    "duration": 30,
    "start_time": "2023-05-07T20:22:05.220Z"
   },
   {
    "duration": 27,
    "start_time": "2023-05-07T20:22:05.255Z"
   },
   {
    "duration": 24,
    "start_time": "2023-05-07T20:22:05.284Z"
   },
   {
    "duration": 110,
    "start_time": "2023-05-07T20:22:05.313Z"
   },
   {
    "duration": 27,
    "start_time": "2023-05-07T20:22:05.425Z"
   },
   {
    "duration": 20,
    "start_time": "2023-05-07T20:22:05.453Z"
   },
   {
    "duration": 20,
    "start_time": "2023-05-07T20:22:05.475Z"
   },
   {
    "duration": 854,
    "start_time": "2023-05-07T20:22:05.497Z"
   },
   {
    "duration": 0,
    "start_time": "2023-05-07T20:22:06.355Z"
   },
   {
    "duration": 0,
    "start_time": "2023-05-07T20:22:06.359Z"
   },
   {
    "duration": 0,
    "start_time": "2023-05-07T20:22:06.359Z"
   },
   {
    "duration": 0,
    "start_time": "2023-05-07T20:22:06.361Z"
   },
   {
    "duration": 0,
    "start_time": "2023-05-07T20:22:06.361Z"
   },
   {
    "duration": 0,
    "start_time": "2023-05-07T20:22:06.363Z"
   },
   {
    "duration": 1,
    "start_time": "2023-05-07T20:22:06.363Z"
   },
   {
    "duration": 0,
    "start_time": "2023-05-07T20:22:06.364Z"
   },
   {
    "duration": 0,
    "start_time": "2023-05-07T20:22:06.365Z"
   },
   {
    "duration": 5,
    "start_time": "2023-05-07T20:24:02.466Z"
   },
   {
    "duration": 577,
    "start_time": "2023-05-07T20:24:06.961Z"
   },
   {
    "duration": 9092,
    "start_time": "2023-05-07T20:24:12.634Z"
   },
   {
    "duration": 1083,
    "start_time": "2023-05-07T20:25:29.930Z"
   },
   {
    "duration": 791,
    "start_time": "2023-05-07T20:25:43.744Z"
   },
   {
    "duration": 10366,
    "start_time": "2023-05-07T20:25:47.528Z"
   },
   {
    "duration": 1261,
    "start_time": "2023-05-07T20:26:18.666Z"
   },
   {
    "duration": 263,
    "start_time": "2023-05-07T20:26:19.930Z"
   },
   {
    "duration": 33,
    "start_time": "2023-05-07T20:26:20.195Z"
   },
   {
    "duration": 17,
    "start_time": "2023-05-07T20:26:20.237Z"
   },
   {
    "duration": 17,
    "start_time": "2023-05-07T20:26:20.258Z"
   },
   {
    "duration": 25,
    "start_time": "2023-05-07T20:26:20.278Z"
   },
   {
    "duration": 123,
    "start_time": "2023-05-07T20:26:20.306Z"
   },
   {
    "duration": 130,
    "start_time": "2023-05-07T20:26:20.434Z"
   },
   {
    "duration": 38,
    "start_time": "2023-05-07T20:26:20.567Z"
   },
   {
    "duration": 37,
    "start_time": "2023-05-07T20:26:20.609Z"
   },
   {
    "duration": 38,
    "start_time": "2023-05-07T20:26:20.649Z"
   },
   {
    "duration": 130,
    "start_time": "2023-05-07T20:26:20.689Z"
   },
   {
    "duration": 12,
    "start_time": "2023-05-07T20:26:20.821Z"
   },
   {
    "duration": 23,
    "start_time": "2023-05-07T20:26:20.835Z"
   },
   {
    "duration": 27,
    "start_time": "2023-05-07T20:26:20.860Z"
   },
   {
    "duration": 6,
    "start_time": "2023-05-07T20:26:20.889Z"
   },
   {
    "duration": 579,
    "start_time": "2023-05-07T20:26:20.897Z"
   },
   {
    "duration": 9699,
    "start_time": "2023-05-07T20:26:21.479Z"
   },
   {
    "duration": 10769,
    "start_time": "2023-05-07T20:26:31.180Z"
   },
   {
    "duration": 26,
    "start_time": "2023-05-07T20:26:41.951Z"
   },
   {
    "duration": 9,
    "start_time": "2023-05-07T20:26:41.979Z"
   },
   {
    "duration": 85,
    "start_time": "2023-05-07T20:26:41.990Z"
   },
   {
    "duration": 96,
    "start_time": "2023-05-07T20:26:42.077Z"
   },
   {
    "duration": 74,
    "start_time": "2023-05-07T20:26:42.175Z"
   },
   {
    "duration": 2,
    "start_time": "2023-05-07T20:26:42.251Z"
   },
   {
    "duration": 451,
    "start_time": "2023-05-07T20:29:09.762Z"
   },
   {
    "duration": 50,
    "start_time": "2023-05-07T20:29:13.185Z"
   },
   {
    "duration": 201,
    "start_time": "2023-05-07T20:29:24.583Z"
   },
   {
    "duration": 226,
    "start_time": "2023-05-07T20:29:58.384Z"
   },
   {
    "duration": 11442,
    "start_time": "2023-05-07T20:30:05.726Z"
   },
   {
    "duration": 10296,
    "start_time": "2023-05-07T20:30:23.854Z"
   },
   {
    "duration": 109,
    "start_time": "2023-05-07T20:32:18.957Z"
   },
   {
    "duration": 9433,
    "start_time": "2023-05-07T20:32:39.933Z"
   },
   {
    "duration": 8841,
    "start_time": "2023-05-07T20:32:50.836Z"
   },
   {
    "duration": 111,
    "start_time": "2023-05-07T20:35:59.410Z"
   },
   {
    "duration": 115,
    "start_time": "2023-05-07T20:36:39.826Z"
   },
   {
    "duration": 8,
    "start_time": "2023-05-07T20:37:07.897Z"
   },
   {
    "duration": 447,
    "start_time": "2023-05-07T20:37:10.962Z"
   },
   {
    "duration": 367,
    "start_time": "2023-05-07T20:37:56.048Z"
   },
   {
    "duration": 859,
    "start_time": "2023-05-07T20:38:05.992Z"
   },
   {
    "duration": 375,
    "start_time": "2023-05-07T20:38:14.112Z"
   },
   {
    "duration": 439,
    "start_time": "2023-05-07T20:38:16.432Z"
   },
   {
    "duration": 16,
    "start_time": "2023-05-07T20:39:02.784Z"
   },
   {
    "duration": 526,
    "start_time": "2023-05-07T20:41:07.198Z"
   },
   {
    "duration": 502,
    "start_time": "2023-05-07T20:41:46.150Z"
   },
   {
    "duration": 72,
    "start_time": "2023-05-07T20:42:41.925Z"
   },
   {
    "duration": 49,
    "start_time": "2023-05-07T20:42:50.852Z"
   },
   {
    "duration": 452,
    "start_time": "2023-05-07T20:42:55.757Z"
   },
   {
    "duration": 398,
    "start_time": "2023-05-07T20:43:05.221Z"
   },
   {
    "duration": 13,
    "start_time": "2023-05-07T20:43:27.525Z"
   },
   {
    "duration": 42,
    "start_time": "2023-05-07T20:43:32.869Z"
   },
   {
    "duration": 87,
    "start_time": "2023-05-07T20:43:56.893Z"
   },
   {
    "duration": 45,
    "start_time": "2023-05-07T20:44:10.805Z"
   },
   {
    "duration": 432,
    "start_time": "2023-05-07T20:44:23.908Z"
   },
   {
    "duration": 381,
    "start_time": "2023-05-07T20:44:25.452Z"
   },
   {
    "duration": 1346,
    "start_time": "2023-05-07T20:44:45.487Z"
   },
   {
    "duration": 228,
    "start_time": "2023-05-07T20:44:46.836Z"
   },
   {
    "duration": 24,
    "start_time": "2023-05-07T20:44:47.066Z"
   },
   {
    "duration": 40,
    "start_time": "2023-05-07T20:44:47.093Z"
   },
   {
    "duration": 4,
    "start_time": "2023-05-07T20:44:47.137Z"
   },
   {
    "duration": 26,
    "start_time": "2023-05-07T20:44:47.142Z"
   },
   {
    "duration": 88,
    "start_time": "2023-05-07T20:44:47.170Z"
   },
   {
    "duration": 89,
    "start_time": "2023-05-07T20:44:47.261Z"
   },
   {
    "duration": 26,
    "start_time": "2023-05-07T20:44:47.352Z"
   },
   {
    "duration": 36,
    "start_time": "2023-05-07T20:44:47.379Z"
   },
   {
    "duration": 22,
    "start_time": "2023-05-07T20:44:47.417Z"
   },
   {
    "duration": 130,
    "start_time": "2023-05-07T20:44:47.441Z"
   },
   {
    "duration": 0,
    "start_time": "2023-05-07T20:44:47.574Z"
   },
   {
    "duration": 0,
    "start_time": "2023-05-07T20:44:47.575Z"
   },
   {
    "duration": 1,
    "start_time": "2023-05-07T20:44:47.576Z"
   },
   {
    "duration": 1,
    "start_time": "2023-05-07T20:44:47.577Z"
   },
   {
    "duration": 0,
    "start_time": "2023-05-07T20:44:47.579Z"
   },
   {
    "duration": 0,
    "start_time": "2023-05-07T20:44:47.580Z"
   },
   {
    "duration": 0,
    "start_time": "2023-05-07T20:44:47.581Z"
   },
   {
    "duration": 0,
    "start_time": "2023-05-07T20:44:47.582Z"
   },
   {
    "duration": 0,
    "start_time": "2023-05-07T20:44:47.585Z"
   },
   {
    "duration": 0,
    "start_time": "2023-05-07T20:44:47.586Z"
   },
   {
    "duration": 0,
    "start_time": "2023-05-07T20:44:47.587Z"
   },
   {
    "duration": 0,
    "start_time": "2023-05-07T20:44:47.588Z"
   },
   {
    "duration": 0,
    "start_time": "2023-05-07T20:44:47.590Z"
   },
   {
    "duration": 111,
    "start_time": "2023-05-07T20:45:08.683Z"
   },
   {
    "duration": 12,
    "start_time": "2023-05-07T20:45:12.780Z"
   },
   {
    "duration": 1281,
    "start_time": "2023-05-07T20:45:17.443Z"
   },
   {
    "duration": 202,
    "start_time": "2023-05-07T20:45:18.726Z"
   },
   {
    "duration": 23,
    "start_time": "2023-05-07T20:45:18.930Z"
   },
   {
    "duration": 11,
    "start_time": "2023-05-07T20:45:18.955Z"
   },
   {
    "duration": 6,
    "start_time": "2023-05-07T20:45:18.968Z"
   },
   {
    "duration": 9,
    "start_time": "2023-05-07T20:45:18.976Z"
   },
   {
    "duration": 109,
    "start_time": "2023-05-07T20:45:18.986Z"
   },
   {
    "duration": 104,
    "start_time": "2023-05-07T20:45:19.097Z"
   },
   {
    "duration": 30,
    "start_time": "2023-05-07T20:45:19.203Z"
   },
   {
    "duration": 31,
    "start_time": "2023-05-07T20:45:19.237Z"
   },
   {
    "duration": 33,
    "start_time": "2023-05-07T20:45:19.270Z"
   },
   {
    "duration": 134,
    "start_time": "2023-05-07T20:45:19.305Z"
   },
   {
    "duration": 14,
    "start_time": "2023-05-07T20:45:19.442Z"
   },
   {
    "duration": 21,
    "start_time": "2023-05-07T20:45:19.458Z"
   },
   {
    "duration": 35,
    "start_time": "2023-05-07T20:45:19.482Z"
   },
   {
    "duration": 17,
    "start_time": "2023-05-07T20:45:19.519Z"
   },
   {
    "duration": 654,
    "start_time": "2023-05-07T20:45:19.538Z"
   },
   {
    "duration": 125,
    "start_time": "2023-05-07T20:45:20.194Z"
   },
   {
    "duration": 0,
    "start_time": "2023-05-07T20:45:20.322Z"
   },
   {
    "duration": 0,
    "start_time": "2023-05-07T20:45:20.323Z"
   },
   {
    "duration": 0,
    "start_time": "2023-05-07T20:45:20.324Z"
   },
   {
    "duration": 0,
    "start_time": "2023-05-07T20:45:20.333Z"
   },
   {
    "duration": 0,
    "start_time": "2023-05-07T20:45:20.334Z"
   },
   {
    "duration": 0,
    "start_time": "2023-05-07T20:45:20.335Z"
   },
   {
    "duration": 0,
    "start_time": "2023-05-07T20:45:20.336Z"
   },
   {
    "duration": 9338,
    "start_time": "2023-05-07T20:45:36.204Z"
   },
   {
    "duration": 8922,
    "start_time": "2023-05-07T20:45:49.810Z"
   },
   {
    "duration": 18,
    "start_time": "2023-05-07T20:48:40.172Z"
   },
   {
    "duration": 30,
    "start_time": "2023-05-07T20:48:53.498Z"
   },
   {
    "duration": 208,
    "start_time": "2023-05-07T20:49:06.082Z"
   },
   {
    "duration": 196,
    "start_time": "2023-05-07T20:49:08.873Z"
   },
   {
    "duration": 9640,
    "start_time": "2023-05-07T20:49:41.050Z"
   },
   {
    "duration": 1150,
    "start_time": "2023-05-07T20:49:57.257Z"
   },
   {
    "duration": 178,
    "start_time": "2023-05-07T20:49:58.409Z"
   },
   {
    "duration": 20,
    "start_time": "2023-05-07T20:49:58.588Z"
   },
   {
    "duration": 10,
    "start_time": "2023-05-07T20:49:58.610Z"
   },
   {
    "duration": 13,
    "start_time": "2023-05-07T20:49:58.621Z"
   },
   {
    "duration": 12,
    "start_time": "2023-05-07T20:49:58.635Z"
   },
   {
    "duration": 85,
    "start_time": "2023-05-07T20:49:58.649Z"
   },
   {
    "duration": 103,
    "start_time": "2023-05-07T20:49:58.737Z"
   },
   {
    "duration": 27,
    "start_time": "2023-05-07T20:49:58.842Z"
   },
   {
    "duration": 27,
    "start_time": "2023-05-07T20:49:58.872Z"
   },
   {
    "duration": 44,
    "start_time": "2023-05-07T20:49:58.902Z"
   },
   {
    "duration": 135,
    "start_time": "2023-05-07T20:49:58.948Z"
   },
   {
    "duration": 14,
    "start_time": "2023-05-07T20:49:59.085Z"
   },
   {
    "duration": 16,
    "start_time": "2023-05-07T20:49:59.102Z"
   },
   {
    "duration": 22,
    "start_time": "2023-05-07T20:49:59.134Z"
   },
   {
    "duration": 7,
    "start_time": "2023-05-07T20:49:59.159Z"
   },
   {
    "duration": 580,
    "start_time": "2023-05-07T20:49:59.168Z"
   },
   {
    "duration": 9983,
    "start_time": "2023-05-07T20:49:59.750Z"
   },
   {
    "duration": 7136,
    "start_time": "2023-05-07T20:50:09.735Z"
   },
   {
    "duration": 15,
    "start_time": "2023-05-07T20:50:16.873Z"
   },
   {
    "duration": 6,
    "start_time": "2023-05-07T20:50:16.890Z"
   },
   {
    "duration": 58,
    "start_time": "2023-05-07T20:50:16.898Z"
   },
   {
    "duration": 292,
    "start_time": "2023-05-07T20:50:16.958Z"
   },
   {
    "duration": 56,
    "start_time": "2023-05-07T20:50:17.252Z"
   },
   {
    "duration": 2,
    "start_time": "2023-05-07T20:50:17.310Z"
   },
   {
    "duration": 389,
    "start_time": "2023-05-07T20:50:17.957Z"
   },
   {
    "duration": 654,
    "start_time": "2023-05-07T20:50:32.207Z"
   },
   {
    "duration": 284,
    "start_time": "2023-05-07T20:50:35.584Z"
   },
   {
    "duration": 426,
    "start_time": "2023-05-07T20:50:38.135Z"
   },
   {
    "duration": 251,
    "start_time": "2023-05-07T20:50:40.744Z"
   },
   {
    "duration": 287,
    "start_time": "2023-05-07T20:50:43.439Z"
   },
   {
    "duration": 113,
    "start_time": "2023-05-07T20:52:30.320Z"
   },
   {
    "duration": 111,
    "start_time": "2023-05-07T20:52:31.942Z"
   },
   {
    "duration": 100,
    "start_time": "2023-05-07T20:52:49.630Z"
   },
   {
    "duration": 1230,
    "start_time": "2023-05-07T20:52:58.171Z"
   },
   {
    "duration": 204,
    "start_time": "2023-05-07T20:52:59.403Z"
   },
   {
    "duration": 29,
    "start_time": "2023-05-07T20:52:59.609Z"
   },
   {
    "duration": 12,
    "start_time": "2023-05-07T20:52:59.641Z"
   },
   {
    "duration": 4,
    "start_time": "2023-05-07T20:52:59.655Z"
   },
   {
    "duration": 11,
    "start_time": "2023-05-07T20:52:59.660Z"
   },
   {
    "duration": 92,
    "start_time": "2023-05-07T20:52:59.673Z"
   },
   {
    "duration": 94,
    "start_time": "2023-05-07T20:52:59.766Z"
   },
   {
    "duration": 23,
    "start_time": "2023-05-07T20:52:59.862Z"
   },
   {
    "duration": 18,
    "start_time": "2023-05-07T20:52:59.887Z"
   },
   {
    "duration": 29,
    "start_time": "2023-05-07T20:52:59.907Z"
   },
   {
    "duration": 142,
    "start_time": "2023-05-07T20:52:59.938Z"
   },
   {
    "duration": 20,
    "start_time": "2023-05-07T20:53:00.082Z"
   },
   {
    "duration": 29,
    "start_time": "2023-05-07T20:53:00.105Z"
   },
   {
    "duration": 38,
    "start_time": "2023-05-07T20:53:00.136Z"
   },
   {
    "duration": 13,
    "start_time": "2023-05-07T20:53:00.177Z"
   },
   {
    "duration": 441,
    "start_time": "2023-05-07T20:53:00.192Z"
   },
   {
    "duration": 9691,
    "start_time": "2023-05-07T20:53:00.636Z"
   },
   {
    "duration": 9425,
    "start_time": "2023-05-07T20:53:10.329Z"
   },
   {
    "duration": 13,
    "start_time": "2023-05-07T20:53:19.756Z"
   },
   {
    "duration": 8,
    "start_time": "2023-05-07T20:53:19.771Z"
   },
   {
    "duration": 70,
    "start_time": "2023-05-07T20:53:19.781Z"
   },
   {
    "duration": 64,
    "start_time": "2023-05-07T20:53:19.853Z"
   },
   {
    "duration": 77,
    "start_time": "2023-05-07T20:53:19.919Z"
   },
   {
    "duration": 3,
    "start_time": "2023-05-07T20:53:19.997Z"
   },
   {
    "duration": 136,
    "start_time": "2023-05-07T20:53:20.002Z"
   },
   {
    "duration": 9311,
    "start_time": "2023-05-07T20:53:45.957Z"
   },
   {
    "duration": 108,
    "start_time": "2023-05-07T20:54:17.653Z"
   },
   {
    "duration": 9891,
    "start_time": "2023-05-07T20:54:21.286Z"
   },
   {
    "duration": 1139,
    "start_time": "2023-05-07T20:56:08.281Z"
   },
   {
    "duration": 191,
    "start_time": "2023-05-07T20:56:09.422Z"
   },
   {
    "duration": 38,
    "start_time": "2023-05-07T20:56:09.619Z"
   },
   {
    "duration": 20,
    "start_time": "2023-05-07T20:56:09.659Z"
   },
   {
    "duration": 6,
    "start_time": "2023-05-07T20:56:09.681Z"
   },
   {
    "duration": 17,
    "start_time": "2023-05-07T20:56:09.688Z"
   },
   {
    "duration": 87,
    "start_time": "2023-05-07T20:56:09.707Z"
   },
   {
    "duration": 100,
    "start_time": "2023-05-07T20:56:09.796Z"
   },
   {
    "duration": 23,
    "start_time": "2023-05-07T20:56:09.898Z"
   },
   {
    "duration": 19,
    "start_time": "2023-05-07T20:56:09.923Z"
   },
   {
    "duration": 29,
    "start_time": "2023-05-07T20:56:09.944Z"
   },
   {
    "duration": 111,
    "start_time": "2023-05-07T20:56:09.975Z"
   },
   {
    "duration": 12,
    "start_time": "2023-05-07T20:56:10.088Z"
   },
   {
    "duration": 14,
    "start_time": "2023-05-07T20:56:10.102Z"
   },
   {
    "duration": 48,
    "start_time": "2023-05-07T20:56:10.118Z"
   },
   {
    "duration": 7,
    "start_time": "2023-05-07T20:56:10.168Z"
   },
   {
    "duration": 400,
    "start_time": "2023-05-07T20:56:10.177Z"
   },
   {
    "duration": 9020,
    "start_time": "2023-05-07T20:56:10.578Z"
   },
   {
    "duration": 9223,
    "start_time": "2023-05-07T20:56:19.600Z"
   },
   {
    "duration": 16,
    "start_time": "2023-05-07T20:56:28.833Z"
   },
   {
    "duration": 10,
    "start_time": "2023-05-07T20:56:28.852Z"
   },
   {
    "duration": 40,
    "start_time": "2023-05-07T20:56:28.863Z"
   },
   {
    "duration": 91,
    "start_time": "2023-05-07T20:56:28.905Z"
   },
   {
    "duration": 69,
    "start_time": "2023-05-07T20:56:28.998Z"
   },
   {
    "duration": 3,
    "start_time": "2023-05-07T20:56:29.069Z"
   },
   {
    "duration": 6566,
    "start_time": "2023-05-07T20:56:44.756Z"
   },
   {
    "duration": 1232,
    "start_time": "2023-05-07T20:57:21.438Z"
   },
   {
    "duration": 201,
    "start_time": "2023-05-07T20:57:22.672Z"
   },
   {
    "duration": 22,
    "start_time": "2023-05-07T20:57:22.874Z"
   },
   {
    "duration": 38,
    "start_time": "2023-05-07T20:57:22.899Z"
   },
   {
    "duration": 27,
    "start_time": "2023-05-07T20:57:22.938Z"
   },
   {
    "duration": 36,
    "start_time": "2023-05-07T20:57:22.967Z"
   },
   {
    "duration": 78,
    "start_time": "2023-05-07T20:57:23.005Z"
   },
   {
    "duration": 99,
    "start_time": "2023-05-07T20:57:23.085Z"
   },
   {
    "duration": 29,
    "start_time": "2023-05-07T20:57:23.186Z"
   },
   {
    "duration": 25,
    "start_time": "2023-05-07T20:57:23.218Z"
   },
   {
    "duration": 20,
    "start_time": "2023-05-07T20:57:23.245Z"
   },
   {
    "duration": 106,
    "start_time": "2023-05-07T20:57:23.267Z"
   },
   {
    "duration": 12,
    "start_time": "2023-05-07T20:57:23.375Z"
   },
   {
    "duration": 21,
    "start_time": "2023-05-07T20:57:23.389Z"
   },
   {
    "duration": 30,
    "start_time": "2023-05-07T20:57:23.412Z"
   },
   {
    "duration": 5,
    "start_time": "2023-05-07T20:57:23.444Z"
   },
   {
    "duration": 423,
    "start_time": "2023-05-07T20:57:23.451Z"
   },
   {
    "duration": 9125,
    "start_time": "2023-05-07T20:57:23.876Z"
   },
   {
    "duration": 6180,
    "start_time": "2023-05-07T20:57:33.003Z"
   },
   {
    "duration": 23,
    "start_time": "2023-05-07T20:57:39.185Z"
   },
   {
    "duration": 25,
    "start_time": "2023-05-07T20:57:39.211Z"
   },
   {
    "duration": 48,
    "start_time": "2023-05-07T20:57:39.238Z"
   },
   {
    "duration": 79,
    "start_time": "2023-05-07T20:57:39.288Z"
   },
   {
    "duration": 65,
    "start_time": "2023-05-07T20:57:39.369Z"
   },
   {
    "duration": 2,
    "start_time": "2023-05-07T20:57:39.436Z"
   },
   {
    "duration": 145,
    "start_time": "2023-05-07T20:58:10.941Z"
   },
   {
    "duration": 145,
    "start_time": "2023-05-07T20:58:12.867Z"
   },
   {
    "duration": 145,
    "start_time": "2023-05-07T20:58:13.210Z"
   },
   {
    "duration": 137,
    "start_time": "2023-05-07T20:58:13.658Z"
   },
   {
    "duration": 146,
    "start_time": "2023-05-07T20:58:14.122Z"
   },
   {
    "duration": 157,
    "start_time": "2023-05-07T20:58:29.171Z"
   },
   {
    "duration": 153,
    "start_time": "2023-05-07T20:58:33.483Z"
   },
   {
    "duration": 175,
    "start_time": "2023-05-07T20:58:36.851Z"
   },
   {
    "duration": 266,
    "start_time": "2023-05-07T20:58:38.802Z"
   },
   {
    "duration": 103,
    "start_time": "2023-05-07T21:07:45.373Z"
   },
   {
    "duration": 16,
    "start_time": "2023-05-07T21:07:50.372Z"
   },
   {
    "duration": 57,
    "start_time": "2023-05-07T21:12:15.922Z"
   },
   {
    "duration": 37,
    "start_time": "2023-05-07T21:14:49.352Z"
   },
   {
    "duration": 49,
    "start_time": "2023-05-07T21:14:56.807Z"
   },
   {
    "duration": 44,
    "start_time": "2023-05-07T21:15:17.263Z"
   },
   {
    "duration": 37,
    "start_time": "2023-05-07T21:16:23.527Z"
   },
   {
    "duration": 42,
    "start_time": "2023-05-07T21:17:13.030Z"
   },
   {
    "duration": 250,
    "start_time": "2023-05-07T21:18:35.518Z"
   },
   {
    "duration": 270,
    "start_time": "2023-05-07T21:19:00.509Z"
   },
   {
    "duration": 41,
    "start_time": "2023-05-07T21:19:49.013Z"
   },
   {
    "duration": 40,
    "start_time": "2023-05-07T21:19:51.774Z"
   },
   {
    "duration": 38,
    "start_time": "2023-05-07T21:19:54.613Z"
   },
   {
    "duration": 45,
    "start_time": "2023-05-07T21:20:33.919Z"
   },
   {
    "duration": 60,
    "start_time": "2023-05-07T21:21:26.927Z"
   },
   {
    "duration": 53,
    "start_time": "2023-05-07T21:22:22.752Z"
   },
   {
    "duration": 69,
    "start_time": "2023-05-07T21:24:16.745Z"
   },
   {
    "duration": 39,
    "start_time": "2023-05-07T21:24:19.047Z"
   },
   {
    "duration": 52,
    "start_time": "2023-05-07T21:24:36.393Z"
   },
   {
    "duration": 38,
    "start_time": "2023-05-07T21:24:51.601Z"
   },
   {
    "duration": 37,
    "start_time": "2023-05-07T21:25:29.721Z"
   },
   {
    "duration": 62,
    "start_time": "2023-05-07T21:26:24.730Z"
   },
   {
    "duration": 1172,
    "start_time": "2023-05-07T21:26:49.027Z"
   },
   {
    "duration": 205,
    "start_time": "2023-05-07T21:26:50.201Z"
   },
   {
    "duration": 20,
    "start_time": "2023-05-07T21:26:50.407Z"
   },
   {
    "duration": 11,
    "start_time": "2023-05-07T21:26:50.429Z"
   },
   {
    "duration": 2,
    "start_time": "2023-05-07T21:26:50.442Z"
   },
   {
    "duration": 30,
    "start_time": "2023-05-07T21:26:50.446Z"
   },
   {
    "duration": 70,
    "start_time": "2023-05-07T21:26:50.478Z"
   },
   {
    "duration": 108,
    "start_time": "2023-05-07T21:26:50.549Z"
   },
   {
    "duration": 20,
    "start_time": "2023-05-07T21:26:50.659Z"
   },
   {
    "duration": 18,
    "start_time": "2023-05-07T21:26:50.681Z"
   },
   {
    "duration": 53,
    "start_time": "2023-05-07T21:26:50.701Z"
   },
   {
    "duration": 143,
    "start_time": "2023-05-07T21:26:50.755Z"
   },
   {
    "duration": 18,
    "start_time": "2023-05-07T21:26:50.899Z"
   },
   {
    "duration": 13,
    "start_time": "2023-05-07T21:26:50.934Z"
   },
   {
    "duration": 30,
    "start_time": "2023-05-07T21:26:50.950Z"
   },
   {
    "duration": 5,
    "start_time": "2023-05-07T21:26:50.982Z"
   },
   {
    "duration": 398,
    "start_time": "2023-05-07T21:26:50.988Z"
   },
   {
    "duration": 9187,
    "start_time": "2023-05-07T21:26:51.387Z"
   },
   {
    "duration": 6436,
    "start_time": "2023-05-07T21:27:00.576Z"
   },
   {
    "duration": 34,
    "start_time": "2023-05-07T21:27:07.014Z"
   },
   {
    "duration": 5,
    "start_time": "2023-05-07T21:27:07.050Z"
   },
   {
    "duration": 36,
    "start_time": "2023-05-07T21:27:07.056Z"
   },
   {
    "duration": 68,
    "start_time": "2023-05-07T21:27:07.093Z"
   },
   {
    "duration": 57,
    "start_time": "2023-05-07T21:27:07.163Z"
   },
   {
    "duration": 124,
    "start_time": "2023-05-07T21:27:07.221Z"
   },
   {
    "duration": 71,
    "start_time": "2023-05-07T21:27:37.448Z"
   },
   {
    "duration": 65,
    "start_time": "2023-05-07T21:27:48.202Z"
   },
   {
    "duration": 59,
    "start_time": "2023-05-07T21:27:50.202Z"
   },
   {
    "duration": 65,
    "start_time": "2023-05-07T21:27:51.689Z"
   },
   {
    "duration": 1164,
    "start_time": "2023-05-07T21:27:58.017Z"
   },
   {
    "duration": 217,
    "start_time": "2023-05-07T21:27:59.183Z"
   },
   {
    "duration": 24,
    "start_time": "2023-05-07T21:27:59.402Z"
   },
   {
    "duration": 13,
    "start_time": "2023-05-07T21:27:59.434Z"
   },
   {
    "duration": 11,
    "start_time": "2023-05-07T21:27:59.449Z"
   },
   {
    "duration": 12,
    "start_time": "2023-05-07T21:27:59.462Z"
   },
   {
    "duration": 93,
    "start_time": "2023-05-07T21:27:59.476Z"
   },
   {
    "duration": 89,
    "start_time": "2023-05-07T21:27:59.572Z"
   },
   {
    "duration": 22,
    "start_time": "2023-05-07T21:27:59.663Z"
   },
   {
    "duration": 18,
    "start_time": "2023-05-07T21:27:59.688Z"
   },
   {
    "duration": 35,
    "start_time": "2023-05-07T21:27:59.707Z"
   },
   {
    "duration": 102,
    "start_time": "2023-05-07T21:27:59.744Z"
   },
   {
    "duration": 17,
    "start_time": "2023-05-07T21:27:59.849Z"
   },
   {
    "duration": 13,
    "start_time": "2023-05-07T21:27:59.867Z"
   },
   {
    "duration": 18,
    "start_time": "2023-05-07T21:27:59.881Z"
   },
   {
    "duration": 5,
    "start_time": "2023-05-07T21:27:59.901Z"
   },
   {
    "duration": 434,
    "start_time": "2023-05-07T21:27:59.908Z"
   },
   {
    "duration": 9215,
    "start_time": "2023-05-07T21:28:00.344Z"
   },
   {
    "duration": 6358,
    "start_time": "2023-05-07T21:28:09.562Z"
   },
   {
    "duration": 23,
    "start_time": "2023-05-07T21:28:15.921Z"
   },
   {
    "duration": 5,
    "start_time": "2023-05-07T21:28:15.947Z"
   },
   {
    "duration": 34,
    "start_time": "2023-05-07T21:28:15.954Z"
   },
   {
    "duration": 97,
    "start_time": "2023-05-07T21:28:15.990Z"
   },
   {
    "duration": 65,
    "start_time": "2023-05-07T21:28:16.088Z"
   },
   {
    "duration": 165,
    "start_time": "2023-05-07T21:28:16.154Z"
   },
   {
    "duration": 69,
    "start_time": "2023-05-07T21:29:56.235Z"
   },
   {
    "duration": 56,
    "start_time": "2023-05-07T21:30:01.753Z"
   },
   {
    "duration": 34,
    "start_time": "2023-05-07T21:30:37.906Z"
   },
   {
    "duration": 62,
    "start_time": "2023-05-07T21:31:06.754Z"
   },
   {
    "duration": 61,
    "start_time": "2023-05-07T21:31:13.594Z"
   },
   {
    "duration": 55,
    "start_time": "2023-05-07T21:31:20.554Z"
   },
   {
    "duration": 75,
    "start_time": "2023-05-07T21:33:07.411Z"
   },
   {
    "duration": 53,
    "start_time": "2023-05-07T21:33:19.193Z"
   },
   {
    "duration": 13,
    "start_time": "2023-05-07T21:40:19.953Z"
   },
   {
    "duration": 9,
    "start_time": "2023-05-07T21:40:36.240Z"
   },
   {
    "duration": 12,
    "start_time": "2023-05-07T21:40:58.625Z"
   },
   {
    "duration": 1226,
    "start_time": "2023-05-07T21:41:40.209Z"
   },
   {
    "duration": 748,
    "start_time": "2023-05-07T21:49:44.766Z"
   },
   {
    "duration": 697,
    "start_time": "2023-05-07T21:50:53.872Z"
   },
   {
    "duration": 748,
    "start_time": "2023-05-07T21:51:12.174Z"
   },
   {
    "duration": 4,
    "start_time": "2023-05-07T21:51:51.509Z"
   },
   {
    "duration": 6,
    "start_time": "2023-05-07T21:51:57.284Z"
   },
   {
    "duration": 8,
    "start_time": "2023-05-07T21:52:17.588Z"
   },
   {
    "duration": 6,
    "start_time": "2023-05-07T21:52:22.693Z"
   },
   {
    "duration": 7,
    "start_time": "2023-05-07T21:52:25.763Z"
   },
   {
    "duration": 43,
    "start_time": "2023-05-07T21:53:09.021Z"
   },
   {
    "duration": 45,
    "start_time": "2023-05-07T21:53:11.548Z"
   },
   {
    "duration": 48,
    "start_time": "2023-05-07T21:53:17.236Z"
   },
   {
    "duration": 7,
    "start_time": "2023-05-07T21:53:20.900Z"
   },
   {
    "duration": 6,
    "start_time": "2023-05-07T21:53:41.548Z"
   },
   {
    "duration": 7,
    "start_time": "2023-05-07T21:53:45.548Z"
   },
   {
    "duration": 10,
    "start_time": "2023-05-07T21:55:35.634Z"
   },
   {
    "duration": 8,
    "start_time": "2023-05-07T21:55:38.458Z"
   },
   {
    "duration": 7,
    "start_time": "2023-05-07T21:56:13.898Z"
   },
   {
    "duration": 6,
    "start_time": "2023-05-07T21:56:18.505Z"
   },
   {
    "duration": 7,
    "start_time": "2023-05-07T21:56:22.913Z"
   },
   {
    "duration": 57,
    "start_time": "2023-05-07T21:57:56.609Z"
   },
   {
    "duration": 740,
    "start_time": "2023-05-07T22:01:25.262Z"
   },
   {
    "duration": 9,
    "start_time": "2023-05-07T22:01:45.262Z"
   },
   {
    "duration": 7,
    "start_time": "2023-05-07T22:02:42.014Z"
   },
   {
    "duration": 7,
    "start_time": "2023-05-07T22:02:44.365Z"
   },
   {
    "duration": 11,
    "start_time": "2023-05-07T22:02:47.398Z"
   },
   {
    "duration": 10,
    "start_time": "2023-05-07T22:02:49.847Z"
   },
   {
    "duration": 7,
    "start_time": "2023-05-07T22:02:51.909Z"
   },
   {
    "duration": 13,
    "start_time": "2023-05-07T22:02:54.029Z"
   },
   {
    "duration": 7,
    "start_time": "2023-05-07T22:02:56.286Z"
   },
   {
    "duration": 7,
    "start_time": "2023-05-07T22:02:57.773Z"
   },
   {
    "duration": 8,
    "start_time": "2023-05-07T22:03:12.373Z"
   },
   {
    "duration": 46,
    "start_time": "2023-05-08T09:11:20.075Z"
   },
   {
    "duration": 9,
    "start_time": "2023-05-08T09:11:41.595Z"
   },
   {
    "duration": 9,
    "start_time": "2023-05-08T09:12:02.222Z"
   },
   {
    "duration": 8,
    "start_time": "2023-05-08T09:12:13.108Z"
   },
   {
    "duration": 8,
    "start_time": "2023-05-08T09:13:48.427Z"
   },
   {
    "duration": 10,
    "start_time": "2023-05-08T09:13:55.770Z"
   },
   {
    "duration": 9,
    "start_time": "2023-05-08T09:14:06.467Z"
   },
   {
    "duration": 4,
    "start_time": "2023-05-08T09:14:38.564Z"
   },
   {
    "duration": 6,
    "start_time": "2023-05-08T09:14:56.441Z"
   },
   {
    "duration": 6,
    "start_time": "2023-05-08T09:15:35.113Z"
   },
   {
    "duration": 6,
    "start_time": "2023-05-08T09:15:38.466Z"
   },
   {
    "duration": 1333,
    "start_time": "2023-05-08T09:16:03.442Z"
   },
   {
    "duration": 621,
    "start_time": "2023-05-08T09:16:04.780Z"
   },
   {
    "duration": 21,
    "start_time": "2023-05-08T09:16:05.403Z"
   },
   {
    "duration": 49,
    "start_time": "2023-05-08T09:16:05.427Z"
   },
   {
    "duration": 43,
    "start_time": "2023-05-08T09:16:05.477Z"
   },
   {
    "duration": 50,
    "start_time": "2023-05-08T09:16:05.522Z"
   },
   {
    "duration": 68,
    "start_time": "2023-05-08T09:16:05.574Z"
   },
   {
    "duration": 76,
    "start_time": "2023-05-08T09:16:05.643Z"
   },
   {
    "duration": 29,
    "start_time": "2023-05-08T09:16:05.720Z"
   },
   {
    "duration": 42,
    "start_time": "2023-05-08T09:16:05.752Z"
   },
   {
    "duration": 48,
    "start_time": "2023-05-08T09:16:05.795Z"
   },
   {
    "duration": 106,
    "start_time": "2023-05-08T09:16:05.845Z"
   },
   {
    "duration": 11,
    "start_time": "2023-05-08T09:16:05.953Z"
   },
   {
    "duration": 35,
    "start_time": "2023-05-08T09:16:05.965Z"
   },
   {
    "duration": 28,
    "start_time": "2023-05-08T09:16:06.001Z"
   },
   {
    "duration": 26,
    "start_time": "2023-05-08T09:16:06.031Z"
   },
   {
    "duration": 379,
    "start_time": "2023-05-08T09:16:06.058Z"
   },
   {
    "duration": 8024,
    "start_time": "2023-05-08T09:16:06.439Z"
   },
   {
    "duration": 5615,
    "start_time": "2023-05-08T09:16:14.465Z"
   },
   {
    "duration": 13,
    "start_time": "2023-05-08T09:16:20.082Z"
   },
   {
    "duration": 7,
    "start_time": "2023-05-08T09:16:20.096Z"
   },
   {
    "duration": 52,
    "start_time": "2023-05-08T09:16:20.105Z"
   },
   {
    "duration": 64,
    "start_time": "2023-05-08T09:16:20.159Z"
   },
   {
    "duration": 2896,
    "start_time": "2023-05-08T09:16:20.224Z"
   },
   {
    "duration": 0,
    "start_time": "2023-05-08T09:16:23.121Z"
   },
   {
    "duration": 0,
    "start_time": "2023-05-08T09:16:23.123Z"
   },
   {
    "duration": 0,
    "start_time": "2023-05-08T09:16:23.124Z"
   },
   {
    "duration": 0,
    "start_time": "2023-05-08T09:16:23.125Z"
   },
   {
    "duration": 146,
    "start_time": "2023-05-08T09:16:29.379Z"
   },
   {
    "duration": 1926,
    "start_time": "2023-05-08T09:16:31.137Z"
   },
   {
    "duration": 5,
    "start_time": "2023-05-08T09:16:35.425Z"
   },
   {
    "duration": 70,
    "start_time": "2023-05-08T09:16:36.433Z"
   },
   {
    "duration": 10,
    "start_time": "2023-05-08T09:16:48.185Z"
   },
   {
    "duration": 6,
    "start_time": "2023-05-08T09:17:08.520Z"
   },
   {
    "duration": 197,
    "start_time": "2023-05-08T09:17:12.649Z"
   },
   {
    "duration": 2765,
    "start_time": "2023-05-08T09:18:00.769Z"
   },
   {
    "duration": 13,
    "start_time": "2023-05-08T09:18:48.545Z"
   },
   {
    "duration": 2075,
    "start_time": "2023-05-08T09:18:55.543Z"
   },
   {
    "duration": 8,
    "start_time": "2023-05-08T09:19:01.648Z"
   },
   {
    "duration": 9,
    "start_time": "2023-05-08T09:21:44.364Z"
   },
   {
    "duration": 13,
    "start_time": "2023-05-08T09:21:49.293Z"
   },
   {
    "duration": 66,
    "start_time": "2023-05-08T09:21:57.572Z"
   },
   {
    "duration": 10,
    "start_time": "2023-05-08T09:22:04.683Z"
   },
   {
    "duration": 4,
    "start_time": "2023-05-08T09:22:14.568Z"
   },
   {
    "duration": 4,
    "start_time": "2023-05-08T09:22:15.461Z"
   },
   {
    "duration": 66,
    "start_time": "2023-05-08T09:22:15.931Z"
   },
   {
    "duration": 11,
    "start_time": "2023-05-08T09:22:17.646Z"
   },
   {
    "duration": 11,
    "start_time": "2023-05-08T09:24:22.209Z"
   },
   {
    "duration": 10,
    "start_time": "2023-05-08T09:24:41.538Z"
   },
   {
    "duration": 29,
    "start_time": "2023-05-08T09:24:50.937Z"
   },
   {
    "duration": 36,
    "start_time": "2023-05-08T09:24:59.784Z"
   },
   {
    "duration": 42,
    "start_time": "2023-05-08T09:25:03.424Z"
   },
   {
    "duration": 29,
    "start_time": "2023-05-08T09:25:15.088Z"
   },
   {
    "duration": 29,
    "start_time": "2023-05-08T09:25:52.832Z"
   },
   {
    "duration": 3,
    "start_time": "2023-05-08T09:38:13.142Z"
   },
   {
    "duration": 4,
    "start_time": "2023-05-08T09:38:23.797Z"
   },
   {
    "duration": 4,
    "start_time": "2023-05-08T09:41:18.403Z"
   },
   {
    "duration": 4,
    "start_time": "2023-05-08T09:41:31.859Z"
   },
   {
    "duration": 5,
    "start_time": "2023-05-08T09:41:52.006Z"
   },
   {
    "duration": 3,
    "start_time": "2023-05-08T09:43:31.898Z"
   },
   {
    "duration": 103,
    "start_time": "2023-05-08T09:53:49.089Z"
   },
   {
    "duration": 9,
    "start_time": "2023-05-08T09:53:58.473Z"
   },
   {
    "duration": 38,
    "start_time": "2023-05-08T09:54:04.399Z"
   },
   {
    "duration": 7,
    "start_time": "2023-05-08T10:07:33.332Z"
   },
   {
    "duration": 54,
    "start_time": "2023-05-08T10:10:08.715Z"
   },
   {
    "duration": 81,
    "start_time": "2023-05-08T10:10:16.817Z"
   },
   {
    "duration": 90,
    "start_time": "2023-05-08T10:10:25.177Z"
   },
   {
    "duration": 80,
    "start_time": "2023-05-08T10:10:28.977Z"
   },
   {
    "duration": 74,
    "start_time": "2023-05-08T10:10:33.665Z"
   },
   {
    "duration": 79,
    "start_time": "2023-05-08T10:10:42.413Z"
   },
   {
    "duration": 85,
    "start_time": "2023-05-08T10:10:47.169Z"
   },
   {
    "duration": 5,
    "start_time": "2023-05-08T10:12:06.161Z"
   },
   {
    "duration": 5,
    "start_time": "2023-05-08T10:15:25.470Z"
   },
   {
    "duration": 5,
    "start_time": "2023-05-08T10:16:58.100Z"
   },
   {
    "duration": 4,
    "start_time": "2023-05-08T10:16:58.628Z"
   },
   {
    "duration": 15,
    "start_time": "2023-05-08T10:24:57.133Z"
   },
   {
    "duration": 5,
    "start_time": "2023-05-08T10:25:03.093Z"
   },
   {
    "duration": 5,
    "start_time": "2023-05-08T10:25:04.395Z"
   },
   {
    "duration": 5,
    "start_time": "2023-05-08T10:25:13.846Z"
   },
   {
    "duration": 5,
    "start_time": "2023-05-08T10:25:14.842Z"
   },
   {
    "duration": 5,
    "start_time": "2023-05-08T10:25:16.390Z"
   },
   {
    "duration": 5,
    "start_time": "2023-05-08T10:25:18.789Z"
   },
   {
    "duration": 5,
    "start_time": "2023-05-08T10:25:20.053Z"
   },
   {
    "duration": 36,
    "start_time": "2023-05-08T11:08:59.353Z"
   },
   {
    "duration": 67,
    "start_time": "2023-05-08T11:09:00.865Z"
   },
   {
    "duration": 12,
    "start_time": "2023-05-08T11:09:02.580Z"
   },
   {
    "duration": 181,
    "start_time": "2023-05-08T11:09:04.080Z"
   },
   {
    "duration": 3,
    "start_time": "2023-05-08T11:11:07.982Z"
   },
   {
    "duration": 4,
    "start_time": "2023-05-08T11:12:15.167Z"
   },
   {
    "duration": 63,
    "start_time": "2023-05-08T11:12:42.437Z"
   },
   {
    "duration": 69,
    "start_time": "2023-05-08T11:12:48.580Z"
   },
   {
    "duration": 75,
    "start_time": "2023-05-08T11:13:34.773Z"
   },
   {
    "duration": 49,
    "start_time": "2023-05-08T11:14:17.540Z"
   },
   {
    "duration": 78,
    "start_time": "2023-05-08T11:14:28.252Z"
   },
   {
    "duration": 83,
    "start_time": "2023-05-08T11:15:53.156Z"
   },
   {
    "duration": 87,
    "start_time": "2023-05-08T11:29:45.863Z"
   },
   {
    "duration": 19,
    "start_time": "2023-05-08T11:29:52.775Z"
   },
   {
    "duration": 101,
    "start_time": "2023-05-08T11:29:55.312Z"
   },
   {
    "duration": 78,
    "start_time": "2023-05-08T11:30:17.167Z"
   },
   {
    "duration": 79,
    "start_time": "2023-05-08T11:30:27.209Z"
   },
   {
    "duration": 83,
    "start_time": "2023-05-08T11:30:30.927Z"
   },
   {
    "duration": 9,
    "start_time": "2023-05-08T11:58:46.489Z"
   },
   {
    "duration": 9,
    "start_time": "2023-05-08T11:59:11.117Z"
   },
   {
    "duration": 9,
    "start_time": "2023-05-08T12:01:51.683Z"
   },
   {
    "duration": 1179,
    "start_time": "2023-05-08T12:03:52.898Z"
   },
   {
    "duration": 302,
    "start_time": "2023-05-08T12:03:54.079Z"
   },
   {
    "duration": 21,
    "start_time": "2023-05-08T12:03:54.383Z"
   },
   {
    "duration": 13,
    "start_time": "2023-05-08T12:03:54.406Z"
   },
   {
    "duration": 29,
    "start_time": "2023-05-08T12:03:54.421Z"
   },
   {
    "duration": 29,
    "start_time": "2023-05-08T12:03:54.452Z"
   },
   {
    "duration": 102,
    "start_time": "2023-05-08T12:03:54.483Z"
   },
   {
    "duration": 101,
    "start_time": "2023-05-08T12:03:54.587Z"
   },
   {
    "duration": 28,
    "start_time": "2023-05-08T12:03:54.692Z"
   },
   {
    "duration": 33,
    "start_time": "2023-05-08T12:03:54.722Z"
   },
   {
    "duration": 21,
    "start_time": "2023-05-08T12:03:54.757Z"
   },
   {
    "duration": 93,
    "start_time": "2023-05-08T12:03:54.780Z"
   },
   {
    "duration": 11,
    "start_time": "2023-05-08T12:03:54.875Z"
   },
   {
    "duration": 16,
    "start_time": "2023-05-08T12:03:54.887Z"
   },
   {
    "duration": 33,
    "start_time": "2023-05-08T12:03:54.905Z"
   },
   {
    "duration": 11,
    "start_time": "2023-05-08T12:03:54.939Z"
   },
   {
    "duration": 395,
    "start_time": "2023-05-08T12:03:54.951Z"
   },
   {
    "duration": 8671,
    "start_time": "2023-05-08T12:03:55.348Z"
   },
   {
    "duration": 5926,
    "start_time": "2023-05-08T12:04:04.021Z"
   },
   {
    "duration": 14,
    "start_time": "2023-05-08T12:04:09.949Z"
   },
   {
    "duration": 11,
    "start_time": "2023-05-08T12:04:09.964Z"
   },
   {
    "duration": 47,
    "start_time": "2023-05-08T12:04:09.976Z"
   },
   {
    "duration": 93,
    "start_time": "2023-05-08T12:04:10.025Z"
   },
   {
    "duration": 9,
    "start_time": "2023-05-08T12:04:10.120Z"
   },
   {
    "duration": 207,
    "start_time": "2023-05-08T12:04:10.131Z"
   },
   {
    "duration": 8,
    "start_time": "2023-05-08T12:04:10.348Z"
   },
   {
    "duration": 7,
    "start_time": "2023-05-08T12:04:10.358Z"
   },
   {
    "duration": 103,
    "start_time": "2023-05-08T12:04:10.368Z"
   },
   {
    "duration": 122,
    "start_time": "2023-05-08T12:04:10.473Z"
   },
   {
    "duration": 175,
    "start_time": "2023-05-08T12:04:10.597Z"
   },
   {
    "duration": 0,
    "start_time": "2023-05-08T12:04:10.774Z"
   },
   {
    "duration": 0,
    "start_time": "2023-05-08T12:04:10.775Z"
   },
   {
    "duration": 0,
    "start_time": "2023-05-08T12:04:10.776Z"
   },
   {
    "duration": 0,
    "start_time": "2023-05-08T12:04:10.777Z"
   },
   {
    "duration": 0,
    "start_time": "2023-05-08T12:04:10.778Z"
   },
   {
    "duration": 0,
    "start_time": "2023-05-08T12:04:10.779Z"
   },
   {
    "duration": 0,
    "start_time": "2023-05-08T12:04:10.780Z"
   },
   {
    "duration": 1094,
    "start_time": "2023-05-08T12:05:10.300Z"
   },
   {
    "duration": 190,
    "start_time": "2023-05-08T12:05:11.396Z"
   },
   {
    "duration": 19,
    "start_time": "2023-05-08T12:05:11.588Z"
   },
   {
    "duration": 38,
    "start_time": "2023-05-08T12:05:11.610Z"
   },
   {
    "duration": 3,
    "start_time": "2023-05-08T12:05:11.649Z"
   },
   {
    "duration": 13,
    "start_time": "2023-05-08T12:05:11.654Z"
   },
   {
    "duration": 63,
    "start_time": "2023-05-08T12:05:11.668Z"
   },
   {
    "duration": 85,
    "start_time": "2023-05-08T12:05:11.732Z"
   },
   {
    "duration": 34,
    "start_time": "2023-05-08T12:05:11.819Z"
   },
   {
    "duration": 15,
    "start_time": "2023-05-08T12:05:11.855Z"
   },
   {
    "duration": 14,
    "start_time": "2023-05-08T12:05:11.871Z"
   },
   {
    "duration": 99,
    "start_time": "2023-05-08T12:05:11.886Z"
   },
   {
    "duration": 12,
    "start_time": "2023-05-08T12:05:11.987Z"
   },
   {
    "duration": 42,
    "start_time": "2023-05-08T12:05:12.000Z"
   },
   {
    "duration": 24,
    "start_time": "2023-05-08T12:05:12.043Z"
   },
   {
    "duration": 4,
    "start_time": "2023-05-08T12:05:12.069Z"
   },
   {
    "duration": 350,
    "start_time": "2023-05-08T12:05:12.075Z"
   },
   {
    "duration": 8405,
    "start_time": "2023-05-08T12:05:12.426Z"
   },
   {
    "duration": 6237,
    "start_time": "2023-05-08T12:05:20.833Z"
   },
   {
    "duration": 14,
    "start_time": "2023-05-08T12:05:27.072Z"
   },
   {
    "duration": 5,
    "start_time": "2023-05-08T12:05:27.088Z"
   },
   {
    "duration": 73,
    "start_time": "2023-05-08T12:05:27.095Z"
   },
   {
    "duration": 83,
    "start_time": "2023-05-08T12:05:27.169Z"
   },
   {
    "duration": 11,
    "start_time": "2023-05-08T12:05:27.253Z"
   },
   {
    "duration": 192,
    "start_time": "2023-05-08T12:05:27.266Z"
   },
   {
    "duration": 8,
    "start_time": "2023-05-08T12:05:27.460Z"
   },
   {
    "duration": 30,
    "start_time": "2023-05-08T12:05:27.469Z"
   },
   {
    "duration": 94,
    "start_time": "2023-05-08T12:05:27.503Z"
   },
   {
    "duration": 150,
    "start_time": "2023-05-08T12:05:27.598Z"
   },
   {
    "duration": 32,
    "start_time": "2023-05-08T12:05:27.750Z"
   },
   {
    "duration": 197,
    "start_time": "2023-05-08T12:05:27.784Z"
   },
   {
    "duration": 4,
    "start_time": "2023-05-08T12:05:27.983Z"
   },
   {
    "duration": 58,
    "start_time": "2023-05-08T12:05:27.989Z"
   },
   {
    "duration": 6,
    "start_time": "2023-05-08T12:05:28.049Z"
   },
   {
    "duration": 8,
    "start_time": "2023-05-08T12:05:28.057Z"
   },
   {
    "duration": 100,
    "start_time": "2023-05-08T12:05:28.067Z"
   },
   {
    "duration": 10,
    "start_time": "2023-05-08T12:08:56.175Z"
   },
   {
    "duration": 14,
    "start_time": "2023-05-08T12:09:20.694Z"
   },
   {
    "duration": 115,
    "start_time": "2023-05-08T12:10:39.172Z"
   },
   {
    "duration": 9,
    "start_time": "2023-05-08T12:10:46.276Z"
   },
   {
    "duration": 9,
    "start_time": "2023-05-08T12:10:48.502Z"
   },
   {
    "duration": 39,
    "start_time": "2023-05-08T12:35:48.033Z"
   },
   {
    "duration": 1373,
    "start_time": "2023-05-08T12:35:54.431Z"
   },
   {
    "duration": 238,
    "start_time": "2023-05-08T12:35:55.806Z"
   },
   {
    "duration": 25,
    "start_time": "2023-05-08T12:35:56.046Z"
   },
   {
    "duration": 16,
    "start_time": "2023-05-08T12:35:56.073Z"
   },
   {
    "duration": 4,
    "start_time": "2023-05-08T12:35:56.090Z"
   },
   {
    "duration": 19,
    "start_time": "2023-05-08T12:35:56.095Z"
   },
   {
    "duration": 92,
    "start_time": "2023-05-08T12:35:56.116Z"
   },
   {
    "duration": 94,
    "start_time": "2023-05-08T12:35:56.209Z"
   },
   {
    "duration": 32,
    "start_time": "2023-05-08T12:35:56.304Z"
   },
   {
    "duration": 29,
    "start_time": "2023-05-08T12:35:56.341Z"
   },
   {
    "duration": 14,
    "start_time": "2023-05-08T12:35:56.372Z"
   },
   {
    "duration": 107,
    "start_time": "2023-05-08T12:35:56.388Z"
   },
   {
    "duration": 11,
    "start_time": "2023-05-08T12:35:56.496Z"
   },
   {
    "duration": 13,
    "start_time": "2023-05-08T12:35:56.509Z"
   },
   {
    "duration": 37,
    "start_time": "2023-05-08T12:35:56.523Z"
   },
   {
    "duration": 5,
    "start_time": "2023-05-08T12:35:56.561Z"
   },
   {
    "duration": 393,
    "start_time": "2023-05-08T12:35:56.568Z"
   },
   {
    "duration": 9512,
    "start_time": "2023-05-08T12:35:56.963Z"
   },
   {
    "duration": 6219,
    "start_time": "2023-05-08T12:36:06.477Z"
   },
   {
    "duration": 16,
    "start_time": "2023-05-08T12:36:12.698Z"
   },
   {
    "duration": 24,
    "start_time": "2023-05-08T12:36:12.715Z"
   },
   {
    "duration": 35,
    "start_time": "2023-05-08T12:36:12.752Z"
   },
   {
    "duration": 79,
    "start_time": "2023-05-08T12:36:12.790Z"
   },
   {
    "duration": 11,
    "start_time": "2023-05-08T12:36:12.871Z"
   },
   {
    "duration": 176,
    "start_time": "2023-05-08T12:36:12.883Z"
   },
   {
    "duration": 11,
    "start_time": "2023-05-08T12:36:13.061Z"
   },
   {
    "duration": 39,
    "start_time": "2023-05-08T12:36:13.073Z"
   },
   {
    "duration": 101,
    "start_time": "2023-05-08T12:36:13.115Z"
   },
   {
    "duration": 4,
    "start_time": "2023-05-08T12:36:13.217Z"
   },
   {
    "duration": 67,
    "start_time": "2023-05-08T12:36:13.223Z"
   },
   {
    "duration": 6,
    "start_time": "2023-05-08T12:36:13.293Z"
   },
   {
    "duration": 35,
    "start_time": "2023-05-08T12:36:13.301Z"
   },
   {
    "duration": 129,
    "start_time": "2023-05-08T12:36:13.338Z"
   },
   {
    "duration": 81,
    "start_time": "2023-05-08T12:42:22.502Z"
   },
   {
    "duration": 75,
    "start_time": "2023-05-08T12:42:25.627Z"
   },
   {
    "duration": 85,
    "start_time": "2023-05-08T12:42:31.563Z"
   },
   {
    "duration": 45,
    "start_time": "2023-05-08T12:44:47.097Z"
   },
   {
    "duration": 43,
    "start_time": "2023-05-08T12:44:55.825Z"
   },
   {
    "duration": 43,
    "start_time": "2023-05-08T12:44:58.808Z"
   },
   {
    "duration": 42,
    "start_time": "2023-05-08T12:45:01.688Z"
   },
   {
    "duration": 42,
    "start_time": "2023-05-08T12:45:03.857Z"
   },
   {
    "duration": 76,
    "start_time": "2023-05-08T12:45:11.050Z"
   },
   {
    "duration": 44,
    "start_time": "2023-05-08T12:45:21.799Z"
   },
   {
    "duration": 5,
    "start_time": "2023-05-08T12:47:17.670Z"
   },
   {
    "duration": 42,
    "start_time": "2023-05-08T12:47:18.533Z"
   },
   {
    "duration": 5,
    "start_time": "2023-05-08T12:47:21.749Z"
   },
   {
    "duration": 89,
    "start_time": "2023-05-08T12:47:23.071Z"
   },
   {
    "duration": 5,
    "start_time": "2023-05-08T12:47:25.381Z"
   },
   {
    "duration": 45,
    "start_time": "2023-05-08T12:47:26.758Z"
   },
   {
    "duration": 53,
    "start_time": "2023-05-08T12:48:00.758Z"
   },
   {
    "duration": 65,
    "start_time": "2023-05-08T12:48:04.718Z"
   },
   {
    "duration": 4,
    "start_time": "2023-05-08T12:48:05.174Z"
   },
   {
    "duration": 5,
    "start_time": "2023-05-08T12:48:08.958Z"
   },
   {
    "duration": 887,
    "start_time": "2023-05-08T13:05:23.634Z"
   },
   {
    "duration": 7,
    "start_time": "2023-05-08T13:07:32.725Z"
   },
   {
    "duration": 5,
    "start_time": "2023-05-08T13:07:34.361Z"
   },
   {
    "duration": 46,
    "start_time": "2023-05-08T13:13:36.441Z"
   },
   {
    "duration": 9,
    "start_time": "2023-05-08T13:14:43.639Z"
   },
   {
    "duration": 13,
    "start_time": "2023-05-08T13:14:56.247Z"
   },
   {
    "duration": 5,
    "start_time": "2023-05-08T13:16:38.470Z"
   },
   {
    "duration": 6,
    "start_time": "2023-05-08T13:16:46.525Z"
   },
   {
    "duration": 6,
    "start_time": "2023-05-08T13:55:16.962Z"
   },
   {
    "duration": 8,
    "start_time": "2023-05-08T13:56:18.397Z"
   },
   {
    "duration": 1380,
    "start_time": "2023-05-08T17:23:37.161Z"
   },
   {
    "duration": 1021,
    "start_time": "2023-05-08T17:23:38.543Z"
   },
   {
    "duration": 24,
    "start_time": "2023-05-08T17:23:39.566Z"
   },
   {
    "duration": 15,
    "start_time": "2023-05-08T17:23:39.592Z"
   },
   {
    "duration": 3,
    "start_time": "2023-05-08T17:23:39.609Z"
   },
   {
    "duration": 6,
    "start_time": "2023-05-08T17:23:39.614Z"
   },
   {
    "duration": 99,
    "start_time": "2023-05-08T17:23:39.621Z"
   },
   {
    "duration": 88,
    "start_time": "2023-05-08T17:23:39.722Z"
   },
   {
    "duration": 22,
    "start_time": "2023-05-08T17:23:39.812Z"
   },
   {
    "duration": 13,
    "start_time": "2023-05-08T17:23:39.837Z"
   },
   {
    "duration": 34,
    "start_time": "2023-05-08T17:23:39.852Z"
   },
   {
    "duration": 98,
    "start_time": "2023-05-08T17:23:39.888Z"
   },
   {
    "duration": 18,
    "start_time": "2023-05-08T17:23:39.988Z"
   },
   {
    "duration": 29,
    "start_time": "2023-05-08T17:23:40.009Z"
   },
   {
    "duration": 36,
    "start_time": "2023-05-08T17:23:40.040Z"
   },
   {
    "duration": 14,
    "start_time": "2023-05-08T17:23:40.078Z"
   },
   {
    "duration": 426,
    "start_time": "2023-05-08T17:23:40.094Z"
   },
   {
    "duration": 9016,
    "start_time": "2023-05-08T17:23:40.521Z"
   },
   {
    "duration": 6413,
    "start_time": "2023-05-08T17:23:49.539Z"
   },
   {
    "duration": 31,
    "start_time": "2023-05-08T17:23:55.954Z"
   },
   {
    "duration": 6,
    "start_time": "2023-05-08T17:23:55.987Z"
   },
   {
    "duration": 36,
    "start_time": "2023-05-08T17:23:55.994Z"
   },
   {
    "duration": 88,
    "start_time": "2023-05-08T17:23:56.031Z"
   },
   {
    "duration": 10,
    "start_time": "2023-05-08T17:23:56.121Z"
   },
   {
    "duration": 179,
    "start_time": "2023-05-08T17:23:56.132Z"
   },
   {
    "duration": 13,
    "start_time": "2023-05-08T17:23:56.312Z"
   },
   {
    "duration": 36,
    "start_time": "2023-05-08T17:23:56.326Z"
   },
   {
    "duration": 102,
    "start_time": "2023-05-08T17:23:56.384Z"
   },
   {
    "duration": 6,
    "start_time": "2023-05-08T17:23:56.488Z"
   },
   {
    "duration": 42,
    "start_time": "2023-05-08T17:23:56.496Z"
   },
   {
    "duration": 9,
    "start_time": "2023-05-08T17:23:56.540Z"
   },
   {
    "duration": 35,
    "start_time": "2023-05-08T17:23:56.551Z"
   },
   {
    "duration": 45,
    "start_time": "2023-05-08T17:23:56.587Z"
   },
   {
    "duration": 61,
    "start_time": "2023-05-08T17:23:56.634Z"
   },
   {
    "duration": 8,
    "start_time": "2023-05-08T17:23:56.696Z"
   },
   {
    "duration": 9,
    "start_time": "2023-05-08T17:23:56.706Z"
   },
   {
    "duration": 14,
    "start_time": "2023-05-08T17:23:56.717Z"
   },
   {
    "duration": 37,
    "start_time": "2023-05-08T17:29:33.816Z"
   },
   {
    "duration": 66,
    "start_time": "2023-05-08T17:29:34.872Z"
   },
   {
    "duration": 9,
    "start_time": "2023-05-08T17:29:36.521Z"
   },
   {
    "duration": 40,
    "start_time": "2023-05-08T17:32:56.410Z"
   },
   {
    "duration": 7016,
    "start_time": "2023-05-08T17:33:20.521Z"
   },
   {
    "duration": 6,
    "start_time": "2023-05-08T17:33:34.149Z"
   },
   {
    "duration": 46,
    "start_time": "2023-05-08T17:33:35.478Z"
   },
   {
    "duration": 7247,
    "start_time": "2023-05-08T17:33:51.837Z"
   },
   {
    "duration": 37,
    "start_time": "2023-05-08T17:34:31.306Z"
   },
   {
    "duration": 14,
    "start_time": "2023-05-08T17:34:33.813Z"
   },
   {
    "duration": 5,
    "start_time": "2023-05-08T17:34:34.918Z"
   },
   {
    "duration": 35,
    "start_time": "2023-05-08T17:34:35.934Z"
   },
   {
    "duration": 1174,
    "start_time": "2023-05-08T17:34:58.047Z"
   },
   {
    "duration": 207,
    "start_time": "2023-05-08T17:34:59.223Z"
   },
   {
    "duration": 21,
    "start_time": "2023-05-08T17:34:59.432Z"
   },
   {
    "duration": 10,
    "start_time": "2023-05-08T17:34:59.455Z"
   },
   {
    "duration": 18,
    "start_time": "2023-05-08T17:34:59.467Z"
   },
   {
    "duration": 9,
    "start_time": "2023-05-08T17:34:59.488Z"
   },
   {
    "duration": 71,
    "start_time": "2023-05-08T17:34:59.499Z"
   },
   {
    "duration": 105,
    "start_time": "2023-05-08T17:34:59.572Z"
   },
   {
    "duration": 32,
    "start_time": "2023-05-08T17:34:59.686Z"
   },
   {
    "duration": 26,
    "start_time": "2023-05-08T17:34:59.721Z"
   },
   {
    "duration": 26,
    "start_time": "2023-05-08T17:34:59.748Z"
   },
   {
    "duration": 112,
    "start_time": "2023-05-08T17:34:59.775Z"
   },
   {
    "duration": 18,
    "start_time": "2023-05-08T17:34:59.889Z"
   },
   {
    "duration": 23,
    "start_time": "2023-05-08T17:34:59.909Z"
   },
   {
    "duration": 35,
    "start_time": "2023-05-08T17:34:59.934Z"
   },
   {
    "duration": 5,
    "start_time": "2023-05-08T17:34:59.970Z"
   },
   {
    "duration": 387,
    "start_time": "2023-05-08T17:34:59.976Z"
   },
   {
    "duration": 9197,
    "start_time": "2023-05-08T17:35:00.364Z"
   },
   {
    "duration": 7049,
    "start_time": "2023-05-08T17:35:09.563Z"
   },
   {
    "duration": 17,
    "start_time": "2023-05-08T17:35:16.614Z"
   },
   {
    "duration": 5,
    "start_time": "2023-05-08T17:35:16.632Z"
   },
   {
    "duration": 63,
    "start_time": "2023-05-08T17:35:16.638Z"
   },
   {
    "duration": 64,
    "start_time": "2023-05-08T17:35:16.702Z"
   },
   {
    "duration": 34,
    "start_time": "2023-05-08T17:35:16.767Z"
   },
   {
    "duration": 169,
    "start_time": "2023-05-08T17:35:16.803Z"
   },
   {
    "duration": 27,
    "start_time": "2023-05-08T17:35:16.974Z"
   },
   {
    "duration": 32,
    "start_time": "2023-05-08T17:35:17.003Z"
   },
   {
    "duration": 103,
    "start_time": "2023-05-08T17:35:17.038Z"
   },
   {
    "duration": 5,
    "start_time": "2023-05-08T17:35:17.143Z"
   },
   {
    "duration": 65,
    "start_time": "2023-05-08T17:35:17.150Z"
   },
   {
    "duration": 9,
    "start_time": "2023-05-08T17:35:17.217Z"
   },
   {
    "duration": 17,
    "start_time": "2023-05-08T17:35:17.227Z"
   },
   {
    "duration": 50,
    "start_time": "2023-05-08T17:35:17.245Z"
   },
   {
    "duration": 48,
    "start_time": "2023-05-08T17:35:17.296Z"
   },
   {
    "duration": 7,
    "start_time": "2023-05-08T17:35:17.346Z"
   },
   {
    "duration": 33,
    "start_time": "2023-05-08T17:35:17.355Z"
   },
   {
    "duration": 25,
    "start_time": "2023-05-08T17:35:17.391Z"
   },
   {
    "duration": 434,
    "start_time": "2023-05-08T17:36:02.829Z"
   },
   {
    "duration": 6036,
    "start_time": "2023-05-08T17:37:15.349Z"
   },
   {
    "duration": 15,
    "start_time": "2023-05-08T17:37:24.910Z"
   },
   {
    "duration": 6,
    "start_time": "2023-05-08T17:37:27.368Z"
   },
   {
    "duration": 33,
    "start_time": "2023-05-08T17:37:28.093Z"
   },
   {
    "duration": 40,
    "start_time": "2023-05-08T17:39:03.516Z"
   },
   {
    "duration": 34,
    "start_time": "2023-05-08T17:39:09.608Z"
   },
   {
    "duration": 67,
    "start_time": "2023-05-08T17:39:16.722Z"
   },
   {
    "duration": 68,
    "start_time": "2023-05-08T17:39:19.771Z"
   },
   {
    "duration": 66,
    "start_time": "2023-05-08T17:39:26.311Z"
   },
   {
    "duration": 68,
    "start_time": "2023-05-08T17:39:28.114Z"
   },
   {
    "duration": 69,
    "start_time": "2023-05-08T17:39:32.707Z"
   },
   {
    "duration": 70,
    "start_time": "2023-05-08T17:39:40.754Z"
   },
   {
    "duration": 65,
    "start_time": "2023-05-08T17:39:45.922Z"
   },
   {
    "duration": 64,
    "start_time": "2023-05-08T17:40:15.506Z"
   },
   {
    "duration": 69,
    "start_time": "2023-05-08T17:40:51.658Z"
   },
   {
    "duration": 66,
    "start_time": "2023-05-08T17:41:02.962Z"
   },
   {
    "duration": 11,
    "start_time": "2023-05-08T17:41:36.309Z"
   },
   {
    "duration": 10,
    "start_time": "2023-05-08T17:41:41.398Z"
   },
   {
    "duration": 13,
    "start_time": "2023-05-08T17:43:31.114Z"
   },
   {
    "duration": 73,
    "start_time": "2023-05-08T17:44:26.280Z"
   },
   {
    "duration": 82,
    "start_time": "2023-05-08T17:45:06.168Z"
   },
   {
    "duration": 82,
    "start_time": "2023-05-08T17:45:19.623Z"
   },
   {
    "duration": 68,
    "start_time": "2023-05-08T17:45:50.864Z"
   },
   {
    "duration": 74,
    "start_time": "2023-05-08T17:45:54.816Z"
   },
   {
    "duration": 72,
    "start_time": "2023-05-08T17:46:11.706Z"
   },
   {
    "duration": 76,
    "start_time": "2023-05-08T17:46:19.006Z"
   },
   {
    "duration": 1159,
    "start_time": "2023-05-08T17:46:38.632Z"
   },
   {
    "duration": 1189,
    "start_time": "2023-05-08T17:46:52.610Z"
   },
   {
    "duration": 68,
    "start_time": "2023-05-08T17:47:29.006Z"
   },
   {
    "duration": 90,
    "start_time": "2023-05-08T17:47:33.910Z"
   },
   {
    "duration": 73,
    "start_time": "2023-05-08T17:47:42.609Z"
   },
   {
    "duration": 76,
    "start_time": "2023-05-08T17:47:46.558Z"
   },
   {
    "duration": 71,
    "start_time": "2023-05-08T17:49:12.202Z"
   },
   {
    "duration": 77,
    "start_time": "2023-05-08T17:49:18.349Z"
   },
   {
    "duration": 69,
    "start_time": "2023-05-08T17:50:48.115Z"
   },
   {
    "duration": 13,
    "start_time": "2023-05-08T17:51:18.772Z"
   },
   {
    "duration": 12,
    "start_time": "2023-05-08T17:51:48.637Z"
   },
   {
    "duration": 11,
    "start_time": "2023-05-08T17:51:55.749Z"
   },
   {
    "duration": 12,
    "start_time": "2023-05-08T17:52:01.980Z"
   },
   {
    "duration": 1141,
    "start_time": "2023-05-08T17:52:47.061Z"
   },
   {
    "duration": 208,
    "start_time": "2023-05-08T17:52:48.205Z"
   },
   {
    "duration": 22,
    "start_time": "2023-05-08T17:52:48.414Z"
   },
   {
    "duration": 11,
    "start_time": "2023-05-08T17:52:48.438Z"
   },
   {
    "duration": 6,
    "start_time": "2023-05-08T17:52:48.450Z"
   },
   {
    "duration": 6,
    "start_time": "2023-05-08T17:52:48.457Z"
   },
   {
    "duration": 85,
    "start_time": "2023-05-08T17:52:48.464Z"
   },
   {
    "duration": 90,
    "start_time": "2023-05-08T17:52:48.550Z"
   },
   {
    "duration": 22,
    "start_time": "2023-05-08T17:52:48.641Z"
   },
   {
    "duration": 25,
    "start_time": "2023-05-08T17:52:48.665Z"
   },
   {
    "duration": 12,
    "start_time": "2023-05-08T17:52:48.692Z"
   },
   {
    "duration": 98,
    "start_time": "2023-05-08T17:52:48.705Z"
   },
   {
    "duration": 12,
    "start_time": "2023-05-08T17:52:48.804Z"
   },
   {
    "duration": 11,
    "start_time": "2023-05-08T17:52:48.818Z"
   },
   {
    "duration": 22,
    "start_time": "2023-05-08T17:52:48.831Z"
   },
   {
    "duration": 31,
    "start_time": "2023-05-08T17:52:48.855Z"
   },
   {
    "duration": 391,
    "start_time": "2023-05-08T17:52:48.887Z"
   },
   {
    "duration": 8806,
    "start_time": "2023-05-08T17:52:49.279Z"
   },
   {
    "duration": 6231,
    "start_time": "2023-05-08T17:52:58.087Z"
   },
   {
    "duration": 13,
    "start_time": "2023-05-08T17:53:04.319Z"
   },
   {
    "duration": 6,
    "start_time": "2023-05-08T17:53:04.334Z"
   },
   {
    "duration": 56,
    "start_time": "2023-05-08T17:53:04.341Z"
   },
   {
    "duration": 87,
    "start_time": "2023-05-08T17:53:04.399Z"
   },
   {
    "duration": 109,
    "start_time": "2023-05-08T17:53:04.488Z"
   },
   {
    "duration": 0,
    "start_time": "2023-05-08T17:53:04.600Z"
   },
   {
    "duration": 0,
    "start_time": "2023-05-08T17:53:04.601Z"
   },
   {
    "duration": 0,
    "start_time": "2023-05-08T17:53:04.602Z"
   },
   {
    "duration": 0,
    "start_time": "2023-05-08T17:53:04.602Z"
   },
   {
    "duration": 0,
    "start_time": "2023-05-08T17:53:04.604Z"
   },
   {
    "duration": 0,
    "start_time": "2023-05-08T17:53:04.605Z"
   },
   {
    "duration": 0,
    "start_time": "2023-05-08T17:53:04.606Z"
   },
   {
    "duration": 0,
    "start_time": "2023-05-08T17:53:04.607Z"
   },
   {
    "duration": 0,
    "start_time": "2023-05-08T17:53:04.608Z"
   },
   {
    "duration": 0,
    "start_time": "2023-05-08T17:53:04.609Z"
   },
   {
    "duration": 0,
    "start_time": "2023-05-08T17:53:04.610Z"
   },
   {
    "duration": 0,
    "start_time": "2023-05-08T17:53:04.611Z"
   },
   {
    "duration": 1,
    "start_time": "2023-05-08T17:53:04.612Z"
   },
   {
    "duration": 9,
    "start_time": "2023-05-08T17:53:25.227Z"
   },
   {
    "duration": 1158,
    "start_time": "2023-05-08T17:53:31.468Z"
   },
   {
    "duration": 20,
    "start_time": "2023-05-08T17:54:07.237Z"
   },
   {
    "duration": 12,
    "start_time": "2023-05-08T17:55:34.874Z"
   },
   {
    "duration": 174,
    "start_time": "2023-05-08T17:55:45.420Z"
   },
   {
    "duration": 12,
    "start_time": "2023-05-08T17:56:50.314Z"
   },
   {
    "duration": 10,
    "start_time": "2023-05-08T17:57:50.329Z"
   },
   {
    "duration": 10,
    "start_time": "2023-05-08T17:58:33.545Z"
   },
   {
    "duration": 10,
    "start_time": "2023-05-08T17:58:39.307Z"
   },
   {
    "duration": 12,
    "start_time": "2023-05-08T17:58:44.448Z"
   },
   {
    "duration": 12,
    "start_time": "2023-05-08T18:01:10.064Z"
   },
   {
    "duration": 12,
    "start_time": "2023-05-08T18:01:43.856Z"
   },
   {
    "duration": 13,
    "start_time": "2023-05-08T18:04:48.229Z"
   },
   {
    "duration": 63,
    "start_time": "2023-05-08T18:05:37.911Z"
   },
   {
    "duration": 9,
    "start_time": "2023-05-08T18:07:23.010Z"
   },
   {
    "duration": 1131,
    "start_time": "2023-05-08T18:09:06.083Z"
   },
   {
    "duration": 10,
    "start_time": "2023-05-08T18:17:30.686Z"
   },
   {
    "duration": 11,
    "start_time": "2023-05-08T18:17:37.142Z"
   },
   {
    "duration": 8,
    "start_time": "2023-05-08T18:18:45.862Z"
   },
   {
    "duration": 9,
    "start_time": "2023-05-08T18:18:53.670Z"
   },
   {
    "duration": 303,
    "start_time": "2023-05-08T18:19:00.614Z"
   },
   {
    "duration": 30,
    "start_time": "2023-05-08T18:22:41.868Z"
   },
   {
    "duration": 98,
    "start_time": "2023-05-08T18:22:43.043Z"
   },
   {
    "duration": 1132,
    "start_time": "2023-05-08T18:23:12.606Z"
   },
   {
    "duration": 188,
    "start_time": "2023-05-08T18:23:13.740Z"
   },
   {
    "duration": 38,
    "start_time": "2023-05-08T18:23:13.929Z"
   },
   {
    "duration": 22,
    "start_time": "2023-05-08T18:23:13.972Z"
   },
   {
    "duration": 3,
    "start_time": "2023-05-08T18:23:13.996Z"
   },
   {
    "duration": 8,
    "start_time": "2023-05-08T18:23:14.001Z"
   },
   {
    "duration": 108,
    "start_time": "2023-05-08T18:23:14.011Z"
   },
   {
    "duration": 110,
    "start_time": "2023-05-08T18:23:14.121Z"
   },
   {
    "duration": 23,
    "start_time": "2023-05-08T18:23:14.233Z"
   },
   {
    "duration": 13,
    "start_time": "2023-05-08T18:23:14.259Z"
   },
   {
    "duration": 12,
    "start_time": "2023-05-08T18:23:14.286Z"
   },
   {
    "duration": 96,
    "start_time": "2023-05-08T18:23:14.299Z"
   },
   {
    "duration": 12,
    "start_time": "2023-05-08T18:23:14.397Z"
   },
   {
    "duration": 12,
    "start_time": "2023-05-08T18:23:14.410Z"
   },
   {
    "duration": 25,
    "start_time": "2023-05-08T18:23:14.424Z"
   },
   {
    "duration": 36,
    "start_time": "2023-05-08T18:23:14.451Z"
   },
   {
    "duration": 380,
    "start_time": "2023-05-08T18:23:14.489Z"
   },
   {
    "duration": 8734,
    "start_time": "2023-05-08T18:23:14.871Z"
   },
   {
    "duration": 6335,
    "start_time": "2023-05-08T18:23:23.607Z"
   },
   {
    "duration": 16,
    "start_time": "2023-05-08T18:23:29.944Z"
   },
   {
    "duration": 25,
    "start_time": "2023-05-08T18:23:29.961Z"
   },
   {
    "duration": 34,
    "start_time": "2023-05-08T18:23:29.987Z"
   },
   {
    "duration": 83,
    "start_time": "2023-05-08T18:23:30.023Z"
   },
   {
    "duration": 12,
    "start_time": "2023-05-08T18:23:30.108Z"
   },
   {
    "duration": 176,
    "start_time": "2023-05-08T18:23:30.122Z"
   },
   {
    "duration": 14,
    "start_time": "2023-05-08T18:23:30.300Z"
   },
   {
    "duration": 63,
    "start_time": "2023-05-08T18:23:30.315Z"
   },
   {
    "duration": 97,
    "start_time": "2023-05-08T18:23:30.383Z"
   },
   {
    "duration": 4,
    "start_time": "2023-05-08T18:23:30.486Z"
   },
   {
    "duration": 59,
    "start_time": "2023-05-08T18:23:30.491Z"
   },
   {
    "duration": 10,
    "start_time": "2023-05-08T18:23:30.551Z"
   },
   {
    "duration": 56,
    "start_time": "2023-05-08T18:23:30.563Z"
   },
   {
    "duration": 166,
    "start_time": "2023-05-08T18:23:30.621Z"
   },
   {
    "duration": 44,
    "start_time": "2023-05-08T18:23:30.789Z"
   },
   {
    "duration": 8,
    "start_time": "2023-05-08T18:23:30.834Z"
   },
   {
    "duration": 75,
    "start_time": "2023-05-08T18:23:30.844Z"
   },
   {
    "duration": 66,
    "start_time": "2023-05-08T18:23:30.921Z"
   },
   {
    "duration": 50,
    "start_time": "2023-05-09T07:05:31.344Z"
   },
   {
    "duration": 8,
    "start_time": "2023-05-09T07:05:54.809Z"
   },
   {
    "duration": 1423,
    "start_time": "2023-05-09T07:06:01.680Z"
   },
   {
    "duration": 545,
    "start_time": "2023-05-09T07:06:03.105Z"
   },
   {
    "duration": 23,
    "start_time": "2023-05-09T07:06:03.652Z"
   },
   {
    "duration": 13,
    "start_time": "2023-05-09T07:06:03.677Z"
   },
   {
    "duration": 31,
    "start_time": "2023-05-09T07:06:03.692Z"
   },
   {
    "duration": 42,
    "start_time": "2023-05-09T07:06:03.725Z"
   },
   {
    "duration": 86,
    "start_time": "2023-05-09T07:06:03.769Z"
   },
   {
    "duration": 93,
    "start_time": "2023-05-09T07:06:03.857Z"
   },
   {
    "duration": 21,
    "start_time": "2023-05-09T07:06:03.951Z"
   },
   {
    "duration": 291,
    "start_time": "2023-05-09T07:06:03.976Z"
   },
   {
    "duration": 50,
    "start_time": "2023-05-09T07:06:04.270Z"
   },
   {
    "duration": 172,
    "start_time": "2023-05-09T07:06:04.323Z"
   },
   {
    "duration": 13,
    "start_time": "2023-05-09T07:06:04.497Z"
   },
   {
    "duration": 45,
    "start_time": "2023-05-09T07:06:04.512Z"
   },
   {
    "duration": 43,
    "start_time": "2023-05-09T07:06:04.560Z"
   },
   {
    "duration": 50,
    "start_time": "2023-05-09T07:06:04.605Z"
   },
   {
    "duration": 450,
    "start_time": "2023-05-09T07:06:04.657Z"
   },
   {
    "duration": 10290,
    "start_time": "2023-05-09T07:06:05.109Z"
   },
   {
    "duration": 7325,
    "start_time": "2023-05-09T07:06:15.402Z"
   },
   {
    "duration": 28,
    "start_time": "2023-05-09T07:06:22.729Z"
   },
   {
    "duration": 19,
    "start_time": "2023-05-09T07:06:22.759Z"
   },
   {
    "duration": 58,
    "start_time": "2023-05-09T07:06:22.780Z"
   },
   {
    "duration": 77,
    "start_time": "2023-05-09T07:06:22.841Z"
   },
   {
    "duration": 31,
    "start_time": "2023-05-09T07:06:22.920Z"
   },
   {
    "duration": 211,
    "start_time": "2023-05-09T07:06:22.953Z"
   },
   {
    "duration": 15,
    "start_time": "2023-05-09T07:06:23.167Z"
   },
   {
    "duration": 76,
    "start_time": "2023-05-09T07:06:23.184Z"
   },
   {
    "duration": 125,
    "start_time": "2023-05-09T07:06:23.265Z"
   },
   {
    "duration": 6,
    "start_time": "2023-05-09T07:06:23.392Z"
   },
   {
    "duration": 239,
    "start_time": "2023-05-09T07:06:23.401Z"
   },
   {
    "duration": 10,
    "start_time": "2023-05-09T07:06:23.643Z"
   },
   {
    "duration": 18,
    "start_time": "2023-05-09T07:06:23.655Z"
   },
   {
    "duration": 76,
    "start_time": "2023-05-09T07:06:23.674Z"
   },
   {
    "duration": 45,
    "start_time": "2023-05-09T07:06:23.751Z"
   },
   {
    "duration": 8,
    "start_time": "2023-05-09T07:06:23.798Z"
   },
   {
    "duration": 35,
    "start_time": "2023-05-09T07:06:23.808Z"
   },
   {
    "duration": 30,
    "start_time": "2023-05-09T07:06:23.846Z"
   },
   {
    "duration": 5,
    "start_time": "2023-05-09T07:06:51.448Z"
   },
   {
    "duration": 44,
    "start_time": "2023-05-09T07:06:57.147Z"
   },
   {
    "duration": 109,
    "start_time": "2023-05-09T07:08:09.248Z"
   },
   {
    "duration": 10,
    "start_time": "2023-05-09T07:12:09.684Z"
   },
   {
    "duration": 11,
    "start_time": "2023-05-09T07:12:12.888Z"
   },
   {
    "duration": 1532,
    "start_time": "2023-05-09T07:13:17.067Z"
   },
   {
    "duration": 40,
    "start_time": "2023-05-09T07:13:30.762Z"
   },
   {
    "duration": 46,
    "start_time": "2023-05-09T07:14:21.883Z"
   },
   {
    "duration": 95,
    "start_time": "2023-05-09T07:14:29.522Z"
   },
   {
    "duration": 107,
    "start_time": "2023-05-09T07:16:00.482Z"
   },
   {
    "duration": 10,
    "start_time": "2023-05-09T07:16:05.673Z"
   },
   {
    "duration": 40,
    "start_time": "2023-05-09T07:16:17.840Z"
   },
   {
    "duration": 1076,
    "start_time": "2023-05-09T07:16:54.826Z"
   },
   {
    "duration": 103,
    "start_time": "2023-05-09T07:16:58.264Z"
   },
   {
    "duration": 12,
    "start_time": "2023-05-09T07:17:45.559Z"
   },
   {
    "duration": 10,
    "start_time": "2023-05-09T07:23:42.114Z"
   },
   {
    "duration": 4,
    "start_time": "2023-05-09T07:23:54.970Z"
   },
   {
    "duration": 866,
    "start_time": "2023-05-09T07:24:52.809Z"
   },
   {
    "duration": 76,
    "start_time": "2023-05-09T07:25:17.345Z"
   },
   {
    "duration": 11,
    "start_time": "2023-05-09T07:25:21.530Z"
   },
   {
    "duration": 11,
    "start_time": "2023-05-09T07:25:27.153Z"
   },
   {
    "duration": 928,
    "start_time": "2023-05-09T07:25:49.929Z"
   },
   {
    "duration": 1776,
    "start_time": "2023-05-09T07:26:20.153Z"
   },
   {
    "duration": 929,
    "start_time": "2023-05-09T07:27:07.744Z"
   },
   {
    "duration": 7,
    "start_time": "2023-05-09T07:27:19.360Z"
   },
   {
    "duration": 20,
    "start_time": "2023-05-09T07:27:23.119Z"
   },
   {
    "duration": 5,
    "start_time": "2023-05-09T07:28:07.958Z"
   },
   {
    "duration": 112,
    "start_time": "2023-05-09T07:28:09.942Z"
   },
   {
    "duration": 59,
    "start_time": "2023-05-09T07:37:56.064Z"
   },
   {
    "duration": 40,
    "start_time": "2023-05-09T07:38:01.287Z"
   },
   {
    "duration": 39,
    "start_time": "2023-05-09T07:38:12.422Z"
   },
   {
    "duration": 121,
    "start_time": "2023-05-09T07:39:21.391Z"
   },
   {
    "duration": 39,
    "start_time": "2023-05-09T07:39:22.869Z"
   },
   {
    "duration": 45,
    "start_time": "2023-05-09T07:39:23.822Z"
   },
   {
    "duration": 37,
    "start_time": "2023-05-09T07:39:27.270Z"
   },
   {
    "duration": 55,
    "start_time": "2023-05-09T07:39:29.830Z"
   },
   {
    "duration": 1064,
    "start_time": "2023-05-09T07:39:34.005Z"
   },
   {
    "duration": 41,
    "start_time": "2023-05-09T07:39:36.838Z"
   },
   {
    "duration": 36,
    "start_time": "2023-05-09T07:39:39.494Z"
   },
   {
    "duration": 5,
    "start_time": "2023-05-09T07:40:48.404Z"
   },
   {
    "duration": 39,
    "start_time": "2023-05-09T07:41:00.382Z"
   },
   {
    "duration": 34,
    "start_time": "2023-05-09T07:41:16.908Z"
   },
   {
    "duration": 11,
    "start_time": "2023-05-09T07:41:22.941Z"
   },
   {
    "duration": 6,
    "start_time": "2023-05-09T07:41:24.493Z"
   },
   {
    "duration": 8,
    "start_time": "2023-05-09T07:53:56.674Z"
   },
   {
    "duration": 1369,
    "start_time": "2023-05-09T07:54:02.941Z"
   },
   {
    "duration": 202,
    "start_time": "2023-05-09T07:54:04.312Z"
   },
   {
    "duration": 33,
    "start_time": "2023-05-09T07:54:04.516Z"
   },
   {
    "duration": 13,
    "start_time": "2023-05-09T07:54:04.552Z"
   },
   {
    "duration": 30,
    "start_time": "2023-05-09T07:54:04.567Z"
   },
   {
    "duration": 22,
    "start_time": "2023-05-09T07:54:04.599Z"
   },
   {
    "duration": 97,
    "start_time": "2023-05-09T07:54:04.623Z"
   },
   {
    "duration": 87,
    "start_time": "2023-05-09T07:54:04.722Z"
   },
   {
    "duration": 21,
    "start_time": "2023-05-09T07:54:04.811Z"
   },
   {
    "duration": 20,
    "start_time": "2023-05-09T07:54:04.842Z"
   },
   {
    "duration": 37,
    "start_time": "2023-05-09T07:54:04.864Z"
   },
   {
    "duration": 120,
    "start_time": "2023-05-09T07:54:04.903Z"
   },
   {
    "duration": 18,
    "start_time": "2023-05-09T07:54:05.025Z"
   },
   {
    "duration": 34,
    "start_time": "2023-05-09T07:54:05.044Z"
   },
   {
    "duration": 65,
    "start_time": "2023-05-09T07:54:05.080Z"
   },
   {
    "duration": 20,
    "start_time": "2023-05-09T07:54:05.147Z"
   },
   {
    "duration": 475,
    "start_time": "2023-05-09T07:54:05.169Z"
   },
   {
    "duration": 9746,
    "start_time": "2023-05-09T07:54:05.645Z"
   },
   {
    "duration": 6876,
    "start_time": "2023-05-09T07:54:15.393Z"
   },
   {
    "duration": 19,
    "start_time": "2023-05-09T07:54:22.271Z"
   },
   {
    "duration": 10,
    "start_time": "2023-05-09T07:54:22.293Z"
   },
   {
    "duration": 64,
    "start_time": "2023-05-09T07:54:22.305Z"
   },
   {
    "duration": 82,
    "start_time": "2023-05-09T07:54:22.371Z"
   },
   {
    "duration": 15,
    "start_time": "2023-05-09T07:54:22.455Z"
   },
   {
    "duration": 213,
    "start_time": "2023-05-09T07:54:22.471Z"
   },
   {
    "duration": 15,
    "start_time": "2023-05-09T07:54:22.686Z"
   },
   {
    "duration": 51,
    "start_time": "2023-05-09T07:54:22.702Z"
   },
   {
    "duration": 115,
    "start_time": "2023-05-09T07:54:22.756Z"
   },
   {
    "duration": 9,
    "start_time": "2023-05-09T07:54:22.873Z"
   },
   {
    "duration": 115,
    "start_time": "2023-05-09T07:54:22.884Z"
   },
   {
    "duration": 5,
    "start_time": "2023-05-09T07:54:23.000Z"
   },
   {
    "duration": 58,
    "start_time": "2023-05-09T07:54:23.007Z"
   },
   {
    "duration": 8,
    "start_time": "2023-05-09T07:54:23.068Z"
   },
   {
    "duration": 29,
    "start_time": "2023-05-09T07:54:23.079Z"
   },
   {
    "duration": 119,
    "start_time": "2023-05-09T07:54:23.110Z"
   },
   {
    "duration": 49,
    "start_time": "2023-05-09T07:54:23.231Z"
   },
   {
    "duration": 10,
    "start_time": "2023-05-09T07:54:23.282Z"
   },
   {
    "duration": 39,
    "start_time": "2023-05-09T07:54:23.294Z"
   },
   {
    "duration": 42,
    "start_time": "2023-05-09T07:54:23.335Z"
   },
   {
    "duration": 67,
    "start_time": "2023-05-09T08:05:41.592Z"
   },
   {
    "duration": 80,
    "start_time": "2023-05-09T08:07:25.951Z"
   },
   {
    "duration": 59,
    "start_time": "2023-05-09T08:08:07.399Z"
   },
   {
    "duration": 81,
    "start_time": "2023-05-09T08:08:51.918Z"
   },
   {
    "duration": 6,
    "start_time": "2023-05-09T08:09:12.732Z"
   },
   {
    "duration": 65,
    "start_time": "2023-05-09T08:11:04.396Z"
   },
   {
    "duration": 6,
    "start_time": "2023-05-09T08:11:19.083Z"
   },
   {
    "duration": 6,
    "start_time": "2023-05-09T08:11:41.972Z"
   },
   {
    "duration": 7,
    "start_time": "2023-05-09T08:12:00.955Z"
   },
   {
    "duration": 101,
    "start_time": "2023-05-09T08:12:40.410Z"
   },
   {
    "duration": 6,
    "start_time": "2023-05-09T08:13:08.354Z"
   },
   {
    "duration": 82,
    "start_time": "2023-05-09T08:13:23.290Z"
   },
   {
    "duration": 335,
    "start_time": "2023-05-09T08:13:32.170Z"
   },
   {
    "duration": 132,
    "start_time": "2023-05-09T08:13:39.914Z"
   },
   {
    "duration": 5,
    "start_time": "2023-05-09T08:13:42.075Z"
   },
   {
    "duration": 54,
    "start_time": "2023-05-09T08:14:23.665Z"
   },
   {
    "duration": 264,
    "start_time": "2023-05-09T08:14:30.097Z"
   },
   {
    "duration": 113,
    "start_time": "2023-05-09T08:14:40.466Z"
   },
   {
    "duration": 1182,
    "start_time": "2023-05-09T08:14:51.679Z"
   },
   {
    "duration": 188,
    "start_time": "2023-05-09T08:14:52.863Z"
   },
   {
    "duration": 20,
    "start_time": "2023-05-09T08:14:53.052Z"
   },
   {
    "duration": 11,
    "start_time": "2023-05-09T08:14:53.074Z"
   },
   {
    "duration": 7,
    "start_time": "2023-05-09T08:14:53.086Z"
   },
   {
    "duration": 13,
    "start_time": "2023-05-09T08:14:53.095Z"
   },
   {
    "duration": 83,
    "start_time": "2023-05-09T08:14:53.110Z"
   },
   {
    "duration": 95,
    "start_time": "2023-05-09T08:14:53.196Z"
   },
   {
    "duration": 20,
    "start_time": "2023-05-09T08:14:53.292Z"
   },
   {
    "duration": 28,
    "start_time": "2023-05-09T08:14:53.315Z"
   },
   {
    "duration": 23,
    "start_time": "2023-05-09T08:14:53.345Z"
   },
   {
    "duration": 105,
    "start_time": "2023-05-09T08:14:53.370Z"
   },
   {
    "duration": 10,
    "start_time": "2023-05-09T08:14:53.477Z"
   },
   {
    "duration": 21,
    "start_time": "2023-05-09T08:14:53.489Z"
   },
   {
    "duration": 31,
    "start_time": "2023-05-09T08:14:53.512Z"
   },
   {
    "duration": 7,
    "start_time": "2023-05-09T08:14:53.545Z"
   },
   {
    "duration": 395,
    "start_time": "2023-05-09T08:14:53.554Z"
   },
   {
    "duration": 8864,
    "start_time": "2023-05-09T08:14:53.951Z"
   },
   {
    "duration": 6494,
    "start_time": "2023-05-09T08:15:02.817Z"
   },
   {
    "duration": 31,
    "start_time": "2023-05-09T08:15:09.313Z"
   },
   {
    "duration": 5,
    "start_time": "2023-05-09T08:15:09.346Z"
   },
   {
    "duration": 34,
    "start_time": "2023-05-09T08:15:09.353Z"
   },
   {
    "duration": 93,
    "start_time": "2023-05-09T08:15:09.388Z"
   },
   {
    "duration": 15,
    "start_time": "2023-05-09T08:15:09.483Z"
   },
   {
    "duration": 192,
    "start_time": "2023-05-09T08:15:09.500Z"
   },
   {
    "duration": 14,
    "start_time": "2023-05-09T08:15:09.694Z"
   },
   {
    "duration": 71,
    "start_time": "2023-05-09T08:15:09.710Z"
   },
   {
    "duration": 107,
    "start_time": "2023-05-09T08:15:09.785Z"
   },
   {
    "duration": 374,
    "start_time": "2023-05-09T08:15:09.894Z"
   },
   {
    "duration": 0,
    "start_time": "2023-05-09T08:15:10.271Z"
   },
   {
    "duration": 0,
    "start_time": "2023-05-09T08:15:10.273Z"
   },
   {
    "duration": 0,
    "start_time": "2023-05-09T08:15:10.274Z"
   },
   {
    "duration": 0,
    "start_time": "2023-05-09T08:15:10.276Z"
   },
   {
    "duration": 0,
    "start_time": "2023-05-09T08:15:10.278Z"
   },
   {
    "duration": 0,
    "start_time": "2023-05-09T08:15:10.279Z"
   },
   {
    "duration": 0,
    "start_time": "2023-05-09T08:15:10.281Z"
   },
   {
    "duration": 0,
    "start_time": "2023-05-09T08:15:10.282Z"
   },
   {
    "duration": 0,
    "start_time": "2023-05-09T08:15:10.284Z"
   },
   {
    "duration": 0,
    "start_time": "2023-05-09T08:15:10.285Z"
   },
   {
    "duration": 0,
    "start_time": "2023-05-09T08:15:10.287Z"
   },
   {
    "duration": 1,
    "start_time": "2023-05-09T08:15:10.288Z"
   },
   {
    "duration": 7,
    "start_time": "2023-05-09T08:15:58.152Z"
   },
   {
    "duration": 6,
    "start_time": "2023-05-09T08:16:18.679Z"
   },
   {
    "duration": 107,
    "start_time": "2023-05-09T08:16:19.414Z"
   },
   {
    "duration": 7,
    "start_time": "2023-05-09T08:16:54.943Z"
   },
   {
    "duration": 16,
    "start_time": "2023-05-09T08:16:56.303Z"
   },
   {
    "duration": 17,
    "start_time": "2023-05-09T08:48:31.239Z"
   },
   {
    "duration": 7,
    "start_time": "2023-05-09T08:48:43.652Z"
   },
   {
    "duration": 14,
    "start_time": "2023-05-09T08:48:45.212Z"
   },
   {
    "duration": 92,
    "start_time": "2023-05-09T08:48:59.763Z"
   },
   {
    "duration": 5,
    "start_time": "2023-05-09T08:49:00.897Z"
   },
   {
    "duration": 44,
    "start_time": "2023-05-09T08:49:02.244Z"
   },
   {
    "duration": 9,
    "start_time": "2023-05-09T08:49:03.116Z"
   },
   {
    "duration": 22,
    "start_time": "2023-05-09T08:49:04.556Z"
   },
   {
    "duration": 6,
    "start_time": "2023-05-09T08:49:30.261Z"
   },
   {
    "duration": 6,
    "start_time": "2023-05-09T08:50:28.681Z"
   },
   {
    "duration": 14,
    "start_time": "2023-05-09T08:50:30.154Z"
   },
   {
    "duration": 13,
    "start_time": "2023-05-09T08:52:21.635Z"
   },
   {
    "duration": 9,
    "start_time": "2023-05-09T08:54:19.808Z"
   },
   {
    "duration": 9,
    "start_time": "2023-05-09T08:54:20.608Z"
   },
   {
    "duration": 22,
    "start_time": "2023-05-09T08:54:21.327Z"
   },
   {
    "duration": 8,
    "start_time": "2023-05-09T08:55:49.430Z"
   },
   {
    "duration": 841,
    "start_time": "2023-05-09T08:55:51.502Z"
   },
   {
    "duration": 17,
    "start_time": "2023-05-09T08:56:04.633Z"
   },
   {
    "duration": 8,
    "start_time": "2023-05-09T08:56:05.726Z"
   },
   {
    "duration": 14,
    "start_time": "2023-05-09T08:56:06.477Z"
   },
   {
    "duration": 760,
    "start_time": "2023-05-09T08:56:35.375Z"
   },
   {
    "duration": 6,
    "start_time": "2023-05-09T09:01:50.785Z"
   },
   {
    "duration": 10,
    "start_time": "2023-05-09T09:01:55.162Z"
   },
   {
    "duration": 11,
    "start_time": "2023-05-09T09:02:48.359Z"
   },
   {
    "duration": 9,
    "start_time": "2023-05-09T09:02:59.275Z"
   },
   {
    "duration": 55,
    "start_time": "2023-05-09T09:03:04.312Z"
   },
   {
    "duration": 14,
    "start_time": "2023-05-09T09:03:16.864Z"
   },
   {
    "duration": 28,
    "start_time": "2023-05-09T09:03:19.528Z"
   },
   {
    "duration": 18,
    "start_time": "2023-05-09T09:03:20.150Z"
   },
   {
    "duration": 9,
    "start_time": "2023-05-09T09:03:30.288Z"
   },
   {
    "duration": 8,
    "start_time": "2023-05-09T09:03:37.409Z"
   },
   {
    "duration": 13,
    "start_time": "2023-05-09T09:03:55.080Z"
   },
   {
    "duration": 12,
    "start_time": "2023-05-09T09:03:59.776Z"
   },
   {
    "duration": 13,
    "start_time": "2023-05-09T09:04:02.496Z"
   },
   {
    "duration": 33,
    "start_time": "2023-05-09T09:04:14.839Z"
   },
   {
    "duration": 17,
    "start_time": "2023-05-09T09:04:27.961Z"
   },
   {
    "duration": 19,
    "start_time": "2023-05-09T09:05:57.135Z"
   },
   {
    "duration": 34,
    "start_time": "2023-05-09T09:06:09.359Z"
   },
   {
    "duration": 39,
    "start_time": "2023-05-09T09:06:20.310Z"
   },
   {
    "duration": 39,
    "start_time": "2023-05-09T09:06:23.134Z"
   },
   {
    "duration": 49,
    "start_time": "2023-05-09T09:06:44.390Z"
   },
   {
    "duration": 5,
    "start_time": "2023-05-09T09:06:53.252Z"
   },
   {
    "duration": 81,
    "start_time": "2023-05-09T09:07:25.933Z"
   },
   {
    "duration": 83,
    "start_time": "2023-05-09T09:07:30.700Z"
   },
   {
    "duration": 86,
    "start_time": "2023-05-09T09:07:39.005Z"
   },
   {
    "duration": 76,
    "start_time": "2023-05-09T09:08:01.253Z"
   },
   {
    "duration": 31,
    "start_time": "2023-05-09T09:08:09.198Z"
   },
   {
    "duration": 4,
    "start_time": "2023-05-09T09:08:29.941Z"
   },
   {
    "duration": 28,
    "start_time": "2023-05-09T09:08:35.542Z"
   },
   {
    "duration": 14,
    "start_time": "2023-05-09T09:21:10.204Z"
   },
   {
    "duration": 664,
    "start_time": "2023-05-09T09:21:22.179Z"
   },
   {
    "duration": 31,
    "start_time": "2023-05-09T09:22:37.915Z"
   },
   {
    "duration": 7,
    "start_time": "2023-05-09T09:24:06.553Z"
   },
   {
    "duration": 5,
    "start_time": "2023-05-09T09:32:06.201Z"
   },
   {
    "duration": 14,
    "start_time": "2023-05-09T09:32:13.354Z"
   },
   {
    "duration": 13,
    "start_time": "2023-05-09T09:38:04.352Z"
   },
   {
    "duration": 49,
    "start_time": "2023-05-09T09:46:21.846Z"
   },
   {
    "duration": 6,
    "start_time": "2023-05-09T09:46:23.388Z"
   },
   {
    "duration": 12,
    "start_time": "2023-05-09T09:46:24.797Z"
   },
   {
    "duration": 6,
    "start_time": "2023-05-09T09:46:33.124Z"
   },
   {
    "duration": 13,
    "start_time": "2023-05-09T09:46:34.660Z"
   },
   {
    "duration": 6,
    "start_time": "2023-05-09T09:46:43.293Z"
   },
   {
    "duration": 751,
    "start_time": "2023-05-09T09:46:45.205Z"
   },
   {
    "duration": 16,
    "start_time": "2023-05-09T09:47:05.276Z"
   },
   {
    "duration": 539,
    "start_time": "2023-05-09T09:47:57.011Z"
   },
   {
    "duration": 10,
    "start_time": "2023-05-09T09:49:22.980Z"
   },
   {
    "duration": 19,
    "start_time": "2023-05-09T09:49:43.201Z"
   },
   {
    "duration": 10,
    "start_time": "2023-05-09T09:49:45.362Z"
   },
   {
    "duration": 32,
    "start_time": "2023-05-09T09:55:10.703Z"
   },
   {
    "duration": 63,
    "start_time": "2023-05-09T09:55:16.293Z"
   },
   {
    "duration": 47,
    "start_time": "2023-05-09T09:55:49.807Z"
   },
   {
    "duration": 44,
    "start_time": "2023-05-09T09:55:50.685Z"
   },
   {
    "duration": 982,
    "start_time": "2023-05-09T09:55:58.053Z"
   },
   {
    "duration": 656,
    "start_time": "2023-05-09T09:56:03.116Z"
   },
   {
    "duration": 12,
    "start_time": "2023-05-09T09:56:06.716Z"
   },
   {
    "duration": 10,
    "start_time": "2023-05-09T09:56:56.034Z"
   },
   {
    "duration": 6,
    "start_time": "2023-05-09T09:58:28.954Z"
   },
   {
    "duration": 62,
    "start_time": "2023-05-09T09:58:32.856Z"
   },
   {
    "duration": 51,
    "start_time": "2023-05-09T09:58:34.282Z"
   },
   {
    "duration": 14,
    "start_time": "2023-05-09T09:58:35.855Z"
   },
   {
    "duration": 9,
    "start_time": "2023-05-09T09:58:39.405Z"
   },
   {
    "duration": 35,
    "start_time": "2023-05-09T10:03:13.966Z"
   },
   {
    "duration": 38,
    "start_time": "2023-05-09T10:03:43.245Z"
   },
   {
    "duration": 44,
    "start_time": "2023-05-09T10:03:58.421Z"
   },
   {
    "duration": 51,
    "start_time": "2023-05-09T10:04:31.837Z"
   },
   {
    "duration": 51,
    "start_time": "2023-05-09T10:04:39.445Z"
   },
   {
    "duration": 66,
    "start_time": "2023-05-13T14:22:08.982Z"
   },
   {
    "duration": 1417,
    "start_time": "2023-05-13T14:22:14.415Z"
   },
   {
    "duration": 743,
    "start_time": "2023-05-13T14:22:15.835Z"
   },
   {
    "duration": 27,
    "start_time": "2023-05-13T14:22:16.580Z"
   },
   {
    "duration": 37,
    "start_time": "2023-05-13T14:22:16.613Z"
   },
   {
    "duration": 4,
    "start_time": "2023-05-13T14:22:16.651Z"
   },
   {
    "duration": 16,
    "start_time": "2023-05-13T14:22:16.657Z"
   },
   {
    "duration": 80,
    "start_time": "2023-05-13T14:22:16.674Z"
   },
   {
    "duration": 86,
    "start_time": "2023-05-13T14:22:16.757Z"
   },
   {
    "duration": 24,
    "start_time": "2023-05-13T14:22:16.845Z"
   },
   {
    "duration": 38,
    "start_time": "2023-05-13T14:22:16.872Z"
   },
   {
    "duration": 52,
    "start_time": "2023-05-13T14:22:16.911Z"
   },
   {
    "duration": 120,
    "start_time": "2023-05-13T14:22:16.964Z"
   },
   {
    "duration": 19,
    "start_time": "2023-05-13T14:22:17.085Z"
   },
   {
    "duration": 36,
    "start_time": "2023-05-13T14:22:17.106Z"
   },
   {
    "duration": 26,
    "start_time": "2023-05-13T14:22:17.144Z"
   },
   {
    "duration": 5,
    "start_time": "2023-05-13T14:22:17.172Z"
   },
   {
    "duration": 440,
    "start_time": "2023-05-13T14:22:17.179Z"
   },
   {
    "duration": 9355,
    "start_time": "2023-05-13T14:22:17.621Z"
   },
   {
    "duration": 6592,
    "start_time": "2023-05-13T14:22:26.978Z"
   },
   {
    "duration": 42,
    "start_time": "2023-05-13T14:22:33.571Z"
   },
   {
    "duration": 21,
    "start_time": "2023-05-13T14:22:33.616Z"
   },
   {
    "duration": 36,
    "start_time": "2023-05-13T14:22:33.639Z"
   },
   {
    "duration": 76,
    "start_time": "2023-05-13T14:22:33.676Z"
   },
   {
    "duration": 13,
    "start_time": "2023-05-13T14:22:33.753Z"
   },
   {
    "duration": 194,
    "start_time": "2023-05-13T14:22:33.767Z"
   },
   {
    "duration": 12,
    "start_time": "2023-05-13T14:22:33.963Z"
   },
   {
    "duration": 69,
    "start_time": "2023-05-13T14:22:33.977Z"
   },
   {
    "duration": 107,
    "start_time": "2023-05-13T14:22:34.049Z"
   },
   {
    "duration": 96,
    "start_time": "2023-05-13T14:22:34.157Z"
   },
   {
    "duration": 4,
    "start_time": "2023-05-13T14:22:34.254Z"
   },
   {
    "duration": 68,
    "start_time": "2023-05-13T14:22:34.260Z"
   },
   {
    "duration": 7,
    "start_time": "2023-05-13T14:22:34.331Z"
   },
   {
    "duration": 17,
    "start_time": "2023-05-13T14:22:34.340Z"
   },
   {
    "duration": 6,
    "start_time": "2023-05-13T14:22:34.358Z"
   },
   {
    "duration": 78,
    "start_time": "2023-05-13T14:22:34.365Z"
   },
   {
    "duration": 0,
    "start_time": "2023-05-13T14:22:34.445Z"
   },
   {
    "duration": 0,
    "start_time": "2023-05-13T14:22:34.447Z"
   },
   {
    "duration": 0,
    "start_time": "2023-05-13T14:22:34.448Z"
   },
   {
    "duration": 0,
    "start_time": "2023-05-13T14:22:34.450Z"
   },
   {
    "duration": 0,
    "start_time": "2023-05-13T14:22:34.451Z"
   },
   {
    "duration": 75,
    "start_time": "2023-05-13T14:22:50.651Z"
   },
   {
    "duration": 53,
    "start_time": "2023-05-13T14:23:20.355Z"
   },
   {
    "duration": 7,
    "start_time": "2023-05-13T14:23:23.259Z"
   },
   {
    "duration": 49,
    "start_time": "2023-05-13T14:23:24.526Z"
   },
   {
    "duration": 46,
    "start_time": "2023-05-13T14:23:39.347Z"
   },
   {
    "duration": 62,
    "start_time": "2023-05-13T14:23:41.400Z"
   },
   {
    "duration": 9,
    "start_time": "2023-05-13T14:23:43.147Z"
   },
   {
    "duration": 11,
    "start_time": "2023-05-13T14:23:44.940Z"
   },
   {
    "duration": 8,
    "start_time": "2023-05-13T14:23:46.075Z"
   },
   {
    "duration": 45,
    "start_time": "2023-05-13T14:23:48.138Z"
   },
   {
    "duration": 6,
    "start_time": "2023-05-13T14:34:10.860Z"
   },
   {
    "duration": 7,
    "start_time": "2023-05-13T14:34:56.327Z"
   },
   {
    "duration": 6,
    "start_time": "2023-05-13T14:35:10.163Z"
   },
   {
    "duration": 5,
    "start_time": "2023-05-13T14:35:11.747Z"
   },
   {
    "duration": 5,
    "start_time": "2023-05-13T14:35:35.763Z"
   },
   {
    "duration": 5,
    "start_time": "2023-05-13T14:35:46.948Z"
   },
   {
    "duration": 5,
    "start_time": "2023-05-13T14:38:19.777Z"
   },
   {
    "duration": 15,
    "start_time": "2023-05-13T14:38:36.604Z"
   },
   {
    "duration": 8,
    "start_time": "2023-05-13T14:39:41.423Z"
   },
   {
    "duration": 1149,
    "start_time": "2023-05-13T14:56:19.947Z"
   },
   {
    "duration": 99,
    "start_time": "2023-05-13T14:56:31.375Z"
   },
   {
    "duration": 73,
    "start_time": "2023-05-13T14:57:24.542Z"
   },
   {
    "duration": 75,
    "start_time": "2023-05-13T14:57:32.173Z"
   },
   {
    "duration": 1501,
    "start_time": "2023-05-13T14:57:39.255Z"
   },
   {
    "duration": 334,
    "start_time": "2023-05-13T14:57:40.758Z"
   },
   {
    "duration": 33,
    "start_time": "2023-05-13T14:57:41.098Z"
   },
   {
    "duration": 11,
    "start_time": "2023-05-13T14:57:41.133Z"
   },
   {
    "duration": 3,
    "start_time": "2023-05-13T14:57:41.146Z"
   },
   {
    "duration": 9,
    "start_time": "2023-05-13T14:57:41.151Z"
   },
   {
    "duration": 110,
    "start_time": "2023-05-13T14:57:41.161Z"
   },
   {
    "duration": 104,
    "start_time": "2023-05-13T14:57:41.273Z"
   },
   {
    "duration": 43,
    "start_time": "2023-05-13T14:57:41.379Z"
   },
   {
    "duration": 30,
    "start_time": "2023-05-13T14:57:41.430Z"
   },
   {
    "duration": 19,
    "start_time": "2023-05-13T14:57:41.462Z"
   },
   {
    "duration": 152,
    "start_time": "2023-05-13T14:57:41.483Z"
   },
   {
    "duration": 13,
    "start_time": "2023-05-13T14:57:41.636Z"
   },
   {
    "duration": 16,
    "start_time": "2023-05-13T14:57:41.650Z"
   },
   {
    "duration": 44,
    "start_time": "2023-05-13T14:57:41.668Z"
   },
   {
    "duration": 25,
    "start_time": "2023-05-13T14:57:41.714Z"
   },
   {
    "duration": 466,
    "start_time": "2023-05-13T14:57:41.746Z"
   },
   {
    "duration": 9710,
    "start_time": "2023-05-13T14:57:42.219Z"
   },
   {
    "duration": 6777,
    "start_time": "2023-05-13T14:57:51.931Z"
   },
   {
    "duration": 25,
    "start_time": "2023-05-13T14:57:58.713Z"
   },
   {
    "duration": 8,
    "start_time": "2023-05-13T14:57:58.740Z"
   },
   {
    "duration": 58,
    "start_time": "2023-05-13T14:57:58.750Z"
   },
   {
    "duration": 73,
    "start_time": "2023-05-13T14:57:58.810Z"
   },
   {
    "duration": 30,
    "start_time": "2023-05-13T14:57:58.885Z"
   },
   {
    "duration": 172,
    "start_time": "2023-05-13T14:57:58.922Z"
   },
   {
    "duration": 24,
    "start_time": "2023-05-13T14:57:59.104Z"
   },
   {
    "duration": 54,
    "start_time": "2023-05-13T14:57:59.130Z"
   },
   {
    "duration": 118,
    "start_time": "2023-05-13T14:57:59.188Z"
   },
   {
    "duration": 8,
    "start_time": "2023-05-13T14:57:59.313Z"
   },
   {
    "duration": 56,
    "start_time": "2023-05-13T14:57:59.323Z"
   },
   {
    "duration": 6,
    "start_time": "2023-05-13T14:57:59.381Z"
   },
   {
    "duration": 39,
    "start_time": "2023-05-13T14:57:59.389Z"
   },
   {
    "duration": 7,
    "start_time": "2023-05-13T14:57:59.430Z"
   },
   {
    "duration": 43,
    "start_time": "2023-05-13T14:57:59.438Z"
   },
   {
    "duration": 53,
    "start_time": "2023-05-13T14:57:59.482Z"
   },
   {
    "duration": 5,
    "start_time": "2023-05-13T14:57:59.538Z"
   },
   {
    "duration": 10,
    "start_time": "2023-05-13T14:57:59.544Z"
   },
   {
    "duration": 9,
    "start_time": "2023-05-13T14:57:59.556Z"
   },
   {
    "duration": 7,
    "start_time": "2023-05-13T14:57:59.566Z"
   },
   {
    "duration": 9,
    "start_time": "2023-05-13T14:57:59.575Z"
   },
   {
    "duration": 53,
    "start_time": "2023-05-13T14:57:59.595Z"
   },
   {
    "duration": 5,
    "start_time": "2023-05-13T14:57:59.649Z"
   },
   {
    "duration": 4,
    "start_time": "2023-05-13T15:03:25.565Z"
   },
   {
    "duration": 1123,
    "start_time": "2023-05-13T15:03:42.357Z"
   },
   {
    "duration": 28,
    "start_time": "2023-05-13T15:04:08.114Z"
   },
   {
    "duration": 1122,
    "start_time": "2023-05-13T15:04:11.894Z"
   },
   {
    "duration": 1615,
    "start_time": "2023-05-14T08:59:25.402Z"
   },
   {
    "duration": 1265,
    "start_time": "2023-05-14T08:59:27.020Z"
   },
   {
    "duration": 36,
    "start_time": "2023-05-14T08:59:28.287Z"
   },
   {
    "duration": 14,
    "start_time": "2023-05-14T08:59:28.325Z"
   },
   {
    "duration": 10,
    "start_time": "2023-05-14T08:59:28.342Z"
   },
   {
    "duration": 16,
    "start_time": "2023-05-14T08:59:28.354Z"
   },
   {
    "duration": 119,
    "start_time": "2023-05-14T08:59:28.371Z"
   },
   {
    "duration": 110,
    "start_time": "2023-05-14T08:59:28.496Z"
   },
   {
    "duration": 38,
    "start_time": "2023-05-14T08:59:28.613Z"
   },
   {
    "duration": 37,
    "start_time": "2023-05-14T08:59:28.658Z"
   },
   {
    "duration": 33,
    "start_time": "2023-05-14T08:59:28.701Z"
   },
   {
    "duration": 144,
    "start_time": "2023-05-14T08:59:28.740Z"
   },
   {
    "duration": 23,
    "start_time": "2023-05-14T08:59:28.890Z"
   },
   {
    "duration": 18,
    "start_time": "2023-05-14T08:59:28.921Z"
   },
   {
    "duration": 41,
    "start_time": "2023-05-14T08:59:28.945Z"
   },
   {
    "duration": 11,
    "start_time": "2023-05-14T08:59:28.992Z"
   },
   {
    "duration": 565,
    "start_time": "2023-05-14T08:59:29.009Z"
   },
   {
    "duration": 14271,
    "start_time": "2023-05-14T08:59:29.581Z"
   },
   {
    "duration": 10290,
    "start_time": "2023-05-14T08:59:43.854Z"
   },
   {
    "duration": 58,
    "start_time": "2023-05-14T08:59:54.159Z"
   },
   {
    "duration": 25,
    "start_time": "2023-05-14T08:59:54.219Z"
   },
   {
    "duration": 103,
    "start_time": "2023-05-14T08:59:54.246Z"
   },
   {
    "duration": 151,
    "start_time": "2023-05-14T08:59:54.357Z"
   },
   {
    "duration": 19,
    "start_time": "2023-05-14T08:59:54.514Z"
   },
   {
    "duration": 275,
    "start_time": "2023-05-14T08:59:54.539Z"
   },
   {
    "duration": 27,
    "start_time": "2023-05-14T08:59:54.819Z"
   },
   {
    "duration": 63,
    "start_time": "2023-05-14T08:59:54.852Z"
   },
   {
    "duration": 202,
    "start_time": "2023-05-14T08:59:54.921Z"
   },
   {
    "duration": 14,
    "start_time": "2023-05-14T08:59:55.129Z"
   },
   {
    "duration": 82,
    "start_time": "2023-05-14T08:59:55.149Z"
   },
   {
    "duration": 10,
    "start_time": "2023-05-14T08:59:55.239Z"
   },
   {
    "duration": 21,
    "start_time": "2023-05-14T08:59:55.258Z"
   },
   {
    "duration": 19,
    "start_time": "2023-05-14T08:59:55.287Z"
   },
   {
    "duration": 86,
    "start_time": "2023-05-14T08:59:55.312Z"
   },
   {
    "duration": 78,
    "start_time": "2023-05-14T08:59:55.403Z"
   },
   {
    "duration": 14,
    "start_time": "2023-05-14T08:59:55.487Z"
   },
   {
    "duration": 22,
    "start_time": "2023-05-14T08:59:55.508Z"
   },
   {
    "duration": 22,
    "start_time": "2023-05-14T08:59:55.540Z"
   },
   {
    "duration": 30,
    "start_time": "2023-05-14T08:59:55.572Z"
   },
   {
    "duration": 24,
    "start_time": "2023-05-14T08:59:55.614Z"
   },
   {
    "duration": 153,
    "start_time": "2023-05-14T08:59:55.654Z"
   },
   {
    "duration": 23,
    "start_time": "2023-05-14T08:59:55.826Z"
   },
   {
    "duration": 36,
    "start_time": "2023-05-14T08:59:55.858Z"
   },
   {
    "duration": 1423,
    "start_time": "2023-05-14T09:04:00.923Z"
   },
   {
    "duration": 145,
    "start_time": "2023-05-14T09:04:18.199Z"
   },
   {
    "duration": 1950,
    "start_time": "2023-05-14T09:04:33.033Z"
   },
   {
    "duration": 23,
    "start_time": "2023-05-14T09:04:36.899Z"
   },
   {
    "duration": 155,
    "start_time": "2023-05-14T09:04:53.806Z"
   },
   {
    "duration": 1829,
    "start_time": "2023-05-14T09:04:58.110Z"
   },
   {
    "duration": 144,
    "start_time": "2023-05-14T09:05:51.257Z"
   },
   {
    "duration": 26,
    "start_time": "2023-05-14T09:06:53.025Z"
   },
   {
    "duration": 13,
    "start_time": "2023-05-14T09:18:35.694Z"
   },
   {
    "duration": 99,
    "start_time": "2023-05-14T09:23:14.250Z"
   },
   {
    "duration": 1499,
    "start_time": "2023-05-14T09:23:17.219Z"
   },
   {
    "duration": 1049,
    "start_time": "2023-05-14T09:34:42.553Z"
   },
   {
    "duration": 14,
    "start_time": "2023-05-14T09:34:49.788Z"
   },
   {
    "duration": 1212,
    "start_time": "2023-05-14T09:34:52.899Z"
   },
   {
    "duration": 4,
    "start_time": "2023-05-14T09:34:57.347Z"
   },
   {
    "duration": 24,
    "start_time": "2023-05-14T09:35:07.219Z"
   },
   {
    "duration": 1559,
    "start_time": "2023-05-14T09:35:30.403Z"
   },
   {
    "duration": 110,
    "start_time": "2023-05-14T09:36:27.518Z"
   },
   {
    "duration": 1496,
    "start_time": "2023-05-14T09:36:31.319Z"
   },
   {
    "duration": 59,
    "start_time": "2023-05-14T09:41:11.910Z"
   },
   {
    "duration": 84,
    "start_time": "2023-05-14T09:41:21.837Z"
   },
   {
    "duration": 188,
    "start_time": "2023-05-14T09:41:44.390Z"
   },
   {
    "duration": 130,
    "start_time": "2023-05-14T09:42:45.452Z"
   },
   {
    "duration": 128,
    "start_time": "2023-05-14T09:46:40.801Z"
   },
   {
    "duration": 13,
    "start_time": "2023-05-14T09:48:26.654Z"
   },
   {
    "duration": 6,
    "start_time": "2023-05-14T09:48:27.629Z"
   },
   {
    "duration": 5,
    "start_time": "2023-05-14T09:48:29.399Z"
   },
   {
    "duration": 1244,
    "start_time": "2023-05-14T09:48:36.202Z"
   },
   {
    "duration": 7,
    "start_time": "2023-05-14T09:48:37.725Z"
   },
   {
    "duration": 5,
    "start_time": "2023-05-14T09:48:38.706Z"
   },
   {
    "duration": 1478,
    "start_time": "2023-05-14T09:51:31.916Z"
   },
   {
    "duration": 329,
    "start_time": "2023-05-14T09:51:33.399Z"
   },
   {
    "duration": 38,
    "start_time": "2023-05-14T09:51:33.731Z"
   },
   {
    "duration": 27,
    "start_time": "2023-05-14T09:51:33.772Z"
   },
   {
    "duration": 5,
    "start_time": "2023-05-14T09:51:33.806Z"
   },
   {
    "duration": 17,
    "start_time": "2023-05-14T09:51:33.813Z"
   },
   {
    "duration": 98,
    "start_time": "2023-05-14T09:51:33.835Z"
   },
   {
    "duration": 110,
    "start_time": "2023-05-14T09:51:33.937Z"
   },
   {
    "duration": 33,
    "start_time": "2023-05-14T09:51:34.050Z"
   },
   {
    "duration": 22,
    "start_time": "2023-05-14T09:51:34.086Z"
   },
   {
    "duration": 19,
    "start_time": "2023-05-14T09:51:34.110Z"
   },
   {
    "duration": 177,
    "start_time": "2023-05-14T09:51:34.131Z"
   },
   {
    "duration": 19,
    "start_time": "2023-05-14T09:51:34.315Z"
   },
   {
    "duration": 13,
    "start_time": "2023-05-14T09:51:34.336Z"
   },
   {
    "duration": 34,
    "start_time": "2023-05-14T09:51:34.352Z"
   },
   {
    "duration": 8,
    "start_time": "2023-05-14T09:51:34.388Z"
   },
   {
    "duration": 546,
    "start_time": "2023-05-14T09:51:34.399Z"
   },
   {
    "duration": 11455,
    "start_time": "2023-05-14T09:51:34.948Z"
   },
   {
    "duration": 8644,
    "start_time": "2023-05-14T09:51:46.405Z"
   },
   {
    "duration": 20,
    "start_time": "2023-05-14T09:51:55.051Z"
   },
   {
    "duration": 27,
    "start_time": "2023-05-14T09:51:55.073Z"
   },
   {
    "duration": 62,
    "start_time": "2023-05-14T09:51:55.103Z"
   },
   {
    "duration": 104,
    "start_time": "2023-05-14T09:51:55.171Z"
   },
   {
    "duration": 21,
    "start_time": "2023-05-14T09:51:55.280Z"
   },
   {
    "duration": 227,
    "start_time": "2023-05-14T09:51:55.306Z"
   },
   {
    "duration": 26,
    "start_time": "2023-05-14T09:51:55.538Z"
   },
   {
    "duration": 64,
    "start_time": "2023-05-14T09:51:55.566Z"
   },
   {
    "duration": 129,
    "start_time": "2023-05-14T09:51:55.634Z"
   },
   {
    "duration": 7,
    "start_time": "2023-05-14T09:51:55.765Z"
   },
   {
    "duration": 76,
    "start_time": "2023-05-14T09:51:55.774Z"
   },
   {
    "duration": 4,
    "start_time": "2023-05-14T09:51:55.851Z"
   },
   {
    "duration": 75,
    "start_time": "2023-05-14T09:51:55.863Z"
   },
   {
    "duration": 52,
    "start_time": "2023-05-14T09:51:55.944Z"
   },
   {
    "duration": 141,
    "start_time": "2023-05-14T09:51:55.998Z"
   },
   {
    "duration": 6,
    "start_time": "2023-05-14T09:51:56.141Z"
   },
   {
    "duration": 9,
    "start_time": "2023-05-14T09:51:56.149Z"
   },
   {
    "duration": 21,
    "start_time": "2023-05-14T09:51:56.162Z"
   },
   {
    "duration": 5,
    "start_time": "2023-05-14T09:51:56.185Z"
   },
   {
    "duration": 18,
    "start_time": "2023-05-14T09:51:56.191Z"
   },
   {
    "duration": 51,
    "start_time": "2023-05-14T09:51:56.211Z"
   },
   {
    "duration": 9,
    "start_time": "2023-05-14T09:51:56.264Z"
   },
   {
    "duration": 12,
    "start_time": "2023-05-14T09:51:56.276Z"
   },
   {
    "duration": 1798,
    "start_time": "2023-05-14T09:51:56.290Z"
   },
   {
    "duration": 1090,
    "start_time": "2023-05-14T09:57:03.882Z"
   },
   {
    "duration": 81,
    "start_time": "2023-05-14T09:57:08.608Z"
   },
   {
    "duration": 5,
    "start_time": "2023-05-14T09:57:11.792Z"
   },
   {
    "duration": 10,
    "start_time": "2023-05-14T09:57:18.053Z"
   },
   {
    "duration": 1399,
    "start_time": "2023-05-14T09:57:21.224Z"
   },
   {
    "duration": 14,
    "start_time": "2023-05-14T09:57:26.450Z"
   },
   {
    "duration": 6,
    "start_time": "2023-05-14T09:57:31.988Z"
   },
   {
    "duration": 114,
    "start_time": "2023-05-14T09:58:48.572Z"
   },
   {
    "duration": 86,
    "start_time": "2023-05-14T09:59:03.389Z"
   },
   {
    "duration": 115,
    "start_time": "2023-05-14T09:59:14.128Z"
   },
   {
    "duration": 1754,
    "start_time": "2023-05-14T09:59:17.487Z"
   },
   {
    "duration": 98,
    "start_time": "2023-05-14T09:59:30.056Z"
   },
   {
    "duration": 127,
    "start_time": "2023-05-14T10:05:08.004Z"
   },
   {
    "duration": 106,
    "start_time": "2023-05-14T10:05:14.444Z"
   },
   {
    "duration": 109,
    "start_time": "2023-05-14T10:11:07.712Z"
   },
   {
    "duration": 125,
    "start_time": "2023-05-14T10:11:16.944Z"
   },
   {
    "duration": 116,
    "start_time": "2023-05-14T10:12:23.304Z"
   },
   {
    "duration": 163,
    "start_time": "2023-05-14T10:12:39.656Z"
   },
   {
    "duration": 149,
    "start_time": "2023-05-14T10:12:48.699Z"
   },
   {
    "duration": 16,
    "start_time": "2023-05-14T10:23:27.190Z"
   },
   {
    "duration": 11,
    "start_time": "2023-05-14T10:23:29.310Z"
   },
   {
    "duration": 4,
    "start_time": "2023-05-14T10:23:30.511Z"
   },
   {
    "duration": 6,
    "start_time": "2023-05-14T10:23:32.147Z"
   },
   {
    "duration": 4,
    "start_time": "2023-05-14T10:23:33.026Z"
   },
   {
    "duration": 41,
    "start_time": "2023-05-14T10:23:36.408Z"
   },
   {
    "duration": 4,
    "start_time": "2023-05-14T10:23:37.627Z"
   },
   {
    "duration": 128,
    "start_time": "2023-05-14T10:23:50.543Z"
   },
   {
    "duration": 56,
    "start_time": "2023-05-14T10:26:47.440Z"
   },
   {
    "duration": 10,
    "start_time": "2023-05-14T10:26:54.346Z"
   },
   {
    "duration": 25,
    "start_time": "2023-05-14T10:27:01.590Z"
   },
   {
    "duration": 66,
    "start_time": "2023-05-14T10:28:35.024Z"
   },
   {
    "duration": 71,
    "start_time": "2023-05-14T10:28:49.952Z"
   },
   {
    "duration": 155,
    "start_time": "2023-05-14T10:28:54.350Z"
   },
   {
    "duration": 132,
    "start_time": "2023-05-14T10:29:06.188Z"
   },
   {
    "duration": 44,
    "start_time": "2023-05-14T10:29:10.143Z"
   },
   {
    "duration": 52,
    "start_time": "2023-05-14T10:29:18.513Z"
   },
   {
    "duration": 29,
    "start_time": "2023-05-14T10:29:21.155Z"
   },
   {
    "duration": 1552,
    "start_time": "2023-05-14T10:29:32.141Z"
   },
   {
    "duration": 1322,
    "start_time": "2023-05-14T10:31:45.317Z"
   },
   {
    "duration": 58,
    "start_time": "2023-05-14T10:42:38.921Z"
   },
   {
    "duration": 62,
    "start_time": "2023-05-14T10:42:51.546Z"
   },
   {
    "duration": 17,
    "start_time": "2023-05-14T10:42:55.854Z"
   },
   {
    "duration": 21,
    "start_time": "2023-05-14T10:44:34.399Z"
   },
   {
    "duration": 25,
    "start_time": "2023-05-14T10:44:35.584Z"
   },
   {
    "duration": 11,
    "start_time": "2023-05-14T10:48:10.613Z"
   },
   {
    "duration": 13,
    "start_time": "2023-05-14T10:48:19.224Z"
   },
   {
    "duration": 32,
    "start_time": "2023-05-14T10:48:24.093Z"
   },
   {
    "duration": 41,
    "start_time": "2023-05-14T10:50:34.413Z"
   },
   {
    "duration": 39,
    "start_time": "2023-05-14T10:50:40.003Z"
   },
   {
    "duration": 66,
    "start_time": "2023-05-14T10:50:47.960Z"
   },
   {
    "duration": 61,
    "start_time": "2023-05-14T10:50:53.948Z"
   },
   {
    "duration": 52,
    "start_time": "2023-05-14T10:52:06.927Z"
   },
   {
    "duration": 39,
    "start_time": "2023-05-14T10:52:09.914Z"
   },
   {
    "duration": 44,
    "start_time": "2023-05-14T10:52:36.546Z"
   },
   {
    "duration": 37,
    "start_time": "2023-05-14T10:53:00.653Z"
   },
   {
    "duration": 37,
    "start_time": "2023-05-14T10:53:04.799Z"
   },
   {
    "duration": 1475,
    "start_time": "2023-05-14T11:06:17.600Z"
   },
   {
    "duration": 481,
    "start_time": "2023-05-14T11:06:19.089Z"
   },
   {
    "duration": 39,
    "start_time": "2023-05-14T11:06:19.575Z"
   },
   {
    "duration": 17,
    "start_time": "2023-05-14T11:06:19.620Z"
   },
   {
    "duration": 14,
    "start_time": "2023-05-14T11:06:19.638Z"
   },
   {
    "duration": 10,
    "start_time": "2023-05-14T11:06:19.655Z"
   },
   {
    "duration": 115,
    "start_time": "2023-05-14T11:06:19.667Z"
   },
   {
    "duration": 105,
    "start_time": "2023-05-14T11:06:19.784Z"
   },
   {
    "duration": 36,
    "start_time": "2023-05-14T11:06:19.894Z"
   },
   {
    "duration": 12,
    "start_time": "2023-05-14T11:06:19.936Z"
   },
   {
    "duration": 44,
    "start_time": "2023-05-14T11:06:19.950Z"
   },
   {
    "duration": 143,
    "start_time": "2023-05-14T11:06:19.999Z"
   },
   {
    "duration": 11,
    "start_time": "2023-05-14T11:06:20.144Z"
   },
   {
    "duration": 42,
    "start_time": "2023-05-14T11:06:20.157Z"
   },
   {
    "duration": 39,
    "start_time": "2023-05-14T11:06:20.201Z"
   },
   {
    "duration": 6,
    "start_time": "2023-05-14T11:06:20.242Z"
   },
   {
    "duration": 552,
    "start_time": "2023-05-14T11:06:20.250Z"
   },
   {
    "duration": 11466,
    "start_time": "2023-05-14T11:06:20.803Z"
   },
   {
    "duration": 8194,
    "start_time": "2023-05-14T11:06:32.272Z"
   },
   {
    "duration": 22,
    "start_time": "2023-05-14T11:06:40.467Z"
   },
   {
    "duration": 8,
    "start_time": "2023-05-14T11:06:40.491Z"
   },
   {
    "duration": 65,
    "start_time": "2023-05-14T11:06:40.500Z"
   },
   {
    "duration": 80,
    "start_time": "2023-05-14T11:06:40.568Z"
   },
   {
    "duration": 29,
    "start_time": "2023-05-14T11:06:40.650Z"
   },
   {
    "duration": 264,
    "start_time": "2023-05-14T11:06:40.681Z"
   },
   {
    "duration": 29,
    "start_time": "2023-05-14T11:06:40.948Z"
   },
   {
    "duration": 70,
    "start_time": "2023-05-14T11:06:40.984Z"
   },
   {
    "duration": 158,
    "start_time": "2023-05-14T11:06:41.060Z"
   },
   {
    "duration": 5,
    "start_time": "2023-05-14T11:06:41.221Z"
   },
   {
    "duration": 70,
    "start_time": "2023-05-14T11:06:41.228Z"
   },
   {
    "duration": 7,
    "start_time": "2023-05-14T11:06:41.300Z"
   },
   {
    "duration": 64,
    "start_time": "2023-05-14T11:06:41.309Z"
   },
   {
    "duration": 59,
    "start_time": "2023-05-14T11:06:41.377Z"
   },
   {
    "duration": 8,
    "start_time": "2023-05-14T11:06:41.439Z"
   },
   {
    "duration": 14,
    "start_time": "2023-05-14T11:06:41.449Z"
   },
   {
    "duration": 6,
    "start_time": "2023-05-14T11:06:41.466Z"
   },
   {
    "duration": 9,
    "start_time": "2023-05-14T11:06:41.475Z"
   },
   {
    "duration": 21,
    "start_time": "2023-05-14T11:06:41.488Z"
   },
   {
    "duration": 61,
    "start_time": "2023-05-14T11:06:41.511Z"
   },
   {
    "duration": 31,
    "start_time": "2023-05-14T11:06:41.578Z"
   },
   {
    "duration": 1451,
    "start_time": "2023-05-14T12:11:45.617Z"
   },
   {
    "duration": 653,
    "start_time": "2023-05-14T12:11:47.070Z"
   },
   {
    "duration": 36,
    "start_time": "2023-05-14T12:11:47.726Z"
   },
   {
    "duration": 17,
    "start_time": "2023-05-14T12:11:47.764Z"
   },
   {
    "duration": 9,
    "start_time": "2023-05-14T12:11:47.790Z"
   },
   {
    "duration": 24,
    "start_time": "2023-05-14T12:11:47.801Z"
   },
   {
    "duration": 96,
    "start_time": "2023-05-14T12:11:47.827Z"
   },
   {
    "duration": 97,
    "start_time": "2023-05-14T12:11:47.928Z"
   },
   {
    "duration": 23,
    "start_time": "2023-05-14T12:11:48.027Z"
   },
   {
    "duration": 23,
    "start_time": "2023-05-14T12:11:48.058Z"
   },
   {
    "duration": 22,
    "start_time": "2023-05-14T12:11:48.085Z"
   },
   {
    "duration": 151,
    "start_time": "2023-05-14T12:11:48.111Z"
   },
   {
    "duration": 25,
    "start_time": "2023-05-14T12:11:48.274Z"
   },
   {
    "duration": 14,
    "start_time": "2023-05-14T12:11:48.305Z"
   },
   {
    "duration": 27,
    "start_time": "2023-05-14T12:11:48.321Z"
   },
   {
    "duration": 6,
    "start_time": "2023-05-14T12:11:48.350Z"
   },
   {
    "duration": 10830,
    "start_time": "2023-05-14T12:11:48.360Z"
   },
   {
    "duration": 7314,
    "start_time": "2023-05-14T12:11:59.197Z"
   },
   {
    "duration": 19,
    "start_time": "2023-05-14T12:12:06.512Z"
   },
   {
    "duration": 6,
    "start_time": "2023-05-14T12:12:06.534Z"
   },
   {
    "duration": 51,
    "start_time": "2023-05-14T12:12:06.557Z"
   },
   {
    "duration": 79,
    "start_time": "2023-05-14T12:12:06.609Z"
   },
   {
    "duration": 17,
    "start_time": "2023-05-14T12:12:06.690Z"
   },
   {
    "duration": 450,
    "start_time": "2023-05-14T12:12:06.711Z"
   },
   {
    "duration": 27,
    "start_time": "2023-05-14T12:12:07.170Z"
   },
   {
    "duration": 41,
    "start_time": "2023-05-14T12:12:07.203Z"
   },
   {
    "duration": 137,
    "start_time": "2023-05-14T12:12:07.246Z"
   },
   {
    "duration": 6,
    "start_time": "2023-05-14T12:12:07.385Z"
   },
   {
    "duration": 50,
    "start_time": "2023-05-14T12:12:07.393Z"
   },
   {
    "duration": 16,
    "start_time": "2023-05-14T12:12:07.445Z"
   },
   {
    "duration": 17,
    "start_time": "2023-05-14T12:12:07.463Z"
   },
   {
    "duration": 9,
    "start_time": "2023-05-14T12:12:07.483Z"
   },
   {
    "duration": 6,
    "start_time": "2023-05-14T12:12:07.494Z"
   },
   {
    "duration": 6,
    "start_time": "2023-05-14T12:12:07.502Z"
   },
   {
    "duration": 60,
    "start_time": "2023-05-14T12:12:07.510Z"
   },
   {
    "duration": 1145,
    "start_time": "2023-05-15T05:25:03.352Z"
   },
   {
    "duration": 226,
    "start_time": "2023-05-15T05:25:04.499Z"
   },
   {
    "duration": 30,
    "start_time": "2023-05-15T05:25:04.727Z"
   },
   {
    "duration": 13,
    "start_time": "2023-05-15T05:25:04.759Z"
   },
   {
    "duration": 9,
    "start_time": "2023-05-15T05:25:04.775Z"
   },
   {
    "duration": 15,
    "start_time": "2023-05-15T05:25:04.786Z"
   },
   {
    "duration": 84,
    "start_time": "2023-05-15T05:25:04.803Z"
   },
   {
    "duration": 77,
    "start_time": "2023-05-15T05:25:04.889Z"
   },
   {
    "duration": 22,
    "start_time": "2023-05-15T05:25:04.967Z"
   },
   {
    "duration": 20,
    "start_time": "2023-05-15T05:25:04.990Z"
   },
   {
    "duration": 24,
    "start_time": "2023-05-15T05:25:05.011Z"
   },
   {
    "duration": 103,
    "start_time": "2023-05-15T05:25:05.036Z"
   },
   {
    "duration": 13,
    "start_time": "2023-05-15T05:25:05.141Z"
   },
   {
    "duration": 11,
    "start_time": "2023-05-15T05:25:05.157Z"
   },
   {
    "duration": 20,
    "start_time": "2023-05-15T05:25:05.170Z"
   },
   {
    "duration": 5,
    "start_time": "2023-05-15T05:25:05.192Z"
   },
   {
    "duration": 8239,
    "start_time": "2023-05-15T05:25:05.198Z"
   },
   {
    "duration": 5686,
    "start_time": "2023-05-15T05:25:13.439Z"
   },
   {
    "duration": 18,
    "start_time": "2023-05-15T05:25:19.127Z"
   },
   {
    "duration": 37,
    "start_time": "2023-05-15T05:25:19.147Z"
   },
   {
    "duration": 77,
    "start_time": "2023-05-15T05:25:19.186Z"
   },
   {
    "duration": 81,
    "start_time": "2023-05-15T05:25:19.265Z"
   },
   {
    "duration": 12,
    "start_time": "2023-05-15T05:25:19.347Z"
   },
   {
    "duration": 387,
    "start_time": "2023-05-15T05:25:19.360Z"
   },
   {
    "duration": 12,
    "start_time": "2023-05-15T05:25:19.749Z"
   },
   {
    "duration": 94,
    "start_time": "2023-05-15T05:25:19.762Z"
   },
   {
    "duration": 102,
    "start_time": "2023-05-15T05:25:19.858Z"
   },
   {
    "duration": 4,
    "start_time": "2023-05-15T05:25:19.962Z"
   },
   {
    "duration": 46,
    "start_time": "2023-05-15T05:25:19.968Z"
   },
   {
    "duration": 6,
    "start_time": "2023-05-15T05:25:20.024Z"
   },
   {
    "duration": 27,
    "start_time": "2023-05-15T05:25:20.031Z"
   },
   {
    "duration": 35,
    "start_time": "2023-05-15T05:25:20.060Z"
   },
   {
    "duration": 13,
    "start_time": "2023-05-15T05:25:20.096Z"
   },
   {
    "duration": 19,
    "start_time": "2023-05-15T05:25:20.111Z"
   },
   {
    "duration": 46,
    "start_time": "2023-05-15T05:25:20.131Z"
   },
   {
    "duration": 49,
    "start_time": "2023-05-15T11:16:10.300Z"
   },
   {
    "duration": 1546,
    "start_time": "2023-05-15T11:16:31.430Z"
   },
   {
    "duration": 713,
    "start_time": "2023-05-15T11:16:32.978Z"
   },
   {
    "duration": 22,
    "start_time": "2023-05-15T11:16:33.692Z"
   },
   {
    "duration": 14,
    "start_time": "2023-05-15T11:16:33.716Z"
   },
   {
    "duration": 2,
    "start_time": "2023-05-15T11:16:33.733Z"
   },
   {
    "duration": 10,
    "start_time": "2023-05-15T11:16:33.737Z"
   },
   {
    "duration": 63,
    "start_time": "2023-05-15T11:16:33.748Z"
   },
   {
    "duration": 75,
    "start_time": "2023-05-15T11:16:33.825Z"
   },
   {
    "duration": 31,
    "start_time": "2023-05-15T11:16:33.901Z"
   },
   {
    "duration": 15,
    "start_time": "2023-05-15T11:16:33.935Z"
   },
   {
    "duration": 19,
    "start_time": "2023-05-15T11:16:33.952Z"
   },
   {
    "duration": 109,
    "start_time": "2023-05-15T11:16:33.972Z"
   },
   {
    "duration": 13,
    "start_time": "2023-05-15T11:16:34.082Z"
   },
   {
    "duration": 14,
    "start_time": "2023-05-15T11:16:34.096Z"
   },
   {
    "duration": 30,
    "start_time": "2023-05-15T11:16:34.112Z"
   },
   {
    "duration": 5,
    "start_time": "2023-05-15T11:16:34.144Z"
   },
   {
    "duration": 8897,
    "start_time": "2023-05-15T11:16:34.150Z"
   },
   {
    "duration": 6151,
    "start_time": "2023-05-15T11:16:43.048Z"
   },
   {
    "duration": 26,
    "start_time": "2023-05-15T11:16:49.201Z"
   },
   {
    "duration": 17,
    "start_time": "2023-05-15T11:16:49.228Z"
   },
   {
    "duration": 42,
    "start_time": "2023-05-15T11:16:49.248Z"
   },
   {
    "duration": 82,
    "start_time": "2023-05-15T11:16:49.291Z"
   },
   {
    "duration": 205,
    "start_time": "2023-05-15T11:16:49.375Z"
   },
   {
    "duration": 340,
    "start_time": "2023-05-15T11:16:49.582Z"
   },
   {
    "duration": 12,
    "start_time": "2023-05-15T11:16:49.925Z"
   },
   {
    "duration": 37,
    "start_time": "2023-05-15T11:16:49.939Z"
   },
   {
    "duration": 113,
    "start_time": "2023-05-15T11:16:49.978Z"
   },
   {
    "duration": 4,
    "start_time": "2023-05-15T11:16:50.094Z"
   },
   {
    "duration": 50,
    "start_time": "2023-05-15T11:16:50.099Z"
   },
   {
    "duration": 6,
    "start_time": "2023-05-15T11:16:50.150Z"
   },
   {
    "duration": 12,
    "start_time": "2023-05-15T11:16:50.157Z"
   },
   {
    "duration": 13,
    "start_time": "2023-05-15T11:16:50.171Z"
   },
   {
    "duration": 27,
    "start_time": "2023-05-15T11:16:50.185Z"
   },
   {
    "duration": 17,
    "start_time": "2023-05-15T11:16:50.214Z"
   },
   {
    "duration": 33,
    "start_time": "2023-05-15T11:16:50.233Z"
   },
   {
    "duration": 181,
    "start_time": "2023-05-15T11:17:06.044Z"
   },
   {
    "duration": 203,
    "start_time": "2023-05-15T11:17:19.511Z"
   },
   {
    "duration": 175,
    "start_time": "2023-05-15T11:19:40.731Z"
   },
   {
    "duration": 169,
    "start_time": "2023-05-15T11:22:43.802Z"
   },
   {
    "duration": 177,
    "start_time": "2023-05-15T11:23:31.255Z"
   },
   {
    "duration": 201,
    "start_time": "2023-05-15T11:23:50.815Z"
   },
   {
    "duration": 100,
    "start_time": "2023-05-15T11:26:33.911Z"
   },
   {
    "duration": 5,
    "start_time": "2023-05-15T11:26:36.318Z"
   },
   {
    "duration": 197,
    "start_time": "2023-05-15T11:26:39.672Z"
   },
   {
    "duration": 13,
    "start_time": "2023-05-15T11:27:32.619Z"
   },
   {
    "duration": 82,
    "start_time": "2023-05-15T11:33:12.076Z"
   },
   {
    "duration": 24,
    "start_time": "2023-05-15T11:35:22.758Z"
   },
   {
    "duration": 77,
    "start_time": "2023-05-15T11:35:46.614Z"
   },
   {
    "duration": 16,
    "start_time": "2023-05-15T11:35:51.784Z"
   },
   {
    "duration": 11,
    "start_time": "2023-05-15T11:36:06.845Z"
   },
   {
    "duration": 13,
    "start_time": "2023-05-15T11:36:34.717Z"
   },
   {
    "duration": 13,
    "start_time": "2023-05-15T11:36:54.045Z"
   },
   {
    "duration": 15,
    "start_time": "2023-05-15T11:37:14.303Z"
   },
   {
    "duration": 16,
    "start_time": "2023-05-15T11:37:20.862Z"
   },
   {
    "duration": 16,
    "start_time": "2023-05-15T11:37:22.999Z"
   },
   {
    "duration": 18,
    "start_time": "2023-05-15T11:37:25.717Z"
   },
   {
    "duration": 1376,
    "start_time": "2023-05-15T22:12:20.752Z"
   },
   {
    "duration": 225,
    "start_time": "2023-05-15T22:12:22.130Z"
   },
   {
    "duration": 28,
    "start_time": "2023-05-15T22:12:22.357Z"
   },
   {
    "duration": 12,
    "start_time": "2023-05-15T22:12:22.388Z"
   },
   {
    "duration": 8,
    "start_time": "2023-05-15T22:12:22.403Z"
   },
   {
    "duration": 46,
    "start_time": "2023-05-15T22:12:22.413Z"
   },
   {
    "duration": 74,
    "start_time": "2023-05-15T22:12:22.461Z"
   },
   {
    "duration": 93,
    "start_time": "2023-05-15T22:12:22.537Z"
   },
   {
    "duration": 21,
    "start_time": "2023-05-15T22:12:22.632Z"
   },
   {
    "duration": 16,
    "start_time": "2023-05-15T22:12:22.655Z"
   },
   {
    "duration": 48,
    "start_time": "2023-05-15T22:12:22.672Z"
   },
   {
    "duration": 103,
    "start_time": "2023-05-15T22:12:22.722Z"
   },
   {
    "duration": 16,
    "start_time": "2023-05-15T22:12:22.827Z"
   },
   {
    "duration": 28,
    "start_time": "2023-05-15T22:12:22.847Z"
   },
   {
    "duration": 32,
    "start_time": "2023-05-15T22:12:22.877Z"
   },
   {
    "duration": 5,
    "start_time": "2023-05-15T22:12:22.911Z"
   },
   {
    "duration": 9695,
    "start_time": "2023-05-15T22:12:22.918Z"
   },
   {
    "duration": 6736,
    "start_time": "2023-05-15T22:12:32.615Z"
   },
   {
    "duration": 16,
    "start_time": "2023-05-15T22:12:39.353Z"
   },
   {
    "duration": 18,
    "start_time": "2023-05-15T22:12:39.371Z"
   },
   {
    "duration": 46,
    "start_time": "2023-05-15T22:12:39.392Z"
   },
   {
    "duration": 115,
    "start_time": "2023-05-15T22:12:39.440Z"
   },
   {
    "duration": 15,
    "start_time": "2023-05-15T22:12:39.557Z"
   },
   {
    "duration": 225,
    "start_time": "2023-05-15T22:12:39.574Z"
   },
   {
    "duration": 14,
    "start_time": "2023-05-15T22:12:39.801Z"
   },
   {
    "duration": 43,
    "start_time": "2023-05-15T22:12:39.817Z"
   },
   {
    "duration": 114,
    "start_time": "2023-05-15T22:12:39.862Z"
   },
   {
    "duration": 4,
    "start_time": "2023-05-15T22:12:39.977Z"
   },
   {
    "duration": 58,
    "start_time": "2023-05-15T22:12:39.988Z"
   },
   {
    "duration": 6,
    "start_time": "2023-05-15T22:12:40.048Z"
   },
   {
    "duration": 32,
    "start_time": "2023-05-15T22:12:40.056Z"
   },
   {
    "duration": 20,
    "start_time": "2023-05-15T22:12:40.090Z"
   },
   {
    "duration": 8,
    "start_time": "2023-05-15T22:12:40.114Z"
   },
   {
    "duration": 11,
    "start_time": "2023-05-15T22:12:40.125Z"
   },
   {
    "duration": 36,
    "start_time": "2023-05-15T22:12:40.139Z"
   }
  ],
  "kernelspec": {
   "display_name": "Python 3 (ipykernel)",
   "language": "python",
   "name": "python3"
  },
  "language_info": {
   "codemirror_mode": {
    "name": "ipython",
    "version": 3
   },
   "file_extension": ".py",
   "mimetype": "text/x-python",
   "name": "python",
   "nbconvert_exporter": "python",
   "pygments_lexer": "ipython3",
   "version": "3.9.5"
  },
  "toc": {
   "base_numbering": 1,
   "nav_menu": {},
   "number_sections": true,
   "sideBar": true,
   "skip_h1_title": true,
   "title_cell": "Table of Contents",
   "title_sidebar": "Contents",
   "toc_cell": false,
   "toc_position": {},
   "toc_section_display": true,
   "toc_window_display": false
  }
 },
 "nbformat": 4,
 "nbformat_minor": 2
}
