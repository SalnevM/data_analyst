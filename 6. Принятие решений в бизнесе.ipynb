{
 "cells": [
  {
   "cell_type": "markdown",
   "metadata": {},
   "source": [
    "# Описание проекта:\n",
    "\n",
    "Необходимо оценить список предложенных гипотез для увеличиния прибыли в крупном интернет-магазине. В процессе исследования будет проведен А/В тест, а также полученные результаты будут предоставлены отделу маркетинга для изучения."
   ]
  },
  {
   "cell_type": "markdown",
   "metadata": {},
   "source": [
    "# Описание данных\n",
    "Данные для первой части\n",
    "Датасет hypothesis.csv:\n",
    "* Hypothesis — краткое описание гипотезы;\n",
    "* Reach — охват пользователей по 10-балльной шкале;\n",
    "* Impact — влияние на пользователей по 10-балльной шкале;\n",
    "* Confidence — уверенность в гипотезе по 10-балльной шкале;\n",
    "* Efforts — затраты ресурсов на проверку гипотезы по 10-балльной шкале. Чем больше значение Efforts, тем дороже проверка гипотезы.\n",
    "\n",
    "Данные для второй части\n",
    "\n",
    "Датасет orders.csv:\n",
    "* transactionId — идентификатор заказа;\n",
    "* visitorId — идентификатор пользователя, совершившего заказ;\n",
    "* date — дата, когда был совершён заказ;\n",
    "* revenue — выручка заказа;\n",
    "* group — группа A/B-теста, в которую попал заказ.\n",
    "\n",
    "Датасет visitors.csv:\n",
    "* date — дата;\n",
    "* group — группа A/B-теста;\n",
    "* visitors — количество пользователей в указанную дату в указанной группе A/B-теста"
   ]
  },
  {
   "cell_type": "markdown",
   "metadata": {},
   "source": [
    "# Предобработка данных"
   ]
  },
  {
   "cell_type": "code",
   "execution_count": 2,
   "metadata": {},
   "outputs": [],
   "source": [
    "#загрузка библиотек и подготовках данных\n",
    "import pandas as pd\n",
    "import numpy as np\n",
    "import matplotlib.pyplot as plt\n",
    "from datetime import datetime, timedelta\n",
    "import seaborn as sns\n",
    "from pymystem3 import Mystem\n",
    "from collections import Counter\n",
    "from scipy import stats as st\n",
    "import datetime as dt"
   ]
  },
  {
   "cell_type": "code",
   "execution_count": 3,
   "metadata": {},
   "outputs": [],
   "source": [
    "#загрузим датасеты\n",
    "try:\n",
    "    hypothesis = pd.read_csv('hypothesis.csv')\n",
    "    orders = pd.read_csv('orders.csv', sep = ',')\n",
    "    visitors = pd.read_csv('visitors.csv', sep = ',')\n",
    "except FileNotFoundError:\n",
    "    hypothesis = pd.read_csv('/datasets/hypothesis.csv')\n",
    "    orders = pd.read_csv('/datasets/orders.csv', sep = ',')\n",
    "    visitors = pd.read_csv('/datasets/visitors.csv', sep = ',')"
   ]
  },
  {
   "cell_type": "code",
   "execution_count": 4,
   "metadata": {},
   "outputs": [
    {
     "name": "stdout",
     "output_type": "stream",
     "text": [
      "<class 'pandas.core.frame.DataFrame'>\n",
      "RangeIndex: 9 entries, 0 to 8\n",
      "Data columns (total 5 columns):\n",
      " #   Column      Non-Null Count  Dtype \n",
      "---  ------      --------------  ----- \n",
      " 0   Hypothesis  9 non-null      object\n",
      " 1   Reach       9 non-null      int64 \n",
      " 2   Impact      9 non-null      int64 \n",
      " 3   Confidence  9 non-null      int64 \n",
      " 4   Efforts     9 non-null      int64 \n",
      "dtypes: int64(4), object(1)\n",
      "memory usage: 488.0+ bytes\n"
     ]
    }
   ],
   "source": [
    "#просмотрим данные и сделаем предобработку\n",
    "hypothesis.info()"
   ]
  },
  {
   "cell_type": "code",
   "execution_count": 5,
   "metadata": {
    "scrolled": true
   },
   "outputs": [
    {
     "data": {
      "text/html": [
       "<div>\n",
       "<style scoped>\n",
       "    .dataframe tbody tr th:only-of-type {\n",
       "        vertical-align: middle;\n",
       "    }\n",
       "\n",
       "    .dataframe tbody tr th {\n",
       "        vertical-align: top;\n",
       "    }\n",
       "\n",
       "    .dataframe thead th {\n",
       "        text-align: right;\n",
       "    }\n",
       "</style>\n",
       "<table border=\"1\" class=\"dataframe\">\n",
       "  <thead>\n",
       "    <tr style=\"text-align: right;\">\n",
       "      <th></th>\n",
       "      <th>Hypothesis</th>\n",
       "      <th>Reach</th>\n",
       "      <th>Impact</th>\n",
       "      <th>Confidence</th>\n",
       "      <th>Efforts</th>\n",
       "    </tr>\n",
       "  </thead>\n",
       "  <tbody>\n",
       "    <tr>\n",
       "      <th>0</th>\n",
       "      <td>Добавить два новых канала привлечения трафика,...</td>\n",
       "      <td>3</td>\n",
       "      <td>10</td>\n",
       "      <td>8</td>\n",
       "      <td>6</td>\n",
       "    </tr>\n",
       "    <tr>\n",
       "      <th>1</th>\n",
       "      <td>Запустить собственную службу доставки, что сок...</td>\n",
       "      <td>2</td>\n",
       "      <td>5</td>\n",
       "      <td>4</td>\n",
       "      <td>10</td>\n",
       "    </tr>\n",
       "    <tr>\n",
       "      <th>2</th>\n",
       "      <td>Добавить блоки рекомендаций товаров на сайт ин...</td>\n",
       "      <td>8</td>\n",
       "      <td>3</td>\n",
       "      <td>7</td>\n",
       "      <td>3</td>\n",
       "    </tr>\n",
       "    <tr>\n",
       "      <th>3</th>\n",
       "      <td>Изменить структура категорий, что увеличит кон...</td>\n",
       "      <td>8</td>\n",
       "      <td>3</td>\n",
       "      <td>3</td>\n",
       "      <td>8</td>\n",
       "    </tr>\n",
       "    <tr>\n",
       "      <th>4</th>\n",
       "      <td>Изменить цвет фона главной страницы, чтобы уве...</td>\n",
       "      <td>3</td>\n",
       "      <td>1</td>\n",
       "      <td>1</td>\n",
       "      <td>1</td>\n",
       "    </tr>\n",
       "  </tbody>\n",
       "</table>\n",
       "</div>"
      ],
      "text/plain": [
       "                                          Hypothesis  Reach  Impact  \\\n",
       "0  Добавить два новых канала привлечения трафика,...      3      10   \n",
       "1  Запустить собственную службу доставки, что сок...      2       5   \n",
       "2  Добавить блоки рекомендаций товаров на сайт ин...      8       3   \n",
       "3  Изменить структура категорий, что увеличит кон...      8       3   \n",
       "4  Изменить цвет фона главной страницы, чтобы уве...      3       1   \n",
       "\n",
       "   Confidence  Efforts  \n",
       "0           8        6  \n",
       "1           4       10  \n",
       "2           7        3  \n",
       "3           3        8  \n",
       "4           1        1  "
      ]
     },
     "execution_count": 5,
     "metadata": {},
     "output_type": "execute_result"
    }
   ],
   "source": [
    "hypothesis.head()"
   ]
  },
  {
   "cell_type": "code",
   "execution_count": 6,
   "metadata": {
    "scrolled": true
   },
   "outputs": [
    {
     "name": "stdout",
     "output_type": "stream",
     "text": [
      "<class 'pandas.core.frame.DataFrame'>\n",
      "RangeIndex: 1197 entries, 0 to 1196\n",
      "Data columns (total 5 columns):\n",
      " #   Column         Non-Null Count  Dtype \n",
      "---  ------         --------------  ----- \n",
      " 0   transactionId  1197 non-null   int64 \n",
      " 1   visitorId      1197 non-null   int64 \n",
      " 2   date           1197 non-null   object\n",
      " 3   revenue        1197 non-null   int64 \n",
      " 4   group          1197 non-null   object\n",
      "dtypes: int64(3), object(2)\n",
      "memory usage: 46.9+ KB\n"
     ]
    }
   ],
   "source": [
    "orders.info()"
   ]
  },
  {
   "cell_type": "code",
   "execution_count": 10,
   "metadata": {},
   "outputs": [
    {
     "data": {
      "text/html": [
       "<div>\n",
       "<style scoped>\n",
       "    .dataframe tbody tr th:only-of-type {\n",
       "        vertical-align: middle;\n",
       "    }\n",
       "\n",
       "    .dataframe tbody tr th {\n",
       "        vertical-align: top;\n",
       "    }\n",
       "\n",
       "    .dataframe thead th {\n",
       "        text-align: right;\n",
       "    }\n",
       "</style>\n",
       "<table border=\"1\" class=\"dataframe\">\n",
       "  <thead>\n",
       "    <tr style=\"text-align: right;\">\n",
       "      <th></th>\n",
       "      <th>transactionId</th>\n",
       "      <th>visitorId</th>\n",
       "      <th>date</th>\n",
       "      <th>revenue</th>\n",
       "      <th>group</th>\n",
       "    </tr>\n",
       "  </thead>\n",
       "  <tbody>\n",
       "    <tr>\n",
       "      <th>0</th>\n",
       "      <td>3667963787</td>\n",
       "      <td>3312258926</td>\n",
       "      <td>2019-08-15</td>\n",
       "      <td>1650</td>\n",
       "      <td>B</td>\n",
       "    </tr>\n",
       "    <tr>\n",
       "      <th>1</th>\n",
       "      <td>2804400009</td>\n",
       "      <td>3642806036</td>\n",
       "      <td>2019-08-15</td>\n",
       "      <td>730</td>\n",
       "      <td>B</td>\n",
       "    </tr>\n",
       "    <tr>\n",
       "      <th>2</th>\n",
       "      <td>2961555356</td>\n",
       "      <td>4069496402</td>\n",
       "      <td>2019-08-15</td>\n",
       "      <td>400</td>\n",
       "      <td>A</td>\n",
       "    </tr>\n",
       "    <tr>\n",
       "      <th>3</th>\n",
       "      <td>3797467345</td>\n",
       "      <td>1196621759</td>\n",
       "      <td>2019-08-15</td>\n",
       "      <td>9759</td>\n",
       "      <td>B</td>\n",
       "    </tr>\n",
       "    <tr>\n",
       "      <th>4</th>\n",
       "      <td>2282983706</td>\n",
       "      <td>2322279887</td>\n",
       "      <td>2019-08-15</td>\n",
       "      <td>2308</td>\n",
       "      <td>B</td>\n",
       "    </tr>\n",
       "  </tbody>\n",
       "</table>\n",
       "</div>"
      ],
      "text/plain": [
       "   transactionId   visitorId        date  revenue group\n",
       "0     3667963787  3312258926  2019-08-15     1650     B\n",
       "1     2804400009  3642806036  2019-08-15      730     B\n",
       "2     2961555356  4069496402  2019-08-15      400     A\n",
       "3     3797467345  1196621759  2019-08-15     9759     B\n",
       "4     2282983706  2322279887  2019-08-15     2308     B"
      ]
     },
     "execution_count": 10,
     "metadata": {},
     "output_type": "execute_result"
    }
   ],
   "source": [
    "orders.head()"
   ]
  },
  {
   "cell_type": "code",
   "execution_count": 12,
   "metadata": {},
   "outputs": [
    {
     "name": "stdout",
     "output_type": "stream",
     "text": [
      "<class 'pandas.core.frame.DataFrame'>\n",
      "RangeIndex: 62 entries, 0 to 61\n",
      "Data columns (total 3 columns):\n",
      " #   Column    Non-Null Count  Dtype \n",
      "---  ------    --------------  ----- \n",
      " 0   date      62 non-null     object\n",
      " 1   group     62 non-null     object\n",
      " 2   visitors  62 non-null     int64 \n",
      "dtypes: int64(1), object(2)\n",
      "memory usage: 1.6+ KB\n"
     ]
    }
   ],
   "source": [
    "visitors.info()"
   ]
  },
  {
   "cell_type": "code",
   "execution_count": 11,
   "metadata": {},
   "outputs": [
    {
     "data": {
      "text/html": [
       "<div>\n",
       "<style scoped>\n",
       "    .dataframe tbody tr th:only-of-type {\n",
       "        vertical-align: middle;\n",
       "    }\n",
       "\n",
       "    .dataframe tbody tr th {\n",
       "        vertical-align: top;\n",
       "    }\n",
       "\n",
       "    .dataframe thead th {\n",
       "        text-align: right;\n",
       "    }\n",
       "</style>\n",
       "<table border=\"1\" class=\"dataframe\">\n",
       "  <thead>\n",
       "    <tr style=\"text-align: right;\">\n",
       "      <th></th>\n",
       "      <th>date</th>\n",
       "      <th>group</th>\n",
       "      <th>visitors</th>\n",
       "    </tr>\n",
       "  </thead>\n",
       "  <tbody>\n",
       "    <tr>\n",
       "      <th>0</th>\n",
       "      <td>2019-08-01</td>\n",
       "      <td>A</td>\n",
       "      <td>719</td>\n",
       "    </tr>\n",
       "    <tr>\n",
       "      <th>1</th>\n",
       "      <td>2019-08-02</td>\n",
       "      <td>A</td>\n",
       "      <td>619</td>\n",
       "    </tr>\n",
       "    <tr>\n",
       "      <th>2</th>\n",
       "      <td>2019-08-03</td>\n",
       "      <td>A</td>\n",
       "      <td>507</td>\n",
       "    </tr>\n",
       "    <tr>\n",
       "      <th>3</th>\n",
       "      <td>2019-08-04</td>\n",
       "      <td>A</td>\n",
       "      <td>717</td>\n",
       "    </tr>\n",
       "    <tr>\n",
       "      <th>4</th>\n",
       "      <td>2019-08-05</td>\n",
       "      <td>A</td>\n",
       "      <td>756</td>\n",
       "    </tr>\n",
       "  </tbody>\n",
       "</table>\n",
       "</div>"
      ],
      "text/plain": [
       "         date group  visitors\n",
       "0  2019-08-01     A       719\n",
       "1  2019-08-02     A       619\n",
       "2  2019-08-03     A       507\n",
       "3  2019-08-04     A       717\n",
       "4  2019-08-05     A       756"
      ]
     },
     "execution_count": 11,
     "metadata": {},
     "output_type": "execute_result"
    }
   ],
   "source": [
    "visitors.head()"
   ]
  },
  {
   "cell_type": "code",
   "execution_count": 9,
   "metadata": {},
   "outputs": [],
   "source": [
    "#Чтобы часть столбцов в дальнейшем не скрывалась, настроим принудительное отображение\n",
    "pd.set_option('max_colwidth', 200)"
   ]
  },
  {
   "cell_type": "code",
   "execution_count": 13,
   "metadata": {},
   "outputs": [],
   "source": [
    "#приведем к нижнему регистру названия столбцов в датасете hypothesis\n",
    "hypothesis.columns = map(str.lower, hypothesis.columns)"
   ]
  },
  {
   "cell_type": "code",
   "execution_count": 14,
   "metadata": {},
   "outputs": [
    {
     "data": {
      "text/plain": [
       "['hypothesis', 'reach', 'impact', 'confidence', 'efforts']"
      ]
     },
     "execution_count": 14,
     "metadata": {},
     "output_type": "execute_result"
    }
   ],
   "source": [
    "#проверим названия столбцов\n",
    "hypothesis.columns.to_list()"
   ]
  },
  {
   "cell_type": "code",
   "execution_count": null,
   "metadata": {},
   "outputs": [],
   "source": [
    "# преобразуем данные о времени в датасете visitors\n",
    "visitors['date'] = visitors['date'].map(\n",
    "    lambda x: dt.datetime.strptime(x, '%Y-%m-%d')\n",
    ")\n",
    "# преобразуем данные о времени в датасете orders\n",
    "orders['date'] = orders['date'].map(\n",
    "    lambda x: dt.datetime.strptime(x, '%Y-%m-%d')\n",
    ")"
   ]
  },
  {
   "cell_type": "markdown",
   "metadata": {},
   "source": [
    "<div class=\"alert alert-success\">\n",
    "\n",
    "**✅Комментарий ревьюера**\n",
    "\n",
    "Молодец, что изменил типы данных и привел названия колонок к одному формату</div>"
   ]
  },
  {
   "cell_type": "markdown",
   "metadata": {},
   "source": [
    "Скорректировали названия столбцов(изменили регистр), изменили формат данных для дат. Дубликаты и пропуски не обнаружены. Можно переходить к анализу"
   ]
  },
  {
   "cell_type": "markdown",
   "metadata": {},
   "source": [
    "### Приоритизация гипотез\n",
    "**В полученном датасете 9 гипотез по увеличению выручки интернет-магазина с указанными параметрами Reach, Impact, Confidence, Effort**"
   ]
  },
  {
   "cell_type": "markdown",
   "metadata": {},
   "source": [
    "**Применение фреймворка ICE для приоритизации гипотез. Сортировка их по убыванию приоритета.**"
   ]
  },
  {
   "cell_type": "code",
   "execution_count": null,
   "metadata": {},
   "outputs": [],
   "source": [
    "hypothesis['ICE'] = (hypothesis['impact'] * hypothesis['confidence'] / hypothesis['efforts'])\n",
    "hypothesis[['hypothesis', 'ICE']].sort_values(by = 'ICE', ascending=False).round(2)"
   ]
  },
  {
   "cell_type": "markdown",
   "metadata": {},
   "source": [
    "Лидером получилась 8 гипотеза"
   ]
  },
  {
   "cell_type": "markdown",
   "metadata": {},
   "source": [
    "**Применение фреймворка RICE для приоритизации гипотез. Сортировка их по убыванию приоритета.**"
   ]
  },
  {
   "cell_type": "code",
   "execution_count": null,
   "metadata": {},
   "outputs": [],
   "source": [
    "hypothesis['RICE'] = (hypothesis['reach'] * hypothesis['impact'] * hypothesis['confidence'] / hypothesis['efforts'])\n",
    "hypothesis[['hypothesis', 'RICE']].sort_values(by = 'RICE', ascending=False).round(2)"
   ]
  },
  {
   "cell_type": "markdown",
   "metadata": {},
   "source": [
    "Лидером получилсь 7 гипотеза"
   ]
  },
  {
   "cell_type": "markdown",
   "metadata": {},
   "source": [
    "**Как изменилась приоритизация гипотез при применении RICE вместо ICE. Почему так произошло?**"
   ]
  },
  {
   "cell_type": "code",
   "execution_count": null,
   "metadata": {},
   "outputs": [],
   "source": [
    "#посмотримт на таблицу\n",
    "hypothesis.head(10)"
   ]
  },
  {
   "cell_type": "markdown",
   "metadata": {},
   "source": [
    "<div class=\"alert alert-success\">\n",
    "\n",
    "**✅Комментарий ревьюера**\n",
    "\n",
    "Верно посчитал значения фреймворков. Согласен с объяснениями различий</div>"
   ]
  },
  {
   "cell_type": "markdown",
   "metadata": {},
   "source": [
    "Пятерка лучших гипотез (0, 2, 6, 7, 8) осталась неизменной в методах ICE и RICE. Однако, при расчете RICE гипотеза 7 вышла на первое место, благодаря высокому показателю параметра охвата (Reach) равному 10. Это напоминает о необходимости учитывать количество пользователей, затронутых гипотезой, помимо ее силы приоритетности."
   ]
  },
  {
   "cell_type": "markdown",
   "metadata": {},
   "source": [
    "### Анализ А/В теста\n",
    "**После проведения А/В теста мы получили резальтаты которые хранятся в файлах orders и visitors**\n",
    "#### Построим график кумулятивной выручки по группам. Сделаем выводы и предположения."
   ]
  },
  {
   "cell_type": "code",
   "execution_count": null,
   "metadata": {
    "scrolled": false
   },
   "outputs": [],
   "source": [
    "orders.head()"
   ]
  },
  {
   "cell_type": "code",
   "execution_count": null,
   "metadata": {},
   "outputs": [],
   "source": [
    "visitors.head()"
   ]
  },
  {
   "cell_type": "code",
   "execution_count": null,
   "metadata": {},
   "outputs": [],
   "source": [
    "#Проверим, есть ли пользователи, которые попали в обе группы\n",
    "duplicates_users = np.intersect1d(orders.query('group == \"A\"')['visitorId'].unique(), orders.query('group == \"B\"')['visitorId'].unique())\n",
    "duplicates_users"
   ]
  },
  {
   "cell_type": "code",
   "execution_count": null,
   "metadata": {},
   "outputs": [],
   "source": [
    "#удалим пользователей, которые попали в обе группы\n",
    "orders = orders[~orders['visitorId'].isin(duplicates_users)]"
   ]
  },
  {
   "cell_type": "code",
   "execution_count": null,
   "metadata": {},
   "outputs": [],
   "source": [
    "#Проверяем\n",
    "np.intersect1d(orders.query('group == \"A\"')['visitorId'].unique(), orders.query('group == \"B\"')['visitorId'].unique())"
   ]
  },
  {
   "cell_type": "code",
   "execution_count": null,
   "metadata": {},
   "outputs": [],
   "source": [
    "#Соберем все данные в массив уникальных пар значений дат и групп теста\n",
    "dates_groups = orders[['date','group']].drop_duplicates()\n",
    "\n",
    "#далее, получаем агрегированные кумулятивные о заказах с разбивкой по дням\n",
    "orders_aggregated = dates_groups.apply(lambda x: orders[np.logical_and(orders['date'] <= x['date'], orders['group'] == x['group'])]. \\\n",
    "                                     agg({'date' : 'max', \n",
    "                                          'group' : 'max', \n",
    "                                          'transactionId' : pd.Series.nunique, \n",
    "                                          'visitorId' : pd.Series.nunique, \n",
    "                                          'revenue' : 'sum'}), axis=1).sort_values(by=['date','group'])\n",
    "\n",
    "#выведем агрегированные кумулятивные данные о посетителях интернет-магазина с разбивкой по дням\n",
    "visitors_aggregated = dates_groups.apply(lambda x: visitors[np.logical_and(visitors['date'] <= x['date'], visitors['group'] == x['group'])]. \\\n",
    "                                       agg({'date' : 'max', \n",
    "                                            'group' : 'max', \n",
    "                                            'visitors' : 'sum'}), axis=1).sort_values(by=['date','group'])\n",
    "\n",
    "#также, объединим кумулятивные данные в одной таблице и присвоим столбцам понятные названия\n",
    "cumulative_data = orders_aggregated.merge(visitors_aggregated, left_on=['date', 'group'], right_on=['date', 'group'])\n",
    "\n",
    "#Переименуем столбцы\n",
    "cumulative_data.columns = ['date', 'group', 'orders', 'buyers', 'revenue', 'visitors']\n",
    "\n",
    "cumulative_data.head(5)"
   ]
  },
  {
   "cell_type": "code",
   "execution_count": null,
   "metadata": {
    "scrolled": false
   },
   "outputs": [],
   "source": [
    "# датафрейм с кумулятивным количеством заказов и кумулятивной выручкой по дням в группе А\n",
    "cumulativeRevenueA = cumulative_data[cumulative_data['group']=='A'][['date','revenue', 'orders']]\n",
    "# датафрейм с кумулятивным количеством заказов и кумулятивной выручкой по дням в группе B\n",
    "cumulativeRevenueB = cumulative_data[cumulative_data['group']=='B'][['date','revenue', 'orders']]\n",
    "\n",
    "from pandas.plotting import register_matplotlib_converters\n",
    "register_matplotlib_converters()\n",
    "\n",
    "plt.figure(figsize=(15,5))\n",
    "#Строим график выручки группы А\n",
    "plt.plot(cumulativeRevenueA['date'], cumulativeRevenueA['revenue'], label='К.выручка группы A')\n",
    "#Строим график выручки группы B\n",
    "plt.plot(cumulativeRevenueB['date'], cumulativeRevenueB['revenue'], label='К.выручка группы B')\n",
    "plt.title('График кумулятивной выручки по группам\\n  ')\n",
    "plt.xlabel('\\nДата')\n",
    "plt.ylabel('Выручка\\n')\n",
    "plt.grid()\n",
    "plt.legend();"
   ]
  },
  {
   "cell_type": "markdown",
   "metadata": {},
   "source": [
    "Рост выручки в обеих группах примерно одинаков, а также в обеих группах происходит небольшой резкий скачок примерно в одно и то же время - 29 августа 2019 года. Стоит отметить этот момент для дальнейшего анализа."
   ]
  },
  {
   "cell_type": "markdown",
   "metadata": {},
   "source": [
    "#### Построим график кумулятивного среднего чека по группам. Сделаем выводы и предположения."
   ]
  },
  {
   "cell_type": "code",
   "execution_count": null,
   "metadata": {
    "scrolled": false
   },
   "outputs": [],
   "source": [
    "plt.figure(figsize=(15,5))\n",
    "plt.grid()\n",
    "plt.plot(cumulativeRevenueA['date'], cumulativeRevenueA['revenue']/cumulativeRevenueA['orders'], label='A')\n",
    "plt.plot(cumulativeRevenueB['date'], cumulativeRevenueB['revenue']/cumulativeRevenueB['orders'], label='B')\n",
    "plt.title('График кумулятивного среднего чека по группам\\n  ')\n",
    "plt.xlabel('\\nДата')\n",
    "plt.ylabel('Сумма среднего чека\\n')\n",
    "plt.legend() ;"
   ]
  },
  {
   "cell_type": "markdown",
   "metadata": {},
   "source": [
    "По графику видим, что значения среднего чека в обеих группах не являются стабильными и могут содержать выбросы, искажающие общую картину."
   ]
  },
  {
   "cell_type": "markdown",
   "metadata": {},
   "source": [
    "#### Постройте график относительного изменения кумулятивного среднего чека группы B к группе A. Сделайте выводы и предположения."
   ]
  },
  {
   "cell_type": "code",
   "execution_count": null,
   "metadata": {},
   "outputs": [],
   "source": [
    "# собираем данные в одном датафрейме\n",
    "mergedCumulativeRevenue = cumulativeRevenueA.merge(cumulativeRevenueB, left_on='date', right_on='date', how='left', suffixes=['A', 'B'])\n",
    "\n",
    "# cтроим отношение средних чеков\n",
    "plt.figure(figsize=(15,5))\n",
    "plt.grid()\n",
    "plt.plot(mergedCumulativeRevenue['date'], (mergedCumulativeRevenue['revenueB']/mergedCumulativeRevenue['ordersB'])/(mergedCumulativeRevenue['revenueA']/mergedCumulativeRevenue['ordersA'])-1)\n",
    "plt.title('График относительного изменения кумулятивного среднего чека группы B к группе A\\n  ')\n",
    "plt.xlabel('\\nДата')\n",
    "plt.ylabel('Изменение среденего чека \\n')\n",
    "# добавляем ось X\n",
    "plt.axhline(y=0, color='black', linestyle='--');"
   ]
  },
  {
   "cell_type": "markdown",
   "metadata": {},
   "source": [
    "Средние чеки в обеих группах не являются стабильными, так как могут содержать выбросы, искажающие общую картину. Это подтверждается графиком относительного различия в среднем чеке между группами, где видно значительное изменение значений в определенные даты, вероятно, из-за совершения аномальных заказов."
   ]
  },
  {
   "cell_type": "markdown",
   "metadata": {},
   "source": [
    "#### Постройте график кумулятивного среднего количества заказов на посетителя по группам. Сделайте выводы и предположения."
   ]
  },
  {
   "cell_type": "code",
   "execution_count": null,
   "metadata": {},
   "outputs": [],
   "source": [
    "# считаем кумулятивную конверсию\n",
    "cumulative_data['conversion'] = cumulative_data['orders']/cumulative_data['visitors']\n",
    "\n",
    "# отделяем данные по группе A\n",
    "cumulativeDataA = cumulative_data[cumulative_data['group']=='A']\n",
    "\n",
    "# отделяем данные по группе B\n",
    "cumulativeDataB = cumulative_data[cumulative_data['group']=='B']\n",
    "\n",
    "# строим графики\n",
    "plt.figure(figsize=(15,5))\n",
    "plt.grid()\n",
    "plt.plot(cumulativeDataA['date'], cumulativeDataA['conversion'], label='A')\n",
    "plt.plot(cumulativeDataB['date'], cumulativeDataB['conversion'], label='B')\n",
    "plt.legend()\n",
    "plt.title('График кумулятивной конверсии по группам\\n  ')\n",
    "plt.xlabel('\\nДата')\n",
    "plt.ylabel('Конверсия\\n')\n",
    "# задаем масштаб осей\n",
    "plt.axis([dt.datetime(2019, 8, 1), dt.datetime(2019, 9, 1), 0, 0.05]);"
   ]
  },
  {
   "cell_type": "markdown",
   "metadata": {},
   "source": [
    "Изначально конверсия в сегменте А была выше, однако позднее конверсия в сегменте В выровнялась и зафиксировалась на более высоком уровне, чем в сегменте А."
   ]
  },
  {
   "cell_type": "markdown",
   "metadata": {},
   "source": [
    "#### Построим график относительного изменения кумулятивного среднего количества заказов на посетителя группы B к группе A. Сделаем выводы и предположения."
   ]
  },
  {
   "cell_type": "code",
   "execution_count": null,
   "metadata": {
    "scrolled": false
   },
   "outputs": [],
   "source": [
    "mergedCumulativeConversions = cumulativeDataA[['date','conversion']].merge(cumulativeDataB[['date','conversion']], left_on='date', right_on='date', how='left', suffixes=['A', 'B'])\n",
    "plt.figure(figsize=(15,5))\n",
    "plt.grid()\n",
    "plt.plot(mergedCumulativeConversions['date'], mergedCumulativeConversions['conversionB']/mergedCumulativeConversions['conversionA']-1, label=\"Относительный прирост конверсии группы B относительно группы A\")\n",
    "plt.legend()\n",
    "\n",
    "plt.axhline(y=0, color='black', linestyle='--')\n",
    "plt.axhline(y=0.2, color='red', linestyle='--')\n",
    "plt.axis([\"2019-08-01\", '2019-09-01', -0.4, 0.4])\n",
    "plt.title('График относительного изменения кумулятивной конверсии группы B к группе A\\n  ')\n",
    "plt.xlabel('\\nДата')\n",
    "plt.ylabel('Относительное изменение конверсии\\n');"
   ]
  },
  {
   "cell_type": "markdown",
   "metadata": {},
   "source": [
    "Практически с самого начала группа В лидирует по конверсии и приняла стибальные +15% относительно группы А."
   ]
  },
  {
   "cell_type": "markdown",
   "metadata": {},
   "source": [
    "#### Постройте точечный график количества заказов по пользователям. Сделайте выводы и предположения."
   ]
  },
  {
   "cell_type": "code",
   "execution_count": null,
   "metadata": {},
   "outputs": [],
   "source": [
    "ordersByUsers = orders.drop(['group', 'revenue', 'date'], axis=1).groupby('visitorId', as_index=False). \\\n",
    "                                                                        agg({'transactionId' : pd.Series.nunique})\n",
    "\n",
    "ordersByUsers.columns = ['user_id','orders']\n",
    "\n",
    "ordersByUsers.sort_values(by='orders',ascending=False).head(10)\n",
    "\n",
    "# серия из чисел от 0 до количества наблюдений в ordersByUsers\n",
    "plt.figure(figsize=(15,5))\n",
    "plt.grid()\n",
    "plt.title('График количества заказов по пользователям\\n  ')\n",
    "plt.xlabel('\\nКол-во пользователей')\n",
    "plt.ylabel('Кол-во заказов\\n')\n",
    "x_values = pd.Series(range(0, len(ordersByUsers)))\n",
    "plt.scatter(x_values, ordersByUsers['orders']);"
   ]
  },
  {
   "cell_type": "markdown",
   "metadata": {},
   "source": [
    "Самое большое количество заказов - 1. Совершивших более 2 заказов гораздо меньше. Совершивших 3 заказа единицы. Возможно это и будет являться выбросом"
   ]
  },
  {
   "cell_type": "markdown",
   "metadata": {},
   "source": [
    "#### Посчитаем 95-й и 99-й перцентили количества заказов на пользователя. Выберем границу для определения аномальных пользователей."
   ]
  },
  {
   "cell_type": "code",
   "execution_count": null,
   "metadata": {},
   "outputs": [],
   "source": [
    "print(np.percentile(ordersByUsers['orders'], [95, 99])) "
   ]
  },
  {
   "cell_type": "markdown",
   "metadata": {},
   "source": [
    "95% совершают не более 1 заказов. 99% совершают 2 заказа. Аномальным будем считать все, что более этого"
   ]
  },
  {
   "cell_type": "markdown",
   "metadata": {},
   "source": [
    "#### Построим точечный график стоимостей заказов. Сделаем выводы и предположения."
   ]
  },
  {
   "cell_type": "code",
   "execution_count": null,
   "metadata": {},
   "outputs": [],
   "source": [
    "x_values = pd.Series(range(0,len(orders['revenue'])))\n",
    "plt.figure(figsize=(15,5))\n",
    "plt.grid()\n",
    "plt.title('График стоимостей заказов\\n ')\n",
    "plt.xlabel('\\nКол-во пользователей')\n",
    "plt.ylabel('Стоимость заказа\\n')\n",
    "plt.scatter(x_values, orders['revenue'], alpha=0.3);"
   ]
  },
  {
   "cell_type": "markdown",
   "metadata": {},
   "source": [
    "График имеет несколько выбросов, что затрудняет его анализ.\n",
    "\n",
    "Для получения более точной картины, необходимо удалить явные выбросы в значениях 'revenue', превышающие 200000."
   ]
  },
  {
   "cell_type": "code",
   "execution_count": null,
   "metadata": {},
   "outputs": [],
   "source": [
    "#Посмотрим точные суммы аномальных заказов для выбора\n",
    "orders['revenue'].sort_values().tail()"
   ]
  },
  {
   "cell_type": "markdown",
   "metadata": {},
   "source": [
    "В данных обнаружены два аномальных заказа: один на сумму 1294500, а второй на 202740."
   ]
  },
  {
   "cell_type": "code",
   "execution_count": null,
   "metadata": {},
   "outputs": [],
   "source": [
    "#отберем заказы стоимость которых меньше 200000\n",
    "norm_orders = orders[orders['revenue']<=200000]['revenue']\n",
    "xn_values = pd.Series(range(0,len(norm_orders)))\n",
    "plt.figure(figsize=(15,5))\n",
    "plt.grid()\n",
    "plt.title('График стоимостей заказов')\n",
    "plt.xlabel('\\nКол-во пользователей')\n",
    "plt.ylabel('Стоимость заказа\\n')\n",
    "plt.scatter(xn_values, norm_orders, alpha=0.5);"
   ]
  },
  {
   "cell_type": "markdown",
   "metadata": {},
   "source": [
    "Большинство заказов не превышают 200000, но были обнаружены два необычных заказа на суммы 1294500 и 202740. Чтобы получить более точное представление о распределении заказов, можно использовать перцентили."
   ]
  },
  {
   "cell_type": "markdown",
   "metadata": {},
   "source": [
    "#### Посчитаем 95-й и 99-й перцентили стоимости заказов. Выберем границу для определения аномальных заказов."
   ]
  },
  {
   "cell_type": "code",
   "execution_count": null,
   "metadata": {
    "scrolled": true
   },
   "outputs": [],
   "source": [
    "np.percentile(orders['revenue'], [95, 99])"
   ]
  },
  {
   "cell_type": "markdown",
   "metadata": {},
   "source": [
    "Не более чем у 95% заказов чек выше 26 785 рублей, и не более чем у 1% дороже 53 904 рублей. Границей определения аномальных заказов установим планку 53 904."
   ]
  },
  {
   "cell_type": "markdown",
   "metadata": {},
   "source": [
    "#### Посчитаем статистическую значимость различий в среднем количестве заказов на посетителя между группами по «сырым» данным. Сделаем выводы и предположения."
   ]
  },
  {
   "cell_type": "markdown",
   "metadata": {},
   "source": [
    "Подготовим данные. Соберем в общую талицу все необходимые данные по заказам и визитам пользователей, добавив при этом кумулятивные показатели"
   ]
  },
  {
   "cell_type": "code",
   "execution_count": null,
   "metadata": {},
   "outputs": [],
   "source": [
    "orders.sample()"
   ]
  },
  {
   "cell_type": "code",
   "execution_count": null,
   "metadata": {},
   "outputs": [],
   "source": [
    "visitors.sample()"
   ]
  },
  {
   "cell_type": "code",
   "execution_count": null,
   "metadata": {},
   "outputs": [],
   "source": [
    "visitorsADaily = visitors[visitors['group']=='A'][['date', 'visitors']]\n",
    "visitorsADaily.columns = ['date', 'visitorsPerDateA']\n",
    "\n",
    "visitorsACummulative = visitorsADaily.apply(lambda x: visitorsADaily[visitorsADaily['date'] <= x['date']]. \\\n",
    "                                            agg({'date' : 'max', 'visitorsPerDateA' : 'sum'}), axis=1)\n",
    "visitorsACummulative.columns = ['date', 'visitorsCummulativeA']\n",
    "\n",
    "visitorsBDaily = visitors[visitors['group']=='B'][['date', 'visitors']]\n",
    "visitorsBDaily.columns = ['date', 'visitorsPerDateB']\n",
    "\n",
    "visitorsBCummulative = visitorsBDaily.apply(lambda x: visitorsBDaily[visitorsBDaily['date'] <= x['date']]. \\\n",
    "                                            agg({'date' : 'max', 'visitorsPerDateB' : 'sum'}), axis=1)\n",
    "visitorsBCummulative.columns = ['date', 'visitorsCummulativeB']\n",
    "ordersADaily = orders[orders['group']=='A'][['date', 'transactionId', 'visitorId', 'revenue']]\\\n",
    "    .groupby('date', as_index=False)\\\n",
    "    .agg({'transactionId' : pd.Series.nunique, 'revenue' : 'sum'})\n",
    "ordersADaily.columns = ['date', 'ordersPerDateA', 'revenuePerDateA']\n",
    "\n",
    "ordersACummulative = ordersADaily.apply(\n",
    "    lambda x: \\\n",
    "        ordersADaily[ordersADaily['date'] <= x['date']]\\\n",
    "            .agg({\n",
    "                'date' : 'max',\n",
    "                'ordersPerDateA' : 'sum',\n",
    "                'revenuePerDateA' : 'sum'}), axis=1).sort_values(by=['date'])\n",
    "ordersACummulative.columns = ['date', 'ordersCummulativeA', 'revenueCummulativeA']\n",
    "\n",
    "ordersBDaily = orders[orders['group']=='B'][['date', 'transactionId', 'visitorId', 'revenue']]\\\n",
    "    .groupby('date', as_index=False)\\\n",
    "    .agg({'transactionId' : pd.Series.nunique, 'revenue' : 'sum'})\n",
    "ordersBDaily.columns = ['date', 'ordersPerDateB', 'revenuePerDateB']\n",
    "\n",
    "ordersBCummulative = ordersBDaily.apply(\n",
    "    lambda x: \\\n",
    "        ordersBDaily[ordersBDaily['date'] <= x['date']]\\\n",
    "            .agg({\n",
    "                'date' : 'max',\n",
    "                'ordersPerDateB' : 'sum',\n",
    "                'revenuePerDateB' : 'sum'}), axis=1).sort_values(by=['date'])\n",
    "ordersBCummulative.columns = ['date', 'ordersCummulativeB', 'revenueCummulativeB']\n",
    "data = ordersADaily.merge(ordersBDaily, left_on='date', right_on='date', how='left')\\\n",
    "    .merge(ordersACummulative, left_on='date', right_on='date', how='left')\\\n",
    "    .merge(ordersBCummulative, left_on='date', right_on='date', how='left')\\\n",
    "    .merge(visitorsADaily, left_on='date', right_on='date', how='left')\\\n",
    "    .merge(visitorsBDaily, left_on='date', right_on='date', how='left')\\\n",
    "    .merge(visitorsACummulative, left_on='date', right_on='date', how='left')\\\n",
    "    .merge(visitorsBCummulative, left_on='date', right_on='date', how='left')\n",
    "data.head()"
   ]
  },
  {
   "cell_type": "markdown",
   "metadata": {},
   "source": [
    "Теперь имеем возможность посчитать статистическую значимость различия в конверсии между группами. Создаем переменные  ordersByUsersA и ordersByUsersB со столбцами userId, ordersId"
   ]
  },
  {
   "cell_type": "code",
   "execution_count": null,
   "metadata": {},
   "outputs": [],
   "source": [
    "ordersByUsersA = orders[orders['group']=='A'].groupby('visitorId', as_index=False).agg({'transactionId' : pd.Series.nunique})\n",
    "ordersByUsersA.columns = ['userId', 'orders']\n",
    "\n",
    "ordersByUsersB = orders[orders['group']=='B'].groupby('visitorId', as_index=False).agg({'transactionId' : pd.Series.nunique})\n",
    "ordersByUsersB.columns = ['userId', 'orders']"
   ]
  },
  {
   "cell_type": "markdown",
   "metadata": {},
   "source": [
    "Для проведения проверки критерием Манна-Уитни необходимо создать переменные sampleA и sampleB, в которых будет содержаться количество заказов, сделанных пользователями из разных групп. Если пользователь не сделал ни одного заказа, то его значение будет равно нулю."
   ]
  },
  {
   "cell_type": "code",
   "execution_count": null,
   "metadata": {},
   "outputs": [],
   "source": [
    "sampleA = pd.concat([ordersByUsersA['orders'],pd.Series(0, index=np.arange(data['visitorsPerDateA'].sum() - len(ordersByUsersA['orders'])), name='orders')],axis=0)\n",
    "\n",
    "sampleB = pd.concat([ordersByUsersB['orders'],pd.Series(0, index=np.arange(data['visitorsPerDateB'].sum() - len(ordersByUsersB['orders'])), name='orders')],axis=0)"
   ]
  },
  {
   "cell_type": "markdown",
   "metadata": {},
   "source": [
    "* Нулевая гипотеза H0 - статистически значимых различий в конверсиях между группами нет\n",
    "* Альтернативная гипотеза H1 - статистически значимые различия есть"
   ]
  },
  {
   "cell_type": "code",
   "execution_count": null,
   "metadata": {},
   "outputs": [],
   "source": [
    "#Применим критерий и отформатируем p-value, округлив его до трёх знаков после запятой\n",
    "alpha = 0.05\n",
    "print(\"p-value = {0:.3f}\".format(st.mannwhitneyu(sampleA, sampleB, alternative = 'two-sided')[1]))\n",
    "print(\"относительный прирост конверсии группы B = {0:.3f}\".format(sampleB.mean()/sampleA.mean()-1)) "
   ]
  },
  {
   "cell_type": "markdown",
   "metadata": {},
   "source": [
    "Мы применили критерий Манна-Уитни для проверки гипотезы о равенстве конверсии в двух группах. Полученное значение p-value равно 0.011, что больше заданного уровня значимости alpha = 0.05. Следовательно, мы отвергаем нулевую гипотезу о равенстве конверсии между группами. Относительный прирост конверсии группы В к А равен 16%."
   ]
  },
  {
   "cell_type": "markdown",
   "metadata": {},
   "source": [
    "#### Посчитаем статистическую значимость различий в среднем чеке заказа между группами по «сырым» данным. Сделаем выводы и предположения."
   ]
  },
  {
   "cell_type": "markdown",
   "metadata": {},
   "source": [
    "* Нулевая гипотеза H0 - статистически значимых различий в среднем чеке между группами нет\n",
    "* Альтернативная гипотеза H1 - статистически значимые различия есть"
   ]
  },
  {
   "cell_type": "code",
   "execution_count": null,
   "metadata": {},
   "outputs": [],
   "source": [
    "alpha = 0.05\n",
    "print(\"p-value = {0:.3f}\".format(st.mannwhitneyu(orders[orders['group']=='A']['revenue'], orders[orders['group']=='B']['revenue'], alternative = 'two-sided')[1]))\n",
    "print(\"Относительный показатель 'B' и 'A' = {0:.3f}\".format(orders[orders['group']=='B']['revenue'].mean()/orders[orders['group']=='A']['revenue'].mean()-1)) "
   ]
  },
  {
   "cell_type": "markdown",
   "metadata": {},
   "source": [
    "P-value равный 0.829 говорит о том, что вероятность получить различия между группами случайно составляет 82.9%. Это говорит о том, что статистически значимых различий между группами нет. По \"сырым\" данным чеки похожи.\n",
    "\n",
    "Относительный прирост конверсии группы B на 28.7% может свидетельствовать о том, что внедренное изменение на сайте (если такое было) положительно повлияло на конверсию. Однако, для более точной оценки необходимо также учитывать другие факторы, которые могут влиять на конверсию."
   ]
  },
  {
   "cell_type": "markdown",
   "metadata": {},
   "source": [
    "#### Посчитаем статистическую значимость различий в среднем количестве заказов на посетителя между группами по «очищенным» данным. Сделаем выводы и предположения."
   ]
  },
  {
   "cell_type": "markdown",
   "metadata": {},
   "source": [
    "Подготовим данные, очищенные от аномалий.\n",
    "В прошлых вычислениях мы определили пользователей как аномальных, если они:\n",
    "* совершили 3 и более заказов\n",
    "* заказали товары на сумму более 53 904 рублей\n",
    "\n",
    "Сделаем срезы пользователей:\n",
    "\n",
    "* с числом заказов больше 2 — usersWithManyOrders\n",
    "* совершивших заказы дороже 53904 — usersWithExpensiveOrders.\n",
    "\n",
    "Посмотрим на количество аномлаьных пользователей при помощи метода shape().\n",
    "Тут нужно отобрать свои данные и подставить в код"
   ]
  },
  {
   "cell_type": "code",
   "execution_count": null,
   "metadata": {},
   "outputs": [],
   "source": [
    "usersWithManyOrders = pd.concat([ordersByUsersA[ordersByUsersA['orders'] > 2]['userId'], ordersByUsersB[ordersByUsersB['orders'] > 2]['userId']], axis = 0)\n",
    "usersWithExpensiveOrders = orders[orders['revenue'] > 53904]['visitorId']\n",
    "abnormalUsers = pd.concat([usersWithManyOrders, usersWithExpensiveOrders], axis = 0).drop_duplicates().sort_values()\n",
    "display(abnormalUsers.head(5))\n",
    "print(\"Всего аномальных пользователей =\" ,len(abnormalUsers)) "
   ]
  },
  {
   "cell_type": "markdown",
   "metadata": {},
   "source": [
    "Всего 16 аномальных пользователей. Посмотрим, как изменятся расчет без их участия"
   ]
  },
  {
   "cell_type": "code",
   "execution_count": null,
   "metadata": {},
   "outputs": [],
   "source": [
    "sampleAFiltered = pd.concat([ordersByUsersA[np.logical_not(ordersByUsersA['userId'].isin(abnormalUsers))]['orders'], \\\n",
    "                             pd.Series(0, index=np.arange(data['visitorsPerDateA'].sum() - len(ordersByUsersA['orders'])), \\\n",
    "                                       name='orders')],axis=0)\n",
    "\n",
    "sampleBFiltered = pd.concat([ordersByUsersB[np.logical_not(ordersByUsersB['userId'].isin(abnormalUsers))]['orders'], \\\n",
    "                             pd.Series(0, index=np.arange(data['visitorsPerDateB'].sum() - len(ordersByUsersB['orders'])), \\\n",
    "                                       name='orders')],axis=0) "
   ]
  },
  {
   "cell_type": "markdown",
   "metadata": {},
   "source": [
    "* Нулевая гипотеза H0 - статистически значимых различий в конверсиях между группами нет\n",
    "* Альтернативная гипотеза H1 - статистически значимые различия есть"
   ]
  },
  {
   "cell_type": "code",
   "execution_count": null,
   "metadata": {},
   "outputs": [],
   "source": [
    "#Применим статистический критерий Манна-Уитни к полученным выборкам\n",
    "alpha = 0.05\n",
    "print(\"p-value = {0:.3f}\".format(st.mannwhitneyu(sampleAFiltered, sampleBFiltered, alternative = 'two-sided')[1]))\n",
    "print(\"Относительный показатель 'B' и 'A' = {0:.3f}\".format(sampleBFiltered.mean()/sampleAFiltered.mean()-1)) "
   ]
  },
  {
   "cell_type": "markdown",
   "metadata": {},
   "source": [
    "Уровень значимости (p-value) равен 0.013, что означает, что что статистически значимых различий в конверсии между группами нет Следовательно, мы отвергаем нулевую гипотезу. Это значит: по «очищенным» данным в конверсии групп A и B есть статистически значимые различия. А относительный выигрыш группы \"B\" над \"A\" равен почти 19% (выше, чем с «сырыми» данными - 16%)"
   ]
  },
  {
   "cell_type": "markdown",
   "metadata": {},
   "source": [
    "#### Посчитаем статистическую значимость различий в среднем чеке заказа между группами по «очищенным» данным. Сделаем выводы и предположения."
   ]
  },
  {
   "cell_type": "markdown",
   "metadata": {},
   "source": [
    "* Нулевая гипотеза H0 - статистически значимых различий в среднем чеке между группами нет\n",
    "* Альтернативная гипотеза H1 - статистически значимые различия есть"
   ]
  },
  {
   "cell_type": "code",
   "execution_count": null,
   "metadata": {},
   "outputs": [],
   "source": [
    "print(\"alpha =\",0.05)\n",
    "print(\"p-value = {0:.3f}\".format(st.mannwhitneyu(\n",
    "    orders[np.logical_and(\n",
    "        orders['group']=='A',\n",
    "        np.logical_not(orders['visitorId'].isin(abnormalUsers)))]['revenue'],\n",
    "    orders[np.logical_and(\n",
    "        orders['group']=='B',\n",
    "        np.logical_not(orders['visitorId'].isin(abnormalUsers)))]['revenue'], alternative = 'two-sided')[1]))\n",
    "\n",
    "print(\"Относительный показатель В и А = {0:.3f}\".format(\n",
    "    orders[np.logical_and(orders['group']=='B',np.logical_not(orders['visitorId'].isin(abnormalUsers)))]['revenue'].mean()/\n",
    "    orders[np.logical_and(\n",
    "        orders['group']=='A',\n",
    "        np.logical_not(orders['visitorId'].isin(abnormalUsers)))]['revenue'].mean() - 1)) "
   ]
  },
  {
   "cell_type": "markdown",
   "metadata": {},
   "source": [
    "Уровень значимости (p-value) равен 0.788, и поэтому мы можем считать, что в среднем чеке нет различий(как и с \"сырыми\" данными). Но вот средй чек группы В оказался незначительно(3%) ниже среднего чека группы А, в то время как по сырым данным, он был почти на 29% пбольше. Вот таким образом ощутимо повлияли на результаты наши аномальные заказы с большими суммами."
   ]
  },
  {
   "cell_type": "markdown",
   "metadata": {},
   "source": [
    "#### Примите решение по результатам теста и объясните его. Варианты решений:\n",
    "1. Остановить тест, зафиксировать победу одной из групп.\n",
    "2. Остановить тест, зафиксировать отсутствие различий между группами.\n",
    "3. Продолжить тест."
   ]
  },
  {
   "cell_type": "markdown",
   "metadata": {},
   "source": [
    "После анализа данных, мы узнали, что группа В показала повышение конверсии на 19% в \"очищенных\" данных и на 16% в \"сырых\" данных. Средние чеки групп примерно равны в \"очищенных данных\". Рекомендуем закончить А/В тест и закрепить победу группы В по конверсии. В дальнейшем, отдел маркетинга может приступить к стимулированию увеличения среднего чека."
   ]
  }
 ],
 "metadata": {
  "ExecuteTimeLog": [
   {
    "duration": 77,
    "start_time": "2023-04-30T13:18:28.831Z"
   },
   {
    "duration": 39,
    "start_time": "2023-04-30T13:20:47.510Z"
   },
   {
    "duration": 409,
    "start_time": "2023-04-30T13:20:51.641Z"
   },
   {
    "duration": 37,
    "start_time": "2023-04-30T13:25:10.049Z"
   },
   {
    "duration": 9,
    "start_time": "2023-04-30T13:25:24.128Z"
   },
   {
    "duration": 407,
    "start_time": "2023-04-30T13:25:30.996Z"
   },
   {
    "duration": 515,
    "start_time": "2023-04-30T13:29:48.807Z"
   },
   {
    "duration": 72,
    "start_time": "2023-04-30T13:31:56.172Z"
   },
   {
    "duration": 107,
    "start_time": "2023-04-30T13:34:00.415Z"
   },
   {
    "duration": 69,
    "start_time": "2023-04-30T13:34:18.619Z"
   },
   {
    "duration": 251,
    "start_time": "2023-04-30T13:36:31.140Z"
   },
   {
    "duration": 126,
    "start_time": "2023-04-30T13:37:23.902Z"
   },
   {
    "duration": 127,
    "start_time": "2023-04-30T13:37:29.251Z"
   },
   {
    "duration": 128,
    "start_time": "2023-04-30T13:39:00.442Z"
   },
   {
    "duration": 134,
    "start_time": "2023-04-30T13:39:16.393Z"
   },
   {
    "duration": 109,
    "start_time": "2023-04-30T13:39:40.148Z"
   },
   {
    "duration": 1220,
    "start_time": "2023-04-30T13:45:37.774Z"
   },
   {
    "duration": 1244,
    "start_time": "2023-04-30T13:46:42.454Z"
   },
   {
    "duration": 1205,
    "start_time": "2023-04-30T13:47:04.501Z"
   },
   {
    "duration": 10,
    "start_time": "2023-04-30T13:47:45.573Z"
   },
   {
    "duration": 8,
    "start_time": "2023-04-30T13:47:52.372Z"
   },
   {
    "duration": 4,
    "start_time": "2023-04-30T13:48:12.237Z"
   },
   {
    "duration": 10,
    "start_time": "2023-04-30T13:48:14.443Z"
   },
   {
    "duration": 1253,
    "start_time": "2023-04-30T13:48:20.990Z"
   },
   {
    "duration": 142,
    "start_time": "2023-04-30T13:48:22.247Z"
   },
   {
    "duration": 14,
    "start_time": "2023-04-30T13:48:22.391Z"
   },
   {
    "duration": 20,
    "start_time": "2023-04-30T13:48:22.408Z"
   },
   {
    "duration": 4,
    "start_time": "2023-04-30T13:48:22.430Z"
   },
   {
    "duration": 20,
    "start_time": "2023-04-30T13:48:22.436Z"
   },
   {
    "duration": 11,
    "start_time": "2023-04-30T13:50:57.699Z"
   },
   {
    "duration": 8,
    "start_time": "2023-04-30T13:50:59.019Z"
   },
   {
    "duration": 105,
    "start_time": "2023-04-30T13:51:00.171Z"
   },
   {
    "duration": 9,
    "start_time": "2023-04-30T13:51:01.499Z"
   },
   {
    "duration": 11,
    "start_time": "2023-04-30T13:51:15.156Z"
   },
   {
    "duration": 7,
    "start_time": "2023-04-30T13:51:16.475Z"
   },
   {
    "duration": 3,
    "start_time": "2023-04-30T13:51:38.291Z"
   },
   {
    "duration": 4,
    "start_time": "2023-04-30T13:51:39.107Z"
   },
   {
    "duration": 88,
    "start_time": "2023-04-30T13:54:42.514Z"
   },
   {
    "duration": 17,
    "start_time": "2023-04-30T13:57:19.739Z"
   },
   {
    "duration": 16,
    "start_time": "2023-04-30T13:57:22.408Z"
   },
   {
    "duration": 10,
    "start_time": "2023-04-30T14:01:45.206Z"
   },
   {
    "duration": 6,
    "start_time": "2023-04-30T14:02:14.516Z"
   },
   {
    "duration": 11,
    "start_time": "2023-04-30T14:02:20.144Z"
   },
   {
    "duration": 12,
    "start_time": "2023-04-30T14:02:24.094Z"
   },
   {
    "duration": 13,
    "start_time": "2023-04-30T14:02:27.773Z"
   },
   {
    "duration": 1195,
    "start_time": "2023-04-30T14:02:36.179Z"
   },
   {
    "duration": 123,
    "start_time": "2023-04-30T14:02:37.376Z"
   },
   {
    "duration": 18,
    "start_time": "2023-04-30T14:02:37.502Z"
   },
   {
    "duration": 29,
    "start_time": "2023-04-30T14:02:37.523Z"
   },
   {
    "duration": 15,
    "start_time": "2023-04-30T14:02:37.554Z"
   },
   {
    "duration": 11,
    "start_time": "2023-04-30T14:02:37.571Z"
   },
   {
    "duration": 13,
    "start_time": "2023-04-30T14:02:37.585Z"
   },
   {
    "duration": 13,
    "start_time": "2023-04-30T14:02:37.600Z"
   },
   {
    "duration": 14,
    "start_time": "2023-04-30T14:02:37.615Z"
   },
   {
    "duration": 25,
    "start_time": "2023-04-30T14:02:37.632Z"
   },
   {
    "duration": 22,
    "start_time": "2023-04-30T14:02:37.659Z"
   },
   {
    "duration": 13,
    "start_time": "2023-04-30T14:02:37.683Z"
   },
   {
    "duration": 13,
    "start_time": "2023-04-30T14:02:37.698Z"
   },
   {
    "duration": 9,
    "start_time": "2023-04-30T14:08:29.851Z"
   },
   {
    "duration": 7,
    "start_time": "2023-04-30T14:08:36.246Z"
   },
   {
    "duration": 10,
    "start_time": "2023-04-30T14:08:45.902Z"
   },
   {
    "duration": 1584,
    "start_time": "2023-04-30T15:45:06.534Z"
   },
   {
    "duration": 22,
    "start_time": "2023-04-30T15:47:25.852Z"
   },
   {
    "duration": 4,
    "start_time": "2023-04-30T15:47:33.421Z"
   },
   {
    "duration": 21,
    "start_time": "2023-04-30T16:31:14.544Z"
   },
   {
    "duration": 328,
    "start_time": "2023-04-30T16:31:23.747Z"
   },
   {
    "duration": 348,
    "start_time": "2023-04-30T16:32:25.047Z"
   },
   {
    "duration": 300,
    "start_time": "2023-04-30T16:36:07.724Z"
   },
   {
    "duration": 292,
    "start_time": "2023-04-30T16:36:16.359Z"
   },
   {
    "duration": 312,
    "start_time": "2023-04-30T16:36:20.458Z"
   },
   {
    "duration": 10,
    "start_time": "2023-04-30T16:36:40.975Z"
   },
   {
    "duration": 306,
    "start_time": "2023-04-30T16:36:41.751Z"
   },
   {
    "duration": 283,
    "start_time": "2023-04-30T16:36:42.909Z"
   },
   {
    "duration": 1174,
    "start_time": "2023-04-30T16:38:16.151Z"
   },
   {
    "duration": 132,
    "start_time": "2023-04-30T16:38:17.328Z"
   },
   {
    "duration": 15,
    "start_time": "2023-04-30T16:38:17.462Z"
   },
   {
    "duration": 16,
    "start_time": "2023-04-30T16:38:17.480Z"
   },
   {
    "duration": 13,
    "start_time": "2023-04-30T16:38:17.498Z"
   },
   {
    "duration": 21,
    "start_time": "2023-04-30T16:38:17.513Z"
   },
   {
    "duration": 15,
    "start_time": "2023-04-30T16:38:17.555Z"
   },
   {
    "duration": 20,
    "start_time": "2023-04-30T16:38:17.571Z"
   },
   {
    "duration": 16,
    "start_time": "2023-04-30T16:38:17.594Z"
   },
   {
    "duration": 13,
    "start_time": "2023-04-30T16:38:17.613Z"
   },
   {
    "duration": 32,
    "start_time": "2023-04-30T16:38:17.628Z"
   },
   {
    "duration": 15,
    "start_time": "2023-04-30T16:38:17.661Z"
   },
   {
    "duration": 30,
    "start_time": "2023-04-30T16:38:17.677Z"
   },
   {
    "duration": 81,
    "start_time": "2023-04-30T16:38:17.708Z"
   },
   {
    "duration": 11,
    "start_time": "2023-04-30T16:38:17.791Z"
   },
   {
    "duration": 28,
    "start_time": "2023-04-30T16:38:17.804Z"
   },
   {
    "duration": 5,
    "start_time": "2023-04-30T16:38:17.834Z"
   },
   {
    "duration": 275,
    "start_time": "2023-04-30T16:38:17.841Z"
   },
   {
    "duration": 311,
    "start_time": "2023-04-30T16:38:18.118Z"
   },
   {
    "duration": 419,
    "start_time": "2023-04-30T16:39:12.333Z"
   },
   {
    "duration": 295,
    "start_time": "2023-04-30T16:39:54.221Z"
   },
   {
    "duration": 513,
    "start_time": "2023-04-30T16:40:01.868Z"
   },
   {
    "duration": 1237,
    "start_time": "2023-04-30T16:40:06.159Z"
   },
   {
    "duration": 122,
    "start_time": "2023-04-30T16:40:07.398Z"
   },
   {
    "duration": 12,
    "start_time": "2023-04-30T16:40:07.522Z"
   },
   {
    "duration": 15,
    "start_time": "2023-04-30T16:40:07.536Z"
   },
   {
    "duration": 12,
    "start_time": "2023-04-30T16:40:07.554Z"
   },
   {
    "duration": 16,
    "start_time": "2023-04-30T16:40:07.568Z"
   },
   {
    "duration": 26,
    "start_time": "2023-04-30T16:40:07.586Z"
   },
   {
    "duration": 13,
    "start_time": "2023-04-30T16:40:07.613Z"
   },
   {
    "duration": 4,
    "start_time": "2023-04-30T16:40:07.629Z"
   },
   {
    "duration": 6,
    "start_time": "2023-04-30T16:40:07.635Z"
   },
   {
    "duration": 16,
    "start_time": "2023-04-30T16:40:07.657Z"
   },
   {
    "duration": 14,
    "start_time": "2023-04-30T16:40:07.674Z"
   },
   {
    "duration": 17,
    "start_time": "2023-04-30T16:40:07.691Z"
   },
   {
    "duration": 10,
    "start_time": "2023-04-30T16:40:07.711Z"
   },
   {
    "duration": 46,
    "start_time": "2023-04-30T16:40:07.722Z"
   },
   {
    "duration": 22,
    "start_time": "2023-04-30T16:40:07.771Z"
   },
   {
    "duration": 5,
    "start_time": "2023-04-30T16:40:07.795Z"
   },
   {
    "duration": 371,
    "start_time": "2023-04-30T16:40:07.802Z"
   },
   {
    "duration": 345,
    "start_time": "2023-04-30T16:40:08.175Z"
   },
   {
    "duration": 212,
    "start_time": "2023-04-30T16:42:18.511Z"
   },
   {
    "duration": 2,
    "start_time": "2023-04-30T17:47:50.947Z"
   },
   {
    "duration": 310,
    "start_time": "2023-04-30T17:48:06.907Z"
   },
   {
    "duration": 1297,
    "start_time": "2023-04-30T17:52:05.494Z"
   },
   {
    "duration": 122,
    "start_time": "2023-04-30T17:52:06.793Z"
   },
   {
    "duration": 12,
    "start_time": "2023-04-30T17:52:06.917Z"
   },
   {
    "duration": 14,
    "start_time": "2023-04-30T17:52:06.931Z"
   },
   {
    "duration": 12,
    "start_time": "2023-04-30T17:52:06.947Z"
   },
   {
    "duration": 13,
    "start_time": "2023-04-30T17:52:06.961Z"
   },
   {
    "duration": 16,
    "start_time": "2023-04-30T17:52:06.976Z"
   },
   {
    "duration": 10,
    "start_time": "2023-04-30T17:52:06.995Z"
   },
   {
    "duration": 4,
    "start_time": "2023-04-30T17:52:07.007Z"
   },
   {
    "duration": 6,
    "start_time": "2023-04-30T17:52:07.013Z"
   },
   {
    "duration": 55,
    "start_time": "2023-04-30T17:52:07.021Z"
   },
   {
    "duration": 17,
    "start_time": "2023-04-30T17:52:07.078Z"
   },
   {
    "duration": 13,
    "start_time": "2023-04-30T17:52:07.097Z"
   },
   {
    "duration": 9,
    "start_time": "2023-04-30T17:52:07.113Z"
   },
   {
    "duration": 8,
    "start_time": "2023-04-30T17:52:07.124Z"
   },
   {
    "duration": 16,
    "start_time": "2023-04-30T17:52:07.155Z"
   },
   {
    "duration": 6,
    "start_time": "2023-04-30T17:52:07.173Z"
   },
   {
    "duration": 350,
    "start_time": "2023-04-30T17:52:07.182Z"
   },
   {
    "duration": 370,
    "start_time": "2023-04-30T17:52:07.533Z"
   },
   {
    "duration": 298,
    "start_time": "2023-04-30T17:52:07.905Z"
   },
   {
    "duration": 337,
    "start_time": "2023-04-30T17:52:08.205Z"
   },
   {
    "duration": 268,
    "start_time": "2023-04-30T17:53:08.700Z"
   },
   {
    "duration": 356,
    "start_time": "2023-04-30T17:54:06.655Z"
   },
   {
    "duration": 329,
    "start_time": "2023-04-30T17:54:10.856Z"
   },
   {
    "duration": 358,
    "start_time": "2023-04-30T17:54:13.131Z"
   },
   {
    "duration": 394,
    "start_time": "2023-04-30T17:54:32.430Z"
   },
   {
    "duration": 302,
    "start_time": "2023-04-30T17:54:38.402Z"
   },
   {
    "duration": 353,
    "start_time": "2023-04-30T17:56:41.918Z"
   },
   {
    "duration": 217,
    "start_time": "2023-04-30T17:57:18.525Z"
   },
   {
    "duration": 273,
    "start_time": "2023-04-30T17:57:22.077Z"
   },
   {
    "duration": 211,
    "start_time": "2023-04-30T17:57:26.085Z"
   },
   {
    "duration": 385,
    "start_time": "2023-04-30T17:58:31.037Z"
   },
   {
    "duration": 179,
    "start_time": "2023-04-30T17:59:06.686Z"
   },
   {
    "duration": 1410,
    "start_time": "2023-05-01T08:51:49.831Z"
   },
   {
    "duration": 215,
    "start_time": "2023-05-01T08:51:51.244Z"
   },
   {
    "duration": 16,
    "start_time": "2023-05-01T08:51:51.461Z"
   },
   {
    "duration": 34,
    "start_time": "2023-05-01T08:51:51.480Z"
   },
   {
    "duration": 15,
    "start_time": "2023-05-01T08:51:51.517Z"
   },
   {
    "duration": 23,
    "start_time": "2023-05-01T08:51:51.535Z"
   },
   {
    "duration": 28,
    "start_time": "2023-05-01T08:51:51.561Z"
   },
   {
    "duration": 14,
    "start_time": "2023-05-01T08:51:51.592Z"
   },
   {
    "duration": 13,
    "start_time": "2023-05-01T08:51:51.608Z"
   },
   {
    "duration": 18,
    "start_time": "2023-05-01T08:51:51.624Z"
   },
   {
    "duration": 32,
    "start_time": "2023-05-01T08:51:51.644Z"
   },
   {
    "duration": 33,
    "start_time": "2023-05-01T08:51:51.679Z"
   },
   {
    "duration": 16,
    "start_time": "2023-05-01T08:51:51.714Z"
   },
   {
    "duration": 31,
    "start_time": "2023-05-01T08:51:51.733Z"
   },
   {
    "duration": 37,
    "start_time": "2023-05-01T08:51:51.766Z"
   },
   {
    "duration": 33,
    "start_time": "2023-05-01T08:51:51.806Z"
   },
   {
    "duration": 60,
    "start_time": "2023-05-01T08:51:51.841Z"
   },
   {
    "duration": 45,
    "start_time": "2023-05-01T08:51:51.903Z"
   },
   {
    "duration": 316,
    "start_time": "2023-05-01T08:51:51.950Z"
   },
   {
    "duration": 291,
    "start_time": "2023-05-01T08:51:52.271Z"
   },
   {
    "duration": 287,
    "start_time": "2023-05-01T08:51:52.564Z"
   },
   {
    "duration": 430,
    "start_time": "2023-05-01T08:51:52.854Z"
   },
   {
    "duration": 275,
    "start_time": "2023-05-01T08:51:53.286Z"
   },
   {
    "duration": 389,
    "start_time": "2023-05-01T08:51:53.563Z"
   },
   {
    "duration": 211,
    "start_time": "2023-05-01T08:51:53.954Z"
   },
   {
    "duration": 1015,
    "start_time": "2023-05-01T08:52:40.617Z"
   },
   {
    "duration": 91,
    "start_time": "2023-05-01T08:52:41.633Z"
   },
   {
    "duration": 11,
    "start_time": "2023-05-01T08:52:41.725Z"
   },
   {
    "duration": 25,
    "start_time": "2023-05-01T08:52:41.738Z"
   },
   {
    "duration": 13,
    "start_time": "2023-05-01T08:52:41.764Z"
   },
   {
    "duration": 11,
    "start_time": "2023-05-01T08:52:41.779Z"
   },
   {
    "duration": 23,
    "start_time": "2023-05-01T08:52:41.792Z"
   },
   {
    "duration": 13,
    "start_time": "2023-05-01T08:52:41.817Z"
   },
   {
    "duration": 7,
    "start_time": "2023-05-01T08:52:41.832Z"
   },
   {
    "duration": 8,
    "start_time": "2023-05-01T08:52:41.842Z"
   },
   {
    "duration": 21,
    "start_time": "2023-05-01T08:52:41.851Z"
   },
   {
    "duration": 12,
    "start_time": "2023-05-01T08:52:41.873Z"
   },
   {
    "duration": 11,
    "start_time": "2023-05-01T08:52:41.886Z"
   },
   {
    "duration": 11,
    "start_time": "2023-05-01T08:52:41.898Z"
   },
   {
    "duration": 9,
    "start_time": "2023-05-01T08:52:41.910Z"
   },
   {
    "duration": 12,
    "start_time": "2023-05-01T08:52:41.921Z"
   },
   {
    "duration": 38,
    "start_time": "2023-05-01T08:52:41.935Z"
   },
   {
    "duration": 4,
    "start_time": "2023-05-01T08:52:41.974Z"
   },
   {
    "duration": 298,
    "start_time": "2023-05-01T08:52:41.979Z"
   },
   {
    "duration": 274,
    "start_time": "2023-05-01T08:52:42.278Z"
   },
   {
    "duration": 195,
    "start_time": "2023-05-01T08:52:42.554Z"
   },
   {
    "duration": 326,
    "start_time": "2023-05-01T08:52:42.751Z"
   },
   {
    "duration": 197,
    "start_time": "2023-05-01T08:52:43.079Z"
   },
   {
    "duration": 320,
    "start_time": "2023-05-01T08:52:43.278Z"
   },
   {
    "duration": 158,
    "start_time": "2023-05-01T08:52:43.600Z"
   },
   {
    "duration": 98,
    "start_time": "2023-05-01T09:28:38.183Z"
   },
   {
    "duration": 8,
    "start_time": "2023-05-01T09:28:41.400Z"
   },
   {
    "duration": 4,
    "start_time": "2023-05-01T09:29:13.600Z"
   },
   {
    "duration": 159,
    "start_time": "2023-05-01T09:29:22.533Z"
   },
   {
    "duration": 5,
    "start_time": "2023-05-01T09:33:26.749Z"
   },
   {
    "duration": 7,
    "start_time": "2023-05-01T09:33:49.804Z"
   },
   {
    "duration": 8,
    "start_time": "2023-05-01T09:33:55.858Z"
   },
   {
    "duration": 7,
    "start_time": "2023-05-01T09:33:56.522Z"
   },
   {
    "duration": 7,
    "start_time": "2023-05-01T09:33:57.042Z"
   },
   {
    "duration": 7,
    "start_time": "2023-05-01T09:33:57.495Z"
   },
   {
    "duration": 8,
    "start_time": "2023-05-01T09:33:57.914Z"
   },
   {
    "duration": 9,
    "start_time": "2023-05-01T09:36:26.313Z"
   },
   {
    "duration": 254,
    "start_time": "2023-05-01T09:36:27.106Z"
   },
   {
    "duration": 24,
    "start_time": "2023-05-01T09:41:07.671Z"
   },
   {
    "duration": 58,
    "start_time": "2023-05-01T09:43:53.103Z"
   },
   {
    "duration": 6,
    "start_time": "2023-05-01T09:44:37.926Z"
   },
   {
    "duration": 9,
    "start_time": "2023-05-01T09:54:00.612Z"
   },
   {
    "duration": 10,
    "start_time": "2023-05-01T09:55:50.316Z"
   },
   {
    "duration": 2,
    "start_time": "2023-05-01T09:56:51.242Z"
   },
   {
    "duration": 18,
    "start_time": "2023-05-01T09:56:54.025Z"
   },
   {
    "duration": 8,
    "start_time": "2023-05-01T10:00:49.322Z"
   },
   {
    "duration": 10,
    "start_time": "2023-05-01T10:03:42.173Z"
   },
   {
    "duration": 9,
    "start_time": "2023-05-01T10:03:48.630Z"
   },
   {
    "duration": 8,
    "start_time": "2023-05-01T10:03:49.304Z"
   },
   {
    "duration": 9,
    "start_time": "2023-05-01T10:03:49.854Z"
   },
   {
    "duration": 9,
    "start_time": "2023-05-01T10:03:50.342Z"
   },
   {
    "duration": 7,
    "start_time": "2023-05-01T10:08:30.916Z"
   },
   {
    "duration": 17,
    "start_time": "2023-05-01T10:09:24.243Z"
   },
   {
    "duration": 9,
    "start_time": "2023-05-01T10:11:13.806Z"
   },
   {
    "duration": 11,
    "start_time": "2023-05-01T10:11:26.702Z"
   },
   {
    "duration": 43,
    "start_time": "2023-05-03T19:08:45.131Z"
   },
   {
    "duration": 6,
    "start_time": "2023-05-03T19:08:59.351Z"
   },
   {
    "duration": 8,
    "start_time": "2023-05-03T19:09:54.297Z"
   },
   {
    "duration": 5,
    "start_time": "2023-05-03T19:10:07.832Z"
   },
   {
    "duration": 6,
    "start_time": "2023-05-03T19:10:13.104Z"
   },
   {
    "duration": 8,
    "start_time": "2023-05-03T19:14:27.557Z"
   },
   {
    "duration": 1234,
    "start_time": "2023-05-03T19:14:41.131Z"
   },
   {
    "duration": 247,
    "start_time": "2023-05-03T19:14:42.367Z"
   },
   {
    "duration": 12,
    "start_time": "2023-05-03T19:14:42.615Z"
   },
   {
    "duration": 11,
    "start_time": "2023-05-03T19:14:42.629Z"
   },
   {
    "duration": 10,
    "start_time": "2023-05-03T19:14:42.642Z"
   },
   {
    "duration": 11,
    "start_time": "2023-05-03T19:14:42.654Z"
   },
   {
    "duration": 10,
    "start_time": "2023-05-03T19:14:42.667Z"
   },
   {
    "duration": 17,
    "start_time": "2023-05-03T19:14:42.679Z"
   },
   {
    "duration": 11,
    "start_time": "2023-05-03T19:14:42.697Z"
   },
   {
    "duration": 7,
    "start_time": "2023-05-03T19:14:42.710Z"
   },
   {
    "duration": 19,
    "start_time": "2023-05-03T19:14:42.718Z"
   },
   {
    "duration": 19,
    "start_time": "2023-05-03T19:14:42.739Z"
   },
   {
    "duration": 30,
    "start_time": "2023-05-03T19:14:42.759Z"
   },
   {
    "duration": 26,
    "start_time": "2023-05-03T19:14:42.791Z"
   },
   {
    "duration": 10,
    "start_time": "2023-05-03T19:14:42.818Z"
   },
   {
    "duration": 7,
    "start_time": "2023-05-03T19:14:42.829Z"
   },
   {
    "duration": 11,
    "start_time": "2023-05-03T19:14:42.837Z"
   },
   {
    "duration": 6,
    "start_time": "2023-05-03T19:14:42.849Z"
   },
   {
    "duration": 337,
    "start_time": "2023-05-03T19:14:42.857Z"
   },
   {
    "duration": 0,
    "start_time": "2023-05-03T19:14:43.196Z"
   },
   {
    "duration": 0,
    "start_time": "2023-05-03T19:14:43.198Z"
   },
   {
    "duration": 0,
    "start_time": "2023-05-03T19:14:43.199Z"
   },
   {
    "duration": 0,
    "start_time": "2023-05-03T19:14:43.201Z"
   },
   {
    "duration": 0,
    "start_time": "2023-05-03T19:14:43.202Z"
   },
   {
    "duration": 0,
    "start_time": "2023-05-03T19:14:43.204Z"
   },
   {
    "duration": 0,
    "start_time": "2023-05-03T19:14:43.205Z"
   },
   {
    "duration": 1,
    "start_time": "2023-05-03T19:14:43.206Z"
   },
   {
    "duration": 0,
    "start_time": "2023-05-03T19:14:43.207Z"
   },
   {
    "duration": 0,
    "start_time": "2023-05-03T19:14:43.208Z"
   },
   {
    "duration": 0,
    "start_time": "2023-05-03T19:14:43.209Z"
   },
   {
    "duration": 0,
    "start_time": "2023-05-03T19:14:43.210Z"
   },
   {
    "duration": 0,
    "start_time": "2023-05-03T19:14:43.211Z"
   },
   {
    "duration": 0,
    "start_time": "2023-05-03T19:14:43.212Z"
   },
   {
    "duration": 0,
    "start_time": "2023-05-03T19:14:43.213Z"
   },
   {
    "duration": 0,
    "start_time": "2023-05-03T19:14:43.214Z"
   },
   {
    "duration": 0,
    "start_time": "2023-05-03T19:14:43.215Z"
   },
   {
    "duration": 0,
    "start_time": "2023-05-03T19:14:43.216Z"
   },
   {
    "duration": 0,
    "start_time": "2023-05-03T19:14:43.217Z"
   },
   {
    "duration": 0,
    "start_time": "2023-05-03T19:14:43.218Z"
   },
   {
    "duration": 276,
    "start_time": "2023-05-03T19:15:00.537Z"
   },
   {
    "duration": 14,
    "start_time": "2023-05-03T19:15:03.527Z"
   },
   {
    "duration": 272,
    "start_time": "2023-05-03T19:15:20.756Z"
   },
   {
    "duration": 244,
    "start_time": "2023-05-03T19:17:45.948Z"
   },
   {
    "duration": 207,
    "start_time": "2023-05-03T19:17:49.788Z"
   },
   {
    "duration": 208,
    "start_time": "2023-05-03T19:17:51.932Z"
   },
   {
    "duration": 1059,
    "start_time": "2023-05-03T19:28:45.714Z"
   },
   {
    "duration": 99,
    "start_time": "2023-05-03T19:28:46.775Z"
   },
   {
    "duration": 10,
    "start_time": "2023-05-03T19:28:46.875Z"
   },
   {
    "duration": 13,
    "start_time": "2023-05-03T19:28:46.887Z"
   },
   {
    "duration": 10,
    "start_time": "2023-05-03T19:28:46.901Z"
   },
   {
    "duration": 9,
    "start_time": "2023-05-03T19:28:46.912Z"
   },
   {
    "duration": 9,
    "start_time": "2023-05-03T19:28:46.923Z"
   },
   {
    "duration": 7,
    "start_time": "2023-05-03T19:28:46.934Z"
   },
   {
    "duration": 4,
    "start_time": "2023-05-03T19:28:46.943Z"
   },
   {
    "duration": 4,
    "start_time": "2023-05-03T19:28:46.950Z"
   },
   {
    "duration": 45,
    "start_time": "2023-05-03T19:28:46.955Z"
   },
   {
    "duration": 12,
    "start_time": "2023-05-03T19:28:47.002Z"
   },
   {
    "duration": 11,
    "start_time": "2023-05-03T19:28:47.015Z"
   },
   {
    "duration": 9,
    "start_time": "2023-05-03T19:28:47.028Z"
   },
   {
    "duration": 7,
    "start_time": "2023-05-03T19:28:47.039Z"
   },
   {
    "duration": 7,
    "start_time": "2023-05-03T19:28:47.048Z"
   },
   {
    "duration": 45,
    "start_time": "2023-05-03T19:28:47.056Z"
   },
   {
    "duration": 3,
    "start_time": "2023-05-03T19:28:47.103Z"
   },
   {
    "duration": 270,
    "start_time": "2023-05-03T19:28:47.107Z"
   },
   {
    "duration": 295,
    "start_time": "2023-05-03T19:28:47.379Z"
   },
   {
    "duration": 196,
    "start_time": "2023-05-03T19:28:47.676Z"
   },
   {
    "duration": 322,
    "start_time": "2023-05-03T19:28:47.874Z"
   },
   {
    "duration": 97,
    "start_time": "2023-05-03T19:28:48.198Z"
   },
   {
    "duration": 0,
    "start_time": "2023-05-03T19:28:48.297Z"
   },
   {
    "duration": 0,
    "start_time": "2023-05-03T19:28:48.299Z"
   },
   {
    "duration": 0,
    "start_time": "2023-05-03T19:28:48.300Z"
   },
   {
    "duration": 0,
    "start_time": "2023-05-03T19:28:48.301Z"
   },
   {
    "duration": 0,
    "start_time": "2023-05-03T19:28:48.303Z"
   },
   {
    "duration": 0,
    "start_time": "2023-05-03T19:28:48.304Z"
   },
   {
    "duration": 0,
    "start_time": "2023-05-03T19:28:48.305Z"
   },
   {
    "duration": 0,
    "start_time": "2023-05-03T19:28:48.306Z"
   },
   {
    "duration": 0,
    "start_time": "2023-05-03T19:28:48.307Z"
   },
   {
    "duration": 0,
    "start_time": "2023-05-03T19:28:48.308Z"
   },
   {
    "duration": 0,
    "start_time": "2023-05-03T19:28:48.309Z"
   },
   {
    "duration": 0,
    "start_time": "2023-05-03T19:28:48.310Z"
   },
   {
    "duration": 0,
    "start_time": "2023-05-03T19:28:48.311Z"
   },
   {
    "duration": 0,
    "start_time": "2023-05-03T19:28:48.312Z"
   },
   {
    "duration": 0,
    "start_time": "2023-05-03T19:28:48.313Z"
   },
   {
    "duration": 0,
    "start_time": "2023-05-03T19:28:48.313Z"
   },
   {
    "duration": 198,
    "start_time": "2023-05-03T19:29:31.804Z"
   },
   {
    "duration": 293,
    "start_time": "2023-05-03T19:30:17.524Z"
   },
   {
    "duration": 349,
    "start_time": "2023-05-03T19:37:30.856Z"
   },
   {
    "duration": 151,
    "start_time": "2023-05-03T19:37:33.427Z"
   },
   {
    "duration": 400,
    "start_time": "2023-05-03T19:38:05.881Z"
   },
   {
    "duration": 312,
    "start_time": "2023-05-03T19:40:22.624Z"
   },
   {
    "duration": 332,
    "start_time": "2023-05-03T19:40:27.728Z"
   },
   {
    "duration": 357,
    "start_time": "2023-05-03T19:42:31.192Z"
   },
   {
    "duration": 132,
    "start_time": "2023-05-03T19:48:05.826Z"
   },
   {
    "duration": 140,
    "start_time": "2023-05-03T19:48:09.710Z"
   },
   {
    "duration": 143,
    "start_time": "2023-05-03T19:48:12.438Z"
   },
   {
    "duration": 152,
    "start_time": "2023-05-03T19:48:15.189Z"
   },
   {
    "duration": 159,
    "start_time": "2023-05-03T19:50:21.180Z"
   },
   {
    "duration": 144,
    "start_time": "2023-05-03T19:51:30.348Z"
   },
   {
    "duration": 5,
    "start_time": "2023-05-03T19:52:04.228Z"
   },
   {
    "duration": 158,
    "start_time": "2023-05-03T19:52:09.100Z"
   },
   {
    "duration": 146,
    "start_time": "2023-05-03T19:52:14.348Z"
   },
   {
    "duration": 4,
    "start_time": "2023-05-03T19:55:23.561Z"
   },
   {
    "duration": 229,
    "start_time": "2023-05-03T19:57:30.375Z"
   },
   {
    "duration": 5,
    "start_time": "2023-05-03T19:57:46.134Z"
   },
   {
    "duration": 8,
    "start_time": "2023-05-03T20:03:11.931Z"
   },
   {
    "duration": 8,
    "start_time": "2023-05-03T20:03:12.915Z"
   },
   {
    "duration": 208,
    "start_time": "2023-05-03T20:03:13.603Z"
   },
   {
    "duration": 25,
    "start_time": "2023-05-03T20:03:16.283Z"
   },
   {
    "duration": 1171,
    "start_time": "2023-05-03T20:03:20.701Z"
   },
   {
    "duration": 97,
    "start_time": "2023-05-03T20:03:21.874Z"
   },
   {
    "duration": 12,
    "start_time": "2023-05-03T20:03:21.972Z"
   },
   {
    "duration": 11,
    "start_time": "2023-05-03T20:03:21.986Z"
   },
   {
    "duration": 10,
    "start_time": "2023-05-03T20:03:21.999Z"
   },
   {
    "duration": 22,
    "start_time": "2023-05-03T20:03:22.010Z"
   },
   {
    "duration": 28,
    "start_time": "2023-05-03T20:03:22.034Z"
   },
   {
    "duration": 27,
    "start_time": "2023-05-03T20:03:22.063Z"
   },
   {
    "duration": 5,
    "start_time": "2023-05-03T20:03:22.092Z"
   },
   {
    "duration": 16,
    "start_time": "2023-05-03T20:03:22.100Z"
   },
   {
    "duration": 17,
    "start_time": "2023-05-03T20:03:22.118Z"
   },
   {
    "duration": 19,
    "start_time": "2023-05-03T20:03:22.137Z"
   },
   {
    "duration": 15,
    "start_time": "2023-05-03T20:03:22.157Z"
   },
   {
    "duration": 25,
    "start_time": "2023-05-03T20:03:22.174Z"
   },
   {
    "duration": 16,
    "start_time": "2023-05-03T20:03:22.201Z"
   },
   {
    "duration": 20,
    "start_time": "2023-05-03T20:03:22.219Z"
   },
   {
    "duration": 16,
    "start_time": "2023-05-03T20:03:22.241Z"
   },
   {
    "duration": 11,
    "start_time": "2023-05-03T20:03:22.258Z"
   },
   {
    "duration": 276,
    "start_time": "2023-05-03T20:03:22.271Z"
   },
   {
    "duration": 289,
    "start_time": "2023-05-03T20:03:22.549Z"
   },
   {
    "duration": 214,
    "start_time": "2023-05-03T20:03:22.839Z"
   },
   {
    "duration": 299,
    "start_time": "2023-05-03T20:03:23.054Z"
   },
   {
    "duration": 205,
    "start_time": "2023-05-03T20:03:23.355Z"
   },
   {
    "duration": 353,
    "start_time": "2023-05-03T20:03:23.562Z"
   },
   {
    "duration": 183,
    "start_time": "2023-05-03T20:03:23.918Z"
   },
   {
    "duration": 5,
    "start_time": "2023-05-03T20:03:24.103Z"
   },
   {
    "duration": 228,
    "start_time": "2023-05-03T20:03:24.110Z"
   },
   {
    "duration": 5,
    "start_time": "2023-05-03T20:03:24.342Z"
   },
   {
    "duration": 11,
    "start_time": "2023-05-03T20:03:24.349Z"
   },
   {
    "duration": 9,
    "start_time": "2023-05-03T20:03:24.362Z"
   },
   {
    "duration": 327,
    "start_time": "2023-05-03T20:03:24.372Z"
   },
   {
    "duration": 27,
    "start_time": "2023-05-03T20:03:24.701Z"
   },
   {
    "duration": 6,
    "start_time": "2023-05-03T20:03:24.730Z"
   },
   {
    "duration": 17,
    "start_time": "2023-05-03T20:03:24.738Z"
   },
   {
    "duration": 9,
    "start_time": "2023-05-03T20:03:24.757Z"
   },
   {
    "duration": 35,
    "start_time": "2023-05-03T20:03:24.767Z"
   },
   {
    "duration": 6,
    "start_time": "2023-05-03T20:03:24.804Z"
   },
   {
    "duration": 16,
    "start_time": "2023-05-03T20:03:24.812Z"
   },
   {
    "duration": 11,
    "start_time": "2023-05-03T20:03:24.830Z"
   },
   {
    "duration": 8,
    "start_time": "2023-05-03T20:08:56.360Z"
   },
   {
    "duration": 9,
    "start_time": "2023-05-03T20:09:04.920Z"
   },
   {
    "duration": 9,
    "start_time": "2023-05-03T20:09:08.455Z"
   },
   {
    "duration": 9,
    "start_time": "2023-05-03T20:09:13.883Z"
   },
   {
    "duration": 83,
    "start_time": "2023-05-04T12:27:27.595Z"
   },
   {
    "duration": 76,
    "start_time": "2023-05-04T12:32:03.534Z"
   },
   {
    "duration": 72,
    "start_time": "2023-05-04T12:34:11.277Z"
   },
   {
    "duration": 60,
    "start_time": "2023-05-04T12:37:51.069Z"
   },
   {
    "duration": 1725,
    "start_time": "2023-05-04T12:38:11.880Z"
   },
   {
    "duration": 239,
    "start_time": "2023-05-04T12:38:13.608Z"
   },
   {
    "duration": 18,
    "start_time": "2023-05-04T12:38:13.850Z"
   },
   {
    "duration": 19,
    "start_time": "2023-05-04T12:38:13.871Z"
   },
   {
    "duration": 23,
    "start_time": "2023-05-04T12:38:13.900Z"
   },
   {
    "duration": 14,
    "start_time": "2023-05-04T12:38:13.930Z"
   },
   {
    "duration": 24,
    "start_time": "2023-05-04T12:38:13.946Z"
   },
   {
    "duration": 24,
    "start_time": "2023-05-04T12:38:13.974Z"
   },
   {
    "duration": 8,
    "start_time": "2023-05-04T12:38:14.006Z"
   },
   {
    "duration": 9,
    "start_time": "2023-05-04T12:38:14.017Z"
   },
   {
    "duration": 21,
    "start_time": "2023-05-04T12:38:14.028Z"
   },
   {
    "duration": 47,
    "start_time": "2023-05-04T12:38:14.052Z"
   },
   {
    "duration": 28,
    "start_time": "2023-05-04T12:38:14.102Z"
   },
   {
    "duration": 19,
    "start_time": "2023-05-04T12:38:14.137Z"
   },
   {
    "duration": 13,
    "start_time": "2023-05-04T12:38:14.162Z"
   },
   {
    "duration": 13,
    "start_time": "2023-05-04T12:38:14.197Z"
   },
   {
    "duration": 24,
    "start_time": "2023-05-04T12:38:14.215Z"
   },
   {
    "duration": 7,
    "start_time": "2023-05-04T12:38:14.243Z"
   },
   {
    "duration": 389,
    "start_time": "2023-05-04T12:38:14.253Z"
   },
   {
    "duration": 402,
    "start_time": "2023-05-04T12:38:14.644Z"
   },
   {
    "duration": 281,
    "start_time": "2023-05-04T12:38:15.048Z"
   },
   {
    "duration": 503,
    "start_time": "2023-05-04T12:38:15.331Z"
   },
   {
    "duration": 329,
    "start_time": "2023-05-04T12:38:15.836Z"
   },
   {
    "duration": 474,
    "start_time": "2023-05-04T12:38:16.167Z"
   },
   {
    "duration": 234,
    "start_time": "2023-05-04T12:38:16.643Z"
   },
   {
    "duration": 30,
    "start_time": "2023-05-04T12:38:16.880Z"
   },
   {
    "duration": 393,
    "start_time": "2023-05-04T12:38:16.916Z"
   },
   {
    "duration": 13,
    "start_time": "2023-05-04T12:38:17.311Z"
   },
   {
    "duration": 10,
    "start_time": "2023-05-04T12:38:17.326Z"
   },
   {
    "duration": 11,
    "start_time": "2023-05-04T12:38:17.338Z"
   },
   {
    "duration": 417,
    "start_time": "2023-05-04T12:38:17.352Z"
   },
   {
    "duration": 93,
    "start_time": "2023-05-04T12:38:21.816Z"
   },
   {
    "duration": 37,
    "start_time": "2023-05-04T12:38:27.975Z"
   },
   {
    "duration": 17,
    "start_time": "2023-05-04T12:38:31.191Z"
   },
   {
    "duration": 1302,
    "start_time": "2023-05-04T17:37:11.526Z"
   },
   {
    "duration": 270,
    "start_time": "2023-05-04T17:37:12.830Z"
   },
   {
    "duration": 11,
    "start_time": "2023-05-04T17:37:13.102Z"
   },
   {
    "duration": 13,
    "start_time": "2023-05-04T17:37:13.115Z"
   },
   {
    "duration": 23,
    "start_time": "2023-05-04T17:37:13.130Z"
   },
   {
    "duration": 11,
    "start_time": "2023-05-04T17:37:13.154Z"
   },
   {
    "duration": 12,
    "start_time": "2023-05-04T17:37:13.167Z"
   },
   {
    "duration": 27,
    "start_time": "2023-05-04T17:37:13.180Z"
   },
   {
    "duration": 7,
    "start_time": "2023-05-04T17:37:13.209Z"
   },
   {
    "duration": 15,
    "start_time": "2023-05-04T17:37:13.218Z"
   },
   {
    "duration": 20,
    "start_time": "2023-05-04T17:37:13.234Z"
   },
   {
    "duration": 32,
    "start_time": "2023-05-04T17:37:13.256Z"
   },
   {
    "duration": 11,
    "start_time": "2023-05-04T17:37:13.290Z"
   },
   {
    "duration": 17,
    "start_time": "2023-05-04T17:37:13.303Z"
   },
   {
    "duration": 11,
    "start_time": "2023-05-04T17:37:13.322Z"
   },
   {
    "duration": 12,
    "start_time": "2023-05-04T17:37:13.334Z"
   },
   {
    "duration": 14,
    "start_time": "2023-05-04T17:37:13.347Z"
   },
   {
    "duration": 8,
    "start_time": "2023-05-04T17:37:13.362Z"
   },
   {
    "duration": 247,
    "start_time": "2023-05-04T17:37:13.372Z"
   },
   {
    "duration": 292,
    "start_time": "2023-05-04T17:37:13.620Z"
   },
   {
    "duration": 209,
    "start_time": "2023-05-04T17:37:13.914Z"
   },
   {
    "duration": 370,
    "start_time": "2023-05-04T17:37:14.125Z"
   },
   {
    "duration": 259,
    "start_time": "2023-05-04T17:37:14.497Z"
   },
   {
    "duration": 331,
    "start_time": "2023-05-04T17:37:14.757Z"
   },
   {
    "duration": 159,
    "start_time": "2023-05-04T17:37:15.090Z"
   },
   {
    "duration": 4,
    "start_time": "2023-05-04T17:37:15.251Z"
   },
   {
    "duration": 189,
    "start_time": "2023-05-04T17:37:15.257Z"
   },
   {
    "duration": 4,
    "start_time": "2023-05-04T17:37:15.450Z"
   },
   {
    "duration": 29,
    "start_time": "2023-05-04T17:37:15.456Z"
   },
   {
    "duration": 23,
    "start_time": "2023-05-04T17:37:15.487Z"
   },
   {
    "duration": 281,
    "start_time": "2023-05-04T17:37:15.512Z"
   },
   {
    "duration": 25,
    "start_time": "2023-05-04T17:37:15.795Z"
   },
   {
    "duration": 7,
    "start_time": "2023-05-04T17:37:15.834Z"
   },
   {
    "duration": 20,
    "start_time": "2023-05-04T17:37:15.842Z"
   },
   {
    "duration": 11,
    "start_time": "2023-05-04T17:37:15.864Z"
   },
   {
    "duration": 14,
    "start_time": "2023-05-04T17:37:15.877Z"
   },
   {
    "duration": 24,
    "start_time": "2023-05-04T17:37:15.892Z"
   },
   {
    "duration": 40,
    "start_time": "2023-05-04T17:37:15.917Z"
   },
   {
    "duration": 12,
    "start_time": "2023-05-04T17:37:15.958Z"
   },
   {
    "duration": 4,
    "start_time": "2023-05-04T17:37:57.558Z"
   },
   {
    "duration": 280,
    "start_time": "2023-05-04T17:37:58.710Z"
   },
   {
    "duration": 4,
    "start_time": "2023-05-04T17:38:12.205Z"
   },
   {
    "duration": 192,
    "start_time": "2023-05-04T17:38:13.173Z"
   },
   {
    "duration": 1112,
    "start_time": "2023-05-04T17:38:18.909Z"
   },
   {
    "duration": 100,
    "start_time": "2023-05-04T17:38:20.022Z"
   },
   {
    "duration": 11,
    "start_time": "2023-05-04T17:38:20.123Z"
   },
   {
    "duration": 14,
    "start_time": "2023-05-04T17:38:20.137Z"
   },
   {
    "duration": 9,
    "start_time": "2023-05-04T17:38:20.153Z"
   },
   {
    "duration": 8,
    "start_time": "2023-05-04T17:38:20.163Z"
   },
   {
    "duration": 10,
    "start_time": "2023-05-04T17:38:20.172Z"
   },
   {
    "duration": 9,
    "start_time": "2023-05-04T17:38:20.184Z"
   },
   {
    "duration": 8,
    "start_time": "2023-05-04T17:38:20.195Z"
   },
   {
    "duration": 8,
    "start_time": "2023-05-04T17:38:20.205Z"
   },
   {
    "duration": 30,
    "start_time": "2023-05-04T17:38:20.214Z"
   },
   {
    "duration": 13,
    "start_time": "2023-05-04T17:38:20.245Z"
   },
   {
    "duration": 10,
    "start_time": "2023-05-04T17:38:20.260Z"
   },
   {
    "duration": 20,
    "start_time": "2023-05-04T17:38:20.271Z"
   },
   {
    "duration": 26,
    "start_time": "2023-05-04T17:38:20.292Z"
   },
   {
    "duration": 12,
    "start_time": "2023-05-04T17:38:20.320Z"
   },
   {
    "duration": 15,
    "start_time": "2023-05-04T17:38:20.334Z"
   },
   {
    "duration": 8,
    "start_time": "2023-05-04T17:38:20.350Z"
   },
   {
    "duration": 247,
    "start_time": "2023-05-04T17:38:20.360Z"
   },
   {
    "duration": 281,
    "start_time": "2023-05-04T17:38:20.608Z"
   },
   {
    "duration": 218,
    "start_time": "2023-05-04T17:38:20.890Z"
   },
   {
    "duration": 332,
    "start_time": "2023-05-04T17:38:21.110Z"
   },
   {
    "duration": 197,
    "start_time": "2023-05-04T17:38:21.443Z"
   },
   {
    "duration": 333,
    "start_time": "2023-05-04T17:38:21.641Z"
   },
   {
    "duration": 164,
    "start_time": "2023-05-04T17:38:21.975Z"
   },
   {
    "duration": 4,
    "start_time": "2023-05-04T17:38:22.140Z"
   },
   {
    "duration": 164,
    "start_time": "2023-05-04T17:38:22.146Z"
   },
   {
    "duration": 4,
    "start_time": "2023-05-04T17:38:22.313Z"
   },
   {
    "duration": 18,
    "start_time": "2023-05-04T17:38:22.334Z"
   },
   {
    "duration": 14,
    "start_time": "2023-05-04T17:38:22.354Z"
   },
   {
    "duration": 266,
    "start_time": "2023-05-04T17:38:22.370Z"
   },
   {
    "duration": 27,
    "start_time": "2023-05-04T17:38:22.638Z"
   },
   {
    "duration": 8,
    "start_time": "2023-05-04T17:38:22.667Z"
   },
   {
    "duration": 20,
    "start_time": "2023-05-04T17:38:22.677Z"
   },
   {
    "duration": 10,
    "start_time": "2023-05-04T17:38:22.699Z"
   },
   {
    "duration": 11,
    "start_time": "2023-05-04T17:38:22.735Z"
   },
   {
    "duration": 14,
    "start_time": "2023-05-04T17:38:22.747Z"
   },
   {
    "duration": 30,
    "start_time": "2023-05-04T17:38:22.762Z"
   },
   {
    "duration": 12,
    "start_time": "2023-05-04T17:38:22.794Z"
   },
   {
    "duration": 3,
    "start_time": "2023-05-04T17:39:05.982Z"
   },
   {
    "duration": 297,
    "start_time": "2023-05-04T17:39:06.754Z"
   },
   {
    "duration": 8,
    "start_time": "2023-05-04T17:39:37.653Z"
   },
   {
    "duration": 255,
    "start_time": "2023-05-04T17:39:41.165Z"
   },
   {
    "duration": 3,
    "start_time": "2023-05-04T17:41:01.875Z"
   },
   {
    "duration": 15,
    "start_time": "2023-05-04T17:42:35.035Z"
   },
   {
    "duration": 4,
    "start_time": "2023-05-04T17:42:55.660Z"
   },
   {
    "duration": 9,
    "start_time": "2023-05-04T17:42:56.972Z"
   },
   {
    "duration": 370,
    "start_time": "2023-05-04T17:43:01.949Z"
   },
   {
    "duration": 227,
    "start_time": "2023-05-04T17:43:27.907Z"
   },
   {
    "duration": 36,
    "start_time": "2023-05-04T17:43:49.122Z"
   },
   {
    "duration": 231,
    "start_time": "2023-05-04T17:43:52.370Z"
   },
   {
    "duration": 3,
    "start_time": "2023-05-04T17:44:01.586Z"
   },
   {
    "duration": 8,
    "start_time": "2023-05-04T17:44:02.602Z"
   },
   {
    "duration": 9,
    "start_time": "2023-05-04T17:44:04.521Z"
   },
   {
    "duration": 206,
    "start_time": "2023-05-04T17:44:05.074Z"
   },
   {
    "duration": 3,
    "start_time": "2023-05-04T17:44:39.202Z"
   },
   {
    "duration": 9,
    "start_time": "2023-05-04T17:44:40.547Z"
   },
   {
    "duration": 1241,
    "start_time": "2023-05-04T17:44:44.725Z"
   },
   {
    "duration": 96,
    "start_time": "2023-05-04T17:44:45.968Z"
   },
   {
    "duration": 15,
    "start_time": "2023-05-04T17:44:46.066Z"
   },
   {
    "duration": 12,
    "start_time": "2023-05-04T17:44:46.084Z"
   },
   {
    "duration": 14,
    "start_time": "2023-05-04T17:44:46.098Z"
   },
   {
    "duration": 13,
    "start_time": "2023-05-04T17:44:46.115Z"
   },
   {
    "duration": 16,
    "start_time": "2023-05-04T17:44:46.129Z"
   },
   {
    "duration": 20,
    "start_time": "2023-05-04T17:44:46.148Z"
   },
   {
    "duration": 9,
    "start_time": "2023-05-04T17:44:46.170Z"
   },
   {
    "duration": 12,
    "start_time": "2023-05-04T17:44:46.183Z"
   },
   {
    "duration": 10,
    "start_time": "2023-05-04T17:44:46.197Z"
   },
   {
    "duration": 24,
    "start_time": "2023-05-04T17:44:46.209Z"
   },
   {
    "duration": 33,
    "start_time": "2023-05-04T17:44:46.236Z"
   },
   {
    "duration": 14,
    "start_time": "2023-05-04T17:44:46.271Z"
   },
   {
    "duration": 13,
    "start_time": "2023-05-04T17:44:46.286Z"
   },
   {
    "duration": 10,
    "start_time": "2023-05-04T17:44:46.301Z"
   },
   {
    "duration": 16,
    "start_time": "2023-05-04T17:44:46.313Z"
   },
   {
    "duration": 37,
    "start_time": "2023-05-04T17:44:46.335Z"
   },
   {
    "duration": 7,
    "start_time": "2023-05-04T17:44:46.373Z"
   },
   {
    "duration": 13,
    "start_time": "2023-05-04T17:44:46.382Z"
   },
   {
    "duration": 322,
    "start_time": "2023-05-04T17:44:46.396Z"
   },
   {
    "duration": 109,
    "start_time": "2023-05-04T17:44:46.720Z"
   },
   {
    "duration": 0,
    "start_time": "2023-05-04T17:44:46.831Z"
   },
   {
    "duration": 0,
    "start_time": "2023-05-04T17:44:46.834Z"
   },
   {
    "duration": 0,
    "start_time": "2023-05-04T17:44:46.836Z"
   },
   {
    "duration": 0,
    "start_time": "2023-05-04T17:44:46.837Z"
   },
   {
    "duration": 0,
    "start_time": "2023-05-04T17:44:46.838Z"
   },
   {
    "duration": 0,
    "start_time": "2023-05-04T17:44:46.839Z"
   },
   {
    "duration": 0,
    "start_time": "2023-05-04T17:44:46.840Z"
   },
   {
    "duration": 0,
    "start_time": "2023-05-04T17:44:46.842Z"
   },
   {
    "duration": 0,
    "start_time": "2023-05-04T17:44:46.844Z"
   },
   {
    "duration": 0,
    "start_time": "2023-05-04T17:44:46.846Z"
   },
   {
    "duration": 0,
    "start_time": "2023-05-04T17:44:46.847Z"
   },
   {
    "duration": 0,
    "start_time": "2023-05-04T17:44:46.848Z"
   },
   {
    "duration": 0,
    "start_time": "2023-05-04T17:44:46.850Z"
   },
   {
    "duration": 0,
    "start_time": "2023-05-04T17:44:46.851Z"
   },
   {
    "duration": 0,
    "start_time": "2023-05-04T17:44:46.853Z"
   },
   {
    "duration": 0,
    "start_time": "2023-05-04T17:44:46.854Z"
   },
   {
    "duration": 0,
    "start_time": "2023-05-04T17:44:46.856Z"
   },
   {
    "duration": 0,
    "start_time": "2023-05-04T17:44:46.857Z"
   },
   {
    "duration": 0,
    "start_time": "2023-05-04T17:44:46.858Z"
   },
   {
    "duration": 316,
    "start_time": "2023-05-04T17:45:29.555Z"
   },
   {
    "duration": 327,
    "start_time": "2023-05-04T17:45:31.443Z"
   },
   {
    "duration": 1128,
    "start_time": "2023-05-04T17:45:37.715Z"
   },
   {
    "duration": 96,
    "start_time": "2023-05-04T17:45:38.846Z"
   },
   {
    "duration": 11,
    "start_time": "2023-05-04T17:45:38.947Z"
   },
   {
    "duration": 14,
    "start_time": "2023-05-04T17:45:38.960Z"
   },
   {
    "duration": 10,
    "start_time": "2023-05-04T17:45:38.975Z"
   },
   {
    "duration": 9,
    "start_time": "2023-05-04T17:45:38.987Z"
   },
   {
    "duration": 15,
    "start_time": "2023-05-04T17:45:38.997Z"
   },
   {
    "duration": 21,
    "start_time": "2023-05-04T17:45:39.014Z"
   },
   {
    "duration": 21,
    "start_time": "2023-05-04T17:45:39.037Z"
   },
   {
    "duration": 6,
    "start_time": "2023-05-04T17:45:39.061Z"
   },
   {
    "duration": 10,
    "start_time": "2023-05-04T17:45:39.068Z"
   },
   {
    "duration": 26,
    "start_time": "2023-05-04T17:45:39.079Z"
   },
   {
    "duration": 15,
    "start_time": "2023-05-04T17:45:39.106Z"
   },
   {
    "duration": 16,
    "start_time": "2023-05-04T17:45:39.123Z"
   },
   {
    "duration": 15,
    "start_time": "2023-05-04T17:45:39.140Z"
   },
   {
    "duration": 10,
    "start_time": "2023-05-04T17:45:39.157Z"
   },
   {
    "duration": 11,
    "start_time": "2023-05-04T17:45:39.168Z"
   },
   {
    "duration": 15,
    "start_time": "2023-05-04T17:45:39.181Z"
   },
   {
    "duration": 9,
    "start_time": "2023-05-04T17:45:39.198Z"
   },
   {
    "duration": 32,
    "start_time": "2023-05-04T17:45:39.208Z"
   },
   {
    "duration": 330,
    "start_time": "2023-05-04T17:45:39.243Z"
   },
   {
    "duration": 306,
    "start_time": "2023-05-04T17:45:39.574Z"
   },
   {
    "duration": 236,
    "start_time": "2023-05-04T17:45:39.882Z"
   },
   {
    "duration": 340,
    "start_time": "2023-05-04T17:45:40.120Z"
   },
   {
    "duration": 228,
    "start_time": "2023-05-04T17:45:40.462Z"
   },
   {
    "duration": 342,
    "start_time": "2023-05-04T17:45:40.692Z"
   },
   {
    "duration": 316,
    "start_time": "2023-05-04T17:45:41.036Z"
   },
   {
    "duration": 3,
    "start_time": "2023-05-04T17:45:41.356Z"
   },
   {
    "duration": 176,
    "start_time": "2023-05-04T17:45:41.361Z"
   },
   {
    "duration": 7,
    "start_time": "2023-05-04T17:45:41.539Z"
   },
   {
    "duration": 22,
    "start_time": "2023-05-04T17:45:41.548Z"
   },
   {
    "duration": 19,
    "start_time": "2023-05-04T17:45:41.572Z"
   },
   {
    "duration": 295,
    "start_time": "2023-05-04T17:45:41.593Z"
   },
   {
    "duration": 110,
    "start_time": "2023-05-04T17:45:41.890Z"
   },
   {
    "duration": 7,
    "start_time": "2023-05-04T17:45:42.002Z"
   },
   {
    "duration": 47,
    "start_time": "2023-05-04T17:45:42.010Z"
   },
   {
    "duration": 10,
    "start_time": "2023-05-04T17:45:42.059Z"
   },
   {
    "duration": 14,
    "start_time": "2023-05-04T17:45:42.071Z"
   },
   {
    "duration": 14,
    "start_time": "2023-05-04T17:45:42.087Z"
   },
   {
    "duration": 35,
    "start_time": "2023-05-04T17:45:42.102Z"
   },
   {
    "duration": 14,
    "start_time": "2023-05-04T17:45:42.140Z"
   },
   {
    "duration": 6,
    "start_time": "2023-05-04T17:55:28.364Z"
   },
   {
    "duration": 164,
    "start_time": "2023-05-04T17:56:35.720Z"
   },
   {
    "duration": 8,
    "start_time": "2023-05-04T17:59:44.162Z"
   },
   {
    "duration": 9,
    "start_time": "2023-05-04T17:59:44.754Z"
   },
   {
    "duration": 7,
    "start_time": "2023-05-04T17:59:45.203Z"
   },
   {
    "duration": 8,
    "start_time": "2023-05-04T17:59:46.177Z"
   },
   {
    "duration": 8,
    "start_time": "2023-05-04T17:59:47.178Z"
   },
   {
    "duration": 12,
    "start_time": "2023-05-04T18:04:25.424Z"
   },
   {
    "duration": 13,
    "start_time": "2023-05-04T18:08:17.757Z"
   },
   {
    "duration": 136,
    "start_time": "2023-05-04T18:19:08.175Z"
   },
   {
    "duration": 1369,
    "start_time": "2023-05-04T18:38:54.350Z"
   },
   {
    "duration": 113,
    "start_time": "2023-05-04T18:38:55.721Z"
   },
   {
    "duration": 16,
    "start_time": "2023-05-04T18:38:55.836Z"
   },
   {
    "duration": 28,
    "start_time": "2023-05-04T18:38:55.854Z"
   },
   {
    "duration": 14,
    "start_time": "2023-05-04T18:38:55.885Z"
   },
   {
    "duration": 12,
    "start_time": "2023-05-04T18:38:55.901Z"
   },
   {
    "duration": 12,
    "start_time": "2023-05-04T18:38:55.915Z"
   },
   {
    "duration": 34,
    "start_time": "2023-05-04T18:38:55.930Z"
   },
   {
    "duration": 15,
    "start_time": "2023-05-04T18:38:55.966Z"
   },
   {
    "duration": 4,
    "start_time": "2023-05-04T18:38:55.986Z"
   },
   {
    "duration": 6,
    "start_time": "2023-05-04T18:38:55.992Z"
   },
   {
    "duration": 21,
    "start_time": "2023-05-04T18:38:56.001Z"
   },
   {
    "duration": 36,
    "start_time": "2023-05-04T18:38:56.025Z"
   },
   {
    "duration": 24,
    "start_time": "2023-05-04T18:38:56.063Z"
   },
   {
    "duration": 12,
    "start_time": "2023-05-04T18:38:56.089Z"
   },
   {
    "duration": 10,
    "start_time": "2023-05-04T18:38:56.103Z"
   },
   {
    "duration": 11,
    "start_time": "2023-05-04T18:38:56.115Z"
   },
   {
    "duration": 49,
    "start_time": "2023-05-04T18:38:56.128Z"
   },
   {
    "duration": 5,
    "start_time": "2023-05-04T18:38:56.181Z"
   },
   {
    "duration": 18,
    "start_time": "2023-05-04T18:38:56.187Z"
   },
   {
    "duration": 394,
    "start_time": "2023-05-04T18:38:56.207Z"
   },
   {
    "duration": 350,
    "start_time": "2023-05-04T18:38:56.604Z"
   },
   {
    "duration": 262,
    "start_time": "2023-05-04T18:38:56.959Z"
   },
   {
    "duration": 375,
    "start_time": "2023-05-04T18:38:57.224Z"
   },
   {
    "duration": 268,
    "start_time": "2023-05-04T18:38:57.601Z"
   },
   {
    "duration": 396,
    "start_time": "2023-05-04T18:38:57.880Z"
   },
   {
    "duration": 362,
    "start_time": "2023-05-04T18:38:58.280Z"
   },
   {
    "duration": 19,
    "start_time": "2023-05-04T18:38:58.646Z"
   },
   {
    "duration": 192,
    "start_time": "2023-05-04T18:38:58.666Z"
   },
   {
    "duration": 12,
    "start_time": "2023-05-04T18:38:58.866Z"
   },
   {
    "duration": 261,
    "start_time": "2023-05-04T18:38:58.881Z"
   },
   {
    "duration": 6,
    "start_time": "2023-05-04T18:38:59.144Z"
   },
   {
    "duration": 53,
    "start_time": "2023-05-04T18:38:59.160Z"
   },
   {
    "duration": 18,
    "start_time": "2023-05-04T18:38:59.215Z"
   },
   {
    "duration": 285,
    "start_time": "2023-05-04T18:38:59.235Z"
   },
   {
    "duration": 174,
    "start_time": "2023-05-04T18:38:59.522Z"
   },
   {
    "duration": 8,
    "start_time": "2023-05-04T18:38:59.698Z"
   },
   {
    "duration": 48,
    "start_time": "2023-05-04T18:38:59.709Z"
   },
   {
    "duration": 22,
    "start_time": "2023-05-04T18:38:59.759Z"
   },
   {
    "duration": 18,
    "start_time": "2023-05-04T18:38:59.783Z"
   },
   {
    "duration": 21,
    "start_time": "2023-05-04T18:38:59.803Z"
   },
   {
    "duration": 44,
    "start_time": "2023-05-04T18:38:59.826Z"
   },
   {
    "duration": 22,
    "start_time": "2023-05-04T18:38:59.877Z"
   },
   {
    "duration": 46,
    "start_time": "2023-05-04T18:41:54.100Z"
   },
   {
    "duration": 54,
    "start_time": "2023-05-06T10:59:29.434Z"
   },
   {
    "duration": 1150,
    "start_time": "2023-05-06T10:59:32.361Z"
   },
   {
    "duration": 298,
    "start_time": "2023-05-06T10:59:33.556Z"
   },
   {
    "duration": 13,
    "start_time": "2023-05-06T10:59:34.307Z"
   },
   {
    "duration": 11,
    "start_time": "2023-05-06T10:59:35.649Z"
   },
   {
    "duration": 11,
    "start_time": "2023-05-06T10:59:41.633Z"
   },
   {
    "duration": 7,
    "start_time": "2023-05-06T11:01:09.898Z"
   },
   {
    "duration": 4,
    "start_time": "2023-05-06T11:01:11.101Z"
   },
   {
    "duration": 2,
    "start_time": "2023-05-06T11:01:11.673Z"
   },
   {
    "duration": 8,
    "start_time": "2023-05-06T11:01:12.521Z"
   },
   {
    "duration": 8,
    "start_time": "2023-05-06T11:01:14.705Z"
   },
   {
    "duration": 11,
    "start_time": "2023-05-06T11:01:15.401Z"
   },
   {
    "duration": 3,
    "start_time": "2023-05-06T11:01:18.416Z"
   },
   {
    "duration": 4,
    "start_time": "2023-05-06T11:01:19.209Z"
   }
  ],
  "kernelspec": {
   "display_name": "Python 3 (ipykernel)",
   "language": "python",
   "name": "python3"
  },
  "language_info": {
   "codemirror_mode": {
    "name": "ipython",
    "version": 3
   },
   "file_extension": ".py",
   "mimetype": "text/x-python",
   "name": "python",
   "nbconvert_exporter": "python",
   "pygments_lexer": "ipython3",
   "version": "3.9.5"
  },
  "toc": {
   "base_numbering": 1,
   "nav_menu": {},
   "number_sections": true,
   "sideBar": true,
   "skip_h1_title": true,
   "title_cell": "Table of Contents",
   "title_sidebar": "Contents",
   "toc_cell": false,
   "toc_position": {},
   "toc_section_display": true,
   "toc_window_display": false
  }
 },
 "nbformat": 4,
 "nbformat_minor": 2
}
